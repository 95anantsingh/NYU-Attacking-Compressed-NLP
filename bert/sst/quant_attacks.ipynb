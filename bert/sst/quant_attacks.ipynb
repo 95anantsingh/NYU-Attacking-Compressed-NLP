{
 "cells": [
  {
   "cell_type": "code",
   "execution_count": 1,
   "metadata": {},
   "outputs": [
    {
     "name": "stderr",
     "output_type": "stream",
     "text": [
      "2022-05-12 18:26:38.895257: I tensorflow/stream_executor/platform/default/dso_loader.cc:53] Successfully opened dynamic library libcudart.so.11.0\n"
     ]
    }
   ],
   "source": [
    "import os\n",
    "os.environ[\"CUDA_VISIBLE_DEVICES\"]=\"\"\n",
    "from textattack.datasets import HuggingFaceDataset\n",
    "from textattack.models.wrappers import HuggingFaceModelWrapper\n",
    "from textattack.attack_recipes import TextFoolerJin2019\n",
    "from textattack.attacker import Attacker\n",
    "from textattack.models.wrappers import ModelWrapper\n",
    "import textattack\n",
    "\n",
    "from transformers import AutoTokenizer, AutoModelForSequenceClassification, pipeline\n",
    "import torch\n",
    "from torch import nn"
   ]
  },
  {
   "cell_type": "code",
   "execution_count": 2,
   "metadata": {},
   "outputs": [],
   "source": [
    "model = AutoModelForSequenceClassification.from_pretrained(\"bert_main_sst_model\").eval()\n",
    "tokenizer = AutoTokenizer.from_pretrained(\"bert_main_sst_model\")\n",
    "\n",
    "model_wrapper = HuggingFaceModelWrapper(model, tokenizer)\n",
    "\n",
    "quantized_model = torch.quantization.quantize_dynamic(\n",
    "            model,{nn.Linear}, dtype=torch.qint8\n",
    "        )\n",
    "model_wrapper_compressed = HuggingFaceModelWrapper(quantized_model, tokenizer)"
   ]
  },
  {
   "cell_type": "code",
   "execution_count": 3,
   "metadata": {
    "scrolled": true
   },
   "outputs": [
    {
     "name": "stderr",
     "output_type": "stream",
     "text": [
      "Reusing dataset glue (/home/sp6646/.cache/huggingface/datasets/glue/sst2/1.0.0/dacbe3125aa31d7f70367a07a8a9e72a5a0bfeb5fc42e75c9db75b96da6053ad)\n"
     ]
    },
    {
     "data": {
      "application/vnd.jupyter.widget-view+json": {
       "model_id": "adbd279dc46c446cba0a47240affbb05",
       "version_major": 2,
       "version_minor": 0
      },
      "text/plain": [
       "  0%|          | 0/3 [00:00<?, ?it/s]"
      ]
     },
     "metadata": {},
     "output_type": "display_data"
    },
    {
     "name": "stderr",
     "output_type": "stream",
     "text": [
      "textattack: Loading \u001b[94mdatasets\u001b[0m dataset \u001b[94mglue\u001b[0m, subset \u001b[94msst2\u001b[0m, split \u001b[94mvalidation\u001b[0m.\n",
      "textattack: Unknown if model of class <class 'transformers.models.bert.modeling_bert.BertForSequenceClassification'> compatible with goal function <class 'textattack.goal_functions.classification.untargeted_classification.UntargetedClassification'>.\n",
      "textattack: Logging to CSV at path quantized_textfooler_attacks.csv\n"
     ]
    },
    {
     "name": "stdout",
     "output_type": "stream",
     "text": [
      "Attack(\n",
      "  (search_method): GreedyWordSwapWIR(\n",
      "    (wir_method):  delete\n",
      "  )\n",
      "  (goal_function):  UntargetedClassification\n",
      "  (transformation):  WordSwapEmbedding(\n",
      "    (max_candidates):  50\n",
      "    (embedding):  WordEmbedding\n",
      "  )\n",
      "  (constraints): \n",
      "    (0): WordEmbeddingDistance(\n",
      "        (embedding):  WordEmbedding\n",
      "        (min_cos_sim):  0.5\n",
      "        (cased):  False\n",
      "        (include_unknown_words):  True\n",
      "        (compare_against_original):  True\n",
      "      )\n",
      "    (1): PartOfSpeech(\n",
      "        (tagger_type):  nltk\n",
      "        (tagset):  universal\n",
      "        (allow_verb_noun_swap):  True\n",
      "        (compare_against_original):  True\n",
      "      )\n",
      "    (2): UniversalSentenceEncoder(\n",
      "        (metric):  angular\n",
      "        (threshold):  0.840845057\n",
      "        (window_size):  15\n",
      "        (skip_text_shorter_than_window):  True\n",
      "        (compare_against_original):  False\n",
      "      )\n",
      "    (3): RepeatModification\n",
      "    (4): StopwordModification\n",
      "    (5): InputColumnModification(\n",
      "        (matching_column_labels):  ['premise', 'hypothesis']\n",
      "        (columns_to_ignore):  {'premise'}\n",
      "      )\n",
      "  (is_black_box):  True\n",
      ") \n",
      "\n"
     ]
    },
    {
     "name": "stderr",
     "output_type": "stream",
     "text": [
      "  0%|          | 0/200 [00:00<?, ?it/s]2022-05-12 18:27:12.809361: I tensorflow/stream_executor/platform/default/dso_loader.cc:53] Successfully opened dynamic library libcuda.so.1\n",
      "2022-05-12 18:27:12.833331: E tensorflow/stream_executor/cuda/cuda_driver.cc:328] failed call to cuInit: CUDA_ERROR_NO_DEVICE: no CUDA-capable device is detected\n",
      "2022-05-12 18:27:12.833372: I tensorflow/stream_executor/cuda/cuda_diagnostics.cc:169] retrieving CUDA diagnostic information for host: gr003.hpc.nyu.edu\n",
      "2022-05-12 18:27:12.833381: I tensorflow/stream_executor/cuda/cuda_diagnostics.cc:176] hostname: gr003.hpc.nyu.edu\n",
      "2022-05-12 18:27:12.833569: I tensorflow/stream_executor/cuda/cuda_diagnostics.cc:200] libcuda reported version is: Invalid argument: expected %d.%d, %d.%d.%d, or %d.%d.%d.%d form for driver version; got \"1\"\n",
      "2022-05-12 18:27:12.833595: I tensorflow/stream_executor/cuda/cuda_diagnostics.cc:204] kernel reported version is: 470.57.2\n",
      "2022-05-12 18:27:12.834005: I tensorflow/core/platform/cpu_feature_guard.cc:142] This TensorFlow binary is optimized with oneAPI Deep Neural Network Library (oneDNN) to use the following CPU instructions in performance-critical operations:  AVX2 AVX512F FMA\n",
      "To enable them in other operations, rebuild TensorFlow with the appropriate compiler flags.\n",
      "2022-05-12 18:27:14.390575: I tensorflow/compiler/mlir/mlir_graph_optimization_pass.cc:176] None of the MLIR Optimization Passes are enabled (registered 2)\n",
      "2022-05-12 18:27:14.617029: I tensorflow/core/platform/profile_utils/cpu_utils.cc:114] CPU Frequency: 2900000000 Hz\n",
      "  0%|          | 1/200 [00:35<1:56:53, 35.24s/it]/scratch/sp6646/envs_dirs/swap_env/lib/python3.8/site-packages/textattack/loggers/csv_logger.py:41: FutureWarning: The frame.append method is deprecated and will be removed from pandas in a future version. Use pandas.concat instead.\n",
      "  self.df = self.df.append(row, ignore_index=True)\n",
      "[Succeeded / Failed / Skipped / Total] 1 / 0 / 0 / 1:   0%|          | 1/200 [00:36<2:00:44, 36.40s/it]"
     ]
    },
    {
     "name": "stdout",
     "output_type": "stream",
     "text": [
      "--------------------------------------------- Result 1 ---------------------------------------------\n",
      "[[Positive (100%)]] --> [[Negative (52%)]]\n",
      "\n",
      "it 's a [[charming]] and [[often]] [[affecting]] [[journey]] . \n",
      "\n",
      "it 's a [[tasty]] and [[automatically]] [[afflicts]] [[backpacking]] . \n",
      "\n",
      "\n"
     ]
    },
    {
     "name": "stderr",
     "output_type": "stream",
     "text": [
      "[Succeeded / Failed / Skipped / Total] 1 / 0 / 0 / 1:   1%|          | 2/200 [00:43<1:11:43, 21.74s/it]/scratch/sp6646/envs_dirs/swap_env/lib/python3.8/site-packages/textattack/loggers/csv_logger.py:41: FutureWarning: The frame.append method is deprecated and will be removed from pandas in a future version. Use pandas.concat instead.\n",
      "  self.df = self.df.append(row, ignore_index=True)\n",
      "[Succeeded / Failed / Skipped / Total] 2 / 0 / 0 / 2:   1%|          | 2/200 [00:43<1:11:46, 21.75s/it]"
     ]
    },
    {
     "name": "stdout",
     "output_type": "stream",
     "text": [
      "--------------------------------------------- Result 2 ---------------------------------------------\n",
      "[[Negative (84%)]] --> [[Positive (93%)]]\n",
      "\n",
      "unflinchingly [[bleak]] and desperate \n",
      "\n",
      "unflinchingly [[baleful]] and desperate \n",
      "\n",
      "\n"
     ]
    },
    {
     "name": "stderr",
     "output_type": "stream",
     "text": [
      "[Succeeded / Failed / Skipped / Total] 2 / 0 / 0 / 2:   2%|▏         | 3/200 [01:11<1:18:21, 23.86s/it]/scratch/sp6646/envs_dirs/swap_env/lib/python3.8/site-packages/textattack/loggers/csv_logger.py:41: FutureWarning: The frame.append method is deprecated and will be removed from pandas in a future version. Use pandas.concat instead.\n",
      "  self.df = self.df.append(row, ignore_index=True)\n",
      "[Succeeded / Failed / Skipped / Total] 3 / 0 / 0 / 3:   2%|▏         | 3/200 [01:11<1:18:23, 23.88s/it]"
     ]
    },
    {
     "name": "stdout",
     "output_type": "stream",
     "text": [
      "--------------------------------------------- Result 3 ---------------------------------------------\n",
      "[[Positive (99%)]] --> [[Negative (51%)]]\n",
      "\n",
      "allows us to hope that nolan is [[poised]] to embark a [[major]] career as a commercial yet [[inventive]] filmmaker . \n",
      "\n",
      "allows us to hope that nolan is [[readies]] to embark a [[severe]] career as a commercial yet [[inventor]] filmmaker . \n",
      "\n",
      "\n"
     ]
    },
    {
     "name": "stderr",
     "output_type": "stream",
     "text": [
      "[Succeeded / Failed / Skipped / Total] 3 / 0 / 0 / 3:   2%|▏         | 4/200 [01:26<1:10:53, 21.70s/it]/scratch/sp6646/envs_dirs/swap_env/lib/python3.8/site-packages/textattack/loggers/csv_logger.py:41: FutureWarning: The frame.append method is deprecated and will be removed from pandas in a future version. Use pandas.concat instead.\n",
      "  self.df = self.df.append(row, ignore_index=True)\n",
      "[Succeeded / Failed / Skipped / Total] 4 / 0 / 0 / 4:   2%|▏         | 4/200 [01:26<1:10:54, 21.71s/it]"
     ]
    },
    {
     "name": "stdout",
     "output_type": "stream",
     "text": [
      "--------------------------------------------- Result 4 ---------------------------------------------\n",
      "[[Positive (92%)]] --> [[Negative (57%)]]\n",
      "\n",
      "the acting , costumes , music , cinematography and sound are all [[astounding]] [[given]] the production 's austere locales . \n",
      "\n",
      "the acting , costumes , music , cinematography and sound are all [[breathless]] [[referred]] the production 's austere locales . \n",
      "\n",
      "\n"
     ]
    },
    {
     "name": "stderr",
     "output_type": "stream",
     "text": [
      "[Succeeded / Failed / Skipped / Total] 4 / 0 / 0 / 4:   2%|▎         | 5/200 [01:54<1:14:42, 22.99s/it]/scratch/sp6646/envs_dirs/swap_env/lib/python3.8/site-packages/textattack/loggers/csv_logger.py:41: FutureWarning: The frame.append method is deprecated and will be removed from pandas in a future version. Use pandas.concat instead.\n",
      "  self.df = self.df.append(row, ignore_index=True)\n",
      "[Succeeded / Failed / Skipped / Total] 5 / 0 / 0 / 5:   2%|▎         | 5/200 [01:54<1:14:44, 23.00s/it]"
     ]
    },
    {
     "name": "stdout",
     "output_type": "stream",
     "text": [
      "--------------------------------------------- Result 5 ---------------------------------------------\n",
      "[[Negative (98%)]] --> [[Positive (70%)]]\n",
      "\n",
      "it 's slow -- [[very]] , very [[slow]] . \n",
      "\n",
      "it 's slow -- [[perfectly]] , very [[lento]] . \n",
      "\n",
      "\n"
     ]
    },
    {
     "name": "stderr",
     "output_type": "stream",
     "text": [
      "[Succeeded / Failed / Skipped / Total] 5 / 0 / 0 / 5:   3%|▎         | 6/200 [03:06<1:40:26, 31.06s/it]/scratch/sp6646/envs_dirs/swap_env/lib/python3.8/site-packages/textattack/loggers/csv_logger.py:41: FutureWarning: The frame.append method is deprecated and will be removed from pandas in a future version. Use pandas.concat instead.\n",
      "  self.df = self.df.append(row, ignore_index=True)\n",
      "[Succeeded / Failed / Skipped / Total] 6 / 0 / 0 / 6:   3%|▎         | 6/200 [03:06<1:40:27, 31.07s/it]"
     ]
    },
    {
     "name": "stdout",
     "output_type": "stream",
     "text": [
      "--------------------------------------------- Result 6 ---------------------------------------------\n",
      "[[Positive (96%)]] --> [[Negative (74%)]]\n",
      "\n",
      "although laced with humor and a few [[fanciful]] [[touches]] , the film is a [[refreshingly]] serious [[look]] at young women . \n",
      "\n",
      "although laced with humor and a few [[temperamental]] [[afflicting]] , the film is a [[blithely]] serious [[blankly]] at young women . \n",
      "\n",
      "\n"
     ]
    },
    {
     "name": "stderr",
     "output_type": "stream",
     "text": [
      "[Succeeded / Failed / Skipped / Total] 6 / 0 / 0 / 6:   4%|▎         | 7/200 [03:27<1:35:10, 29.59s/it]/scratch/sp6646/envs_dirs/swap_env/lib/python3.8/site-packages/textattack/loggers/csv_logger.py:41: FutureWarning: The frame.append method is deprecated and will be removed from pandas in a future version. Use pandas.concat instead.\n",
      "  self.df = self.df.append(row, ignore_index=True)\n",
      "[Succeeded / Failed / Skipped / Total] 7 / 0 / 0 / 7:   4%|▎         | 7/200 [03:27<1:35:11, 29.59s/it]"
     ]
    },
    {
     "name": "stdout",
     "output_type": "stream",
     "text": [
      "--------------------------------------------- Result 7 ---------------------------------------------\n",
      "[[Negative (97%)]] --> [[Positive (96%)]]\n",
      "\n",
      "a sometimes [[tedious]] film . \n",
      "\n",
      "a sometimes [[industrious]] film . \n",
      "\n",
      "\n"
     ]
    },
    {
     "name": "stderr",
     "output_type": "stream",
     "text": [
      "[Succeeded / Failed / Skipped / Total] 9 / 0 / 0 / 9:   5%|▌         | 10/200 [05:39<1:47:24, 33.92s/it]/scratch/sp6646/envs_dirs/swap_env/lib/python3.8/site-packages/textattack/loggers/csv_logger.py:41: FutureWarning: The frame.append method is deprecated and will be removed from pandas in a future version. Use pandas.concat instead.\n",
      "  self.df = self.df.append(row, ignore_index=True)\n",
      "[Succeeded / Failed / Skipped / Total] 10 / 0 / 0 / 10:   5%|▌         | 10/200 [05:39<1:47:24, 33.92s/it]"
     ]
    },
    {
     "name": "stdout",
     "output_type": "stream",
     "text": [
      "--------------------------------------------- Result 10 ---------------------------------------------\n",
      "[[Negative (90%)]] --> [[Positive (51%)]]\n",
      "\n",
      "in exactly 89 minutes , most of which passed as slowly as if i 'd been sitting naked on an igloo , formula 51 [[sank]] from quirky to [[jerky]] to [[utter]] turkey . \n",
      "\n",
      "in exactly 89 minutes , most of which passed as slowly as if i 'd been sitting naked on an igloo , formula 51 [[flowed]] from quirky to [[driest]] to [[absolute]] turkey . \n",
      "\n",
      "\n"
     ]
    },
    {
     "name": "stderr",
     "output_type": "stream",
     "text": [
      "[Succeeded / Failed / Skipped / Total] 10 / 0 / 0 / 10:   6%|▌         | 11/200 [07:01<2:00:49, 38.36s/it]/scratch/sp6646/envs_dirs/swap_env/lib/python3.8/site-packages/textattack/loggers/csv_logger.py:41: FutureWarning: The frame.append method is deprecated and will be removed from pandas in a future version. Use pandas.concat instead.\n",
      "  self.df = self.df.append(row, ignore_index=True)\n",
      "[Succeeded / Failed / Skipped / Total] 11 / 0 / 0 / 11:   6%|▌         | 11/200 [07:01<2:00:50, 38.36s/it]"
     ]
    },
    {
     "name": "stdout",
     "output_type": "stream",
     "text": [
      "--------------------------------------------- Result 11 ---------------------------------------------\n",
      "[[Positive (98%)]] --> [[Negative (51%)]]\n",
      "\n",
      "the [[mesmerizing]] performances of the [[leads]] [[keep]] the film grounded and [[keep]] the audience [[riveted]] . \n",
      "\n",
      "the [[scintillating]] performances of the [[culminate]] [[protected]] the film grounded and [[continue]] the audience [[dumbstruck]] . \n",
      "\n",
      "\n"
     ]
    },
    {
     "name": "stderr",
     "output_type": "stream",
     "text": [
      "[Succeeded / Failed / Skipped / Total] 11 / 0 / 0 / 11:   6%|▌         | 12/200 [07:30<1:57:42, 37.57s/it]/scratch/sp6646/envs_dirs/swap_env/lib/python3.8/site-packages/textattack/loggers/csv_logger.py:41: FutureWarning: The frame.append method is deprecated and will be removed from pandas in a future version. Use pandas.concat instead.\n",
      "  self.df = self.df.append(row, ignore_index=True)\n",
      "[Succeeded / Failed / Skipped / Total] 12 / 0 / 0 / 12:   6%|▌         | 12/200 [07:30<1:57:43, 37.57s/it]"
     ]
    },
    {
     "name": "stdout",
     "output_type": "stream",
     "text": [
      "--------------------------------------------- Result 12 ---------------------------------------------\n",
      "[[Negative (93%)]] --> [[Positive (57%)]]\n",
      "\n",
      "it takes a strange kind of laziness to [[waste]] the talents of robert forster , anne meara , eugene levy , and reginald veljohnson all in the same movie . \n",
      "\n",
      "it takes a strange kind of laziness to [[jingles]] the talents of robert forster , anne meara , eugene levy , and reginald veljohnson all in the same movie . \n",
      "\n",
      "\n"
     ]
    },
    {
     "name": "stderr",
     "output_type": "stream",
     "text": [
      "[Succeeded / Failed / Skipped / Total] 12 / 0 / 0 / 12:   6%|▋         | 13/200 [08:19<1:59:40, 38.40s/it]/scratch/sp6646/envs_dirs/swap_env/lib/python3.8/site-packages/textattack/loggers/csv_logger.py:41: FutureWarning: The frame.append method is deprecated and will be removed from pandas in a future version. Use pandas.concat instead.\n",
      "  self.df = self.df.append(row, ignore_index=True)\n",
      "[Succeeded / Failed / Skipped / Total] 13 / 0 / 0 / 13:   6%|▋         | 13/200 [08:19<1:59:41, 38.40s/it]"
     ]
    },
    {
     "name": "stdout",
     "output_type": "stream",
     "text": [
      "--------------------------------------------- Result 13 ---------------------------------------------\n",
      "[[Negative (99%)]] --> [[Positive (78%)]]\n",
      "\n",
      "... the [[film]] [[suffers]] from a [[lack]] of humor ( something needed to balance out the violence ) ... \n",
      "\n",
      "... the [[filmmakers]] [[underwent]] from a [[rarity]] of humor ( something needed to balance out the violence ) ... \n",
      "\n",
      "\n"
     ]
    },
    {
     "name": "stderr",
     "output_type": "stream",
     "text": [
      "[Succeeded / Failed / Skipped / Total] 13 / 0 / 0 / 13:   7%|▋         | 14/200 [08:32<1:53:35, 36.64s/it]/scratch/sp6646/envs_dirs/swap_env/lib/python3.8/site-packages/textattack/loggers/csv_logger.py:41: FutureWarning: The frame.append method is deprecated and will be removed from pandas in a future version. Use pandas.concat instead.\n",
      "  self.df = self.df.append(row, ignore_index=True)\n",
      "[Succeeded / Failed / Skipped / Total] 14 / 0 / 0 / 14:   7%|▋         | 14/200 [08:32<1:53:35, 36.64s/it]"
     ]
    },
    {
     "name": "stdout",
     "output_type": "stream",
     "text": [
      "--------------------------------------------- Result 14 ---------------------------------------------\n",
      "[[Positive (66%)]] --> [[Negative (54%)]]\n",
      "\n",
      "we root for ( clara and paul ) , even like them , [[though]] perhaps it 's an emotion closer to pity . \n",
      "\n",
      "we root for ( clara and paul ) , even like them , [[than]] perhaps it 's an emotion closer to pity . \n",
      "\n",
      "\n"
     ]
    },
    {
     "name": "stderr",
     "output_type": "stream",
     "text": [
      "[Succeeded / Failed / Skipped / Total] 14 / 0 / 0 / 14:   8%|▊         | 15/200 [08:58<1:50:44, 35.92s/it]/scratch/sp6646/envs_dirs/swap_env/lib/python3.8/site-packages/textattack/loggers/csv_logger.py:41: FutureWarning: The frame.append method is deprecated and will be removed from pandas in a future version. Use pandas.concat instead.\n",
      "  self.df = self.df.append(row, ignore_index=True)\n",
      "[Succeeded / Failed / Skipped / Total] 15 / 0 / 0 / 15:   8%|▊         | 15/200 [08:58<1:50:45, 35.92s/it]"
     ]
    },
    {
     "name": "stdout",
     "output_type": "stream",
     "text": [
      "--------------------------------------------- Result 15 ---------------------------------------------\n",
      "[[Negative (97%)]] --> [[Positive (53%)]]\n",
      "\n",
      "even horror fans will most likely not find what they 're seeking with trouble every day ; the movie [[lacks]] both thrills and humor . \n",
      "\n",
      "even horror fans will most likely not find what they 're seeking with trouble every day ; the movie [[dearth]] both thrills and humor . \n",
      "\n",
      "\n"
     ]
    },
    {
     "name": "stderr",
     "output_type": "stream",
     "text": [
      "[Succeeded / Failed / Skipped / Total] 15 / 0 / 0 / 15:   8%|▊         | 16/200 [10:21<1:59:03, 38.82s/it]/scratch/sp6646/envs_dirs/swap_env/lib/python3.8/site-packages/textattack/loggers/csv_logger.py:41: FutureWarning: The frame.append method is deprecated and will be removed from pandas in a future version. Use pandas.concat instead.\n",
      "  self.df = self.df.append(row, ignore_index=True)\n",
      "[Succeeded / Failed / Skipped / Total] 15 / 1 / 0 / 16:   8%|▊         | 16/200 [10:21<1:59:03, 38.82s/it]"
     ]
    },
    {
     "name": "stdout",
     "output_type": "stream",
     "text": [
      "--------------------------------------------- Result 16 ---------------------------------------------\n",
      "[[Positive (98%)]] --> [[[FAILED]]]\n",
      "\n",
      "a gorgeous , high-spirited musical from india that exquisitely blends music , dance , song , and high drama . \n",
      "\n",
      "\n"
     ]
    },
    {
     "name": "stderr",
     "output_type": "stream",
     "text": [
      "[Succeeded / Failed / Skipped / Total] 15 / 1 / 0 / 16:   8%|▊         | 17/200 [10:35<1:53:56, 37.36s/it]/scratch/sp6646/envs_dirs/swap_env/lib/python3.8/site-packages/textattack/loggers/csv_logger.py:41: FutureWarning: The frame.append method is deprecated and will be removed from pandas in a future version. Use pandas.concat instead.\n",
      "  self.df = self.df.append(row, ignore_index=True)\n",
      "[Succeeded / Failed / Skipped / Total] 16 / 1 / 0 / 17:   8%|▊         | 17/200 [10:35<1:53:56, 37.36s/it]"
     ]
    },
    {
     "name": "stdout",
     "output_type": "stream",
     "text": [
      "--------------------------------------------- Result 17 ---------------------------------------------\n",
      "[[Positive (97%)]] --> [[Negative (60%)]]\n",
      "\n",
      "the emotions are [[raw]] and will strike a nerve with anyone who 's ever had family trauma . \n",
      "\n",
      "the emotions are [[coarse]] and will strike a nerve with anyone who 's ever had family trauma . \n",
      "\n",
      "\n"
     ]
    },
    {
     "name": "stderr",
     "output_type": "stream",
     "text": [
      "[Succeeded / Failed / Skipped / Total] 16 / 1 / 0 / 17:   9%|▉         | 18/200 [11:58<2:01:03, 39.91s/it]/scratch/sp6646/envs_dirs/swap_env/lib/python3.8/site-packages/textattack/loggers/csv_logger.py:41: FutureWarning: The frame.append method is deprecated and will be removed from pandas in a future version. Use pandas.concat instead.\n",
      "  self.df = self.df.append(row, ignore_index=True)\n",
      "[Succeeded / Failed / Skipped / Total] 16 / 2 / 0 / 18:   9%|▉         | 18/200 [11:58<2:01:03, 39.91s/it]"
     ]
    },
    {
     "name": "stdout",
     "output_type": "stream",
     "text": [
      "--------------------------------------------- Result 18 ---------------------------------------------\n",
      "[[Positive (94%)]] --> [[[FAILED]]]\n",
      "\n",
      "audrey tatou has a knack for picking roles that magnify her outrageous charm , and in this literate french comedy , she 's as morning-glory exuberant as she was in amélie . \n",
      "\n",
      "\n"
     ]
    },
    {
     "name": "stderr",
     "output_type": "stream",
     "text": [
      "[Succeeded / Failed / Skipped / Total] 16 / 2 / 0 / 18:  10%|▉         | 19/200 [12:53<2:02:46, 40.70s/it]/scratch/sp6646/envs_dirs/swap_env/lib/python3.8/site-packages/textattack/loggers/csv_logger.py:41: FutureWarning: The frame.append method is deprecated and will be removed from pandas in a future version. Use pandas.concat instead.\n",
      "  self.df = self.df.append(row, ignore_index=True)\n",
      "[Succeeded / Failed / Skipped / Total] 16 / 3 / 0 / 19:  10%|▉         | 19/200 [12:53<2:02:47, 40.70s/it]"
     ]
    },
    {
     "name": "stdout",
     "output_type": "stream",
     "text": [
      "--------------------------------------------- Result 19 ---------------------------------------------\n",
      "[[Negative (99%)]] --> [[[FAILED]]]\n",
      "\n",
      "... the movie is just a plain old monster . \n",
      "\n",
      "\n"
     ]
    },
    {
     "name": "stderr",
     "output_type": "stream",
     "text": [
      "[Succeeded / Failed / Skipped / Total] 16 / 3 / 0 / 19:  10%|█         | 20/200 [13:28<2:01:17, 40.43s/it]/scratch/sp6646/envs_dirs/swap_env/lib/python3.8/site-packages/textattack/loggers/csv_logger.py:41: FutureWarning: The frame.append method is deprecated and will be removed from pandas in a future version. Use pandas.concat instead.\n",
      "  self.df = self.df.append(row, ignore_index=True)\n",
      "[Succeeded / Failed / Skipped / Total] 17 / 3 / 0 / 20:  10%|█         | 20/200 [13:28<2:01:17, 40.43s/it]"
     ]
    },
    {
     "name": "stdout",
     "output_type": "stream",
     "text": [
      "--------------------------------------------- Result 20 ---------------------------------------------\n",
      "[[Negative (92%)]] --> [[Positive (58%)]]\n",
      "\n",
      "in its best moments , resembles a [[bad]] high school production of grease , without [[benefit]] of song . \n",
      "\n",
      "in its best moments , resembles a [[wicked]] high school production of grease , without [[allowances]] of song . \n",
      "\n",
      "\n"
     ]
    },
    {
     "name": "stderr",
     "output_type": "stream",
     "text": [
      "[Succeeded / Failed / Skipped / Total] 17 / 3 / 0 / 20:  10%|█         | 21/200 [13:52<1:58:12, 39.62s/it]/scratch/sp6646/envs_dirs/swap_env/lib/python3.8/site-packages/textattack/loggers/csv_logger.py:41: FutureWarning: The frame.append method is deprecated and will be removed from pandas in a future version. Use pandas.concat instead.\n",
      "  self.df = self.df.append(row, ignore_index=True)\n",
      "[Succeeded / Failed / Skipped / Total] 18 / 3 / 0 / 21:  10%|█         | 21/200 [13:52<1:58:12, 39.62s/it]"
     ]
    },
    {
     "name": "stdout",
     "output_type": "stream",
     "text": [
      "--------------------------------------------- Result 21 ---------------------------------------------\n",
      "[[Negative (65%)]] --> [[Positive (62%)]]\n",
      "\n",
      "pumpkin takes an admirable look at the hypocrisy of political correctness , but it does so with such an [[uneven]] tone that you never know when humor ends and tragedy begins . \n",
      "\n",
      "pumpkin takes an admirable look at the hypocrisy of political correctness , but it does so with such an [[lopsided]] tone that you never know when humor ends and tragedy begins . \n",
      "\n",
      "\n"
     ]
    },
    {
     "name": "stderr",
     "output_type": "stream",
     "text": [
      "[Succeeded / Failed / Skipped / Total] 18 / 3 / 0 / 21:  11%|█         | 22/200 [13:53<1:52:26, 37.90s/it]/scratch/sp6646/envs_dirs/swap_env/lib/python3.8/site-packages/textattack/loggers/csv_logger.py:41: FutureWarning: The frame.append method is deprecated and will be removed from pandas in a future version. Use pandas.concat instead.\n",
      "  self.df = self.df.append(row, ignore_index=True)\n",
      "[Succeeded / Failed / Skipped / Total] 18 / 3 / 1 / 22:  11%|█         | 22/200 [13:53<1:52:26, 37.90s/it]"
     ]
    },
    {
     "name": "stdout",
     "output_type": "stream",
     "text": [
      "--------------------------------------------- Result 22 ---------------------------------------------\n",
      "[[Positive (70%)]] --> [[[SKIPPED]]]\n",
      "\n",
      "the iditarod lasts for days - this just felt like it did . \n",
      "\n",
      "\n"
     ]
    },
    {
     "name": "stderr",
     "output_type": "stream",
     "text": [
      "[Succeeded / Failed / Skipped / Total] 18 / 3 / 1 / 22:  12%|█▏        | 23/200 [13:55<1:47:07, 36.31s/it]/scratch/sp6646/envs_dirs/swap_env/lib/python3.8/site-packages/textattack/loggers/csv_logger.py:41: FutureWarning: The frame.append method is deprecated and will be removed from pandas in a future version. Use pandas.concat instead.\n",
      "  self.df = self.df.append(row, ignore_index=True)\n",
      "[Succeeded / Failed / Skipped / Total] 18 / 3 / 2 / 23:  12%|█▏        | 23/200 [13:55<1:47:07, 36.32s/it]"
     ]
    },
    {
     "name": "stdout",
     "output_type": "stream",
     "text": [
      "--------------------------------------------- Result 23 ---------------------------------------------\n",
      "[[Positive (86%)]] --> [[[SKIPPED]]]\n",
      "\n",
      "holden caulfield did it better . \n",
      "\n",
      "\n"
     ]
    },
    {
     "name": "stderr",
     "output_type": "stream",
     "text": [
      "[Succeeded / Failed / Skipped / Total] 18 / 3 / 2 / 23:  12%|█▏        | 24/200 [14:31<1:46:32, 36.32s/it]/scratch/sp6646/envs_dirs/swap_env/lib/python3.8/site-packages/textattack/loggers/csv_logger.py:41: FutureWarning: The frame.append method is deprecated and will be removed from pandas in a future version. Use pandas.concat instead.\n",
      "  self.df = self.df.append(row, ignore_index=True)\n",
      "[Succeeded / Failed / Skipped / Total] 19 / 3 / 2 / 24:  12%|█▏        | 24/200 [14:31<1:46:33, 36.32s/it]"
     ]
    },
    {
     "name": "stdout",
     "output_type": "stream",
     "text": [
      "--------------------------------------------- Result 24 ---------------------------------------------\n",
      "[[Positive (100%)]] --> [[Negative (52%)]]\n",
      "\n",
      "a delectable and [[intriguing]] thriller [[filled]] with surprises , read my lips is an [[original]] . \n",
      "\n",
      "a delectable and [[outlandish]] thriller [[occupied]] with surprises , read my lips is an [[primitive]] . \n",
      "\n",
      "\n"
     ]
    },
    {
     "name": "stderr",
     "output_type": "stream",
     "text": [
      "[Succeeded / Failed / Skipped / Total] 19 / 3 / 2 / 24:  12%|█▎        | 25/200 [14:50<1:43:54, 35.63s/it]/scratch/sp6646/envs_dirs/swap_env/lib/python3.8/site-packages/textattack/loggers/csv_logger.py:41: FutureWarning: The frame.append method is deprecated and will be removed from pandas in a future version. Use pandas.concat instead.\n",
      "  self.df = self.df.append(row, ignore_index=True)\n",
      "[Succeeded / Failed / Skipped / Total] 20 / 3 / 2 / 25:  12%|█▎        | 25/200 [14:50<1:43:54, 35.63s/it]"
     ]
    },
    {
     "name": "stdout",
     "output_type": "stream",
     "text": [
      "--------------------------------------------- Result 25 ---------------------------------------------\n",
      "[[Positive (93%)]] --> [[Negative (58%)]]\n",
      "\n",
      "seldom has a movie [[so]] closely matched the spirit of a man and his work . \n",
      "\n",
      "seldom has a movie [[even]] closely matched the spirit of a man and his work . \n",
      "\n",
      "\n"
     ]
    },
    {
     "name": "stderr",
     "output_type": "stream",
     "text": [
      "[Succeeded / Failed / Skipped / Total] 20 / 3 / 2 / 25:  13%|█▎        | 26/200 [15:17<1:42:17, 35.27s/it]/scratch/sp6646/envs_dirs/swap_env/lib/python3.8/site-packages/textattack/loggers/csv_logger.py:41: FutureWarning: The frame.append method is deprecated and will be removed from pandas in a future version. Use pandas.concat instead.\n",
      "  self.df = self.df.append(row, ignore_index=True)\n",
      "[Succeeded / Failed / Skipped / Total] 21 / 3 / 2 / 26:  13%|█▎        | 26/200 [15:17<1:42:17, 35.27s/it]"
     ]
    },
    {
     "name": "stdout",
     "output_type": "stream",
     "text": [
      "--------------------------------------------- Result 26 ---------------------------------------------\n",
      "[[Negative (85%)]] --> [[Positive (62%)]]\n",
      "\n",
      "nicks , seemingly uncertain what 's [[going]] to make people laugh , runs the gamut from [[stale]] parody to raunchy sex gags to formula romantic comedy . \n",
      "\n",
      "nicks , seemingly uncertain what 's [[goes]] to make people laugh , runs the gamut from [[yesteryear]] parody to raunchy sex gags to formula romantic comedy . \n",
      "\n",
      "\n"
     ]
    },
    {
     "name": "stderr",
     "output_type": "stream",
     "text": [
      "[Succeeded / Failed / Skipped / Total] 21 / 3 / 2 / 26:  14%|█▎        | 27/200 [16:16<1:44:14, 36.15s/it]/scratch/sp6646/envs_dirs/swap_env/lib/python3.8/site-packages/textattack/loggers/csv_logger.py:41: FutureWarning: The frame.append method is deprecated and will be removed from pandas in a future version. Use pandas.concat instead.\n",
      "  self.df = self.df.append(row, ignore_index=True)\n",
      "[Succeeded / Failed / Skipped / Total] 22 / 3 / 2 / 27:  14%|█▎        | 27/200 [16:16<1:44:14, 36.15s/it]"
     ]
    },
    {
     "name": "stdout",
     "output_type": "stream",
     "text": [
      "--------------------------------------------- Result 27 ---------------------------------------------\n",
      "[[Negative (72%)]] --> [[Positive (53%)]]\n",
      "\n",
      "the [[action]] [[switches]] between past and present , but the material link is too [[tenuous]] to anchor the emotional connections that purport to [[span]] a 125-year divide . \n",
      "\n",
      "the [[deeds]] [[swapped]] between past and present , but the material link is too [[fragile]] to anchor the emotional connections that purport to [[extended]] a 125-year divide . \n",
      "\n",
      "\n"
     ]
    },
    {
     "name": "stderr",
     "output_type": "stream",
     "text": [
      "[Succeeded / Failed / Skipped / Total] 22 / 3 / 2 / 27:  14%|█▍        | 28/200 [17:00<1:44:29, 36.45s/it]/scratch/sp6646/envs_dirs/swap_env/lib/python3.8/site-packages/textattack/loggers/csv_logger.py:41: FutureWarning: The frame.append method is deprecated and will be removed from pandas in a future version. Use pandas.concat instead.\n",
      "  self.df = self.df.append(row, ignore_index=True)\n",
      "[Succeeded / Failed / Skipped / Total] 23 / 3 / 2 / 28:  14%|█▍        | 28/200 [17:00<1:44:29, 36.45s/it]"
     ]
    },
    {
     "name": "stdout",
     "output_type": "stream",
     "text": [
      "--------------------------------------------- Result 28 ---------------------------------------------\n",
      "[[Positive (99%)]] --> [[Negative (54%)]]\n",
      "\n",
      "it 's an offbeat [[treat]] that pokes [[fun]] at the democratic exercise while also examining its significance for those who take part . \n",
      "\n",
      "it 's an offbeat [[broached]] that pokes [[droll]] at the democratic exercise while also examining its significance for those who take part . \n",
      "\n",
      "\n"
     ]
    },
    {
     "name": "stderr",
     "output_type": "stream",
     "text": [
      "[Succeeded / Failed / Skipped / Total] 23 / 3 / 2 / 28:  14%|█▍        | 29/200 [17:24<1:42:36, 36.00s/it]/scratch/sp6646/envs_dirs/swap_env/lib/python3.8/site-packages/textattack/loggers/csv_logger.py:41: FutureWarning: The frame.append method is deprecated and will be removed from pandas in a future version. Use pandas.concat instead.\n",
      "  self.df = self.df.append(row, ignore_index=True)\n",
      "[Succeeded / Failed / Skipped / Total] 24 / 3 / 2 / 29:  14%|█▍        | 29/200 [17:24<1:42:36, 36.00s/it]"
     ]
    },
    {
     "name": "stdout",
     "output_type": "stream",
     "text": [
      "--------------------------------------------- Result 29 ---------------------------------------------\n",
      "[[Negative (83%)]] --> [[Positive (55%)]]\n",
      "\n",
      "it 's a cookie-cutter [[movie]] , a cut-and-paste job . \n",
      "\n",
      "it 's a cookie-cutter [[moviemaking]] , a cut-and-paste job . \n",
      "\n",
      "\n"
     ]
    },
    {
     "name": "stderr",
     "output_type": "stream",
     "text": [
      "[Succeeded / Failed / Skipped / Total] 24 / 3 / 2 / 29:  15%|█▌        | 30/200 [17:37<1:39:52, 35.25s/it]/scratch/sp6646/envs_dirs/swap_env/lib/python3.8/site-packages/textattack/loggers/csv_logger.py:41: FutureWarning: The frame.append method is deprecated and will be removed from pandas in a future version. Use pandas.concat instead.\n",
      "  self.df = self.df.append(row, ignore_index=True)\n",
      "[Succeeded / Failed / Skipped / Total] 25 / 3 / 2 / 30:  15%|█▌        | 30/200 [17:37<1:39:52, 35.25s/it]"
     ]
    },
    {
     "name": "stdout",
     "output_type": "stream",
     "text": [
      "--------------------------------------------- Result 30 ---------------------------------------------\n",
      "[[Negative (96%)]] --> [[Positive (56%)]]\n",
      "\n",
      "i had to look away - this was god [[awful]] . \n",
      "\n",
      "i had to look away - this was god [[outrageous]] . \n",
      "\n",
      "\n"
     ]
    },
    {
     "name": "stderr",
     "output_type": "stream",
     "text": [
      "[Succeeded / Failed / Skipped / Total] 25 / 3 / 2 / 30:  16%|█▌        | 31/200 [18:56<1:43:17, 36.67s/it]/scratch/sp6646/envs_dirs/swap_env/lib/python3.8/site-packages/textattack/loggers/csv_logger.py:41: FutureWarning: The frame.append method is deprecated and will be removed from pandas in a future version. Use pandas.concat instead.\n",
      "  self.df = self.df.append(row, ignore_index=True)\n",
      "[Succeeded / Failed / Skipped / Total] 25 / 4 / 2 / 31:  16%|█▌        | 31/200 [18:56<1:43:17, 36.67s/it]"
     ]
    },
    {
     "name": "stdout",
     "output_type": "stream",
     "text": [
      "--------------------------------------------- Result 31 ---------------------------------------------\n",
      "[[Positive (99%)]] --> [[[FAILED]]]\n",
      "\n",
      "thanks to scott 's charismatic roger and eisenberg 's sweet nephew , roger dodger is one of the most compelling variations on in the company of men . \n",
      "\n",
      "\n"
     ]
    },
    {
     "name": "stderr",
     "output_type": "stream",
     "text": [
      "[Succeeded / Failed / Skipped / Total] 25 / 4 / 2 / 31:  16%|█▌        | 32/200 [19:37<1:43:02, 36.80s/it]/scratch/sp6646/envs_dirs/swap_env/lib/python3.8/site-packages/textattack/loggers/csv_logger.py:41: FutureWarning: The frame.append method is deprecated and will be removed from pandas in a future version. Use pandas.concat instead.\n",
      "  self.df = self.df.append(row, ignore_index=True)\n",
      "[Succeeded / Failed / Skipped / Total] 26 / 4 / 2 / 32:  16%|█▌        | 32/200 [19:37<1:43:02, 36.80s/it]"
     ]
    },
    {
     "name": "stdout",
     "output_type": "stream",
     "text": [
      "--------------------------------------------- Result 32 ---------------------------------------------\n",
      "[[Negative (95%)]] --> [[Positive (87%)]]\n",
      "\n",
      "... designed to provide a mix of smiles and tears , `` crossroads '' [[instead]] provokes a handful of unintentional howlers and numerous [[yawns]] . \n",
      "\n",
      "... designed to provide a mix of smiles and tears , `` crossroads '' [[rather]] provokes a handful of unintentional howlers and numerous [[grins]] . \n",
      "\n",
      "\n"
     ]
    },
    {
     "name": "stderr",
     "output_type": "stream",
     "text": [
      "[Succeeded / Failed / Skipped / Total] 26 / 4 / 2 / 32:  16%|█▋        | 33/200 [20:34<1:44:05, 37.40s/it]/scratch/sp6646/envs_dirs/swap_env/lib/python3.8/site-packages/textattack/loggers/csv_logger.py:41: FutureWarning: The frame.append method is deprecated and will be removed from pandas in a future version. Use pandas.concat instead.\n",
      "  self.df = self.df.append(row, ignore_index=True)\n",
      "[Succeeded / Failed / Skipped / Total] 26 / 5 / 2 / 33:  16%|█▋        | 33/200 [20:34<1:44:06, 37.40s/it]"
     ]
    },
    {
     "name": "stdout",
     "output_type": "stream",
     "text": [
      "--------------------------------------------- Result 33 ---------------------------------------------\n",
      "[[Positive (99%)]] --> [[[FAILED]]]\n",
      "\n",
      "a gorgeous , witty , seductive movie . \n",
      "\n",
      "\n"
     ]
    },
    {
     "name": "stderr",
     "output_type": "stream",
     "text": [
      "[Succeeded / Failed / Skipped / Total] 26 / 5 / 2 / 33:  17%|█▋        | 34/200 [21:57<1:47:10, 38.74s/it]/scratch/sp6646/envs_dirs/swap_env/lib/python3.8/site-packages/textattack/loggers/csv_logger.py:41: FutureWarning: The frame.append method is deprecated and will be removed from pandas in a future version. Use pandas.concat instead.\n",
      "  self.df = self.df.append(row, ignore_index=True)\n",
      "[Succeeded / Failed / Skipped / Total] 26 / 6 / 2 / 34:  17%|█▋        | 34/200 [21:57<1:47:10, 38.74s/it]"
     ]
    },
    {
     "name": "stdout",
     "output_type": "stream",
     "text": [
      "--------------------------------------------- Result 34 ---------------------------------------------\n",
      "[[Negative (75%)]] --> [[[FAILED]]]\n",
      "\n",
      "if the movie succeeds in instilling a wary sense of ` there but for the grace of god , ' it is far too self-conscious to draw you deeply into its world . \n",
      "\n",
      "\n"
     ]
    },
    {
     "name": "stderr",
     "output_type": "stream",
     "text": [
      "[Succeeded / Failed / Skipped / Total] 26 / 6 / 2 / 34:  18%|█▊        | 35/200 [22:32<1:46:16, 38.65s/it]/scratch/sp6646/envs_dirs/swap_env/lib/python3.8/site-packages/textattack/loggers/csv_logger.py:41: FutureWarning: The frame.append method is deprecated and will be removed from pandas in a future version. Use pandas.concat instead.\n",
      "  self.df = self.df.append(row, ignore_index=True)\n",
      "[Succeeded / Failed / Skipped / Total] 27 / 6 / 2 / 35:  18%|█▊        | 35/200 [22:32<1:46:16, 38.65s/it]"
     ]
    },
    {
     "name": "stdout",
     "output_type": "stream",
     "text": [
      "--------------------------------------------- Result 35 ---------------------------------------------\n",
      "[[Negative (98%)]] --> [[Positive (53%)]]\n",
      "\n",
      "it [[does]] n't believe in itself , it has no [[sense]] of [[humor]] ... it 's just plain [[bored]] . \n",
      "\n",
      "it [[doing]] n't believe in itself , it has no [[foreboding]] of [[laughing]] ... it 's just plain [[annoy]] . \n",
      "\n",
      "\n"
     ]
    },
    {
     "name": "stderr",
     "output_type": "stream",
     "text": [
      "[Succeeded / Failed / Skipped / Total] 27 / 6 / 2 / 35:  18%|█▊        | 36/200 [22:54<1:44:20, 38.17s/it]/scratch/sp6646/envs_dirs/swap_env/lib/python3.8/site-packages/textattack/loggers/csv_logger.py:41: FutureWarning: The frame.append method is deprecated and will be removed from pandas in a future version. Use pandas.concat instead.\n",
      "  self.df = self.df.append(row, ignore_index=True)\n",
      "[Succeeded / Failed / Skipped / Total] 28 / 6 / 2 / 36:  18%|█▊        | 36/200 [22:54<1:44:20, 38.17s/it]"
     ]
    },
    {
     "name": "stdout",
     "output_type": "stream",
     "text": [
      "--------------------------------------------- Result 36 ---------------------------------------------\n",
      "[[Negative (98%)]] --> [[Positive (91%)]]\n",
      "\n",
      "a sequence of [[ridiculous]] shoot - 'em - up scenes . \n",
      "\n",
      "a sequence of [[ironic]] shoot - 'em - up scenes . \n",
      "\n",
      "\n"
     ]
    },
    {
     "name": "stderr",
     "output_type": "stream",
     "text": [
      "[Succeeded / Failed / Skipped / Total] 28 / 6 / 2 / 36:  18%|█▊        | 37/200 [23:26<1:43:17, 38.02s/it]/scratch/sp6646/envs_dirs/swap_env/lib/python3.8/site-packages/textattack/loggers/csv_logger.py:41: FutureWarning: The frame.append method is deprecated and will be removed from pandas in a future version. Use pandas.concat instead.\n",
      "  self.df = self.df.append(row, ignore_index=True)\n",
      "[Succeeded / Failed / Skipped / Total] 29 / 6 / 2 / 37:  18%|█▊        | 37/200 [23:26<1:43:17, 38.02s/it]"
     ]
    },
    {
     "name": "stdout",
     "output_type": "stream",
     "text": [
      "--------------------------------------------- Result 37 ---------------------------------------------\n",
      "[[Positive (90%)]] --> [[Negative (57%)]]\n",
      "\n",
      "the weight of the piece , the unerring professionalism of the [[chilly]] production , and the fascination embedded in the lurid topic [[prove]] recommendation enough . \n",
      "\n",
      "the weight of the piece , the unerring professionalism of the [[frigid]] production , and the fascination embedded in the lurid topic [[test]] recommendation enough . \n",
      "\n",
      "\n"
     ]
    },
    {
     "name": "stderr",
     "output_type": "stream",
     "text": [
      "[Succeeded / Failed / Skipped / Total] 29 / 6 / 2 / 37:  19%|█▉        | 38/200 [23:41<1:41:00, 37.41s/it]/scratch/sp6646/envs_dirs/swap_env/lib/python3.8/site-packages/textattack/loggers/csv_logger.py:41: FutureWarning: The frame.append method is deprecated and will be removed from pandas in a future version. Use pandas.concat instead.\n",
      "  self.df = self.df.append(row, ignore_index=True)\n",
      "[Succeeded / Failed / Skipped / Total] 30 / 6 / 2 / 38:  19%|█▉        | 38/200 [23:41<1:41:01, 37.41s/it]"
     ]
    },
    {
     "name": "stdout",
     "output_type": "stream",
     "text": [
      "--------------------------------------------- Result 38 ---------------------------------------------\n",
      "[[Negative (95%)]] --> [[Positive (51%)]]\n",
      "\n",
      "( w ) hile long on amiable monkeys and worthy environmentalism , jane goodall 's wild chimpanzees is [[short]] on the thrills the oversize medium demands . \n",
      "\n",
      "( w ) hile long on amiable monkeys and worthy environmentalism , jane goodall 's wild chimpanzees is [[succinct]] on the thrills the oversize medium demands . \n",
      "\n",
      "\n"
     ]
    },
    {
     "name": "stderr",
     "output_type": "stream",
     "text": [
      "[Succeeded / Failed / Skipped / Total] 30 / 6 / 2 / 38:  20%|█▉        | 39/200 [24:39<1:41:46, 37.93s/it]/scratch/sp6646/envs_dirs/swap_env/lib/python3.8/site-packages/textattack/loggers/csv_logger.py:41: FutureWarning: The frame.append method is deprecated and will be removed from pandas in a future version. Use pandas.concat instead.\n",
      "  self.df = self.df.append(row, ignore_index=True)\n",
      "[Succeeded / Failed / Skipped / Total] 31 / 6 / 2 / 39:  20%|█▉        | 39/200 [24:39<1:41:46, 37.93s/it]"
     ]
    },
    {
     "name": "stdout",
     "output_type": "stream",
     "text": [
      "--------------------------------------------- Result 39 ---------------------------------------------\n",
      "[[Positive (99%)]] --> [[Negative (59%)]]\n",
      "\n",
      "as surreal as a [[dream]] and as [[detailed]] as a [[photograph]] , as visually [[dexterous]] as it is at [[times]] imaginatively [[overwhelming]] . \n",
      "\n",
      "as surreal as a [[slept]] and as [[caution]] as a [[pictured]] , as visually [[smarter]] as it is at [[dated]] imaginatively [[grande]] . \n",
      "\n",
      "\n"
     ]
    },
    {
     "name": "stderr",
     "output_type": "stream",
     "text": [
      "[Succeeded / Failed / Skipped / Total] 31 / 6 / 2 / 39:  20%|██        | 40/200 [25:19<1:41:19, 37.99s/it]/scratch/sp6646/envs_dirs/swap_env/lib/python3.8/site-packages/textattack/loggers/csv_logger.py:41: FutureWarning: The frame.append method is deprecated and will be removed from pandas in a future version. Use pandas.concat instead.\n",
      "  self.df = self.df.append(row, ignore_index=True)\n",
      "[Succeeded / Failed / Skipped / Total] 32 / 6 / 2 / 40:  20%|██        | 40/200 [25:19<1:41:19, 38.00s/it]"
     ]
    },
    {
     "name": "stdout",
     "output_type": "stream",
     "text": [
      "--------------------------------------------- Result 40 ---------------------------------------------\n",
      "[[Positive (99%)]] --> [[Negative (78%)]]\n",
      "\n",
      "[[escaping]] the studio , piccoli is [[warmly]] [[affecting]] and so is this adroitly minimalist movie . \n",
      "\n",
      "[[leaks]] the studio , piccoli is [[sincerest]] [[repercussions]] and so is this adroitly minimalist movie . \n",
      "\n",
      "\n"
     ]
    },
    {
     "name": "stderr",
     "output_type": "stream",
     "text": [
      "[Succeeded / Failed / Skipped / Total] 32 / 6 / 2 / 40:  20%|██        | 41/200 [26:21<1:42:13, 38.57s/it]/scratch/sp6646/envs_dirs/swap_env/lib/python3.8/site-packages/textattack/loggers/csv_logger.py:41: FutureWarning: The frame.append method is deprecated and will be removed from pandas in a future version. Use pandas.concat instead.\n",
      "  self.df = self.df.append(row, ignore_index=True)\n",
      "[Succeeded / Failed / Skipped / Total] 33 / 6 / 2 / 41:  20%|██        | 41/200 [26:21<1:42:13, 38.58s/it]"
     ]
    },
    {
     "name": "stdout",
     "output_type": "stream",
     "text": [
      "--------------------------------------------- Result 41 ---------------------------------------------\n",
      "[[Positive (100%)]] --> [[Negative (66%)]]\n",
      "\n",
      "there 's ... [[tremendous]] energy from the [[cast]] , a sense of [[playfulness]] and excitement that seems [[appropriate]] . \n",
      "\n",
      "there 's ... [[substantial]] energy from the [[hurled]] , a sense of [[condescension]] and excitement that seems [[punctual]] . \n",
      "\n",
      "\n"
     ]
    },
    {
     "name": "stderr",
     "output_type": "stream",
     "text": [
      "[Succeeded / Failed / Skipped / Total] 33 / 6 / 2 / 41:  21%|██        | 42/200 [27:16<1:42:34, 38.95s/it]/scratch/sp6646/envs_dirs/swap_env/lib/python3.8/site-packages/textattack/loggers/csv_logger.py:41: FutureWarning: The frame.append method is deprecated and will be removed from pandas in a future version. Use pandas.concat instead.\n",
      "  self.df = self.df.append(row, ignore_index=True)\n",
      "[Succeeded / Failed / Skipped / Total] 34 / 6 / 2 / 42:  21%|██        | 42/200 [27:16<1:42:34, 38.95s/it]"
     ]
    },
    {
     "name": "stdout",
     "output_type": "stream",
     "text": [
      "--------------------------------------------- Result 42 ---------------------------------------------\n",
      "[[Positive (100%)]] --> [[Negative (63%)]]\n",
      "\n",
      "this [[illuminating]] documentary [[transcends]] our preconceived vision of the [[holy]] land and its inhabitants , revealing the human [[complexities]] beneath . \n",
      "\n",
      "this [[instructional]] documentary [[overmatched]] our preconceived vision of the [[sacred]] land and its inhabitants , revealing the human [[intricate]] beneath . \n",
      "\n",
      "\n"
     ]
    },
    {
     "name": "stderr",
     "output_type": "stream",
     "text": [
      "[Succeeded / Failed / Skipped / Total] 34 / 6 / 2 / 42:  22%|██▏       | 43/200 [27:29<1:40:20, 38.35s/it]/scratch/sp6646/envs_dirs/swap_env/lib/python3.8/site-packages/textattack/loggers/csv_logger.py:41: FutureWarning: The frame.append method is deprecated and will be removed from pandas in a future version. Use pandas.concat instead.\n",
      "  self.df = self.df.append(row, ignore_index=True)\n",
      "[Succeeded / Failed / Skipped / Total] 35 / 6 / 2 / 43:  22%|██▏       | 43/200 [27:29<1:40:21, 38.35s/it]"
     ]
    },
    {
     "name": "stdout",
     "output_type": "stream",
     "text": [
      "--------------------------------------------- Result 43 ---------------------------------------------\n",
      "[[Positive (99%)]] --> [[Negative (74%)]]\n",
      "\n",
      "the subtle strength of `` elling '' is that it never [[loses]] touch with the reality of the grim situation . \n",
      "\n",
      "the subtle strength of `` elling '' is that it never [[looses]] touch with the reality of the grim situation . \n",
      "\n",
      "\n"
     ]
    },
    {
     "name": "stderr",
     "output_type": "stream",
     "text": [
      "[Succeeded / Failed / Skipped / Total] 35 / 6 / 2 / 43:  22%|██▏       | 44/200 [28:19<1:40:24, 38.62s/it]/scratch/sp6646/envs_dirs/swap_env/lib/python3.8/site-packages/textattack/loggers/csv_logger.py:41: FutureWarning: The frame.append method is deprecated and will be removed from pandas in a future version. Use pandas.concat instead.\n",
      "  self.df = self.df.append(row, ignore_index=True)\n",
      "[Succeeded / Failed / Skipped / Total] 36 / 6 / 2 / 44:  22%|██▏       | 44/200 [28:19<1:40:24, 38.62s/it]"
     ]
    },
    {
     "name": "stdout",
     "output_type": "stream",
     "text": [
      "--------------------------------------------- Result 44 ---------------------------------------------\n",
      "[[Positive (99%)]] --> [[Negative (71%)]]\n",
      "\n",
      "holm ... [[embodies]] the [[character]] with an effortlessly [[regal]] [[charisma]] . \n",
      "\n",
      "holm ... [[implicates]] the [[featured]] with an effortlessly [[monarchy]] [[fetish]] . \n",
      "\n",
      "\n"
     ]
    },
    {
     "name": "stderr",
     "output_type": "stream",
     "text": [
      "[Succeeded / Failed / Skipped / Total] 36 / 6 / 2 / 44:  22%|██▎       | 45/200 [28:28<1:38:03, 37.96s/it]/scratch/sp6646/envs_dirs/swap_env/lib/python3.8/site-packages/textattack/loggers/csv_logger.py:41: FutureWarning: The frame.append method is deprecated and will be removed from pandas in a future version. Use pandas.concat instead.\n",
      "  self.df = self.df.append(row, ignore_index=True)\n",
      "[Succeeded / Failed / Skipped / Total] 37 / 6 / 2 / 45:  22%|██▎       | 45/200 [28:28<1:38:03, 37.96s/it]"
     ]
    },
    {
     "name": "stdout",
     "output_type": "stream",
     "text": [
      "--------------------------------------------- Result 45 ---------------------------------------------\n",
      "[[Negative (51%)]] --> [[Positive (79%)]]\n",
      "\n",
      "the title not only describes its main characters , but the [[lazy]] people behind the camera as well . \n",
      "\n",
      "the title not only describes its main characters , but the [[unmotivated]] people behind the camera as well . \n",
      "\n",
      "\n"
     ]
    },
    {
     "name": "stderr",
     "output_type": "stream",
     "text": [
      "[Succeeded / Failed / Skipped / Total] 37 / 6 / 2 / 45:  23%|██▎       | 46/200 [28:49<1:36:29, 37.59s/it]/scratch/sp6646/envs_dirs/swap_env/lib/python3.8/site-packages/textattack/loggers/csv_logger.py:41: FutureWarning: The frame.append method is deprecated and will be removed from pandas in a future version. Use pandas.concat instead.\n",
      "  self.df = self.df.append(row, ignore_index=True)\n",
      "[Succeeded / Failed / Skipped / Total] 38 / 6 / 2 / 46:  23%|██▎       | 46/200 [28:49<1:36:29, 37.59s/it]"
     ]
    },
    {
     "name": "stdout",
     "output_type": "stream",
     "text": [
      "--------------------------------------------- Result 46 ---------------------------------------------\n",
      "[[Negative (89%)]] --> [[Positive (96%)]]\n",
      "\n",
      "it offers [[little]] beyond the momentary joys of pretty and weightless intellectual entertainment . \n",
      "\n",
      "it offers [[humble]] beyond the momentary joys of pretty and weightless intellectual entertainment . \n",
      "\n",
      "\n"
     ]
    },
    {
     "name": "stderr",
     "output_type": "stream",
     "text": [
      "[Succeeded / Failed / Skipped / Total] 38 / 6 / 2 / 46:  24%|██▎       | 47/200 [28:49<1:33:50, 36.80s/it]/scratch/sp6646/envs_dirs/swap_env/lib/python3.8/site-packages/textattack/loggers/csv_logger.py:41: FutureWarning: The frame.append method is deprecated and will be removed from pandas in a future version. Use pandas.concat instead.\n",
      "  self.df = self.df.append(row, ignore_index=True)\n",
      "[Succeeded / Failed / Skipped / Total] 38 / 6 / 3 / 47:  24%|██▎       | 47/200 [28:49<1:33:50, 36.80s/it]"
     ]
    },
    {
     "name": "stdout",
     "output_type": "stream",
     "text": [
      "--------------------------------------------- Result 47 ---------------------------------------------\n",
      "[[Positive (84%)]] --> [[[SKIPPED]]]\n",
      "\n",
      "a synthesis of cliches and absurdities that seems positively decadent in its cinematic flash and emptiness . \n",
      "\n",
      "\n"
     ]
    },
    {
     "name": "stderr",
     "output_type": "stream",
     "text": [
      "[Succeeded / Failed / Skipped / Total] 38 / 6 / 3 / 47:  24%|██▍       | 48/200 [29:16<1:32:42, 36.60s/it]/scratch/sp6646/envs_dirs/swap_env/lib/python3.8/site-packages/textattack/loggers/csv_logger.py:41: FutureWarning: The frame.append method is deprecated and will be removed from pandas in a future version. Use pandas.concat instead.\n",
      "  self.df = self.df.append(row, ignore_index=True)\n",
      "[Succeeded / Failed / Skipped / Total] 38 / 7 / 3 / 48:  24%|██▍       | 48/200 [29:16<1:32:42, 36.60s/it]"
     ]
    },
    {
     "name": "stdout",
     "output_type": "stream",
     "text": [
      "--------------------------------------------- Result 48 ---------------------------------------------\n",
      "[[Positive (99%)]] --> [[[FAILED]]]\n",
      "\n",
      "a subtle and well-crafted ( for the most part ) chiller . \n",
      "\n",
      "\n"
     ]
    },
    {
     "name": "stderr",
     "output_type": "stream",
     "text": [
      "[Succeeded / Failed / Skipped / Total] 38 / 7 / 3 / 48:  24%|██▍       | 49/200 [30:03<1:32:36, 36.80s/it]/scratch/sp6646/envs_dirs/swap_env/lib/python3.8/site-packages/textattack/loggers/csv_logger.py:41: FutureWarning: The frame.append method is deprecated and will be removed from pandas in a future version. Use pandas.concat instead.\n",
      "  self.df = self.df.append(row, ignore_index=True)\n",
      "[Succeeded / Failed / Skipped / Total] 39 / 7 / 3 / 49:  24%|██▍       | 49/200 [30:03<1:32:36, 36.80s/it]"
     ]
    },
    {
     "name": "stdout",
     "output_type": "stream",
     "text": [
      "--------------------------------------------- Result 49 ---------------------------------------------\n",
      "[[Positive (98%)]] --> [[Negative (65%)]]\n",
      "\n",
      "[[has]] a [[lot]] of the [[virtues]] of [[eastwood]] at his [[best]] . \n",
      "\n",
      "[[had]] a [[fate]] of the [[prerogative]] of [[stallone]] at his [[preferable]] . \n",
      "\n",
      "\n"
     ]
    },
    {
     "name": "stderr",
     "output_type": "stream",
     "text": [
      "[Succeeded / Failed / Skipped / Total] 39 / 7 / 3 / 49:  25%|██▌       | 50/200 [30:36<1:31:49, 36.73s/it]/scratch/sp6646/envs_dirs/swap_env/lib/python3.8/site-packages/textattack/loggers/csv_logger.py:41: FutureWarning: The frame.append method is deprecated and will be removed from pandas in a future version. Use pandas.concat instead.\n",
      "  self.df = self.df.append(row, ignore_index=True)\n",
      "[Succeeded / Failed / Skipped / Total] 40 / 7 / 3 / 50:  25%|██▌       | 50/200 [30:36<1:31:49, 36.73s/it]"
     ]
    },
    {
     "name": "stdout",
     "output_type": "stream",
     "text": [
      "--------------------------------------------- Result 50 ---------------------------------------------\n",
      "[[Negative (95%)]] --> [[Positive (53%)]]\n",
      "\n",
      "it 's [[hampered]] by a lifetime-channel kind of plot and a lead actress who is out of her [[depth]] . \n",
      "\n",
      "it 's [[restrained]] by a lifetime-channel kind of plot and a lead actress who is out of her [[depths]] . \n",
      "\n",
      "\n"
     ]
    },
    {
     "name": "stderr",
     "output_type": "stream",
     "text": [
      "[Succeeded / Failed / Skipped / Total] 40 / 7 / 3 / 50:  26%|██▌       | 51/200 [30:56<1:30:24, 36.41s/it]/scratch/sp6646/envs_dirs/swap_env/lib/python3.8/site-packages/textattack/loggers/csv_logger.py:41: FutureWarning: The frame.append method is deprecated and will be removed from pandas in a future version. Use pandas.concat instead.\n",
      "  self.df = self.df.append(row, ignore_index=True)\n",
      "[Succeeded / Failed / Skipped / Total] 41 / 7 / 3 / 51:  26%|██▌       | 51/200 [30:56<1:30:24, 36.41s/it]"
     ]
    },
    {
     "name": "stdout",
     "output_type": "stream",
     "text": [
      "--------------------------------------------- Result 51 ---------------------------------------------\n",
      "[[Negative (58%)]] --> [[Positive (53%)]]\n",
      "\n",
      "it feels [[like]] an after-school special gussied up with some fancy special effects , and watching its rote plot points connect is about as exciting as gazing at an egg timer for 93 minutes . \n",
      "\n",
      "it feels [[enjoy]] an after-school special gussied up with some fancy special effects , and watching its rote plot points connect is about as exciting as gazing at an egg timer for 93 minutes . \n",
      "\n",
      "\n"
     ]
    },
    {
     "name": "stderr",
     "output_type": "stream",
     "text": [
      "[Succeeded / Failed / Skipped / Total] 41 / 7 / 3 / 51:  26%|██▌       | 52/200 [31:32<1:29:47, 36.40s/it]/scratch/sp6646/envs_dirs/swap_env/lib/python3.8/site-packages/textattack/loggers/csv_logger.py:41: FutureWarning: The frame.append method is deprecated and will be removed from pandas in a future version. Use pandas.concat instead.\n",
      "  self.df = self.df.append(row, ignore_index=True)\n",
      "[Succeeded / Failed / Skipped / Total] 42 / 7 / 3 / 52:  26%|██▌       | 52/200 [31:32<1:29:47, 36.40s/it]"
     ]
    },
    {
     "name": "stdout",
     "output_type": "stream",
     "text": [
      "--------------------------------------------- Result 52 ---------------------------------------------\n",
      "[[Positive (100%)]] --> [[Negative (68%)]]\n",
      "\n",
      "for the most part , director anne-sophie birot 's first feature is a [[sensitive]] , [[extraordinarily]] well-acted drama . \n",
      "\n",
      "for the most part , director anne-sophie birot 's first feature is a [[awkward]] , [[inordinately]] well-acted drama . \n",
      "\n",
      "\n"
     ]
    },
    {
     "name": "stderr",
     "output_type": "stream",
     "text": [
      "[Succeeded / Failed / Skipped / Total] 42 / 7 / 3 / 52:  26%|██▋       | 53/200 [31:58<1:28:41, 36.20s/it]/scratch/sp6646/envs_dirs/swap_env/lib/python3.8/site-packages/textattack/loggers/csv_logger.py:41: FutureWarning: The frame.append method is deprecated and will be removed from pandas in a future version. Use pandas.concat instead.\n",
      "  self.df = self.df.append(row, ignore_index=True)\n",
      "[Succeeded / Failed / Skipped / Total] 43 / 7 / 3 / 53:  26%|██▋       | 53/200 [31:58<1:28:41, 36.20s/it]"
     ]
    },
    {
     "name": "stdout",
     "output_type": "stream",
     "text": [
      "--------------------------------------------- Result 53 ---------------------------------------------\n",
      "[[Positive (87%)]] --> [[Negative (88%)]]\n",
      "\n",
      "mr. tsai is a [[very]] original artist in his medium , and what time is it there ? \n",
      "\n",
      "mr. tsai is a [[too]] original artist in his medium , and what time is it there ? \n",
      "\n",
      "\n"
     ]
    },
    {
     "name": "stderr",
     "output_type": "stream",
     "text": [
      "[Succeeded / Failed / Skipped / Total] 43 / 7 / 3 / 53:  27%|██▋       | 54/200 [32:38<1:28:14, 36.26s/it]/scratch/sp6646/envs_dirs/swap_env/lib/python3.8/site-packages/textattack/loggers/csv_logger.py:41: FutureWarning: The frame.append method is deprecated and will be removed from pandas in a future version. Use pandas.concat instead.\n",
      "  self.df = self.df.append(row, ignore_index=True)\n",
      "[Succeeded / Failed / Skipped / Total] 44 / 7 / 3 / 54:  27%|██▋       | 54/200 [32:38<1:28:14, 36.26s/it]"
     ]
    },
    {
     "name": "stdout",
     "output_type": "stream",
     "text": [
      "--------------------------------------------- Result 54 ---------------------------------------------\n",
      "[[Positive (97%)]] --> [[Negative (66%)]]\n",
      "\n",
      "sade is an [[engaging]] look at the controversial eponymous and [[fiercely]] atheistic hero . \n",
      "\n",
      "sade is an [[implicate]] look at the controversial eponymous and [[tirelessly]] atheistic hero . \n",
      "\n",
      "\n"
     ]
    },
    {
     "name": "stderr",
     "output_type": "stream",
     "text": [
      "[Succeeded / Failed / Skipped / Total] 44 / 7 / 3 / 54:  28%|██▊       | 55/200 [32:53<1:26:42, 35.88s/it]/scratch/sp6646/envs_dirs/swap_env/lib/python3.8/site-packages/textattack/loggers/csv_logger.py:41: FutureWarning: The frame.append method is deprecated and will be removed from pandas in a future version. Use pandas.concat instead.\n",
      "  self.df = self.df.append(row, ignore_index=True)\n",
      "[Succeeded / Failed / Skipped / Total] 45 / 7 / 3 / 55:  28%|██▊       | 55/200 [32:53<1:26:42, 35.88s/it]"
     ]
    },
    {
     "name": "stdout",
     "output_type": "stream",
     "text": [
      "--------------------------------------------- Result 55 ---------------------------------------------\n",
      "[[Negative (98%)]] --> [[Positive (59%)]]\n",
      "\n",
      "so [[devoid]] of any kind of intelligible story that it makes films like xxx and collateral damage seem like thoughtful treatises \n",
      "\n",
      "so [[free]] of any kind of intelligible story that it makes films like xxx and collateral damage seem like thoughtful treatises \n",
      "\n",
      "\n"
     ]
    },
    {
     "name": "stderr",
     "output_type": "stream",
     "text": [
      "[Succeeded / Failed / Skipped / Total] 45 / 7 / 3 / 55:  28%|██▊       | 56/200 [33:18<1:25:39, 35.69s/it]/scratch/sp6646/envs_dirs/swap_env/lib/python3.8/site-packages/textattack/loggers/csv_logger.py:41: FutureWarning: The frame.append method is deprecated and will be removed from pandas in a future version. Use pandas.concat instead.\n",
      "  self.df = self.df.append(row, ignore_index=True)\n",
      "[Succeeded / Failed / Skipped / Total] 46 / 7 / 3 / 56:  28%|██▊       | 56/200 [33:18<1:25:39, 35.69s/it]"
     ]
    },
    {
     "name": "stdout",
     "output_type": "stream",
     "text": [
      "--------------------------------------------- Result 56 ---------------------------------------------\n",
      "[[Positive (99%)]] --> [[Negative (57%)]]\n",
      "\n",
      "a [[tender]] , [[heartfelt]] family drama . \n",
      "\n",
      "a [[bid]] , [[depths]] family drama . \n",
      "\n",
      "\n"
     ]
    },
    {
     "name": "stderr",
     "output_type": "stream",
     "text": [
      "[Succeeded / Failed / Skipped / Total] 46 / 7 / 3 / 56:  28%|██▊       | 57/200 [34:41<1:27:00, 36.51s/it]/scratch/sp6646/envs_dirs/swap_env/lib/python3.8/site-packages/textattack/loggers/csv_logger.py:41: FutureWarning: The frame.append method is deprecated and will be removed from pandas in a future version. Use pandas.concat instead.\n",
      "  self.df = self.df.append(row, ignore_index=True)\n",
      "[Succeeded / Failed / Skipped / Total] 46 / 8 / 3 / 57:  28%|██▊       | 57/200 [34:41<1:27:00, 36.51s/it]"
     ]
    },
    {
     "name": "stdout",
     "output_type": "stream",
     "text": [
      "--------------------------------------------- Result 57 ---------------------------------------------\n",
      "[[Negative (99%)]] --> [[[FAILED]]]\n",
      "\n",
      "... a hollow joke told by a cinematic gymnast having too much fun embellishing the misanthropic tale to actually engage it . \n",
      "\n",
      "\n"
     ]
    },
    {
     "name": "stderr",
     "output_type": "stream",
     "text": [
      "[Succeeded / Failed / Skipped / Total] 46 / 8 / 3 / 57:  29%|██▉       | 58/200 [35:02<1:25:47, 36.25s/it]/scratch/sp6646/envs_dirs/swap_env/lib/python3.8/site-packages/textattack/loggers/csv_logger.py:41: FutureWarning: The frame.append method is deprecated and will be removed from pandas in a future version. Use pandas.concat instead.\n",
      "  self.df = self.df.append(row, ignore_index=True)\n",
      "[Succeeded / Failed / Skipped / Total] 47 / 8 / 3 / 58:  29%|██▉       | 58/200 [35:02<1:25:47, 36.25s/it]"
     ]
    },
    {
     "name": "stdout",
     "output_type": "stream",
     "text": [
      "--------------------------------------------- Result 58 ---------------------------------------------\n",
      "[[Negative (66%)]] --> [[Positive (62%)]]\n",
      "\n",
      "the [[cold]] turkey would 've been a far better [[title]] . \n",
      "\n",
      "the [[cool]] turkey would 've been a far better [[denomination]] . \n",
      "\n",
      "\n"
     ]
    },
    {
     "name": "stderr",
     "output_type": "stream",
     "text": [
      "[Succeeded / Failed / Skipped / Total] 47 / 8 / 3 / 58:  30%|██▉       | 59/200 [35:13<1:24:11, 35.83s/it]/scratch/sp6646/envs_dirs/swap_env/lib/python3.8/site-packages/textattack/loggers/csv_logger.py:41: FutureWarning: The frame.append method is deprecated and will be removed from pandas in a future version. Use pandas.concat instead.\n",
      "  self.df = self.df.append(row, ignore_index=True)\n",
      "[Succeeded / Failed / Skipped / Total] 48 / 8 / 3 / 59:  30%|██▉       | 59/200 [35:13<1:24:11, 35.83s/it]"
     ]
    },
    {
     "name": "stdout",
     "output_type": "stream",
     "text": [
      "--------------------------------------------- Result 59 ---------------------------------------------\n",
      "[[Negative (58%)]] --> [[Positive (93%)]]\n",
      "\n",
      "manages to be both repulsively sadistic and [[mundane]] . \n",
      "\n",
      "manages to be both repulsively sadistic and [[staid]] . \n",
      "\n",
      "\n"
     ]
    },
    {
     "name": "stderr",
     "output_type": "stream",
     "text": [
      "[Succeeded / Failed / Skipped / Total] 48 / 8 / 3 / 59:  30%|███       | 60/200 [36:37<1:25:26, 36.62s/it]/scratch/sp6646/envs_dirs/swap_env/lib/python3.8/site-packages/textattack/loggers/csv_logger.py:41: FutureWarning: The frame.append method is deprecated and will be removed from pandas in a future version. Use pandas.concat instead.\n",
      "  self.df = self.df.append(row, ignore_index=True)\n",
      "[Succeeded / Failed / Skipped / Total] 48 / 9 / 3 / 60:  30%|███       | 60/200 [36:37<1:25:26, 36.62s/it]"
     ]
    },
    {
     "name": "stdout",
     "output_type": "stream",
     "text": [
      "--------------------------------------------- Result 60 ---------------------------------------------\n",
      "[[Negative (89%)]] --> [[[FAILED]]]\n",
      "\n",
      "it 's just disappointingly superficial -- a movie that has all the elements necessary to be a fascinating , involving character study , but never does more than scratch the surface . \n",
      "\n",
      "\n"
     ]
    },
    {
     "name": "stderr",
     "output_type": "stream",
     "text": [
      "[Succeeded / Failed / Skipped / Total] 48 / 9 / 3 / 60:  30%|███       | 61/200 [37:41<1:25:53, 37.07s/it]/scratch/sp6646/envs_dirs/swap_env/lib/python3.8/site-packages/textattack/loggers/csv_logger.py:41: FutureWarning: The frame.append method is deprecated and will be removed from pandas in a future version. Use pandas.concat instead.\n",
      "  self.df = self.df.append(row, ignore_index=True)\n",
      "[Succeeded / Failed / Skipped / Total] 49 / 9 / 3 / 61:  30%|███       | 61/200 [37:41<1:25:53, 37.07s/it]"
     ]
    },
    {
     "name": "stdout",
     "output_type": "stream",
     "text": [
      "--------------------------------------------- Result 61 ---------------------------------------------\n",
      "[[Positive (98%)]] --> [[Negative (60%)]]\n",
      "\n",
      "this is a [[story]] of two misfits who [[do]] n't [[stand]] a [[chance]] alone , but together they are [[magnificent]] . \n",
      "\n",
      "this is a [[conte]] of two misfits who [[wo]] n't [[position]] a [[likelihood]] alone , but together they are [[extraordinaire]] . \n",
      "\n",
      "\n"
     ]
    },
    {
     "name": "stderr",
     "output_type": "stream",
     "text": [
      "[Succeeded / Failed / Skipped / Total] 49 / 9 / 3 / 61:  31%|███       | 62/200 [38:16<1:25:11, 37.04s/it]/scratch/sp6646/envs_dirs/swap_env/lib/python3.8/site-packages/textattack/loggers/csv_logger.py:41: FutureWarning: The frame.append method is deprecated and will be removed from pandas in a future version. Use pandas.concat instead.\n",
      "  self.df = self.df.append(row, ignore_index=True)\n",
      "[Succeeded / Failed / Skipped / Total] 50 / 9 / 3 / 62:  31%|███       | 62/200 [38:16<1:25:11, 37.04s/it]"
     ]
    },
    {
     "name": "stdout",
     "output_type": "stream",
     "text": [
      "--------------------------------------------- Result 62 ---------------------------------------------\n",
      "[[Negative (85%)]] --> [[Positive (62%)]]\n",
      "\n",
      "schaeffer [[has]] to find some hook on which to hang his persistently [[useless]] movies , and it might as well be the resuscitation of the middle-aged character . \n",
      "\n",
      "schaeffer [[enjoys]] to find some hook on which to hang his persistently [[superfluous]] movies , and it might as well be the resuscitation of the middle-aged character . \n",
      "\n",
      "\n"
     ]
    },
    {
     "name": "stderr",
     "output_type": "stream",
     "text": [
      "[Succeeded / Failed / Skipped / Total] 50 / 9 / 3 / 62:  32%|███▏      | 63/200 [38:46<1:24:19, 36.93s/it]/scratch/sp6646/envs_dirs/swap_env/lib/python3.8/site-packages/textattack/loggers/csv_logger.py:41: FutureWarning: The frame.append method is deprecated and will be removed from pandas in a future version. Use pandas.concat instead.\n",
      "  self.df = self.df.append(row, ignore_index=True)\n",
      "[Succeeded / Failed / Skipped / Total] 51 / 9 / 3 / 63:  32%|███▏      | 63/200 [38:46<1:24:19, 36.93s/it]"
     ]
    },
    {
     "name": "stdout",
     "output_type": "stream",
     "text": [
      "--------------------------------------------- Result 63 ---------------------------------------------\n",
      "[[Positive (78%)]] --> [[Negative (50%)]]\n",
      "\n",
      "the primitive [[force]] of this film seems to bubble up from the [[vast]] collective memory of the combatants . \n",
      "\n",
      "the primitive [[armies]] of this film seems to bubble up from the [[gargantuan]] collective memory of the combatants . \n",
      "\n",
      "\n"
     ]
    },
    {
     "name": "stderr",
     "output_type": "stream",
     "text": [
      "[Succeeded / Failed / Skipped / Total] 51 / 9 / 3 / 63:  32%|███▏      | 64/200 [40:09<1:25:20, 37.65s/it]/scratch/sp6646/envs_dirs/swap_env/lib/python3.8/site-packages/textattack/loggers/csv_logger.py:41: FutureWarning: The frame.append method is deprecated and will be removed from pandas in a future version. Use pandas.concat instead.\n",
      "  self.df = self.df.append(row, ignore_index=True)\n",
      "[Succeeded / Failed / Skipped / Total] 51 / 10 / 3 / 64:  32%|███▏      | 64/200 [40:09<1:25:20, 37.65s/it]"
     ]
    },
    {
     "name": "stdout",
     "output_type": "stream",
     "text": [
      "--------------------------------------------- Result 64 ---------------------------------------------\n",
      "[[Positive (97%)]] --> [[[FAILED]]]\n",
      "\n",
      "on this tricky topic , tadpole is very much a step in the right direction , with its blend of frankness , civility and compassion . \n",
      "\n",
      "\n"
     ]
    },
    {
     "name": "stderr",
     "output_type": "stream",
     "text": [
      "[Succeeded / Failed / Skipped / Total] 51 / 10 / 3 / 64:  32%|███▎      | 65/200 [40:10<1:23:26, 37.08s/it]/scratch/sp6646/envs_dirs/swap_env/lib/python3.8/site-packages/textattack/loggers/csv_logger.py:41: FutureWarning: The frame.append method is deprecated and will be removed from pandas in a future version. Use pandas.concat instead.\n",
      "  self.df = self.df.append(row, ignore_index=True)\n",
      "[Succeeded / Failed / Skipped / Total] 51 / 10 / 4 / 65:  32%|███▎      | 65/200 [40:10<1:23:26, 37.08s/it]"
     ]
    },
    {
     "name": "stdout",
     "output_type": "stream",
     "text": [
      "--------------------------------------------- Result 65 ---------------------------------------------\n",
      "[[Positive (85%)]] --> [[[SKIPPED]]]\n",
      "\n",
      "the script kicks in , and mr. hartley 's distended pace and foot-dragging rhythms follow . \n",
      "\n",
      "\n"
     ]
    },
    {
     "name": "stderr",
     "output_type": "stream",
     "text": [
      "[Succeeded / Failed / Skipped / Total] 51 / 10 / 4 / 65:  33%|███▎      | 66/200 [40:31<1:22:16, 36.84s/it]/scratch/sp6646/envs_dirs/swap_env/lib/python3.8/site-packages/textattack/loggers/csv_logger.py:41: FutureWarning: The frame.append method is deprecated and will be removed from pandas in a future version. Use pandas.concat instead.\n",
      "  self.df = self.df.append(row, ignore_index=True)\n",
      "[Succeeded / Failed / Skipped / Total] 52 / 10 / 4 / 66:  33%|███▎      | 66/200 [40:31<1:22:16, 36.84s/it]"
     ]
    },
    {
     "name": "stdout",
     "output_type": "stream",
     "text": [
      "--------------------------------------------- Result 66 ---------------------------------------------\n",
      "[[Negative (68%)]] --> [[Positive (52%)]]\n",
      "\n",
      "you wonder why enough was n't just a music video [[rather]] than a full-length movie . \n",
      "\n",
      "you wonder why enough was n't just a music video [[exactly]] than a full-length movie . \n",
      "\n",
      "\n"
     ]
    },
    {
     "name": "stderr",
     "output_type": "stream",
     "text": [
      "[Succeeded / Failed / Skipped / Total] 52 / 10 / 4 / 66:  34%|███▎      | 67/200 [40:56<1:21:15, 36.66s/it]/scratch/sp6646/envs_dirs/swap_env/lib/python3.8/site-packages/textattack/loggers/csv_logger.py:41: FutureWarning: The frame.append method is deprecated and will be removed from pandas in a future version. Use pandas.concat instead.\n",
      "  self.df = self.df.append(row, ignore_index=True)\n",
      "[Succeeded / Failed / Skipped / Total] 53 / 10 / 4 / 67:  34%|███▎      | 67/200 [40:56<1:21:15, 36.66s/it]"
     ]
    },
    {
     "name": "stdout",
     "output_type": "stream",
     "text": [
      "--------------------------------------------- Result 67 ---------------------------------------------\n",
      "[[Positive (76%)]] --> [[Negative (50%)]]\n",
      "\n",
      "if you 're hard up for raunchy college [[humor]] , this is your ticket right here . \n",
      "\n",
      "if you 're hard up for raunchy college [[banter]] , this is your ticket right here . \n",
      "\n",
      "\n"
     ]
    },
    {
     "name": "stderr",
     "output_type": "stream",
     "text": [
      "[Succeeded / Failed / Skipped / Total] 53 / 10 / 4 / 67:  34%|███▍      | 68/200 [41:32<1:20:38, 36.66s/it]/scratch/sp6646/envs_dirs/swap_env/lib/python3.8/site-packages/textattack/loggers/csv_logger.py:41: FutureWarning: The frame.append method is deprecated and will be removed from pandas in a future version. Use pandas.concat instead.\n",
      "  self.df = self.df.append(row, ignore_index=True)\n",
      "[Succeeded / Failed / Skipped / Total] 54 / 10 / 4 / 68:  34%|███▍      | 68/200 [41:32<1:20:38, 36.66s/it]"
     ]
    },
    {
     "name": "stdout",
     "output_type": "stream",
     "text": [
      "--------------------------------------------- Result 68 ---------------------------------------------\n",
      "[[Positive (100%)]] --> [[Negative (76%)]]\n",
      "\n",
      "a [[fast]] , [[funny]] , highly [[enjoyable]] movie . \n",
      "\n",
      "a [[faster]] , [[weird]] , highly [[cosy]] movie . \n",
      "\n",
      "\n"
     ]
    },
    {
     "name": "stderr",
     "output_type": "stream",
     "text": [
      "[Succeeded / Failed / Skipped / Total] 54 / 10 / 4 / 68:  34%|███▍      | 69/200 [41:52<1:19:30, 36.42s/it]/scratch/sp6646/envs_dirs/swap_env/lib/python3.8/site-packages/textattack/loggers/csv_logger.py:41: FutureWarning: The frame.append method is deprecated and will be removed from pandas in a future version. Use pandas.concat instead.\n",
      "  self.df = self.df.append(row, ignore_index=True)\n",
      "[Succeeded / Failed / Skipped / Total] 55 / 10 / 4 / 69:  34%|███▍      | 69/200 [41:52<1:19:30, 36.42s/it]"
     ]
    },
    {
     "name": "stdout",
     "output_type": "stream",
     "text": [
      "--------------------------------------------- Result 69 ---------------------------------------------\n",
      "[[Positive (81%)]] --> [[Negative (53%)]]\n",
      "\n",
      "[[good]] old-fashioned slash-and-hack is back ! \n",
      "\n",
      "[[advisable]] old-fashioned slash-and-hack is back ! \n",
      "\n",
      "\n"
     ]
    },
    {
     "name": "stderr",
     "output_type": "stream",
     "text": [
      "[Succeeded / Failed / Skipped / Total] 55 / 10 / 4 / 69:  35%|███▌      | 70/200 [41:54<1:17:49, 35.92s/it]/scratch/sp6646/envs_dirs/swap_env/lib/python3.8/site-packages/textattack/loggers/csv_logger.py:41: FutureWarning: The frame.append method is deprecated and will be removed from pandas in a future version. Use pandas.concat instead.\n",
      "  self.df = self.df.append(row, ignore_index=True)\n",
      "[Succeeded / Failed / Skipped / Total] 55 / 10 / 5 / 70:  35%|███▌      | 70/200 [41:54<1:17:49, 35.92s/it]"
     ]
    },
    {
     "name": "stdout",
     "output_type": "stream",
     "text": [
      "--------------------------------------------- Result 70 ---------------------------------------------\n",
      "[[Positive (57%)]] --> [[[SKIPPED]]]\n",
      "\n",
      "this one is definitely one to skip , even for horror movie fanatics . \n",
      "\n",
      "\n"
     ]
    },
    {
     "name": "stderr",
     "output_type": "stream",
     "text": [
      "[Succeeded / Failed / Skipped / Total] 55 / 10 / 5 / 70:  36%|███▌      | 71/200 [42:30<1:17:13, 35.92s/it]/scratch/sp6646/envs_dirs/swap_env/lib/python3.8/site-packages/textattack/loggers/csv_logger.py:41: FutureWarning: The frame.append method is deprecated and will be removed from pandas in a future version. Use pandas.concat instead.\n",
      "  self.df = self.df.append(row, ignore_index=True)\n",
      "[Succeeded / Failed / Skipped / Total] 56 / 10 / 5 / 71:  36%|███▌      | 71/200 [42:30<1:17:13, 35.92s/it]"
     ]
    },
    {
     "name": "stdout",
     "output_type": "stream",
     "text": [
      "--------------------------------------------- Result 71 ---------------------------------------------\n",
      "[[Negative (90%)]] --> [[Positive (55%)]]\n",
      "\n",
      "for all its impressive craftsmanship , and despite an overbearing series of third-act crescendos , lily chou-chou never really builds up a [[head]] of [[emotional]] steam . \n",
      "\n",
      "for all its impressive craftsmanship , and despite an overbearing series of third-act crescendos , lily chou-chou never really builds up a [[jefe]] of [[psychiatric]] steam . \n",
      "\n",
      "\n"
     ]
    },
    {
     "name": "stderr",
     "output_type": "stream",
     "text": [
      "[Succeeded / Failed / Skipped / Total] 56 / 10 / 5 / 71:  36%|███▌      | 72/200 [43:50<1:17:57, 36.54s/it]/scratch/sp6646/envs_dirs/swap_env/lib/python3.8/site-packages/textattack/loggers/csv_logger.py:41: FutureWarning: The frame.append method is deprecated and will be removed from pandas in a future version. Use pandas.concat instead.\n",
      "  self.df = self.df.append(row, ignore_index=True)\n",
      "[Succeeded / Failed / Skipped / Total] 56 / 11 / 5 / 72:  36%|███▌      | 72/200 [43:50<1:17:57, 36.54s/it]"
     ]
    },
    {
     "name": "stdout",
     "output_type": "stream",
     "text": [
      "--------------------------------------------- Result 72 ---------------------------------------------\n",
      "[[Positive (97%)]] --> [[[FAILED]]]\n",
      "\n",
      "exquisitely nuanced in mood tics and dialogue , this chamber drama is superbly acted by the deeply appealing veteran bouquet and the chilling but quite human berling . \n",
      "\n",
      "\n"
     ]
    },
    {
     "name": "stderr",
     "output_type": "stream",
     "text": [
      "[Succeeded / Failed / Skipped / Total] 56 / 11 / 5 / 72:  36%|███▋      | 73/200 [44:28<1:17:22, 36.55s/it]/scratch/sp6646/envs_dirs/swap_env/lib/python3.8/site-packages/textattack/loggers/csv_logger.py:41: FutureWarning: The frame.append method is deprecated and will be removed from pandas in a future version. Use pandas.concat instead.\n",
      "  self.df = self.df.append(row, ignore_index=True)\n",
      "[Succeeded / Failed / Skipped / Total] 57 / 11 / 5 / 73:  36%|███▋      | 73/200 [44:28<1:17:22, 36.55s/it]"
     ]
    },
    {
     "name": "stdout",
     "output_type": "stream",
     "text": [
      "--------------------------------------------- Result 73 ---------------------------------------------\n",
      "[[Positive (99%)]] --> [[Negative (56%)]]\n",
      "\n",
      "uses high comedy to [[evoke]] [[surprising]] poignance . \n",
      "\n",
      "uses high comedy to [[resembling]] [[whopping]] poignance . \n",
      "\n",
      "\n"
     ]
    },
    {
     "name": "stderr",
     "output_type": "stream",
     "text": [
      "[Succeeded / Failed / Skipped / Total] 57 / 11 / 5 / 73:  37%|███▋      | 74/200 [45:05<1:16:46, 36.56s/it]/scratch/sp6646/envs_dirs/swap_env/lib/python3.8/site-packages/textattack/loggers/csv_logger.py:41: FutureWarning: The frame.append method is deprecated and will be removed from pandas in a future version. Use pandas.concat instead.\n",
      "  self.df = self.df.append(row, ignore_index=True)\n",
      "[Succeeded / Failed / Skipped / Total] 58 / 11 / 5 / 74:  37%|███▋      | 74/200 [45:05<1:16:46, 36.56s/it]"
     ]
    },
    {
     "name": "stdout",
     "output_type": "stream",
     "text": [
      "--------------------------------------------- Result 74 ---------------------------------------------\n",
      "[[Positive (96%)]] --> [[Negative (55%)]]\n",
      "\n",
      "one of creepiest , [[scariest]] movies to come along in a long , long [[time]] , easily rivaling blair witch or the others . \n",
      "\n",
      "one of creepiest , [[craziest]] movies to come along in a long , long [[clocking]] , easily rivaling blair witch or the others . \n",
      "\n",
      "\n"
     ]
    },
    {
     "name": "stderr",
     "output_type": "stream",
     "text": [
      "[Succeeded / Failed / Skipped / Total] 58 / 11 / 5 / 74:  38%|███▊      | 75/200 [45:55<1:16:32, 36.74s/it]/scratch/sp6646/envs_dirs/swap_env/lib/python3.8/site-packages/textattack/loggers/csv_logger.py:41: FutureWarning: The frame.append method is deprecated and will be removed from pandas in a future version. Use pandas.concat instead.\n",
      "  self.df = self.df.append(row, ignore_index=True)\n",
      "[Succeeded / Failed / Skipped / Total] 59 / 11 / 5 / 75:  38%|███▊      | 75/200 [45:55<1:16:32, 36.74s/it]"
     ]
    },
    {
     "name": "stdout",
     "output_type": "stream",
     "text": [
      "--------------------------------------------- Result 75 ---------------------------------------------\n",
      "[[Negative (99%)]] --> [[Positive (79%)]]\n",
      "\n",
      "a string of rehashed sight [[gags]] based in [[insipid]] [[vulgarity]] . \n",
      "\n",
      "a string of rehashed sight [[chuckles]] based in [[harmless]] [[playfulness]] . \n",
      "\n",
      "\n"
     ]
    },
    {
     "name": "stderr",
     "output_type": "stream",
     "text": [
      "[Succeeded / Failed / Skipped / Total] 59 / 11 / 5 / 75:  38%|███▊      | 76/200 [46:39<1:16:08, 36.84s/it]/scratch/sp6646/envs_dirs/swap_env/lib/python3.8/site-packages/textattack/loggers/csv_logger.py:41: FutureWarning: The frame.append method is deprecated and will be removed from pandas in a future version. Use pandas.concat instead.\n",
      "  self.df = self.df.append(row, ignore_index=True)\n",
      "[Succeeded / Failed / Skipped / Total] 60 / 11 / 5 / 76:  38%|███▊      | 76/200 [46:39<1:16:08, 36.84s/it]"
     ]
    },
    {
     "name": "stdout",
     "output_type": "stream",
     "text": [
      "--------------------------------------------- Result 76 ---------------------------------------------\n",
      "[[Positive (97%)]] --> [[Negative (86%)]]\n",
      "\n",
      "among the year 's most [[intriguing]] [[explorations]] of alientation . \n",
      "\n",
      "among the year 's most [[baffling]] [[scrutinize]] of alientation . \n",
      "\n",
      "\n"
     ]
    },
    {
     "name": "stderr",
     "output_type": "stream",
     "text": [
      "[Succeeded / Failed / Skipped / Total] 60 / 11 / 5 / 76:  38%|███▊      | 77/200 [47:05<1:15:13, 36.69s/it]/scratch/sp6646/envs_dirs/swap_env/lib/python3.8/site-packages/textattack/loggers/csv_logger.py:41: FutureWarning: The frame.append method is deprecated and will be removed from pandas in a future version. Use pandas.concat instead.\n",
      "  self.df = self.df.append(row, ignore_index=True)\n",
      "[Succeeded / Failed / Skipped / Total] 61 / 11 / 5 / 77:  38%|███▊      | 77/200 [47:05<1:15:13, 36.69s/it]"
     ]
    },
    {
     "name": "stdout",
     "output_type": "stream",
     "text": [
      "--------------------------------------------- Result 77 ---------------------------------------------\n",
      "[[Negative (99%)]] --> [[Positive (97%)]]\n",
      "\n",
      "the movie [[fails]] to live up to the sum of its parts . \n",
      "\n",
      "the movie [[overlooking]] to live up to the sum of its parts . \n",
      "\n",
      "\n"
     ]
    },
    {
     "name": "stderr",
     "output_type": "stream",
     "text": [
      "[Succeeded / Failed / Skipped / Total] 61 / 11 / 5 / 77:  39%|███▉      | 78/200 [48:05<1:15:12, 36.99s/it]/scratch/sp6646/envs_dirs/swap_env/lib/python3.8/site-packages/textattack/loggers/csv_logger.py:41: FutureWarning: The frame.append method is deprecated and will be removed from pandas in a future version. Use pandas.concat instead.\n",
      "  self.df = self.df.append(row, ignore_index=True)\n",
      "[Succeeded / Failed / Skipped / Total] 62 / 11 / 5 / 78:  39%|███▉      | 78/200 [48:05<1:15:12, 36.99s/it]"
     ]
    },
    {
     "name": "stdout",
     "output_type": "stream",
     "text": [
      "--------------------------------------------- Result 78 ---------------------------------------------\n",
      "[[Positive (92%)]] --> [[Negative (51%)]]\n",
      "\n",
      "the son 's [[room]] is a [[triumph]] of gentility that [[earns]] its [[moments]] of pathos . \n",
      "\n",
      "the son 's [[bureaus]] is a [[triomphe]] of gentility that [[getting]] its [[occasion]] of pathos . \n",
      "\n",
      "\n"
     ]
    },
    {
     "name": "stderr",
     "output_type": "stream",
     "text": [
      "[Succeeded / Failed / Skipped / Total] 62 / 11 / 5 / 78:  40%|███▉      | 79/200 [49:27<1:15:44, 37.56s/it]/scratch/sp6646/envs_dirs/swap_env/lib/python3.8/site-packages/textattack/loggers/csv_logger.py:41: FutureWarning: The frame.append method is deprecated and will be removed from pandas in a future version. Use pandas.concat instead.\n",
      "  self.df = self.df.append(row, ignore_index=True)\n",
      "[Succeeded / Failed / Skipped / Total] 62 / 12 / 5 / 79:  40%|███▉      | 79/200 [49:27<1:15:44, 37.56s/it]"
     ]
    },
    {
     "name": "stdout",
     "output_type": "stream",
     "text": [
      "--------------------------------------------- Result 79 ---------------------------------------------\n",
      "[[Positive (92%)]] --> [[[FAILED]]]\n",
      "\n",
      "there is nothing outstanding about this film , but it is good enough and will likely be appreciated most by sailors and folks who know their way around a submarine . \n",
      "\n",
      "\n"
     ]
    },
    {
     "name": "stderr",
     "output_type": "stream",
     "text": [
      "[Succeeded / Failed / Skipped / Total] 62 / 12 / 5 / 79:  40%|████      | 80/200 [50:49<1:16:14, 38.12s/it]/scratch/sp6646/envs_dirs/swap_env/lib/python3.8/site-packages/textattack/loggers/csv_logger.py:41: FutureWarning: The frame.append method is deprecated and will be removed from pandas in a future version. Use pandas.concat instead.\n",
      "  self.df = self.df.append(row, ignore_index=True)\n",
      "[Succeeded / Failed / Skipped / Total] 62 / 13 / 5 / 80:  40%|████      | 80/200 [50:49<1:16:14, 38.12s/it]"
     ]
    },
    {
     "name": "stdout",
     "output_type": "stream",
     "text": [
      "--------------------------------------------- Result 80 ---------------------------------------------\n",
      "[[Negative (93%)]] --> [[[FAILED]]]\n",
      "\n",
      "this is a train wreck of an action film -- a stupefying attempt by the filmmakers to force-feed james bond into the mindless xxx mold and throw 40 years of cinematic history down the toilet in favor of bright flashes and loud bangs . \n",
      "\n",
      "\n"
     ]
    },
    {
     "name": "stderr",
     "output_type": "stream",
     "text": [
      "[Succeeded / Failed / Skipped / Total] 62 / 13 / 5 / 80:  40%|████      | 81/200 [51:44<1:16:01, 38.33s/it]/scratch/sp6646/envs_dirs/swap_env/lib/python3.8/site-packages/textattack/loggers/csv_logger.py:41: FutureWarning: The frame.append method is deprecated and will be removed from pandas in a future version. Use pandas.concat instead.\n",
      "  self.df = self.df.append(row, ignore_index=True)\n",
      "[Succeeded / Failed / Skipped / Total] 63 / 13 / 5 / 81:  40%|████      | 81/200 [51:44<1:16:01, 38.33s/it]"
     ]
    },
    {
     "name": "stdout",
     "output_type": "stream",
     "text": [
      "--------------------------------------------- Result 81 ---------------------------------------------\n",
      "[[Positive (99%)]] --> [[Negative (82%)]]\n",
      "\n",
      "the draw ( for `` big bad [[love]] '' ) is a [[solid]] [[performance]] by arliss howard . \n",
      "\n",
      "the draw ( for `` big bad [[worshipped]] '' ) is a [[sonora]] [[executions]] by arliss howard . \n",
      "\n",
      "\n"
     ]
    },
    {
     "name": "stderr",
     "output_type": "stream",
     "text": [
      "[Succeeded / Failed / Skipped / Total] 63 / 13 / 5 / 81:  41%|████      | 82/200 [53:07<1:16:26, 38.87s/it]/scratch/sp6646/envs_dirs/swap_env/lib/python3.8/site-packages/textattack/loggers/csv_logger.py:41: FutureWarning: The frame.append method is deprecated and will be removed from pandas in a future version. Use pandas.concat instead.\n",
      "  self.df = self.df.append(row, ignore_index=True)\n",
      "[Succeeded / Failed / Skipped / Total] 63 / 14 / 5 / 82:  41%|████      | 82/200 [53:07<1:16:26, 38.87s/it]"
     ]
    },
    {
     "name": "stdout",
     "output_type": "stream",
     "text": [
      "--------------------------------------------- Result 82 ---------------------------------------------\n",
      "[[Negative (78%)]] --> [[[FAILED]]]\n",
      "\n",
      "green might want to hang onto that ski mask , as robbery may be the only way to pay for his next project . \n",
      "\n",
      "\n"
     ]
    },
    {
     "name": "stderr",
     "output_type": "stream",
     "text": [
      "[Succeeded / Failed / Skipped / Total] 63 / 14 / 5 / 82:  42%|████▏     | 83/200 [54:02<1:16:10, 39.06s/it]/scratch/sp6646/envs_dirs/swap_env/lib/python3.8/site-packages/textattack/loggers/csv_logger.py:41: FutureWarning: The frame.append method is deprecated and will be removed from pandas in a future version. Use pandas.concat instead.\n",
      "  self.df = self.df.append(row, ignore_index=True)\n",
      "[Succeeded / Failed / Skipped / Total] 64 / 14 / 5 / 83:  42%|████▏     | 83/200 [54:02<1:16:10, 39.06s/it]"
     ]
    },
    {
     "name": "stdout",
     "output_type": "stream",
     "text": [
      "--------------------------------------------- Result 83 ---------------------------------------------\n",
      "[[Negative (85%)]] --> [[Positive (54%)]]\n",
      "\n",
      "it 's one pussy-ass [[world]] when even killer-thrillers revolve around [[group]] [[therapy]] sessions . \n",
      "\n",
      "it 's one pussy-ass [[universal]] when even killer-thrillers revolve around [[grouping]] [[treat]] sessions . \n",
      "\n",
      "\n"
     ]
    },
    {
     "name": "stderr",
     "output_type": "stream",
     "text": [
      "[Succeeded / Failed / Skipped / Total] 64 / 14 / 5 / 83:  42%|████▏     | 84/200 [54:02<1:14:38, 38.60s/it]/scratch/sp6646/envs_dirs/swap_env/lib/python3.8/site-packages/textattack/loggers/csv_logger.py:41: FutureWarning: The frame.append method is deprecated and will be removed from pandas in a future version. Use pandas.concat instead.\n",
      "  self.df = self.df.append(row, ignore_index=True)\n",
      "[Succeeded / Failed / Skipped / Total] 64 / 14 / 6 / 84:  42%|████▏     | 84/200 [54:02<1:14:38, 38.60s/it]"
     ]
    },
    {
     "name": "stdout",
     "output_type": "stream",
     "text": [
      "--------------------------------------------- Result 84 ---------------------------------------------\n",
      "[[Negative (67%)]] --> [[[SKIPPED]]]\n",
      "\n",
      "though it 's become almost redundant to say so , major kudos go to leigh for actually casting people who look working-class . \n",
      "\n",
      "\n"
     ]
    },
    {
     "name": "stderr",
     "output_type": "stream",
     "text": [
      "[Succeeded / Failed / Skipped / Total] 64 / 14 / 6 / 84:  42%|████▎     | 85/200 [54:37<1:13:54, 38.56s/it]/scratch/sp6646/envs_dirs/swap_env/lib/python3.8/site-packages/textattack/loggers/csv_logger.py:41: FutureWarning: The frame.append method is deprecated and will be removed from pandas in a future version. Use pandas.concat instead.\n",
      "  self.df = self.df.append(row, ignore_index=True)\n",
      "[Succeeded / Failed / Skipped / Total] 65 / 14 / 6 / 85:  42%|████▎     | 85/200 [54:37<1:13:54, 38.56s/it]"
     ]
    },
    {
     "name": "stdout",
     "output_type": "stream",
     "text": [
      "--------------------------------------------- Result 85 ---------------------------------------------\n",
      "[[Positive (96%)]] --> [[Negative (57%)]]\n",
      "\n",
      "the [[band]] 's [[courage]] in the face of official repression is [[inspiring]] , especially for aging hippies ( this one included ) . \n",
      "\n",
      "the [[bands]] 's [[plucky]] in the face of official repression is [[motivated]] , especially for aging hippies ( this one included ) . \n",
      "\n",
      "\n"
     ]
    },
    {
     "name": "stderr",
     "output_type": "stream",
     "text": [
      "[Succeeded / Failed / Skipped / Total] 65 / 14 / 6 / 85:  43%|████▎     | 86/200 [55:13<1:13:12, 38.53s/it]/scratch/sp6646/envs_dirs/swap_env/lib/python3.8/site-packages/textattack/loggers/csv_logger.py:41: FutureWarning: The frame.append method is deprecated and will be removed from pandas in a future version. Use pandas.concat instead.\n",
      "  self.df = self.df.append(row, ignore_index=True)\n",
      "[Succeeded / Failed / Skipped / Total] 66 / 14 / 6 / 86:  43%|████▎     | 86/200 [55:13<1:13:12, 38.53s/it]"
     ]
    },
    {
     "name": "stdout",
     "output_type": "stream",
     "text": [
      "--------------------------------------------- Result 86 ---------------------------------------------\n",
      "[[Positive (95%)]] --> [[Negative (54%)]]\n",
      "\n",
      "the movie [[achieves]] as great an [[impact]] by keeping these thoughts hidden as ... ( quills ) did by showing them . \n",
      "\n",
      "the movie [[obtains]] as great an [[incidence]] by keeping these thoughts hidden as ... ( quills ) did by showing them . \n",
      "\n",
      "\n"
     ]
    },
    {
     "name": "stderr",
     "output_type": "stream",
     "text": [
      "[Succeeded / Failed / Skipped / Total] 66 / 14 / 6 / 86:  44%|████▎     | 87/200 [55:40<1:12:18, 38.40s/it]/scratch/sp6646/envs_dirs/swap_env/lib/python3.8/site-packages/textattack/loggers/csv_logger.py:41: FutureWarning: The frame.append method is deprecated and will be removed from pandas in a future version. Use pandas.concat instead.\n",
      "  self.df = self.df.append(row, ignore_index=True)\n",
      "[Succeeded / Failed / Skipped / Total] 67 / 14 / 6 / 87:  44%|████▎     | 87/200 [55:40<1:12:18, 38.40s/it]"
     ]
    },
    {
     "name": "stdout",
     "output_type": "stream",
     "text": [
      "--------------------------------------------- Result 87 ---------------------------------------------\n",
      "[[Negative (99%)]] --> [[Positive (66%)]]\n",
      "\n",
      "the film [[flat]] lines when it should peak and is more [[missed]] opportunity and trifle than dark , decadent truffle . \n",
      "\n",
      "the film [[unfurnished]] lines when it should peak and is more [[grable]] opportunity and trifle than dark , decadent truffle . \n",
      "\n",
      "\n"
     ]
    },
    {
     "name": "stderr",
     "output_type": "stream",
     "text": [
      "[Succeeded / Failed / Skipped / Total] 67 / 14 / 6 / 87:  44%|████▍     | 88/200 [55:53<1:11:08, 38.11s/it]/scratch/sp6646/envs_dirs/swap_env/lib/python3.8/site-packages/textattack/loggers/csv_logger.py:41: FutureWarning: The frame.append method is deprecated and will be removed from pandas in a future version. Use pandas.concat instead.\n",
      "  self.df = self.df.append(row, ignore_index=True)\n",
      "[Succeeded / Failed / Skipped / Total] 68 / 14 / 6 / 88:  44%|████▍     | 88/200 [55:53<1:11:08, 38.11s/it]"
     ]
    },
    {
     "name": "stdout",
     "output_type": "stream",
     "text": [
      "--------------------------------------------- Result 88 ---------------------------------------------\n",
      "[[Positive (90%)]] --> [[Negative (88%)]]\n",
      "\n",
      "jaglom ... put ( s ) the audience in the [[privileged]] position of eavesdropping on his characters \n",
      "\n",
      "jaglom ... put ( s ) the audience in the [[liens]] position of eavesdropping on his characters \n",
      "\n",
      "\n"
     ]
    },
    {
     "name": "stderr",
     "output_type": "stream",
     "text": [
      "[Succeeded / Failed / Skipped / Total] 68 / 14 / 6 / 88:  44%|████▍     | 89/200 [56:21<1:10:17, 38.00s/it]/scratch/sp6646/envs_dirs/swap_env/lib/python3.8/site-packages/textattack/loggers/csv_logger.py:41: FutureWarning: The frame.append method is deprecated and will be removed from pandas in a future version. Use pandas.concat instead.\n",
      "  self.df = self.df.append(row, ignore_index=True)\n",
      "[Succeeded / Failed / Skipped / Total] 69 / 14 / 6 / 89:  44%|████▍     | 89/200 [56:21<1:10:17, 38.00s/it]"
     ]
    },
    {
     "name": "stdout",
     "output_type": "stream",
     "text": [
      "--------------------------------------------- Result 89 ---------------------------------------------\n",
      "[[Positive (62%)]] --> [[Negative (51%)]]\n",
      "\n",
      "fresnadillo 's dark and jolting images have a [[way]] of plying into your subconscious like the nightmare you had a week ago that wo n't go away . \n",
      "\n",
      "fresnadillo 's dark and jolting images have a [[manner]] of plying into your subconscious like the nightmare you had a week ago that wo n't go away . \n",
      "\n",
      "\n"
     ]
    },
    {
     "name": "stderr",
     "output_type": "stream",
     "text": [
      "[Succeeded / Failed / Skipped / Total] 69 / 14 / 6 / 89:  45%|████▌     | 90/200 [56:45<1:09:21, 37.83s/it]/scratch/sp6646/envs_dirs/swap_env/lib/python3.8/site-packages/textattack/loggers/csv_logger.py:41: FutureWarning: The frame.append method is deprecated and will be removed from pandas in a future version. Use pandas.concat instead.\n",
      "  self.df = self.df.append(row, ignore_index=True)\n",
      "[Succeeded / Failed / Skipped / Total] 70 / 14 / 6 / 90:  45%|████▌     | 90/200 [56:45<1:09:21, 37.84s/it]"
     ]
    },
    {
     "name": "stdout",
     "output_type": "stream",
     "text": [
      "--------------------------------------------- Result 90 ---------------------------------------------\n",
      "[[Positive (98%)]] --> [[Negative (69%)]]\n",
      "\n",
      "we know the plot 's a little crazy , but it [[held]] my interest from start to finish . \n",
      "\n",
      "we know the plot 's a little crazy , but it [[chocks]] my interest from start to finish . \n",
      "\n",
      "\n"
     ]
    },
    {
     "name": "stderr",
     "output_type": "stream",
     "text": [
      "[Succeeded / Failed / Skipped / Total] 70 / 14 / 6 / 90:  46%|████▌     | 91/200 [57:26<1:08:48, 37.88s/it]/scratch/sp6646/envs_dirs/swap_env/lib/python3.8/site-packages/textattack/loggers/csv_logger.py:41: FutureWarning: The frame.append method is deprecated and will be removed from pandas in a future version. Use pandas.concat instead.\n",
      "  self.df = self.df.append(row, ignore_index=True)\n",
      "[Succeeded / Failed / Skipped / Total] 71 / 14 / 6 / 91:  46%|████▌     | 91/200 [57:26<1:08:48, 37.88s/it]"
     ]
    },
    {
     "name": "stdout",
     "output_type": "stream",
     "text": [
      "--------------------------------------------- Result 91 ---------------------------------------------\n",
      "[[Positive (98%)]] --> [[Negative (51%)]]\n",
      "\n",
      "it 's a scattershot [[affair]] , but when it hits its [[mark]] it 's [[brilliant]] . \n",
      "\n",
      "it 's a scattershot [[issue]] , but when it hits its [[branded]] it 's [[glossy]] . \n",
      "\n",
      "\n"
     ]
    },
    {
     "name": "stderr",
     "output_type": "stream",
     "text": [
      "[Succeeded / Failed / Skipped / Total] 71 / 14 / 6 / 91:  46%|████▌     | 92/200 [58:46<1:08:59, 38.33s/it]/scratch/sp6646/envs_dirs/swap_env/lib/python3.8/site-packages/textattack/loggers/csv_logger.py:41: FutureWarning: The frame.append method is deprecated and will be removed from pandas in a future version. Use pandas.concat instead.\n",
      "  self.df = self.df.append(row, ignore_index=True)\n",
      "[Succeeded / Failed / Skipped / Total] 71 / 15 / 6 / 92:  46%|████▌     | 92/200 [58:46<1:08:59, 38.33s/it]"
     ]
    },
    {
     "name": "stdout",
     "output_type": "stream",
     "text": [
      "--------------------------------------------- Result 92 ---------------------------------------------\n",
      "[[Positive (99%)]] --> [[[FAILED]]]\n",
      "\n",
      "hardly a masterpiece , but it introduces viewers to a good charitable enterprise and some interesting real people . \n",
      "\n",
      "\n"
     ]
    },
    {
     "name": "stderr",
     "output_type": "stream",
     "text": [
      "[Succeeded / Failed / Skipped / Total] 71 / 15 / 6 / 92:  46%|████▋     | 93/200 [58:47<1:07:38, 37.93s/it]/scratch/sp6646/envs_dirs/swap_env/lib/python3.8/site-packages/textattack/loggers/csv_logger.py:41: FutureWarning: The frame.append method is deprecated and will be removed from pandas in a future version. Use pandas.concat instead.\n",
      "  self.df = self.df.append(row, ignore_index=True)\n",
      "[Succeeded / Failed / Skipped / Total] 71 / 15 / 7 / 93:  46%|████▋     | 93/200 [58:47<1:07:38, 37.93s/it]"
     ]
    },
    {
     "name": "stdout",
     "output_type": "stream",
     "text": [
      "--------------------------------------------- Result 93 ---------------------------------------------\n",
      "[[Positive (87%)]] --> [[[SKIPPED]]]\n",
      "\n",
      "you wo n't like roger , but you will quickly recognize him . \n",
      "\n",
      "\n"
     ]
    },
    {
     "name": "stderr",
     "output_type": "stream",
     "text": [
      "[Succeeded / Failed / Skipped / Total] 71 / 15 / 7 / 93:  47%|████▋     | 94/200 [58:48<1:06:19, 37.54s/it]/scratch/sp6646/envs_dirs/swap_env/lib/python3.8/site-packages/textattack/loggers/csv_logger.py:41: FutureWarning: The frame.append method is deprecated and will be removed from pandas in a future version. Use pandas.concat instead.\n",
      "  self.df = self.df.append(row, ignore_index=True)\n",
      "[Succeeded / Failed / Skipped / Total] 71 / 15 / 8 / 94:  47%|████▋     | 94/200 [58:48<1:06:19, 37.54s/it]"
     ]
    },
    {
     "name": "stdout",
     "output_type": "stream",
     "text": [
      "--------------------------------------------- Result 94 ---------------------------------------------\n",
      "[[Negative (51%)]] --> [[[SKIPPED]]]\n",
      "\n",
      "if steven soderbergh 's ` solaris ' is a failure it is a glorious failure . \n",
      "\n",
      "\n"
     ]
    },
    {
     "name": "stderr",
     "output_type": "stream",
     "text": [
      "[Succeeded / Failed / Skipped / Total] 71 / 15 / 8 / 94:  48%|████▊     | 95/200 [1:00:09<1:06:29, 38.00s/it]/scratch/sp6646/envs_dirs/swap_env/lib/python3.8/site-packages/textattack/loggers/csv_logger.py:41: FutureWarning: The frame.append method is deprecated and will be removed from pandas in a future version. Use pandas.concat instead.\n",
      "  self.df = self.df.append(row, ignore_index=True)\n",
      "[Succeeded / Failed / Skipped / Total] 72 / 15 / 8 / 95:  48%|████▊     | 95/200 [1:00:09<1:06:29, 38.00s/it]"
     ]
    },
    {
     "name": "stdout",
     "output_type": "stream",
     "text": [
      "--------------------------------------------- Result 95 ---------------------------------------------\n",
      "[[Positive (96%)]] --> [[Negative (55%)]]\n",
      "\n",
      "byler [[reveals]] his characters in a [[way]] that intrigues and even [[fascinates]] us , and he never [[reduces]] the situation to simple melodrama . \n",
      "\n",
      "byler [[betrays]] his characters in a [[chemin]] that intrigues and even [[disgusts]] us , and he never [[decrease]] the situation to simple melodrama . \n",
      "\n",
      "\n"
     ]
    },
    {
     "name": "stderr",
     "output_type": "stream",
     "text": [
      "[Succeeded / Failed / Skipped / Total] 72 / 15 / 8 / 95:  48%|████▊     | 96/200 [1:00:11<1:05:12, 37.62s/it]/scratch/sp6646/envs_dirs/swap_env/lib/python3.8/site-packages/textattack/loggers/csv_logger.py:41: FutureWarning: The frame.append method is deprecated and will be removed from pandas in a future version. Use pandas.concat instead.\n",
      "  self.df = self.df.append(row, ignore_index=True)\n",
      "[Succeeded / Failed / Skipped / Total] 72 / 15 / 9 / 96:  48%|████▊     | 96/200 [1:00:11<1:05:12, 37.62s/it]"
     ]
    },
    {
     "name": "stdout",
     "output_type": "stream",
     "text": [
      "--------------------------------------------- Result 96 ---------------------------------------------\n",
      "[[Positive (87%)]] --> [[[SKIPPED]]]\n",
      "\n",
      "this riveting world war ii moral suspense story deals with the shadow side of american culture : racial prejudice in its ugly and diverse forms . \n",
      "\n",
      "\n"
     ]
    },
    {
     "name": "stderr",
     "output_type": "stream",
     "text": [
      "[Succeeded / Failed / Skipped / Total] 72 / 15 / 9 / 96:  48%|████▊     | 97/200 [1:00:40<1:04:25, 37.53s/it]/scratch/sp6646/envs_dirs/swap_env/lib/python3.8/site-packages/textattack/loggers/csv_logger.py:41: FutureWarning: The frame.append method is deprecated and will be removed from pandas in a future version. Use pandas.concat instead.\n",
      "  self.df = self.df.append(row, ignore_index=True)\n",
      "[Succeeded / Failed / Skipped / Total] 73 / 15 / 9 / 97:  48%|████▊     | 97/200 [1:00:40<1:04:26, 37.53s/it]"
     ]
    },
    {
     "name": "stdout",
     "output_type": "stream",
     "text": [
      "--------------------------------------------- Result 97 ---------------------------------------------\n",
      "[[Negative (61%)]] --> [[Positive (53%)]]\n",
      "\n",
      "it 's difficult to imagine the process that produced such a script , but here 's guessing that spray cheese and [[underarm]] noises [[played]] a crucial role . \n",
      "\n",
      "it 's difficult to imagine the process that produced such a script , but here 's guessing that spray cheese and [[armpit]] noises [[realised]] a crucial role . \n",
      "\n",
      "\n"
     ]
    },
    {
     "name": "stderr",
     "output_type": "stream",
     "text": [
      "[Succeeded / Failed / Skipped / Total] 73 / 15 / 9 / 97:  49%|████▉     | 98/200 [1:00:57<1:03:26, 37.32s/it]/scratch/sp6646/envs_dirs/swap_env/lib/python3.8/site-packages/textattack/loggers/csv_logger.py:41: FutureWarning: The frame.append method is deprecated and will be removed from pandas in a future version. Use pandas.concat instead.\n",
      "  self.df = self.df.append(row, ignore_index=True)\n",
      "[Succeeded / Failed / Skipped / Total] 74 / 15 / 9 / 98:  49%|████▉     | 98/200 [1:00:57<1:03:26, 37.32s/it]"
     ]
    },
    {
     "name": "stdout",
     "output_type": "stream",
     "text": [
      "--------------------------------------------- Result 98 ---------------------------------------------\n",
      "[[Positive (94%)]] --> [[Negative (79%)]]\n",
      "\n",
      "no sophomore slump for director sam mendes , who segues from oscar winner to oscar-winning potential with a [[smooth]] sleight of hand . \n",
      "\n",
      "no sophomore slump for director sam mendes , who segues from oscar winner to oscar-winning potential with a [[irreproachable]] sleight of hand . \n",
      "\n",
      "\n"
     ]
    },
    {
     "name": "stderr",
     "output_type": "stream",
     "text": [
      "[Succeeded / Failed / Skipped / Total] 74 / 15 / 9 / 98:  50%|████▉     | 99/200 [1:01:19<1:02:33, 37.16s/it]/scratch/sp6646/envs_dirs/swap_env/lib/python3.8/site-packages/textattack/loggers/csv_logger.py:41: FutureWarning: The frame.append method is deprecated and will be removed from pandas in a future version. Use pandas.concat instead.\n",
      "  self.df = self.df.append(row, ignore_index=True)\n",
      "[Succeeded / Failed / Skipped / Total] 75 / 15 / 9 / 99:  50%|████▉     | 99/200 [1:01:19<1:02:33, 37.16s/it]"
     ]
    },
    {
     "name": "stdout",
     "output_type": "stream",
     "text": [
      "--------------------------------------------- Result 99 ---------------------------------------------\n",
      "[[Negative (97%)]] --> [[Positive (78%)]]\n",
      "\n",
      "on the whole , the movie [[lacks]] wit , feeling and believability to compensate for its incessant coarseness and banality . \n",
      "\n",
      "on the whole , the movie [[shortfall]] wit , feeling and believability to compensate for its incessant coarseness and banality . \n",
      "\n",
      "\n"
     ]
    },
    {
     "name": "stderr",
     "output_type": "stream",
     "text": [
      "[Succeeded / Failed / Skipped / Total] 75 / 15 / 9 / 99:  50%|█████     | 100/200 [1:02:10<1:02:10, 37.31s/it]/scratch/sp6646/envs_dirs/swap_env/lib/python3.8/site-packages/textattack/loggers/csv_logger.py:41: FutureWarning: The frame.append method is deprecated and will be removed from pandas in a future version. Use pandas.concat instead.\n",
      "  self.df = self.df.append(row, ignore_index=True)\n",
      "[Succeeded / Failed / Skipped / Total] 76 / 15 / 9 / 100:  50%|█████     | 100/200 [1:02:10<1:02:10, 37.31s/it]"
     ]
    },
    {
     "name": "stdout",
     "output_type": "stream",
     "text": [
      "--------------------------------------------- Result 100 ---------------------------------------------\n",
      "[[Negative (93%)]] --> [[Positive (58%)]]\n",
      "\n",
      "why [[make]] a [[documentary]] about these [[marginal]] historical figures ? \n",
      "\n",
      "why [[bringing]] a [[text]] about these [[modest]] historical figures ? \n",
      "\n",
      "\n"
     ]
    },
    {
     "name": "stderr",
     "output_type": "stream",
     "text": [
      "[Succeeded / Failed / Skipped / Total] 76 / 15 / 9 / 100:  50%|█████     | 101/200 [1:02:55<1:01:40, 37.38s/it]/scratch/sp6646/envs_dirs/swap_env/lib/python3.8/site-packages/textattack/loggers/csv_logger.py:41: FutureWarning: The frame.append method is deprecated and will be removed from pandas in a future version. Use pandas.concat instead.\n",
      "  self.df = self.df.append(row, ignore_index=True)\n",
      "[Succeeded / Failed / Skipped / Total] 77 / 15 / 9 / 101:  50%|█████     | 101/200 [1:02:55<1:01:40, 37.38s/it]"
     ]
    },
    {
     "name": "stdout",
     "output_type": "stream",
     "text": [
      "--------------------------------------------- Result 101 ---------------------------------------------\n",
      "[[Positive (96%)]] --> [[Negative (52%)]]\n",
      "\n",
      "neither parker nor donovan is a typical romantic lead , but they [[bring]] a [[fresh]] , quirky [[charm]] to the formula . \n",
      "\n",
      "neither parker nor donovan is a typical romantic lead , but they [[assumes]] a [[mild]] , quirky [[exudes]] to the formula . \n",
      "\n",
      "\n"
     ]
    },
    {
     "name": "stderr",
     "output_type": "stream",
     "text": [
      "[Succeeded / Failed / Skipped / Total] 77 / 15 / 9 / 101:  51%|█████     | 102/200 [1:03:24<1:00:55, 37.30s/it]/scratch/sp6646/envs_dirs/swap_env/lib/python3.8/site-packages/textattack/loggers/csv_logger.py:41: FutureWarning: The frame.append method is deprecated and will be removed from pandas in a future version. Use pandas.concat instead.\n",
      "  self.df = self.df.append(row, ignore_index=True)\n",
      "[Succeeded / Failed / Skipped / Total] 78 / 15 / 9 / 102:  51%|█████     | 102/200 [1:03:24<1:00:55, 37.30s/it]"
     ]
    },
    {
     "name": "stdout",
     "output_type": "stream",
     "text": [
      "--------------------------------------------- Result 102 ---------------------------------------------\n",
      "[[Negative (92%)]] --> [[Positive (68%)]]\n",
      "\n",
      "his last movie was poetically romantic and full of indelible images , but his latest [[has]] nothing [[going]] for it . \n",
      "\n",
      "his last movie was poetically romantic and full of indelible images , but his latest [[enjoy]] nothing [[goes]] for it . \n",
      "\n",
      "\n"
     ]
    },
    {
     "name": "stderr",
     "output_type": "stream",
     "text": [
      "[Succeeded / Failed / Skipped / Total] 78 / 15 / 9 / 102:  52%|█████▏    | 103/200 [1:03:50<1:00:07, 37.19s/it]/scratch/sp6646/envs_dirs/swap_env/lib/python3.8/site-packages/textattack/loggers/csv_logger.py:41: FutureWarning: The frame.append method is deprecated and will be removed from pandas in a future version. Use pandas.concat instead.\n",
      "  self.df = self.df.append(row, ignore_index=True)\n",
      "[Succeeded / Failed / Skipped / Total] 79 / 15 / 9 / 103:  52%|█████▏    | 103/200 [1:03:50<1:00:07, 37.19s/it]"
     ]
    },
    {
     "name": "stdout",
     "output_type": "stream",
     "text": [
      "--------------------------------------------- Result 103 ---------------------------------------------\n",
      "[[Positive (88%)]] --> [[Negative (57%)]]\n",
      "\n",
      "does paint some memorable images ... , but makhmalbaf [[keeps]] her distance from the characters \n",
      "\n",
      "does paint some memorable images ... , but makhmalbaf [[chocks]] her distance from the characters \n",
      "\n",
      "\n"
     ]
    },
    {
     "name": "stderr",
     "output_type": "stream",
     "text": [
      "[Succeeded / Failed / Skipped / Total] 79 / 15 / 9 / 103:  52%|█████▏    | 104/200 [1:04:25<59:28, 37.17s/it]  /scratch/sp6646/envs_dirs/swap_env/lib/python3.8/site-packages/textattack/loggers/csv_logger.py:41: FutureWarning: The frame.append method is deprecated and will be removed from pandas in a future version. Use pandas.concat instead.\n",
      "  self.df = self.df.append(row, ignore_index=True)\n",
      "[Succeeded / Failed / Skipped / Total] 80 / 15 / 9 / 104:  52%|█████▏    | 104/200 [1:04:25<59:28, 37.17s/it]"
     ]
    },
    {
     "name": "stdout",
     "output_type": "stream",
     "text": [
      "--------------------------------------------- Result 104 ---------------------------------------------\n",
      "[[Positive (100%)]] --> [[Negative (75%)]]\n",
      "\n",
      "a [[gripping]] movie , [[played]] with performances that are all understated and touching . \n",
      "\n",
      "a [[hallucinatory]] movie , [[suffered]] with performances that are all understated and touching . \n",
      "\n",
      "\n"
     ]
    },
    {
     "name": "stderr",
     "output_type": "stream",
     "text": [
      "[Succeeded / Failed / Skipped / Total] 80 / 15 / 9 / 104:  52%|█████▎    | 105/200 [1:05:08<58:56, 37.22s/it]/scratch/sp6646/envs_dirs/swap_env/lib/python3.8/site-packages/textattack/loggers/csv_logger.py:41: FutureWarning: The frame.append method is deprecated and will be removed from pandas in a future version. Use pandas.concat instead.\n",
      "  self.df = self.df.append(row, ignore_index=True)\n",
      "[Succeeded / Failed / Skipped / Total] 81 / 15 / 9 / 105:  52%|█████▎    | 105/200 [1:05:08<58:56, 37.22s/it]"
     ]
    },
    {
     "name": "stdout",
     "output_type": "stream",
     "text": [
      "--------------------------------------------- Result 105 ---------------------------------------------\n",
      "[[Positive (85%)]] --> [[Negative (55%)]]\n",
      "\n",
      "it 's one of those baseball pictures where the hero is stoic , the wife is patient , the kids are as cute as all get-out and the odds against success are long enough to intimidate , but short enough to [[make]] a [[dream]] seem possible . \n",
      "\n",
      "it 's one of those baseball pictures where the hero is stoic , the wife is patient , the kids are as cute as all get-out and the odds against success are long enough to intimidate , but short enough to [[put]] a [[daydream]] seem possible . \n",
      "\n",
      "\n"
     ]
    },
    {
     "name": "stderr",
     "output_type": "stream",
     "text": [
      "[Succeeded / Failed / Skipped / Total] 81 / 15 / 9 / 105:  53%|█████▎    | 106/200 [1:05:56<58:29, 37.33s/it]/scratch/sp6646/envs_dirs/swap_env/lib/python3.8/site-packages/textattack/loggers/csv_logger.py:41: FutureWarning: The frame.append method is deprecated and will be removed from pandas in a future version. Use pandas.concat instead.\n",
      "  self.df = self.df.append(row, ignore_index=True)\n",
      "[Succeeded / Failed / Skipped / Total] 82 / 15 / 9 / 106:  53%|█████▎    | 106/200 [1:05:56<58:29, 37.33s/it]"
     ]
    },
    {
     "name": "stdout",
     "output_type": "stream",
     "text": [
      "--------------------------------------------- Result 106 ---------------------------------------------\n",
      "[[Negative (70%)]] --> [[Positive (51%)]]\n",
      "\n",
      "combining quick-cut editing and a blaring heavy metal much of the [[time]] , beck [[seems]] to [[be]] under the illusion that he 's shooting the latest system of a down video . \n",
      "\n",
      "combining quick-cut editing and a blaring heavy metal much of the [[moments]] , beck [[emerge]] to [[coming]] under the illusion that he 's shooting the latest system of a down video . \n",
      "\n",
      "\n"
     ]
    },
    {
     "name": "stderr",
     "output_type": "stream",
     "text": [
      "[Succeeded / Failed / Skipped / Total] 82 / 15 / 9 / 106:  54%|█████▎    | 107/200 [1:06:33<57:50, 37.32s/it]/scratch/sp6646/envs_dirs/swap_env/lib/python3.8/site-packages/textattack/loggers/csv_logger.py:41: FutureWarning: The frame.append method is deprecated and will be removed from pandas in a future version. Use pandas.concat instead.\n",
      "  self.df = self.df.append(row, ignore_index=True)\n",
      "[Succeeded / Failed / Skipped / Total] 83 / 15 / 9 / 107:  54%|█████▎    | 107/200 [1:06:33<57:50, 37.32s/it]"
     ]
    },
    {
     "name": "stdout",
     "output_type": "stream",
     "text": [
      "--------------------------------------------- Result 107 ---------------------------------------------\n",
      "[[Positive (99%)]] --> [[Negative (61%)]]\n",
      "\n",
      "the movie 's relatively simple plot and uncomplicated morality play [[well]] with the [[affable]] [[cast]] . \n",
      "\n",
      "the movie 's relatively simple plot and uncomplicated morality play [[right]] with the [[effusive]] [[hurled]] . \n",
      "\n",
      "\n"
     ]
    },
    {
     "name": "stderr",
     "output_type": "stream",
     "text": [
      "[Succeeded / Failed / Skipped / Total] 83 / 15 / 9 / 107:  54%|█████▍    | 108/200 [1:06:51<56:57, 37.14s/it]/scratch/sp6646/envs_dirs/swap_env/lib/python3.8/site-packages/textattack/loggers/csv_logger.py:41: FutureWarning: The frame.append method is deprecated and will be removed from pandas in a future version. Use pandas.concat instead.\n",
      "  self.df = self.df.append(row, ignore_index=True)\n",
      "[Succeeded / Failed / Skipped / Total] 84 / 15 / 9 / 108:  54%|█████▍    | 108/200 [1:06:51<56:57, 37.14s/it]"
     ]
    },
    {
     "name": "stdout",
     "output_type": "stream",
     "text": [
      "--------------------------------------------- Result 108 ---------------------------------------------\n",
      "[[Negative (69%)]] --> [[Positive (58%)]]\n",
      "\n",
      "what the director ca n't [[do]] is make either of val kilmer 's two personas interesting or worth caring about . \n",
      "\n",
      "what the director ca n't [[fait]] is make either of val kilmer 's two personas interesting or worth caring about . \n",
      "\n",
      "\n"
     ]
    },
    {
     "name": "stderr",
     "output_type": "stream",
     "text": [
      "[Succeeded / Failed / Skipped / Total] 84 / 15 / 9 / 108:  55%|█████▍    | 109/200 [1:07:26<56:18, 37.12s/it]/scratch/sp6646/envs_dirs/swap_env/lib/python3.8/site-packages/textattack/loggers/csv_logger.py:41: FutureWarning: The frame.append method is deprecated and will be removed from pandas in a future version. Use pandas.concat instead.\n",
      "  self.df = self.df.append(row, ignore_index=True)\n",
      "[Succeeded / Failed / Skipped / Total] 85 / 15 / 9 / 109:  55%|█████▍    | 109/200 [1:07:26<56:18, 37.12s/it]"
     ]
    },
    {
     "name": "stdout",
     "output_type": "stream",
     "text": [
      "--------------------------------------------- Result 109 ---------------------------------------------\n",
      "[[Negative (64%)]] --> [[Positive (55%)]]\n",
      "\n",
      "too often , the viewer is n't [[reacting]] to humor so much as they are [[wincing]] back in repugnance . \n",
      "\n",
      "too often , the viewer is n't [[riposte]] to humor so much as they are [[trembled]] back in repugnance . \n",
      "\n",
      "\n"
     ]
    },
    {
     "name": "stderr",
     "output_type": "stream",
     "text": [
      "[Succeeded / Failed / Skipped / Total] 85 / 15 / 9 / 109:  55%|█████▌    | 110/200 [1:08:38<56:09, 37.44s/it]/scratch/sp6646/envs_dirs/swap_env/lib/python3.8/site-packages/textattack/loggers/csv_logger.py:41: FutureWarning: The frame.append method is deprecated and will be removed from pandas in a future version. Use pandas.concat instead.\n",
      "  self.df = self.df.append(row, ignore_index=True)\n",
      "[Succeeded / Failed / Skipped / Total] 86 / 15 / 9 / 110:  55%|█████▌    | 110/200 [1:08:38<56:09, 37.44s/it]"
     ]
    },
    {
     "name": "stdout",
     "output_type": "stream",
     "text": [
      "--------------------------------------------- Result 110 ---------------------------------------------\n",
      "[[Positive (100%)]] --> [[Negative (51%)]]\n",
      "\n",
      "it 's [[great]] escapist [[fun]] that recreates a place and [[time]] that will never [[happen]] again . \n",
      "\n",
      "it 's [[sizable]] escapist [[kidding]] that recreates a place and [[calendars]] that will never [[occur]] again . \n",
      "\n",
      "\n"
     ]
    },
    {
     "name": "stderr",
     "output_type": "stream",
     "text": [
      "[Succeeded / Failed / Skipped / Total] 86 / 15 / 9 / 110:  56%|█████▌    | 111/200 [1:08:53<55:14, 37.24s/it]/scratch/sp6646/envs_dirs/swap_env/lib/python3.8/site-packages/textattack/loggers/csv_logger.py:41: FutureWarning: The frame.append method is deprecated and will be removed from pandas in a future version. Use pandas.concat instead.\n",
      "  self.df = self.df.append(row, ignore_index=True)\n",
      "[Succeeded / Failed / Skipped / Total] 87 / 15 / 9 / 111:  56%|█████▌    | 111/200 [1:08:53<55:14, 37.24s/it]"
     ]
    },
    {
     "name": "stdout",
     "output_type": "stream",
     "text": [
      "--------------------------------------------- Result 111 ---------------------------------------------\n",
      "[[Negative (93%)]] --> [[Positive (51%)]]\n",
      "\n",
      "scores no [[points]] for originality , wit , or intelligence . \n",
      "\n",
      "scores no [[issues]] for originality , wit , or intelligence . \n",
      "\n",
      "\n"
     ]
    },
    {
     "name": "stderr",
     "output_type": "stream",
     "text": [
      "[Succeeded / Failed / Skipped / Total] 87 / 15 / 9 / 111:  56%|█████▌    | 112/200 [1:09:19<54:28, 37.14s/it]/scratch/sp6646/envs_dirs/swap_env/lib/python3.8/site-packages/textattack/loggers/csv_logger.py:41: FutureWarning: The frame.append method is deprecated and will be removed from pandas in a future version. Use pandas.concat instead.\n",
      "  self.df = self.df.append(row, ignore_index=True)\n",
      "[Succeeded / Failed / Skipped / Total] 88 / 15 / 9 / 112:  56%|█████▌    | 112/200 [1:09:19<54:28, 37.14s/it]"
     ]
    },
    {
     "name": "stdout",
     "output_type": "stream",
     "text": [
      "--------------------------------------------- Result 112 ---------------------------------------------\n",
      "[[Negative (77%)]] --> [[Positive (89%)]]\n",
      "\n",
      "there is n't nearly enough [[fun]] here , [[despite]] the presence of some appealing ingredients . \n",
      "\n",
      "there is n't nearly enough [[giggle]] here , [[except]] the presence of some appealing ingredients . \n",
      "\n",
      "\n"
     ]
    },
    {
     "name": "stderr",
     "output_type": "stream",
     "text": [
      "[Succeeded / Failed / Skipped / Total] 88 / 15 / 9 / 112:  56%|█████▋    | 113/200 [1:09:20<53:23, 36.82s/it]/scratch/sp6646/envs_dirs/swap_env/lib/python3.8/site-packages/textattack/loggers/csv_logger.py:41: FutureWarning: The frame.append method is deprecated and will be removed from pandas in a future version. Use pandas.concat instead.\n",
      "  self.df = self.df.append(row, ignore_index=True)\n",
      "[Succeeded / Failed / Skipped / Total] 88 / 15 / 10 / 113:  56%|█████▋    | 113/200 [1:09:20<53:23, 36.82s/it]"
     ]
    },
    {
     "name": "stdout",
     "output_type": "stream",
     "text": [
      "--------------------------------------------- Result 113 ---------------------------------------------\n",
      "[[Negative (96%)]] --> [[[SKIPPED]]]\n",
      "\n",
      "hilariously inept and ridiculous . \n",
      "\n",
      "\n"
     ]
    },
    {
     "name": "stderr",
     "output_type": "stream",
     "text": [
      "[Succeeded / Failed / Skipped / Total] 88 / 15 / 10 / 113:  57%|█████▋    | 114/200 [1:09:35<52:29, 36.62s/it]/scratch/sp6646/envs_dirs/swap_env/lib/python3.8/site-packages/textattack/loggers/csv_logger.py:41: FutureWarning: The frame.append method is deprecated and will be removed from pandas in a future version. Use pandas.concat instead.\n",
      "  self.df = self.df.append(row, ignore_index=True)\n",
      "[Succeeded / Failed / Skipped / Total] 89 / 15 / 10 / 114:  57%|█████▋    | 114/200 [1:09:35<52:29, 36.62s/it]"
     ]
    },
    {
     "name": "stdout",
     "output_type": "stream",
     "text": [
      "--------------------------------------------- Result 114 ---------------------------------------------\n",
      "[[Negative (96%)]] --> [[Positive (97%)]]\n",
      "\n",
      "this movie is [[maddening]] . \n",
      "\n",
      "this movie is [[mystifying]] . \n",
      "\n",
      "\n"
     ]
    },
    {
     "name": "stderr",
     "output_type": "stream",
     "text": [
      "[Succeeded / Failed / Skipped / Total] 89 / 15 / 10 / 114:  57%|█████▊    | 115/200 [1:09:55<51:40, 36.48s/it]/scratch/sp6646/envs_dirs/swap_env/lib/python3.8/site-packages/textattack/loggers/csv_logger.py:41: FutureWarning: The frame.append method is deprecated and will be removed from pandas in a future version. Use pandas.concat instead.\n",
      "  self.df = self.df.append(row, ignore_index=True)\n",
      "[Succeeded / Failed / Skipped / Total] 90 / 15 / 10 / 115:  57%|█████▊    | 115/200 [1:09:55<51:41, 36.48s/it]"
     ]
    },
    {
     "name": "stdout",
     "output_type": "stream",
     "text": [
      "--------------------------------------------- Result 115 ---------------------------------------------\n",
      "[[Positive (92%)]] --> [[Negative (59%)]]\n",
      "\n",
      "it haunts you , you ca n't forget it , you [[admire]] its conception and are [[able]] to resolve some of the confusions you had while watching it . \n",
      "\n",
      "it haunts you , you ca n't forget it , you [[admiring]] its conception and are [[incapable]] to resolve some of the confusions you had while watching it . \n",
      "\n",
      "\n"
     ]
    },
    {
     "name": "stderr",
     "output_type": "stream",
     "text": [
      "[Succeeded / Failed / Skipped / Total] 90 / 15 / 10 / 115:  58%|█████▊    | 116/200 [1:09:56<50:38, 36.17s/it]/scratch/sp6646/envs_dirs/swap_env/lib/python3.8/site-packages/textattack/loggers/csv_logger.py:41: FutureWarning: The frame.append method is deprecated and will be removed from pandas in a future version. Use pandas.concat instead.\n",
      "  self.df = self.df.append(row, ignore_index=True)\n",
      "[Succeeded / Failed / Skipped / Total] 90 / 15 / 11 / 116:  58%|█████▊    | 116/200 [1:09:56<50:38, 36.18s/it]"
     ]
    },
    {
     "name": "stdout",
     "output_type": "stream",
     "text": [
      "--------------------------------------------- Result 116 ---------------------------------------------\n",
      "[[Positive (90%)]] --> [[[SKIPPED]]]\n",
      "\n",
      "sam mendes has become valedictorian at the school for soft landings and easy ways out . \n",
      "\n",
      "\n"
     ]
    },
    {
     "name": "stderr",
     "output_type": "stream",
     "text": [
      "[Succeeded / Failed / Skipped / Total] 90 / 15 / 11 / 116:  58%|█████▊    | 117/200 [1:10:45<50:11, 36.29s/it]/scratch/sp6646/envs_dirs/swap_env/lib/python3.8/site-packages/textattack/loggers/csv_logger.py:41: FutureWarning: The frame.append method is deprecated and will be removed from pandas in a future version. Use pandas.concat instead.\n",
      "  self.df = self.df.append(row, ignore_index=True)\n",
      "[Succeeded / Failed / Skipped / Total] 91 / 15 / 11 / 117:  58%|█████▊    | 117/200 [1:10:45<50:11, 36.29s/it]"
     ]
    },
    {
     "name": "stdout",
     "output_type": "stream",
     "text": [
      "--------------------------------------------- Result 117 ---------------------------------------------\n",
      "[[Positive (95%)]] --> [[Negative (59%)]]\n",
      "\n",
      "one of the [[smartest]] [[takes]] on singles [[culture]] i 've seen in a [[long]] [[time]] . \n",
      "\n",
      "one of the [[brightest]] [[assumes]] on singles [[cultura]] i 've seen in a [[longer]] [[stardate]] . \n",
      "\n",
      "\n"
     ]
    },
    {
     "name": "stderr",
     "output_type": "stream",
     "text": [
      "[Succeeded / Failed / Skipped / Total] 91 / 15 / 11 / 117:  59%|█████▉    | 118/200 [1:11:14<49:30, 36.22s/it]/scratch/sp6646/envs_dirs/swap_env/lib/python3.8/site-packages/textattack/loggers/csv_logger.py:41: FutureWarning: The frame.append method is deprecated and will be removed from pandas in a future version. Use pandas.concat instead.\n",
      "  self.df = self.df.append(row, ignore_index=True)\n",
      "[Succeeded / Failed / Skipped / Total] 92 / 15 / 11 / 118:  59%|█████▉    | 118/200 [1:11:14<49:30, 36.22s/it]"
     ]
    },
    {
     "name": "stdout",
     "output_type": "stream",
     "text": [
      "--------------------------------------------- Result 118 ---------------------------------------------\n",
      "[[Positive (99%)]] --> [[Negative (69%)]]\n",
      "\n",
      "moody , [[heartbreaking]] , and filmed in a [[natural]] , unforced style that makes its characters seem entirely [[convincing]] even when its script is not . \n",
      "\n",
      "moody , [[depressing]] , and filmed in a [[inborn]] , unforced style that makes its characters seem entirely [[convinced]] even when its script is not . \n",
      "\n",
      "\n"
     ]
    },
    {
     "name": "stderr",
     "output_type": "stream",
     "text": [
      "[Succeeded / Failed / Skipped / Total] 92 / 15 / 11 / 118:  60%|█████▉    | 119/200 [1:11:15<48:30, 35.93s/it]/scratch/sp6646/envs_dirs/swap_env/lib/python3.8/site-packages/textattack/loggers/csv_logger.py:41: FutureWarning: The frame.append method is deprecated and will be removed from pandas in a future version. Use pandas.concat instead.\n",
      "  self.df = self.df.append(row, ignore_index=True)\n",
      "[Succeeded / Failed / Skipped / Total] 92 / 15 / 12 / 119:  60%|█████▉    | 119/200 [1:11:15<48:30, 35.93s/it]"
     ]
    },
    {
     "name": "stdout",
     "output_type": "stream",
     "text": [
      "--------------------------------------------- Result 119 ---------------------------------------------\n",
      "[[Positive (94%)]] --> [[[SKIPPED]]]\n",
      "\n",
      "every nanosecond of the the new guy reminds you that you could be doing something else far more pleasurable . \n",
      "\n",
      "\n"
     ]
    },
    {
     "name": "stderr",
     "output_type": "stream",
     "text": [
      "[Succeeded / Failed / Skipped / Total] 92 / 15 / 12 / 119:  60%|██████    | 120/200 [1:11:48<47:52, 35.90s/it]/scratch/sp6646/envs_dirs/swap_env/lib/python3.8/site-packages/textattack/loggers/csv_logger.py:41: FutureWarning: The frame.append method is deprecated and will be removed from pandas in a future version. Use pandas.concat instead.\n",
      "  self.df = self.df.append(row, ignore_index=True)\n",
      "[Succeeded / Failed / Skipped / Total] 93 / 15 / 12 / 120:  60%|██████    | 120/200 [1:11:48<47:52, 35.90s/it]"
     ]
    },
    {
     "name": "stdout",
     "output_type": "stream",
     "text": [
      "--------------------------------------------- Result 120 ---------------------------------------------\n",
      "[[Negative (82%)]] --> [[Positive (64%)]]\n",
      "\n",
      "comes ... uncomfortably [[close]] to coasting in the treads of the bicycle [[thief]] . \n",
      "\n",
      "comes ... uncomfortably [[finalize]] to coasting in the treads of the bicycle [[villain]] . \n",
      "\n",
      "\n"
     ]
    },
    {
     "name": "stderr",
     "output_type": "stream",
     "text": [
      "[Succeeded / Failed / Skipped / Total] 93 / 15 / 12 / 120:  60%|██████    | 121/200 [1:13:09<47:45, 36.27s/it]/scratch/sp6646/envs_dirs/swap_env/lib/python3.8/site-packages/textattack/loggers/csv_logger.py:41: FutureWarning: The frame.append method is deprecated and will be removed from pandas in a future version. Use pandas.concat instead.\n",
      "  self.df = self.df.append(row, ignore_index=True)\n",
      "[Succeeded / Failed / Skipped / Total] 93 / 16 / 12 / 121:  60%|██████    | 121/200 [1:13:09<47:45, 36.27s/it]"
     ]
    },
    {
     "name": "stdout",
     "output_type": "stream",
     "text": [
      "--------------------------------------------- Result 121 ---------------------------------------------\n",
      "[[Positive (97%)]] --> [[[FAILED]]]\n",
      "\n",
      "warm water under a red bridge is a quirky and poignant japanese film that explores the fascinating connections between women , water , nature , and sexuality . \n",
      "\n",
      "\n"
     ]
    },
    {
     "name": "stderr",
     "output_type": "stream",
     "text": [
      "[Succeeded / Failed / Skipped / Total] 93 / 16 / 12 / 121:  61%|██████    | 122/200 [1:13:25<46:56, 36.11s/it]/scratch/sp6646/envs_dirs/swap_env/lib/python3.8/site-packages/textattack/loggers/csv_logger.py:41: FutureWarning: The frame.append method is deprecated and will be removed from pandas in a future version. Use pandas.concat instead.\n",
      "  self.df = self.df.append(row, ignore_index=True)\n",
      "[Succeeded / Failed / Skipped / Total] 94 / 16 / 12 / 122:  61%|██████    | 122/200 [1:13:25<46:56, 36.11s/it]"
     ]
    },
    {
     "name": "stdout",
     "output_type": "stream",
     "text": [
      "--------------------------------------------- Result 122 ---------------------------------------------\n",
      "[[Negative (53%)]] --> [[Positive (84%)]]\n",
      "\n",
      "it [[seems]] to me the film is about the art of ripping people off without ever letting them consciously know you have done so \n",
      "\n",
      "it [[seem]] to me the film is about the art of ripping people off without ever letting them consciously know you have done so \n",
      "\n",
      "\n"
     ]
    },
    {
     "name": "stderr",
     "output_type": "stream",
     "text": [
      "[Succeeded / Failed / Skipped / Total] 94 / 16 / 12 / 122:  62%|██████▏   | 123/200 [1:13:47<46:11, 36.00s/it]/scratch/sp6646/envs_dirs/swap_env/lib/python3.8/site-packages/textattack/loggers/csv_logger.py:41: FutureWarning: The frame.append method is deprecated and will be removed from pandas in a future version. Use pandas.concat instead.\n",
      "  self.df = self.df.append(row, ignore_index=True)\n",
      "[Succeeded / Failed / Skipped / Total] 95 / 16 / 12 / 123:  62%|██████▏   | 123/200 [1:13:47<46:11, 36.00s/it]"
     ]
    },
    {
     "name": "stdout",
     "output_type": "stream",
     "text": [
      "--------------------------------------------- Result 123 ---------------------------------------------\n",
      "[[Positive (95%)]] --> [[Negative (94%)]]\n",
      "\n",
      "old-form [[moviemaking]] at its [[best]] . \n",
      "\n",
      "old-form [[postproduction]] at its [[upper]] . \n",
      "\n",
      "\n"
     ]
    },
    {
     "name": "stderr",
     "output_type": "stream",
     "text": [
      "[Succeeded / Failed / Skipped / Total] 95 / 16 / 12 / 123:  62%|██████▏   | 124/200 [1:13:56<45:19, 35.78s/it]/scratch/sp6646/envs_dirs/swap_env/lib/python3.8/site-packages/textattack/loggers/csv_logger.py:41: FutureWarning: The frame.append method is deprecated and will be removed from pandas in a future version. Use pandas.concat instead.\n",
      "  self.df = self.df.append(row, ignore_index=True)\n",
      "[Succeeded / Failed / Skipped / Total] 96 / 16 / 12 / 124:  62%|██████▏   | 124/200 [1:13:56<45:19, 35.78s/it]"
     ]
    },
    {
     "name": "stdout",
     "output_type": "stream",
     "text": [
      "--------------------------------------------- Result 124 ---------------------------------------------\n",
      "[[Positive (95%)]] --> [[Negative (92%)]]\n",
      "\n",
      "turns potentially forgettable formula into something strangely [[diverting]] . \n",
      "\n",
      "turns potentially forgettable formula into something strangely [[distracted]] . \n",
      "\n",
      "\n"
     ]
    },
    {
     "name": "stderr",
     "output_type": "stream",
     "text": [
      "[Succeeded / Failed / Skipped / Total] 96 / 16 / 12 / 124:  62%|██████▎   | 125/200 [1:14:54<44:56, 35.96s/it]/scratch/sp6646/envs_dirs/swap_env/lib/python3.8/site-packages/textattack/loggers/csv_logger.py:41: FutureWarning: The frame.append method is deprecated and will be removed from pandas in a future version. Use pandas.concat instead.\n",
      "  self.df = self.df.append(row, ignore_index=True)\n",
      "[Succeeded / Failed / Skipped / Total] 97 / 16 / 12 / 125:  62%|██████▎   | 125/200 [1:14:54<44:56, 35.96s/it]"
     ]
    },
    {
     "name": "stdout",
     "output_type": "stream",
     "text": [
      "--------------------------------------------- Result 125 ---------------------------------------------\n",
      "[[Positive (95%)]] --> [[Negative (51%)]]\n",
      "\n",
      "( lawrence bounces ) all over the stage , [[dancing]] , [[running]] , sweating , mopping his face and generally displaying the wacky talent that [[brought]] him fame in the first place . \n",
      "\n",
      "( lawrence bounces ) all over the stage , [[ballet]] , [[execution]] , sweating , mopping his face and generally displaying the wacky talent that [[posed]] him fame in the first place . \n",
      "\n",
      "\n"
     ]
    },
    {
     "name": "stderr",
     "output_type": "stream",
     "text": [
      "[Succeeded / Failed / Skipped / Total] 97 / 16 / 12 / 125:  63%|██████▎   | 126/200 [1:16:16<44:47, 36.32s/it]/scratch/sp6646/envs_dirs/swap_env/lib/python3.8/site-packages/textattack/loggers/csv_logger.py:41: FutureWarning: The frame.append method is deprecated and will be removed from pandas in a future version. Use pandas.concat instead.\n",
      "  self.df = self.df.append(row, ignore_index=True)\n",
      "[Succeeded / Failed / Skipped / Total] 97 / 17 / 12 / 126:  63%|██████▎   | 126/200 [1:16:16<44:47, 36.32s/it]"
     ]
    },
    {
     "name": "stdout",
     "output_type": "stream",
     "text": [
      "--------------------------------------------- Result 126 ---------------------------------------------\n",
      "[[Positive (96%)]] --> [[[FAILED]]]\n",
      "\n",
      "a movie that reminds us of just how exciting and satisfying the fantasy cinema can be when it 's approached with imagination and flair . \n",
      "\n",
      "\n"
     ]
    },
    {
     "name": "stderr",
     "output_type": "stream",
     "text": [
      "[Succeeded / Failed / Skipped / Total] 97 / 17 / 12 / 126:  64%|██████▎   | 127/200 [1:16:35<44:01, 36.19s/it]/scratch/sp6646/envs_dirs/swap_env/lib/python3.8/site-packages/textattack/loggers/csv_logger.py:41: FutureWarning: The frame.append method is deprecated and will be removed from pandas in a future version. Use pandas.concat instead.\n",
      "  self.df = self.df.append(row, ignore_index=True)\n",
      "[Succeeded / Failed / Skipped / Total] 98 / 17 / 12 / 127:  64%|██████▎   | 127/200 [1:16:35<44:01, 36.19s/it]"
     ]
    },
    {
     "name": "stdout",
     "output_type": "stream",
     "text": [
      "--------------------------------------------- Result 127 ---------------------------------------------\n",
      "[[Negative (79%)]] --> [[Positive (50%)]]\n",
      "\n",
      "confirms the nagging suspicion that ethan hawke would be even [[worse]] behind the camera than he is in front of it . \n",
      "\n",
      "confirms the nagging suspicion that ethan hawke would be even [[shittiest]] behind the camera than he is in front of it . \n",
      "\n",
      "\n"
     ]
    },
    {
     "name": "stderr",
     "output_type": "stream",
     "text": [
      "[Succeeded / Failed / Skipped / Total] 98 / 17 / 12 / 127:  64%|██████▍   | 128/200 [1:17:34<43:38, 36.36s/it]/scratch/sp6646/envs_dirs/swap_env/lib/python3.8/site-packages/textattack/loggers/csv_logger.py:41: FutureWarning: The frame.append method is deprecated and will be removed from pandas in a future version. Use pandas.concat instead.\n",
      "  self.df = self.df.append(row, ignore_index=True)\n",
      "[Succeeded / Failed / Skipped / Total] 99 / 17 / 12 / 128:  64%|██████▍   | 128/200 [1:17:34<43:38, 36.36s/it]"
     ]
    },
    {
     "name": "stdout",
     "output_type": "stream",
     "text": [
      "--------------------------------------------- Result 128 ---------------------------------------------\n",
      "[[Negative (82%)]] --> [[Positive (54%)]]\n",
      "\n",
      "in the [[end]] , we are [[left]] with something like two [[ships]] passing in the night rather than any [[insights]] into gay love , chinese society or the price one pays for being dishonest . \n",
      "\n",
      "in the [[concluding]] , we are [[departs]] with something like two [[flotilla]] passing in the night rather than any [[delusions]] into gay love , chinese society or the price one pays for being dishonest . \n",
      "\n",
      "\n"
     ]
    },
    {
     "name": "stderr",
     "output_type": "stream",
     "text": [
      "[Succeeded / Failed / Skipped / Total] 99 / 17 / 12 / 128:  64%|██████▍   | 129/200 [1:18:41<43:18, 36.60s/it]/scratch/sp6646/envs_dirs/swap_env/lib/python3.8/site-packages/textattack/loggers/csv_logger.py:41: FutureWarning: The frame.append method is deprecated and will be removed from pandas in a future version. Use pandas.concat instead.\n",
      "  self.df = self.df.append(row, ignore_index=True)\n",
      "[Succeeded / Failed / Skipped / Total] 100 / 17 / 12 / 129:  64%|██████▍   | 129/200 [1:18:41<43:18, 36.60s/it]"
     ]
    },
    {
     "name": "stdout",
     "output_type": "stream",
     "text": [
      "--------------------------------------------- Result 129 ---------------------------------------------\n",
      "[[Positive (99%)]] --> [[Negative (61%)]]\n",
      "\n",
      "montias ... [[pumps]] a lot of energy into his [[nicely]] nuanced narrative and [[surrounds]] himself with a cast of [[quirky]] -- but not stereotyped -- street [[characters]] . \n",
      "\n",
      "montias ... [[pompe]] a lot of energy into his [[coldly]] nuanced narrative and [[besiege]] himself with a cast of [[loony]] -- but not stereotyped -- street [[specifics]] . \n",
      "\n",
      "\n"
     ]
    },
    {
     "name": "stderr",
     "output_type": "stream",
     "text": [
      "[Succeeded / Failed / Skipped / Total] 100 / 17 / 12 / 129:  65%|██████▌   | 130/200 [1:20:03<43:06, 36.95s/it]/scratch/sp6646/envs_dirs/swap_env/lib/python3.8/site-packages/textattack/loggers/csv_logger.py:41: FutureWarning: The frame.append method is deprecated and will be removed from pandas in a future version. Use pandas.concat instead.\n",
      "  self.df = self.df.append(row, ignore_index=True)\n",
      "[Succeeded / Failed / Skipped / Total] 101 / 17 / 12 / 130:  65%|██████▌   | 130/200 [1:20:03<43:06, 36.95s/it]"
     ]
    },
    {
     "name": "stdout",
     "output_type": "stream",
     "text": [
      "--------------------------------------------- Result 130 ---------------------------------------------\n",
      "[[Positive (100%)]] --> [[Negative (67%)]]\n",
      "\n",
      "it provides the [[grand]] , [[intelligent]] [[entertainment]] of a superior cast [[playing]] [[smart]] people amid a [[compelling]] plot . \n",
      "\n",
      "it provides the [[gargantuan]] , [[brainy]] [[droll]] of a superior cast [[bets]] [[termite]] people amid a [[compel]] plot . \n",
      "\n",
      "\n"
     ]
    },
    {
     "name": "stderr",
     "output_type": "stream",
     "text": [
      "[Succeeded / Failed / Skipped / Total] 101 / 17 / 12 / 130:  66%|██████▌   | 131/200 [1:20:50<42:34, 37.03s/it]/scratch/sp6646/envs_dirs/swap_env/lib/python3.8/site-packages/textattack/loggers/csv_logger.py:41: FutureWarning: The frame.append method is deprecated and will be removed from pandas in a future version. Use pandas.concat instead.\n",
      "  self.df = self.df.append(row, ignore_index=True)\n",
      "[Succeeded / Failed / Skipped / Total] 102 / 17 / 12 / 131:  66%|██████▌   | 131/200 [1:20:50<42:34, 37.03s/it]"
     ]
    },
    {
     "name": "stdout",
     "output_type": "stream",
     "text": [
      "--------------------------------------------- Result 131 ---------------------------------------------\n",
      "[[Negative (100%)]] --> [[Positive (99%)]]\n",
      "\n",
      "[[suffers]] from the [[lack]] of a [[compelling]] or [[comprehensible]] narrative . \n",
      "\n",
      "[[experiencing]] from the [[rarity]] of a [[potent]] or [[understandable]] narrative . \n",
      "\n",
      "\n"
     ]
    },
    {
     "name": "stderr",
     "output_type": "stream",
     "text": [
      "[Succeeded / Failed / Skipped / Total] 102 / 17 / 12 / 131:  66%|██████▌   | 132/200 [1:21:16<41:52, 36.94s/it]/scratch/sp6646/envs_dirs/swap_env/lib/python3.8/site-packages/textattack/loggers/csv_logger.py:41: FutureWarning: The frame.append method is deprecated and will be removed from pandas in a future version. Use pandas.concat instead.\n",
      "  self.df = self.df.append(row, ignore_index=True)\n",
      "[Succeeded / Failed / Skipped / Total] 103 / 17 / 12 / 132:  66%|██████▌   | 132/200 [1:21:16<41:52, 36.94s/it]"
     ]
    },
    {
     "name": "stdout",
     "output_type": "stream",
     "text": [
      "--------------------------------------------- Result 132 ---------------------------------------------\n",
      "[[Negative (98%)]] --> [[Positive (82%)]]\n",
      "\n",
      "in execution , this clever idea is far [[less]] funny than the original , killers from space . \n",
      "\n",
      "in execution , this clever idea is far [[minus]] funny than the original , killers from space . \n",
      "\n",
      "\n"
     ]
    },
    {
     "name": "stderr",
     "output_type": "stream",
     "text": [
      "[Succeeded / Failed / Skipped / Total] 103 / 17 / 12 / 132:  66%|██████▋   | 133/200 [1:21:33<41:04, 36.79s/it]/scratch/sp6646/envs_dirs/swap_env/lib/python3.8/site-packages/textattack/loggers/csv_logger.py:41: FutureWarning: The frame.append method is deprecated and will be removed from pandas in a future version. Use pandas.concat instead.\n",
      "  self.df = self.df.append(row, ignore_index=True)\n",
      "[Succeeded / Failed / Skipped / Total] 104 / 17 / 12 / 133:  66%|██████▋   | 133/200 [1:21:33<41:05, 36.79s/it]"
     ]
    },
    {
     "name": "stdout",
     "output_type": "stream",
     "text": [
      "--------------------------------------------- Result 133 ---------------------------------------------\n",
      "[[Positive (99%)]] --> [[Negative (72%)]]\n",
      "\n",
      "scooby dooby doo / and shaggy too / you both look and sound [[great]] . \n",
      "\n",
      "scooby dooby doo / and shaggy too / you both look and sound [[prodigious]] . \n",
      "\n",
      "\n"
     ]
    },
    {
     "name": "stderr",
     "output_type": "stream",
     "text": [
      "[Succeeded / Failed / Skipped / Total] 104 / 17 / 12 / 133:  67%|██████▋   | 134/200 [1:22:58<40:52, 37.15s/it]/scratch/sp6646/envs_dirs/swap_env/lib/python3.8/site-packages/textattack/loggers/csv_logger.py:41: FutureWarning: The frame.append method is deprecated and will be removed from pandas in a future version. Use pandas.concat instead.\n",
      "  self.df = self.df.append(row, ignore_index=True)\n",
      "[Succeeded / Failed / Skipped / Total] 104 / 18 / 12 / 134:  67%|██████▋   | 134/200 [1:22:58<40:52, 37.15s/it]"
     ]
    },
    {
     "name": "stdout",
     "output_type": "stream",
     "text": [
      "--------------------------------------------- Result 134 ---------------------------------------------\n",
      "[[Negative (76%)]] --> [[[FAILED]]]\n",
      "\n",
      "the tale of tok ( andy lau ) , a sleek sociopath on the trail of o ( takashi sorimachi ) , the most legendary of asian hitmen , is too scattershot to take hold . \n",
      "\n",
      "\n"
     ]
    },
    {
     "name": "stderr",
     "output_type": "stream",
     "text": [
      "[Succeeded / Failed / Skipped / Total] 104 / 18 / 12 / 134:  68%|██████▊   | 135/200 [1:23:24<40:09, 37.07s/it]/scratch/sp6646/envs_dirs/swap_env/lib/python3.8/site-packages/textattack/loggers/csv_logger.py:41: FutureWarning: The frame.append method is deprecated and will be removed from pandas in a future version. Use pandas.concat instead.\n",
      "  self.df = self.df.append(row, ignore_index=True)\n",
      "[Succeeded / Failed / Skipped / Total] 105 / 18 / 12 / 135:  68%|██████▊   | 135/200 [1:23:24<40:09, 37.07s/it]"
     ]
    },
    {
     "name": "stdout",
     "output_type": "stream",
     "text": [
      "--------------------------------------------- Result 135 ---------------------------------------------\n",
      "[[Negative (83%)]] --> [[Positive (63%)]]\n",
      "\n",
      "it all [[drags]] on so interminably it 's like watching a [[miserable]] relationship unfold in real time . \n",
      "\n",
      "it all [[plunges]] on so interminably it 's like watching a [[forlorn]] relationship unfold in real time . \n",
      "\n",
      "\n"
     ]
    },
    {
     "name": "stderr",
     "output_type": "stream",
     "text": [
      "[Succeeded / Failed / Skipped / Total] 105 / 18 / 12 / 135:  68%|██████▊   | 136/200 [1:23:26<39:15, 36.81s/it]/scratch/sp6646/envs_dirs/swap_env/lib/python3.8/site-packages/textattack/loggers/csv_logger.py:41: FutureWarning: The frame.append method is deprecated and will be removed from pandas in a future version. Use pandas.concat instead.\n",
      "  self.df = self.df.append(row, ignore_index=True)\n",
      "[Succeeded / Failed / Skipped / Total] 105 / 18 / 13 / 136:  68%|██████▊   | 136/200 [1:23:26<39:15, 36.81s/it]"
     ]
    },
    {
     "name": "stdout",
     "output_type": "stream",
     "text": [
      "--------------------------------------------- Result 136 ---------------------------------------------\n",
      "[[Positive (68%)]] --> [[[SKIPPED]]]\n",
      "\n",
      "pumpkin means to be an outrageous dark satire on fraternity life , but its ambitions far exceed the abilities of writer adam larson broder and his co-director , tony r. abrams , in their feature debut . \n",
      "\n",
      "\n"
     ]
    },
    {
     "name": "stderr",
     "output_type": "stream",
     "text": [
      "[Succeeded / Failed / Skipped / Total] 105 / 18 / 13 / 136:  68%|██████▊   | 137/200 [1:23:35<38:26, 36.61s/it]/scratch/sp6646/envs_dirs/swap_env/lib/python3.8/site-packages/textattack/loggers/csv_logger.py:41: FutureWarning: The frame.append method is deprecated and will be removed from pandas in a future version. Use pandas.concat instead.\n",
      "  self.df = self.df.append(row, ignore_index=True)\n",
      "[Succeeded / Failed / Skipped / Total] 106 / 18 / 13 / 137:  68%|██████▊   | 137/200 [1:23:35<38:26, 36.61s/it]"
     ]
    },
    {
     "name": "stdout",
     "output_type": "stream",
     "text": [
      "--------------------------------------------- Result 137 ---------------------------------------------\n",
      "[[Negative (69%)]] --> [[Positive (98%)]]\n",
      "\n",
      "looks and feels like a project [[better]] suited for the small screen . \n",
      "\n",
      "looks and feels like a project [[well]] suited for the small screen . \n",
      "\n",
      "\n"
     ]
    },
    {
     "name": "stderr",
     "output_type": "stream",
     "text": [
      "[Succeeded / Failed / Skipped / Total] 106 / 18 / 13 / 137:  69%|██████▉   | 138/200 [1:23:54<37:41, 36.48s/it]/scratch/sp6646/envs_dirs/swap_env/lib/python3.8/site-packages/textattack/loggers/csv_logger.py:41: FutureWarning: The frame.append method is deprecated and will be removed from pandas in a future version. Use pandas.concat instead.\n",
      "  self.df = self.df.append(row, ignore_index=True)\n",
      "[Succeeded / Failed / Skipped / Total] 107 / 18 / 13 / 138:  69%|██████▉   | 138/200 [1:23:54<37:41, 36.48s/it]"
     ]
    },
    {
     "name": "stdout",
     "output_type": "stream",
     "text": [
      "--------------------------------------------- Result 138 ---------------------------------------------\n",
      "[[Negative (97%)]] --> [[Positive (94%)]]\n",
      "\n",
      "forced , familiar and thoroughly [[condescending]] . \n",
      "\n",
      "forced , familiar and thoroughly [[cocky]] . \n",
      "\n",
      "\n"
     ]
    },
    {
     "name": "stderr",
     "output_type": "stream",
     "text": [
      "[Succeeded / Failed / Skipped / Total] 107 / 18 / 13 / 138:  70%|██████▉   | 139/200 [1:24:18<36:59, 36.39s/it]/scratch/sp6646/envs_dirs/swap_env/lib/python3.8/site-packages/textattack/loggers/csv_logger.py:41: FutureWarning: The frame.append method is deprecated and will be removed from pandas in a future version. Use pandas.concat instead.\n",
      "  self.df = self.df.append(row, ignore_index=True)\n",
      "[Succeeded / Failed / Skipped / Total] 108 / 18 / 13 / 139:  70%|██████▉   | 139/200 [1:24:18<36:59, 36.39s/it]"
     ]
    },
    {
     "name": "stdout",
     "output_type": "stream",
     "text": [
      "--------------------------------------------- Result 139 ---------------------------------------------\n",
      "[[Positive (99%)]] --> [[Negative (68%)]]\n",
      "\n",
      "that is a [[compliment]] to kuras and [[miller]] . \n",
      "\n",
      "that is a [[felicitations]] to kuras and [[mailer]] . \n",
      "\n",
      "\n"
     ]
    },
    {
     "name": "stderr",
     "output_type": "stream",
     "text": [
      "[Succeeded / Failed / Skipped / Total] 108 / 18 / 13 / 139:  70%|███████   | 140/200 [1:24:28<36:12, 36.20s/it]/scratch/sp6646/envs_dirs/swap_env/lib/python3.8/site-packages/textattack/loggers/csv_logger.py:41: FutureWarning: The frame.append method is deprecated and will be removed from pandas in a future version. Use pandas.concat instead.\n",
      "  self.df = self.df.append(row, ignore_index=True)\n",
      "[Succeeded / Failed / Skipped / Total] 109 / 18 / 13 / 140:  70%|███████   | 140/200 [1:24:28<36:12, 36.20s/it]"
     ]
    },
    {
     "name": "stdout",
     "output_type": "stream",
     "text": [
      "--------------------------------------------- Result 140 ---------------------------------------------\n",
      "[[Negative (97%)]] --> [[Positive (79%)]]\n",
      "\n",
      "it 's not the [[ultimate]] depression-era gangster movie . \n",
      "\n",
      "it 's not the [[eventual]] depression-era gangster movie . \n",
      "\n",
      "\n"
     ]
    },
    {
     "name": "stderr",
     "output_type": "stream",
     "text": [
      "[Succeeded / Failed / Skipped / Total] 109 / 18 / 13 / 140:  70%|███████   | 141/200 [1:24:50<35:30, 36.11s/it]/scratch/sp6646/envs_dirs/swap_env/lib/python3.8/site-packages/textattack/loggers/csv_logger.py:41: FutureWarning: The frame.append method is deprecated and will be removed from pandas in a future version. Use pandas.concat instead.\n",
      "  self.df = self.df.append(row, ignore_index=True)\n",
      "[Succeeded / Failed / Skipped / Total] 110 / 18 / 13 / 141:  70%|███████   | 141/200 [1:24:50<35:30, 36.11s/it]"
     ]
    },
    {
     "name": "stdout",
     "output_type": "stream",
     "text": [
      "--------------------------------------------- Result 141 ---------------------------------------------\n",
      "[[Negative (97%)]] --> [[Positive (95%)]]\n",
      "\n",
      "[[sacrifices]] the value of its [[wealth]] of archival foot-age with its less-than-objective stance . \n",
      "\n",
      "[[offerings]] the value of its [[richness]] of archival foot-age with its less-than-objective stance . \n",
      "\n",
      "\n"
     ]
    },
    {
     "name": "stderr",
     "output_type": "stream",
     "text": [
      "[Succeeded / Failed / Skipped / Total] 110 / 18 / 13 / 141:  71%|███████   | 142/200 [1:26:06<35:10, 36.39s/it]/scratch/sp6646/envs_dirs/swap_env/lib/python3.8/site-packages/textattack/loggers/csv_logger.py:41: FutureWarning: The frame.append method is deprecated and will be removed from pandas in a future version. Use pandas.concat instead.\n",
      "  self.df = self.df.append(row, ignore_index=True)\n",
      "[Succeeded / Failed / Skipped / Total] 111 / 18 / 13 / 142:  71%|███████   | 142/200 [1:26:06<35:10, 36.39s/it]"
     ]
    },
    {
     "name": "stdout",
     "output_type": "stream",
     "text": [
      "--------------------------------------------- Result 142 ---------------------------------------------\n",
      "[[Negative (99%)]] --> [[Positive (53%)]]\n",
      "\n",
      "the character of zigzag is not [[sufficiently]] [[developed]] to [[support]] a film [[constructed]] around him . \n",
      "\n",
      "the character of zigzag is not [[fairly]] [[industrialized]] to [[succour]] a film [[rests]] around him . \n",
      "\n",
      "\n"
     ]
    },
    {
     "name": "stderr",
     "output_type": "stream",
     "text": [
      "[Succeeded / Failed / Skipped / Total] 111 / 18 / 13 / 142:  72%|███████▏  | 143/200 [1:26:07<34:19, 36.14s/it]/scratch/sp6646/envs_dirs/swap_env/lib/python3.8/site-packages/textattack/loggers/csv_logger.py:41: FutureWarning: The frame.append method is deprecated and will be removed from pandas in a future version. Use pandas.concat instead.\n",
      "  self.df = self.df.append(row, ignore_index=True)\n",
      "[Succeeded / Failed / Skipped / Total] 111 / 18 / 14 / 143:  72%|███████▏  | 143/200 [1:26:07<34:19, 36.14s/it]"
     ]
    },
    {
     "name": "stdout",
     "output_type": "stream",
     "text": [
      "--------------------------------------------- Result 143 ---------------------------------------------\n",
      "[[Negative (77%)]] --> [[[SKIPPED]]]\n",
      "\n",
      "what better message than ` love thyself ' could young women of any size receive ? \n",
      "\n",
      "\n"
     ]
    },
    {
     "name": "stderr",
     "output_type": "stream",
     "text": [
      "[Succeeded / Failed / Skipped / Total] 111 / 18 / 14 / 143:  72%|███████▏  | 144/200 [1:26:24<33:36, 36.01s/it]/scratch/sp6646/envs_dirs/swap_env/lib/python3.8/site-packages/textattack/loggers/csv_logger.py:41: FutureWarning: The frame.append method is deprecated and will be removed from pandas in a future version. Use pandas.concat instead.\n",
      "  self.df = self.df.append(row, ignore_index=True)\n",
      "[Succeeded / Failed / Skipped / Total] 112 / 18 / 14 / 144:  72%|███████▏  | 144/200 [1:26:25<33:36, 36.01s/it]"
     ]
    },
    {
     "name": "stdout",
     "output_type": "stream",
     "text": [
      "--------------------------------------------- Result 144 ---------------------------------------------\n",
      "[[Positive (79%)]] --> [[Negative (83%)]]\n",
      "\n",
      "a [[solid]] film ... but more conscientious than it is truly stirring . \n",
      "\n",
      "a [[stables]] film ... but more conscientious than it is truly stirring . \n",
      "\n",
      "\n"
     ]
    },
    {
     "name": "stderr",
     "output_type": "stream",
     "text": [
      "[Succeeded / Failed / Skipped / Total] 112 / 18 / 14 / 144:  72%|███████▎  | 145/200 [1:27:46<33:17, 36.32s/it]/scratch/sp6646/envs_dirs/swap_env/lib/python3.8/site-packages/textattack/loggers/csv_logger.py:41: FutureWarning: The frame.append method is deprecated and will be removed from pandas in a future version. Use pandas.concat instead.\n",
      "  self.df = self.df.append(row, ignore_index=True)\n",
      "[Succeeded / Failed / Skipped / Total] 112 / 19 / 14 / 145:  72%|███████▎  | 145/200 [1:27:46<33:17, 36.32s/it]"
     ]
    },
    {
     "name": "stdout",
     "output_type": "stream",
     "text": [
      "--------------------------------------------- Result 145 ---------------------------------------------\n",
      "[[Negative (89%)]] --> [[[FAILED]]]\n",
      "\n",
      "while ( hill ) has learned new tricks , the tricks alone are not enough to salvage this lifeless boxing film . \n",
      "\n",
      "\n"
     ]
    },
    {
     "name": "stderr",
     "output_type": "stream",
     "text": [
      "[Succeeded / Failed / Skipped / Total] 112 / 19 / 14 / 145:  73%|███████▎  | 146/200 [1:28:28<32:43, 36.36s/it]/scratch/sp6646/envs_dirs/swap_env/lib/python3.8/site-packages/textattack/loggers/csv_logger.py:41: FutureWarning: The frame.append method is deprecated and will be removed from pandas in a future version. Use pandas.concat instead.\n",
      "  self.df = self.df.append(row, ignore_index=True)\n",
      "[Succeeded / Failed / Skipped / Total] 113 / 19 / 14 / 146:  73%|███████▎  | 146/200 [1:28:28<32:43, 36.36s/it]"
     ]
    },
    {
     "name": "stdout",
     "output_type": "stream",
     "text": [
      "--------------------------------------------- Result 146 ---------------------------------------------\n",
      "[[Negative (87%)]] --> [[Positive (72%)]]\n",
      "\n",
      "the [[best]] that can be said about the work here of scottish director ritchie ... is that he [[obviously]] does n't have his heart in it . \n",
      "\n",
      "the [[good]] that can be said about the work here of scottish director ritchie ... is that he [[assuredly]] does n't have his heart in it . \n",
      "\n",
      "\n"
     ]
    },
    {
     "name": "stderr",
     "output_type": "stream",
     "text": [
      "[Succeeded / Failed / Skipped / Total] 113 / 19 / 14 / 146:  74%|███████▎  | 147/200 [1:29:36<32:18, 36.58s/it]/scratch/sp6646/envs_dirs/swap_env/lib/python3.8/site-packages/textattack/loggers/csv_logger.py:41: FutureWarning: The frame.append method is deprecated and will be removed from pandas in a future version. Use pandas.concat instead.\n",
      "  self.df = self.df.append(row, ignore_index=True)\n",
      "[Succeeded / Failed / Skipped / Total] 113 / 20 / 14 / 147:  74%|███████▎  | 147/200 [1:29:36<32:18, 36.58s/it]"
     ]
    },
    {
     "name": "stdout",
     "output_type": "stream",
     "text": [
      "--------------------------------------------- Result 147 ---------------------------------------------\n",
      "[[Positive (99%)]] --> [[[FAILED]]]\n",
      "\n",
      "about a manga-like heroine who fights back at her abusers , it 's energetic and satisfying if not deep and psychological . \n",
      "\n",
      "\n"
     ]
    },
    {
     "name": "stderr",
     "output_type": "stream",
     "text": [
      "[Succeeded / Failed / Skipped / Total] 113 / 20 / 14 / 147:  74%|███████▍  | 148/200 [1:29:37<31:29, 36.34s/it]/scratch/sp6646/envs_dirs/swap_env/lib/python3.8/site-packages/textattack/loggers/csv_logger.py:41: FutureWarning: The frame.append method is deprecated and will be removed from pandas in a future version. Use pandas.concat instead.\n",
      "  self.df = self.df.append(row, ignore_index=True)\n",
      "[Succeeded / Failed / Skipped / Total] 113 / 20 / 15 / 148:  74%|███████▍  | 148/200 [1:29:37<31:29, 36.34s/it]"
     ]
    },
    {
     "name": "stdout",
     "output_type": "stream",
     "text": [
      "--------------------------------------------- Result 148 ---------------------------------------------\n",
      "[[Positive (53%)]] --> [[[SKIPPED]]]\n",
      "\n",
      "the talented and clever robert rodriguez perhaps put a little too much heart into his first film and did n't reserve enough for his second . \n",
      "\n",
      "\n"
     ]
    },
    {
     "name": "stderr",
     "output_type": "stream",
     "text": [
      "[Succeeded / Failed / Skipped / Total] 113 / 20 / 15 / 148:  74%|███████▍  | 149/200 [1:30:58<31:08, 36.63s/it]/scratch/sp6646/envs_dirs/swap_env/lib/python3.8/site-packages/textattack/loggers/csv_logger.py:41: FutureWarning: The frame.append method is deprecated and will be removed from pandas in a future version. Use pandas.concat instead.\n",
      "  self.df = self.df.append(row, ignore_index=True)\n",
      "[Succeeded / Failed / Skipped / Total] 113 / 21 / 15 / 149:  74%|███████▍  | 149/200 [1:30:58<31:08, 36.63s/it]"
     ]
    },
    {
     "name": "stdout",
     "output_type": "stream",
     "text": [
      "--------------------------------------------- Result 149 ---------------------------------------------\n",
      "[[Negative (99%)]] --> [[[FAILED]]]\n",
      "\n",
      "feels too formulaic and too familiar to produce the transgressive thrills of early underground work . \n",
      "\n",
      "\n"
     ]
    },
    {
     "name": "stderr",
     "output_type": "stream",
     "text": [
      "[Succeeded / Failed / Skipped / Total] 113 / 21 / 15 / 149:  75%|███████▌  | 150/200 [1:31:18<30:26, 36.52s/it]/scratch/sp6646/envs_dirs/swap_env/lib/python3.8/site-packages/textattack/loggers/csv_logger.py:41: FutureWarning: The frame.append method is deprecated and will be removed from pandas in a future version. Use pandas.concat instead.\n",
      "  self.df = self.df.append(row, ignore_index=True)\n",
      "[Succeeded / Failed / Skipped / Total] 114 / 21 / 15 / 150:  75%|███████▌  | 150/200 [1:31:18<30:26, 36.52s/it]"
     ]
    },
    {
     "name": "stdout",
     "output_type": "stream",
     "text": [
      "--------------------------------------------- Result 150 ---------------------------------------------\n",
      "[[Positive (81%)]] --> [[Negative (62%)]]\n",
      "\n",
      "the volatile dynamics of female friendship is the subject of this unhurried , low-key film that is so off-hollywood that it seems [[positively]] french in its rhythms and resonance . \n",
      "\n",
      "the volatile dynamics of female friendship is the subject of this unhurried , low-key film that is so off-hollywood that it seems [[strenuously]] french in its rhythms and resonance . \n",
      "\n",
      "\n"
     ]
    },
    {
     "name": "stderr",
     "output_type": "stream",
     "text": [
      "[Succeeded / Failed / Skipped / Total] 114 / 21 / 15 / 150:  76%|███████▌  | 151/200 [1:31:50<29:48, 36.49s/it]/scratch/sp6646/envs_dirs/swap_env/lib/python3.8/site-packages/textattack/loggers/csv_logger.py:41: FutureWarning: The frame.append method is deprecated and will be removed from pandas in a future version. Use pandas.concat instead.\n",
      "  self.df = self.df.append(row, ignore_index=True)\n",
      "[Succeeded / Failed / Skipped / Total] 115 / 21 / 15 / 151:  76%|███████▌  | 151/200 [1:31:50<29:48, 36.49s/it]"
     ]
    },
    {
     "name": "stdout",
     "output_type": "stream",
     "text": [
      "--------------------------------------------- Result 151 ---------------------------------------------\n",
      "[[Positive (99%)]] --> [[Negative (98%)]]\n",
      "\n",
      "overall [[very]] [[good]] for what it 's trying to do . \n",
      "\n",
      "overall [[unimaginably]] [[advisable]] for what it 's trying to do . \n",
      "\n",
      "\n"
     ]
    },
    {
     "name": "stderr",
     "output_type": "stream",
     "text": [
      "[Succeeded / Failed / Skipped / Total] 115 / 21 / 15 / 151:  76%|███████▌  | 152/200 [1:33:07<29:24, 36.76s/it]/scratch/sp6646/envs_dirs/swap_env/lib/python3.8/site-packages/textattack/loggers/csv_logger.py:41: FutureWarning: The frame.append method is deprecated and will be removed from pandas in a future version. Use pandas.concat instead.\n",
      "  self.df = self.df.append(row, ignore_index=True)\n",
      "[Succeeded / Failed / Skipped / Total] 116 / 21 / 15 / 152:  76%|███████▌  | 152/200 [1:33:07<29:24, 36.76s/it]"
     ]
    },
    {
     "name": "stdout",
     "output_type": "stream",
     "text": [
      "--------------------------------------------- Result 152 ---------------------------------------------\n",
      "[[Positive (99%)]] --> [[Negative (54%)]]\n",
      "\n",
      "a [[big]] , [[gorgeous]] , sprawling swashbuckler that [[delivers]] its diversions in [[grand]] , uncomplicated [[fashion]] . \n",
      "\n",
      "a [[whopping]] , [[glamorous]] , sprawling swashbuckler that [[offered]] its diversions in [[gigantic]] , uncomplicated [[frock]] . \n",
      "\n",
      "\n"
     ]
    },
    {
     "name": "stderr",
     "output_type": "stream",
     "text": [
      "[Succeeded / Failed / Skipped / Total] 116 / 21 / 15 / 152:  76%|███████▋  | 153/200 [1:33:35<28:45, 36.70s/it]/scratch/sp6646/envs_dirs/swap_env/lib/python3.8/site-packages/textattack/loggers/csv_logger.py:41: FutureWarning: The frame.append method is deprecated and will be removed from pandas in a future version. Use pandas.concat instead.\n",
      "  self.df = self.df.append(row, ignore_index=True)\n",
      "[Succeeded / Failed / Skipped / Total] 117 / 21 / 15 / 153:  76%|███████▋  | 153/200 [1:33:35<28:45, 36.70s/it]"
     ]
    },
    {
     "name": "stdout",
     "output_type": "stream",
     "text": [
      "--------------------------------------------- Result 153 ---------------------------------------------\n",
      "[[Positive (99%)]] --> [[Negative (65%)]]\n",
      "\n",
      "a difficult , [[absorbing]] [[film]] that manages to convey more substance despite its repetitions and inconsistencies than do most films than are far more pointed and clear . \n",
      "\n",
      "a difficult , [[purchasing]] [[movies]] that manages to convey more substance despite its repetitions and inconsistencies than do most films than are far more pointed and clear . \n",
      "\n",
      "\n"
     ]
    },
    {
     "name": "stderr",
     "output_type": "stream",
     "text": [
      "[Succeeded / Failed / Skipped / Total] 117 / 21 / 15 / 153:  77%|███████▋  | 154/200 [1:33:55<28:03, 36.59s/it]/scratch/sp6646/envs_dirs/swap_env/lib/python3.8/site-packages/textattack/loggers/csv_logger.py:41: FutureWarning: The frame.append method is deprecated and will be removed from pandas in a future version. Use pandas.concat instead.\n",
      "  self.df = self.df.append(row, ignore_index=True)\n",
      "[Succeeded / Failed / Skipped / Total] 118 / 21 / 15 / 154:  77%|███████▋  | 154/200 [1:33:55<28:03, 36.59s/it]"
     ]
    },
    {
     "name": "stdout",
     "output_type": "stream",
     "text": [
      "--------------------------------------------- Result 154 ---------------------------------------------\n",
      "[[Negative (87%)]] --> [[Positive (87%)]]\n",
      "\n",
      "the heavy-handed film is almost [[laughable]] as a consequence . \n",
      "\n",
      "the heavy-handed film is almost [[ironic]] as a consequence . \n",
      "\n",
      "\n"
     ]
    },
    {
     "name": "stderr",
     "output_type": "stream",
     "text": [
      "[Succeeded / Failed / Skipped / Total] 118 / 21 / 15 / 154:  78%|███████▊  | 155/200 [1:34:33<27:27, 36.61s/it]/scratch/sp6646/envs_dirs/swap_env/lib/python3.8/site-packages/textattack/loggers/csv_logger.py:41: FutureWarning: The frame.append method is deprecated and will be removed from pandas in a future version. Use pandas.concat instead.\n",
      "  self.df = self.df.append(row, ignore_index=True)\n",
      "[Succeeded / Failed / Skipped / Total] 119 / 21 / 15 / 155:  78%|███████▊  | 155/200 [1:34:33<27:27, 36.61s/it]"
     ]
    },
    {
     "name": "stdout",
     "output_type": "stream",
     "text": [
      "--------------------------------------------- Result 155 ---------------------------------------------\n",
      "[[Positive (99%)]] --> [[Negative (81%)]]\n",
      "\n",
      "a [[solid]] [[examination]] of the male midlife crisis . \n",
      "\n",
      "a [[beefy]] [[scrutinize]] of the male midlife crisis . \n",
      "\n",
      "\n"
     ]
    },
    {
     "name": "stderr",
     "output_type": "stream",
     "text": [
      "[Succeeded / Failed / Skipped / Total] 119 / 21 / 15 / 155:  78%|███████▊  | 156/200 [1:35:52<27:02, 36.88s/it]/scratch/sp6646/envs_dirs/swap_env/lib/python3.8/site-packages/textattack/loggers/csv_logger.py:41: FutureWarning: The frame.append method is deprecated and will be removed from pandas in a future version. Use pandas.concat instead.\n",
      "  self.df = self.df.append(row, ignore_index=True)\n",
      "[Succeeded / Failed / Skipped / Total] 120 / 21 / 15 / 156:  78%|███████▊  | 156/200 [1:35:52<27:02, 36.88s/it]"
     ]
    },
    {
     "name": "stdout",
     "output_type": "stream",
     "text": [
      "--------------------------------------------- Result 156 ---------------------------------------------\n",
      "[[Negative (99%)]] --> [[Positive (60%)]]\n",
      "\n",
      "a nightmare [[date]] with a half-formed wit done a great [[disservice]] by a [[lack]] of [[critical]] distance and a [[sad]] [[trust]] in liberal arts college bumper sticker platitudes . \n",
      "\n",
      "a nightmare [[moment]] with a half-formed wit done a great [[perpetuating]] by a [[rarity]] of [[indispensable]] distance and a [[baleful]] [[credibility]] in liberal arts college bumper sticker platitudes . \n",
      "\n",
      "\n"
     ]
    },
    {
     "name": "stderr",
     "output_type": "stream",
     "text": [
      "[Succeeded / Failed / Skipped / Total] 120 / 21 / 15 / 156:  78%|███████▊  | 157/200 [1:36:35<26:27, 36.92s/it]/scratch/sp6646/envs_dirs/swap_env/lib/python3.8/site-packages/textattack/loggers/csv_logger.py:41: FutureWarning: The frame.append method is deprecated and will be removed from pandas in a future version. Use pandas.concat instead.\n",
      "  self.df = self.df.append(row, ignore_index=True)\n",
      "[Succeeded / Failed / Skipped / Total] 121 / 21 / 15 / 157:  78%|███████▊  | 157/200 [1:36:35<26:27, 36.92s/it]"
     ]
    },
    {
     "name": "stdout",
     "output_type": "stream",
     "text": [
      "--------------------------------------------- Result 157 ---------------------------------------------\n",
      "[[Positive (96%)]] --> [[Negative (91%)]]\n",
      "\n",
      "[[manages]] to [[transcend]] the sex , drugs and show-tunes plot into something [[far]] richer . \n",
      "\n",
      "[[administered]] to [[overtake]] the sex , drugs and show-tunes plot into something [[severely]] richer . \n",
      "\n",
      "\n"
     ]
    },
    {
     "name": "stderr",
     "output_type": "stream",
     "text": [
      "[Succeeded / Failed / Skipped / Total] 121 / 21 / 15 / 157:  79%|███████▉  | 158/200 [1:36:52<25:44, 36.79s/it]/scratch/sp6646/envs_dirs/swap_env/lib/python3.8/site-packages/textattack/loggers/csv_logger.py:41: FutureWarning: The frame.append method is deprecated and will be removed from pandas in a future version. Use pandas.concat instead.\n",
      "  self.df = self.df.append(row, ignore_index=True)\n",
      "[Succeeded / Failed / Skipped / Total] 122 / 21 / 15 / 158:  79%|███████▉  | 158/200 [1:36:52<25:44, 36.79s/it]"
     ]
    },
    {
     "name": "stdout",
     "output_type": "stream",
     "text": [
      "--------------------------------------------- Result 158 ---------------------------------------------\n",
      "[[Negative (97%)]] --> [[Positive (59%)]]\n",
      "\n",
      "it takes talent to make a [[lifeless]] movie about the most heinous man who ever lived . \n",
      "\n",
      "it takes talent to make a [[tenuous]] movie about the most heinous man who ever lived . \n",
      "\n",
      "\n"
     ]
    },
    {
     "name": "stderr",
     "output_type": "stream",
     "text": [
      "[Succeeded / Failed / Skipped / Total] 122 / 21 / 15 / 158:  80%|███████▉  | 159/200 [1:37:15<25:04, 36.70s/it]/scratch/sp6646/envs_dirs/swap_env/lib/python3.8/site-packages/textattack/loggers/csv_logger.py:41: FutureWarning: The frame.append method is deprecated and will be removed from pandas in a future version. Use pandas.concat instead.\n",
      "  self.df = self.df.append(row, ignore_index=True)\n",
      "[Succeeded / Failed / Skipped / Total] 123 / 21 / 15 / 159:  80%|███████▉  | 159/200 [1:37:15<25:04, 36.70s/it]"
     ]
    },
    {
     "name": "stdout",
     "output_type": "stream",
     "text": [
      "--------------------------------------------- Result 159 ---------------------------------------------\n",
      "[[Negative (59%)]] --> [[Positive (64%)]]\n",
      "\n",
      "by getting myself wrapped up in the visuals and eccentricities of many of the characters , i found myself [[confused]] when it came time to get to the heart of the movie . \n",
      "\n",
      "by getting myself wrapped up in the visuals and eccentricities of many of the characters , i found myself [[puzzled]] when it came time to get to the heart of the movie . \n",
      "\n",
      "\n"
     ]
    },
    {
     "name": "stderr",
     "output_type": "stream",
     "text": [
      "[Succeeded / Failed / Skipped / Total] 123 / 21 / 15 / 159:  80%|████████  | 160/200 [1:37:33<24:23, 36.58s/it]/scratch/sp6646/envs_dirs/swap_env/lib/python3.8/site-packages/textattack/loggers/csv_logger.py:41: FutureWarning: The frame.append method is deprecated and will be removed from pandas in a future version. Use pandas.concat instead.\n",
      "  self.df = self.df.append(row, ignore_index=True)\n",
      "[Succeeded / Failed / Skipped / Total] 124 / 21 / 15 / 160:  80%|████████  | 160/200 [1:37:33<24:23, 36.58s/it]"
     ]
    },
    {
     "name": "stdout",
     "output_type": "stream",
     "text": [
      "--------------------------------------------- Result 160 ---------------------------------------------\n",
      "[[Positive (98%)]] --> [[Negative (86%)]]\n",
      "\n",
      "like leon , it 's frustrating and still oddly [[likable]] . \n",
      "\n",
      "like leon , it 's frustrating and still oddly [[unlikable]] . \n",
      "\n",
      "\n"
     ]
    },
    {
     "name": "stderr",
     "output_type": "stream",
     "text": [
      "[Succeeded / Failed / Skipped / Total] 124 / 21 / 15 / 160:  80%|████████  | 161/200 [1:38:53<23:57, 36.86s/it]/scratch/sp6646/envs_dirs/swap_env/lib/python3.8/site-packages/textattack/loggers/csv_logger.py:41: FutureWarning: The frame.append method is deprecated and will be removed from pandas in a future version. Use pandas.concat instead.\n",
      "  self.df = self.df.append(row, ignore_index=True)\n",
      "[Succeeded / Failed / Skipped / Total] 124 / 22 / 15 / 161:  80%|████████  | 161/200 [1:38:53<23:57, 36.86s/it]"
     ]
    },
    {
     "name": "stdout",
     "output_type": "stream",
     "text": [
      "--------------------------------------------- Result 161 ---------------------------------------------\n",
      "[[Negative (96%)]] --> [[[FAILED]]]\n",
      "\n",
      "uncommonly stylish but equally silly ... the picture fails to generate much suspense , nor does it ask searching enough questions to justify its pretensions . \n",
      "\n",
      "\n"
     ]
    },
    {
     "name": "stderr",
     "output_type": "stream",
     "text": [
      "[Succeeded / Failed / Skipped / Total] 124 / 22 / 15 / 161:  81%|████████  | 162/200 [1:39:15<23:17, 36.76s/it]/scratch/sp6646/envs_dirs/swap_env/lib/python3.8/site-packages/textattack/loggers/csv_logger.py:41: FutureWarning: The frame.append method is deprecated and will be removed from pandas in a future version. Use pandas.concat instead.\n",
      "  self.df = self.df.append(row, ignore_index=True)\n",
      "[Succeeded / Failed / Skipped / Total] 125 / 22 / 15 / 162:  81%|████████  | 162/200 [1:39:15<23:17, 36.77s/it]"
     ]
    },
    {
     "name": "stdout",
     "output_type": "stream",
     "text": [
      "--------------------------------------------- Result 162 ---------------------------------------------\n",
      "[[Negative (90%)]] --> [[Positive (60%)]]\n",
      "\n",
      "not [[exactly]] the bees knees \n",
      "\n",
      "not [[exclusively]] the bees knees \n",
      "\n",
      "\n"
     ]
    },
    {
     "name": "stderr",
     "output_type": "stream",
     "text": [
      "[Succeeded / Failed / Skipped / Total] 125 / 22 / 15 / 162:  82%|████████▏ | 163/200 [1:40:34<22:49, 37.02s/it]/scratch/sp6646/envs_dirs/swap_env/lib/python3.8/site-packages/textattack/loggers/csv_logger.py:41: FutureWarning: The frame.append method is deprecated and will be removed from pandas in a future version. Use pandas.concat instead.\n",
      "  self.df = self.df.append(row, ignore_index=True)\n",
      "[Succeeded / Failed / Skipped / Total] 126 / 22 / 15 / 163:  82%|████████▏ | 163/200 [1:40:34<22:49, 37.02s/it]"
     ]
    },
    {
     "name": "stdout",
     "output_type": "stream",
     "text": [
      "--------------------------------------------- Result 163 ---------------------------------------------\n",
      "[[Negative (95%)]] --> [[Positive (54%)]]\n",
      "\n",
      "there [[seems]] to [[be]] no [[clear]] path as to where the [[story]] 's [[going]] , or how long it 's going to take to get there . \n",
      "\n",
      "there [[emerges]] to [[coming]] no [[flagrant]] path as to where the [[escudos]] 's [[letting]] , or how long it 's going to take to get there . \n",
      "\n",
      "\n"
     ]
    },
    {
     "name": "stderr",
     "output_type": "stream",
     "text": [
      "[Succeeded / Failed / Skipped / Total] 126 / 22 / 15 / 163:  82%|████████▏ | 164/200 [1:41:54<22:22, 37.28s/it]/scratch/sp6646/envs_dirs/swap_env/lib/python3.8/site-packages/textattack/loggers/csv_logger.py:41: FutureWarning: The frame.append method is deprecated and will be removed from pandas in a future version. Use pandas.concat instead.\n",
      "  self.df = self.df.append(row, ignore_index=True)\n",
      "[Succeeded / Failed / Skipped / Total] 126 / 23 / 15 / 164:  82%|████████▏ | 164/200 [1:41:54<22:22, 37.28s/it]"
     ]
    },
    {
     "name": "stdout",
     "output_type": "stream",
     "text": [
      "--------------------------------------------- Result 164 ---------------------------------------------\n",
      "[[Negative (79%)]] --> [[[FAILED]]]\n",
      "\n",
      "slapstick buffoonery can tickle many a preschooler 's fancy , but when it costs a family of four about $ 40 to see a film in theaters , why spend money on a dog like this when you can rent a pedigree instead ? \n",
      "\n",
      "\n"
     ]
    },
    {
     "name": "stderr",
     "output_type": "stream",
     "text": [
      "[Succeeded / Failed / Skipped / Total] 126 / 23 / 15 / 164:  82%|████████▎ | 165/200 [1:42:38<21:46, 37.32s/it]/scratch/sp6646/envs_dirs/swap_env/lib/python3.8/site-packages/textattack/loggers/csv_logger.py:41: FutureWarning: The frame.append method is deprecated and will be removed from pandas in a future version. Use pandas.concat instead.\n",
      "  self.df = self.df.append(row, ignore_index=True)\n",
      "[Succeeded / Failed / Skipped / Total] 127 / 23 / 15 / 165:  82%|████████▎ | 165/200 [1:42:38<21:46, 37.32s/it]"
     ]
    },
    {
     "name": "stdout",
     "output_type": "stream",
     "text": [
      "--------------------------------------------- Result 165 ---------------------------------------------\n",
      "[[Positive (98%)]] --> [[Negative (79%)]]\n",
      "\n",
      "a [[woman]] 's [[pic]] [[directed]] with [[resonance]] by [[ilya]] chaiken . \n",
      "\n",
      "a [[wives]] 's [[pac]] [[targeted]] with [[harmonics]] by [[elia]] chaiken . \n",
      "\n",
      "\n"
     ]
    },
    {
     "name": "stderr",
     "output_type": "stream",
     "text": [
      "[Succeeded / Failed / Skipped / Total] 127 / 23 / 15 / 165:  83%|████████▎ | 166/200 [1:42:59<21:05, 37.23s/it]/scratch/sp6646/envs_dirs/swap_env/lib/python3.8/site-packages/textattack/loggers/csv_logger.py:41: FutureWarning: The frame.append method is deprecated and will be removed from pandas in a future version. Use pandas.concat instead.\n",
      "  self.df = self.df.append(row, ignore_index=True)\n",
      "[Succeeded / Failed / Skipped / Total] 128 / 23 / 15 / 166:  83%|████████▎ | 166/200 [1:42:59<21:05, 37.23s/it]"
     ]
    },
    {
     "name": "stdout",
     "output_type": "stream",
     "text": [
      "--------------------------------------------- Result 166 ---------------------------------------------\n",
      "[[Negative (79%)]] --> [[Positive (67%)]]\n",
      "\n",
      "may reawaken discussion of the kennedy assassination but this fictional film looks made for cable [[rather]] than for the big screen . \n",
      "\n",
      "may reawaken discussion of the kennedy assassination but this fictional film looks made for cable [[totally]] than for the big screen . \n",
      "\n",
      "\n"
     ]
    },
    {
     "name": "stderr",
     "output_type": "stream",
     "text": [
      "[Succeeded / Failed / Skipped / Total] 128 / 23 / 15 / 166:  84%|████████▎ | 167/200 [1:43:00<20:21, 37.01s/it]/scratch/sp6646/envs_dirs/swap_env/lib/python3.8/site-packages/textattack/loggers/csv_logger.py:41: FutureWarning: The frame.append method is deprecated and will be removed from pandas in a future version. Use pandas.concat instead.\n",
      "  self.df = self.df.append(row, ignore_index=True)\n",
      "[Succeeded / Failed / Skipped / Total] 128 / 23 / 16 / 167:  84%|████████▎ | 167/200 [1:43:00<20:21, 37.01s/it]"
     ]
    },
    {
     "name": "stdout",
     "output_type": "stream",
     "text": [
      "--------------------------------------------- Result 167 ---------------------------------------------\n",
      "[[Positive (52%)]] --> [[[SKIPPED]]]\n",
      "\n",
      "characters still need to function according to some set of believable and comprehensible impulses , no matter how many drugs they do or how much artistic license avary employs . \n",
      "\n",
      "\n"
     ]
    },
    {
     "name": "stderr",
     "output_type": "stream",
     "text": [
      "[Succeeded / Failed / Skipped / Total] 128 / 23 / 16 / 167:  84%|████████▍ | 168/200 [1:43:54<19:47, 37.11s/it]/scratch/sp6646/envs_dirs/swap_env/lib/python3.8/site-packages/textattack/loggers/csv_logger.py:41: FutureWarning: The frame.append method is deprecated and will be removed from pandas in a future version. Use pandas.concat instead.\n",
      "  self.df = self.df.append(row, ignore_index=True)\n",
      "[Succeeded / Failed / Skipped / Total] 128 / 24 / 16 / 168:  84%|████████▍ | 168/200 [1:43:54<19:47, 37.11s/it]"
     ]
    },
    {
     "name": "stdout",
     "output_type": "stream",
     "text": [
      "--------------------------------------------- Result 168 ---------------------------------------------\n",
      "[[Negative (95%)]] --> [[[FAILED]]]\n",
      "\n",
      "the end result is a film that 's neither . \n",
      "\n",
      "\n"
     ]
    },
    {
     "name": "stderr",
     "output_type": "stream",
     "text": [
      "[Succeeded / Failed / Skipped / Total] 128 / 24 / 16 / 168:  84%|████████▍ | 169/200 [1:44:54<19:14, 37.25s/it]/scratch/sp6646/envs_dirs/swap_env/lib/python3.8/site-packages/textattack/loggers/csv_logger.py:41: FutureWarning: The frame.append method is deprecated and will be removed from pandas in a future version. Use pandas.concat instead.\n",
      "  self.df = self.df.append(row, ignore_index=True)\n",
      "[Succeeded / Failed / Skipped / Total] 129 / 24 / 16 / 169:  84%|████████▍ | 169/200 [1:44:54<19:14, 37.25s/it]"
     ]
    },
    {
     "name": "stdout",
     "output_type": "stream",
     "text": [
      "--------------------------------------------- Result 169 ---------------------------------------------\n",
      "[[Positive (98%)]] --> [[Negative (55%)]]\n",
      "\n",
      "[[manages]] to [[be]] sweet and wickedly satisfying at the same [[time]] . \n",
      "\n",
      "[[operated]] to [[come]] sweet and wickedly satisfying at the same [[dated]] . \n",
      "\n",
      "\n"
     ]
    },
    {
     "name": "stderr",
     "output_type": "stream",
     "text": [
      "[Succeeded / Failed / Skipped / Total] 129 / 24 / 16 / 169:  85%|████████▌ | 170/200 [1:45:24<18:36, 37.20s/it]/scratch/sp6646/envs_dirs/swap_env/lib/python3.8/site-packages/textattack/loggers/csv_logger.py:41: FutureWarning: The frame.append method is deprecated and will be removed from pandas in a future version. Use pandas.concat instead.\n",
      "  self.df = self.df.append(row, ignore_index=True)\n",
      "[Succeeded / Failed / Skipped / Total] 130 / 24 / 16 / 170:  85%|████████▌ | 170/200 [1:45:24<18:36, 37.20s/it]"
     ]
    },
    {
     "name": "stdout",
     "output_type": "stream",
     "text": [
      "--------------------------------------------- Result 170 ---------------------------------------------\n",
      "[[Positive (99%)]] --> [[Negative (53%)]]\n",
      "\n",
      "leigh 's film is [[full]] of [[memorable]] performances from top to bottom . \n",
      "\n",
      "leigh 's film is [[utter]] of [[prodigious]] performances from top to bottom . \n",
      "\n",
      "\n"
     ]
    },
    {
     "name": "stderr",
     "output_type": "stream",
     "text": [
      "[Succeeded / Failed / Skipped / Total] 130 / 24 / 16 / 170:  86%|████████▌ | 171/200 [1:46:01<17:58, 37.20s/it]/scratch/sp6646/envs_dirs/swap_env/lib/python3.8/site-packages/textattack/loggers/csv_logger.py:41: FutureWarning: The frame.append method is deprecated and will be removed from pandas in a future version. Use pandas.concat instead.\n",
      "  self.df = self.df.append(row, ignore_index=True)\n",
      "[Succeeded / Failed / Skipped / Total] 131 / 24 / 16 / 171:  86%|████████▌ | 171/200 [1:46:01<17:58, 37.20s/it]"
     ]
    },
    {
     "name": "stdout",
     "output_type": "stream",
     "text": [
      "--------------------------------------------- Result 171 ---------------------------------------------\n",
      "[[Positive (100%)]] --> [[Negative (51%)]]\n",
      "\n",
      "it 's also , clearly , [[great]] [[fun]] . \n",
      "\n",
      "it 's also , clearly , [[sizable]] [[distracting]] . \n",
      "\n",
      "\n"
     ]
    },
    {
     "name": "stderr",
     "output_type": "stream",
     "text": [
      "[Succeeded / Failed / Skipped / Total] 131 / 24 / 16 / 171:  86%|████████▌ | 172/200 [1:46:03<17:15, 36.99s/it]/scratch/sp6646/envs_dirs/swap_env/lib/python3.8/site-packages/textattack/loggers/csv_logger.py:41: FutureWarning: The frame.append method is deprecated and will be removed from pandas in a future version. Use pandas.concat instead.\n",
      "  self.df = self.df.append(row, ignore_index=True)\n",
      "[Succeeded / Failed / Skipped / Total] 131 / 24 / 17 / 172:  86%|████████▌ | 172/200 [1:46:03<17:15, 37.00s/it]"
     ]
    },
    {
     "name": "stdout",
     "output_type": "stream",
     "text": [
      "--------------------------------------------- Result 172 ---------------------------------------------\n",
      "[[Positive (88%)]] --> [[[SKIPPED]]]\n",
      "\n",
      "rarely has leukemia looked so shimmering and benign . \n",
      "\n",
      "\n"
     ]
    },
    {
     "name": "stderr",
     "output_type": "stream",
     "text": [
      "[Succeeded / Failed / Skipped / Total] 131 / 24 / 17 / 172:  86%|████████▋ | 173/200 [1:46:04<16:33, 36.79s/it]/scratch/sp6646/envs_dirs/swap_env/lib/python3.8/site-packages/textattack/loggers/csv_logger.py:41: FutureWarning: The frame.append method is deprecated and will be removed from pandas in a future version. Use pandas.concat instead.\n",
      "  self.df = self.df.append(row, ignore_index=True)\n",
      "[Succeeded / Failed / Skipped / Total] 131 / 24 / 18 / 173:  86%|████████▋ | 173/200 [1:46:04<16:33, 36.79s/it]"
     ]
    },
    {
     "name": "stdout",
     "output_type": "stream",
     "text": [
      "--------------------------------------------- Result 173 ---------------------------------------------\n",
      "[[Negative (58%)]] --> [[[SKIPPED]]]\n",
      "\n",
      "it seems like i have been waiting my whole life for this movie and now i ca n't wait for the sequel . \n",
      "\n",
      "\n"
     ]
    },
    {
     "name": "stderr",
     "output_type": "stream",
     "text": [
      "[Succeeded / Failed / Skipped / Total] 131 / 24 / 18 / 173:  87%|████████▋ | 174/200 [1:46:32<15:55, 36.74s/it]/scratch/sp6646/envs_dirs/swap_env/lib/python3.8/site-packages/textattack/loggers/csv_logger.py:41: FutureWarning: The frame.append method is deprecated and will be removed from pandas in a future version. Use pandas.concat instead.\n",
      "  self.df = self.df.append(row, ignore_index=True)\n",
      "[Succeeded / Failed / Skipped / Total] 132 / 24 / 18 / 174:  87%|████████▋ | 174/200 [1:46:32<15:55, 36.74s/it]"
     ]
    },
    {
     "name": "stdout",
     "output_type": "stream",
     "text": [
      "--------------------------------------------- Result 174 ---------------------------------------------\n",
      "[[Negative (74%)]] --> [[Positive (88%)]]\n",
      "\n",
      "determined to be fun , and [[bouncy]] , with energetic musicals , the humor did n't [[quite]] engage this adult . \n",
      "\n",
      "determined to be fun , and [[tyres]] , with energetic musicals , the humor did n't [[rather]] engage this adult . \n",
      "\n",
      "\n"
     ]
    },
    {
     "name": "stderr",
     "output_type": "stream",
     "text": [
      "[Succeeded / Failed / Skipped / Total] 132 / 24 / 18 / 174:  88%|████████▊ | 175/200 [1:46:51<15:15, 36.64s/it]/scratch/sp6646/envs_dirs/swap_env/lib/python3.8/site-packages/textattack/loggers/csv_logger.py:41: FutureWarning: The frame.append method is deprecated and will be removed from pandas in a future version. Use pandas.concat instead.\n",
      "  self.df = self.df.append(row, ignore_index=True)\n",
      "[Succeeded / Failed / Skipped / Total] 133 / 24 / 18 / 175:  88%|████████▊ | 175/200 [1:46:51<15:15, 36.64s/it]"
     ]
    },
    {
     "name": "stdout",
     "output_type": "stream",
     "text": [
      "--------------------------------------------- Result 175 ---------------------------------------------\n",
      "[[Positive (98%)]] --> [[Negative (55%)]]\n",
      "\n",
      "if you dig on david mamet 's mind tricks ... rent this movie and [[enjoy]] ! \n",
      "\n",
      "if you dig on david mamet 's mind tricks ... rent this movie and [[receive]] ! \n",
      "\n",
      "\n"
     ]
    },
    {
     "name": "stderr",
     "output_type": "stream",
     "text": [
      "[Succeeded / Failed / Skipped / Total] 133 / 24 / 18 / 175:  88%|████████▊ | 176/200 [1:47:12<14:37, 36.55s/it]/scratch/sp6646/envs_dirs/swap_env/lib/python3.8/site-packages/textattack/loggers/csv_logger.py:41: FutureWarning: The frame.append method is deprecated and will be removed from pandas in a future version. Use pandas.concat instead.\n",
      "  self.df = self.df.append(row, ignore_index=True)\n",
      "[Succeeded / Failed / Skipped / Total] 134 / 24 / 18 / 176:  88%|████████▊ | 176/200 [1:47:12<14:37, 36.55s/it]"
     ]
    },
    {
     "name": "stdout",
     "output_type": "stream",
     "text": [
      "--------------------------------------------- Result 176 ---------------------------------------------\n",
      "[[Positive (97%)]] --> [[Negative (57%)]]\n",
      "\n",
      "bleakly [[funny]] , its characters all the more touching for refusing to pity or memorialize themselves . \n",
      "\n",
      "bleakly [[bizarre]] , its characters all the more touching for refusing to pity or memorialize themselves . \n",
      "\n",
      "\n"
     ]
    },
    {
     "name": "stderr",
     "output_type": "stream",
     "text": [
      "[Succeeded / Failed / Skipped / Total] 134 / 24 / 18 / 176:  88%|████████▊ | 177/200 [1:47:57<14:01, 36.60s/it]/scratch/sp6646/envs_dirs/swap_env/lib/python3.8/site-packages/textattack/loggers/csv_logger.py:41: FutureWarning: The frame.append method is deprecated and will be removed from pandas in a future version. Use pandas.concat instead.\n",
      "  self.df = self.df.append(row, ignore_index=True)\n",
      "[Succeeded / Failed / Skipped / Total] 135 / 24 / 18 / 177:  88%|████████▊ | 177/200 [1:47:57<14:01, 36.60s/it]"
     ]
    },
    {
     "name": "stdout",
     "output_type": "stream",
     "text": [
      "--------------------------------------------- Result 177 ---------------------------------------------\n",
      "[[Negative (89%)]] --> [[Positive (63%)]]\n",
      "\n",
      "delivers the same [[old]] same [[old]] , tarted up with [[latin]] flava and [[turned]] out by hollywood playas . \n",
      "\n",
      "delivers the same [[longstanding]] same [[senior]] , tarted up with [[latina]] flava and [[turn]] out by hollywood playas . \n",
      "\n",
      "\n"
     ]
    },
    {
     "name": "stderr",
     "output_type": "stream",
     "text": [
      "[Succeeded / Failed / Skipped / Total] 135 / 24 / 18 / 177:  89%|████████▉ | 178/200 [1:49:00<13:28, 36.74s/it]/scratch/sp6646/envs_dirs/swap_env/lib/python3.8/site-packages/textattack/loggers/csv_logger.py:41: FutureWarning: The frame.append method is deprecated and will be removed from pandas in a future version. Use pandas.concat instead.\n",
      "  self.df = self.df.append(row, ignore_index=True)\n",
      "[Succeeded / Failed / Skipped / Total] 136 / 24 / 18 / 178:  89%|████████▉ | 178/200 [1:49:00<13:28, 36.75s/it]"
     ]
    },
    {
     "name": "stdout",
     "output_type": "stream",
     "text": [
      "--------------------------------------------- Result 178 ---------------------------------------------\n",
      "[[Negative (79%)]] --> [[Positive (54%)]]\n",
      "\n",
      "[[does]] n't offer much besides glib soullessness , [[raunchy]] [[language]] and a series of brutal set pieces ... that raise the bar on stylized screen [[violence]] . \n",
      "\n",
      "[[es]] n't offer much besides glib soullessness , [[lighthearted]] [[tongue]] and a series of brutal set pieces ... that raise the bar on stylized screen [[ruthlessness]] . \n",
      "\n",
      "\n"
     ]
    },
    {
     "name": "stderr",
     "output_type": "stream",
     "text": [
      "[Succeeded / Failed / Skipped / Total] 136 / 24 / 18 / 178:  90%|████████▉ | 179/200 [1:49:30<12:50, 36.71s/it]/scratch/sp6646/envs_dirs/swap_env/lib/python3.8/site-packages/textattack/loggers/csv_logger.py:41: FutureWarning: The frame.append method is deprecated and will be removed from pandas in a future version. Use pandas.concat instead.\n",
      "  self.df = self.df.append(row, ignore_index=True)\n",
      "[Succeeded / Failed / Skipped / Total] 137 / 24 / 18 / 179:  90%|████████▉ | 179/200 [1:49:30<12:50, 36.71s/it]"
     ]
    },
    {
     "name": "stdout",
     "output_type": "stream",
     "text": [
      "--------------------------------------------- Result 179 ---------------------------------------------\n",
      "[[Negative (81%)]] --> [[Positive (55%)]]\n",
      "\n",
      "it made me [[want]] to wrench my eyes out of my head and [[toss]] them at the screen . \n",
      "\n",
      "it made me [[desire]] to wrench my eyes out of my head and [[lays]] them at the screen . \n",
      "\n",
      "\n"
     ]
    },
    {
     "name": "stderr",
     "output_type": "stream",
     "text": [
      "[Succeeded / Failed / Skipped / Total] 137 / 24 / 18 / 179:  90%|█████████ | 180/200 [1:49:52<12:12, 36.63s/it]/scratch/sp6646/envs_dirs/swap_env/lib/python3.8/site-packages/textattack/loggers/csv_logger.py:41: FutureWarning: The frame.append method is deprecated and will be removed from pandas in a future version. Use pandas.concat instead.\n",
      "  self.df = self.df.append(row, ignore_index=True)\n",
      "[Succeeded / Failed / Skipped / Total] 138 / 24 / 18 / 180:  90%|█████████ | 180/200 [1:49:53<12:12, 36.63s/it]"
     ]
    },
    {
     "name": "stdout",
     "output_type": "stream",
     "text": [
      "--------------------------------------------- Result 180 ---------------------------------------------\n",
      "[[Positive (100%)]] --> [[Negative (75%)]]\n",
      "\n",
      "the film 's [[performances]] are [[thrilling]] . \n",
      "\n",
      "the film 's [[executions]] are [[scintillating]] . \n",
      "\n",
      "\n"
     ]
    },
    {
     "name": "stderr",
     "output_type": "stream",
     "text": [
      "[Succeeded / Failed / Skipped / Total] 138 / 24 / 18 / 180:  90%|█████████ | 181/200 [1:50:46<11:37, 36.72s/it]/scratch/sp6646/envs_dirs/swap_env/lib/python3.8/site-packages/textattack/loggers/csv_logger.py:41: FutureWarning: The frame.append method is deprecated and will be removed from pandas in a future version. Use pandas.concat instead.\n",
      "  self.df = self.df.append(row, ignore_index=True)\n",
      "[Succeeded / Failed / Skipped / Total] 139 / 24 / 18 / 181:  90%|█████████ | 181/200 [1:50:47<11:37, 36.72s/it]"
     ]
    },
    {
     "name": "stdout",
     "output_type": "stream",
     "text": [
      "--------------------------------------------- Result 181 ---------------------------------------------\n",
      "[[Negative (94%)]] --> [[Positive (51%)]]\n",
      "\n",
      "unfortunately , it 's not silly [[fun]] unless you enjoy really [[bad]] [[movies]] . \n",
      "\n",
      "unfortunately , it 's not silly [[giggle]] unless you enjoy really [[dirty]] [[scene]] . \n",
      "\n",
      "\n"
     ]
    },
    {
     "name": "stderr",
     "output_type": "stream",
     "text": [
      "[Succeeded / Failed / Skipped / Total] 139 / 24 / 18 / 181:  91%|█████████ | 182/200 [1:52:08<11:05, 36.97s/it]/scratch/sp6646/envs_dirs/swap_env/lib/python3.8/site-packages/textattack/loggers/csv_logger.py:41: FutureWarning: The frame.append method is deprecated and will be removed from pandas in a future version. Use pandas.concat instead.\n",
      "  self.df = self.df.append(row, ignore_index=True)\n",
      "[Succeeded / Failed / Skipped / Total] 140 / 24 / 18 / 182:  91%|█████████ | 182/200 [1:52:08<11:05, 36.97s/it]"
     ]
    },
    {
     "name": "stdout",
     "output_type": "stream",
     "text": [
      "--------------------------------------------- Result 182 ---------------------------------------------\n",
      "[[Negative (99%)]] --> [[Positive (50%)]]\n",
      "\n",
      "it 's a [[bad]] [[thing]] when a movie [[has]] about as much [[substance]] as its [[end]] credits blooper reel . \n",
      "\n",
      "it 's a [[mala]] [[things]] when a movie [[enjoy]] about as much [[merits]] as its [[fin]] credits blooper reel . \n",
      "\n",
      "\n"
     ]
    },
    {
     "name": "stderr",
     "output_type": "stream",
     "text": [
      "[Succeeded / Failed / Skipped / Total] 140 / 24 / 18 / 182:  92%|█████████▏| 183/200 [1:53:11<10:30, 37.11s/it]/scratch/sp6646/envs_dirs/swap_env/lib/python3.8/site-packages/textattack/loggers/csv_logger.py:41: FutureWarning: The frame.append method is deprecated and will be removed from pandas in a future version. Use pandas.concat instead.\n",
      "  self.df = self.df.append(row, ignore_index=True)\n",
      "[Succeeded / Failed / Skipped / Total] 141 / 24 / 18 / 183:  92%|█████████▏| 183/200 [1:53:11<10:30, 37.11s/it]"
     ]
    },
    {
     "name": "stdout",
     "output_type": "stream",
     "text": [
      "--------------------------------------------- Result 183 ---------------------------------------------\n",
      "[[Negative (94%)]] --> [[Positive (56%)]]\n",
      "\n",
      "i sympathize with the [[plight]] of these families , but the [[movie]] does n't [[do]] a [[very]] good job conveying the issue at hand . \n",
      "\n",
      "i sympathize with the [[sadness]] of these families , but the [[theater]] does n't [[could]] a [[pretty]] good job conveying the issue at hand . \n",
      "\n",
      "\n"
     ]
    },
    {
     "name": "stderr",
     "output_type": "stream",
     "text": [
      "[Succeeded / Failed / Skipped / Total] 141 / 24 / 18 / 183:  92%|█████████▏| 184/200 [1:53:13<09:50, 36.92s/it]/scratch/sp6646/envs_dirs/swap_env/lib/python3.8/site-packages/textattack/loggers/csv_logger.py:41: FutureWarning: The frame.append method is deprecated and will be removed from pandas in a future version. Use pandas.concat instead.\n",
      "  self.df = self.df.append(row, ignore_index=True)\n",
      "[Succeeded / Failed / Skipped / Total] 141 / 24 / 19 / 184:  92%|█████████▏| 184/200 [1:53:13<09:50, 36.92s/it]"
     ]
    },
    {
     "name": "stdout",
     "output_type": "stream",
     "text": [
      "--------------------------------------------- Result 184 ---------------------------------------------\n",
      "[[Positive (94%)]] --> [[[SKIPPED]]]\n",
      "\n",
      "the lower your expectations , the more you 'll enjoy it . \n",
      "\n",
      "\n"
     ]
    },
    {
     "name": "stderr",
     "output_type": "stream",
     "text": [
      "[Succeeded / Failed / Skipped / Total] 141 / 24 / 19 / 184:  92%|█████████▎| 185/200 [1:53:14<09:10, 36.73s/it]/scratch/sp6646/envs_dirs/swap_env/lib/python3.8/site-packages/textattack/loggers/csv_logger.py:41: FutureWarning: The frame.append method is deprecated and will be removed from pandas in a future version. Use pandas.concat instead.\n",
      "  self.df = self.df.append(row, ignore_index=True)\n",
      "[Succeeded / Failed / Skipped / Total] 141 / 24 / 20 / 185:  92%|█████████▎| 185/200 [1:53:14<09:10, 36.73s/it]"
     ]
    },
    {
     "name": "stdout",
     "output_type": "stream",
     "text": [
      "--------------------------------------------- Result 185 ---------------------------------------------\n",
      "[[Positive (51%)]] --> [[[SKIPPED]]]\n",
      "\n",
      "though perry and hurley make inspiring efforts to breathe life into the disjointed , haphazard script by jay scherick and david ronn , neither the actors nor director reginald hudlin can make it more than fitfully entertaining . \n",
      "\n",
      "\n"
     ]
    },
    {
     "name": "stderr",
     "output_type": "stream",
     "text": [
      "[Succeeded / Failed / Skipped / Total] 141 / 24 / 20 / 185:  93%|█████████▎| 186/200 [1:54:07<08:35, 36.82s/it]/scratch/sp6646/envs_dirs/swap_env/lib/python3.8/site-packages/textattack/loggers/csv_logger.py:41: FutureWarning: The frame.append method is deprecated and will be removed from pandas in a future version. Use pandas.concat instead.\n",
      "  self.df = self.df.append(row, ignore_index=True)\n",
      "[Succeeded / Failed / Skipped / Total] 141 / 25 / 20 / 186:  93%|█████████▎| 186/200 [1:54:07<08:35, 36.82s/it]"
     ]
    },
    {
     "name": "stdout",
     "output_type": "stream",
     "text": [
      "--------------------------------------------- Result 186 ---------------------------------------------\n",
      "[[Positive (99%)]] --> [[[FAILED]]]\n",
      "\n",
      "a must-see for the david mamet enthusiast and for anyone who appreciates intelligent , stylish moviemaking . \n",
      "\n",
      "\n"
     ]
    },
    {
     "name": "stderr",
     "output_type": "stream",
     "text": [
      "[Succeeded / Failed / Skipped / Total] 141 / 25 / 20 / 186:  94%|█████████▎| 187/200 [1:54:31<07:57, 36.75s/it]/scratch/sp6646/envs_dirs/swap_env/lib/python3.8/site-packages/textattack/loggers/csv_logger.py:41: FutureWarning: The frame.append method is deprecated and will be removed from pandas in a future version. Use pandas.concat instead.\n",
      "  self.df = self.df.append(row, ignore_index=True)\n",
      "[Succeeded / Failed / Skipped / Total] 142 / 25 / 20 / 187:  94%|█████████▎| 187/200 [1:54:31<07:57, 36.75s/it]"
     ]
    },
    {
     "name": "stdout",
     "output_type": "stream",
     "text": [
      "--------------------------------------------- Result 187 ---------------------------------------------\n",
      "[[Positive (91%)]] --> [[Negative (68%)]]\n",
      "\n",
      "pacino is [[brilliant]] as the sleep-deprived dormer , his increasing weariness as much existential as it is physical . \n",
      "\n",
      "pacino is [[great]] as the sleep-deprived dormer , his increasing weariness as much existential as it is physical . \n",
      "\n",
      "\n"
     ]
    },
    {
     "name": "stderr",
     "output_type": "stream",
     "text": [
      "[Succeeded / Failed / Skipped / Total] 142 / 25 / 20 / 187:  94%|█████████▍| 188/200 [1:55:18<07:21, 36.80s/it]/scratch/sp6646/envs_dirs/swap_env/lib/python3.8/site-packages/textattack/loggers/csv_logger.py:41: FutureWarning: The frame.append method is deprecated and will be removed from pandas in a future version. Use pandas.concat instead.\n",
      "  self.df = self.df.append(row, ignore_index=True)\n",
      "[Succeeded / Failed / Skipped / Total] 143 / 25 / 20 / 188:  94%|█████████▍| 188/200 [1:55:18<07:21, 36.80s/it]"
     ]
    },
    {
     "name": "stdout",
     "output_type": "stream",
     "text": [
      "--------------------------------------------- Result 188 ---------------------------------------------\n",
      "[[Positive (88%)]] --> [[Negative (53%)]]\n",
      "\n",
      "` [[de]] niro ... is a veritable source of [[sincere]] [[passion]] that this hollywood contrivance orbits around . ' \n",
      "\n",
      "` [[aux]] niro ... is a veritable source of [[cordially]] [[whim]] that this hollywood contrivance orbits around . ' \n",
      "\n",
      "\n"
     ]
    },
    {
     "name": "stderr",
     "output_type": "stream",
     "text": [
      "[Succeeded / Failed / Skipped / Total] 143 / 25 / 20 / 188:  94%|█████████▍| 189/200 [1:56:10<06:45, 36.88s/it]/scratch/sp6646/envs_dirs/swap_env/lib/python3.8/site-packages/textattack/loggers/csv_logger.py:41: FutureWarning: The frame.append method is deprecated and will be removed from pandas in a future version. Use pandas.concat instead.\n",
      "  self.df = self.df.append(row, ignore_index=True)\n",
      "[Succeeded / Failed / Skipped / Total] 144 / 25 / 20 / 189:  94%|█████████▍| 189/200 [1:56:10<06:45, 36.88s/it]"
     ]
    },
    {
     "name": "stdout",
     "output_type": "stream",
     "text": [
      "--------------------------------------------- Result 189 ---------------------------------------------\n",
      "[[Negative (98%)]] --> [[Positive (66%)]]\n",
      "\n",
      "a [[misogynistic]] [[piece]] of filth that [[attempts]] to [[pass]] itself off as hip , young [[adult]] entertainment . \n",
      "\n",
      "a [[chauvinist]] [[primal]] of filth that [[endeavour]] to [[enactment]] itself off as hip , young [[grown]] entertainment . \n",
      "\n",
      "\n"
     ]
    },
    {
     "name": "stderr",
     "output_type": "stream",
     "text": [
      "[Succeeded / Failed / Skipped / Total] 144 / 25 / 20 / 189:  95%|█████████▌| 190/200 [1:56:51<06:09, 36.90s/it]/scratch/sp6646/envs_dirs/swap_env/lib/python3.8/site-packages/textattack/loggers/csv_logger.py:41: FutureWarning: The frame.append method is deprecated and will be removed from pandas in a future version. Use pandas.concat instead.\n",
      "  self.df = self.df.append(row, ignore_index=True)\n",
      "[Succeeded / Failed / Skipped / Total] 145 / 25 / 20 / 190:  95%|█████████▌| 190/200 [1:56:51<06:09, 36.90s/it]"
     ]
    },
    {
     "name": "stdout",
     "output_type": "stream",
     "text": [
      "--------------------------------------------- Result 190 ---------------------------------------------\n",
      "[[Negative (90%)]] --> [[Positive (54%)]]\n",
      "\n",
      "its story may be a thousand years old , but why did it have to [[seem]] [[like]] it [[took]] another [[thousand]] to tell it to us ? \n",
      "\n",
      "its story may be a thousand years old , but why did it have to [[appearing]] [[lover]] it [[accomplished]] another [[thousands]] to tell it to us ? \n",
      "\n",
      "\n"
     ]
    },
    {
     "name": "stderr",
     "output_type": "stream",
     "text": [
      "[Succeeded / Failed / Skipped / Total] 145 / 25 / 20 / 190:  96%|█████████▌| 191/200 [1:57:07<05:31, 36.79s/it]/scratch/sp6646/envs_dirs/swap_env/lib/python3.8/site-packages/textattack/loggers/csv_logger.py:41: FutureWarning: The frame.append method is deprecated and will be removed from pandas in a future version. Use pandas.concat instead.\n",
      "  self.df = self.df.append(row, ignore_index=True)\n",
      "[Succeeded / Failed / Skipped / Total] 146 / 25 / 20 / 191:  96%|█████████▌| 191/200 [1:57:07<05:31, 36.79s/it]"
     ]
    },
    {
     "name": "stdout",
     "output_type": "stream",
     "text": [
      "--------------------------------------------- Result 191 ---------------------------------------------\n",
      "[[Negative (70%)]] --> [[Positive (58%)]]\n",
      "\n",
      "try as i may , i [[ca]] n't think of a single good reason to see this movie , even though everyone in my group extemporaneously shouted , ` thank you ! ' \n",
      "\n",
      "try as i may , i [[could]] n't think of a single good reason to see this movie , even though everyone in my group extemporaneously shouted , ` thank you ! ' \n",
      "\n",
      "\n"
     ]
    },
    {
     "name": "stderr",
     "output_type": "stream",
     "text": [
      "[Succeeded / Failed / Skipped / Total] 146 / 25 / 20 / 191:  96%|█████████▌| 192/200 [1:58:09<04:55, 36.93s/it]/scratch/sp6646/envs_dirs/swap_env/lib/python3.8/site-packages/textattack/loggers/csv_logger.py:41: FutureWarning: The frame.append method is deprecated and will be removed from pandas in a future version. Use pandas.concat instead.\n",
      "  self.df = self.df.append(row, ignore_index=True)\n",
      "[Succeeded / Failed / Skipped / Total] 147 / 25 / 20 / 192:  96%|█████████▌| 192/200 [1:58:09<04:55, 36.93s/it]"
     ]
    },
    {
     "name": "stdout",
     "output_type": "stream",
     "text": [
      "--------------------------------------------- Result 192 ---------------------------------------------\n",
      "[[Positive (94%)]] --> [[Negative (57%)]]\n",
      "\n",
      "the movie is [[beautiful]] to behold and [[engages]] one in a [[sense]] of epic struggle -- inner and outer -- that 's all too rare in hollywood 's hastier [[productions]] . \n",
      "\n",
      "the movie is [[jamil]] to behold and [[undertake]] one in a [[foreboding]] of epic struggle -- inner and outer -- that 's all too rare in hollywood 's hastier [[fabrication]] . \n",
      "\n",
      "\n"
     ]
    },
    {
     "name": "stderr",
     "output_type": "stream",
     "text": [
      "[Succeeded / Failed / Skipped / Total] 147 / 25 / 20 / 192:  96%|█████████▋| 193/200 [1:58:31<04:17, 36.85s/it]/scratch/sp6646/envs_dirs/swap_env/lib/python3.8/site-packages/textattack/loggers/csv_logger.py:41: FutureWarning: The frame.append method is deprecated and will be removed from pandas in a future version. Use pandas.concat instead.\n",
      "  self.df = self.df.append(row, ignore_index=True)\n",
      "[Succeeded / Failed / Skipped / Total] 148 / 25 / 20 / 193:  96%|█████████▋| 193/200 [1:58:31<04:17, 36.85s/it]"
     ]
    },
    {
     "name": "stdout",
     "output_type": "stream",
     "text": [
      "--------------------------------------------- Result 193 ---------------------------------------------\n",
      "[[Positive (55%)]] --> [[Negative (56%)]]\n",
      "\n",
      "a [[celebration]] of quirkiness , eccentricity , and certain individuals ' tendency to let it all hang out , and damn the consequences . \n",
      "\n",
      "a [[celebrations]] of quirkiness , eccentricity , and certain individuals ' tendency to let it all hang out , and damn the consequences . \n",
      "\n",
      "\n"
     ]
    },
    {
     "name": "stderr",
     "output_type": "stream",
     "text": [
      "[Succeeded / Failed / Skipped / Total] 148 / 25 / 20 / 193:  97%|█████████▋| 194/200 [1:59:05<03:40, 36.83s/it]/scratch/sp6646/envs_dirs/swap_env/lib/python3.8/site-packages/textattack/loggers/csv_logger.py:41: FutureWarning: The frame.append method is deprecated and will be removed from pandas in a future version. Use pandas.concat instead.\n",
      "  self.df = self.df.append(row, ignore_index=True)\n",
      "[Succeeded / Failed / Skipped / Total] 149 / 25 / 20 / 194:  97%|█████████▋| 194/200 [1:59:05<03:40, 36.83s/it]"
     ]
    },
    {
     "name": "stdout",
     "output_type": "stream",
     "text": [
      "--------------------------------------------- Result 194 ---------------------------------------------\n",
      "[[Positive (85%)]] --> [[Negative (53%)]]\n",
      "\n",
      "morton uses her face and her body language to [[bring]] us morvern 's soul , even [[though]] the character is almost completely deadpan . \n",
      "\n",
      "morton uses her face and her body language to [[supplying]] us morvern 's soul , even [[besides]] the character is almost completely deadpan . \n",
      "\n",
      "\n"
     ]
    },
    {
     "name": "stderr",
     "output_type": "stream",
     "text": [
      "[Succeeded / Failed / Skipped / Total] 149 / 25 / 20 / 194:  98%|█████████▊| 195/200 [1:59:38<03:04, 36.81s/it]/scratch/sp6646/envs_dirs/swap_env/lib/python3.8/site-packages/textattack/loggers/csv_logger.py:41: FutureWarning: The frame.append method is deprecated and will be removed from pandas in a future version. Use pandas.concat instead.\n",
      "  self.df = self.df.append(row, ignore_index=True)\n",
      "[Succeeded / Failed / Skipped / Total] 150 / 25 / 20 / 195:  98%|█████████▊| 195/200 [1:59:38<03:04, 36.81s/it]"
     ]
    },
    {
     "name": "stdout",
     "output_type": "stream",
     "text": [
      "--------------------------------------------- Result 195 ---------------------------------------------\n",
      "[[Positive (97%)]] --> [[Negative (52%)]]\n",
      "\n",
      "instead of a hyperbolic beat-charged urban western , it 's an unpretentious , sociologically pointed [[slice]] of [[life]] . \n",
      "\n",
      "instead of a hyperbolic beat-charged urban western , it 's an unpretentious , sociologically pointed [[slices]] of [[inhabits]] . \n",
      "\n",
      "\n"
     ]
    },
    {
     "name": "stderr",
     "output_type": "stream",
     "text": [
      "[Succeeded / Failed / Skipped / Total] 150 / 25 / 20 / 195:  98%|█████████▊| 196/200 [1:59:59<02:26, 36.73s/it]/scratch/sp6646/envs_dirs/swap_env/lib/python3.8/site-packages/textattack/loggers/csv_logger.py:41: FutureWarning: The frame.append method is deprecated and will be removed from pandas in a future version. Use pandas.concat instead.\n",
      "  self.df = self.df.append(row, ignore_index=True)\n",
      "[Succeeded / Failed / Skipped / Total] 151 / 25 / 20 / 196:  98%|█████████▊| 196/200 [1:59:59<02:26, 36.73s/it]"
     ]
    },
    {
     "name": "stdout",
     "output_type": "stream",
     "text": [
      "--------------------------------------------- Result 196 ---------------------------------------------\n",
      "[[Positive (90%)]] --> [[Negative (52%)]]\n",
      "\n",
      "my thoughts were focused on the [[characters]] . \n",
      "\n",
      "my thoughts were focused on the [[typeface]] . \n",
      "\n",
      "\n"
     ]
    },
    {
     "name": "stderr",
     "output_type": "stream",
     "text": [
      "[Succeeded / Failed / Skipped / Total] 151 / 25 / 20 / 196:  98%|█████████▊| 197/200 [2:00:20<01:49, 36.65s/it]/scratch/sp6646/envs_dirs/swap_env/lib/python3.8/site-packages/textattack/loggers/csv_logger.py:41: FutureWarning: The frame.append method is deprecated and will be removed from pandas in a future version. Use pandas.concat instead.\n",
      "  self.df = self.df.append(row, ignore_index=True)\n",
      "[Succeeded / Failed / Skipped / Total] 152 / 25 / 20 / 197:  98%|█████████▊| 197/200 [2:00:20<01:49, 36.65s/it]"
     ]
    },
    {
     "name": "stdout",
     "output_type": "stream",
     "text": [
      "--------------------------------------------- Result 197 ---------------------------------------------\n",
      "[[Positive (87%)]] --> [[Negative (62%)]]\n",
      "\n",
      "so , too , is this comedy about mild [[culture]] clashing in today 's new [[delhi]] . \n",
      "\n",
      "so , too , is this comedy about mild [[crops]] clashing in today 's new [[deli]] . \n",
      "\n",
      "\n"
     ]
    },
    {
     "name": "stderr",
     "output_type": "stream",
     "text": [
      "[Succeeded / Failed / Skipped / Total] 152 / 25 / 20 / 197:  99%|█████████▉| 198/200 [2:00:33<01:13, 36.53s/it]/scratch/sp6646/envs_dirs/swap_env/lib/python3.8/site-packages/textattack/loggers/csv_logger.py:41: FutureWarning: The frame.append method is deprecated and will be removed from pandas in a future version. Use pandas.concat instead.\n",
      "  self.df = self.df.append(row, ignore_index=True)\n",
      "[Succeeded / Failed / Skipped / Total] 153 / 25 / 20 / 198:  99%|█████████▉| 198/200 [2:00:33<01:13, 36.53s/it]"
     ]
    },
    {
     "name": "stdout",
     "output_type": "stream",
     "text": [
      "--------------------------------------------- Result 198 ---------------------------------------------\n",
      "[[Negative (96%)]] --> [[Positive (87%)]]\n",
      "\n",
      "for starters , the story is just too [[slim]] . \n",
      "\n",
      "for starters , the story is just too [[smart]] . \n",
      "\n",
      "\n"
     ]
    },
    {
     "name": "stderr",
     "output_type": "stream",
     "text": [
      "[Succeeded / Failed / Skipped / Total] 153 / 25 / 20 / 198: 100%|█████████▉| 199/200 [2:01:50<00:36, 36.74s/it]/scratch/sp6646/envs_dirs/swap_env/lib/python3.8/site-packages/textattack/loggers/csv_logger.py:41: FutureWarning: The frame.append method is deprecated and will be removed from pandas in a future version. Use pandas.concat instead.\n",
      "  self.df = self.df.append(row, ignore_index=True)\n",
      "[Succeeded / Failed / Skipped / Total] 153 / 26 / 20 / 199: 100%|█████████▉| 199/200 [2:01:50<00:36, 36.74s/it]"
     ]
    },
    {
     "name": "stdout",
     "output_type": "stream",
     "text": [
      "--------------------------------------------- Result 199 ---------------------------------------------\n",
      "[[Positive (97%)]] --> [[[FAILED]]]\n",
      "\n",
      "this is a winning ensemble comedy that shows canadians can put gentle laughs and equally gentle sentiments on the button , just as easily as their counterparts anywhere else in the world . \n",
      "\n",
      "\n"
     ]
    },
    {
     "name": "stderr",
     "output_type": "stream",
     "text": [
      "[Succeeded / Failed / Skipped / Total] 153 / 26 / 20 / 199: 100%|██████████| 200/200 [2:02:30<00:00, 36.75s/it]/scratch/sp6646/envs_dirs/swap_env/lib/python3.8/site-packages/textattack/loggers/csv_logger.py:41: FutureWarning: The frame.append method is deprecated and will be removed from pandas in a future version. Use pandas.concat instead.\n",
      "  self.df = self.df.append(row, ignore_index=True)\n",
      "[Succeeded / Failed / Skipped / Total] 154 / 26 / 20 / 200: 100%|██████████| 200/200 [2:02:30<00:00, 36.75s/it]"
     ]
    },
    {
     "name": "stdout",
     "output_type": "stream",
     "text": [
      "--------------------------------------------- Result 200 ---------------------------------------------\n",
      "[[Negative (65%)]] --> [[Positive (55%)]]\n",
      "\n",
      "at the very least , if you do n't know anything about derrida when you walk into the [[theater]] , you [[wo]] n't know [[much]] more when you leave . \n",
      "\n",
      "at the very least , if you do n't know anything about derrida when you walk into the [[movies]] , you [[did]] n't know [[tremendously]] more when you leave . \n",
      "\n",
      "\n",
      "\n",
      "+-------------------------------+--------+\n",
      "| Attack Results                |        |\n",
      "+-------------------------------+--------+\n",
      "| Number of successful attacks: | 154    |\n",
      "| Number of failed attacks:     | 26     |\n",
      "| Number of skipped attacks:    | 20     |\n",
      "| Original accuracy:            | 90.0%  |\n",
      "| Accuracy under attack:        | 13.0%  |\n",
      "| Attack success rate:          | 85.56% |\n",
      "| Average perturbed word %:     | 16.39% |\n",
      "| Average num. words per input: | 17.27  |\n",
      "| Avg num queries:              | 99.57  |\n",
      "+-------------------------------+--------+\n"
     ]
    },
    {
     "name": "stderr",
     "output_type": "stream",
     "text": [
      "\n"
     ]
    }
   ],
   "source": [
    "dataset = HuggingFaceDataset(\"glue\", \"sst2\", \"validation\")\n",
    "\n",
    "attack = TextFoolerJin2019.build(model_wrapper_compressed)\n",
    "\n",
    "attack_args = textattack.AttackArgs(\n",
    "    num_examples=200,\n",
    "    random_seed = 42,\n",
    "    query_budget = 200,\n",
    "    log_to_csv =\"quantized_textfooler_attacks.csv\"\n",
    ")\n",
    "attacker = Attacker(attack, dataset,attack_args)\n",
    "res_quant = attacker.attack_dataset()"
   ]
  },
  {
   "cell_type": "code",
   "execution_count": 4,
   "metadata": {},
   "outputs": [],
   "source": [
    "import pickle\n",
    "with open('textfooler_quant.pkl','wb') as f:\n",
    "    pickle.dump(res_quant,f)"
   ]
  },
  {
   "cell_type": "code",
   "execution_count": 4,
   "metadata": {
    "scrolled": true
   },
   "outputs": [
    {
     "name": "stderr",
     "output_type": "stream",
     "text": [
      "Reusing dataset glue (/home/sp6646/.cache/huggingface/datasets/glue/sst2/1.0.0/dacbe3125aa31d7f70367a07a8a9e72a5a0bfeb5fc42e75c9db75b96da6053ad)\n"
     ]
    },
    {
     "data": {
      "application/vnd.jupyter.widget-view+json": {
       "model_id": "6a97184ffd08494c83c3bcc689b7581f",
       "version_major": 2,
       "version_minor": 0
      },
      "text/plain": [
       "  0%|          | 0/3 [00:00<?, ?it/s]"
      ]
     },
     "metadata": {},
     "output_type": "display_data"
    },
    {
     "name": "stderr",
     "output_type": "stream",
     "text": [
      "textattack: Loading \u001b[94mdatasets\u001b[0m dataset \u001b[94mglue\u001b[0m, subset \u001b[94msst2\u001b[0m, split \u001b[94mvalidation\u001b[0m.\n",
      "textattack: Unknown if model of class <class 'transformers.models.bert.modeling_bert.BertForSequenceClassification'> compatible with goal function <class 'textattack.goal_functions.classification.untargeted_classification.UntargetedClassification'>.\n",
      "textattack: Logging to CSV at path main_textfooler_attacks.csv\n"
     ]
    },
    {
     "name": "stdout",
     "output_type": "stream",
     "text": [
      "Attack(\n",
      "  (search_method): GreedyWordSwapWIR(\n",
      "    (wir_method):  delete\n",
      "  )\n",
      "  (goal_function):  UntargetedClassification\n",
      "  (transformation):  WordSwapEmbedding(\n",
      "    (max_candidates):  50\n",
      "    (embedding):  WordEmbedding\n",
      "  )\n",
      "  (constraints): \n",
      "    (0): WordEmbeddingDistance(\n",
      "        (embedding):  WordEmbedding\n",
      "        (min_cos_sim):  0.5\n",
      "        (cased):  False\n",
      "        (include_unknown_words):  True\n",
      "        (compare_against_original):  True\n",
      "      )\n",
      "    (1): PartOfSpeech(\n",
      "        (tagger_type):  nltk\n",
      "        (tagset):  universal\n",
      "        (allow_verb_noun_swap):  True\n",
      "        (compare_against_original):  True\n",
      "      )\n",
      "    (2): UniversalSentenceEncoder(\n",
      "        (metric):  angular\n",
      "        (threshold):  0.840845057\n",
      "        (window_size):  15\n",
      "        (skip_text_shorter_than_window):  True\n",
      "        (compare_against_original):  False\n",
      "      )\n",
      "    (3): RepeatModification\n",
      "    (4): StopwordModification\n",
      "    (5): InputColumnModification(\n",
      "        (matching_column_labels):  ['premise', 'hypothesis']\n",
      "        (columns_to_ignore):  {'premise'}\n",
      "      )\n",
      "  (is_black_box):  True\n",
      ") \n",
      "\n"
     ]
    },
    {
     "name": "stderr",
     "output_type": "stream",
     "text": [
      "\n",
      "  0%|          | 0/200 [00:00<?, ?it/s]\u001b[A2022-05-12 18:18:07.001131: I tensorflow/stream_executor/platform/default/dso_loader.cc:53] Successfully opened dynamic library libcuda.so.1\n",
      "2022-05-12 18:18:07.002433: I tensorflow/core/common_runtime/gpu/gpu_device.cc:1733] Found device 0 with properties: \n",
      "pciBusID: 0000:06:00.0 name: Quadro RTX 8000 computeCapability: 7.5\n",
      "coreClock: 1.62GHz coreCount: 72 deviceMemorySize: 44.49GiB deviceMemoryBandwidth: 581.23GiB/s\n",
      "2022-05-12 18:18:07.002477: I tensorflow/stream_executor/platform/default/dso_loader.cc:53] Successfully opened dynamic library libcudart.so.11.0\n",
      "2022-05-12 18:18:07.504866: I tensorflow/stream_executor/platform/default/dso_loader.cc:53] Successfully opened dynamic library libcublas.so.11\n",
      "2022-05-12 18:18:07.505019: I tensorflow/stream_executor/platform/default/dso_loader.cc:53] Successfully opened dynamic library libcublasLt.so.11\n",
      "2022-05-12 18:18:07.505045: I tensorflow/stream_executor/platform/default/dso_loader.cc:53] Successfully opened dynamic library libcufft.so.10\n",
      "2022-05-12 18:18:07.505073: I tensorflow/stream_executor/platform/default/dso_loader.cc:53] Successfully opened dynamic library libcurand.so.10\n",
      "2022-05-12 18:18:07.505928: W tensorflow/stream_executor/platform/default/dso_loader.cc:64] Could not load dynamic library 'libcusolver.so.11'; dlerror: libcusolver.so.11: cannot open shared object file: No such file or directory; LD_LIBRARY_PATH: /usr/local/nvidia/lib:/usr/local/nvidia/lib64:/.singularity.d/libs\n",
      "2022-05-12 18:18:07.850285: I tensorflow/stream_executor/platform/default/dso_loader.cc:53] Successfully opened dynamic library libcusparse.so.11\n",
      "2022-05-12 18:18:07.912658: I tensorflow/stream_executor/platform/default/dso_loader.cc:53] Successfully opened dynamic library libcudnn.so.8\n",
      "2022-05-12 18:18:07.912702: W tensorflow/core/common_runtime/gpu/gpu_device.cc:1766] Cannot dlopen some GPU libraries. Please make sure the missing libraries mentioned above are installed properly if you would like to use GPU. Follow the guide at https://www.tensorflow.org/install/gpu for how to download and setup the required libraries for your platform.\n",
      "Skipping registering GPU devices...\n",
      "2022-05-12 18:18:07.913232: I tensorflow/core/platform/cpu_feature_guard.cc:142] This TensorFlow binary is optimized with oneAPI Deep Neural Network Library (oneDNN) to use the following CPU instructions in performance-critical operations:  AVX2 AVX512F FMA\n",
      "To enable them in other operations, rebuild TensorFlow with the appropriate compiler flags.\n",
      "2022-05-12 18:18:07.913652: I tensorflow/core/common_runtime/gpu/gpu_device.cc:1258] Device interconnect StreamExecutor with strength 1 edge matrix:\n",
      "2022-05-12 18:18:07.913663: I tensorflow/core/common_runtime/gpu/gpu_device.cc:1264]      \n",
      "2022-05-12 18:18:09.430801: I tensorflow/compiler/mlir/mlir_graph_optimization_pass.cc:176] None of the MLIR Optimization Passes are enabled (registered 2)\n",
      "2022-05-12 18:18:09.683076: I tensorflow/core/platform/profile_utils/cpu_utils.cc:114] CPU Frequency: 2900000000 Hz\n",
      "\n",
      "  0%|          | 1/200 [00:09<30:16,  9.13s/it]\u001b[A/scratch/sp6646/envs_dirs/swap_env/lib/python3.8/site-packages/textattack/loggers/csv_logger.py:41: FutureWarning: The frame.append method is deprecated and will be removed from pandas in a future version. Use pandas.concat instead.\n",
      "  self.df = self.df.append(row, ignore_index=True)\n",
      "\n",
      "[Succeeded / Failed / Skipped / Total] 0 / 1 / 0 / 1:   0%|          | 1/200 [00:10<33:50, 10.20s/it]\u001b[A"
     ]
    },
    {
     "name": "stdout",
     "output_type": "stream",
     "text": [
      "--------------------------------------------- Result 1 ---------------------------------------------\n",
      "[[Positive (100%)]] --> [[[FAILED]]]\n",
      "\n",
      "it 's a charming and often affecting journey . \n",
      "\n",
      "\n"
     ]
    },
    {
     "name": "stderr",
     "output_type": "stream",
     "text": [
      "\n",
      "[Succeeded / Failed / Skipped / Total] 0 / 1 / 0 / 1:   1%|          | 2/200 [00:11<18:21,  5.56s/it]\u001b[A/scratch/sp6646/envs_dirs/swap_env/lib/python3.8/site-packages/textattack/loggers/csv_logger.py:41: FutureWarning: The frame.append method is deprecated and will be removed from pandas in a future version. Use pandas.concat instead.\n",
      "  self.df = self.df.append(row, ignore_index=True)\n",
      "\n",
      "[Succeeded / Failed / Skipped / Total] 1 / 1 / 0 / 2:   1%|          | 2/200 [00:11<18:24,  5.58s/it]\u001b[A"
     ]
    },
    {
     "name": "stdout",
     "output_type": "stream",
     "text": [
      "--------------------------------------------- Result 2 ---------------------------------------------\n",
      "[[Negative (98%)]] --> [[Positive (90%)]]\n",
      "\n",
      "unflinchingly [[bleak]] and desperate \n",
      "\n",
      "unflinchingly [[eerie]] and desperate \n",
      "\n",
      "\n"
     ]
    },
    {
     "name": "stderr",
     "output_type": "stream",
     "text": [
      "\n",
      "[Succeeded / Failed / Skipped / Total] 1 / 1 / 0 / 2:   2%|▏         | 3/200 [00:14<16:10,  4.93s/it]\u001b[A/scratch/sp6646/envs_dirs/swap_env/lib/python3.8/site-packages/textattack/loggers/csv_logger.py:41: FutureWarning: The frame.append method is deprecated and will be removed from pandas in a future version. Use pandas.concat instead.\n",
      "  self.df = self.df.append(row, ignore_index=True)\n",
      "\n",
      "[Succeeded / Failed / Skipped / Total] 2 / 1 / 0 / 3:   2%|▏         | 3/200 [00:14<16:12,  4.94s/it]\u001b[A"
     ]
    },
    {
     "name": "stdout",
     "output_type": "stream",
     "text": [
      "--------------------------------------------- Result 3 ---------------------------------------------\n",
      "[[Positive (100%)]] --> [[Negative (52%)]]\n",
      "\n",
      "[[allows]] us to hope that nolan is [[poised]] to embark a major career as a commercial yet [[inventive]] filmmaker . \n",
      "\n",
      "[[permitting]] us to hope that nolan is [[loans]] to embark a major career as a commercial yet [[inventor]] filmmaker . \n",
      "\n",
      "\n"
     ]
    },
    {
     "name": "stderr",
     "output_type": "stream",
     "text": [
      "\n",
      "[Succeeded / Failed / Skipped / Total] 2 / 1 / 0 / 3:   2%|▏         | 4/200 [00:15<12:40,  3.88s/it]\u001b[A/scratch/sp6646/envs_dirs/swap_env/lib/python3.8/site-packages/textattack/loggers/csv_logger.py:41: FutureWarning: The frame.append method is deprecated and will be removed from pandas in a future version. Use pandas.concat instead.\n",
      "  self.df = self.df.append(row, ignore_index=True)\n",
      "\n",
      "[Succeeded / Failed / Skipped / Total] 3 / 1 / 0 / 4:   2%|▏         | 4/200 [00:15<12:42,  3.89s/it]\u001b[A"
     ]
    },
    {
     "name": "stdout",
     "output_type": "stream",
     "text": [
      "--------------------------------------------- Result 4 ---------------------------------------------\n",
      "[[Positive (100%)]] --> [[Negative (90%)]]\n",
      "\n",
      "the acting , costumes , music , cinematography and sound are all [[astounding]] given the production 's austere locales . \n",
      "\n",
      "the acting , costumes , music , cinematography and sound are all [[breathless]] given the production 's austere locales . \n",
      "\n",
      "\n"
     ]
    },
    {
     "name": "stderr",
     "output_type": "stream",
     "text": [
      "\n",
      "[Succeeded / Failed / Skipped / Total] 3 / 1 / 0 / 4:   2%|▎         | 5/200 [00:18<12:09,  3.74s/it]\u001b[A/scratch/sp6646/envs_dirs/swap_env/lib/python3.8/site-packages/textattack/loggers/csv_logger.py:41: FutureWarning: The frame.append method is deprecated and will be removed from pandas in a future version. Use pandas.concat instead.\n",
      "  self.df = self.df.append(row, ignore_index=True)\n",
      "\n",
      "[Succeeded / Failed / Skipped / Total] 4 / 1 / 0 / 5:   2%|▎         | 5/200 [00:18<12:10,  3.75s/it]\u001b[A"
     ]
    },
    {
     "name": "stdout",
     "output_type": "stream",
     "text": [
      "--------------------------------------------- Result 5 ---------------------------------------------\n",
      "[[Negative (100%)]] --> [[Positive (91%)]]\n",
      "\n",
      "it 's slow -- [[very]] , [[very]] [[slow]] . \n",
      "\n",
      "it 's slow -- [[pretty]] , [[eminently]] [[lento]] . \n",
      "\n",
      "\n"
     ]
    },
    {
     "name": "stderr",
     "output_type": "stream",
     "text": [
      "\n",
      "[Succeeded / Failed / Skipped / Total] 4 / 1 / 0 / 5:   3%|▎         | 6/200 [00:23<12:36,  3.90s/it]\u001b[A/scratch/sp6646/envs_dirs/swap_env/lib/python3.8/site-packages/textattack/loggers/csv_logger.py:41: FutureWarning: The frame.append method is deprecated and will be removed from pandas in a future version. Use pandas.concat instead.\n",
      "  self.df = self.df.append(row, ignore_index=True)\n",
      "\n",
      "[Succeeded / Failed / Skipped / Total] 5 / 1 / 0 / 6:   3%|▎         | 6/200 [00:23<12:37,  3.91s/it]\u001b[A"
     ]
    },
    {
     "name": "stdout",
     "output_type": "stream",
     "text": [
      "--------------------------------------------- Result 6 ---------------------------------------------\n",
      "[[Positive (100%)]] --> [[Negative (50%)]]\n",
      "\n",
      "although [[laced]] with [[humor]] and a few [[fanciful]] touches , the film is a [[refreshingly]] serious look at [[young]] women . \n",
      "\n",
      "although [[chained]] with [[parody]] and a few [[glamorous]] touches , the film is a [[nonchalantly]] serious look at [[childish]] women . \n",
      "\n",
      "\n"
     ]
    },
    {
     "name": "stderr",
     "output_type": "stream",
     "text": [
      "\n",
      "[Succeeded / Failed / Skipped / Total] 5 / 1 / 0 / 6:   4%|▎         | 7/200 [00:24<11:19,  3.52s/it]\u001b[A/scratch/sp6646/envs_dirs/swap_env/lib/python3.8/site-packages/textattack/loggers/csv_logger.py:41: FutureWarning: The frame.append method is deprecated and will be removed from pandas in a future version. Use pandas.concat instead.\n",
      "  self.df = self.df.append(row, ignore_index=True)\n",
      "\n",
      "[Succeeded / Failed / Skipped / Total] 6 / 1 / 0 / 7:   4%|▎         | 7/200 [00:24<11:19,  3.52s/it]\u001b[A"
     ]
    },
    {
     "name": "stdout",
     "output_type": "stream",
     "text": [
      "--------------------------------------------- Result 7 ---------------------------------------------\n",
      "[[Negative (100%)]] --> [[Positive (94%)]]\n",
      "\n",
      "a sometimes [[tedious]] film . \n",
      "\n",
      "a sometimes [[industrious]] film . \n",
      "\n",
      "\n"
     ]
    },
    {
     "name": "stderr",
     "output_type": "stream",
     "text": [
      "\n",
      "[Succeeded / Failed / Skipped / Total] 6 / 1 / 0 / 7:   4%|▍         | 8/200 [00:26<10:42,  3.35s/it]\u001b[A/scratch/sp6646/envs_dirs/swap_env/lib/python3.8/site-packages/textattack/loggers/csv_logger.py:41: FutureWarning: The frame.append method is deprecated and will be removed from pandas in a future version. Use pandas.concat instead.\n",
      "  self.df = self.df.append(row, ignore_index=True)\n",
      "\n",
      "[Succeeded / Failed / Skipped / Total] 7 / 1 / 0 / 8:   4%|▍         | 8/200 [00:26<10:43,  3.35s/it]\u001b[A"
     ]
    },
    {
     "name": "stdout",
     "output_type": "stream",
     "text": [
      "--------------------------------------------- Result 8 ---------------------------------------------\n",
      "[[Negative (99%)]] --> [[Positive (86%)]]\n",
      "\n",
      "or doing [[last]] [[year]] 's [[taxes]] with your ex-wife . \n",
      "\n",
      "or doing [[definitive]] [[leto]] 's [[honorarium]] with your ex-wife . \n",
      "\n",
      "\n"
     ]
    },
    {
     "name": "stderr",
     "output_type": "stream",
     "text": [
      "\n",
      "[Succeeded / Failed / Skipped / Total] 7 / 1 / 0 / 8:   4%|▍         | 9/200 [00:30<10:48,  3.39s/it]\u001b[A/scratch/sp6646/envs_dirs/swap_env/lib/python3.8/site-packages/textattack/loggers/csv_logger.py:41: FutureWarning: The frame.append method is deprecated and will be removed from pandas in a future version. Use pandas.concat instead.\n",
      "  self.df = self.df.append(row, ignore_index=True)\n",
      "\n",
      "[Succeeded / Failed / Skipped / Total] 8 / 1 / 0 / 9:   4%|▍         | 9/200 [00:30<10:48,  3.40s/it]\u001b[A"
     ]
    },
    {
     "name": "stdout",
     "output_type": "stream",
     "text": [
      "--------------------------------------------- Result 9 ---------------------------------------------\n",
      "[[Positive (100%)]] --> [[Negative (93%)]]\n",
      "\n",
      "you do n't [[have]] to know about music to [[appreciate]] the film 's easygoing [[blend]] of comedy and romance . \n",
      "\n",
      "you do n't [[got]] to know about music to [[tribute]] the film 's easygoing [[agitate]] of comedy and romance . \n",
      "\n",
      "\n"
     ]
    },
    {
     "name": "stderr",
     "output_type": "stream",
     "text": [
      "\n",
      "[Succeeded / Failed / Skipped / Total] 8 / 1 / 0 / 9:   5%|▌         | 10/200 [00:34<10:54,  3.45s/it]\u001b[A/scratch/sp6646/envs_dirs/swap_env/lib/python3.8/site-packages/textattack/loggers/csv_logger.py:41: FutureWarning: The frame.append method is deprecated and will be removed from pandas in a future version. Use pandas.concat instead.\n",
      "  self.df = self.df.append(row, ignore_index=True)\n",
      "\n",
      "[Succeeded / Failed / Skipped / Total] 9 / 1 / 0 / 10:   5%|▌         | 10/200 [00:34<10:55,  3.45s/it]\u001b[A"
     ]
    },
    {
     "name": "stdout",
     "output_type": "stream",
     "text": [
      "--------------------------------------------- Result 10 ---------------------------------------------\n",
      "[[Negative (100%)]] --> [[Positive (56%)]]\n",
      "\n",
      "in exactly 89 minutes , most of which passed as slowly as if i 'd been sitting naked on an igloo , [[formula]] 51 [[sank]] from quirky to [[jerky]] to [[utter]] turkey . \n",
      "\n",
      "in exactly 89 minutes , most of which passed as slowly as if i 'd been sitting naked on an igloo , [[recipes]] 51 [[flowed]] from quirky to [[dried]] to [[fullest]] turkey . \n",
      "\n",
      "\n"
     ]
    },
    {
     "name": "stderr",
     "output_type": "stream",
     "text": [
      "\n",
      "[Succeeded / Failed / Skipped / Total] 9 / 1 / 0 / 10:   6%|▌         | 11/200 [00:39<11:25,  3.63s/it]\u001b[A/scratch/sp6646/envs_dirs/swap_env/lib/python3.8/site-packages/textattack/loggers/csv_logger.py:41: FutureWarning: The frame.append method is deprecated and will be removed from pandas in a future version. Use pandas.concat instead.\n",
      "  self.df = self.df.append(row, ignore_index=True)\n",
      "\n",
      "[Succeeded / Failed / Skipped / Total] 9 / 2 / 0 / 11:   6%|▌         | 11/200 [00:39<11:26,  3.63s/it]\u001b[A"
     ]
    },
    {
     "name": "stdout",
     "output_type": "stream",
     "text": [
      "--------------------------------------------- Result 11 ---------------------------------------------\n",
      "[[Positive (100%)]] --> [[[FAILED]]]\n",
      "\n",
      "the mesmerizing performances of the leads keep the film grounded and keep the audience riveted . \n",
      "\n",
      "\n"
     ]
    },
    {
     "name": "stderr",
     "output_type": "stream",
     "text": [
      "\n",
      "[Succeeded / Failed / Skipped / Total] 9 / 2 / 0 / 11:   6%|▌         | 12/200 [00:44<11:32,  3.68s/it]\u001b[A/scratch/sp6646/envs_dirs/swap_env/lib/python3.8/site-packages/textattack/loggers/csv_logger.py:41: FutureWarning: The frame.append method is deprecated and will be removed from pandas in a future version. Use pandas.concat instead.\n",
      "  self.df = self.df.append(row, ignore_index=True)\n",
      "\n",
      "[Succeeded / Failed / Skipped / Total] 10 / 2 / 0 / 12:   6%|▌         | 12/200 [00:44<11:32,  3.68s/it]\u001b[A"
     ]
    },
    {
     "name": "stdout",
     "output_type": "stream",
     "text": [
      "--------------------------------------------- Result 12 ---------------------------------------------\n",
      "[[Negative (100%)]] --> [[Positive (56%)]]\n",
      "\n",
      "it takes a strange kind of laziness to [[waste]] the [[talents]] of robert forster , anne meara , eugene levy , and reginald veljohnson all in the same [[movie]] . \n",
      "\n",
      "it takes a strange kind of laziness to [[scrapings]] the [[skill]] of robert forster , anne meara , eugene levy , and reginald veljohnson all in the same [[photographed]] . \n",
      "\n",
      "\n"
     ]
    },
    {
     "name": "stderr",
     "output_type": "stream",
     "text": [
      "\n",
      "[Succeeded / Failed / Skipped / Total] 10 / 2 / 0 / 12:   6%|▋         | 13/200 [00:46<11:14,  3.60s/it]\u001b[A/scratch/sp6646/envs_dirs/swap_env/lib/python3.8/site-packages/textattack/loggers/csv_logger.py:41: FutureWarning: The frame.append method is deprecated and will be removed from pandas in a future version. Use pandas.concat instead.\n",
      "  self.df = self.df.append(row, ignore_index=True)\n",
      "\n",
      "[Succeeded / Failed / Skipped / Total] 11 / 2 / 0 / 13:   6%|▋         | 13/200 [00:46<11:14,  3.61s/it]\u001b[A"
     ]
    },
    {
     "name": "stdout",
     "output_type": "stream",
     "text": [
      "--------------------------------------------- Result 13 ---------------------------------------------\n",
      "[[Negative (100%)]] --> [[Positive (57%)]]\n",
      "\n",
      "... the film [[suffers]] from a [[lack]] of humor ( something needed to balance out the violence ) ... \n",
      "\n",
      "... the film [[experiencing]] from a [[rarity]] of humor ( something needed to balance out the violence ) ... \n",
      "\n",
      "\n"
     ]
    },
    {
     "name": "stderr",
     "output_type": "stream",
     "text": [
      "\n",
      "[Succeeded / Failed / Skipped / Total] 11 / 2 / 0 / 13:   7%|▋         | 14/200 [00:47<10:34,  3.41s/it]\u001b[A/scratch/sp6646/envs_dirs/swap_env/lib/python3.8/site-packages/textattack/loggers/csv_logger.py:41: FutureWarning: The frame.append method is deprecated and will be removed from pandas in a future version. Use pandas.concat instead.\n",
      "  self.df = self.df.append(row, ignore_index=True)\n",
      "\n",
      "[Succeeded / Failed / Skipped / Total] 12 / 2 / 0 / 14:   7%|▋         | 14/200 [00:47<10:34,  3.41s/it]\u001b[A"
     ]
    },
    {
     "name": "stdout",
     "output_type": "stream",
     "text": [
      "--------------------------------------------- Result 14 ---------------------------------------------\n",
      "[[Positive (67%)]] --> [[Negative (81%)]]\n",
      "\n",
      "we root for ( clara and paul ) , even like them , [[though]] perhaps it 's an emotion closer to pity . \n",
      "\n",
      "we root for ( clara and paul ) , even like them , [[than]] perhaps it 's an emotion closer to pity . \n",
      "\n",
      "\n"
     ]
    },
    {
     "name": "stderr",
     "output_type": "stream",
     "text": [
      "\n",
      "[Succeeded / Failed / Skipped / Total] 12 / 2 / 0 / 14:   8%|▊         | 15/200 [00:49<10:08,  3.29s/it]\u001b[A/scratch/sp6646/envs_dirs/swap_env/lib/python3.8/site-packages/textattack/loggers/csv_logger.py:41: FutureWarning: The frame.append method is deprecated and will be removed from pandas in a future version. Use pandas.concat instead.\n",
      "  self.df = self.df.append(row, ignore_index=True)\n",
      "\n",
      "[Succeeded / Failed / Skipped / Total] 13 / 2 / 0 / 15:   8%|▊         | 15/200 [00:49<10:09,  3.29s/it]\u001b[A"
     ]
    },
    {
     "name": "stdout",
     "output_type": "stream",
     "text": [
      "--------------------------------------------- Result 15 ---------------------------------------------\n",
      "[[Negative (100%)]] --> [[Positive (95%)]]\n",
      "\n",
      "even horror fans will most likely not find what they 're seeking with trouble every day ; the movie [[lacks]] both thrills and humor . \n",
      "\n",
      "even horror fans will most likely not find what they 're seeking with trouble every day ; the movie [[scarcity]] both thrills and humor . \n",
      "\n",
      "\n"
     ]
    },
    {
     "name": "stderr",
     "output_type": "stream",
     "text": [
      "\n",
      "[Succeeded / Failed / Skipped / Total] 13 / 2 / 0 / 15:   8%|▊         | 16/200 [00:54<10:31,  3.43s/it]\u001b[A/scratch/sp6646/envs_dirs/swap_env/lib/python3.8/site-packages/textattack/loggers/csv_logger.py:41: FutureWarning: The frame.append method is deprecated and will be removed from pandas in a future version. Use pandas.concat instead.\n",
      "  self.df = self.df.append(row, ignore_index=True)\n",
      "\n",
      "[Succeeded / Failed / Skipped / Total] 13 / 3 / 0 / 16:   8%|▊         | 16/200 [00:54<10:31,  3.43s/it]\u001b[A"
     ]
    },
    {
     "name": "stdout",
     "output_type": "stream",
     "text": [
      "--------------------------------------------- Result 16 ---------------------------------------------\n",
      "[[Positive (100%)]] --> [[[FAILED]]]\n",
      "\n",
      "a gorgeous , high-spirited musical from india that exquisitely blends music , dance , song , and high drama . \n",
      "\n",
      "\n"
     ]
    },
    {
     "name": "stderr",
     "output_type": "stream",
     "text": [
      "\n",
      "[Succeeded / Failed / Skipped / Total] 13 / 3 / 0 / 16:   8%|▊         | 17/200 [00:55<10:00,  3.28s/it]\u001b[A/scratch/sp6646/envs_dirs/swap_env/lib/python3.8/site-packages/textattack/loggers/csv_logger.py:41: FutureWarning: The frame.append method is deprecated and will be removed from pandas in a future version. Use pandas.concat instead.\n",
      "  self.df = self.df.append(row, ignore_index=True)\n",
      "\n",
      "[Succeeded / Failed / Skipped / Total] 14 / 3 / 0 / 17:   8%|▊         | 17/200 [00:55<10:00,  3.28s/it]\u001b[A"
     ]
    },
    {
     "name": "stdout",
     "output_type": "stream",
     "text": [
      "--------------------------------------------- Result 17 ---------------------------------------------\n",
      "[[Positive (100%)]] --> [[Negative (72%)]]\n",
      "\n",
      "the emotions are [[raw]] and will strike a nerve with anyone who 's ever had family trauma . \n",
      "\n",
      "the emotions are [[brute]] and will strike a nerve with anyone who 's ever had family trauma . \n",
      "\n",
      "\n"
     ]
    },
    {
     "name": "stderr",
     "output_type": "stream",
     "text": [
      "\n",
      "[Succeeded / Failed / Skipped / Total] 14 / 3 / 0 / 17:   9%|▉         | 18/200 [00:58<09:51,  3.25s/it]\u001b[A/scratch/sp6646/envs_dirs/swap_env/lib/python3.8/site-packages/textattack/loggers/csv_logger.py:41: FutureWarning: The frame.append method is deprecated and will be removed from pandas in a future version. Use pandas.concat instead.\n",
      "  self.df = self.df.append(row, ignore_index=True)\n",
      "\n",
      "[Succeeded / Failed / Skipped / Total] 15 / 3 / 0 / 18:   9%|▉         | 18/200 [00:58<09:52,  3.25s/it]\u001b[A"
     ]
    },
    {
     "name": "stdout",
     "output_type": "stream",
     "text": [
      "--------------------------------------------- Result 18 ---------------------------------------------\n",
      "[[Positive (100%)]] --> [[Negative (53%)]]\n",
      "\n",
      "audrey tatou has a knack for picking roles that magnify her outrageous charm , and in this literate french [[comedy]] , she 's as morning-glory [[exuberant]] as she was in amélie . \n",
      "\n",
      "audrey tatou has a knack for picking roles that magnify her outrageous charm , and in this literate french [[slapstick]] , she 's as morning-glory [[florid]] as she was in amélie . \n",
      "\n",
      "\n"
     ]
    },
    {
     "name": "stderr",
     "output_type": "stream",
     "text": [
      "\n",
      "[Succeeded / Failed / Skipped / Total] 15 / 3 / 0 / 18:  10%|▉         | 19/200 [01:02<09:51,  3.27s/it]\u001b[A/scratch/sp6646/envs_dirs/swap_env/lib/python3.8/site-packages/textattack/loggers/csv_logger.py:41: FutureWarning: The frame.append method is deprecated and will be removed from pandas in a future version. Use pandas.concat instead.\n",
      "  self.df = self.df.append(row, ignore_index=True)\n",
      "\n",
      "[Succeeded / Failed / Skipped / Total] 15 / 4 / 0 / 19:  10%|▉         | 19/200 [01:02<09:52,  3.27s/it]\u001b[A"
     ]
    },
    {
     "name": "stdout",
     "output_type": "stream",
     "text": [
      "--------------------------------------------- Result 19 ---------------------------------------------\n",
      "[[Negative (100%)]] --> [[[FAILED]]]\n",
      "\n",
      "... the movie is just a plain old monster . \n",
      "\n",
      "\n"
     ]
    },
    {
     "name": "stderr",
     "output_type": "stream",
     "text": [
      "\n",
      "[Succeeded / Failed / Skipped / Total] 15 / 4 / 0 / 19:  10%|█         | 20/200 [01:05<09:50,  3.28s/it]\u001b[A/scratch/sp6646/envs_dirs/swap_env/lib/python3.8/site-packages/textattack/loggers/csv_logger.py:41: FutureWarning: The frame.append method is deprecated and will be removed from pandas in a future version. Use pandas.concat instead.\n",
      "  self.df = self.df.append(row, ignore_index=True)\n",
      "\n",
      "[Succeeded / Failed / Skipped / Total] 16 / 4 / 0 / 20:  10%|█         | 20/200 [01:05<09:51,  3.28s/it]\u001b[A"
     ]
    },
    {
     "name": "stdout",
     "output_type": "stream",
     "text": [
      "--------------------------------------------- Result 20 ---------------------------------------------\n",
      "[[Negative (100%)]] --> [[Positive (84%)]]\n",
      "\n",
      "in its best moments , [[resembles]] a [[bad]] [[high]] school production of grease , without benefit of song . \n",
      "\n",
      "in its best moments , [[conjures]] a [[wicked]] [[lofty]] school production of grease , without benefit of song . \n",
      "\n",
      "\n"
     ]
    },
    {
     "name": "stderr",
     "output_type": "stream",
     "text": [
      "\n",
      "[Succeeded / Failed / Skipped / Total] 16 / 4 / 0 / 20:  10%|█         | 21/200 [01:07<09:33,  3.20s/it]\u001b[A/scratch/sp6646/envs_dirs/swap_env/lib/python3.8/site-packages/textattack/loggers/csv_logger.py:41: FutureWarning: The frame.append method is deprecated and will be removed from pandas in a future version. Use pandas.concat instead.\n",
      "  self.df = self.df.append(row, ignore_index=True)\n",
      "\n",
      "[Succeeded / Failed / Skipped / Total] 17 / 4 / 0 / 21:  10%|█         | 21/200 [01:07<09:33,  3.21s/it]\u001b[A"
     ]
    },
    {
     "name": "stdout",
     "output_type": "stream",
     "text": [
      "--------------------------------------------- Result 21 ---------------------------------------------\n",
      "[[Negative (92%)]] --> [[Positive (99%)]]\n",
      "\n",
      "pumpkin takes an admirable look at the hypocrisy of political correctness , but it does so with such an [[uneven]] tone that you never know when humor ends and tragedy begins . \n",
      "\n",
      "pumpkin takes an admirable look at the hypocrisy of political correctness , but it does so with such an [[lopsided]] tone that you never know when humor ends and tragedy begins . \n",
      "\n",
      "\n"
     ]
    },
    {
     "name": "stderr",
     "output_type": "stream",
     "text": [
      "\n",
      "[Succeeded / Failed / Skipped / Total] 17 / 4 / 0 / 21:  11%|█         | 22/200 [01:08<09:18,  3.14s/it]\u001b[A/scratch/sp6646/envs_dirs/swap_env/lib/python3.8/site-packages/textattack/loggers/csv_logger.py:41: FutureWarning: The frame.append method is deprecated and will be removed from pandas in a future version. Use pandas.concat instead.\n",
      "  self.df = self.df.append(row, ignore_index=True)\n",
      "\n",
      "[Succeeded / Failed / Skipped / Total] 18 / 4 / 0 / 22:  11%|█         | 22/200 [01:09<09:18,  3.14s/it]\u001b[A/scratch/sp6646/envs_dirs/swap_env/lib/python3.8/site-packages/textattack/loggers/csv_logger.py:41: FutureWarning: The frame.append method is deprecated and will be removed from pandas in a future version. Use pandas.concat instead.\n",
      "  self.df = self.df.append(row, ignore_index=True)\n",
      "\n",
      "[Succeeded / Failed / Skipped / Total] 18 / 4 / 1 / 23:  12%|█▏        | 23/200 [01:09<08:51,  3.00s/it]\u001b[A"
     ]
    },
    {
     "name": "stdout",
     "output_type": "stream",
     "text": [
      "--------------------------------------------- Result 22 ---------------------------------------------\n",
      "[[Negative (66%)]] --> [[Positive (94%)]]\n",
      "\n",
      "the iditarod lasts for days - this just [[felt]] like it did . \n",
      "\n",
      "the iditarod lasts for days - this just [[discoveries]] like it did . \n",
      "\n",
      "\n",
      "--------------------------------------------- Result 23 ---------------------------------------------\n",
      "[[Positive (94%)]] --> [[[SKIPPED]]]\n",
      "\n",
      "holden caulfield did it better . \n",
      "\n",
      "\n"
     ]
    },
    {
     "name": "stderr",
     "output_type": "stream",
     "text": [
      "\n",
      "[Succeeded / Failed / Skipped / Total] 18 / 4 / 1 / 23:  12%|█▏        | 24/200 [01:11<08:46,  2.99s/it]\u001b[A/scratch/sp6646/envs_dirs/swap_env/lib/python3.8/site-packages/textattack/loggers/csv_logger.py:41: FutureWarning: The frame.append method is deprecated and will be removed from pandas in a future version. Use pandas.concat instead.\n",
      "  self.df = self.df.append(row, ignore_index=True)\n",
      "\n",
      "[Succeeded / Failed / Skipped / Total] 19 / 4 / 1 / 24:  12%|█▏        | 24/200 [01:11<08:46,  2.99s/it]\u001b[A"
     ]
    },
    {
     "name": "stdout",
     "output_type": "stream",
     "text": [
      "--------------------------------------------- Result 24 ---------------------------------------------\n",
      "[[Positive (100%)]] --> [[Negative (63%)]]\n",
      "\n",
      "a delectable and intriguing thriller [[filled]] with [[surprises]] , [[read]] my lips is an [[original]] . \n",
      "\n",
      "a delectable and intriguing thriller [[occupied]] with [[stupor]] , [[dsl]] my lips is an [[rudimentary]] . \n",
      "\n",
      "\n"
     ]
    },
    {
     "name": "stderr",
     "output_type": "stream",
     "text": [
      "/scratch/sp6646/envs_dirs/swap_env/lib/python3.8/site-packages/textattack/loggers/csv_logger.py:41: FutureWarning: The frame.append method is deprecated and will be removed from pandas in a future version. Use pandas.concat instead.\n",
      "  self.df = self.df.append(row, ignore_index=True)\n",
      "\n",
      "[Succeeded / Failed / Skipped / Total] 20 / 4 / 1 / 25:  12%|█▎        | 25/200 [01:12<08:30,  2.92s/it]\u001b[A"
     ]
    },
    {
     "name": "stdout",
     "output_type": "stream",
     "text": [
      "--------------------------------------------- Result 25 ---------------------------------------------\n",
      "[[Positive (99%)]] --> [[Negative (92%)]]\n",
      "\n",
      "seldom has a movie [[so]] closely matched the spirit of a man and his work . \n",
      "\n",
      "seldom has a movie [[even]] closely matched the spirit of a man and his work . \n",
      "\n",
      "\n"
     ]
    },
    {
     "name": "stderr",
     "output_type": "stream",
     "text": [
      "\n",
      "[Succeeded / Failed / Skipped / Total] 20 / 4 / 1 / 25:  13%|█▎        | 26/200 [01:14<08:20,  2.88s/it]\u001b[A/scratch/sp6646/envs_dirs/swap_env/lib/python3.8/site-packages/textattack/loggers/csv_logger.py:41: FutureWarning: The frame.append method is deprecated and will be removed from pandas in a future version. Use pandas.concat instead.\n",
      "  self.df = self.df.append(row, ignore_index=True)\n",
      "\n",
      "[Succeeded / Failed / Skipped / Total] 21 / 4 / 1 / 26:  13%|█▎        | 26/200 [01:14<08:20,  2.88s/it]\u001b[A"
     ]
    },
    {
     "name": "stdout",
     "output_type": "stream",
     "text": [
      "--------------------------------------------- Result 26 ---------------------------------------------\n",
      "[[Negative (99%)]] --> [[Positive (67%)]]\n",
      "\n",
      "nicks , seemingly uncertain what 's going to make people laugh , runs the gamut from [[stale]] parody to raunchy sex gags to [[formula]] romantic comedy . \n",
      "\n",
      "nicks , seemingly uncertain what 's going to make people laugh , runs the gamut from [[ancient]] parody to raunchy sex gags to [[formulas]] romantic comedy . \n",
      "\n",
      "\n"
     ]
    },
    {
     "name": "stderr",
     "output_type": "stream",
     "text": [
      "/scratch/sp6646/envs_dirs/swap_env/lib/python3.8/site-packages/textattack/loggers/csv_logger.py:41: FutureWarning: The frame.append method is deprecated and will be removed from pandas in a future version. Use pandas.concat instead.\n",
      "  self.df = self.df.append(row, ignore_index=True)\n",
      "\n",
      "[Succeeded / Failed / Skipped / Total] 22 / 4 / 1 / 27:  14%|█▎        | 27/200 [01:19<08:28,  2.94s/it]\u001b[A"
     ]
    },
    {
     "name": "stdout",
     "output_type": "stream",
     "text": [
      "--------------------------------------------- Result 27 ---------------------------------------------\n",
      "[[Negative (99%)]] --> [[Positive (51%)]]\n",
      "\n",
      "the [[action]] [[switches]] between past and present , but the [[material]] link is too [[tenuous]] to anchor the [[emotional]] [[connections]] that purport to span a 125-year divide . \n",
      "\n",
      "the [[moves]] [[exchanged]] between past and present , but the [[materialist]] link is too [[frailty]] to anchor the [[witty]] [[connectivity]] that purport to span a 125-year divide . \n",
      "\n",
      "\n"
     ]
    },
    {
     "name": "stderr",
     "output_type": "stream",
     "text": [
      "\n",
      "[Succeeded / Failed / Skipped / Total] 22 / 4 / 1 / 27:  14%|█▍        | 28/200 [01:22<08:27,  2.95s/it]\u001b[A/scratch/sp6646/envs_dirs/swap_env/lib/python3.8/site-packages/textattack/loggers/csv_logger.py:41: FutureWarning: The frame.append method is deprecated and will be removed from pandas in a future version. Use pandas.concat instead.\n",
      "  self.df = self.df.append(row, ignore_index=True)\n",
      "\n",
      "[Succeeded / Failed / Skipped / Total] 23 / 4 / 1 / 28:  14%|█▍        | 28/200 [01:22<08:27,  2.95s/it]\u001b[A"
     ]
    },
    {
     "name": "stdout",
     "output_type": "stream",
     "text": [
      "--------------------------------------------- Result 28 ---------------------------------------------\n",
      "[[Positive (100%)]] --> [[Negative (89%)]]\n",
      "\n",
      "it 's an offbeat [[treat]] that pokes [[fun]] at the [[democratic]] exercise while also examining its significance for those who take part . \n",
      "\n",
      "it 's an offbeat [[broached]] that pokes [[droll]] at the [[republican]] exercise while also examining its significance for those who take part . \n",
      "\n",
      "\n"
     ]
    },
    {
     "name": "stderr",
     "output_type": "stream",
     "text": [
      "/scratch/sp6646/envs_dirs/swap_env/lib/python3.8/site-packages/textattack/loggers/csv_logger.py:41: FutureWarning: The frame.append method is deprecated and will be removed from pandas in a future version. Use pandas.concat instead.\n",
      "  self.df = self.df.append(row, ignore_index=True)\n",
      "\n",
      "[Succeeded / Failed / Skipped / Total] 24 / 4 / 1 / 29:  14%|█▍        | 29/200 [01:25<08:23,  2.95s/it]\u001b[A"
     ]
    },
    {
     "name": "stdout",
     "output_type": "stream",
     "text": [
      "--------------------------------------------- Result 29 ---------------------------------------------\n",
      "[[Negative (99%)]] --> [[Positive (82%)]]\n",
      "\n",
      "it 's a cookie-cutter [[movie]] , a cut-and-paste [[job]] . \n",
      "\n",
      "it 's a cookie-cutter [[photographer]] , a cut-and-paste [[professional]] . \n",
      "\n",
      "\n"
     ]
    },
    {
     "name": "stderr",
     "output_type": "stream",
     "text": [
      "\n",
      "[Succeeded / Failed / Skipped / Total] 24 / 4 / 1 / 29:  15%|█▌        | 30/200 [01:26<08:09,  2.88s/it]\u001b[A/scratch/sp6646/envs_dirs/swap_env/lib/python3.8/site-packages/textattack/loggers/csv_logger.py:41: FutureWarning: The frame.append method is deprecated and will be removed from pandas in a future version. Use pandas.concat instead.\n",
      "  self.df = self.df.append(row, ignore_index=True)\n",
      "\n",
      "[Succeeded / Failed / Skipped / Total] 25 / 4 / 1 / 30:  15%|█▌        | 30/200 [01:26<08:09,  2.88s/it]\u001b[A"
     ]
    },
    {
     "name": "stdout",
     "output_type": "stream",
     "text": [
      "--------------------------------------------- Result 30 ---------------------------------------------\n",
      "[[Negative (99%)]] --> [[Positive (66%)]]\n",
      "\n",
      "i had to look away - this was god [[awful]] . \n",
      "\n",
      "i had to look away - this was god [[outrageous]] . \n",
      "\n",
      "\n"
     ]
    },
    {
     "name": "stderr",
     "output_type": "stream",
     "text": [
      "/scratch/sp6646/envs_dirs/swap_env/lib/python3.8/site-packages/textattack/loggers/csv_logger.py:41: FutureWarning: The frame.append method is deprecated and will be removed from pandas in a future version. Use pandas.concat instead.\n",
      "  self.df = self.df.append(row, ignore_index=True)\n",
      "\n",
      "[Succeeded / Failed / Skipped / Total] 26 / 4 / 1 / 31:  16%|█▌        | 31/200 [01:31<08:18,  2.95s/it]\u001b[A"
     ]
    },
    {
     "name": "stdout",
     "output_type": "stream",
     "text": [
      "--------------------------------------------- Result 31 ---------------------------------------------\n",
      "[[Positive (100%)]] --> [[Negative (90%)]]\n",
      "\n",
      "[[thanks]] to scott 's charismatic roger and [[eisenberg]] 's [[sweet]] [[nephew]] , roger [[dodger]] is one of the most [[compelling]] variations on in the [[company]] of men . \n",
      "\n",
      "[[merci]] to scott 's charismatic roger and [[lerman]] 's [[gooey]] [[neveu]] , roger [[yankees]] is one of the most [[unconvincing]] variations on in the [[businessmen]] of men . \n",
      "\n",
      "\n"
     ]
    },
    {
     "name": "stderr",
     "output_type": "stream",
     "text": [
      "\n",
      "[Succeeded / Failed / Skipped / Total] 26 / 4 / 1 / 31:  16%|█▌        | 32/200 [01:33<08:08,  2.91s/it]\u001b[A/scratch/sp6646/envs_dirs/swap_env/lib/python3.8/site-packages/textattack/loggers/csv_logger.py:41: FutureWarning: The frame.append method is deprecated and will be removed from pandas in a future version. Use pandas.concat instead.\n",
      "  self.df = self.df.append(row, ignore_index=True)\n",
      "\n",
      "[Succeeded / Failed / Skipped / Total] 27 / 4 / 1 / 32:  16%|█▌        | 32/200 [01:33<08:08,  2.91s/it]\u001b[A"
     ]
    },
    {
     "name": "stdout",
     "output_type": "stream",
     "text": [
      "--------------------------------------------- Result 32 ---------------------------------------------\n",
      "[[Negative (99%)]] --> [[Positive (68%)]]\n",
      "\n",
      "... designed to provide a mix of smiles and tears , `` crossroads '' [[instead]] provokes a handful of unintentional howlers and numerous yawns . \n",
      "\n",
      "... designed to provide a mix of smiles and tears , `` crossroads '' [[even]] provokes a handful of unintentional howlers and numerous yawns . \n",
      "\n",
      "\n"
     ]
    },
    {
     "name": "stderr",
     "output_type": "stream",
     "text": [
      "/scratch/sp6646/envs_dirs/swap_env/lib/python3.8/site-packages/textattack/loggers/csv_logger.py:41: FutureWarning: The frame.append method is deprecated and will be removed from pandas in a future version. Use pandas.concat instead.\n",
      "  self.df = self.df.append(row, ignore_index=True)\n",
      "\n",
      "[Succeeded / Failed / Skipped / Total] 28 / 4 / 1 / 33:  16%|█▋        | 33/200 [01:36<08:10,  2.94s/it]\u001b[A"
     ]
    },
    {
     "name": "stdout",
     "output_type": "stream",
     "text": [
      "--------------------------------------------- Result 33 ---------------------------------------------\n",
      "[[Positive (100%)]] --> [[Negative (55%)]]\n",
      "\n",
      "a [[gorgeous]] , [[witty]] , [[seductive]] [[movie]] . \n",
      "\n",
      "a [[grandiose]] , [[psychiatric]] , [[sexier]] [[stills]] . \n",
      "\n",
      "\n"
     ]
    },
    {
     "name": "stderr",
     "output_type": "stream",
     "text": [
      "\n",
      "[Succeeded / Failed / Skipped / Total] 28 / 4 / 1 / 33:  17%|█▋        | 34/200 [01:42<08:19,  3.01s/it]\u001b[A/scratch/sp6646/envs_dirs/swap_env/lib/python3.8/site-packages/textattack/loggers/csv_logger.py:41: FutureWarning: The frame.append method is deprecated and will be removed from pandas in a future version. Use pandas.concat instead.\n",
      "  self.df = self.df.append(row, ignore_index=True)\n",
      "\n",
      "[Succeeded / Failed / Skipped / Total] 29 / 4 / 1 / 34:  17%|█▋        | 34/200 [01:42<08:19,  3.01s/it]\u001b[A"
     ]
    },
    {
     "name": "stdout",
     "output_type": "stream",
     "text": [
      "--------------------------------------------- Result 34 ---------------------------------------------\n",
      "[[Negative (99%)]] --> [[Positive (69%)]]\n",
      "\n",
      "if the [[movie]] [[succeeds]] in instilling a [[wary]] [[sense]] of ` there but for the [[grace]] of [[god]] , ' it is [[far]] too self-conscious to draw you deeply into its [[world]] . \n",
      "\n",
      "if the [[films]] [[prosper]] in instilling a [[meticulous]] [[senses]] of ` there but for the [[graces]] of [[lawd]] , ' it is [[acutely]] too self-conscious to draw you deeply into its [[monde]] . \n",
      "\n",
      "\n"
     ]
    },
    {
     "name": "stderr",
     "output_type": "stream",
     "text": [
      "/scratch/sp6646/envs_dirs/swap_env/lib/python3.8/site-packages/textattack/loggers/csv_logger.py:41: FutureWarning: The frame.append method is deprecated and will be removed from pandas in a future version. Use pandas.concat instead.\n",
      "  self.df = self.df.append(row, ignore_index=True)\n",
      "\n",
      "[Succeeded / Failed / Skipped / Total] 30 / 4 / 1 / 35:  18%|█▊        | 35/200 [01:46<08:22,  3.04s/it]\u001b[A"
     ]
    },
    {
     "name": "stdout",
     "output_type": "stream",
     "text": [
      "--------------------------------------------- Result 35 ---------------------------------------------\n",
      "[[Negative (100%)]] --> [[Positive (74%)]]\n",
      "\n",
      "it [[does]] n't [[believe]] in itself , it has no [[sense]] of [[humor]] ... it 's just [[plain]] [[bored]] . \n",
      "\n",
      "it [[wantto]] n't [[presume]] in itself , it has no [[foreboding]] of [[laughing]] ... it 's just [[unadulterated]] [[annoy]] . \n",
      "\n",
      "\n"
     ]
    },
    {
     "name": "stderr",
     "output_type": "stream",
     "text": [
      "\n",
      "[Succeeded / Failed / Skipped / Total] 30 / 4 / 1 / 35:  18%|█▊        | 36/200 [01:47<08:10,  2.99s/it]\u001b[A/scratch/sp6646/envs_dirs/swap_env/lib/python3.8/site-packages/textattack/loggers/csv_logger.py:41: FutureWarning: The frame.append method is deprecated and will be removed from pandas in a future version. Use pandas.concat instead.\n",
      "  self.df = self.df.append(row, ignore_index=True)\n",
      "\n",
      "[Succeeded / Failed / Skipped / Total] 31 / 4 / 1 / 36:  18%|█▊        | 36/200 [01:47<08:11,  2.99s/it]\u001b[A"
     ]
    },
    {
     "name": "stdout",
     "output_type": "stream",
     "text": [
      "--------------------------------------------- Result 36 ---------------------------------------------\n",
      "[[Negative (100%)]] --> [[Positive (97%)]]\n",
      "\n",
      "a sequence of [[ridiculous]] shoot - 'em - up scenes . \n",
      "\n",
      "a sequence of [[ironic]] shoot - 'em - up scenes . \n",
      "\n",
      "\n"
     ]
    },
    {
     "name": "stderr",
     "output_type": "stream",
     "text": [
      "/scratch/sp6646/envs_dirs/swap_env/lib/python3.8/site-packages/textattack/loggers/csv_logger.py:41: FutureWarning: The frame.append method is deprecated and will be removed from pandas in a future version. Use pandas.concat instead.\n",
      "  self.df = self.df.append(row, ignore_index=True)\n",
      "\n",
      "[Succeeded / Failed / Skipped / Total] 32 / 4 / 1 / 37:  18%|█▊        | 37/200 [01:49<08:01,  2.95s/it]\u001b[A"
     ]
    },
    {
     "name": "stdout",
     "output_type": "stream",
     "text": [
      "--------------------------------------------- Result 37 ---------------------------------------------\n",
      "[[Positive (100%)]] --> [[Negative (59%)]]\n",
      "\n",
      "the weight of the piece , the unerring professionalism of the chilly production , and the fascination embedded in the lurid topic [[prove]] recommendation enough . \n",
      "\n",
      "the weight of the piece , the unerring professionalism of the chilly production , and the fascination embedded in the lurid topic [[test]] recommendation enough . \n",
      "\n",
      "\n"
     ]
    },
    {
     "name": "stderr",
     "output_type": "stream",
     "text": [
      "\n",
      "[Succeeded / Failed / Skipped / Total] 32 / 4 / 1 / 37:  19%|█▉        | 38/200 [01:50<07:49,  2.90s/it]\u001b[A/scratch/sp6646/envs_dirs/swap_env/lib/python3.8/site-packages/textattack/loggers/csv_logger.py:41: FutureWarning: The frame.append method is deprecated and will be removed from pandas in a future version. Use pandas.concat instead.\n",
      "  self.df = self.df.append(row, ignore_index=True)\n",
      "\n",
      "[Succeeded / Failed / Skipped / Total] 33 / 4 / 1 / 38:  19%|█▉        | 38/200 [01:50<07:49,  2.90s/it]\u001b[A"
     ]
    },
    {
     "name": "stdout",
     "output_type": "stream",
     "text": [
      "--------------------------------------------- Result 38 ---------------------------------------------\n",
      "[[Negative (99%)]] --> [[Positive (98%)]]\n",
      "\n",
      "( w ) hile long on amiable monkeys and worthy environmentalism , jane goodall 's wild chimpanzees is [[short]] on the thrills the oversize medium demands . \n",
      "\n",
      "( w ) hile long on amiable monkeys and worthy environmentalism , jane goodall 's wild chimpanzees is [[summary]] on the thrills the oversize medium demands . \n",
      "\n",
      "\n"
     ]
    },
    {
     "name": "stderr",
     "output_type": "stream",
     "text": [
      "/scratch/sp6646/envs_dirs/swap_env/lib/python3.8/site-packages/textattack/loggers/csv_logger.py:41: FutureWarning: The frame.append method is deprecated and will be removed from pandas in a future version. Use pandas.concat instead.\n",
      "  self.df = self.df.append(row, ignore_index=True)\n",
      "\n",
      "[Succeeded / Failed / Skipped / Total] 34 / 4 / 1 / 39:  20%|█▉        | 39/200 [01:53<07:46,  2.90s/it]\u001b[A"
     ]
    },
    {
     "name": "stdout",
     "output_type": "stream",
     "text": [
      "--------------------------------------------- Result 39 ---------------------------------------------\n",
      "[[Positive (100%)]] --> [[Negative (92%)]]\n",
      "\n",
      "as [[surreal]] as a dream and as [[detailed]] as a [[photograph]] , as [[visually]] [[dexterous]] as it is at times imaginatively [[overwhelming]] . \n",
      "\n",
      "as [[grotesque]] as a dream and as [[circumspect]] as a [[images]] , as [[aesthetically]] [[smarter]] as it is at times imaginatively [[dreaded]] . \n",
      "\n",
      "\n"
     ]
    },
    {
     "name": "stderr",
     "output_type": "stream",
     "text": [
      "\n",
      "[Succeeded / Failed / Skipped / Total] 34 / 4 / 1 / 39:  20%|██        | 40/200 [01:55<07:43,  2.90s/it]\u001b[A/scratch/sp6646/envs_dirs/swap_env/lib/python3.8/site-packages/textattack/loggers/csv_logger.py:41: FutureWarning: The frame.append method is deprecated and will be removed from pandas in a future version. Use pandas.concat instead.\n",
      "  self.df = self.df.append(row, ignore_index=True)\n",
      "\n",
      "[Succeeded / Failed / Skipped / Total] 35 / 4 / 1 / 40:  20%|██        | 40/200 [01:55<07:43,  2.90s/it]\u001b[A"
     ]
    },
    {
     "name": "stdout",
     "output_type": "stream",
     "text": [
      "--------------------------------------------- Result 40 ---------------------------------------------\n",
      "[[Positive (100%)]] --> [[Negative (68%)]]\n",
      "\n",
      "escaping the studio , piccoli is [[warmly]] affecting and [[so]] is this adroitly minimalist [[movie]] . \n",
      "\n",
      "escaping the studio , piccoli is [[cordial]] affecting and [[why]] is this adroitly minimalist [[cinematographic]] . \n",
      "\n",
      "\n"
     ]
    },
    {
     "name": "stderr",
     "output_type": "stream",
     "text": [
      "/scratch/sp6646/envs_dirs/swap_env/lib/python3.8/site-packages/textattack/loggers/csv_logger.py:41: FutureWarning: The frame.append method is deprecated and will be removed from pandas in a future version. Use pandas.concat instead.\n",
      "  self.df = self.df.append(row, ignore_index=True)\n",
      "\n",
      "[Succeeded / Failed / Skipped / Total] 36 / 4 / 1 / 41:  20%|██        | 41/200 [02:00<07:46,  2.93s/it]\u001b[A"
     ]
    },
    {
     "name": "stdout",
     "output_type": "stream",
     "text": [
      "--------------------------------------------- Result 41 ---------------------------------------------\n",
      "[[Positive (100%)]] --> [[Negative (75%)]]\n",
      "\n",
      "there 's ... [[tremendous]] [[energy]] from the cast , a sense of [[playfulness]] and [[excitement]] that seems appropriate . \n",
      "\n",
      "there 's ... [[gargantuan]] [[energies]] from the cast , a sense of [[childishness]] and [[gusto]] that seems appropriate . \n",
      "\n",
      "\n"
     ]
    },
    {
     "name": "stderr",
     "output_type": "stream",
     "text": [
      "\n",
      "[Succeeded / Failed / Skipped / Total] 36 / 4 / 1 / 41:  21%|██        | 42/200 [02:04<07:46,  2.95s/it]\u001b[A/scratch/sp6646/envs_dirs/swap_env/lib/python3.8/site-packages/textattack/loggers/csv_logger.py:41: FutureWarning: The frame.append method is deprecated and will be removed from pandas in a future version. Use pandas.concat instead.\n",
      "  self.df = self.df.append(row, ignore_index=True)\n",
      "\n",
      "[Succeeded / Failed / Skipped / Total] 37 / 4 / 1 / 42:  21%|██        | 42/200 [02:04<07:46,  2.96s/it]\u001b[A"
     ]
    },
    {
     "name": "stdout",
     "output_type": "stream",
     "text": [
      "--------------------------------------------- Result 42 ---------------------------------------------\n",
      "[[Positive (100%)]] --> [[Negative (80%)]]\n",
      "\n",
      "this [[illuminating]] documentary transcends our [[preconceived]] vision of the holy [[land]] and its [[inhabitants]] , [[revealing]] the [[human]] complexities [[beneath]] . \n",
      "\n",
      "this [[instructional]] documentary transcends our [[stereotypical]] vision of the holy [[terrain]] and its [[occupier]] , [[disclosing]] the [[humanistic]] complexities [[following]] . \n",
      "\n",
      "\n"
     ]
    },
    {
     "name": "stderr",
     "output_type": "stream",
     "text": [
      "/scratch/sp6646/envs_dirs/swap_env/lib/python3.8/site-packages/textattack/loggers/csv_logger.py:41: FutureWarning: The frame.append method is deprecated and will be removed from pandas in a future version. Use pandas.concat instead.\n",
      "  self.df = self.df.append(row, ignore_index=True)\n",
      "\n",
      "[Succeeded / Failed / Skipped / Total] 38 / 4 / 1 / 43:  22%|██▏       | 43/200 [02:04<07:36,  2.91s/it]\u001b[A"
     ]
    },
    {
     "name": "stdout",
     "output_type": "stream",
     "text": [
      "--------------------------------------------- Result 43 ---------------------------------------------\n",
      "[[Positive (100%)]] --> [[Negative (80%)]]\n",
      "\n",
      "the subtle strength of `` elling '' is that it never [[loses]] touch with the reality of the grim situation . \n",
      "\n",
      "the subtle strength of `` elling '' is that it never [[loosing]] touch with the reality of the grim situation . \n",
      "\n",
      "\n"
     ]
    },
    {
     "name": "stderr",
     "output_type": "stream",
     "text": [
      "\n",
      "[Succeeded / Failed / Skipped / Total] 38 / 4 / 1 / 43:  22%|██▏       | 44/200 [02:06<07:29,  2.88s/it]\u001b[A/scratch/sp6646/envs_dirs/swap_env/lib/python3.8/site-packages/textattack/loggers/csv_logger.py:41: FutureWarning: The frame.append method is deprecated and will be removed from pandas in a future version. Use pandas.concat instead.\n",
      "  self.df = self.df.append(row, ignore_index=True)\n",
      "\n",
      "[Succeeded / Failed / Skipped / Total] 39 / 4 / 1 / 44:  22%|██▏       | 44/200 [02:06<07:29,  2.88s/it]\u001b[A"
     ]
    },
    {
     "name": "stdout",
     "output_type": "stream",
     "text": [
      "--------------------------------------------- Result 44 ---------------------------------------------\n",
      "[[Positive (100%)]] --> [[Negative (84%)]]\n",
      "\n",
      "holm ... embodies the character with an [[effortlessly]] [[regal]] [[charisma]] . \n",
      "\n",
      "holm ... embodies the character with an [[conveniently]] [[royalist]] [[fetish]] . \n",
      "\n",
      "\n"
     ]
    },
    {
     "name": "stderr",
     "output_type": "stream",
     "text": [
      "/scratch/sp6646/envs_dirs/swap_env/lib/python3.8/site-packages/textattack/loggers/csv_logger.py:41: FutureWarning: The frame.append method is deprecated and will be removed from pandas in a future version. Use pandas.concat instead.\n",
      "  self.df = self.df.append(row, ignore_index=True)\n",
      "\n",
      "[Succeeded / Failed / Skipped / Total] 40 / 4 / 1 / 45:  22%|██▎       | 45/200 [02:07<07:18,  2.83s/it]\u001b[A"
     ]
    },
    {
     "name": "stdout",
     "output_type": "stream",
     "text": [
      "--------------------------------------------- Result 45 ---------------------------------------------\n",
      "[[Negative (98%)]] --> [[Positive (81%)]]\n",
      "\n",
      "the title not only describes its main characters , but the [[lazy]] people behind the camera as well . \n",
      "\n",
      "the title not only describes its main characters , but the [[unmotivated]] people behind the camera as well . \n",
      "\n",
      "\n"
     ]
    },
    {
     "name": "stderr",
     "output_type": "stream",
     "text": [
      "\n",
      "[Succeeded / Failed / Skipped / Total] 40 / 4 / 1 / 45:  23%|██▎       | 46/200 [02:08<07:10,  2.80s/it]\u001b[A/scratch/sp6646/envs_dirs/swap_env/lib/python3.8/site-packages/textattack/loggers/csv_logger.py:41: FutureWarning: The frame.append method is deprecated and will be removed from pandas in a future version. Use pandas.concat instead.\n",
      "  self.df = self.df.append(row, ignore_index=True)\n",
      "\n",
      "[Succeeded / Failed / Skipped / Total] 41 / 4 / 1 / 46:  23%|██▎       | 46/200 [02:08<07:10,  2.80s/it]\u001b[A/scratch/sp6646/envs_dirs/swap_env/lib/python3.8/site-packages/textattack/loggers/csv_logger.py:41: FutureWarning: The frame.append method is deprecated and will be removed from pandas in a future version. Use pandas.concat instead.\n",
      "  self.df = self.df.append(row, ignore_index=True)\n",
      "\n",
      "[Succeeded / Failed / Skipped / Total] 41 / 4 / 2 / 47:  24%|██▎       | 47/200 [02:08<06:59,  2.74s/it]\u001b[A"
     ]
    },
    {
     "name": "stdout",
     "output_type": "stream",
     "text": [
      "--------------------------------------------- Result 46 ---------------------------------------------\n",
      "[[Negative (96%)]] --> [[Positive (100%)]]\n",
      "\n",
      "it offers [[little]] beyond the momentary joys of pretty and weightless intellectual entertainment . \n",
      "\n",
      "it offers [[lite]] beyond the momentary joys of pretty and weightless intellectual entertainment . \n",
      "\n",
      "\n",
      "--------------------------------------------- Result 47 ---------------------------------------------\n",
      "[[Positive (95%)]] --> [[[SKIPPED]]]\n",
      "\n",
      "a synthesis of cliches and absurdities that seems positively decadent in its cinematic flash and emptiness . \n",
      "\n",
      "\n"
     ]
    },
    {
     "name": "stderr",
     "output_type": "stream",
     "text": [
      "\n",
      "[Succeeded / Failed / Skipped / Total] 41 / 4 / 2 / 47:  24%|██▍       | 48/200 [02:10<06:53,  2.72s/it]\u001b[A/scratch/sp6646/envs_dirs/swap_env/lib/python3.8/site-packages/textattack/loggers/csv_logger.py:41: FutureWarning: The frame.append method is deprecated and will be removed from pandas in a future version. Use pandas.concat instead.\n",
      "  self.df = self.df.append(row, ignore_index=True)\n",
      "\n",
      "[Succeeded / Failed / Skipped / Total] 41 / 5 / 2 / 48:  24%|██▍       | 48/200 [02:10<06:53,  2.72s/it]\u001b[A"
     ]
    },
    {
     "name": "stdout",
     "output_type": "stream",
     "text": [
      "--------------------------------------------- Result 48 ---------------------------------------------\n",
      "[[Positive (100%)]] --> [[[FAILED]]]\n",
      "\n",
      "a subtle and well-crafted ( for the most part ) chiller . \n",
      "\n",
      "\n"
     ]
    },
    {
     "name": "stderr",
     "output_type": "stream",
     "text": [
      "/scratch/sp6646/envs_dirs/swap_env/lib/python3.8/site-packages/textattack/loggers/csv_logger.py:41: FutureWarning: The frame.append method is deprecated and will be removed from pandas in a future version. Use pandas.concat instead.\n",
      "  self.df = self.df.append(row, ignore_index=True)\n",
      "\n",
      "[Succeeded / Failed / Skipped / Total] 42 / 5 / 2 / 49:  24%|██▍       | 49/200 [02:12<06:48,  2.71s/it]\u001b[A"
     ]
    },
    {
     "name": "stdout",
     "output_type": "stream",
     "text": [
      "--------------------------------------------- Result 49 ---------------------------------------------\n",
      "[[Positive (100%)]] --> [[Negative (93%)]]\n",
      "\n",
      "has a lot of the [[virtues]] of [[eastwood]] at his [[best]] . \n",
      "\n",
      "has a lot of the [[prerogatives]] of [[tobey]] at his [[superior]] . \n",
      "\n",
      "\n"
     ]
    },
    {
     "name": "stderr",
     "output_type": "stream",
     "text": [
      "\n",
      "[Succeeded / Failed / Skipped / Total] 42 / 5 / 2 / 49:  25%|██▌       | 50/200 [02:15<06:45,  2.70s/it]\u001b[A/scratch/sp6646/envs_dirs/swap_env/lib/python3.8/site-packages/textattack/loggers/csv_logger.py:41: FutureWarning: The frame.append method is deprecated and will be removed from pandas in a future version. Use pandas.concat instead.\n",
      "  self.df = self.df.append(row, ignore_index=True)\n",
      "\n",
      "[Succeeded / Failed / Skipped / Total] 43 / 5 / 2 / 50:  25%|██▌       | 50/200 [02:15<06:45,  2.70s/it]\u001b[A"
     ]
    },
    {
     "name": "stdout",
     "output_type": "stream",
     "text": [
      "--------------------------------------------- Result 50 ---------------------------------------------\n",
      "[[Negative (100%)]] --> [[Positive (62%)]]\n",
      "\n",
      "it 's [[hampered]] by a lifetime-channel kind of [[plot]] and a lead actress who is out of her [[depth]] . \n",
      "\n",
      "it 's [[restrained]] by a lifetime-channel kind of [[intrigue]] and a lead actress who is out of her [[deepening]] . \n",
      "\n",
      "\n"
     ]
    },
    {
     "name": "stderr",
     "output_type": "stream",
     "text": [
      "/scratch/sp6646/envs_dirs/swap_env/lib/python3.8/site-packages/textattack/loggers/csv_logger.py:41: FutureWarning: The frame.append method is deprecated and will be removed from pandas in a future version. Use pandas.concat instead.\n",
      "  self.df = self.df.append(row, ignore_index=True)\n",
      "\n",
      "[Succeeded / Failed / Skipped / Total] 44 / 5 / 2 / 51:  26%|██▌       | 51/200 [02:18<06:43,  2.71s/it]\u001b[A"
     ]
    },
    {
     "name": "stdout",
     "output_type": "stream",
     "text": [
      "--------------------------------------------- Result 51 ---------------------------------------------\n",
      "[[Negative (99%)]] --> [[Positive (54%)]]\n",
      "\n",
      "it [[feels]] [[like]] an after-school special gussied up with some fancy special effects , and watching its [[rote]] [[plot]] points connect is about as exciting as gazing at an egg timer for 93 [[minutes]] . \n",
      "\n",
      "it [[esteem]] [[enjoy]] an after-school special gussied up with some fancy special effects , and watching its [[rossa]] [[lots]] points connect is about as exciting as gazing at an egg timer for 93 [[mins]] . \n",
      "\n",
      "\n"
     ]
    },
    {
     "name": "stderr",
     "output_type": "stream",
     "text": [
      "\n",
      "[Succeeded / Failed / Skipped / Total] 44 / 5 / 2 / 51:  26%|██▌       | 52/200 [02:21<06:44,  2.73s/it]\u001b[A/scratch/sp6646/envs_dirs/swap_env/lib/python3.8/site-packages/textattack/loggers/csv_logger.py:41: FutureWarning: The frame.append method is deprecated and will be removed from pandas in a future version. Use pandas.concat instead.\n",
      "  self.df = self.df.append(row, ignore_index=True)\n",
      "\n",
      "[Succeeded / Failed / Skipped / Total] 45 / 5 / 2 / 52:  26%|██▌       | 52/200 [02:22<06:44,  2.73s/it]\u001b[A"
     ]
    },
    {
     "name": "stdout",
     "output_type": "stream",
     "text": [
      "--------------------------------------------- Result 52 ---------------------------------------------\n",
      "[[Positive (100%)]] --> [[Negative (61%)]]\n",
      "\n",
      "for the most part , [[director]] anne-sophie birot 's first [[feature]] is a sensitive , [[extraordinarily]] well-acted [[drama]] . \n",
      "\n",
      "for the most part , [[trustees]] anne-sophie birot 's first [[specification]] is a sensitive , [[overly]] well-acted [[tragic]] . \n",
      "\n",
      "\n"
     ]
    },
    {
     "name": "stderr",
     "output_type": "stream",
     "text": [
      "/scratch/sp6646/envs_dirs/swap_env/lib/python3.8/site-packages/textattack/loggers/csv_logger.py:41: FutureWarning: The frame.append method is deprecated and will be removed from pandas in a future version. Use pandas.concat instead.\n",
      "  self.df = self.df.append(row, ignore_index=True)\n",
      "\n",
      "[Succeeded / Failed / Skipped / Total] 46 / 5 / 2 / 53:  26%|██▋       | 53/200 [02:23<06:36,  2.70s/it]\u001b[A"
     ]
    },
    {
     "name": "stdout",
     "output_type": "stream",
     "text": [
      "--------------------------------------------- Result 53 ---------------------------------------------\n",
      "[[Positive (93%)]] --> [[Negative (61%)]]\n",
      "\n",
      "mr. tsai is a very [[original]] artist in his medium , and what time is it there ? \n",
      "\n",
      "mr. tsai is a very [[initial]] artist in his medium , and what time is it there ? \n",
      "\n",
      "\n"
     ]
    },
    {
     "name": "stderr",
     "output_type": "stream",
     "text": [
      "\n",
      "[Succeeded / Failed / Skipped / Total] 46 / 5 / 2 / 53:  27%|██▋       | 54/200 [02:25<06:34,  2.70s/it]\u001b[A/scratch/sp6646/envs_dirs/swap_env/lib/python3.8/site-packages/textattack/loggers/csv_logger.py:41: FutureWarning: The frame.append method is deprecated and will be removed from pandas in a future version. Use pandas.concat instead.\n",
      "  self.df = self.df.append(row, ignore_index=True)\n",
      "\n",
      "[Succeeded / Failed / Skipped / Total] 47 / 5 / 2 / 54:  27%|██▋       | 54/200 [02:25<06:34,  2.70s/it]\u001b[A"
     ]
    },
    {
     "name": "stdout",
     "output_type": "stream",
     "text": [
      "--------------------------------------------- Result 54 ---------------------------------------------\n",
      "[[Positive (100%)]] --> [[Negative (100%)]]\n",
      "\n",
      "sade is an [[engaging]] [[look]] at the controversial eponymous and fiercely atheistic hero . \n",
      "\n",
      "sade is an [[implicate]] [[blankly]] at the controversial eponymous and fiercely atheistic hero . \n",
      "\n",
      "\n"
     ]
    },
    {
     "name": "stderr",
     "output_type": "stream",
     "text": [
      "/scratch/sp6646/envs_dirs/swap_env/lib/python3.8/site-packages/textattack/loggers/csv_logger.py:41: FutureWarning: The frame.append method is deprecated and will be removed from pandas in a future version. Use pandas.concat instead.\n",
      "  self.df = self.df.append(row, ignore_index=True)\n",
      "\n",
      "[Succeeded / Failed / Skipped / Total] 48 / 5 / 2 / 55:  28%|██▊       | 55/200 [02:27<06:29,  2.69s/it]\u001b[A"
     ]
    },
    {
     "name": "stdout",
     "output_type": "stream",
     "text": [
      "--------------------------------------------- Result 55 ---------------------------------------------\n",
      "[[Negative (100%)]] --> [[Positive (97%)]]\n",
      "\n",
      "[[so]] [[devoid]] of any kind of intelligible story that it makes films like xxx and collateral damage seem like thoughtful treatises \n",
      "\n",
      "[[thus]] [[free]] of any kind of intelligible story that it makes films like xxx and collateral damage seem like thoughtful treatises \n",
      "\n",
      "\n"
     ]
    },
    {
     "name": "stderr",
     "output_type": "stream",
     "text": [
      "\n",
      "[Succeeded / Failed / Skipped / Total] 48 / 5 / 2 / 55:  28%|██▊       | 56/200 [02:30<06:27,  2.69s/it]\u001b[A/scratch/sp6646/envs_dirs/swap_env/lib/python3.8/site-packages/textattack/loggers/csv_logger.py:41: FutureWarning: The frame.append method is deprecated and will be removed from pandas in a future version. Use pandas.concat instead.\n",
      "  self.df = self.df.append(row, ignore_index=True)\n",
      "\n",
      "[Succeeded / Failed / Skipped / Total] 48 / 6 / 2 / 56:  28%|██▊       | 56/200 [02:30<06:27,  2.69s/it]\u001b[A"
     ]
    },
    {
     "name": "stdout",
     "output_type": "stream",
     "text": [
      "--------------------------------------------- Result 56 ---------------------------------------------\n",
      "[[Positive (100%)]] --> [[[FAILED]]]\n",
      "\n",
      "a tender , heartfelt family drama . \n",
      "\n",
      "\n"
     ]
    },
    {
     "name": "stderr",
     "output_type": "stream",
     "text": [
      "/scratch/sp6646/envs_dirs/swap_env/lib/python3.8/site-packages/textattack/loggers/csv_logger.py:41: FutureWarning: The frame.append method is deprecated and will be removed from pandas in a future version. Use pandas.concat instead.\n",
      "  self.df = self.df.append(row, ignore_index=True)\n",
      "\n",
      "[Succeeded / Failed / Skipped / Total] 49 / 6 / 2 / 57:  28%|██▊       | 57/200 [02:35<06:29,  2.72s/it]\u001b[A"
     ]
    },
    {
     "name": "stdout",
     "output_type": "stream",
     "text": [
      "--------------------------------------------- Result 57 ---------------------------------------------\n",
      "[[Negative (100%)]] --> [[Positive (79%)]]\n",
      "\n",
      "... a [[hollow]] [[joke]] told by a cinematic gymnast having too much fun embellishing the misanthropic tale to [[actually]] [[engage]] it . \n",
      "\n",
      "... a [[empties]] [[entertaining]] told by a cinematic gymnast having too much fun embellishing the misanthropic tale to [[assuredly]] [[engaging]] it . \n",
      "\n",
      "\n"
     ]
    },
    {
     "name": "stderr",
     "output_type": "stream",
     "text": [
      "\n",
      "[Succeeded / Failed / Skipped / Total] 49 / 6 / 2 / 57:  29%|██▉       | 58/200 [02:36<06:21,  2.69s/it]\u001b[A/scratch/sp6646/envs_dirs/swap_env/lib/python3.8/site-packages/textattack/loggers/csv_logger.py:41: FutureWarning: The frame.append method is deprecated and will be removed from pandas in a future version. Use pandas.concat instead.\n",
      "  self.df = self.df.append(row, ignore_index=True)\n",
      "\n",
      "[Succeeded / Failed / Skipped / Total] 50 / 6 / 2 / 58:  29%|██▉       | 58/200 [02:36<06:22,  2.69s/it]\u001b[A"
     ]
    },
    {
     "name": "stdout",
     "output_type": "stream",
     "text": [
      "--------------------------------------------- Result 58 ---------------------------------------------\n",
      "[[Negative (96%)]] --> [[Positive (96%)]]\n",
      "\n",
      "the [[cold]] turkey would 've been a far [[better]] title . \n",
      "\n",
      "the [[coolest]] turkey would 've been a far [[well]] title . \n",
      "\n",
      "\n"
     ]
    },
    {
     "name": "stderr",
     "output_type": "stream",
     "text": [
      "/scratch/sp6646/envs_dirs/swap_env/lib/python3.8/site-packages/textattack/loggers/csv_logger.py:41: FutureWarning: The frame.append method is deprecated and will be removed from pandas in a future version. Use pandas.concat instead.\n",
      "  self.df = self.df.append(row, ignore_index=True)\n",
      "\n",
      "[Succeeded / Failed / Skipped / Total] 51 / 6 / 2 / 59:  30%|██▉       | 59/200 [02:36<06:14,  2.66s/it]\u001b[A"
     ]
    },
    {
     "name": "stdout",
     "output_type": "stream",
     "text": [
      "--------------------------------------------- Result 59 ---------------------------------------------\n",
      "[[Negative (80%)]] --> [[Positive (97%)]]\n",
      "\n",
      "manages to be both repulsively sadistic and [[mundane]] . \n",
      "\n",
      "manages to be both repulsively sadistic and [[prosaic]] . \n",
      "\n",
      "\n"
     ]
    },
    {
     "name": "stderr",
     "output_type": "stream",
     "text": [
      "\n",
      "[Succeeded / Failed / Skipped / Total] 51 / 6 / 2 / 59:  30%|███       | 60/200 [02:42<06:18,  2.70s/it]\u001b[A/scratch/sp6646/envs_dirs/swap_env/lib/python3.8/site-packages/textattack/loggers/csv_logger.py:41: FutureWarning: The frame.append method is deprecated and will be removed from pandas in a future version. Use pandas.concat instead.\n",
      "  self.df = self.df.append(row, ignore_index=True)\n",
      "\n",
      "[Succeeded / Failed / Skipped / Total] 51 / 7 / 2 / 60:  30%|███       | 60/200 [02:42<06:18,  2.71s/it]\u001b[A"
     ]
    },
    {
     "name": "stdout",
     "output_type": "stream",
     "text": [
      "--------------------------------------------- Result 60 ---------------------------------------------\n",
      "[[Negative (100%)]] --> [[[FAILED]]]\n",
      "\n",
      "it 's just disappointingly superficial -- a movie that has all the elements necessary to be a fascinating , involving character study , but never does more than scratch the surface . \n",
      "\n",
      "\n"
     ]
    },
    {
     "name": "stderr",
     "output_type": "stream",
     "text": [
      "/scratch/sp6646/envs_dirs/swap_env/lib/python3.8/site-packages/textattack/loggers/csv_logger.py:41: FutureWarning: The frame.append method is deprecated and will be removed from pandas in a future version. Use pandas.concat instead.\n",
      "  self.df = self.df.append(row, ignore_index=True)\n",
      "\n",
      "[Succeeded / Failed / Skipped / Total] 52 / 7 / 2 / 61:  30%|███       | 61/200 [02:44<06:15,  2.70s/it]\u001b[A"
     ]
    },
    {
     "name": "stdout",
     "output_type": "stream",
     "text": [
      "--------------------------------------------- Result 61 ---------------------------------------------\n",
      "[[Positive (100%)]] --> [[Negative (53%)]]\n",
      "\n",
      "this is a [[story]] of two misfits who do n't stand a chance alone , but [[together]] they are [[magnificent]] . \n",
      "\n",
      "this is a [[myths]] of two misfits who do n't stand a chance alone , but [[assembly]] they are [[grandiose]] . \n",
      "\n",
      "\n"
     ]
    },
    {
     "name": "stderr",
     "output_type": "stream",
     "text": [
      "\n",
      "[Succeeded / Failed / Skipped / Total] 52 / 7 / 2 / 61:  31%|███       | 62/200 [02:47<06:12,  2.70s/it]\u001b[A/scratch/sp6646/envs_dirs/swap_env/lib/python3.8/site-packages/textattack/loggers/csv_logger.py:41: FutureWarning: The frame.append method is deprecated and will be removed from pandas in a future version. Use pandas.concat instead.\n",
      "  self.df = self.df.append(row, ignore_index=True)\n",
      "\n",
      "[Succeeded / Failed / Skipped / Total] 53 / 7 / 2 / 62:  31%|███       | 62/200 [02:47<06:12,  2.70s/it]\u001b[A"
     ]
    },
    {
     "name": "stdout",
     "output_type": "stream",
     "text": [
      "--------------------------------------------- Result 62 ---------------------------------------------\n",
      "[[Negative (100%)]] --> [[Positive (69%)]]\n",
      "\n",
      "schaeffer [[has]] to find some hook on which to hang his persistently [[useless]] movies , and it might as well be the resuscitation of the middle-aged character . \n",
      "\n",
      "schaeffer [[enjoy]] to find some hook on which to hang his persistently [[immaterial]] movies , and it might as well be the resuscitation of the middle-aged character . \n",
      "\n",
      "\n"
     ]
    },
    {
     "name": "stderr",
     "output_type": "stream",
     "text": [
      "/scratch/sp6646/envs_dirs/swap_env/lib/python3.8/site-packages/textattack/loggers/csv_logger.py:41: FutureWarning: The frame.append method is deprecated and will be removed from pandas in a future version. Use pandas.concat instead.\n",
      "  self.df = self.df.append(row, ignore_index=True)\n",
      "\n",
      "[Succeeded / Failed / Skipped / Total] 54 / 7 / 2 / 63:  32%|███▏      | 63/200 [02:49<06:08,  2.69s/it]\u001b[A"
     ]
    },
    {
     "name": "stdout",
     "output_type": "stream",
     "text": [
      "--------------------------------------------- Result 63 ---------------------------------------------\n",
      "[[Positive (99%)]] --> [[Negative (56%)]]\n",
      "\n",
      "the primitive [[force]] of this film seems to bubble up from the [[vast]] collective memory of the combatants . \n",
      "\n",
      "the primitive [[troupes]] of this film seems to bubble up from the [[extensive]] collective memory of the combatants . \n",
      "\n",
      "\n"
     ]
    },
    {
     "name": "stderr",
     "output_type": "stream",
     "text": [
      "\n",
      "[Succeeded / Failed / Skipped / Total] 54 / 7 / 2 / 63:  32%|███▏      | 64/200 [02:52<06:06,  2.69s/it]\u001b[A/scratch/sp6646/envs_dirs/swap_env/lib/python3.8/site-packages/textattack/loggers/csv_logger.py:41: FutureWarning: The frame.append method is deprecated and will be removed from pandas in a future version. Use pandas.concat instead.\n",
      "  self.df = self.df.append(row, ignore_index=True)\n",
      "\n",
      "[Succeeded / Failed / Skipped / Total] 55 / 7 / 2 / 64:  32%|███▏      | 64/200 [02:52<06:06,  2.69s/it]\u001b[A"
     ]
    },
    {
     "name": "stdout",
     "output_type": "stream",
     "text": [
      "--------------------------------------------- Result 64 ---------------------------------------------\n",
      "[[Positive (100%)]] --> [[Negative (68%)]]\n",
      "\n",
      "on this tricky topic , tadpole is very much a step in the [[right]] direction , with its [[blend]] of [[frankness]] , civility and [[compassion]] . \n",
      "\n",
      "on this tricky topic , tadpole is very much a step in the [[adequate]] direction , with its [[amalgam]] of [[naivete]] , civility and [[pity]] . \n",
      "\n",
      "\n"
     ]
    },
    {
     "name": "stderr",
     "output_type": "stream",
     "text": [
      "/scratch/sp6646/envs_dirs/swap_env/lib/python3.8/site-packages/textattack/loggers/csv_logger.py:41: FutureWarning: The frame.append method is deprecated and will be removed from pandas in a future version. Use pandas.concat instead.\n",
      "  self.df = self.df.append(row, ignore_index=True)\n",
      "\n",
      "[Succeeded / Failed / Skipped / Total] 56 / 7 / 2 / 65:  32%|███▎      | 65/200 [02:53<05:59,  2.67s/it]\u001b[A"
     ]
    },
    {
     "name": "stdout",
     "output_type": "stream",
     "text": [
      "--------------------------------------------- Result 65 ---------------------------------------------\n",
      "[[Negative (87%)]] --> [[Positive (99%)]]\n",
      "\n",
      "the script kicks in , and mr. hartley 's [[distended]] pace and foot-dragging rhythms follow . \n",
      "\n",
      "the script kicks in , and mr. hartley 's [[sphincter]] pace and foot-dragging rhythms follow . \n",
      "\n",
      "\n"
     ]
    },
    {
     "name": "stderr",
     "output_type": "stream",
     "text": [
      "\n",
      "[Succeeded / Failed / Skipped / Total] 56 / 7 / 2 / 65:  33%|███▎      | 66/200 [02:54<05:53,  2.64s/it]\u001b[A/scratch/sp6646/envs_dirs/swap_env/lib/python3.8/site-packages/textattack/loggers/csv_logger.py:41: FutureWarning: The frame.append method is deprecated and will be removed from pandas in a future version. Use pandas.concat instead.\n",
      "  self.df = self.df.append(row, ignore_index=True)\n",
      "\n",
      "[Succeeded / Failed / Skipped / Total] 57 / 7 / 2 / 66:  33%|███▎      | 66/200 [02:54<05:53,  2.64s/it]\u001b[A"
     ]
    },
    {
     "name": "stdout",
     "output_type": "stream",
     "text": [
      "--------------------------------------------- Result 66 ---------------------------------------------\n",
      "[[Negative (96%)]] --> [[Positive (54%)]]\n",
      "\n",
      "you [[wonder]] why enough was n't just a music video rather than a full-length movie . \n",
      "\n",
      "you [[astounded]] why enough was n't just a music video rather than a full-length movie . \n",
      "\n",
      "\n"
     ]
    },
    {
     "name": "stderr",
     "output_type": "stream",
     "text": [
      "/scratch/sp6646/envs_dirs/swap_env/lib/python3.8/site-packages/textattack/loggers/csv_logger.py:41: FutureWarning: The frame.append method is deprecated and will be removed from pandas in a future version. Use pandas.concat instead.\n",
      "  self.df = self.df.append(row, ignore_index=True)\n",
      "\n",
      "[Succeeded / Failed / Skipped / Total] 58 / 7 / 2 / 67:  34%|███▎      | 67/200 [02:55<05:48,  2.62s/it]\u001b[A"
     ]
    },
    {
     "name": "stdout",
     "output_type": "stream",
     "text": [
      "--------------------------------------------- Result 67 ---------------------------------------------\n",
      "[[Positive (99%)]] --> [[Negative (83%)]]\n",
      "\n",
      "if you '[[re]] [[hard]] up for raunchy college humor , this is your [[ticket]] [[right]] here . \n",
      "\n",
      "if you '[[sos]] [[inhospitable]] up for raunchy college humor , this is your [[billet]] [[correctly]] here . \n",
      "\n",
      "\n"
     ]
    },
    {
     "name": "stderr",
     "output_type": "stream",
     "text": [
      "\n",
      "[Succeeded / Failed / Skipped / Total] 58 / 7 / 2 / 67:  34%|███▍      | 68/200 [02:58<05:45,  2.62s/it]\u001b[A/scratch/sp6646/envs_dirs/swap_env/lib/python3.8/site-packages/textattack/loggers/csv_logger.py:41: FutureWarning: The frame.append method is deprecated and will be removed from pandas in a future version. Use pandas.concat instead.\n",
      "  self.df = self.df.append(row, ignore_index=True)\n",
      "\n",
      "[Succeeded / Failed / Skipped / Total] 59 / 7 / 2 / 68:  34%|███▍      | 68/200 [02:58<05:45,  2.62s/it]\u001b[A"
     ]
    },
    {
     "name": "stdout",
     "output_type": "stream",
     "text": [
      "--------------------------------------------- Result 68 ---------------------------------------------\n",
      "[[Positive (100%)]] --> [[Negative (98%)]]\n",
      "\n",
      "a [[fast]] , [[funny]] , highly [[enjoyable]] movie . \n",
      "\n",
      "a [[faster]] , [[nosy]] , highly [[cosy]] movie . \n",
      "\n",
      "\n"
     ]
    },
    {
     "name": "stderr",
     "output_type": "stream",
     "text": [
      "/scratch/sp6646/envs_dirs/swap_env/lib/python3.8/site-packages/textattack/loggers/csv_logger.py:41: FutureWarning: The frame.append method is deprecated and will be removed from pandas in a future version. Use pandas.concat instead.\n",
      "  self.df = self.df.append(row, ignore_index=True)\n",
      "\n",
      "[Succeeded / Failed / Skipped / Total] 60 / 7 / 2 / 69:  34%|███▍      | 69/200 [02:59<05:40,  2.60s/it]\u001b[A\n",
      "[Succeeded / Failed / Skipped / Total] 60 / 7 / 2 / 69:  35%|███▌      | 70/200 [02:59<05:33,  2.56s/it]\u001b[A/scratch/sp6646/envs_dirs/swap_env/lib/python3.8/site-packages/textattack/loggers/csv_logger.py:41: FutureWarning: The frame.append method is deprecated and will be removed from pandas in a future version. Use pandas.concat instead.\n",
      "  self.df = self.df.append(row, ignore_index=True)\n",
      "\n",
      "[Succeeded / Failed / Skipped / Total] 60 / 7 / 3 / 70:  35%|███▌      | 70/200 [02:59<05:33,  2.56s/it]\u001b[A"
     ]
    },
    {
     "name": "stdout",
     "output_type": "stream",
     "text": [
      "--------------------------------------------- Result 69 ---------------------------------------------\n",
      "[[Positive (99%)]] --> [[Negative (60%)]]\n",
      "\n",
      "[[good]] old-fashioned slash-and-hack is back ! \n",
      "\n",
      "[[guten]] old-fashioned slash-and-hack is back ! \n",
      "\n",
      "\n",
      "--------------------------------------------- Result 70 ---------------------------------------------\n",
      "[[Positive (53%)]] --> [[[SKIPPED]]]\n",
      "\n",
      "this one is definitely one to skip , even for horror movie fanatics . \n",
      "\n",
      "\n"
     ]
    },
    {
     "name": "stderr",
     "output_type": "stream",
     "text": [
      "/scratch/sp6646/envs_dirs/swap_env/lib/python3.8/site-packages/textattack/loggers/csv_logger.py:41: FutureWarning: The frame.append method is deprecated and will be removed from pandas in a future version. Use pandas.concat instead.\n",
      "  self.df = self.df.append(row, ignore_index=True)\n",
      "\n",
      "[Succeeded / Failed / Skipped / Total] 61 / 7 / 3 / 71:  36%|███▌      | 71/200 [03:01<05:29,  2.55s/it]\u001b[A"
     ]
    },
    {
     "name": "stdout",
     "output_type": "stream",
     "text": [
      "--------------------------------------------- Result 71 ---------------------------------------------\n",
      "[[Negative (99%)]] --> [[Positive (58%)]]\n",
      "\n",
      "for all its impressive craftsmanship , and despite an overbearing series of third-act crescendos , lily chou-chou never [[really]] builds up a head of emotional steam . \n",
      "\n",
      "for all its impressive craftsmanship , and despite an overbearing series of third-act crescendos , lily chou-chou never [[downright]] builds up a head of emotional steam . \n",
      "\n",
      "\n"
     ]
    },
    {
     "name": "stderr",
     "output_type": "stream",
     "text": [
      "\n",
      "[Succeeded / Failed / Skipped / Total] 61 / 7 / 3 / 71:  36%|███▌      | 72/200 [03:05<05:29,  2.58s/it]\u001b[A/scratch/sp6646/envs_dirs/swap_env/lib/python3.8/site-packages/textattack/loggers/csv_logger.py:41: FutureWarning: The frame.append method is deprecated and will be removed from pandas in a future version. Use pandas.concat instead.\n",
      "  self.df = self.df.append(row, ignore_index=True)\n",
      "\n",
      "[Succeeded / Failed / Skipped / Total] 62 / 7 / 3 / 72:  36%|███▌      | 72/200 [03:05<05:29,  2.58s/it]\u001b[A"
     ]
    },
    {
     "name": "stdout",
     "output_type": "stream",
     "text": [
      "--------------------------------------------- Result 72 ---------------------------------------------\n",
      "[[Positive (100%)]] --> [[Negative (76%)]]\n",
      "\n",
      "exquisitely nuanced in mood tics and dialogue , this chamber drama is [[superbly]] acted by the [[deeply]] appealing veteran bouquet and the [[chilling]] but [[quite]] [[human]] berling . \n",
      "\n",
      "exquisitely nuanced in mood tics and dialogue , this chamber drama is [[terribly]] acted by the [[profound]] appealing veteran bouquet and the [[gruesome]] but [[too]] [[humanist]] berling . \n",
      "\n",
      "\n"
     ]
    },
    {
     "name": "stderr",
     "output_type": "stream",
     "text": [
      "/scratch/sp6646/envs_dirs/swap_env/lib/python3.8/site-packages/textattack/loggers/csv_logger.py:41: FutureWarning: The frame.append method is deprecated and will be removed from pandas in a future version. Use pandas.concat instead.\n",
      "  self.df = self.df.append(row, ignore_index=True)\n",
      "\n",
      "[Succeeded / Failed / Skipped / Total] 63 / 7 / 3 / 73:  36%|███▋      | 73/200 [03:07<05:25,  2.57s/it]\u001b[A"
     ]
    },
    {
     "name": "stdout",
     "output_type": "stream",
     "text": [
      "--------------------------------------------- Result 73 ---------------------------------------------\n",
      "[[Positive (100%)]] --> [[Negative (96%)]]\n",
      "\n",
      "uses high [[comedy]] to evoke [[surprising]] poignance . \n",
      "\n",
      "uses high [[stuffing]] to evoke [[stun]] poignance . \n",
      "\n",
      "\n"
     ]
    },
    {
     "name": "stderr",
     "output_type": "stream",
     "text": [
      "\n",
      "[Succeeded / Failed / Skipped / Total] 63 / 7 / 3 / 73:  37%|███▋      | 74/200 [03:08<05:21,  2.55s/it]\u001b[A/scratch/sp6646/envs_dirs/swap_env/lib/python3.8/site-packages/textattack/loggers/csv_logger.py:41: FutureWarning: The frame.append method is deprecated and will be removed from pandas in a future version. Use pandas.concat instead.\n",
      "  self.df = self.df.append(row, ignore_index=True)\n",
      "\n",
      "[Succeeded / Failed / Skipped / Total] 64 / 7 / 3 / 74:  37%|███▋      | 74/200 [03:08<05:21,  2.55s/it]\u001b[A"
     ]
    },
    {
     "name": "stdout",
     "output_type": "stream",
     "text": [
      "--------------------------------------------- Result 74 ---------------------------------------------\n",
      "[[Positive (99%)]] --> [[Negative (75%)]]\n",
      "\n",
      "one of creepiest , [[scariest]] movies to come along in a long , long [[time]] , easily rivaling blair witch or the others . \n",
      "\n",
      "one of creepiest , [[horrifying]] movies to come along in a long , long [[dated]] , easily rivaling blair witch or the others . \n",
      "\n",
      "\n"
     ]
    },
    {
     "name": "stderr",
     "output_type": "stream",
     "text": [
      "/scratch/sp6646/envs_dirs/swap_env/lib/python3.8/site-packages/textattack/loggers/csv_logger.py:41: FutureWarning: The frame.append method is deprecated and will be removed from pandas in a future version. Use pandas.concat instead.\n",
      "  self.df = self.df.append(row, ignore_index=True)\n",
      "\n",
      "[Succeeded / Failed / Skipped / Total] 65 / 7 / 3 / 75:  38%|███▊      | 75/200 [03:10<05:17,  2.54s/it]\u001b[A"
     ]
    },
    {
     "name": "stdout",
     "output_type": "stream",
     "text": [
      "--------------------------------------------- Result 75 ---------------------------------------------\n",
      "[[Negative (100%)]] --> [[Positive (63%)]]\n",
      "\n",
      "a [[string]] of rehashed sight [[gags]] based in [[insipid]] vulgarity . \n",
      "\n",
      "a [[chord]] of rehashed sight [[hilarious]] based in [[harmless]] vulgarity . \n",
      "\n",
      "\n"
     ]
    },
    {
     "name": "stderr",
     "output_type": "stream",
     "text": [
      "\n",
      "[Succeeded / Failed / Skipped / Total] 65 / 7 / 3 / 75:  38%|███▊      | 76/200 [03:11<05:12,  2.52s/it]\u001b[A/scratch/sp6646/envs_dirs/swap_env/lib/python3.8/site-packages/textattack/loggers/csv_logger.py:41: FutureWarning: The frame.append method is deprecated and will be removed from pandas in a future version. Use pandas.concat instead.\n",
      "  self.df = self.df.append(row, ignore_index=True)\n",
      "\n",
      "[Succeeded / Failed / Skipped / Total] 66 / 7 / 3 / 76:  38%|███▊      | 76/200 [03:11<05:12,  2.52s/it]\u001b[A"
     ]
    },
    {
     "name": "stdout",
     "output_type": "stream",
     "text": [
      "--------------------------------------------- Result 76 ---------------------------------------------\n",
      "[[Positive (100%)]] --> [[Negative (100%)]]\n",
      "\n",
      "among the year 's most [[intriguing]] [[explorations]] of alientation . \n",
      "\n",
      "among the year 's most [[baffling]] [[crawling]] of alientation . \n",
      "\n",
      "\n"
     ]
    },
    {
     "name": "stderr",
     "output_type": "stream",
     "text": [
      "/scratch/sp6646/envs_dirs/swap_env/lib/python3.8/site-packages/textattack/loggers/csv_logger.py:41: FutureWarning: The frame.append method is deprecated and will be removed from pandas in a future version. Use pandas.concat instead.\n",
      "  self.df = self.df.append(row, ignore_index=True)\n",
      "\n",
      "[Succeeded / Failed / Skipped / Total] 67 / 7 / 3 / 77:  38%|███▊      | 77/200 [03:12<05:07,  2.50s/it]\u001b[A"
     ]
    },
    {
     "name": "stdout",
     "output_type": "stream",
     "text": [
      "--------------------------------------------- Result 77 ---------------------------------------------\n",
      "[[Negative (100%)]] --> [[Positive (98%)]]\n",
      "\n",
      "the movie [[fails]] to live up to the sum of its parts . \n",
      "\n",
      "the movie [[overlooking]] to live up to the sum of its parts . \n",
      "\n",
      "\n"
     ]
    },
    {
     "name": "stderr",
     "output_type": "stream",
     "text": [
      "\n",
      "[Succeeded / Failed / Skipped / Total] 67 / 7 / 3 / 77:  39%|███▉      | 78/200 [03:13<05:02,  2.48s/it]\u001b[A/scratch/sp6646/envs_dirs/swap_env/lib/python3.8/site-packages/textattack/loggers/csv_logger.py:41: FutureWarning: The frame.append method is deprecated and will be removed from pandas in a future version. Use pandas.concat instead.\n",
      "  self.df = self.df.append(row, ignore_index=True)\n",
      "\n",
      "[Succeeded / Failed / Skipped / Total] 68 / 7 / 3 / 78:  39%|███▉      | 78/200 [03:13<05:03,  2.48s/it]\u001b[A"
     ]
    },
    {
     "name": "stdout",
     "output_type": "stream",
     "text": [
      "--------------------------------------------- Result 78 ---------------------------------------------\n",
      "[[Positive (99%)]] --> [[Negative (67%)]]\n",
      "\n",
      "the son 's room is a [[triumph]] of gentility that [[earns]] its moments of pathos . \n",
      "\n",
      "the son 's room is a [[sieg]] of gentility that [[earning]] its moments of pathos . \n",
      "\n",
      "\n"
     ]
    },
    {
     "name": "stderr",
     "output_type": "stream",
     "text": [
      "/scratch/sp6646/envs_dirs/swap_env/lib/python3.8/site-packages/textattack/loggers/csv_logger.py:41: FutureWarning: The frame.append method is deprecated and will be removed from pandas in a future version. Use pandas.concat instead.\n",
      "  self.df = self.df.append(row, ignore_index=True)\n",
      "\n",
      "[Succeeded / Failed / Skipped / Total] 68 / 8 / 3 / 79:  40%|███▉      | 79/200 [03:16<05:00,  2.49s/it]\u001b[A"
     ]
    },
    {
     "name": "stdout",
     "output_type": "stream",
     "text": [
      "--------------------------------------------- Result 79 ---------------------------------------------\n",
      "[[Positive (100%)]] --> [[[FAILED]]]\n",
      "\n",
      "there is nothing outstanding about this film , but it is good enough and will likely be appreciated most by sailors and folks who know their way around a submarine . \n",
      "\n",
      "\n"
     ]
    },
    {
     "name": "stderr",
     "output_type": "stream",
     "text": [
      "\n",
      "[Succeeded / Failed / Skipped / Total] 68 / 8 / 3 / 79:  40%|████      | 80/200 [03:19<04:58,  2.49s/it]\u001b[A/scratch/sp6646/envs_dirs/swap_env/lib/python3.8/site-packages/textattack/loggers/csv_logger.py:41: FutureWarning: The frame.append method is deprecated and will be removed from pandas in a future version. Use pandas.concat instead.\n",
      "  self.df = self.df.append(row, ignore_index=True)\n",
      "\n",
      "[Succeeded / Failed / Skipped / Total] 69 / 8 / 3 / 80:  40%|████      | 80/200 [03:19<04:58,  2.49s/it]\u001b[A"
     ]
    },
    {
     "name": "stdout",
     "output_type": "stream",
     "text": [
      "--------------------------------------------- Result 80 ---------------------------------------------\n",
      "[[Negative (100%)]] --> [[Positive (72%)]]\n",
      "\n",
      "this is a [[train]] [[wreck]] of an action film -- a stupefying [[attempt]] by the filmmakers to force-feed james bond into the mindless xxx mold and throw 40 years of cinematic history down the [[toilet]] in [[favor]] of bright flashes and loud bangs . \n",
      "\n",
      "this is a [[trains]] [[obliterating]] of an action film -- a stupefying [[aspires]] by the filmmakers to force-feed james bond into the mindless xxx mold and throw 40 years of cinematic history down the [[bidets]] in [[positives]] of bright flashes and loud bangs . \n",
      "\n",
      "\n"
     ]
    },
    {
     "name": "stderr",
     "output_type": "stream",
     "text": [
      "/scratch/sp6646/envs_dirs/swap_env/lib/python3.8/site-packages/textattack/loggers/csv_logger.py:41: FutureWarning: The frame.append method is deprecated and will be removed from pandas in a future version. Use pandas.concat instead.\n",
      "  self.df = self.df.append(row, ignore_index=True)\n",
      "\n",
      "[Succeeded / Failed / Skipped / Total] 70 / 8 / 3 / 81:  40%|████      | 81/200 [03:19<04:53,  2.47s/it]\u001b[A"
     ]
    },
    {
     "name": "stdout",
     "output_type": "stream",
     "text": [
      "--------------------------------------------- Result 81 ---------------------------------------------\n",
      "[[Positive (100%)]] --> [[Negative (55%)]]\n",
      "\n",
      "the draw ( for `` big bad love '' ) is a [[solid]] performance by arliss howard . \n",
      "\n",
      "the draw ( for `` big bad love '' ) is a [[audio]] performance by arliss howard . \n",
      "\n",
      "\n"
     ]
    },
    {
     "name": "stderr",
     "output_type": "stream",
     "text": [
      "\n",
      "[Succeeded / Failed / Skipped / Total] 70 / 8 / 3 / 81:  41%|████      | 82/200 [03:22<04:51,  2.47s/it]\u001b[A/scratch/sp6646/envs_dirs/swap_env/lib/python3.8/site-packages/textattack/loggers/csv_logger.py:41: FutureWarning: The frame.append method is deprecated and will be removed from pandas in a future version. Use pandas.concat instead.\n",
      "  self.df = self.df.append(row, ignore_index=True)\n",
      "\n",
      "[Succeeded / Failed / Skipped / Total] 70 / 9 / 3 / 82:  41%|████      | 82/200 [03:22<04:51,  2.47s/it]\u001b[A"
     ]
    },
    {
     "name": "stdout",
     "output_type": "stream",
     "text": [
      "--------------------------------------------- Result 82 ---------------------------------------------\n",
      "[[Negative (99%)]] --> [[[FAILED]]]\n",
      "\n",
      "green might want to hang onto that ski mask , as robbery may be the only way to pay for his next project . \n",
      "\n",
      "\n"
     ]
    },
    {
     "name": "stderr",
     "output_type": "stream",
     "text": [
      "/scratch/sp6646/envs_dirs/swap_env/lib/python3.8/site-packages/textattack/loggers/csv_logger.py:41: FutureWarning: The frame.append method is deprecated and will be removed from pandas in a future version. Use pandas.concat instead.\n",
      "  self.df = self.df.append(row, ignore_index=True)\n",
      "\n",
      "[Succeeded / Failed / Skipped / Total] 71 / 9 / 3 / 83:  42%|████▏     | 83/200 [03:24<04:48,  2.46s/it]\u001b[A\n",
      "[Succeeded / Failed / Skipped / Total] 71 / 9 / 3 / 83:  42%|████▏     | 84/200 [03:24<04:42,  2.43s/it]\u001b[A/scratch/sp6646/envs_dirs/swap_env/lib/python3.8/site-packages/textattack/loggers/csv_logger.py:41: FutureWarning: The frame.append method is deprecated and will be removed from pandas in a future version. Use pandas.concat instead.\n",
      "  self.df = self.df.append(row, ignore_index=True)\n",
      "\n",
      "[Succeeded / Failed / Skipped / Total] 71 / 9 / 4 / 84:  42%|████▏     | 84/200 [03:24<04:42,  2.43s/it]\u001b[A"
     ]
    },
    {
     "name": "stdout",
     "output_type": "stream",
     "text": [
      "--------------------------------------------- Result 83 ---------------------------------------------\n",
      "[[Negative (96%)]] --> [[Positive (90%)]]\n",
      "\n",
      "it 's one pussy-ass [[world]] when even killer-thrillers [[revolve]] around [[group]] [[therapy]] [[sessions]] . \n",
      "\n",
      "it 's one pussy-ass [[orb]] when even killer-thrillers [[twisting]] around [[gatherings]] [[treat]] [[seated]] . \n",
      "\n",
      "\n",
      "--------------------------------------------- Result 84 ---------------------------------------------\n",
      "[[Negative (65%)]] --> [[[SKIPPED]]]\n",
      "\n",
      "though it 's become almost redundant to say so , major kudos go to leigh for actually casting people who look working-class . \n",
      "\n",
      "\n"
     ]
    },
    {
     "name": "stderr",
     "output_type": "stream",
     "text": [
      "/scratch/sp6646/envs_dirs/swap_env/lib/python3.8/site-packages/textattack/loggers/csv_logger.py:41: FutureWarning: The frame.append method is deprecated and will be removed from pandas in a future version. Use pandas.concat instead.\n",
      "  self.df = self.df.append(row, ignore_index=True)\n",
      "\n",
      "[Succeeded / Failed / Skipped / Total] 72 / 9 / 4 / 85:  42%|████▎     | 85/200 [03:25<04:37,  2.42s/it]\u001b[A"
     ]
    },
    {
     "name": "stdout",
     "output_type": "stream",
     "text": [
      "--------------------------------------------- Result 85 ---------------------------------------------\n",
      "[[Positive (100%)]] --> [[Negative (73%)]]\n",
      "\n",
      "the band 's [[courage]] in the face of official repression is [[inspiring]] , especially for aging hippies ( this one included ) . \n",
      "\n",
      "the band 's [[plucky]] in the face of official repression is [[encourages]] , especially for aging hippies ( this one included ) . \n",
      "\n",
      "\n"
     ]
    },
    {
     "name": "stderr",
     "output_type": "stream",
     "text": [
      "\n",
      "[Succeeded / Failed / Skipped / Total] 72 / 9 / 4 / 85:  43%|████▎     | 86/200 [03:26<04:33,  2.40s/it]\u001b[A/scratch/sp6646/envs_dirs/swap_env/lib/python3.8/site-packages/textattack/loggers/csv_logger.py:41: FutureWarning: The frame.append method is deprecated and will be removed from pandas in a future version. Use pandas.concat instead.\n",
      "  self.df = self.df.append(row, ignore_index=True)\n",
      "\n",
      "[Succeeded / Failed / Skipped / Total] 73 / 9 / 4 / 86:  43%|████▎     | 86/200 [03:26<04:33,  2.40s/it]\u001b[A"
     ]
    },
    {
     "name": "stdout",
     "output_type": "stream",
     "text": [
      "--------------------------------------------- Result 86 ---------------------------------------------\n",
      "[[Positive (99%)]] --> [[Negative (83%)]]\n",
      "\n",
      "the movie [[achieves]] as [[great]] an impact by keeping these [[thoughts]] hidden as ... ( quills ) did by showing them . \n",
      "\n",
      "the movie [[perceives]] as [[prodigious]] an impact by keeping these [[idea]] hidden as ... ( quills ) did by showing them . \n",
      "\n",
      "\n"
     ]
    },
    {
     "name": "stderr",
     "output_type": "stream",
     "text": [
      "/scratch/sp6646/envs_dirs/swap_env/lib/python3.8/site-packages/textattack/loggers/csv_logger.py:41: FutureWarning: The frame.append method is deprecated and will be removed from pandas in a future version. Use pandas.concat instead.\n",
      "  self.df = self.df.append(row, ignore_index=True)\n",
      "\n",
      "[Succeeded / Failed / Skipped / Total] 74 / 9 / 4 / 87:  44%|████▎     | 87/200 [03:27<04:29,  2.38s/it]\u001b[A\n",
      "[Succeeded / Failed / Skipped / Total] 74 / 9 / 4 / 87:  44%|████▍     | 88/200 [03:27<04:23,  2.36s/it]\u001b[A/scratch/sp6646/envs_dirs/swap_env/lib/python3.8/site-packages/textattack/loggers/csv_logger.py:41: FutureWarning: The frame.append method is deprecated and will be removed from pandas in a future version. Use pandas.concat instead.\n",
      "  self.df = self.df.append(row, ignore_index=True)\n",
      "\n",
      "[Succeeded / Failed / Skipped / Total] 74 / 9 / 5 / 88:  44%|████▍     | 88/200 [03:27<04:24,  2.36s/it]\u001b[A"
     ]
    },
    {
     "name": "stdout",
     "output_type": "stream",
     "text": [
      "--------------------------------------------- Result 87 ---------------------------------------------\n",
      "[[Negative (100%)]] --> [[Positive (65%)]]\n",
      "\n",
      "the film [[flat]] lines when it should peak and is more [[missed]] opportunity and trifle than dark , decadent truffle . \n",
      "\n",
      "the film [[stable]] lines when it should peak and is more [[outof]] opportunity and trifle than dark , decadent truffle . \n",
      "\n",
      "\n",
      "--------------------------------------------- Result 88 ---------------------------------------------\n",
      "[[Negative (84%)]] --> [[[SKIPPED]]]\n",
      "\n",
      "jaglom ... put ( s ) the audience in the privileged position of eavesdropping on his characters \n",
      "\n",
      "\n"
     ]
    },
    {
     "name": "stderr",
     "output_type": "stream",
     "text": [
      "/scratch/sp6646/envs_dirs/swap_env/lib/python3.8/site-packages/textattack/loggers/csv_logger.py:41: FutureWarning: The frame.append method is deprecated and will be removed from pandas in a future version. Use pandas.concat instead.\n",
      "  self.df = self.df.append(row, ignore_index=True)\n",
      "\n",
      "[Succeeded / Failed / Skipped / Total] 75 / 9 / 5 / 89:  44%|████▍     | 89/200 [03:28<04:19,  2.34s/it]\u001b[A"
     ]
    },
    {
     "name": "stdout",
     "output_type": "stream",
     "text": [
      "--------------------------------------------- Result 89 ---------------------------------------------\n",
      "[[Positive (97%)]] --> [[Negative (59%)]]\n",
      "\n",
      "fresnadillo 's dark and jolting images have a [[way]] of plying into your subconscious like the nightmare you had a week ago that wo n't go away . \n",
      "\n",
      "fresnadillo 's dark and jolting images have a [[routed]] of plying into your subconscious like the nightmare you had a week ago that wo n't go away . \n",
      "\n",
      "\n"
     ]
    },
    {
     "name": "stderr",
     "output_type": "stream",
     "text": [
      "\n",
      "[Succeeded / Failed / Skipped / Total] 75 / 9 / 5 / 89:  45%|████▌     | 90/200 [03:29<04:16,  2.33s/it]\u001b[A/scratch/sp6646/envs_dirs/swap_env/lib/python3.8/site-packages/textattack/loggers/csv_logger.py:41: FutureWarning: The frame.append method is deprecated and will be removed from pandas in a future version. Use pandas.concat instead.\n",
      "  self.df = self.df.append(row, ignore_index=True)\n",
      "\n",
      "[Succeeded / Failed / Skipped / Total] 76 / 9 / 5 / 90:  45%|████▌     | 90/200 [03:29<04:16,  2.33s/it]\u001b[A"
     ]
    },
    {
     "name": "stdout",
     "output_type": "stream",
     "text": [
      "--------------------------------------------- Result 90 ---------------------------------------------\n",
      "[[Positive (99%)]] --> [[Negative (99%)]]\n",
      "\n",
      "we know the plot 's a little [[crazy]] , but it [[held]] my interest from start to finish . \n",
      "\n",
      "we know the plot 's a little [[madman]] , but it [[chocks]] my interest from start to finish . \n",
      "\n",
      "\n"
     ]
    },
    {
     "name": "stderr",
     "output_type": "stream",
     "text": [
      "/scratch/sp6646/envs_dirs/swap_env/lib/python3.8/site-packages/textattack/loggers/csv_logger.py:41: FutureWarning: The frame.append method is deprecated and will be removed from pandas in a future version. Use pandas.concat instead.\n",
      "  self.df = self.df.append(row, ignore_index=True)\n",
      "\n",
      "[Succeeded / Failed / Skipped / Total] 77 / 9 / 5 / 91:  46%|████▌     | 91/200 [03:30<04:12,  2.32s/it]\u001b[A"
     ]
    },
    {
     "name": "stdout",
     "output_type": "stream",
     "text": [
      "--------------------------------------------- Result 91 ---------------------------------------------\n",
      "[[Positive (100%)]] --> [[Negative (94%)]]\n",
      "\n",
      "it 's a scattershot affair , but when it [[hits]] its mark it 's [[brilliant]] . \n",
      "\n",
      "it 's a scattershot affair , but when it [[lesions]] its mark it 's [[grandiose]] . \n",
      "\n",
      "\n"
     ]
    },
    {
     "name": "stderr",
     "output_type": "stream",
     "text": [
      "\n",
      "[Succeeded / Failed / Skipped / Total] 77 / 9 / 5 / 91:  46%|████▌     | 92/200 [03:33<04:10,  2.32s/it]\u001b[A/scratch/sp6646/envs_dirs/swap_env/lib/python3.8/site-packages/textattack/loggers/csv_logger.py:41: FutureWarning: The frame.append method is deprecated and will be removed from pandas in a future version. Use pandas.concat instead.\n",
      "  self.df = self.df.append(row, ignore_index=True)\n",
      "\n",
      "[Succeeded / Failed / Skipped / Total] 78 / 9 / 5 / 92:  46%|████▌     | 92/200 [03:33<04:10,  2.32s/it]\u001b[A/scratch/sp6646/envs_dirs/swap_env/lib/python3.8/site-packages/textattack/loggers/csv_logger.py:41: FutureWarning: The frame.append method is deprecated and will be removed from pandas in a future version. Use pandas.concat instead.\n",
      "  self.df = self.df.append(row, ignore_index=True)\n",
      "\n",
      "[Succeeded / Failed / Skipped / Total] 78 / 9 / 6 / 93:  46%|████▋     | 93/200 [03:33<04:05,  2.29s/it]\u001b[A"
     ]
    },
    {
     "name": "stdout",
     "output_type": "stream",
     "text": [
      "--------------------------------------------- Result 92 ---------------------------------------------\n",
      "[[Positive (100%)]] --> [[Negative (80%)]]\n",
      "\n",
      "hardly a [[masterpiece]] , but it [[introduces]] [[viewers]] to a [[good]] charitable [[enterprise]] and some [[interesting]] real people . \n",
      "\n",
      "hardly a [[mainstay]] , but it [[contained]] [[bystanders]] to a [[useful]] charitable [[undertaken]] and some [[outlandish]] real people . \n",
      "\n",
      "\n",
      "--------------------------------------------- Result 93 ---------------------------------------------\n",
      "[[Positive (99%)]] --> [[[SKIPPED]]]\n",
      "\n",
      "you wo n't like roger , but you will quickly recognize him . \n",
      "\n",
      "\n"
     ]
    },
    {
     "name": "stderr",
     "output_type": "stream",
     "text": [
      "\n",
      "[Succeeded / Failed / Skipped / Total] 78 / 9 / 6 / 93:  47%|████▋     | 94/200 [03:34<04:01,  2.28s/it]\u001b[A/scratch/sp6646/envs_dirs/swap_env/lib/python3.8/site-packages/textattack/loggers/csv_logger.py:41: FutureWarning: The frame.append method is deprecated and will be removed from pandas in a future version. Use pandas.concat instead.\n",
      "  self.df = self.df.append(row, ignore_index=True)\n",
      "\n",
      "[Succeeded / Failed / Skipped / Total] 79 / 9 / 6 / 94:  47%|████▋     | 94/200 [03:34<04:01,  2.28s/it]\u001b[A"
     ]
    },
    {
     "name": "stdout",
     "output_type": "stream",
     "text": [
      "--------------------------------------------- Result 94 ---------------------------------------------\n",
      "[[Positive (61%)]] --> [[Negative (100%)]]\n",
      "\n",
      "if steven soderbergh 's ` solaris ' is a failure it is a [[glorious]] failure . \n",
      "\n",
      "if steven soderbergh 's ` solaris ' is a failure it is a [[leggy]] failure . \n",
      "\n",
      "\n"
     ]
    },
    {
     "name": "stderr",
     "output_type": "stream",
     "text": [
      "/scratch/sp6646/envs_dirs/swap_env/lib/python3.8/site-packages/textattack/loggers/csv_logger.py:41: FutureWarning: The frame.append method is deprecated and will be removed from pandas in a future version. Use pandas.concat instead.\n",
      "  self.df = self.df.append(row, ignore_index=True)\n",
      "\n",
      "[Succeeded / Failed / Skipped / Total] 80 / 9 / 6 / 95:  48%|████▊     | 95/200 [03:35<03:58,  2.27s/it]\u001b[A\n",
      "[Succeeded / Failed / Skipped / Total] 80 / 9 / 6 / 95:  48%|████▊     | 96/200 [03:35<03:53,  2.25s/it]\u001b[A/scratch/sp6646/envs_dirs/swap_env/lib/python3.8/site-packages/textattack/loggers/csv_logger.py:41: FutureWarning: The frame.append method is deprecated and will be removed from pandas in a future version. Use pandas.concat instead.\n",
      "  self.df = self.df.append(row, ignore_index=True)\n",
      "\n",
      "[Succeeded / Failed / Skipped / Total] 80 / 9 / 7 / 96:  48%|████▊     | 96/200 [03:35<03:53,  2.25s/it]\u001b[A"
     ]
    },
    {
     "name": "stdout",
     "output_type": "stream",
     "text": [
      "--------------------------------------------- Result 95 ---------------------------------------------\n",
      "[[Positive (100%)]] --> [[Negative (79%)]]\n",
      "\n",
      "byler [[reveals]] his characters in a way that intrigues and even fascinates us , and he never [[reduces]] the [[situation]] to simple melodrama . \n",
      "\n",
      "byler [[betrays]] his characters in a way that intrigues and even fascinates us , and he never [[abate]] the [[predicament]] to simple melodrama . \n",
      "\n",
      "\n",
      "--------------------------------------------- Result 96 ---------------------------------------------\n",
      "[[Positive (99%)]] --> [[[SKIPPED]]]\n",
      "\n",
      "this riveting world war ii moral suspense story deals with the shadow side of american culture : racial prejudice in its ugly and diverse forms . \n",
      "\n",
      "\n"
     ]
    },
    {
     "name": "stderr",
     "output_type": "stream",
     "text": [
      "/scratch/sp6646/envs_dirs/swap_env/lib/python3.8/site-packages/textattack/loggers/csv_logger.py:41: FutureWarning: The frame.append method is deprecated and will be removed from pandas in a future version. Use pandas.concat instead.\n",
      "  self.df = self.df.append(row, ignore_index=True)\n",
      "\n",
      "[Succeeded / Failed / Skipped / Total] 81 / 9 / 7 / 97:  48%|████▊     | 97/200 [03:37<03:50,  2.24s/it]\u001b[A"
     ]
    },
    {
     "name": "stdout",
     "output_type": "stream",
     "text": [
      "--------------------------------------------- Result 97 ---------------------------------------------\n",
      "[[Negative (98%)]] --> [[Positive (52%)]]\n",
      "\n",
      "it 's difficult to imagine the process that produced such a script , but here 's guessing that spray cheese and [[underarm]] [[noises]] [[played]] a crucial role . \n",
      "\n",
      "it 's difficult to imagine the process that produced such a script , but here 's guessing that spray cheese and [[armpits]] [[resonant]] [[performed]] a crucial role . \n",
      "\n",
      "\n"
     ]
    },
    {
     "name": "stderr",
     "output_type": "stream",
     "text": [
      "\n",
      "[Succeeded / Failed / Skipped / Total] 81 / 9 / 7 / 97:  49%|████▉     | 98/200 [03:38<03:47,  2.23s/it]\u001b[A/scratch/sp6646/envs_dirs/swap_env/lib/python3.8/site-packages/textattack/loggers/csv_logger.py:41: FutureWarning: The frame.append method is deprecated and will be removed from pandas in a future version. Use pandas.concat instead.\n",
      "  self.df = self.df.append(row, ignore_index=True)\n",
      "\n",
      "[Succeeded / Failed / Skipped / Total] 82 / 9 / 7 / 98:  49%|████▉     | 98/200 [03:38<03:47,  2.23s/it]\u001b[A"
     ]
    },
    {
     "name": "stdout",
     "output_type": "stream",
     "text": [
      "--------------------------------------------- Result 98 ---------------------------------------------\n",
      "[[Positive (99%)]] --> [[Negative (61%)]]\n",
      "\n",
      "no sophomore [[slump]] for director sam mendes , who segues from oscar winner to oscar-winning potential with a [[smooth]] sleight of hand . \n",
      "\n",
      "no sophomore [[downturn]] for director sam mendes , who segues from oscar winner to oscar-winning potential with a [[irreproachable]] sleight of hand . \n",
      "\n",
      "\n"
     ]
    },
    {
     "name": "stderr",
     "output_type": "stream",
     "text": [
      "/scratch/sp6646/envs_dirs/swap_env/lib/python3.8/site-packages/textattack/loggers/csv_logger.py:41: FutureWarning: The frame.append method is deprecated and will be removed from pandas in a future version. Use pandas.concat instead.\n",
      "  self.df = self.df.append(row, ignore_index=True)\n",
      "\n",
      "[Succeeded / Failed / Skipped / Total] 83 / 9 / 7 / 99:  50%|████▉     | 99/200 [03:39<03:43,  2.22s/it]\u001b[A"
     ]
    },
    {
     "name": "stdout",
     "output_type": "stream",
     "text": [
      "--------------------------------------------- Result 99 ---------------------------------------------\n",
      "[[Negative (100%)]] --> [[Positive (64%)]]\n",
      "\n",
      "on the whole , the movie [[lacks]] wit , feeling and believability to compensate for its incessant coarseness and banality . \n",
      "\n",
      "on the whole , the movie [[inadequacy]] wit , feeling and believability to compensate for its incessant coarseness and banality . \n",
      "\n",
      "\n"
     ]
    },
    {
     "name": "stderr",
     "output_type": "stream",
     "text": [
      "\n",
      "[Succeeded / Failed / Skipped / Total] 83 / 9 / 7 / 99:  50%|█████     | 100/200 [03:41<03:41,  2.22s/it]\u001b[A/scratch/sp6646/envs_dirs/swap_env/lib/python3.8/site-packages/textattack/loggers/csv_logger.py:41: FutureWarning: The frame.append method is deprecated and will be removed from pandas in a future version. Use pandas.concat instead.\n",
      "  self.df = self.df.append(row, ignore_index=True)\n",
      "\n",
      "[Succeeded / Failed / Skipped / Total] 84 / 9 / 7 / 100:  50%|█████     | 100/200 [03:41<03:41,  2.22s/it]\u001b[A"
     ]
    },
    {
     "name": "stdout",
     "output_type": "stream",
     "text": [
      "--------------------------------------------- Result 100 ---------------------------------------------\n",
      "[[Negative (99%)]] --> [[Positive (64%)]]\n",
      "\n",
      "why [[make]] a [[documentary]] about these [[marginal]] [[historical]] [[figures]] ? \n",
      "\n",
      "why [[brings]] a [[document]] about these [[petite]] [[retrospect]] [[silhouette]] ? \n",
      "\n",
      "\n"
     ]
    },
    {
     "name": "stderr",
     "output_type": "stream",
     "text": [
      "/scratch/sp6646/envs_dirs/swap_env/lib/python3.8/site-packages/textattack/loggers/csv_logger.py:41: FutureWarning: The frame.append method is deprecated and will be removed from pandas in a future version. Use pandas.concat instead.\n",
      "  self.df = self.df.append(row, ignore_index=True)\n",
      "\n",
      "[Succeeded / Failed / Skipped / Total] 85 / 9 / 7 / 101:  50%|█████     | 101/200 [03:43<03:39,  2.22s/it]\u001b[A"
     ]
    },
    {
     "name": "stdout",
     "output_type": "stream",
     "text": [
      "--------------------------------------------- Result 101 ---------------------------------------------\n",
      "[[Positive (100%)]] --> [[Negative (75%)]]\n",
      "\n",
      "neither parker nor donovan is a typical romantic lead , but they [[bring]] a fresh , [[quirky]] [[charm]] to the formula . \n",
      "\n",
      "neither parker nor donovan is a typical romantic lead , but they [[assumes]] a fresh , [[oddball]] [[tempt]] to the formula . \n",
      "\n",
      "\n"
     ]
    },
    {
     "name": "stderr",
     "output_type": "stream",
     "text": [
      "\n",
      "[Succeeded / Failed / Skipped / Total] 85 / 9 / 7 / 101:  51%|█████     | 102/200 [03:44<03:35,  2.20s/it]\u001b[A/scratch/sp6646/envs_dirs/swap_env/lib/python3.8/site-packages/textattack/loggers/csv_logger.py:41: FutureWarning: The frame.append method is deprecated and will be removed from pandas in a future version. Use pandas.concat instead.\n",
      "  self.df = self.df.append(row, ignore_index=True)\n",
      "\n",
      "[Succeeded / Failed / Skipped / Total] 86 / 9 / 7 / 102:  51%|█████     | 102/200 [03:44<03:35,  2.20s/it]\u001b[A"
     ]
    },
    {
     "name": "stdout",
     "output_type": "stream",
     "text": [
      "--------------------------------------------- Result 102 ---------------------------------------------\n",
      "[[Negative (100%)]] --> [[Positive (89%)]]\n",
      "\n",
      "his last movie was poetically romantic and full of indelible images , but his latest has nothing [[going]] for it . \n",
      "\n",
      "his last movie was poetically romantic and full of indelible images , but his latest has nothing [[relinquishing]] for it . \n",
      "\n",
      "\n"
     ]
    },
    {
     "name": "stderr",
     "output_type": "stream",
     "text": [
      "/scratch/sp6646/envs_dirs/swap_env/lib/python3.8/site-packages/textattack/loggers/csv_logger.py:41: FutureWarning: The frame.append method is deprecated and will be removed from pandas in a future version. Use pandas.concat instead.\n",
      "  self.df = self.df.append(row, ignore_index=True)\n",
      "\n",
      "[Succeeded / Failed / Skipped / Total] 87 / 9 / 7 / 103:  52%|█████▏    | 103/200 [03:45<03:32,  2.19s/it]\u001b[A"
     ]
    },
    {
     "name": "stdout",
     "output_type": "stream",
     "text": [
      "--------------------------------------------- Result 103 ---------------------------------------------\n",
      "[[Positive (98%)]] --> [[Negative (97%)]]\n",
      "\n",
      "does paint some memorable images ... , but makhmalbaf [[keeps]] her [[distance]] from the characters \n",
      "\n",
      "does paint some memorable images ... , but makhmalbaf [[guardsman]] her [[alienation]] from the characters \n",
      "\n",
      "\n"
     ]
    },
    {
     "name": "stderr",
     "output_type": "stream",
     "text": [
      "\n",
      "[Succeeded / Failed / Skipped / Total] 87 / 9 / 7 / 103:  52%|█████▏    | 104/200 [03:46<03:29,  2.18s/it]\u001b[A/scratch/sp6646/envs_dirs/swap_env/lib/python3.8/site-packages/textattack/loggers/csv_logger.py:41: FutureWarning: The frame.append method is deprecated and will be removed from pandas in a future version. Use pandas.concat instead.\n",
      "  self.df = self.df.append(row, ignore_index=True)\n",
      "\n",
      "[Succeeded / Failed / Skipped / Total] 88 / 9 / 7 / 104:  52%|█████▏    | 104/200 [03:46<03:29,  2.18s/it]\u001b[A"
     ]
    },
    {
     "name": "stdout",
     "output_type": "stream",
     "text": [
      "--------------------------------------------- Result 104 ---------------------------------------------\n",
      "[[Positive (100%)]] --> [[Negative (96%)]]\n",
      "\n",
      "a [[gripping]] movie , [[played]] with performances that are all understated and touching . \n",
      "\n",
      "a [[hallucinatory]] movie , [[suffered]] with performances that are all understated and touching . \n",
      "\n",
      "\n"
     ]
    },
    {
     "name": "stderr",
     "output_type": "stream",
     "text": [
      "/scratch/sp6646/envs_dirs/swap_env/lib/python3.8/site-packages/textattack/loggers/csv_logger.py:41: FutureWarning: The frame.append method is deprecated and will be removed from pandas in a future version. Use pandas.concat instead.\n",
      "  self.df = self.df.append(row, ignore_index=True)\n",
      "\n",
      "[Succeeded / Failed / Skipped / Total] 89 / 9 / 7 / 105:  52%|█████▎    | 105/200 [03:48<03:26,  2.18s/it]\u001b[A"
     ]
    },
    {
     "name": "stdout",
     "output_type": "stream",
     "text": [
      "--------------------------------------------- Result 105 ---------------------------------------------\n",
      "[[Positive (96%)]] --> [[Negative (69%)]]\n",
      "\n",
      "it 's one of those baseball pictures where the hero is stoic , the wife is patient , the kids are as [[cute]] as all get-out and the odds against success are long enough to intimidate , but short enough to [[make]] a dream seem possible . \n",
      "\n",
      "it 's one of those baseball pictures where the hero is stoic , the wife is patient , the kids are as [[mignon]] as all get-out and the odds against success are long enough to intimidate , but short enough to [[translating]] a dream seem possible . \n",
      "\n",
      "\n"
     ]
    },
    {
     "name": "stderr",
     "output_type": "stream",
     "text": [
      "\n",
      "[Succeeded / Failed / Skipped / Total] 89 / 9 / 7 / 105:  53%|█████▎    | 106/200 [03:50<03:24,  2.17s/it]\u001b[A/scratch/sp6646/envs_dirs/swap_env/lib/python3.8/site-packages/textattack/loggers/csv_logger.py:41: FutureWarning: The frame.append method is deprecated and will be removed from pandas in a future version. Use pandas.concat instead.\n",
      "  self.df = self.df.append(row, ignore_index=True)\n",
      "\n",
      "[Succeeded / Failed / Skipped / Total] 90 / 9 / 7 / 106:  53%|█████▎    | 106/200 [03:50<03:24,  2.17s/it]\u001b[A"
     ]
    },
    {
     "name": "stdout",
     "output_type": "stream",
     "text": [
      "--------------------------------------------- Result 106 ---------------------------------------------\n",
      "[[Negative (98%)]] --> [[Positive (61%)]]\n",
      "\n",
      "combining quick-cut [[editing]] and a blaring heavy metal much of the time , beck [[seems]] to [[be]] under the [[illusion]] that he 's shooting the latest system of a down video . \n",
      "\n",
      "combining quick-cut [[changing]] and a blaring heavy metal much of the time , beck [[listens]] to [[represented]] under the [[delirium]] that he 's shooting the latest system of a down video . \n",
      "\n",
      "\n"
     ]
    },
    {
     "name": "stderr",
     "output_type": "stream",
     "text": [
      "/scratch/sp6646/envs_dirs/swap_env/lib/python3.8/site-packages/textattack/loggers/csv_logger.py:41: FutureWarning: The frame.append method is deprecated and will be removed from pandas in a future version. Use pandas.concat instead.\n",
      "  self.df = self.df.append(row, ignore_index=True)\n",
      "\n",
      "[Succeeded / Failed / Skipped / Total] 91 / 9 / 7 / 107:  54%|█████▎    | 107/200 [03:50<03:20,  2.16s/it]\u001b[A"
     ]
    },
    {
     "name": "stdout",
     "output_type": "stream",
     "text": [
      "--------------------------------------------- Result 107 ---------------------------------------------\n",
      "[[Positive (100%)]] --> [[Negative (95%)]]\n",
      "\n",
      "the movie 's relatively simple plot and uncomplicated morality play [[well]] with the affable cast . \n",
      "\n",
      "the movie 's relatively simple plot and uncomplicated morality play [[even]] with the affable cast . \n",
      "\n",
      "\n"
     ]
    },
    {
     "name": "stderr",
     "output_type": "stream",
     "text": [
      "\n",
      "[Succeeded / Failed / Skipped / Total] 91 / 9 / 7 / 107:  54%|█████▍    | 108/200 [03:51<03:17,  2.14s/it]\u001b[A/scratch/sp6646/envs_dirs/swap_env/lib/python3.8/site-packages/textattack/loggers/csv_logger.py:41: FutureWarning: The frame.append method is deprecated and will be removed from pandas in a future version. Use pandas.concat instead.\n",
      "  self.df = self.df.append(row, ignore_index=True)\n",
      "\n",
      "[Succeeded / Failed / Skipped / Total] 92 / 9 / 7 / 108:  54%|█████▍    | 108/200 [03:51<03:17,  2.14s/it]\u001b[A"
     ]
    },
    {
     "name": "stdout",
     "output_type": "stream",
     "text": [
      "--------------------------------------------- Result 108 ---------------------------------------------\n",
      "[[Negative (100%)]] --> [[Positive (51%)]]\n",
      "\n",
      "what the director ca n't [[do]] is make either of val kilmer 's two [[personas]] interesting or worth caring about . \n",
      "\n",
      "what the director ca n't [[suis]] is make either of val kilmer 's two [[someone]] interesting or worth caring about . \n",
      "\n",
      "\n"
     ]
    },
    {
     "name": "stderr",
     "output_type": "stream",
     "text": [
      "/scratch/sp6646/envs_dirs/swap_env/lib/python3.8/site-packages/textattack/loggers/csv_logger.py:41: FutureWarning: The frame.append method is deprecated and will be removed from pandas in a future version. Use pandas.concat instead.\n",
      "  self.df = self.df.append(row, ignore_index=True)\n",
      "\n",
      "[Succeeded / Failed / Skipped / Total] 93 / 9 / 7 / 109:  55%|█████▍    | 109/200 [03:53<03:15,  2.14s/it]\u001b[A"
     ]
    },
    {
     "name": "stdout",
     "output_type": "stream",
     "text": [
      "--------------------------------------------- Result 109 ---------------------------------------------\n",
      "[[Negative (98%)]] --> [[Positive (56%)]]\n",
      "\n",
      "too [[often]] , the viewer is n't reacting to [[humor]] so much as they are [[wincing]] back in [[repugnance]] . \n",
      "\n",
      "too [[seldom]] , the viewer is n't reacting to [[hilarious]] so much as they are [[chuckled]] back in [[monstrosity]] . \n",
      "\n",
      "\n"
     ]
    },
    {
     "name": "stderr",
     "output_type": "stream",
     "text": [
      "\n",
      "[Succeeded / Failed / Skipped / Total] 93 / 9 / 7 / 109:  55%|█████▌    | 110/200 [03:56<03:13,  2.15s/it]\u001b[A/scratch/sp6646/envs_dirs/swap_env/lib/python3.8/site-packages/textattack/loggers/csv_logger.py:41: FutureWarning: The frame.append method is deprecated and will be removed from pandas in a future version. Use pandas.concat instead.\n",
      "  self.df = self.df.append(row, ignore_index=True)\n",
      "\n",
      "[Succeeded / Failed / Skipped / Total] 94 / 9 / 7 / 110:  55%|█████▌    | 110/200 [03:56<03:13,  2.15s/it]\u001b[A"
     ]
    },
    {
     "name": "stdout",
     "output_type": "stream",
     "text": [
      "--------------------------------------------- Result 110 ---------------------------------------------\n",
      "[[Positive (100%)]] --> [[Negative (94%)]]\n",
      "\n",
      "it 's [[great]] [[escapist]] [[fun]] that recreates a place and [[time]] that [[will]] never happen again . \n",
      "\n",
      "it 's [[gargantuan]] [[sophomoric]] [[amusement]] that recreates a place and [[dated]] that [[intention]] never happen again . \n",
      "\n",
      "\n"
     ]
    },
    {
     "name": "stderr",
     "output_type": "stream",
     "text": [
      "/scratch/sp6646/envs_dirs/swap_env/lib/python3.8/site-packages/textattack/loggers/csv_logger.py:41: FutureWarning: The frame.append method is deprecated and will be removed from pandas in a future version. Use pandas.concat instead.\n",
      "  self.df = self.df.append(row, ignore_index=True)\n",
      "\n",
      "[Succeeded / Failed / Skipped / Total] 95 / 9 / 7 / 111:  56%|█████▌    | 111/200 [03:56<03:09,  2.13s/it]\u001b[A"
     ]
    },
    {
     "name": "stdout",
     "output_type": "stream",
     "text": [
      "--------------------------------------------- Result 111 ---------------------------------------------\n",
      "[[Negative (100%)]] --> [[Positive (94%)]]\n",
      "\n",
      "scores no [[points]] for originality , wit , or intelligence . \n",
      "\n",
      "scores no [[issues]] for originality , wit , or intelligence . \n",
      "\n",
      "\n"
     ]
    },
    {
     "name": "stderr",
     "output_type": "stream",
     "text": [
      "\n",
      "[Succeeded / Failed / Skipped / Total] 95 / 9 / 7 / 111:  56%|█████▌    | 112/200 [03:56<03:06,  2.12s/it]\u001b[A/scratch/sp6646/envs_dirs/swap_env/lib/python3.8/site-packages/textattack/loggers/csv_logger.py:41: FutureWarning: The frame.append method is deprecated and will be removed from pandas in a future version. Use pandas.concat instead.\n",
      "  self.df = self.df.append(row, ignore_index=True)\n",
      "\n",
      "[Succeeded / Failed / Skipped / Total] 96 / 9 / 7 / 112:  56%|█████▌    | 112/200 [03:56<03:06,  2.12s/it]\u001b[A/scratch/sp6646/envs_dirs/swap_env/lib/python3.8/site-packages/textattack/loggers/csv_logger.py:41: FutureWarning: The frame.append method is deprecated and will be removed from pandas in a future version. Use pandas.concat instead.\n",
      "  self.df = self.df.append(row, ignore_index=True)\n",
      "\n",
      "[Succeeded / Failed / Skipped / Total] 96 / 9 / 8 / 113:  56%|█████▋    | 113/200 [03:57<03:02,  2.10s/it]\u001b[A"
     ]
    },
    {
     "name": "stdout",
     "output_type": "stream",
     "text": [
      "--------------------------------------------- Result 112 ---------------------------------------------\n",
      "[[Negative (99%)]] --> [[Positive (52%)]]\n",
      "\n",
      "there is n't nearly enough fun here , [[despite]] the presence of some appealing ingredients . \n",
      "\n",
      "there is n't nearly enough fun here , [[except]] the presence of some appealing ingredients . \n",
      "\n",
      "\n",
      "--------------------------------------------- Result 113 ---------------------------------------------\n",
      "[[Negative (100%)]] --> [[[SKIPPED]]]\n",
      "\n",
      "hilariously inept and ridiculous . \n",
      "\n",
      "\n"
     ]
    },
    {
     "name": "stderr",
     "output_type": "stream",
     "text": [
      "\n",
      "[Succeeded / Failed / Skipped / Total] 96 / 9 / 8 / 113:  57%|█████▋    | 114/200 [03:57<02:59,  2.08s/it]\u001b[A/scratch/sp6646/envs_dirs/swap_env/lib/python3.8/site-packages/textattack/loggers/csv_logger.py:41: FutureWarning: The frame.append method is deprecated and will be removed from pandas in a future version. Use pandas.concat instead.\n",
      "  self.df = self.df.append(row, ignore_index=True)\n",
      "\n",
      "[Succeeded / Failed / Skipped / Total] 97 / 9 / 8 / 114:  57%|█████▋    | 114/200 [03:57<02:59,  2.08s/it]\u001b[A"
     ]
    },
    {
     "name": "stdout",
     "output_type": "stream",
     "text": [
      "--------------------------------------------- Result 114 ---------------------------------------------\n",
      "[[Negative (100%)]] --> [[Positive (100%)]]\n",
      "\n",
      "this movie is [[maddening]] . \n",
      "\n",
      "this movie is [[embarassing]] . \n",
      "\n",
      "\n"
     ]
    },
    {
     "name": "stderr",
     "output_type": "stream",
     "text": [
      "/scratch/sp6646/envs_dirs/swap_env/lib/python3.8/site-packages/textattack/loggers/csv_logger.py:41: FutureWarning: The frame.append method is deprecated and will be removed from pandas in a future version. Use pandas.concat instead.\n",
      "  self.df = self.df.append(row, ignore_index=True)\n",
      "\n",
      "[Succeeded / Failed / Skipped / Total] 98 / 9 / 8 / 115:  57%|█████▊    | 115/200 [03:58<02:56,  2.07s/it]\u001b[A\n",
      "[Succeeded / Failed / Skipped / Total] 98 / 9 / 8 / 115:  58%|█████▊    | 116/200 [03:58<02:52,  2.06s/it]\u001b[A/scratch/sp6646/envs_dirs/swap_env/lib/python3.8/site-packages/textattack/loggers/csv_logger.py:41: FutureWarning: The frame.append method is deprecated and will be removed from pandas in a future version. Use pandas.concat instead.\n",
      "  self.df = self.df.append(row, ignore_index=True)\n",
      "\n",
      "[Succeeded / Failed / Skipped / Total] 98 / 9 / 9 / 116:  58%|█████▊    | 116/200 [03:58<02:52,  2.06s/it]\u001b[A"
     ]
    },
    {
     "name": "stdout",
     "output_type": "stream",
     "text": [
      "--------------------------------------------- Result 115 ---------------------------------------------\n",
      "[[Positive (100%)]] --> [[Negative (81%)]]\n",
      "\n",
      "it haunts you , you ca n't forget it , you [[admire]] its conception and are [[able]] to [[resolve]] some of the confusions you had while watching it . \n",
      "\n",
      "it haunts you , you ca n't forget it , you [[admired]] its conception and are [[incapable]] to [[solve]] some of the confusions you had while watching it . \n",
      "\n",
      "\n",
      "--------------------------------------------- Result 116 ---------------------------------------------\n",
      "[[Positive (62%)]] --> [[[SKIPPED]]]\n",
      "\n",
      "sam mendes has become valedictorian at the school for soft landings and easy ways out . \n",
      "\n",
      "\n"
     ]
    },
    {
     "name": "stderr",
     "output_type": "stream",
     "text": [
      "/scratch/sp6646/envs_dirs/swap_env/lib/python3.8/site-packages/textattack/loggers/csv_logger.py:41: FutureWarning: The frame.append method is deprecated and will be removed from pandas in a future version. Use pandas.concat instead.\n",
      "  self.df = self.df.append(row, ignore_index=True)\n",
      "\n",
      "[Succeeded / Failed / Skipped / Total] 99 / 9 / 9 / 117:  58%|█████▊    | 117/200 [04:00<02:50,  2.05s/it]\u001b[A"
     ]
    },
    {
     "name": "stdout",
     "output_type": "stream",
     "text": [
      "--------------------------------------------- Result 117 ---------------------------------------------\n",
      "[[Positive (100%)]] --> [[Negative (66%)]]\n",
      "\n",
      "one of the [[smartest]] [[takes]] on singles culture i 've seen in a [[long]] [[time]] . \n",
      "\n",
      "one of the [[wisest]] [[opting]] on singles culture i 've seen in a [[lengthened]] [[temps]] . \n",
      "\n",
      "\n"
     ]
    },
    {
     "name": "stderr",
     "output_type": "stream",
     "text": [
      "\n",
      "[Succeeded / Failed / Skipped / Total] 99 / 9 / 9 / 117:  59%|█████▉    | 118/200 [04:01<02:47,  2.04s/it]\u001b[A/scratch/sp6646/envs_dirs/swap_env/lib/python3.8/site-packages/textattack/loggers/csv_logger.py:41: FutureWarning: The frame.append method is deprecated and will be removed from pandas in a future version. Use pandas.concat instead.\n",
      "  self.df = self.df.append(row, ignore_index=True)\n",
      "\n",
      "[Succeeded / Failed / Skipped / Total] 100 / 9 / 9 / 118:  59%|█████▉    | 118/200 [04:01<02:47,  2.04s/it]\u001b[A/scratch/sp6646/envs_dirs/swap_env/lib/python3.8/site-packages/textattack/loggers/csv_logger.py:41: FutureWarning: The frame.append method is deprecated and will be removed from pandas in a future version. Use pandas.concat instead.\n",
      "  self.df = self.df.append(row, ignore_index=True)\n",
      "\n",
      "[Succeeded / Failed / Skipped / Total] 100 / 9 / 10 / 119:  60%|█████▉    | 119/200 [04:01<02:44,  2.03s/it]\u001b[A"
     ]
    },
    {
     "name": "stdout",
     "output_type": "stream",
     "text": [
      "--------------------------------------------- Result 118 ---------------------------------------------\n",
      "[[Positive (100%)]] --> [[Negative (56%)]]\n",
      "\n",
      "moody , [[heartbreaking]] , and filmed in a [[natural]] , unforced style that makes its characters seem entirely convincing even when its script is not . \n",
      "\n",
      "moody , [[disheartening]] , and filmed in a [[inherent]] , unforced style that makes its characters seem entirely convincing even when its script is not . \n",
      "\n",
      "\n",
      "--------------------------------------------- Result 119 ---------------------------------------------\n",
      "[[Positive (99%)]] --> [[[SKIPPED]]]\n",
      "\n",
      "every nanosecond of the the new guy reminds you that you could be doing something else far more pleasurable . \n",
      "\n",
      "\n"
     ]
    },
    {
     "name": "stderr",
     "output_type": "stream",
     "text": [
      "\n",
      "[Succeeded / Failed / Skipped / Total] 100 / 9 / 10 / 119:  60%|██████    | 120/200 [04:02<02:41,  2.02s/it]\u001b[A/scratch/sp6646/envs_dirs/swap_env/lib/python3.8/site-packages/textattack/loggers/csv_logger.py:41: FutureWarning: The frame.append method is deprecated and will be removed from pandas in a future version. Use pandas.concat instead.\n",
      "  self.df = self.df.append(row, ignore_index=True)\n",
      "\n",
      "[Succeeded / Failed / Skipped / Total] 101 / 9 / 10 / 120:  60%|██████    | 120/200 [04:02<02:41,  2.02s/it]\u001b[A"
     ]
    },
    {
     "name": "stdout",
     "output_type": "stream",
     "text": [
      "--------------------------------------------- Result 120 ---------------------------------------------\n",
      "[[Negative (99%)]] --> [[Positive (72%)]]\n",
      "\n",
      "[[comes]] ... [[uncomfortably]] [[close]] to [[coasting]] in the [[treads]] of the bicycle [[thief]] . \n",
      "\n",
      "[[permeates]] ... [[grimly]] [[conclude]] to [[pedaling]] in the [[larvae]] of the bicycle [[criminal]] . \n",
      "\n",
      "\n"
     ]
    },
    {
     "name": "stderr",
     "output_type": "stream",
     "text": [
      "/scratch/sp6646/envs_dirs/swap_env/lib/python3.8/site-packages/textattack/loggers/csv_logger.py:41: FutureWarning: The frame.append method is deprecated and will be removed from pandas in a future version. Use pandas.concat instead.\n",
      "  self.df = self.df.append(row, ignore_index=True)\n",
      "\n",
      "[Succeeded / Failed / Skipped / Total] 102 / 9 / 10 / 121:  60%|██████    | 121/200 [04:05<02:40,  2.03s/it]\u001b[A"
     ]
    },
    {
     "name": "stdout",
     "output_type": "stream",
     "text": [
      "--------------------------------------------- Result 121 ---------------------------------------------\n",
      "[[Positive (100%)]] --> [[Negative (92%)]]\n",
      "\n",
      "[[warm]] water under a red [[bridge]] is a [[quirky]] and [[poignant]] japanese film that explores the [[fascinating]] [[connections]] between women , water , [[nature]] , and sexuality . \n",
      "\n",
      "[[soured]] water under a red [[fill]] is a [[bizarre]] and [[dreadful]] japanese film that explores the [[glamorous]] [[correlation]] between women , water , [[qualities]] , and sexuality . \n",
      "\n",
      "\n"
     ]
    },
    {
     "name": "stderr",
     "output_type": "stream",
     "text": [
      "\n",
      "[Succeeded / Failed / Skipped / Total] 102 / 9 / 10 / 121:  61%|██████    | 122/200 [04:06<02:37,  2.02s/it]\u001b[A/scratch/sp6646/envs_dirs/swap_env/lib/python3.8/site-packages/textattack/loggers/csv_logger.py:41: FutureWarning: The frame.append method is deprecated and will be removed from pandas in a future version. Use pandas.concat instead.\n",
      "  self.df = self.df.append(row, ignore_index=True)\n",
      "\n",
      "[Succeeded / Failed / Skipped / Total] 103 / 9 / 10 / 122:  61%|██████    | 122/200 [04:06<02:37,  2.02s/it]\u001b[A"
     ]
    },
    {
     "name": "stdout",
     "output_type": "stream",
     "text": [
      "--------------------------------------------- Result 122 ---------------------------------------------\n",
      "[[Negative (58%)]] --> [[Positive (94%)]]\n",
      "\n",
      "it seems to me the film is about the art of [[ripping]] people off without ever letting them consciously know you have done so \n",
      "\n",
      "it seems to me the film is about the art of [[replicating]] people off without ever letting them consciously know you have done so \n",
      "\n",
      "\n"
     ]
    },
    {
     "name": "stderr",
     "output_type": "stream",
     "text": [
      "/scratch/sp6646/envs_dirs/swap_env/lib/python3.8/site-packages/textattack/loggers/csv_logger.py:41: FutureWarning: The frame.append method is deprecated and will be removed from pandas in a future version. Use pandas.concat instead.\n",
      "  self.df = self.df.append(row, ignore_index=True)\n",
      "\n",
      "[Succeeded / Failed / Skipped / Total] 104 / 9 / 10 / 123:  62%|██████▏   | 123/200 [04:06<02:34,  2.01s/it]\u001b[A\n",
      "[Succeeded / Failed / Skipped / Total] 104 / 9 / 10 / 123:  62%|██████▏   | 124/200 [04:06<02:31,  1.99s/it]\u001b[A"
     ]
    },
    {
     "name": "stdout",
     "output_type": "stream",
     "text": [
      "--------------------------------------------- Result 123 ---------------------------------------------\n",
      "[[Positive (99%)]] --> [[Negative (95%)]]\n",
      "\n",
      "old-form moviemaking at its [[best]] . \n",
      "\n",
      "old-form moviemaking at its [[preferable]] . \n",
      "\n",
      "\n"
     ]
    },
    {
     "name": "stderr",
     "output_type": "stream",
     "text": [
      "/scratch/sp6646/envs_dirs/swap_env/lib/python3.8/site-packages/textattack/loggers/csv_logger.py:41: FutureWarning: The frame.append method is deprecated and will be removed from pandas in a future version. Use pandas.concat instead.\n",
      "  self.df = self.df.append(row, ignore_index=True)\n",
      "\n",
      "[Succeeded / Failed / Skipped / Total] 105 / 9 / 10 / 124:  62%|██████▏   | 124/200 [04:06<02:31,  1.99s/it]\u001b[A"
     ]
    },
    {
     "name": "stdout",
     "output_type": "stream",
     "text": [
      "--------------------------------------------- Result 124 ---------------------------------------------\n",
      "[[Positive (100%)]] --> [[Negative (99%)]]\n",
      "\n",
      "turns potentially forgettable formula into something strangely [[diverting]] . \n",
      "\n",
      "turns potentially forgettable formula into something strangely [[siphoning]] . \n",
      "\n",
      "\n"
     ]
    },
    {
     "name": "stderr",
     "output_type": "stream",
     "text": [
      "/scratch/sp6646/envs_dirs/swap_env/lib/python3.8/site-packages/textattack/loggers/csv_logger.py:41: FutureWarning: The frame.append method is deprecated and will be removed from pandas in a future version. Use pandas.concat instead.\n",
      "  self.df = self.df.append(row, ignore_index=True)\n",
      "\n",
      "[Succeeded / Failed / Skipped / Total] 106 / 9 / 10 / 125:  62%|██████▎   | 125/200 [04:07<02:28,  1.98s/it]\u001b[A"
     ]
    },
    {
     "name": "stdout",
     "output_type": "stream",
     "text": [
      "--------------------------------------------- Result 125 ---------------------------------------------\n",
      "[[Positive (96%)]] --> [[Negative (91%)]]\n",
      "\n",
      "( lawrence [[bounces]] ) all over the stage , dancing , running , sweating , mopping his face and generally displaying the wacky [[talent]] that brought him fame in the first place . \n",
      "\n",
      "( lawrence [[tosses]] ) all over the stage , dancing , running , sweating , mopping his face and generally displaying the wacky [[performer]] that brought him fame in the first place . \n",
      "\n",
      "\n"
     ]
    },
    {
     "name": "stderr",
     "output_type": "stream",
     "text": [
      "\n",
      "[Succeeded / Failed / Skipped / Total] 106 / 9 / 10 / 125:  63%|██████▎   | 126/200 [04:10<02:26,  1.99s/it]\u001b[A/scratch/sp6646/envs_dirs/swap_env/lib/python3.8/site-packages/textattack/loggers/csv_logger.py:41: FutureWarning: The frame.append method is deprecated and will be removed from pandas in a future version. Use pandas.concat instead.\n",
      "  self.df = self.df.append(row, ignore_index=True)\n",
      "\n",
      "[Succeeded / Failed / Skipped / Total] 107 / 9 / 10 / 126:  63%|██████▎   | 126/200 [04:10<02:26,  1.99s/it]\u001b[A"
     ]
    },
    {
     "name": "stdout",
     "output_type": "stream",
     "text": [
      "--------------------------------------------- Result 126 ---------------------------------------------\n",
      "[[Positive (100%)]] --> [[Negative (57%)]]\n",
      "\n",
      "a [[movie]] that [[reminds]] us of just how [[exciting]] and [[satisfying]] the fantasy cinema can be when it 's approached with [[imagination]] and flair . \n",
      "\n",
      "a [[theaters]] that [[cautioned]] us of just how [[sexier]] and [[adequate]] the fantasy cinema can be when it 's approached with [[imaginings]] and flair . \n",
      "\n",
      "\n"
     ]
    },
    {
     "name": "stderr",
     "output_type": "stream",
     "text": [
      "/scratch/sp6646/envs_dirs/swap_env/lib/python3.8/site-packages/textattack/loggers/csv_logger.py:41: FutureWarning: The frame.append method is deprecated and will be removed from pandas in a future version. Use pandas.concat instead.\n",
      "  self.df = self.df.append(row, ignore_index=True)\n",
      "\n",
      "[Succeeded / Failed / Skipped / Total] 108 / 9 / 10 / 127:  64%|██████▎   | 127/200 [04:10<02:24,  1.97s/it]\u001b[A"
     ]
    },
    {
     "name": "stdout",
     "output_type": "stream",
     "text": [
      "--------------------------------------------- Result 127 ---------------------------------------------\n",
      "[[Negative (97%)]] --> [[Positive (51%)]]\n",
      "\n",
      "confirms the nagging suspicion that ethan hawke would be even [[worse]] behind the camera than he is in front of it . \n",
      "\n",
      "confirms the nagging suspicion that ethan hawke would be even [[greatest]] behind the camera than he is in front of it . \n",
      "\n",
      "\n"
     ]
    },
    {
     "name": "stderr",
     "output_type": "stream",
     "text": [
      "\n",
      "[Succeeded / Failed / Skipped / Total] 108 / 9 / 10 / 127:  64%|██████▍   | 128/200 [04:12<02:21,  1.97s/it]\u001b[A/scratch/sp6646/envs_dirs/swap_env/lib/python3.8/site-packages/textattack/loggers/csv_logger.py:41: FutureWarning: The frame.append method is deprecated and will be removed from pandas in a future version. Use pandas.concat instead.\n",
      "  self.df = self.df.append(row, ignore_index=True)\n",
      "\n",
      "[Succeeded / Failed / Skipped / Total] 109 / 9 / 10 / 128:  64%|██████▍   | 128/200 [04:12<02:21,  1.97s/it]\u001b[A"
     ]
    },
    {
     "name": "stdout",
     "output_type": "stream",
     "text": [
      "--------------------------------------------- Result 128 ---------------------------------------------\n",
      "[[Negative (97%)]] --> [[Positive (61%)]]\n",
      "\n",
      "in the end , we are [[left]] with something like two ships passing in the night rather than any [[insights]] into gay love , chinese society or the price one pays for being dishonest . \n",
      "\n",
      "in the end , we are [[departs]] with something like two ships passing in the night rather than any [[delusions]] into gay love , chinese society or the price one pays for being dishonest . \n",
      "\n",
      "\n"
     ]
    },
    {
     "name": "stderr",
     "output_type": "stream",
     "text": [
      "/scratch/sp6646/envs_dirs/swap_env/lib/python3.8/site-packages/textattack/loggers/csv_logger.py:41: FutureWarning: The frame.append method is deprecated and will be removed from pandas in a future version. Use pandas.concat instead.\n",
      "  self.df = self.df.append(row, ignore_index=True)\n",
      "\n",
      "[Succeeded / Failed / Skipped / Total] 110 / 9 / 10 / 129:  64%|██████▍   | 129/200 [04:14<02:20,  1.97s/it]\u001b[A"
     ]
    },
    {
     "name": "stdout",
     "output_type": "stream",
     "text": [
      "--------------------------------------------- Result 129 ---------------------------------------------\n",
      "[[Positive (100%)]] --> [[Negative (78%)]]\n",
      "\n",
      "montias ... pumps a lot of [[energy]] into his [[nicely]] [[nuanced]] [[narrative]] and surrounds himself with a [[cast]] of [[quirky]] -- but not [[stereotyped]] -- street characters . \n",
      "\n",
      "montias ... pumps a lot of [[strom]] into his [[sparingly]] [[canny]] [[autobiographical]] and surrounds himself with a [[audition]] of [[deranged]] -- but not [[cliched]] -- street characters . \n",
      "\n",
      "\n"
     ]
    },
    {
     "name": "stderr",
     "output_type": "stream",
     "text": [
      "\n",
      "[Succeeded / Failed / Skipped / Total] 110 / 9 / 10 / 129:  65%|██████▌   | 130/200 [04:17<02:18,  1.98s/it]\u001b[A/scratch/sp6646/envs_dirs/swap_env/lib/python3.8/site-packages/textattack/loggers/csv_logger.py:41: FutureWarning: The frame.append method is deprecated and will be removed from pandas in a future version. Use pandas.concat instead.\n",
      "  self.df = self.df.append(row, ignore_index=True)\n",
      "\n",
      "[Succeeded / Failed / Skipped / Total] 110 / 10 / 10 / 130:  65%|██████▌   | 130/200 [04:17<02:18,  1.98s/it]\u001b[A"
     ]
    },
    {
     "name": "stdout",
     "output_type": "stream",
     "text": [
      "--------------------------------------------- Result 130 ---------------------------------------------\n",
      "[[Positive (100%)]] --> [[[FAILED]]]\n",
      "\n",
      "it provides the grand , intelligent entertainment of a superior cast playing smart people amid a compelling plot . \n",
      "\n",
      "\n"
     ]
    },
    {
     "name": "stderr",
     "output_type": "stream",
     "text": [
      "/scratch/sp6646/envs_dirs/swap_env/lib/python3.8/site-packages/textattack/loggers/csv_logger.py:41: FutureWarning: The frame.append method is deprecated and will be removed from pandas in a future version. Use pandas.concat instead.\n",
      "  self.df = self.df.append(row, ignore_index=True)\n",
      "\n",
      "[Succeeded / Failed / Skipped / Total] 111 / 10 / 10 / 131:  66%|██████▌   | 131/200 [04:18<02:16,  1.97s/it]\u001b[A"
     ]
    },
    {
     "name": "stdout",
     "output_type": "stream",
     "text": [
      "--------------------------------------------- Result 131 ---------------------------------------------\n",
      "[[Negative (100%)]] --> [[Positive (98%)]]\n",
      "\n",
      "[[suffers]] from the [[lack]] of a compelling or comprehensible narrative . \n",
      "\n",
      "[[experiencing]] from the [[loophole]] of a compelling or comprehensible narrative . \n",
      "\n",
      "\n"
     ]
    },
    {
     "name": "stderr",
     "output_type": "stream",
     "text": [
      "\n",
      "[Succeeded / Failed / Skipped / Total] 111 / 10 / 10 / 131:  66%|██████▌   | 132/200 [04:19<02:13,  1.96s/it]\u001b[A/scratch/sp6646/envs_dirs/swap_env/lib/python3.8/site-packages/textattack/loggers/csv_logger.py:41: FutureWarning: The frame.append method is deprecated and will be removed from pandas in a future version. Use pandas.concat instead.\n",
      "  self.df = self.df.append(row, ignore_index=True)\n",
      "\n",
      "[Succeeded / Failed / Skipped / Total] 112 / 10 / 10 / 132:  66%|██████▌   | 132/200 [04:19<02:13,  1.96s/it]\u001b[A"
     ]
    },
    {
     "name": "stdout",
     "output_type": "stream",
     "text": [
      "--------------------------------------------- Result 132 ---------------------------------------------\n",
      "[[Negative (100%)]] --> [[Positive (69%)]]\n",
      "\n",
      "in execution , this clever idea is far [[less]] funny than the original , killers from space . \n",
      "\n",
      "in execution , this clever idea is far [[minus]] funny than the original , killers from space . \n",
      "\n",
      "\n"
     ]
    },
    {
     "name": "stderr",
     "output_type": "stream",
     "text": [
      "/scratch/sp6646/envs_dirs/swap_env/lib/python3.8/site-packages/textattack/loggers/csv_logger.py:41: FutureWarning: The frame.append method is deprecated and will be removed from pandas in a future version. Use pandas.concat instead.\n",
      "  self.df = self.df.append(row, ignore_index=True)\n",
      "\n",
      "[Succeeded / Failed / Skipped / Total] 113 / 10 / 10 / 133:  66%|██████▋   | 133/200 [04:20<02:11,  1.96s/it]\u001b[A"
     ]
    },
    {
     "name": "stdout",
     "output_type": "stream",
     "text": [
      "--------------------------------------------- Result 133 ---------------------------------------------\n",
      "[[Positive (100%)]] --> [[Negative (90%)]]\n",
      "\n",
      "[[scooby]] dooby [[doo]] / and shaggy too / you both look and [[sound]] [[great]] . \n",
      "\n",
      "[[powerpuff]] dooby [[projecting]] / and shaggy too / you both look and [[sounds]] [[prodigious]] . \n",
      "\n",
      "\n"
     ]
    },
    {
     "name": "stderr",
     "output_type": "stream",
     "text": [
      "\n",
      "[Succeeded / Failed / Skipped / Total] 113 / 10 / 10 / 133:  67%|██████▋   | 134/200 [04:22<02:09,  1.96s/it]\u001b[A/scratch/sp6646/envs_dirs/swap_env/lib/python3.8/site-packages/textattack/loggers/csv_logger.py:41: FutureWarning: The frame.append method is deprecated and will be removed from pandas in a future version. Use pandas.concat instead.\n",
      "  self.df = self.df.append(row, ignore_index=True)\n",
      "\n",
      "[Succeeded / Failed / Skipped / Total] 114 / 10 / 10 / 134:  67%|██████▋   | 134/200 [04:22<02:09,  1.96s/it]\u001b[A"
     ]
    },
    {
     "name": "stdout",
     "output_type": "stream",
     "text": [
      "--------------------------------------------- Result 134 ---------------------------------------------\n",
      "[[Negative (96%)]] --> [[Positive (56%)]]\n",
      "\n",
      "the tale of [[tok]] ( [[andy]] [[lau]] ) , a sleek sociopath on the trail of o ( [[takashi]] sorimachi ) , the most [[legendary]] of asian [[hitmen]] , is too scattershot to take [[hold]] . \n",
      "\n",
      "the tale of [[brooks]] ( [[indy]] [[jung]] ) , a sleek sociopath on the trail of o ( [[yoshida]] sorimachi ) , the most [[notorious]] of asian [[roughnecks]] , is too scattershot to take [[withholding]] . \n",
      "\n",
      "\n"
     ]
    },
    {
     "name": "stderr",
     "output_type": "stream",
     "text": [
      "/scratch/sp6646/envs_dirs/swap_env/lib/python3.8/site-packages/textattack/loggers/csv_logger.py:41: FutureWarning: The frame.append method is deprecated and will be removed from pandas in a future version. Use pandas.concat instead.\n",
      "  self.df = self.df.append(row, ignore_index=True)\n",
      "\n",
      "[Succeeded / Failed / Skipped / Total] 115 / 10 / 10 / 135:  68%|██████▊   | 135/200 [04:23<02:06,  1.95s/it]\u001b[A"
     ]
    },
    {
     "name": "stdout",
     "output_type": "stream",
     "text": [
      "--------------------------------------------- Result 135 ---------------------------------------------\n",
      "[[Negative (100%)]] --> [[Positive (86%)]]\n",
      "\n",
      "it all [[drags]] on so interminably it 's like watching a [[miserable]] relationship unfold in real time . \n",
      "\n",
      "it all [[squeezes]] on so interminably it 's like watching a [[ignoble]] relationship unfold in real time . \n",
      "\n",
      "\n"
     ]
    },
    {
     "name": "stderr",
     "output_type": "stream",
     "text": [
      "\n",
      "[Succeeded / Failed / Skipped / Total] 115 / 10 / 10 / 135:  68%|██████▊   | 136/200 [04:24<02:04,  1.94s/it]\u001b[A/scratch/sp6646/envs_dirs/swap_env/lib/python3.8/site-packages/textattack/loggers/csv_logger.py:41: FutureWarning: The frame.append method is deprecated and will be removed from pandas in a future version. Use pandas.concat instead.\n",
      "  self.df = self.df.append(row, ignore_index=True)\n",
      "\n",
      "[Succeeded / Failed / Skipped / Total] 116 / 10 / 10 / 136:  68%|██████▊   | 136/200 [04:24<02:04,  1.94s/it]\u001b[A"
     ]
    },
    {
     "name": "stdout",
     "output_type": "stream",
     "text": [
      "--------------------------------------------- Result 136 ---------------------------------------------\n",
      "[[Negative (87%)]] --> [[Positive (73%)]]\n",
      "\n",
      "pumpkin means to be an outrageous dark satire on fraternity life , but its ambitions far [[exceed]] the abilities of writer adam larson broder and his co-director , tony r. abrams , in their feature debut . \n",
      "\n",
      "pumpkin means to be an outrageous dark satire on fraternity life , but its ambitions far [[exceeding]] the abilities of writer adam larson broder and his co-director , tony r. abrams , in their feature debut . \n",
      "\n",
      "\n"
     ]
    },
    {
     "name": "stderr",
     "output_type": "stream",
     "text": [
      "/scratch/sp6646/envs_dirs/swap_env/lib/python3.8/site-packages/textattack/loggers/csv_logger.py:41: FutureWarning: The frame.append method is deprecated and will be removed from pandas in a future version. Use pandas.concat instead.\n",
      "  self.df = self.df.append(row, ignore_index=True)\n",
      "\n",
      "[Succeeded / Failed / Skipped / Total] 117 / 10 / 10 / 137:  68%|██████▊   | 137/200 [04:24<02:01,  1.93s/it]\u001b[A"
     ]
    },
    {
     "name": "stdout",
     "output_type": "stream",
     "text": [
      "--------------------------------------------- Result 137 ---------------------------------------------\n",
      "[[Negative (99%)]] --> [[Positive (99%)]]\n",
      "\n",
      "looks and feels like a project [[better]] suited for the small screen . \n",
      "\n",
      "looks and feels like a project [[well]] suited for the small screen . \n",
      "\n",
      "\n"
     ]
    },
    {
     "name": "stderr",
     "output_type": "stream",
     "text": [
      "\n",
      "[Succeeded / Failed / Skipped / Total] 117 / 10 / 10 / 137:  69%|██████▉   | 138/200 [04:25<01:59,  1.92s/it]\u001b[A/scratch/sp6646/envs_dirs/swap_env/lib/python3.8/site-packages/textattack/loggers/csv_logger.py:41: FutureWarning: The frame.append method is deprecated and will be removed from pandas in a future version. Use pandas.concat instead.\n",
      "  self.df = self.df.append(row, ignore_index=True)\n",
      "\n",
      "[Succeeded / Failed / Skipped / Total] 118 / 10 / 10 / 138:  69%|██████▉   | 138/200 [04:25<01:59,  1.92s/it]\u001b[A"
     ]
    },
    {
     "name": "stdout",
     "output_type": "stream",
     "text": [
      "--------------------------------------------- Result 138 ---------------------------------------------\n",
      "[[Negative (100%)]] --> [[Positive (96%)]]\n",
      "\n",
      "forced , familiar and thoroughly [[condescending]] . \n",
      "\n",
      "forced , familiar and thoroughly [[cocky]] . \n",
      "\n",
      "\n"
     ]
    },
    {
     "name": "stderr",
     "output_type": "stream",
     "text": [
      "/scratch/sp6646/envs_dirs/swap_env/lib/python3.8/site-packages/textattack/loggers/csv_logger.py:41: FutureWarning: The frame.append method is deprecated and will be removed from pandas in a future version. Use pandas.concat instead.\n",
      "  self.df = self.df.append(row, ignore_index=True)\n",
      "\n",
      "[Succeeded / Failed / Skipped / Total] 119 / 10 / 10 / 139:  70%|██████▉   | 139/200 [04:25<01:56,  1.91s/it]\u001b[A"
     ]
    },
    {
     "name": "stdout",
     "output_type": "stream",
     "text": [
      "--------------------------------------------- Result 139 ---------------------------------------------\n",
      "[[Positive (100%)]] --> [[Negative (79%)]]\n",
      "\n",
      "that is a [[compliment]] to kuras and [[miller]] . \n",
      "\n",
      "that is a [[felicitations]] to kuras and [[mailer]] . \n",
      "\n",
      "\n"
     ]
    },
    {
     "name": "stderr",
     "output_type": "stream",
     "text": [
      "\n",
      "[Succeeded / Failed / Skipped / Total] 119 / 10 / 10 / 139:  70%|███████   | 140/200 [04:26<01:54,  1.91s/it]\u001b[A/scratch/sp6646/envs_dirs/swap_env/lib/python3.8/site-packages/textattack/loggers/csv_logger.py:41: FutureWarning: The frame.append method is deprecated and will be removed from pandas in a future version. Use pandas.concat instead.\n",
      "  self.df = self.df.append(row, ignore_index=True)\n",
      "\n",
      "[Succeeded / Failed / Skipped / Total] 120 / 10 / 10 / 140:  70%|███████   | 140/200 [04:26<01:54,  1.91s/it]\u001b[A"
     ]
    },
    {
     "name": "stdout",
     "output_type": "stream",
     "text": [
      "--------------------------------------------- Result 140 ---------------------------------------------\n",
      "[[Negative (99%)]] --> [[Positive (90%)]]\n",
      "\n",
      "it 's not the [[ultimate]] depression-era gangster [[movie]] . \n",
      "\n",
      "it 's not the [[ultima]] depression-era gangster [[kino]] . \n",
      "\n",
      "\n"
     ]
    },
    {
     "name": "stderr",
     "output_type": "stream",
     "text": [
      "/scratch/sp6646/envs_dirs/swap_env/lib/python3.8/site-packages/textattack/loggers/csv_logger.py:41: FutureWarning: The frame.append method is deprecated and will be removed from pandas in a future version. Use pandas.concat instead.\n",
      "  self.df = self.df.append(row, ignore_index=True)\n",
      "\n",
      "[Succeeded / Failed / Skipped / Total] 121 / 10 / 10 / 141:  70%|███████   | 141/200 [04:27<01:51,  1.90s/it]\u001b[A"
     ]
    },
    {
     "name": "stdout",
     "output_type": "stream",
     "text": [
      "--------------------------------------------- Result 141 ---------------------------------------------\n",
      "[[Negative (100%)]] --> [[Positive (93%)]]\n",
      "\n",
      "[[sacrifices]] the [[value]] of its wealth of archival foot-age with its less-than-objective stance . \n",
      "\n",
      "[[offers]] the [[worth]] of its wealth of archival foot-age with its less-than-objective stance . \n",
      "\n",
      "\n"
     ]
    },
    {
     "name": "stderr",
     "output_type": "stream",
     "text": [
      "\n",
      "[Succeeded / Failed / Skipped / Total] 121 / 10 / 10 / 141:  71%|███████   | 142/200 [04:28<01:49,  1.89s/it]\u001b[A/scratch/sp6646/envs_dirs/swap_env/lib/python3.8/site-packages/textattack/loggers/csv_logger.py:41: FutureWarning: The frame.append method is deprecated and will be removed from pandas in a future version. Use pandas.concat instead.\n",
      "  self.df = self.df.append(row, ignore_index=True)\n",
      "\n",
      "[Succeeded / Failed / Skipped / Total] 122 / 10 / 10 / 142:  71%|███████   | 142/200 [04:28<01:49,  1.89s/it]\u001b[A/scratch/sp6646/envs_dirs/swap_env/lib/python3.8/site-packages/textattack/loggers/csv_logger.py:41: FutureWarning: The frame.append method is deprecated and will be removed from pandas in a future version. Use pandas.concat instead.\n",
      "  self.df = self.df.append(row, ignore_index=True)\n",
      "\n",
      "[Succeeded / Failed / Skipped / Total] 122 / 10 / 11 / 143:  72%|███████▏  | 143/200 [04:28<01:47,  1.88s/it]\u001b[A/scratch/sp6646/envs_dirs/swap_env/lib/python3.8/site-packages/textattack/loggers/csv_logger.py:41: FutureWarning: The frame.append method is deprecated and will be removed from pandas in a future version. Use pandas.concat instead.\n",
      "  self.df = self.df.append(row, ignore_index=True)\n",
      "\n",
      "[Succeeded / Failed / Skipped / Total] 122 / 10 / 12 / 144:  72%|███████▏  | 144/200 [04:28<01:44,  1.87s/it]\u001b[A"
     ]
    },
    {
     "name": "stdout",
     "output_type": "stream",
     "text": [
      "--------------------------------------------- Result 142 ---------------------------------------------\n",
      "[[Negative (100%)]] --> [[Positive (91%)]]\n",
      "\n",
      "the [[character]] of zigzag is not [[sufficiently]] developed to support a film constructed around him . \n",
      "\n",
      "the [[distinctive]] of zigzag is not [[justly]] developed to support a film constructed around him . \n",
      "\n",
      "\n",
      "--------------------------------------------- Result 143 ---------------------------------------------\n",
      "[[Negative (96%)]] --> [[[SKIPPED]]]\n",
      "\n",
      "what better message than ` love thyself ' could young women of any size receive ? \n",
      "\n",
      "\n",
      "--------------------------------------------- Result 144 ---------------------------------------------\n",
      "[[Negative (78%)]] --> [[[SKIPPED]]]\n",
      "\n",
      "a solid film ... but more conscientious than it is truly stirring . \n",
      "\n",
      "\n"
     ]
    },
    {
     "name": "stderr",
     "output_type": "stream",
     "text": [
      "\n",
      "[Succeeded / Failed / Skipped / Total] 122 / 10 / 12 / 144:  72%|███████▎  | 145/200 [04:31<01:42,  1.87s/it]\u001b[A/scratch/sp6646/envs_dirs/swap_env/lib/python3.8/site-packages/textattack/loggers/csv_logger.py:41: FutureWarning: The frame.append method is deprecated and will be removed from pandas in a future version. Use pandas.concat instead.\n",
      "  self.df = self.df.append(row, ignore_index=True)\n",
      "\n",
      "[Succeeded / Failed / Skipped / Total] 122 / 11 / 12 / 145:  72%|███████▎  | 145/200 [04:31<01:42,  1.87s/it]\u001b[A"
     ]
    },
    {
     "name": "stdout",
     "output_type": "stream",
     "text": [
      "--------------------------------------------- Result 145 ---------------------------------------------\n",
      "[[Negative (100%)]] --> [[[FAILED]]]\n",
      "\n",
      "while ( hill ) has learned new tricks , the tricks alone are not enough to salvage this lifeless boxing film . \n",
      "\n",
      "\n"
     ]
    },
    {
     "name": "stderr",
     "output_type": "stream",
     "text": [
      "/scratch/sp6646/envs_dirs/swap_env/lib/python3.8/site-packages/textattack/loggers/csv_logger.py:41: FutureWarning: The frame.append method is deprecated and will be removed from pandas in a future version. Use pandas.concat instead.\n",
      "  self.df = self.df.append(row, ignore_index=True)\n",
      "\n",
      "[Succeeded / Failed / Skipped / Total] 123 / 11 / 12 / 146:  73%|███████▎  | 146/200 [04:32<01:40,  1.87s/it]\u001b[A"
     ]
    },
    {
     "name": "stdout",
     "output_type": "stream",
     "text": [
      "--------------------------------------------- Result 146 ---------------------------------------------\n",
      "[[Negative (99%)]] --> [[Positive (74%)]]\n",
      "\n",
      "the best that can be said about the work here of scottish director ritchie ... is that he [[obviously]] does n't [[have]] his heart in it . \n",
      "\n",
      "the best that can be said about the work here of scottish director ritchie ... is that he [[candidly]] does n't [[does]] his heart in it . \n",
      "\n",
      "\n"
     ]
    },
    {
     "name": "stderr",
     "output_type": "stream",
     "text": [
      "/scratch/sp6646/envs_dirs/swap_env/lib/python3.8/site-packages/textattack/loggers/csv_logger.py:41: FutureWarning: The frame.append method is deprecated and will be removed from pandas in a future version. Use pandas.concat instead.\n",
      "  self.df = self.df.append(row, ignore_index=True)\n",
      "\n",
      "[Succeeded / Failed / Skipped / Total] 124 / 11 / 12 / 147:  74%|███████▎  | 147/200 [04:34<01:39,  1.87s/it]\u001b[A"
     ]
    },
    {
     "name": "stdout",
     "output_type": "stream",
     "text": [
      "--------------------------------------------- Result 147 ---------------------------------------------\n",
      "[[Positive (100%)]] --> [[Negative (87%)]]\n",
      "\n",
      "about a manga-like [[heroine]] who [[fights]] back at her abusers , it 's [[energetic]] and [[satisfying]] if not deep and [[psychological]] . \n",
      "\n",
      "about a manga-like [[hero]] who [[tussle]] back at her abusers , it 's [[loud]] and [[fecund]] if not deep and [[mental]] . \n",
      "\n",
      "\n"
     ]
    },
    {
     "name": "stderr",
     "output_type": "stream",
     "text": [
      "\n",
      "[Succeeded / Failed / Skipped / Total] 124 / 11 / 12 / 147:  74%|███████▍  | 148/200 [04:35<01:36,  1.86s/it]\u001b[A/scratch/sp6646/envs_dirs/swap_env/lib/python3.8/site-packages/textattack/loggers/csv_logger.py:41: FutureWarning: The frame.append method is deprecated and will be removed from pandas in a future version. Use pandas.concat instead.\n",
      "  self.df = self.df.append(row, ignore_index=True)\n",
      "\n",
      "[Succeeded / Failed / Skipped / Total] 125 / 11 / 12 / 148:  74%|███████▍  | 148/200 [04:35<01:36,  1.86s/it]\u001b[A"
     ]
    },
    {
     "name": "stdout",
     "output_type": "stream",
     "text": [
      "--------------------------------------------- Result 148 ---------------------------------------------\n",
      "[[Negative (72%)]] --> [[Positive (73%)]]\n",
      "\n",
      "the talented and clever robert rodriguez perhaps put a little too much heart into his first film and [[did]] n't reserve enough for his second . \n",
      "\n",
      "the talented and clever robert rodriguez perhaps put a little too much heart into his first film and [[do]] n't reserve enough for his second . \n",
      "\n",
      "\n"
     ]
    },
    {
     "name": "stderr",
     "output_type": "stream",
     "text": [
      "/scratch/sp6646/envs_dirs/swap_env/lib/python3.8/site-packages/textattack/loggers/csv_logger.py:41: FutureWarning: The frame.append method is deprecated and will be removed from pandas in a future version. Use pandas.concat instead.\n",
      "  self.df = self.df.append(row, ignore_index=True)\n",
      "\n",
      "[Succeeded / Failed / Skipped / Total] 125 / 12 / 12 / 149:  74%|███████▍  | 149/200 [04:38<01:35,  1.87s/it]\u001b[A"
     ]
    },
    {
     "name": "stdout",
     "output_type": "stream",
     "text": [
      "--------------------------------------------- Result 149 ---------------------------------------------\n",
      "[[Negative (100%)]] --> [[[FAILED]]]\n",
      "\n",
      "feels too formulaic and too familiar to produce the transgressive thrills of early underground work . \n",
      "\n",
      "\n"
     ]
    },
    {
     "name": "stderr",
     "output_type": "stream",
     "text": [
      "/scratch/sp6646/envs_dirs/swap_env/lib/python3.8/site-packages/textattack/loggers/csv_logger.py:41: FutureWarning: The frame.append method is deprecated and will be removed from pandas in a future version. Use pandas.concat instead.\n",
      "  self.df = self.df.append(row, ignore_index=True)\n",
      "\n",
      "[Succeeded / Failed / Skipped / Total] 126 / 12 / 12 / 150:  75%|███████▌  | 150/200 [04:38<01:32,  1.86s/it]\u001b[A"
     ]
    },
    {
     "name": "stdout",
     "output_type": "stream",
     "text": [
      "--------------------------------------------- Result 150 ---------------------------------------------\n",
      "[[Positive (90%)]] --> [[Negative (91%)]]\n",
      "\n",
      "the volatile dynamics of female friendship is the subject of this unhurried , low-key film that is so off-hollywood that it seems [[positively]] french in its rhythms and resonance . \n",
      "\n",
      "the volatile dynamics of female friendship is the subject of this unhurried , low-key film that is so off-hollywood that it seems [[strenuously]] french in its rhythms and resonance . \n",
      "\n",
      "\n"
     ]
    },
    {
     "name": "stderr",
     "output_type": "stream",
     "text": [
      "\n",
      "[Succeeded / Failed / Skipped / Total] 126 / 12 / 12 / 150:  76%|███████▌  | 151/200 [04:39<01:30,  1.85s/it]\u001b[A/scratch/sp6646/envs_dirs/swap_env/lib/python3.8/site-packages/textattack/loggers/csv_logger.py:41: FutureWarning: The frame.append method is deprecated and will be removed from pandas in a future version. Use pandas.concat instead.\n",
      "  self.df = self.df.append(row, ignore_index=True)\n",
      "\n",
      "[Succeeded / Failed / Skipped / Total] 127 / 12 / 12 / 151:  76%|███████▌  | 151/200 [04:39<01:30,  1.85s/it]\u001b[A"
     ]
    },
    {
     "name": "stdout",
     "output_type": "stream",
     "text": [
      "--------------------------------------------- Result 151 ---------------------------------------------\n",
      "[[Positive (100%)]] --> [[Negative (98%)]]\n",
      "\n",
      "[[overall]] very [[good]] for what it 's trying to do . \n",
      "\n",
      "[[unmitigated]] very [[advisable]] for what it 's trying to do . \n",
      "\n",
      "\n"
     ]
    },
    {
     "name": "stderr",
     "output_type": "stream",
     "text": [
      "/scratch/sp6646/envs_dirs/swap_env/lib/python3.8/site-packages/textattack/loggers/csv_logger.py:41: FutureWarning: The frame.append method is deprecated and will be removed from pandas in a future version. Use pandas.concat instead.\n",
      "  self.df = self.df.append(row, ignore_index=True)\n",
      "\n",
      "[Succeeded / Failed / Skipped / Total] 128 / 12 / 12 / 152:  76%|███████▌  | 152/200 [04:41<01:28,  1.85s/it]\u001b[A"
     ]
    },
    {
     "name": "stdout",
     "output_type": "stream",
     "text": [
      "--------------------------------------------- Result 152 ---------------------------------------------\n",
      "[[Positive (100%)]] --> [[Negative (97%)]]\n",
      "\n",
      "a big , [[gorgeous]] , sprawling swashbuckler that [[delivers]] its diversions in [[grand]] , uncomplicated fashion . \n",
      "\n",
      "a big , [[glamorous]] , sprawling swashbuckler that [[quotation]] its diversions in [[gargantuan]] , uncomplicated fashion . \n",
      "\n",
      "\n"
     ]
    },
    {
     "name": "stderr",
     "output_type": "stream",
     "text": [
      "/scratch/sp6646/envs_dirs/swap_env/lib/python3.8/site-packages/textattack/loggers/csv_logger.py:41: FutureWarning: The frame.append method is deprecated and will be removed from pandas in a future version. Use pandas.concat instead.\n",
      "  self.df = self.df.append(row, ignore_index=True)\n",
      "\n",
      "[Succeeded / Failed / Skipped / Total] 129 / 12 / 12 / 153:  76%|███████▋  | 153/200 [04:41<01:26,  1.84s/it]\u001b[A"
     ]
    },
    {
     "name": "stdout",
     "output_type": "stream",
     "text": [
      "--------------------------------------------- Result 153 ---------------------------------------------\n",
      "[[Positive (100%)]] --> [[Negative (76%)]]\n",
      "\n",
      "a difficult , [[absorbing]] film that manages to convey more substance [[despite]] its repetitions and inconsistencies than do most films than are far more pointed and clear . \n",
      "\n",
      "a difficult , [[obtaining]] film that manages to convey more substance [[if]] its repetitions and inconsistencies than do most films than are far more pointed and clear . \n",
      "\n",
      "\n"
     ]
    },
    {
     "name": "stderr",
     "output_type": "stream",
     "text": [
      "\n",
      "[Succeeded / Failed / Skipped / Total] 129 / 12 / 12 / 153:  77%|███████▋  | 154/200 [04:42<01:24,  1.84s/it]\u001b[A/scratch/sp6646/envs_dirs/swap_env/lib/python3.8/site-packages/textattack/loggers/csv_logger.py:41: FutureWarning: The frame.append method is deprecated and will be removed from pandas in a future version. Use pandas.concat instead.\n",
      "  self.df = self.df.append(row, ignore_index=True)\n",
      "\n",
      "[Succeeded / Failed / Skipped / Total] 130 / 12 / 12 / 154:  77%|███████▋  | 154/200 [04:42<01:24,  1.84s/it]\u001b[A"
     ]
    },
    {
     "name": "stdout",
     "output_type": "stream",
     "text": [
      "--------------------------------------------- Result 154 ---------------------------------------------\n",
      "[[Negative (100%)]] --> [[Positive (79%)]]\n",
      "\n",
      "the heavy-handed film is almost [[laughable]] as a consequence . \n",
      "\n",
      "the heavy-handed film is almost [[comic]] as a consequence . \n",
      "\n",
      "\n"
     ]
    },
    {
     "name": "stderr",
     "output_type": "stream",
     "text": [
      "/scratch/sp6646/envs_dirs/swap_env/lib/python3.8/site-packages/textattack/loggers/csv_logger.py:41: FutureWarning: The frame.append method is deprecated and will be removed from pandas in a future version. Use pandas.concat instead.\n",
      "  self.df = self.df.append(row, ignore_index=True)\n",
      "\n",
      "[Succeeded / Failed / Skipped / Total] 131 / 12 / 12 / 155:  78%|███████▊  | 155/200 [04:43<01:22,  1.83s/it]\u001b[A"
     ]
    },
    {
     "name": "stdout",
     "output_type": "stream",
     "text": [
      "--------------------------------------------- Result 155 ---------------------------------------------\n",
      "[[Positive (100%)]] --> [[Negative (95%)]]\n",
      "\n",
      "a [[solid]] [[examination]] of the male midlife crisis . \n",
      "\n",
      "a [[stables]] [[scrutinized]] of the male midlife crisis . \n",
      "\n",
      "\n"
     ]
    },
    {
     "name": "stderr",
     "output_type": "stream",
     "text": [
      "/scratch/sp6646/envs_dirs/swap_env/lib/python3.8/site-packages/textattack/loggers/csv_logger.py:41: FutureWarning: The frame.append method is deprecated and will be removed from pandas in a future version. Use pandas.concat instead.\n",
      "  self.df = self.df.append(row, ignore_index=True)\n",
      "\n",
      "[Succeeded / Failed / Skipped / Total] 132 / 12 / 12 / 156:  78%|███████▊  | 156/200 [04:46<01:20,  1.84s/it]\u001b[A"
     ]
    },
    {
     "name": "stdout",
     "output_type": "stream",
     "text": [
      "--------------------------------------------- Result 156 ---------------------------------------------\n",
      "[[Negative (100%)]] --> [[Positive (60%)]]\n",
      "\n",
      "a nightmare date with a half-formed wit [[done]] a great [[disservice]] by a [[lack]] of [[critical]] distance and a [[sad]] trust in liberal arts college bumper sticker platitudes . \n",
      "\n",
      "a nightmare date with a half-formed wit [[achieved]] a great [[bashing]] by a [[rarity]] of [[decisive]] distance and a [[harrowing]] trust in liberal arts college bumper sticker platitudes . \n",
      "\n",
      "\n"
     ]
    },
    {
     "name": "stderr",
     "output_type": "stream",
     "text": [
      "\n",
      "[Succeeded / Failed / Skipped / Total] 132 / 12 / 12 / 156:  78%|███████▊  | 157/200 [04:47<01:18,  1.83s/it]\u001b[A/scratch/sp6646/envs_dirs/swap_env/lib/python3.8/site-packages/textattack/loggers/csv_logger.py:41: FutureWarning: The frame.append method is deprecated and will be removed from pandas in a future version. Use pandas.concat instead.\n",
      "  self.df = self.df.append(row, ignore_index=True)\n",
      "\n",
      "[Succeeded / Failed / Skipped / Total] 133 / 12 / 12 / 157:  78%|███████▊  | 157/200 [04:47<01:18,  1.83s/it]\u001b[A"
     ]
    },
    {
     "name": "stdout",
     "output_type": "stream",
     "text": [
      "--------------------------------------------- Result 157 ---------------------------------------------\n",
      "[[Positive (100%)]] --> [[Negative (85%)]]\n",
      "\n",
      "[[manages]] to [[transcend]] the sex , drugs and show-tunes plot into something far richer . \n",
      "\n",
      "[[administration]] to [[supplant]] the sex , drugs and show-tunes plot into something far richer . \n",
      "\n",
      "\n"
     ]
    },
    {
     "name": "stderr",
     "output_type": "stream",
     "text": [
      "/scratch/sp6646/envs_dirs/swap_env/lib/python3.8/site-packages/textattack/loggers/csv_logger.py:41: FutureWarning: The frame.append method is deprecated and will be removed from pandas in a future version. Use pandas.concat instead.\n",
      "  self.df = self.df.append(row, ignore_index=True)\n",
      "\n",
      "[Succeeded / Failed / Skipped / Total] 134 / 12 / 12 / 158:  79%|███████▉  | 158/200 [04:48<01:16,  1.82s/it]\u001b[A"
     ]
    },
    {
     "name": "stdout",
     "output_type": "stream",
     "text": [
      "--------------------------------------------- Result 158 ---------------------------------------------\n",
      "[[Negative (99%)]] --> [[Positive (53%)]]\n",
      "\n",
      "it takes talent to make a [[lifeless]] movie about the most heinous man who ever lived . \n",
      "\n",
      "it takes talent to make a [[uninspiring]] movie about the most heinous man who ever lived . \n",
      "\n",
      "\n"
     ]
    },
    {
     "name": "stderr",
     "output_type": "stream",
     "text": [
      "/scratch/sp6646/envs_dirs/swap_env/lib/python3.8/site-packages/textattack/loggers/csv_logger.py:41: FutureWarning: The frame.append method is deprecated and will be removed from pandas in a future version. Use pandas.concat instead.\n",
      "  self.df = self.df.append(row, ignore_index=True)\n",
      "\n",
      "[Succeeded / Failed / Skipped / Total] 135 / 12 / 12 / 159:  80%|███████▉  | 159/200 [04:48<01:14,  1.82s/it]\u001b[A"
     ]
    },
    {
     "name": "stdout",
     "output_type": "stream",
     "text": [
      "--------------------------------------------- Result 159 ---------------------------------------------\n",
      "[[Negative (78%)]] --> [[Positive (94%)]]\n",
      "\n",
      "by getting myself wrapped up in the visuals and eccentricities of many of the characters , i found myself [[confused]] when it came time to get to the heart of the movie . \n",
      "\n",
      "by getting myself wrapped up in the visuals and eccentricities of many of the characters , i found myself [[puzzled]] when it came time to get to the heart of the movie . \n",
      "\n",
      "\n"
     ]
    },
    {
     "name": "stderr",
     "output_type": "stream",
     "text": [
      "\n",
      "[Succeeded / Failed / Skipped / Total] 135 / 12 / 12 / 159:  80%|████████  | 160/200 [04:49<01:12,  1.81s/it]\u001b[A/scratch/sp6646/envs_dirs/swap_env/lib/python3.8/site-packages/textattack/loggers/csv_logger.py:41: FutureWarning: The frame.append method is deprecated and will be removed from pandas in a future version. Use pandas.concat instead.\n",
      "  self.df = self.df.append(row, ignore_index=True)\n",
      "\n",
      "[Succeeded / Failed / Skipped / Total] 136 / 12 / 12 / 160:  80%|████████  | 160/200 [04:49<01:12,  1.81s/it]\u001b[A"
     ]
    },
    {
     "name": "stdout",
     "output_type": "stream",
     "text": [
      "--------------------------------------------- Result 160 ---------------------------------------------\n",
      "[[Positive (100%)]] --> [[Negative (100%)]]\n",
      "\n",
      "like leon , it 's frustrating and still oddly [[likable]] . \n",
      "\n",
      "like leon , it 's frustrating and still oddly [[unlikable]] . \n",
      "\n",
      "\n"
     ]
    },
    {
     "name": "stderr",
     "output_type": "stream",
     "text": [
      "/scratch/sp6646/envs_dirs/swap_env/lib/python3.8/site-packages/textattack/loggers/csv_logger.py:41: FutureWarning: The frame.append method is deprecated and will be removed from pandas in a future version. Use pandas.concat instead.\n",
      "  self.df = self.df.append(row, ignore_index=True)\n",
      "\n",
      "[Succeeded / Failed / Skipped / Total] 137 / 12 / 12 / 161:  80%|████████  | 161/200 [04:52<01:10,  1.82s/it]\u001b[A"
     ]
    },
    {
     "name": "stdout",
     "output_type": "stream",
     "text": [
      "--------------------------------------------- Result 161 ---------------------------------------------\n",
      "[[Negative (100%)]] --> [[Positive (78%)]]\n",
      "\n",
      "uncommonly stylish but equally silly ... the [[picture]] [[fails]] to [[generate]] [[much]] suspense , nor does it [[ask]] searching enough questions to justify its pretensions . \n",
      "\n",
      "uncommonly stylish but equally silly ... the [[scenery]] [[overlooking]] to [[brings]] [[many]] suspense , nor does it [[require]] searching enough questions to justify its pretensions . \n",
      "\n",
      "\n"
     ]
    },
    {
     "name": "stderr",
     "output_type": "stream",
     "text": [
      "/scratch/sp6646/envs_dirs/swap_env/lib/python3.8/site-packages/textattack/loggers/csv_logger.py:41: FutureWarning: The frame.append method is deprecated and will be removed from pandas in a future version. Use pandas.concat instead.\n",
      "  self.df = self.df.append(row, ignore_index=True)\n",
      "\n",
      "[Succeeded / Failed / Skipped / Total] 138 / 12 / 12 / 162:  81%|████████  | 162/200 [04:52<01:08,  1.81s/it]\u001b[A"
     ]
    },
    {
     "name": "stdout",
     "output_type": "stream",
     "text": [
      "--------------------------------------------- Result 162 ---------------------------------------------\n",
      "[[Negative (97%)]] --> [[Positive (82%)]]\n",
      "\n",
      "not [[exactly]] the bees knees \n",
      "\n",
      "not [[solely]] the bees knees \n",
      "\n",
      "\n"
     ]
    },
    {
     "name": "stderr",
     "output_type": "stream",
     "text": [
      "\n",
      "[Succeeded / Failed / Skipped / Total] 138 / 12 / 12 / 162:  82%|████████▏ | 163/200 [04:55<01:07,  1.81s/it]\u001b[A/scratch/sp6646/envs_dirs/swap_env/lib/python3.8/site-packages/textattack/loggers/csv_logger.py:41: FutureWarning: The frame.append method is deprecated and will be removed from pandas in a future version. Use pandas.concat instead.\n",
      "  self.df = self.df.append(row, ignore_index=True)\n",
      "\n",
      "[Succeeded / Failed / Skipped / Total] 139 / 12 / 12 / 163:  82%|████████▏ | 163/200 [04:55<01:07,  1.81s/it]\u001b[A"
     ]
    },
    {
     "name": "stdout",
     "output_type": "stream",
     "text": [
      "--------------------------------------------- Result 163 ---------------------------------------------\n",
      "[[Negative (100%)]] --> [[Positive (59%)]]\n",
      "\n",
      "there [[seems]] to [[be]] no [[clear]] [[path]] as to where the story 's going , or how [[long]] it 's going to take to get there . \n",
      "\n",
      "there [[arise]] to [[worden]] no [[flagrant]] [[journeys]] as to where the story 's going , or how [[lasting]] it 's going to take to get there . \n",
      "\n",
      "\n"
     ]
    },
    {
     "name": "stderr",
     "output_type": "stream",
     "text": [
      "/scratch/sp6646/envs_dirs/swap_env/lib/python3.8/site-packages/textattack/loggers/csv_logger.py:41: FutureWarning: The frame.append method is deprecated and will be removed from pandas in a future version. Use pandas.concat instead.\n",
      "  self.df = self.df.append(row, ignore_index=True)\n",
      "\n",
      "[Succeeded / Failed / Skipped / Total] 139 / 13 / 12 / 164:  82%|████████▏ | 164/200 [04:58<01:05,  1.82s/it]\u001b[A"
     ]
    },
    {
     "name": "stdout",
     "output_type": "stream",
     "text": [
      "--------------------------------------------- Result 164 ---------------------------------------------\n",
      "[[Negative (99%)]] --> [[[FAILED]]]\n",
      "\n",
      "slapstick buffoonery can tickle many a preschooler 's fancy , but when it costs a family of four about $ 40 to see a film in theaters , why spend money on a dog like this when you can rent a pedigree instead ? \n",
      "\n",
      "\n"
     ]
    },
    {
     "name": "stderr",
     "output_type": "stream",
     "text": [
      "/scratch/sp6646/envs_dirs/swap_env/lib/python3.8/site-packages/textattack/loggers/csv_logger.py:41: FutureWarning: The frame.append method is deprecated and will be removed from pandas in a future version. Use pandas.concat instead.\n",
      "  self.df = self.df.append(row, ignore_index=True)\n",
      "\n",
      "[Succeeded / Failed / Skipped / Total] 140 / 13 / 12 / 165:  82%|████████▎ | 165/200 [04:59<01:03,  1.81s/it]\u001b[A"
     ]
    },
    {
     "name": "stdout",
     "output_type": "stream",
     "text": [
      "--------------------------------------------- Result 165 ---------------------------------------------\n",
      "[[Positive (100%)]] --> [[Negative (96%)]]\n",
      "\n",
      "a woman 's [[pic]] [[directed]] with [[resonance]] by ilya chaiken . \n",
      "\n",
      "a woman 's [[pac]] [[targeted]] with [[harmonics]] by ilya chaiken . \n",
      "\n",
      "\n"
     ]
    },
    {
     "name": "stderr",
     "output_type": "stream",
     "text": [
      "\n",
      "[Succeeded / Failed / Skipped / Total] 140 / 13 / 12 / 165:  83%|████████▎ | 166/200 [05:00<01:01,  1.81s/it]\u001b[A/scratch/sp6646/envs_dirs/swap_env/lib/python3.8/site-packages/textattack/loggers/csv_logger.py:41: FutureWarning: The frame.append method is deprecated and will be removed from pandas in a future version. Use pandas.concat instead.\n",
      "  self.df = self.df.append(row, ignore_index=True)\n",
      "\n",
      "[Succeeded / Failed / Skipped / Total] 141 / 13 / 12 / 166:  83%|████████▎ | 166/200 [05:00<01:01,  1.81s/it]\u001b[A"
     ]
    },
    {
     "name": "stdout",
     "output_type": "stream",
     "text": [
      "--------------------------------------------- Result 166 ---------------------------------------------\n",
      "[[Negative (97%)]] --> [[Positive (64%)]]\n",
      "\n",
      "may reawaken discussion of the kennedy assassination but this fictional film looks [[made]] for [[cable]] rather than for the big screen . \n",
      "\n",
      "may reawaken discussion of the kennedy assassination but this fictional film looks [[brought]] for [[coax]] rather than for the big screen . \n",
      "\n",
      "\n"
     ]
    },
    {
     "name": "stderr",
     "output_type": "stream",
     "text": [
      "/scratch/sp6646/envs_dirs/swap_env/lib/python3.8/site-packages/textattack/loggers/csv_logger.py:41: FutureWarning: The frame.append method is deprecated and will be removed from pandas in a future version. Use pandas.concat instead.\n",
      "  self.df = self.df.append(row, ignore_index=True)\n",
      "\n",
      "[Succeeded / Failed / Skipped / Total] 142 / 13 / 12 / 167:  84%|████████▎ | 167/200 [05:01<00:59,  1.80s/it]\u001b[A"
     ]
    },
    {
     "name": "stdout",
     "output_type": "stream",
     "text": [
      "--------------------------------------------- Result 167 ---------------------------------------------\n",
      "[[Negative (82%)]] --> [[Positive (89%)]]\n",
      "\n",
      "characters [[still]] need to function according to some set of believable and comprehensible impulses , no matter how many drugs they do or how much artistic license avary employs . \n",
      "\n",
      "characters [[yet]] need to function according to some set of believable and comprehensible impulses , no matter how many drugs they do or how much artistic license avary employs . \n",
      "\n",
      "\n"
     ]
    },
    {
     "name": "stderr",
     "output_type": "stream",
     "text": [
      "/scratch/sp6646/envs_dirs/swap_env/lib/python3.8/site-packages/textattack/loggers/csv_logger.py:41: FutureWarning: The frame.append method is deprecated and will be removed from pandas in a future version. Use pandas.concat instead.\n",
      "  self.df = self.df.append(row, ignore_index=True)\n",
      "\n",
      "[Succeeded / Failed / Skipped / Total] 142 / 14 / 12 / 168:  84%|████████▍ | 168/200 [05:02<00:57,  1.80s/it]\u001b[A"
     ]
    },
    {
     "name": "stdout",
     "output_type": "stream",
     "text": [
      "--------------------------------------------- Result 168 ---------------------------------------------\n",
      "[[Negative (100%)]] --> [[[FAILED]]]\n",
      "\n",
      "the end result is a film that 's neither . \n",
      "\n",
      "\n"
     ]
    },
    {
     "name": "stderr",
     "output_type": "stream",
     "text": [
      "\n",
      "[Succeeded / Failed / Skipped / Total] 142 / 14 / 12 / 168:  84%|████████▍ | 169/200 [05:03<00:55,  1.80s/it]\u001b[A/scratch/sp6646/envs_dirs/swap_env/lib/python3.8/site-packages/textattack/loggers/csv_logger.py:41: FutureWarning: The frame.append method is deprecated and will be removed from pandas in a future version. Use pandas.concat instead.\n",
      "  self.df = self.df.append(row, ignore_index=True)\n",
      "\n",
      "[Succeeded / Failed / Skipped / Total] 143 / 14 / 12 / 169:  84%|████████▍ | 169/200 [05:03<00:55,  1.80s/it]\u001b[A"
     ]
    },
    {
     "name": "stdout",
     "output_type": "stream",
     "text": [
      "--------------------------------------------- Result 169 ---------------------------------------------\n",
      "[[Positive (100%)]] --> [[Negative (70%)]]\n",
      "\n",
      "[[manages]] to [[be]] sweet and wickedly [[satisfying]] at the same time . \n",
      "\n",
      "[[implements]] to [[got]] sweet and wickedly [[fecund]] at the same time . \n",
      "\n",
      "\n"
     ]
    },
    {
     "name": "stderr",
     "output_type": "stream",
     "text": [
      "/scratch/sp6646/envs_dirs/swap_env/lib/python3.8/site-packages/textattack/loggers/csv_logger.py:41: FutureWarning: The frame.append method is deprecated and will be removed from pandas in a future version. Use pandas.concat instead.\n",
      "  self.df = self.df.append(row, ignore_index=True)\n",
      "\n",
      "[Succeeded / Failed / Skipped / Total] 144 / 14 / 12 / 170:  85%|████████▌ | 170/200 [05:04<00:53,  1.79s/it]\u001b[A"
     ]
    },
    {
     "name": "stdout",
     "output_type": "stream",
     "text": [
      "--------------------------------------------- Result 170 ---------------------------------------------\n",
      "[[Positive (100%)]] --> [[Negative (98%)]]\n",
      "\n",
      "leigh 's film is [[full]] of [[memorable]] performances from top to bottom . \n",
      "\n",
      "leigh 's film is [[utter]] of [[salient]] performances from top to bottom . \n",
      "\n",
      "\n"
     ]
    },
    {
     "name": "stderr",
     "output_type": "stream",
     "text": [
      "/scratch/sp6646/envs_dirs/swap_env/lib/python3.8/site-packages/textattack/loggers/csv_logger.py:41: FutureWarning: The frame.append method is deprecated and will be removed from pandas in a future version. Use pandas.concat instead.\n",
      "  self.df = self.df.append(row, ignore_index=True)\n",
      "\n",
      "[Succeeded / Failed / Skipped / Total] 145 / 14 / 12 / 171:  86%|████████▌ | 171/200 [05:05<00:51,  1.79s/it]\u001b[A\n",
      "[Succeeded / Failed / Skipped / Total] 145 / 14 / 12 / 171:  86%|████████▌ | 172/200 [05:05<00:49,  1.78s/it]\u001b[A/scratch/sp6646/envs_dirs/swap_env/lib/python3.8/site-packages/textattack/loggers/csv_logger.py:41: FutureWarning: The frame.append method is deprecated and will be removed from pandas in a future version. Use pandas.concat instead.\n",
      "  self.df = self.df.append(row, ignore_index=True)\n",
      "\n",
      "[Succeeded / Failed / Skipped / Total] 145 / 14 / 13 / 172:  86%|████████▌ | 172/200 [05:05<00:49,  1.78s/it]\u001b[A/scratch/sp6646/envs_dirs/swap_env/lib/python3.8/site-packages/textattack/loggers/csv_logger.py:41: FutureWarning: The frame.append method is deprecated and will be removed from pandas in a future version. Use pandas.concat instead.\n",
      "  self.df = self.df.append(row, ignore_index=True)\n",
      "\n",
      "[Succeeded / Failed / Skipped / Total] 145 / 14 / 14 / 173:  86%|████████▋ | 173/200 [05:05<00:47,  1.77s/it]\u001b[A"
     ]
    },
    {
     "name": "stdout",
     "output_type": "stream",
     "text": [
      "--------------------------------------------- Result 171 ---------------------------------------------\n",
      "[[Positive (100%)]] --> [[Negative (93%)]]\n",
      "\n",
      "it 's also , clearly , great [[fun]] . \n",
      "\n",
      "it 's also , clearly , great [[droll]] . \n",
      "\n",
      "\n",
      "--------------------------------------------- Result 172 ---------------------------------------------\n",
      "[[Positive (70%)]] --> [[[SKIPPED]]]\n",
      "\n",
      "rarely has leukemia looked so shimmering and benign . \n",
      "\n",
      "\n",
      "--------------------------------------------- Result 173 ---------------------------------------------\n",
      "[[Negative (87%)]] --> [[[SKIPPED]]]\n",
      "\n",
      "it seems like i have been waiting my whole life for this movie and now i ca n't wait for the sequel . \n",
      "\n",
      "\n"
     ]
    },
    {
     "name": "stderr",
     "output_type": "stream",
     "text": [
      "/scratch/sp6646/envs_dirs/swap_env/lib/python3.8/site-packages/textattack/loggers/csv_logger.py:41: FutureWarning: The frame.append method is deprecated and will be removed from pandas in a future version. Use pandas.concat instead.\n",
      "  self.df = self.df.append(row, ignore_index=True)\n",
      "\n",
      "[Succeeded / Failed / Skipped / Total] 146 / 14 / 14 / 174:  87%|████████▋ | 174/200 [05:06<00:45,  1.76s/it]\u001b[A"
     ]
    },
    {
     "name": "stdout",
     "output_type": "stream",
     "text": [
      "--------------------------------------------- Result 174 ---------------------------------------------\n",
      "[[Negative (99%)]] --> [[Positive (65%)]]\n",
      "\n",
      "determined to be fun , and bouncy , with energetic musicals , the humor [[did]] n't quite [[engage]] this adult . \n",
      "\n",
      "determined to be fun , and bouncy , with energetic musicals , the humor [[know]] n't quite [[engages]] this adult . \n",
      "\n",
      "\n"
     ]
    },
    {
     "name": "stderr",
     "output_type": "stream",
     "text": [
      "\n",
      "[Succeeded / Failed / Skipped / Total] 146 / 14 / 14 / 174:  88%|████████▊ | 175/200 [05:07<00:43,  1.76s/it]\u001b[A/scratch/sp6646/envs_dirs/swap_env/lib/python3.8/site-packages/textattack/loggers/csv_logger.py:41: FutureWarning: The frame.append method is deprecated and will be removed from pandas in a future version. Use pandas.concat instead.\n",
      "  self.df = self.df.append(row, ignore_index=True)\n",
      "\n",
      "[Succeeded / Failed / Skipped / Total] 147 / 14 / 14 / 175:  88%|████████▊ | 175/200 [05:07<00:43,  1.76s/it]\u001b[A"
     ]
    },
    {
     "name": "stdout",
     "output_type": "stream",
     "text": [
      "--------------------------------------------- Result 175 ---------------------------------------------\n",
      "[[Positive (100%)]] --> [[Negative (65%)]]\n",
      "\n",
      "if you dig on david mamet 's mind tricks ... rent this movie and [[enjoy]] ! \n",
      "\n",
      "if you dig on david mamet 's mind tricks ... rent this movie and [[has]] ! \n",
      "\n",
      "\n"
     ]
    },
    {
     "name": "stderr",
     "output_type": "stream",
     "text": [
      "/scratch/sp6646/envs_dirs/swap_env/lib/python3.8/site-packages/textattack/loggers/csv_logger.py:41: FutureWarning: The frame.append method is deprecated and will be removed from pandas in a future version. Use pandas.concat instead.\n",
      "  self.df = self.df.append(row, ignore_index=True)\n",
      "\n",
      "[Succeeded / Failed / Skipped / Total] 148 / 14 / 14 / 176:  88%|████████▊ | 176/200 [05:08<00:42,  1.75s/it]\u001b[A"
     ]
    },
    {
     "name": "stdout",
     "output_type": "stream",
     "text": [
      "--------------------------------------------- Result 176 ---------------------------------------------\n",
      "[[Positive (100%)]] --> [[Negative (60%)]]\n",
      "\n",
      "bleakly [[funny]] , its characters all the more touching for refusing to pity or memorialize themselves . \n",
      "\n",
      "bleakly [[droll]] , its characters all the more touching for refusing to pity or memorialize themselves . \n",
      "\n",
      "\n"
     ]
    },
    {
     "name": "stderr",
     "output_type": "stream",
     "text": [
      "/scratch/sp6646/envs_dirs/swap_env/lib/python3.8/site-packages/textattack/loggers/csv_logger.py:41: FutureWarning: The frame.append method is deprecated and will be removed from pandas in a future version. Use pandas.concat instead.\n",
      "  self.df = self.df.append(row, ignore_index=True)\n",
      "\n",
      "[Succeeded / Failed / Skipped / Total] 149 / 14 / 14 / 177:  88%|████████▊ | 177/200 [05:09<00:40,  1.75s/it]\u001b[A"
     ]
    },
    {
     "name": "stdout",
     "output_type": "stream",
     "text": [
      "--------------------------------------------- Result 177 ---------------------------------------------\n",
      "[[Negative (97%)]] --> [[Positive (51%)]]\n",
      "\n",
      "delivers the same [[old]] same [[old]] , tarted up with latin flava and [[turned]] out by hollywood playas . \n",
      "\n",
      "delivers the same [[previous]] same [[previous]] , tarted up with latin flava and [[evolved]] out by hollywood playas . \n",
      "\n",
      "\n"
     ]
    },
    {
     "name": "stderr",
     "output_type": "stream",
     "text": [
      "\n",
      "[Succeeded / Failed / Skipped / Total] 149 / 14 / 14 / 177:  89%|████████▉ | 178/200 [05:11<00:38,  1.75s/it]\u001b[A/scratch/sp6646/envs_dirs/swap_env/lib/python3.8/site-packages/textattack/loggers/csv_logger.py:41: FutureWarning: The frame.append method is deprecated and will be removed from pandas in a future version. Use pandas.concat instead.\n",
      "  self.df = self.df.append(row, ignore_index=True)\n",
      "\n",
      "[Succeeded / Failed / Skipped / Total] 150 / 14 / 14 / 178:  89%|████████▉ | 178/200 [05:11<00:38,  1.75s/it]\u001b[A"
     ]
    },
    {
     "name": "stdout",
     "output_type": "stream",
     "text": [
      "--------------------------------------------- Result 178 ---------------------------------------------\n",
      "[[Negative (100%)]] --> [[Positive (53%)]]\n",
      "\n",
      "[[does]] n't [[offer]] [[much]] besides glib soullessness , raunchy language and a series of brutal [[set]] pieces ... that raise the bar on stylized screen [[violence]] . \n",
      "\n",
      "[[fact]] n't [[tender]] [[muy]] besides glib soullessness , raunchy language and a series of brutal [[setting]] pieces ... that raise the bar on stylized screen [[onslaught]] . \n",
      "\n",
      "\n"
     ]
    },
    {
     "name": "stderr",
     "output_type": "stream",
     "text": [
      "/scratch/sp6646/envs_dirs/swap_env/lib/python3.8/site-packages/textattack/loggers/csv_logger.py:41: FutureWarning: The frame.append method is deprecated and will be removed from pandas in a future version. Use pandas.concat instead.\n",
      "  self.df = self.df.append(row, ignore_index=True)\n",
      "\n",
      "[Succeeded / Failed / Skipped / Total] 151 / 14 / 14 / 179:  90%|████████▉ | 179/200 [05:12<00:36,  1.75s/it]\u001b[A"
     ]
    },
    {
     "name": "stdout",
     "output_type": "stream",
     "text": [
      "--------------------------------------------- Result 179 ---------------------------------------------\n",
      "[[Negative (98%)]] --> [[Positive (55%)]]\n",
      "\n",
      "it made me [[want]] to wrench my eyes out of my head and [[toss]] them at the screen . \n",
      "\n",
      "it made me [[dont]] to wrench my eyes out of my head and [[lays]] them at the screen . \n",
      "\n",
      "\n"
     ]
    },
    {
     "name": "stderr",
     "output_type": "stream",
     "text": [
      "/scratch/sp6646/envs_dirs/swap_env/lib/python3.8/site-packages/textattack/loggers/csv_logger.py:41: FutureWarning: The frame.append method is deprecated and will be removed from pandas in a future version. Use pandas.concat instead.\n",
      "  self.df = self.df.append(row, ignore_index=True)\n",
      "\n",
      "[Succeeded / Failed / Skipped / Total] 152 / 14 / 14 / 180:  90%|█████████ | 180/200 [05:13<00:34,  1.74s/it]\u001b[A"
     ]
    },
    {
     "name": "stdout",
     "output_type": "stream",
     "text": [
      "--------------------------------------------- Result 180 ---------------------------------------------\n",
      "[[Positive (100%)]] --> [[Negative (98%)]]\n",
      "\n",
      "the film 's [[performances]] are [[thrilling]] . \n",
      "\n",
      "the film 's [[executions]] are [[scintillating]] . \n",
      "\n",
      "\n"
     ]
    },
    {
     "name": "stderr",
     "output_type": "stream",
     "text": [
      "\n",
      "[Succeeded / Failed / Skipped / Total] 152 / 14 / 14 / 180:  90%|█████████ | 181/200 [05:15<00:33,  1.74s/it]\u001b[A/scratch/sp6646/envs_dirs/swap_env/lib/python3.8/site-packages/textattack/loggers/csv_logger.py:41: FutureWarning: The frame.append method is deprecated and will be removed from pandas in a future version. Use pandas.concat instead.\n",
      "  self.df = self.df.append(row, ignore_index=True)\n",
      "\n",
      "[Succeeded / Failed / Skipped / Total] 153 / 14 / 14 / 181:  90%|█████████ | 181/200 [05:15<00:33,  1.74s/it]\u001b[A"
     ]
    },
    {
     "name": "stdout",
     "output_type": "stream",
     "text": [
      "--------------------------------------------- Result 181 ---------------------------------------------\n",
      "[[Negative (99%)]] --> [[Positive (91%)]]\n",
      "\n",
      "unfortunately , it 's not silly fun unless you [[enjoy]] really [[bad]] [[movies]] . \n",
      "\n",
      "unfortunately , it 's not silly fun unless you [[cherishes]] really [[wicked]] [[panorama]] . \n",
      "\n",
      "\n"
     ]
    },
    {
     "name": "stderr",
     "output_type": "stream",
     "text": [
      "/scratch/sp6646/envs_dirs/swap_env/lib/python3.8/site-packages/textattack/loggers/csv_logger.py:41: FutureWarning: The frame.append method is deprecated and will be removed from pandas in a future version. Use pandas.concat instead.\n",
      "  self.df = self.df.append(row, ignore_index=True)\n",
      "\n",
      "[Succeeded / Failed / Skipped / Total] 154 / 14 / 14 / 182:  91%|█████████ | 182/200 [05:18<00:31,  1.75s/it]\u001b[A"
     ]
    },
    {
     "name": "stdout",
     "output_type": "stream",
     "text": [
      "--------------------------------------------- Result 182 ---------------------------------------------\n",
      "[[Negative (100%)]] --> [[Positive (90%)]]\n",
      "\n",
      "it 's a [[bad]] [[thing]] when a [[movie]] [[has]] about as [[much]] [[substance]] as its [[end]] [[credits]] blooper [[reel]] . \n",
      "\n",
      "it 's a [[wicked]] [[something]] when a [[moviemaking]] [[enjoy]] about as [[multiple]] [[compounds]] as its [[closure]] [[lending]] blooper [[roller]] . \n",
      "\n",
      "\n"
     ]
    },
    {
     "name": "stderr",
     "output_type": "stream",
     "text": [
      "/scratch/sp6646/envs_dirs/swap_env/lib/python3.8/site-packages/textattack/loggers/csv_logger.py:41: FutureWarning: The frame.append method is deprecated and will be removed from pandas in a future version. Use pandas.concat instead.\n",
      "  self.df = self.df.append(row, ignore_index=True)\n",
      "\n",
      "[Succeeded / Failed / Skipped / Total] 154 / 15 / 14 / 183:  92%|█████████▏| 183/200 [05:20<00:29,  1.75s/it]\u001b[A\n",
      "[Succeeded / Failed / Skipped / Total] 154 / 15 / 14 / 183:  92%|█████████▏| 184/200 [05:20<00:27,  1.74s/it]\u001b[A/scratch/sp6646/envs_dirs/swap_env/lib/python3.8/site-packages/textattack/loggers/csv_logger.py:41: FutureWarning: The frame.append method is deprecated and will be removed from pandas in a future version. Use pandas.concat instead.\n",
      "  self.df = self.df.append(row, ignore_index=True)\n",
      "\n",
      "[Succeeded / Failed / Skipped / Total] 154 / 15 / 15 / 184:  92%|█████████▏| 184/200 [05:20<00:27,  1.74s/it]\u001b[A"
     ]
    },
    {
     "name": "stdout",
     "output_type": "stream",
     "text": [
      "--------------------------------------------- Result 183 ---------------------------------------------\n",
      "[[Negative (100%)]] --> [[[FAILED]]]\n",
      "\n",
      "i sympathize with the plight of these families , but the movie does n't do a very good job conveying the issue at hand . \n",
      "\n",
      "\n",
      "--------------------------------------------- Result 184 ---------------------------------------------\n",
      "[[Positive (100%)]] --> [[[SKIPPED]]]\n",
      "\n",
      "the lower your expectations , the more you 'll enjoy it . \n",
      "\n",
      "\n"
     ]
    },
    {
     "name": "stderr",
     "output_type": "stream",
     "text": [
      "/scratch/sp6646/envs_dirs/swap_env/lib/python3.8/site-packages/textattack/loggers/csv_logger.py:41: FutureWarning: The frame.append method is deprecated and will be removed from pandas in a future version. Use pandas.concat instead.\n",
      "  self.df = self.df.append(row, ignore_index=True)\n",
      "\n",
      "[Succeeded / Failed / Skipped / Total] 155 / 15 / 15 / 185:  92%|█████████▎| 185/200 [05:21<00:26,  1.74s/it]\u001b[A"
     ]
    },
    {
     "name": "stdout",
     "output_type": "stream",
     "text": [
      "--------------------------------------------- Result 185 ---------------------------------------------\n",
      "[[Negative (90%)]] --> [[Positive (71%)]]\n",
      "\n",
      "though perry and hurley make inspiring efforts to breathe life into the disjointed , [[haphazard]] script by jay scherick and david ronn , neither the actors nor director reginald hudlin can make it more than fitfully entertaining . \n",
      "\n",
      "though perry and hurley make inspiring efforts to breathe life into the disjointed , [[disjointed]] script by jay scherick and david ronn , neither the actors nor director reginald hudlin can make it more than fitfully entertaining . \n",
      "\n",
      "\n"
     ]
    },
    {
     "name": "stderr",
     "output_type": "stream",
     "text": [
      "/scratch/sp6646/envs_dirs/swap_env/lib/python3.8/site-packages/textattack/loggers/csv_logger.py:41: FutureWarning: The frame.append method is deprecated and will be removed from pandas in a future version. Use pandas.concat instead.\n",
      "  self.df = self.df.append(row, ignore_index=True)\n",
      "\n",
      "[Succeeded / Failed / Skipped / Total] 155 / 16 / 15 / 186:  93%|█████████▎| 186/200 [05:23<00:24,  1.74s/it]\u001b[A"
     ]
    },
    {
     "name": "stdout",
     "output_type": "stream",
     "text": [
      "--------------------------------------------- Result 186 ---------------------------------------------\n",
      "[[Positive (100%)]] --> [[[FAILED]]]\n",
      "\n",
      "a must-see for the david mamet enthusiast and for anyone who appreciates intelligent , stylish moviemaking . \n",
      "\n",
      "\n"
     ]
    },
    {
     "name": "stderr",
     "output_type": "stream",
     "text": [
      "\n",
      "[Succeeded / Failed / Skipped / Total] 155 / 16 / 15 / 186:  94%|█████████▎| 187/200 [05:24<00:22,  1.73s/it]\u001b[A/scratch/sp6646/envs_dirs/swap_env/lib/python3.8/site-packages/textattack/loggers/csv_logger.py:41: FutureWarning: The frame.append method is deprecated and will be removed from pandas in a future version. Use pandas.concat instead.\n",
      "  self.df = self.df.append(row, ignore_index=True)\n",
      "\n",
      "[Succeeded / Failed / Skipped / Total] 156 / 16 / 15 / 187:  94%|█████████▎| 187/200 [05:24<00:22,  1.73s/it]\u001b[A"
     ]
    },
    {
     "name": "stdout",
     "output_type": "stream",
     "text": [
      "--------------------------------------------- Result 187 ---------------------------------------------\n",
      "[[Positive (99%)]] --> [[Negative (89%)]]\n",
      "\n",
      "pacino is [[brilliant]] as the sleep-deprived dormer , his increasing weariness as much existential as it is physical . \n",
      "\n",
      "pacino is [[super]] as the sleep-deprived dormer , his increasing weariness as much existential as it is physical . \n",
      "\n",
      "\n"
     ]
    },
    {
     "name": "stderr",
     "output_type": "stream",
     "text": [
      "/scratch/sp6646/envs_dirs/swap_env/lib/python3.8/site-packages/textattack/loggers/csv_logger.py:41: FutureWarning: The frame.append method is deprecated and will be removed from pandas in a future version. Use pandas.concat instead.\n",
      "  self.df = self.df.append(row, ignore_index=True)\n",
      "\n",
      "[Succeeded / Failed / Skipped / Total] 157 / 16 / 15 / 188:  94%|█████████▍| 188/200 [05:25<00:20,  1.73s/it]\u001b[A"
     ]
    },
    {
     "name": "stdout",
     "output_type": "stream",
     "text": [
      "--------------------------------------------- Result 188 ---------------------------------------------\n",
      "[[Positive (100%)]] --> [[Negative (84%)]]\n",
      "\n",
      "` de niro ... is a veritable source of [[sincere]] [[passion]] that this hollywood contrivance orbits around . ' \n",
      "\n",
      "` de niro ... is a veritable source of [[genuinely]] [[caprice]] that this hollywood contrivance orbits around . ' \n",
      "\n",
      "\n"
     ]
    },
    {
     "name": "stderr",
     "output_type": "stream",
     "text": [
      "/scratch/sp6646/envs_dirs/swap_env/lib/python3.8/site-packages/textattack/loggers/csv_logger.py:41: FutureWarning: The frame.append method is deprecated and will be removed from pandas in a future version. Use pandas.concat instead.\n",
      "  self.df = self.df.append(row, ignore_index=True)\n",
      "\n",
      "[Succeeded / Failed / Skipped / Total] 158 / 16 / 15 / 189:  94%|█████████▍| 189/200 [05:27<00:19,  1.73s/it]\u001b[A"
     ]
    },
    {
     "name": "stdout",
     "output_type": "stream",
     "text": [
      "--------------------------------------------- Result 189 ---------------------------------------------\n",
      "[[Negative (100%)]] --> [[Positive (63%)]]\n",
      "\n",
      "a misogynistic [[piece]] of [[filth]] that [[attempts]] to [[pass]] itself off as hip , young [[adult]] entertainment . \n",
      "\n",
      "a misogynistic [[slice]] of [[monsters]] that [[tempting]] to [[passport]] itself off as hip , young [[evolved]] entertainment . \n",
      "\n",
      "\n"
     ]
    },
    {
     "name": "stderr",
     "output_type": "stream",
     "text": [
      "\n",
      "[Succeeded / Failed / Skipped / Total] 158 / 16 / 15 / 189:  95%|█████████▌| 190/200 [05:28<00:17,  1.73s/it]\u001b[A/scratch/sp6646/envs_dirs/swap_env/lib/python3.8/site-packages/textattack/loggers/csv_logger.py:41: FutureWarning: The frame.append method is deprecated and will be removed from pandas in a future version. Use pandas.concat instead.\n",
      "  self.df = self.df.append(row, ignore_index=True)\n",
      "\n",
      "[Succeeded / Failed / Skipped / Total] 159 / 16 / 15 / 190:  95%|█████████▌| 190/200 [05:28<00:17,  1.73s/it]\u001b[A"
     ]
    },
    {
     "name": "stdout",
     "output_type": "stream",
     "text": [
      "--------------------------------------------- Result 190 ---------------------------------------------\n",
      "[[Negative (99%)]] --> [[Positive (64%)]]\n",
      "\n",
      "its story may be a thousand years old , but why did it have to [[seem]] [[like]] it [[took]] another thousand to tell it to us ? \n",
      "\n",
      "its story may be a thousand years old , but why did it have to [[gaze]] [[amore]] it [[accomplished]] another thousand to tell it to us ? \n",
      "\n",
      "\n"
     ]
    },
    {
     "name": "stderr",
     "output_type": "stream",
     "text": [
      "/scratch/sp6646/envs_dirs/swap_env/lib/python3.8/site-packages/textattack/loggers/csv_logger.py:41: FutureWarning: The frame.append method is deprecated and will be removed from pandas in a future version. Use pandas.concat instead.\n",
      "  self.df = self.df.append(row, ignore_index=True)\n",
      "\n",
      "[Succeeded / Failed / Skipped / Total] 160 / 16 / 15 / 191:  96%|█████████▌| 191/200 [05:30<00:15,  1.73s/it]\u001b[A"
     ]
    },
    {
     "name": "stdout",
     "output_type": "stream",
     "text": [
      "--------------------------------------------- Result 191 ---------------------------------------------\n",
      "[[Negative (98%)]] --> [[Positive (80%)]]\n",
      "\n",
      "try as i may , i ca n't think of a single good [[reason]] to see this movie , even [[though]] everyone in my group extemporaneously [[shouted]] , ` thank you ! ' \n",
      "\n",
      "try as i may , i ca n't think of a single good [[raison]] to see this movie , even [[albeit]] everyone in my group extemporaneously [[exclaimed]] , ` thank you ! ' \n",
      "\n",
      "\n"
     ]
    },
    {
     "name": "stderr",
     "output_type": "stream",
     "text": [
      "/scratch/sp6646/envs_dirs/swap_env/lib/python3.8/site-packages/textattack/loggers/csv_logger.py:41: FutureWarning: The frame.append method is deprecated and will be removed from pandas in a future version. Use pandas.concat instead.\n",
      "  self.df = self.df.append(row, ignore_index=True)\n",
      "\n",
      "[Succeeded / Failed / Skipped / Total] 161 / 16 / 15 / 192:  96%|█████████▌| 192/200 [05:32<00:13,  1.73s/it]\u001b[A"
     ]
    },
    {
     "name": "stdout",
     "output_type": "stream",
     "text": [
      "--------------------------------------------- Result 192 ---------------------------------------------\n",
      "[[Positive (100%)]] --> [[Negative (60%)]]\n",
      "\n",
      "the [[movie]] is [[beautiful]] to behold and [[engages]] one in a [[sense]] of epic struggle -- inner and outer -- that 's all too rare in hollywood 's hastier productions . \n",
      "\n",
      "the [[theaters]] is [[leggy]] to behold and [[commit]] one in a [[foreboding]] of epic struggle -- inner and outer -- that 's all too rare in hollywood 's hastier productions . \n",
      "\n",
      "\n"
     ]
    },
    {
     "name": "stderr",
     "output_type": "stream",
     "text": [
      "\n",
      "[Succeeded / Failed / Skipped / Total] 161 / 16 / 15 / 192:  96%|█████████▋| 193/200 [05:33<00:12,  1.73s/it]\u001b[A/scratch/sp6646/envs_dirs/swap_env/lib/python3.8/site-packages/textattack/loggers/csv_logger.py:41: FutureWarning: The frame.append method is deprecated and will be removed from pandas in a future version. Use pandas.concat instead.\n",
      "  self.df = self.df.append(row, ignore_index=True)\n",
      "\n",
      "[Succeeded / Failed / Skipped / Total] 162 / 16 / 15 / 193:  96%|█████████▋| 193/200 [05:33<00:12,  1.73s/it]\u001b[A"
     ]
    },
    {
     "name": "stdout",
     "output_type": "stream",
     "text": [
      "--------------------------------------------- Result 193 ---------------------------------------------\n",
      "[[Positive (90%)]] --> [[Negative (59%)]]\n",
      "\n",
      "a [[celebration]] of quirkiness , eccentricity , and certain individuals ' tendency to let it all hang out , and damn the consequences . \n",
      "\n",
      "a [[celebrations]] of quirkiness , eccentricity , and certain individuals ' tendency to let it all hang out , and damn the consequences . \n",
      "\n",
      "\n"
     ]
    },
    {
     "name": "stderr",
     "output_type": "stream",
     "text": [
      "/scratch/sp6646/envs_dirs/swap_env/lib/python3.8/site-packages/textattack/loggers/csv_logger.py:41: FutureWarning: The frame.append method is deprecated and will be removed from pandas in a future version. Use pandas.concat instead.\n",
      "  self.df = self.df.append(row, ignore_index=True)\n",
      "\n",
      "[Succeeded / Failed / Skipped / Total] 163 / 16 / 15 / 194:  97%|█████████▋| 194/200 [05:34<00:10,  1.72s/it]\u001b[A"
     ]
    },
    {
     "name": "stdout",
     "output_type": "stream",
     "text": [
      "--------------------------------------------- Result 194 ---------------------------------------------\n",
      "[[Positive (100%)]] --> [[Negative (72%)]]\n",
      "\n",
      "morton uses her face and her body language to bring us morvern 's [[soul]] , even [[though]] the [[character]] is almost completely deadpan . \n",
      "\n",
      "morton uses her face and her body language to bring us morvern 's [[gist]] , even [[except]] the [[personage]] is almost completely deadpan . \n",
      "\n",
      "\n"
     ]
    },
    {
     "name": "stderr",
     "output_type": "stream",
     "text": [
      "/scratch/sp6646/envs_dirs/swap_env/lib/python3.8/site-packages/textattack/loggers/csv_logger.py:41: FutureWarning: The frame.append method is deprecated and will be removed from pandas in a future version. Use pandas.concat instead.\n",
      "  self.df = self.df.append(row, ignore_index=True)\n",
      "\n",
      "[Succeeded / Failed / Skipped / Total] 164 / 16 / 15 / 195:  98%|█████████▊| 195/200 [05:35<00:08,  1.72s/it]\u001b[A"
     ]
    },
    {
     "name": "stdout",
     "output_type": "stream",
     "text": [
      "--------------------------------------------- Result 195 ---------------------------------------------\n",
      "[[Positive (100%)]] --> [[Negative (67%)]]\n",
      "\n",
      "instead of a hyperbolic beat-charged urban western , it 's an unpretentious , sociologically pointed [[slice]] of [[life]] . \n",
      "\n",
      "instead of a hyperbolic beat-charged urban western , it 's an unpretentious , sociologically pointed [[lowering]] of [[vie]] . \n",
      "\n",
      "\n"
     ]
    },
    {
     "name": "stderr",
     "output_type": "stream",
     "text": [
      "\n",
      "[Succeeded / Failed / Skipped / Total] 164 / 16 / 15 / 195:  98%|█████████▊| 196/200 [05:35<00:06,  1.71s/it]\u001b[A/scratch/sp6646/envs_dirs/swap_env/lib/python3.8/site-packages/textattack/loggers/csv_logger.py:41: FutureWarning: The frame.append method is deprecated and will be removed from pandas in a future version. Use pandas.concat instead.\n",
      "  self.df = self.df.append(row, ignore_index=True)\n",
      "\n",
      "[Succeeded / Failed / Skipped / Total] 165 / 16 / 15 / 196:  98%|█████████▊| 196/200 [05:35<00:06,  1.71s/it]\u001b[A"
     ]
    },
    {
     "name": "stdout",
     "output_type": "stream",
     "text": [
      "--------------------------------------------- Result 196 ---------------------------------------------\n",
      "[[Positive (98%)]] --> [[Negative (62%)]]\n",
      "\n",
      "my thoughts were focused on the [[characters]] . \n",
      "\n",
      "my thoughts were focused on the [[typeface]] . \n",
      "\n",
      "\n"
     ]
    },
    {
     "name": "stderr",
     "output_type": "stream",
     "text": [
      "/scratch/sp6646/envs_dirs/swap_env/lib/python3.8/site-packages/textattack/loggers/csv_logger.py:41: FutureWarning: The frame.append method is deprecated and will be removed from pandas in a future version. Use pandas.concat instead.\n",
      "  self.df = self.df.append(row, ignore_index=True)\n",
      "\n",
      "[Succeeded / Failed / Skipped / Total] 166 / 16 / 15 / 197:  98%|█████████▊| 197/200 [05:36<00:05,  1.71s/it]\u001b[A"
     ]
    },
    {
     "name": "stdout",
     "output_type": "stream",
     "text": [
      "--------------------------------------------- Result 197 ---------------------------------------------\n",
      "[[Positive (97%)]] --> [[Negative (99%)]]\n",
      "\n",
      "so , too , is this [[comedy]] about mild culture clashing in today 's new delhi . \n",
      "\n",
      "so , too , is this [[derision]] about mild culture clashing in today 's new delhi . \n",
      "\n",
      "\n"
     ]
    },
    {
     "name": "stderr",
     "output_type": "stream",
     "text": [
      "/scratch/sp6646/envs_dirs/swap_env/lib/python3.8/site-packages/textattack/loggers/csv_logger.py:41: FutureWarning: The frame.append method is deprecated and will be removed from pandas in a future version. Use pandas.concat instead.\n",
      "  self.df = self.df.append(row, ignore_index=True)\n",
      "\n",
      "[Succeeded / Failed / Skipped / Total] 167 / 16 / 15 / 198:  99%|█████████▉| 198/200 [05:37<00:03,  1.71s/it]\u001b[A"
     ]
    },
    {
     "name": "stdout",
     "output_type": "stream",
     "text": [
      "--------------------------------------------- Result 198 ---------------------------------------------\n",
      "[[Negative (100%)]] --> [[Positive (92%)]]\n",
      "\n",
      "for [[starters]] , the [[story]] is just too [[slim]] . \n",
      "\n",
      "for [[beginners]] , the [[storeys]] is just too [[cleverly]] . \n",
      "\n",
      "\n"
     ]
    },
    {
     "name": "stderr",
     "output_type": "stream",
     "text": [
      "\n",
      "[Succeeded / Failed / Skipped / Total] 167 / 16 / 15 / 198: 100%|█████████▉| 199/200 [05:39<00:01,  1.71s/it]\u001b[A/scratch/sp6646/envs_dirs/swap_env/lib/python3.8/site-packages/textattack/loggers/csv_logger.py:41: FutureWarning: The frame.append method is deprecated and will be removed from pandas in a future version. Use pandas.concat instead.\n",
      "  self.df = self.df.append(row, ignore_index=True)\n",
      "\n",
      "[Succeeded / Failed / Skipped / Total] 168 / 16 / 15 / 199: 100%|█████████▉| 199/200 [05:39<00:01,  1.71s/it]\u001b[A"
     ]
    },
    {
     "name": "stdout",
     "output_type": "stream",
     "text": [
      "--------------------------------------------- Result 199 ---------------------------------------------\n",
      "[[Positive (100%)]] --> [[Negative (70%)]]\n",
      "\n",
      "this is a [[winning]] [[ensemble]] comedy that shows [[canadians]] can put gentle laughs and equally gentle sentiments on the button , just as [[easily]] as their counterparts anywhere else in the world . \n",
      "\n",
      "this is a [[defeating]] [[overall]] comedy that shows [[canadiens]] can put gentle laughs and equally gentle sentiments on the button , just as [[mildly]] as their counterparts anywhere else in the world . \n",
      "\n",
      "\n"
     ]
    },
    {
     "name": "stderr",
     "output_type": "stream",
     "text": [
      "/scratch/sp6646/envs_dirs/swap_env/lib/python3.8/site-packages/textattack/loggers/csv_logger.py:41: FutureWarning: The frame.append method is deprecated and will be removed from pandas in a future version. Use pandas.concat instead.\n",
      "  self.df = self.df.append(row, ignore_index=True)\n",
      "\n",
      "[Succeeded / Failed / Skipped / Total] 169 / 16 / 15 / 200: 100%|██████████| 200/200 [05:40<00:00,  1.70s/it]\u001b[A\n"
     ]
    },
    {
     "name": "stdout",
     "output_type": "stream",
     "text": [
      "--------------------------------------------- Result 200 ---------------------------------------------\n",
      "[[Negative (96%)]] --> [[Positive (58%)]]\n",
      "\n",
      "at the very least , if you [[do]] n't know anything about derrida when you walk into the theater , you wo n't know [[much]] more when you leave . \n",
      "\n",
      "at the very least , if you [[suis]] n't know anything about derrida when you walk into the theater , you wo n't know [[dramatically]] more when you leave . \n",
      "\n",
      "\n",
      "\n",
      "+-------------------------------+--------+\n",
      "| Attack Results                |        |\n",
      "+-------------------------------+--------+\n",
      "| Number of successful attacks: | 169    |\n",
      "| Number of failed attacks:     | 16     |\n",
      "| Number of skipped attacks:    | 15     |\n",
      "| Original accuracy:            | 92.5%  |\n",
      "| Accuracy under attack:        | 8.0%   |\n",
      "| Attack success rate:          | 91.35% |\n",
      "| Average perturbed word %:     | 16.84% |\n",
      "| Average num. words per input: | 17.27  |\n",
      "| Avg num queries:              | 95.88  |\n",
      "+-------------------------------+--------+\n"
     ]
    }
   ],
   "source": [
    "# dataset = HuggingFaceDataset(\"glue\", \"sst2\", \"validation\")\n",
    "# attack = TextFoolerJin2019.build(model_wrapper)\n",
    "\n",
    "# attack_args = textattack.AttackArgs(\n",
    "#     num_examples=200,\n",
    "#     random_seed = 42,\n",
    "#     query_budget = 200,\n",
    "#     log_to_csv =\"main_textfooler_attacks.csv\"\n",
    "# )\n",
    "# attacker = Attacker(attack, dataset,attack_args)\n",
    "# res_main = attacker.attack_dataset()"
   ]
  },
  {
   "cell_type": "code",
   "execution_count": 7,
   "metadata": {},
   "outputs": [],
   "source": [
    "# import pickle\n",
    "# with open('textfooler_main.pkl','wb') as f:\n",
    "#     pickle.dump(res_main,f)"
   ]
  },
  {
   "cell_type": "code",
   "execution_count": null,
   "metadata": {},
   "outputs": [],
   "source": []
  },
  {
   "cell_type": "code",
   "execution_count": null,
   "metadata": {},
   "outputs": [],
   "source": []
  },
  {
   "cell_type": "code",
   "execution_count": null,
   "metadata": {},
   "outputs": [],
   "source": []
  }
 ],
 "metadata": {
  "kernelspec": {
   "display_name": "swapenv",
   "language": "python",
   "name": "swap_env"
  },
  "language_info": {
   "codemirror_mode": {
    "name": "ipython",
    "version": 3
   },
   "file_extension": ".py",
   "mimetype": "text/x-python",
   "name": "python",
   "nbconvert_exporter": "python",
   "pygments_lexer": "ipython3",
   "version": "3.8.13"
  }
 },
 "nbformat": 4,
 "nbformat_minor": 4
}
