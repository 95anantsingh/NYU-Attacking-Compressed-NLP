{
 "cells": [
  {
   "cell_type": "code",
   "execution_count": 9,
   "metadata": {
    "scrolled": false
   },
   "outputs": [
    {
     "name": "stdout",
     "output_type": "stream",
     "text": [
      "Reusing dataset glue (/home/sp6646/.cache/huggingface/datasets/glue/sst2/1.0.0/dacbe3125aa31d7f70367a07a8a9e72a5a0bfeb5fc42e75c9db75b96da6053ad)\n",
      "Loading cached processed dataset at /home/sp6646/.cache/huggingface/datasets/glue/sst2/1.0.0/dacbe3125aa31d7f70367a07a8a9e72a5a0bfeb5fc42e75c9db75b96da6053ad/cache-bd4c916471037e9c.arrow\n",
      "Loading cached processed dataset at /home/sp6646/.cache/huggingface/datasets/glue/sst2/1.0.0/dacbe3125aa31d7f70367a07a8a9e72a5a0bfeb5fc42e75c9db75b96da6053ad/cache-c0fd5f98111ab999.arrow\n",
      "['secondly ruined whether', 'loses authenticity whether', '##zziness ruined whether', 'secondly poorly whether', 'fails convincing whether', 'fails structurally whether', 'lacks authenticity whether', 'lacks morale whether', 'secondly shitty whether', '##ulously poorly whether', '']\n",
      "[0.11057692307692307, 0.10817307692307693, 0.14182692307692307, 0.10817307692307693, 0.08413461538461539, 0.14423076923076922, 0.06009615384615385, 0.05048076923076923, 0.25721153846153844, 0.13942307692307693, 0.9134615384615384]\n",
      "Reusing dataset glue (/home/sp6646/.cache/huggingface/datasets/glue/sst2/1.0.0/dacbe3125aa31d7f70367a07a8a9e72a5a0bfeb5fc42e75c9db75b96da6053ad)\n",
      "Loading cached processed dataset at /home/sp6646/.cache/huggingface/datasets/glue/sst2/1.0.0/dacbe3125aa31d7f70367a07a8a9e72a5a0bfeb5fc42e75c9db75b96da6053ad/cache-bd4c916471037e9c.arrow\n",
      "Loading cached processed dataset at /home/sp6646/.cache/huggingface/datasets/glue/sst2/1.0.0/dacbe3125aa31d7f70367a07a8a9e72a5a0bfeb5fc42e75c9db75b96da6053ad/cache-b9ba80a55a1ecb41.arrow\n",
      "['smoothly entertaining wherein', 'smoothly entertaining whether', 'enjoyable smoothly whether', 'sparkling entertaining wherein', 'smoothly entertaining where', 'enjoyable hilarious (', 'enjoyable effortlessly whether', 'smoothly entertaining whenever', 'sparkling hilarious accepting', 'smoothly entertaining who', '']\n",
      "[0.2764423076923077, 0.23798076923076922, 0.19951923076923078, 0.12259615384615384, 0.34134615384615385, 0.08653846153846154, 0.1466346153846154, 0.21394230769230768, 0.17067307692307693, 0.23076923076923078, 0.9014423076923077]\n"
     ]
    }
   ],
   "source": [
    "!python eval_triggers.py -t \"1\" -attacker \"main\" -attacked \"distil\" \n",
    "!python eval_triggers.py -t \"0\" -attacker \"main\" -attacked \"distil\" "
   ]
  },
  {
   "cell_type": "code",
   "execution_count": 10,
   "metadata": {},
   "outputs": [
    {
     "name": "stdout",
     "output_type": "stream",
     "text": [
      "Reusing dataset glue (/home/sp6646/.cache/huggingface/datasets/glue/sst2/1.0.0/dacbe3125aa31d7f70367a07a8a9e72a5a0bfeb5fc42e75c9db75b96da6053ad)\n",
      "Loading cached processed dataset at /home/sp6646/.cache/huggingface/datasets/glue/sst2/1.0.0/dacbe3125aa31d7f70367a07a8a9e72a5a0bfeb5fc42e75c9db75b96da6053ad/cache-bd4c916471037e9c.arrow\n",
      "Loading cached processed dataset at /home/sp6646/.cache/huggingface/datasets/glue/sst2/1.0.0/dacbe3125aa31d7f70367a07a8a9e72a5a0bfeb5fc42e75c9db75b96da6053ad/cache-c0fd5f98111ab999.arrow\n",
      "['lacks entertaining productive', 'lacks satisfying filmmaking', 'lacks effectiveness filmmaking', 'lack credibility (', 'lacks entertaining via', 'lacks inspiring credibility', 'lacks entertaining credibility', 'lacks credibility filmmaking', 'lacks credibility (', 'poor credibility (', '']\n",
      "[0.21394230769230768, 0.24759615384615385, 0.17307692307692307, 0.11298076923076923, 0.25961538461538464, 0.19951923076923078, 0.17307692307692307, 0.19471153846153846, 0.0673076923076923, 0.1201923076923077, 0.9230769230769231]\n",
      "Reusing dataset glue (/home/sp6646/.cache/huggingface/datasets/glue/sst2/1.0.0/dacbe3125aa31d7f70367a07a8a9e72a5a0bfeb5fc42e75c9db75b96da6053ad)\n",
      "Loading cached processed dataset at /home/sp6646/.cache/huggingface/datasets/glue/sst2/1.0.0/dacbe3125aa31d7f70367a07a8a9e72a5a0bfeb5fc42e75c9db75b96da6053ad/cache-bd4c916471037e9c.arrow\n",
      "Loading cached processed dataset at /home/sp6646/.cache/huggingface/datasets/glue/sst2/1.0.0/dacbe3125aa31d7f70367a07a8a9e72a5a0bfeb5fc42e75c9db75b96da6053ad/cache-b9ba80a55a1ecb41.arrow\n",
      "['beautifully refreshing (', 'wonderful refreshing enjoyable', 'potent refreshing enjoyable', 'sparkling refreshing (', 'sparkling refreshing whenever', 'vibrant refreshing refreshing', 'wonderful beautifully refreshing', 'wonderful sparkling refreshing', 'wonderful refreshing refreshing', 'sparkling refreshing refreshing', '']\n",
      "[0.1875, 0.21875, 0.23798076923076922, 0.17067307692307693, 0.1778846153846154, 0.2764423076923077, 0.1971153846153846, 0.20673076923076922, 0.24759615384615385, 0.21634615384615385, 0.9182692307692307]\n"
     ]
    }
   ],
   "source": [
    "!python eval_triggers.py -t \"1\" -attacker \"distil\" -attacked \"main\" \n",
    "!python eval_triggers.py -t \"0\" -attacker \"distil\" -attacked \"main\" "
   ]
  },
  {
   "cell_type": "code",
   "execution_count": 7,
   "metadata": {
    "scrolled": false
   },
   "outputs": [
    {
     "name": "stdout",
     "output_type": "stream",
     "text": [
      "Reusing dataset glue (/home/sp6646/.cache/huggingface/datasets/glue/sst2/1.0.0/dacbe3125aa31d7f70367a07a8a9e72a5a0bfeb5fc42e75c9db75b96da6053ad)\n",
      "Loading cached processed dataset at /home/sp6646/.cache/huggingface/datasets/glue/sst2/1.0.0/dacbe3125aa31d7f70367a07a8a9e72a5a0bfeb5fc42e75c9db75b96da6053ad/cache-bd4c916471037e9c.arrow\n",
      "Loading cached processed dataset at /home/sp6646/.cache/huggingface/datasets/glue/sst2/1.0.0/dacbe3125aa31d7f70367a07a8a9e72a5a0bfeb5fc42e75c9db75b96da6053ad/cache-c0fd5f98111ab999.arrow\n",
      "['secondly ruined whether', 'loses authenticity whether', '##zziness ruined whether', 'secondly poorly whether', 'fails convincing whether', 'fails structurally whether', 'lacks authenticity whether', 'lacks morale whether', 'secondly shitty whether', '##ulously poorly whether', '']\n",
      "[0.24278846153846154, 0.31009615384615385, 0.2644230769230769, 0.22115384615384615, 0.1971153846153846, 0.125, 0.22115384615384615, 0.23317307692307693, 0.3894230769230769, 0.23557692307692307, 0.8677884615384616]\n",
      "Reusing dataset glue (/home/sp6646/.cache/huggingface/datasets/glue/sst2/1.0.0/dacbe3125aa31d7f70367a07a8a9e72a5a0bfeb5fc42e75c9db75b96da6053ad)\n",
      "Loading cached processed dataset at /home/sp6646/.cache/huggingface/datasets/glue/sst2/1.0.0/dacbe3125aa31d7f70367a07a8a9e72a5a0bfeb5fc42e75c9db75b96da6053ad/cache-bd4c916471037e9c.arrow\n",
      "Loading cached processed dataset at /home/sp6646/.cache/huggingface/datasets/glue/sst2/1.0.0/dacbe3125aa31d7f70367a07a8a9e72a5a0bfeb5fc42e75c9db75b96da6053ad/cache-b9ba80a55a1ecb41.arrow\n",
      "['smoothly entertaining wherein', 'smoothly entertaining whether', 'enjoyable smoothly whether', 'sparkling entertaining wherein', 'smoothly entertaining where', 'enjoyable hilarious (', 'enjoyable effortlessly whether', 'smoothly entertaining whenever', 'sparkling hilarious accepting', 'smoothly entertaining who', '']\n",
      "[0.13221153846153846, 0.21634615384615385, 0.21394230769230768, 0.13942307692307693, 0.14182692307692307, 0.05048076923076923, 0.21875, 0.1971153846153846, 0.12259615384615384, 0.19471153846153846, 0.8822115384615384]\n"
     ]
    }
   ],
   "source": [
    "!python eval_triggers.py -t \"1\" -attacker \"main\" -attacked \"distilled\" \n",
    "!python eval_triggers.py -t \"0\" -attacker \"main\" -attacked \"distilled\" "
   ]
  },
  {
   "cell_type": "code",
   "execution_count": 8,
   "metadata": {
    "scrolled": false
   },
   "outputs": [
    {
     "name": "stdout",
     "output_type": "stream",
     "text": [
      "Reusing dataset glue (/home/sp6646/.cache/huggingface/datasets/glue/sst2/1.0.0/dacbe3125aa31d7f70367a07a8a9e72a5a0bfeb5fc42e75c9db75b96da6053ad)\n",
      "Loading cached processed dataset at /home/sp6646/.cache/huggingface/datasets/glue/sst2/1.0.0/dacbe3125aa31d7f70367a07a8a9e72a5a0bfeb5fc42e75c9db75b96da6053ad/cache-bd4c916471037e9c.arrow\n",
      "Loading cached processed dataset at /home/sp6646/.cache/huggingface/datasets/glue/sst2/1.0.0/dacbe3125aa31d7f70367a07a8a9e72a5a0bfeb5fc42e75c9db75b96da6053ad/cache-c0fd5f98111ab999.arrow\n",
      "['looks stale action', 'so stale action', 'so stale entertainment', 'speaks stale than', 'consists stale ##¨', 'so stale tv', 'stale action first', 'emerged stale animation', 'looks stale than', 'consists stale mid', '']\n",
      "[0.5649038461538461, 0.4182692307692308, 0.28125, 0.34134615384615385, 0.6298076923076923, 0.33413461538461536, 0.6634615384615384, 0.5024038461538461, 0.3076923076923077, 0.5817307692307693, 0.9230769230769231]\n",
      "Reusing dataset glue (/home/sp6646/.cache/huggingface/datasets/glue/sst2/1.0.0/dacbe3125aa31d7f70367a07a8a9e72a5a0bfeb5fc42e75c9db75b96da6053ad)\n",
      "Loading cached processed dataset at /home/sp6646/.cache/huggingface/datasets/glue/sst2/1.0.0/dacbe3125aa31d7f70367a07a8a9e72a5a0bfeb5fc42e75c9db75b96da6053ad/cache-bd4c916471037e9c.arrow\n",
      "Loading cached processed dataset at /home/sp6646/.cache/huggingface/datasets/glue/sst2/1.0.0/dacbe3125aa31d7f70367a07a8a9e72a5a0bfeb5fc42e75c9db75b96da6053ad/cache-b9ba80a55a1ecb41.arrow\n",
      "['refreshing enjoyable warmly', 'refreshing enjoyable wonderful', 'refreshing enjoyable warm', 'enjoyable refreshing wonderful', 'refreshing wonderful entertaining', 'enjoyable refreshing beautiful', 'refreshing wonderful warm', 'refreshing wonderful streamed', 'refreshing wonderful refreshing', 'refreshing wonderful vivid', '']\n",
      "[0.2764423076923077, 0.2668269230769231, 0.27403846153846156, 0.2956730769230769, 0.23317307692307693, 0.28846153846153844, 0.3485576923076923, 0.4014423076923077, 0.31009615384615385, 0.3581730769230769, 0.9182692307692307]\n"
     ]
    }
   ],
   "source": [
    "!python eval_triggers.py -t \"1\" -attacker \"distilled\" -attacked \"main\" \n",
    "!python eval_triggers.py -t \"0\" -attacker \"distilled\" -attacked \"main\" "
   ]
  },
  {
   "cell_type": "code",
   "execution_count": 9,
   "metadata": {},
   "outputs": [
    {
     "name": "stdout",
     "output_type": "stream",
     "text": [
      "Reusing dataset glue (/home/sp6646/.cache/huggingface/datasets/glue/sst2/1.0.0/dacbe3125aa31d7f70367a07a8a9e72a5a0bfeb5fc42e75c9db75b96da6053ad)\n",
      "Loading cached processed dataset at /home/sp6646/.cache/huggingface/datasets/glue/sst2/1.0.0/dacbe3125aa31d7f70367a07a8a9e72a5a0bfeb5fc42e75c9db75b96da6053ad/cache-bd4c916471037e9c.arrow\n",
      "Loading cached processed dataset at /home/sp6646/.cache/huggingface/datasets/glue/sst2/1.0.0/dacbe3125aa31d7f70367a07a8a9e72a5a0bfeb5fc42e75c9db75b96da6053ad/cache-c0fd5f98111ab999.arrow\n",
      "['looks stale action', 'so stale action', 'so stale entertainment', 'speaks stale than', 'consists stale ##¨', 'so stale tv', 'stale action first', 'emerged stale animation', 'looks stale than', 'consists stale mid', '']\n",
      "[0.009615384615384616, 0.01201923076923077, 0.01201923076923077, 0.01201923076923077, 0.016826923076923076, 0.016826923076923076, 0.016826923076923076, 0.016826923076923076, 0.016826923076923076, 0.019230769230769232, 0.8677884615384616]\n",
      "Reusing dataset glue (/home/sp6646/.cache/huggingface/datasets/glue/sst2/1.0.0/dacbe3125aa31d7f70367a07a8a9e72a5a0bfeb5fc42e75c9db75b96da6053ad)\n",
      "Loading cached processed dataset at /home/sp6646/.cache/huggingface/datasets/glue/sst2/1.0.0/dacbe3125aa31d7f70367a07a8a9e72a5a0bfeb5fc42e75c9db75b96da6053ad/cache-bd4c916471037e9c.arrow\n",
      "Loading cached processed dataset at /home/sp6646/.cache/huggingface/datasets/glue/sst2/1.0.0/dacbe3125aa31d7f70367a07a8a9e72a5a0bfeb5fc42e75c9db75b96da6053ad/cache-b9ba80a55a1ecb41.arrow\n",
      "['refreshing enjoyable warmly', 'refreshing enjoyable wonderful', 'refreshing enjoyable warm', 'enjoyable refreshing wonderful', 'refreshing wonderful entertaining', 'enjoyable refreshing beautiful', 'refreshing wonderful warm', 'refreshing wonderful streamed', 'refreshing wonderful refreshing', 'refreshing wonderful vivid', '']\n",
      "[0.0, 0.0, 0.0, 0.002403846153846154, 0.002403846153846154, 0.002403846153846154, 0.004807692307692308, 0.007211538461538462, 0.007211538461538462, 0.007211538461538462, 0.8822115384615384]\n"
     ]
    }
   ],
   "source": [
    "!python eval_triggers.py -t \"1\" -attacker \"distilled\" -attacked \"distilled\" \n",
    "!python eval_triggers.py -t \"0\" -attacker \"distilled\" -attacked \"distilled\" "
   ]
  },
  {
   "cell_type": "code",
   "execution_count": 12,
   "metadata": {
    "scrolled": true
   },
   "outputs": [
    {
     "name": "stdout",
     "output_type": "stream",
     "text": [
      "Reusing dataset glue (/home/sp6646/.cache/huggingface/datasets/glue/sst2/1.0.0/dacbe3125aa31d7f70367a07a8a9e72a5a0bfeb5fc42e75c9db75b96da6053ad)\n",
      "Loading cached processed dataset at /home/sp6646/.cache/huggingface/datasets/glue/sst2/1.0.0/dacbe3125aa31d7f70367a07a8a9e72a5a0bfeb5fc42e75c9db75b96da6053ad/cache-bd4c916471037e9c.arrow\n",
      "Loading cached processed dataset at /home/sp6646/.cache/huggingface/datasets/glue/sst2/1.0.0/dacbe3125aa31d7f70367a07a8a9e72a5a0bfeb5fc42e75c9db75b96da6053ad/cache-c0fd5f98111ab999.arrow\n",
      "['secondly ruined whether', 'loses authenticity whether', '##zziness ruined whether', 'secondly poorly whether', 'fails convincing whether', 'fails structurally whether', 'lacks authenticity whether', 'lacks morale whether', 'secondly shitty whether', '##ulously poorly whether', '']\n",
      "[0.055288461538461536, 0.07211538461538461, 0.07451923076923077, 0.07692307692307693, 0.08413461538461539, 0.0889423076923077, 0.0889423076923077, 0.09134615384615384, 0.09375, 0.0985576923076923, 0.9230769230769231]\n",
      "Reusing dataset glue (/home/sp6646/.cache/huggingface/datasets/glue/sst2/1.0.0/dacbe3125aa31d7f70367a07a8a9e72a5a0bfeb5fc42e75c9db75b96da6053ad)\n",
      "Loading cached processed dataset at /home/sp6646/.cache/huggingface/datasets/glue/sst2/1.0.0/dacbe3125aa31d7f70367a07a8a9e72a5a0bfeb5fc42e75c9db75b96da6053ad/cache-bd4c916471037e9c.arrow\n",
      "Loading cached processed dataset at /home/sp6646/.cache/huggingface/datasets/glue/sst2/1.0.0/dacbe3125aa31d7f70367a07a8a9e72a5a0bfeb5fc42e75c9db75b96da6053ad/cache-b9ba80a55a1ecb41.arrow\n",
      "['smoothly entertaining wherein', 'smoothly entertaining whether', 'enjoyable smoothly whether', 'sparkling entertaining wherein', 'smoothly entertaining where', 'enjoyable hilarious (', 'enjoyable effortlessly whether', 'smoothly entertaining whenever', 'sparkling hilarious accepting', 'smoothly entertaining who', '']\n",
      "[0.09615384615384616, 0.09615384615384616, 0.10576923076923077, 0.11057692307692307, 0.11778846153846154, 0.11778846153846154, 0.11778846153846154, 0.1201923076923077, 0.12259615384615384, 0.12740384615384615, 0.9182692307692307]\n"
     ]
    }
   ],
   "source": [
    "!python eval_triggers.py -t \"1\" -attacker \"main\" -attacked \"main\" \n",
    "!python eval_triggers.py -t \"0\" -attacker \"main\" -attacked \"main\" "
   ]
  },
  {
   "cell_type": "code",
   "execution_count": 11,
   "metadata": {},
   "outputs": [
    {
     "name": "stdout",
     "output_type": "stream",
     "text": [
      "Reusing dataset glue (/home/sp6646/.cache/huggingface/datasets/glue/sst2/1.0.0/dacbe3125aa31d7f70367a07a8a9e72a5a0bfeb5fc42e75c9db75b96da6053ad)\n",
      "Loading cached processed dataset at /home/sp6646/.cache/huggingface/datasets/glue/sst2/1.0.0/dacbe3125aa31d7f70367a07a8a9e72a5a0bfeb5fc42e75c9db75b96da6053ad/cache-bd4c916471037e9c.arrow\n",
      "Loading cached processed dataset at /home/sp6646/.cache/huggingface/datasets/glue/sst2/1.0.0/dacbe3125aa31d7f70367a07a8a9e72a5a0bfeb5fc42e75c9db75b96da6053ad/cache-c0fd5f98111ab999.arrow\n",
      "['lacks entertaining productive', 'lacks satisfying filmmaking', 'lacks effectiveness filmmaking', 'lack credibility (', 'lacks entertaining via', 'lacks inspiring credibility', 'lacks entertaining credibility', 'lacks credibility filmmaking', 'lacks credibility (', 'poor credibility (', '']\n",
      "[0.028846153846153848, 0.028846153846153848, 0.03125, 0.03125, 0.03125, 0.03365384615384615, 0.03365384615384615, 0.03365384615384615, 0.036057692307692304, 0.036057692307692304, 0.9134615384615384]\n",
      "Reusing dataset glue (/home/sp6646/.cache/huggingface/datasets/glue/sst2/1.0.0/dacbe3125aa31d7f70367a07a8a9e72a5a0bfeb5fc42e75c9db75b96da6053ad)\n",
      "Loading cached processed dataset at /home/sp6646/.cache/huggingface/datasets/glue/sst2/1.0.0/dacbe3125aa31d7f70367a07a8a9e72a5a0bfeb5fc42e75c9db75b96da6053ad/cache-bd4c916471037e9c.arrow\n",
      "Loading cached processed dataset at /home/sp6646/.cache/huggingface/datasets/glue/sst2/1.0.0/dacbe3125aa31d7f70367a07a8a9e72a5a0bfeb5fc42e75c9db75b96da6053ad/cache-b9ba80a55a1ecb41.arrow\n",
      "['beautifully refreshing (', 'wonderful refreshing enjoyable', 'potent refreshing enjoyable', 'sparkling refreshing (', 'sparkling refreshing whenever', 'vibrant refreshing refreshing', 'wonderful beautifully refreshing', 'wonderful sparkling refreshing', 'wonderful refreshing refreshing', 'sparkling refreshing refreshing', '']\n",
      "[0.04567307692307692, 0.04807692307692308, 0.04807692307692308, 0.04807692307692308, 0.055288461538461536, 0.057692307692307696, 0.06009615384615385, 0.06009615384615385, 0.06009615384615385, 0.06009615384615385, 0.9014423076923077]\n"
     ]
    }
   ],
   "source": [
    "!python eval_triggers.py -t \"1\" -attacker \"distil\" -attacked \"distil\" \n",
    "!python eval_triggers.py -t \"0\" -attacker \"distil\" -attacked \"distil\" "
   ]
  },
  {
   "cell_type": "code",
   "execution_count": 4,
   "metadata": {
    "scrolled": true
   },
   "outputs": [
    {
     "name": "stdout",
     "output_type": "stream",
     "text": [
      "Reusing dataset glue (/home/sp6646/.cache/huggingface/datasets/glue/sst2/1.0.0/dacbe3125aa31d7f70367a07a8a9e72a5a0bfeb5fc42e75c9db75b96da6053ad)\n",
      "Loading cached processed dataset at /home/sp6646/.cache/huggingface/datasets/glue/sst2/1.0.0/dacbe3125aa31d7f70367a07a8a9e72a5a0bfeb5fc42e75c9db75b96da6053ad/cache-bd4c916471037e9c.arrow\n",
      "Some weights of the model checkpoint at ./bert_pruned_sst_model were not used when initializing BertForSequenceClassification: ['bert.encoder.layer.0.attention.self.value.mask_module.context_modules.0.mask_scores', 'bert.encoder.layer.10.intermediate.dense.mask_module.context_modules.0.mask_scores', 'bert.encoder.layer.7.output.dense.mask_module.context_modules.1.mask_scores', 'bert.encoder.layer.1.attention.self.key.mask_module.context_modules.0.mask_scores', 'bert.encoder.layer.2.attention.self.key.mask_module.context_modules.0.mask_scores', 'bert.encoder.layer.9.attention.self.value.mask_module.context_modules.0.mask_scores', 'bert.encoder.layer.4.output.dense.mask_module.context_modules.1.mask_scores', 'bert.encoder.layer.8.attention.output.dense.mask_module.context_modules.0.mask_scores', 'bert.encoder.layer.3.attention.self.query.mask_module.context_modules.0.mask_scores', 'bert.encoder.layer.0.output.dense.mask_module.context_modules.1.mask_scores', 'bert.encoder.layer.1.attention.output.dense.mask_module.context_modules.0.mask_scores', 'bert.encoder.layer.0.attention.self.key.mask_module.context_modules.0.mask_scores', 'bert.encoder.layer.2.output.dense.mask_module.context_modules.1.mask_scores', 'bert.encoder.layer.4.intermediate.dense.mask_module.context_modules.0.mask_scores', 'bert.encoder.layer.8.output.dense.mask_module.context_modules.1.mask_scores', 'bert.encoder.layer.9.output.dense.mask_module.context_modules.1.mask_scores', 'bert.encoder.layer.11.attention.output.dense.mask_module.context_modules.0.mask_scores', 'bert.encoder.layer.2.attention.self.query.mask_module.context_modules.0.mask_scores', 'bert.encoder.layer.10.attention.self.key.mask_module.context_modules.0.mask_scores', 'bert.encoder.layer.6.attention.self.query.mask_module.context_modules.0.mask_scores', 'bert.encoder.layer.3.attention.output.dense.mask_module.context_modules.0.mask_scores', 'bert.encoder.layer.5.attention.self.key.mask_module.context_modules.0.mask_scores', 'bert.encoder.layer.6.output.dense.mask_module.context_modules.1.mask_scores', 'bert.encoder.layer.9.attention.output.dense.mask_module.context_modules.0.mask_scores', 'bert.encoder.layer.3.output.dense.mask_module.context_modules.1.mask_scores', 'bert.encoder.layer.10.attention.output.dense.mask_module.context_modules.0.mask_scores', 'bert.encoder.layer.8.attention.self.value.mask_module.context_modules.0.mask_scores', 'bert.encoder.layer.7.attention.self.query.mask_module.context_modules.0.mask_scores', 'bert.encoder.layer.4.attention.self.value.mask_module.context_modules.0.mask_scores', 'bert.encoder.layer.11.attention.self.query.mask_module.context_modules.0.mask_scores', 'bert.encoder.layer.5.attention.self.value.mask_module.context_modules.0.mask_scores', 'bert.encoder.layer.11.output.dense.mask_module.context_modules.1.mask_scores', 'bert.encoder.layer.2.attention.self.value.mask_module.context_modules.0.mask_scores', 'bert.encoder.layer.8.attention.self.query.mask_module.context_modules.0.mask_scores', 'bert.encoder.layer.4.attention.self.query.mask_module.context_modules.0.mask_scores', 'bert.encoder.layer.10.output.dense.mask_module.context_modules.1.mask_scores', 'bert.encoder.layer.9.intermediate.dense.mask_module.context_modules.0.mask_scores', 'bert.encoder.layer.4.attention.output.dense.mask_module.context_modules.0.mask_scores', 'bert.encoder.layer.11.intermediate.dense.mask_module.context_modules.0.mask_scores', 'bert.encoder.layer.7.attention.self.value.mask_module.context_modules.0.mask_scores', 'bert.encoder.layer.6.attention.self.value.mask_module.context_modules.0.mask_scores', 'bert.encoder.layer.1.intermediate.dense.mask_module.context_modules.0.mask_scores', 'bert.encoder.layer.1.attention.self.value.mask_module.context_modules.0.mask_scores', 'bert.encoder.layer.0.intermediate.dense.mask_module.context_modules.0.mask_scores', 'bert.encoder.layer.8.intermediate.dense.mask_module.context_modules.0.mask_scores', 'bert.encoder.layer.1.attention.self.query.mask_module.context_modules.0.mask_scores', 'bert.encoder.layer.2.intermediate.dense.mask_module.context_modules.0.mask_scores', 'bert.encoder.layer.9.attention.self.key.mask_module.context_modules.0.mask_scores', 'bert.encoder.layer.3.attention.self.key.mask_module.context_modules.0.mask_scores', 'bert.encoder.layer.5.output.dense.mask_module.context_modules.1.mask_scores', 'bert.encoder.layer.5.attention.output.dense.mask_module.context_modules.0.mask_scores', 'bert.encoder.layer.11.attention.self.value.mask_module.context_modules.0.mask_scores', 'bert.encoder.layer.8.attention.self.key.mask_module.context_modules.0.mask_scores', 'bert.encoder.layer.7.attention.self.key.mask_module.context_modules.0.mask_scores', 'bert.encoder.layer.7.attention.output.dense.mask_module.context_modules.0.mask_scores', 'bert.encoder.layer.3.attention.self.value.mask_module.context_modules.0.mask_scores', 'bert.encoder.layer.5.attention.self.query.mask_module.context_modules.0.mask_scores', 'bert.encoder.layer.3.intermediate.dense.mask_module.context_modules.0.mask_scores', 'bert.encoder.layer.9.attention.self.query.mask_module.context_modules.0.mask_scores', 'bert.encoder.layer.10.attention.self.query.mask_module.context_modules.0.mask_scores', 'bert.encoder.layer.0.attention.output.dense.mask_module.context_modules.0.mask_scores', 'bert.encoder.layer.6.attention.self.key.mask_module.context_modules.0.mask_scores', 'bert.encoder.layer.4.attention.self.key.mask_module.context_modules.0.mask_scores', 'bert.encoder.layer.6.intermediate.dense.mask_module.context_modules.0.mask_scores', 'bert.encoder.layer.0.attention.self.query.mask_module.context_modules.0.mask_scores', 'bert.encoder.layer.2.attention.output.dense.mask_module.context_modules.0.mask_scores', 'bert.encoder.layer.10.attention.self.value.mask_module.context_modules.0.mask_scores', 'bert.encoder.layer.7.intermediate.dense.mask_module.context_modules.0.mask_scores', 'bert.encoder.layer.1.output.dense.mask_module.context_modules.1.mask_scores', 'bert.encoder.layer.11.attention.self.key.mask_module.context_modules.0.mask_scores', 'bert.encoder.layer.6.attention.output.dense.mask_module.context_modules.0.mask_scores', 'bert.encoder.layer.5.intermediate.dense.mask_module.context_modules.0.mask_scores']\n",
      "- This IS expected if you are initializing BertForSequenceClassification from the checkpoint of a model trained on another task or with another architecture (e.g. initializing a BertForSequenceClassification model from a BertForPreTraining model).\n",
      "- This IS NOT expected if you are initializing BertForSequenceClassification from the checkpoint of a model that you expect to be exactly identical (initializing a BertForSequenceClassification model from a BertForSequenceClassification model).\n",
      "Loading cached processed dataset at /home/sp6646/.cache/huggingface/datasets/glue/sst2/1.0.0/dacbe3125aa31d7f70367a07a8a9e72a5a0bfeb5fc42e75c9db75b96da6053ad/cache-c0fd5f98111ab999.arrow\n",
      "['secondly ruined whether', 'loses authenticity whether', '##zziness ruined whether', 'secondly poorly whether', 'fails convincing whether', 'fails structurally whether', 'lacks authenticity whether', 'lacks morale whether', 'secondly shitty whether', '##ulously poorly whether', '']\n",
      "^C\n",
      "Traceback (most recent call last):\n",
      "  File \"eval_triggers.py\", line 110, in <module>\n",
      "    main()\n",
      "  File \"eval_triggers.py\", line 97, in main\n",
      "    final_acc= validate_trigger_acc(sents, k, dataset_label_filter)\n",
      "  File \"eval_triggers.py\", line 80, in validate_trigger_acc\n",
      "    output_labels = model(**encoded_pair)\n",
      "  File \"/scratch/sp6646/envs_dirs/lipreading_env/lib/python3.8/site-packages/torch/nn/modules/module.py\", line 1110, in _call_impl\n",
      "    return forward_call(*input, **kwargs)\n",
      "  File \"/scratch/sp6646/envs_dirs/lipreading_env/lib/python3.8/site-packages/transformers/models/bert/modeling_bert.py\", line 1545, in forward\n",
      "    outputs = self.bert(\n",
      "  File \"/scratch/sp6646/envs_dirs/lipreading_env/lib/python3.8/site-packages/torch/nn/modules/module.py\", line 1110, in _call_impl\n",
      "    return forward_call(*input, **kwargs)\n",
      "  File \"/scratch/sp6646/envs_dirs/lipreading_env/lib/python3.8/site-packages/transformers/models/bert/modeling_bert.py\", line 996, in forward\n",
      "    encoder_outputs = self.encoder(\n",
      "  File \"/scratch/sp6646/envs_dirs/lipreading_env/lib/python3.8/site-packages/torch/nn/modules/module.py\", line 1110, in _call_impl\n",
      "    return forward_call(*input, **kwargs)\n",
      "  File \"/scratch/sp6646/envs_dirs/lipreading_env/lib/python3.8/site-packages/transformers/models/bert/modeling_bert.py\", line 585, in forward\n",
      "    layer_outputs = layer_module(\n",
      "  File \"/scratch/sp6646/envs_dirs/lipreading_env/lib/python3.8/site-packages/torch/nn/modules/module.py\", line 1110, in _call_impl\n",
      "    return forward_call(*input, **kwargs)\n",
      "  File \"/scratch/sp6646/envs_dirs/lipreading_env/lib/python3.8/site-packages/transformers/models/bert/modeling_bert.py\", line 472, in forward\n",
      "    self_attention_outputs = self.attention(\n",
      "  File \"/scratch/sp6646/envs_dirs/lipreading_env/lib/python3.8/site-packages/torch/nn/modules/module.py\", line 1110, in _call_impl\n",
      "    return forward_call(*input, **kwargs)\n",
      "  File \"/scratch/sp6646/envs_dirs/lipreading_env/lib/python3.8/site-packages/transformers/models/bert/modeling_bert.py\", line 411, in forward\n",
      "    attention_output = self.output(self_outputs[0], hidden_states)\n",
      "  File \"/scratch/sp6646/envs_dirs/lipreading_env/lib/python3.8/site-packages/torch/nn/modules/module.py\", line 1110, in _call_impl\n",
      "    return forward_call(*input, **kwargs)\n",
      "  File \"/scratch/sp6646/envs_dirs/lipreading_env/lib/python3.8/site-packages/transformers/models/bert/modeling_bert.py\", line 363, in forward\n",
      "    hidden_states = self.LayerNorm(hidden_states + input_tensor)\n",
      "  File \"/scratch/sp6646/envs_dirs/lipreading_env/lib/python3.8/site-packages/torch/nn/modules/module.py\", line 1110, in _call_impl\n",
      "    return forward_call(*input, **kwargs)\n",
      "  File \"/scratch/sp6646/envs_dirs/lipreading_env/lib/python3.8/site-packages/torch/nn/modules/normalization.py\", line 189, in forward\n",
      "    return F.layer_norm(\n",
      "  File \"/scratch/sp6646/envs_dirs/lipreading_env/lib/python3.8/site-packages/torch/nn/functional.py\", line 2486, in layer_norm\n",
      "    return torch.layer_norm(input, normalized_shape, weight, bias, eps, torch.backends.cudnn.enabled)\n",
      "KeyboardInterrupt\n"
     ]
    },
    {
     "name": "stdout",
     "output_type": "stream",
     "text": [
      "Reusing dataset glue (/home/sp6646/.cache/huggingface/datasets/glue/sst2/1.0.0/dacbe3125aa31d7f70367a07a8a9e72a5a0bfeb5fc42e75c9db75b96da6053ad)\n",
      "Loading cached processed dataset at /home/sp6646/.cache/huggingface/datasets/glue/sst2/1.0.0/dacbe3125aa31d7f70367a07a8a9e72a5a0bfeb5fc42e75c9db75b96da6053ad/cache-bd4c916471037e9c.arrow\n",
      "Some weights of the model checkpoint at ./bert_pruned_sst_model were not used when initializing BertForSequenceClassification: ['bert.encoder.layer.9.intermediate.dense.mask_module.context_modules.0.mask_scores', 'bert.encoder.layer.0.intermediate.dense.mask_module.context_modules.0.mask_scores', 'bert.encoder.layer.3.intermediate.dense.mask_module.context_modules.0.mask_scores', 'bert.encoder.layer.4.attention.self.key.mask_module.context_modules.0.mask_scores', 'bert.encoder.layer.4.attention.self.value.mask_module.context_modules.0.mask_scores', 'bert.encoder.layer.10.attention.output.dense.mask_module.context_modules.0.mask_scores', 'bert.encoder.layer.5.intermediate.dense.mask_module.context_modules.0.mask_scores', 'bert.encoder.layer.6.intermediate.dense.mask_module.context_modules.0.mask_scores', 'bert.encoder.layer.11.attention.self.key.mask_module.context_modules.0.mask_scores', 'bert.encoder.layer.8.attention.self.query.mask_module.context_modules.0.mask_scores', 'bert.encoder.layer.0.attention.output.dense.mask_module.context_modules.0.mask_scores', 'bert.encoder.layer.8.attention.self.value.mask_module.context_modules.0.mask_scores', 'bert.encoder.layer.2.output.dense.mask_module.context_modules.1.mask_scores', 'bert.encoder.layer.0.attention.self.value.mask_module.context_modules.0.mask_scores', 'bert.encoder.layer.7.attention.self.query.mask_module.context_modules.0.mask_scores', 'bert.encoder.layer.3.output.dense.mask_module.context_modules.1.mask_scores', 'bert.encoder.layer.11.attention.self.value.mask_module.context_modules.0.mask_scores', 'bert.encoder.layer.1.attention.output.dense.mask_module.context_modules.0.mask_scores', 'bert.encoder.layer.10.attention.self.query.mask_module.context_modules.0.mask_scores', 'bert.encoder.layer.11.attention.self.query.mask_module.context_modules.0.mask_scores', 'bert.encoder.layer.6.attention.self.key.mask_module.context_modules.0.mask_scores', 'bert.encoder.layer.4.attention.self.query.mask_module.context_modules.0.mask_scores', 'bert.encoder.layer.11.output.dense.mask_module.context_modules.1.mask_scores', 'bert.encoder.layer.1.attention.self.value.mask_module.context_modules.0.mask_scores', 'bert.encoder.layer.3.attention.self.query.mask_module.context_modules.0.mask_scores', 'bert.encoder.layer.9.output.dense.mask_module.context_modules.1.mask_scores', 'bert.encoder.layer.1.attention.self.query.mask_module.context_modules.0.mask_scores', 'bert.encoder.layer.3.attention.self.value.mask_module.context_modules.0.mask_scores', 'bert.encoder.layer.6.attention.self.value.mask_module.context_modules.0.mask_scores', 'bert.encoder.layer.10.output.dense.mask_module.context_modules.1.mask_scores', 'bert.encoder.layer.2.attention.output.dense.mask_module.context_modules.0.mask_scores', 'bert.encoder.layer.11.attention.output.dense.mask_module.context_modules.0.mask_scores', 'bert.encoder.layer.5.attention.self.query.mask_module.context_modules.0.mask_scores', 'bert.encoder.layer.9.attention.self.query.mask_module.context_modules.0.mask_scores', 'bert.encoder.layer.0.output.dense.mask_module.context_modules.1.mask_scores', 'bert.encoder.layer.4.output.dense.mask_module.context_modules.1.mask_scores', 'bert.encoder.layer.5.output.dense.mask_module.context_modules.1.mask_scores', 'bert.encoder.layer.7.intermediate.dense.mask_module.context_modules.0.mask_scores', 'bert.encoder.layer.8.attention.self.key.mask_module.context_modules.0.mask_scores', 'bert.encoder.layer.5.attention.self.value.mask_module.context_modules.0.mask_scores', 'bert.encoder.layer.7.attention.self.key.mask_module.context_modules.0.mask_scores', 'bert.encoder.layer.1.attention.self.key.mask_module.context_modules.0.mask_scores', 'bert.encoder.layer.6.output.dense.mask_module.context_modules.1.mask_scores', 'bert.encoder.layer.8.attention.output.dense.mask_module.context_modules.0.mask_scores', 'bert.encoder.layer.9.attention.self.key.mask_module.context_modules.0.mask_scores', 'bert.encoder.layer.0.attention.self.query.mask_module.context_modules.0.mask_scores', 'bert.encoder.layer.9.attention.self.value.mask_module.context_modules.0.mask_scores', 'bert.encoder.layer.9.attention.output.dense.mask_module.context_modules.0.mask_scores', 'bert.encoder.layer.10.attention.self.key.mask_module.context_modules.0.mask_scores', 'bert.encoder.layer.7.output.dense.mask_module.context_modules.1.mask_scores', 'bert.encoder.layer.10.attention.self.value.mask_module.context_modules.0.mask_scores', 'bert.encoder.layer.8.output.dense.mask_module.context_modules.1.mask_scores', 'bert.encoder.layer.7.attention.output.dense.mask_module.context_modules.0.mask_scores', 'bert.encoder.layer.8.intermediate.dense.mask_module.context_modules.0.mask_scores', 'bert.encoder.layer.10.intermediate.dense.mask_module.context_modules.0.mask_scores', 'bert.encoder.layer.3.attention.output.dense.mask_module.context_modules.0.mask_scores', 'bert.encoder.layer.5.attention.self.key.mask_module.context_modules.0.mask_scores', 'bert.encoder.layer.4.intermediate.dense.mask_module.context_modules.0.mask_scores', 'bert.encoder.layer.7.attention.self.value.mask_module.context_modules.0.mask_scores', 'bert.encoder.layer.0.attention.self.key.mask_module.context_modules.0.mask_scores', 'bert.encoder.layer.1.output.dense.mask_module.context_modules.1.mask_scores', 'bert.encoder.layer.2.attention.self.query.mask_module.context_modules.0.mask_scores', 'bert.encoder.layer.2.attention.self.key.mask_module.context_modules.0.mask_scores', 'bert.encoder.layer.1.intermediate.dense.mask_module.context_modules.0.mask_scores', 'bert.encoder.layer.3.attention.self.key.mask_module.context_modules.0.mask_scores', 'bert.encoder.layer.11.intermediate.dense.mask_module.context_modules.0.mask_scores', 'bert.encoder.layer.6.attention.self.query.mask_module.context_modules.0.mask_scores', 'bert.encoder.layer.6.attention.output.dense.mask_module.context_modules.0.mask_scores', 'bert.encoder.layer.2.intermediate.dense.mask_module.context_modules.0.mask_scores', 'bert.encoder.layer.4.attention.output.dense.mask_module.context_modules.0.mask_scores', 'bert.encoder.layer.2.attention.self.value.mask_module.context_modules.0.mask_scores', 'bert.encoder.layer.5.attention.output.dense.mask_module.context_modules.0.mask_scores']\n",
      "- This IS expected if you are initializing BertForSequenceClassification from the checkpoint of a model trained on another task or with another architecture (e.g. initializing a BertForSequenceClassification model from a BertForPreTraining model).\n",
      "- This IS NOT expected if you are initializing BertForSequenceClassification from the checkpoint of a model that you expect to be exactly identical (initializing a BertForSequenceClassification model from a BertForSequenceClassification model).\n",
      "Loading cached processed dataset at /home/sp6646/.cache/huggingface/datasets/glue/sst2/1.0.0/dacbe3125aa31d7f70367a07a8a9e72a5a0bfeb5fc42e75c9db75b96da6053ad/cache-b9ba80a55a1ecb41.arrow\n",
      "['smoothly entertaining wherein', 'smoothly entertaining whether', 'enjoyable smoothly whether', 'sparkling entertaining wherein', 'smoothly entertaining where', 'enjoyable hilarious (', 'enjoyable effortlessly whether', 'smoothly entertaining whenever', 'sparkling hilarious accepting', 'smoothly entertaining who', '']\n",
      "[0.06490384615384616, 0.04326923076923077, 0.04807692307692308, 0.057692307692307696, 0.06490384615384616, 0.052884615384615384, 0.055288461538461536, 0.04326923076923077, 0.06490384615384616, 0.07211538461538461, 0.8725961538461539]\n"
     ]
    }
   ],
   "source": [
    "!python eval_triggers.py -t \"1\" -attacker \"main\" -attacked \"pruned\" \n",
    "!python eval_triggers.py -t \"0\" -attacker \"main\" -attacked \"pruned\" "
   ]
  },
  {
   "cell_type": "code",
   "execution_count": null,
   "metadata": {},
   "outputs": [],
   "source": [
    "!python eval_triggers.py -t \"1\" -attacker \"pruned\" -attacked \"main\" \n",
    "!python eval_triggers.py -t \"0\" -attacker \"pruned\" -attacked \"main\" "
   ]
  },
  {
   "cell_type": "code",
   "execution_count": null,
   "metadata": {},
   "outputs": [],
   "source": [
    "!python eval_triggers.py -t \"1\" -attacker \"pruned\" -attacked \"pruned\" \n",
    "!python eval_triggers.py -t \"0\" -attacker \"pruned\" -attacked \"pruned\" "
   ]
  }
 ],
 "metadata": {
  "kernelspec": {
   "display_name": "imagenet_env",
   "language": "python",
   "name": "imagenet_env2"
  },
  "language_info": {
   "codemirror_mode": {
    "name": "ipython",
    "version": 3
   },
   "file_extension": ".py",
   "mimetype": "text/x-python",
   "name": "python",
   "nbconvert_exporter": "python",
   "pygments_lexer": "ipython3",
   "version": "3.8.13"
  }
 },
 "nbformat": 4,
 "nbformat_minor": 4
}
