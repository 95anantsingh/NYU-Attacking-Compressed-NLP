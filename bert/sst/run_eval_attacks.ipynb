{
 "cells": [
  {
   "cell_type": "code",
   "execution_count": 9,
   "metadata": {
    "scrolled": false
   },
   "outputs": [
    {
     "name": "stdout",
     "output_type": "stream",
     "text": [
      "Reusing dataset glue (/home/sp6646/.cache/huggingface/datasets/glue/sst2/1.0.0/dacbe3125aa31d7f70367a07a8a9e72a5a0bfeb5fc42e75c9db75b96da6053ad)\n",
      "Loading cached processed dataset at /home/sp6646/.cache/huggingface/datasets/glue/sst2/1.0.0/dacbe3125aa31d7f70367a07a8a9e72a5a0bfeb5fc42e75c9db75b96da6053ad/cache-bd4c916471037e9c.arrow\n",
      "Loading cached processed dataset at /home/sp6646/.cache/huggingface/datasets/glue/sst2/1.0.0/dacbe3125aa31d7f70367a07a8a9e72a5a0bfeb5fc42e75c9db75b96da6053ad/cache-c0fd5f98111ab999.arrow\n",
      "['secondly ruined whether', 'loses authenticity whether', '##zziness ruined whether', 'secondly poorly whether', 'fails convincing whether', 'fails structurally whether', 'lacks authenticity whether', 'lacks morale whether', 'secondly shitty whether', '##ulously poorly whether', '']\n",
      "[0.11057692307692307, 0.10817307692307693, 0.14182692307692307, 0.10817307692307693, 0.08413461538461539, 0.14423076923076922, 0.06009615384615385, 0.05048076923076923, 0.25721153846153844, 0.13942307692307693, 0.9134615384615384]\n",
      "Reusing dataset glue (/home/sp6646/.cache/huggingface/datasets/glue/sst2/1.0.0/dacbe3125aa31d7f70367a07a8a9e72a5a0bfeb5fc42e75c9db75b96da6053ad)\n",
      "Loading cached processed dataset at /home/sp6646/.cache/huggingface/datasets/glue/sst2/1.0.0/dacbe3125aa31d7f70367a07a8a9e72a5a0bfeb5fc42e75c9db75b96da6053ad/cache-bd4c916471037e9c.arrow\n",
      "Loading cached processed dataset at /home/sp6646/.cache/huggingface/datasets/glue/sst2/1.0.0/dacbe3125aa31d7f70367a07a8a9e72a5a0bfeb5fc42e75c9db75b96da6053ad/cache-b9ba80a55a1ecb41.arrow\n",
      "['smoothly entertaining wherein', 'smoothly entertaining whether', 'enjoyable smoothly whether', 'sparkling entertaining wherein', 'smoothly entertaining where', 'enjoyable hilarious (', 'enjoyable effortlessly whether', 'smoothly entertaining whenever', 'sparkling hilarious accepting', 'smoothly entertaining who', '']\n",
      "[0.2764423076923077, 0.23798076923076922, 0.19951923076923078, 0.12259615384615384, 0.34134615384615385, 0.08653846153846154, 0.1466346153846154, 0.21394230769230768, 0.17067307692307693, 0.23076923076923078, 0.9014423076923077]\n"
     ]
    }
   ],
   "source": [
    "!python eval_triggers.py -t \"1\" -attacker \"main\" -attacked \"distil\" \n",
    "!python eval_triggers.py -t \"0\" -attacker \"main\" -attacked \"distil\" "
   ]
  },
  {
   "cell_type": "code",
   "execution_count": 10,
   "metadata": {},
   "outputs": [
    {
     "name": "stdout",
     "output_type": "stream",
     "text": [
      "Reusing dataset glue (/home/sp6646/.cache/huggingface/datasets/glue/sst2/1.0.0/dacbe3125aa31d7f70367a07a8a9e72a5a0bfeb5fc42e75c9db75b96da6053ad)\n",
      "Loading cached processed dataset at /home/sp6646/.cache/huggingface/datasets/glue/sst2/1.0.0/dacbe3125aa31d7f70367a07a8a9e72a5a0bfeb5fc42e75c9db75b96da6053ad/cache-bd4c916471037e9c.arrow\n",
      "Loading cached processed dataset at /home/sp6646/.cache/huggingface/datasets/glue/sst2/1.0.0/dacbe3125aa31d7f70367a07a8a9e72a5a0bfeb5fc42e75c9db75b96da6053ad/cache-c0fd5f98111ab999.arrow\n",
      "['lacks entertaining productive', 'lacks satisfying filmmaking', 'lacks effectiveness filmmaking', 'lack credibility (', 'lacks entertaining via', 'lacks inspiring credibility', 'lacks entertaining credibility', 'lacks credibility filmmaking', 'lacks credibility (', 'poor credibility (', '']\n",
      "[0.21394230769230768, 0.24759615384615385, 0.17307692307692307, 0.11298076923076923, 0.25961538461538464, 0.19951923076923078, 0.17307692307692307, 0.19471153846153846, 0.0673076923076923, 0.1201923076923077, 0.9230769230769231]\n",
      "Reusing dataset glue (/home/sp6646/.cache/huggingface/datasets/glue/sst2/1.0.0/dacbe3125aa31d7f70367a07a8a9e72a5a0bfeb5fc42e75c9db75b96da6053ad)\n",
      "Loading cached processed dataset at /home/sp6646/.cache/huggingface/datasets/glue/sst2/1.0.0/dacbe3125aa31d7f70367a07a8a9e72a5a0bfeb5fc42e75c9db75b96da6053ad/cache-bd4c916471037e9c.arrow\n",
      "Loading cached processed dataset at /home/sp6646/.cache/huggingface/datasets/glue/sst2/1.0.0/dacbe3125aa31d7f70367a07a8a9e72a5a0bfeb5fc42e75c9db75b96da6053ad/cache-b9ba80a55a1ecb41.arrow\n",
      "['beautifully refreshing (', 'wonderful refreshing enjoyable', 'potent refreshing enjoyable', 'sparkling refreshing (', 'sparkling refreshing whenever', 'vibrant refreshing refreshing', 'wonderful beautifully refreshing', 'wonderful sparkling refreshing', 'wonderful refreshing refreshing', 'sparkling refreshing refreshing', '']\n",
      "[0.1875, 0.21875, 0.23798076923076922, 0.17067307692307693, 0.1778846153846154, 0.2764423076923077, 0.1971153846153846, 0.20673076923076922, 0.24759615384615385, 0.21634615384615385, 0.9182692307692307]\n"
     ]
    }
   ],
   "source": [
    "!python eval_triggers.py -t \"1\" -attacker \"distil\" -attacked \"main\" \n",
    "!python eval_triggers.py -t \"0\" -attacker \"distil\" -attacked \"main\" "
   ]
  },
  {
   "cell_type": "code",
   "execution_count": 1,
   "metadata": {
    "scrolled": false
   },
   "outputs": [
    {
     "name": "stdout",
     "output_type": "stream",
     "text": [
      "Reusing dataset glue (/home/sp6646/.cache/huggingface/datasets/glue/sst2/1.0.0/dacbe3125aa31d7f70367a07a8a9e72a5a0bfeb5fc42e75c9db75b96da6053ad)\n",
      "Loading cached processed dataset at /home/sp6646/.cache/huggingface/datasets/glue/sst2/1.0.0/dacbe3125aa31d7f70367a07a8a9e72a5a0bfeb5fc42e75c9db75b96da6053ad/cache-bd4c916471037e9c.arrow\n",
      "Loading cached processed dataset at /home/sp6646/.cache/huggingface/datasets/glue/sst2/1.0.0/dacbe3125aa31d7f70367a07a8a9e72a5a0bfeb5fc42e75c9db75b96da6053ad/cache-b9ba80a55a1ecb41.arrow\n",
      "['smoothly entertaining wherein', 'smoothly entertaining whether', 'enjoyable smoothly whether', 'sparkling entertaining wherein', 'smoothly entertaining where', 'enjoyable hilarious (', 'enjoyable effortlessly whether', 'smoothly entertaining whenever', 'sparkling hilarious accepting', 'smoothly entertaining who', '']\n",
      "[0.14423076923076922, 0.23557692307692307, 0.21875, 0.125, 0.1466346153846154, 0.04567307692307692, 0.20432692307692307, 0.22115384615384615, 0.11778846153846154, 0.21153846153846154, 0.8822115384615384]\n"
     ]
    }
   ],
   "source": [
    "# !python eval_triggers.py -t \"1\" -attacker \"main\" -attacked \"distilled\" \n",
    "!python eval_triggers.py -t \"0\" -attacker \"main\" -attacked \"distilled\" "
   ]
  },
  {
   "cell_type": "code",
   "execution_count": 2,
   "metadata": {
    "scrolled": false
   },
   "outputs": [
    {
     "name": "stdout",
     "output_type": "stream",
     "text": [
      "Reusing dataset glue (/home/sp6646/.cache/huggingface/datasets/glue/sst2/1.0.0/dacbe3125aa31d7f70367a07a8a9e72a5a0bfeb5fc42e75c9db75b96da6053ad)\n",
      "Loading cached processed dataset at /home/sp6646/.cache/huggingface/datasets/glue/sst2/1.0.0/dacbe3125aa31d7f70367a07a8a9e72a5a0bfeb5fc42e75c9db75b96da6053ad/cache-bd4c916471037e9c.arrow\n",
      "Loading cached processed dataset at /home/sp6646/.cache/huggingface/datasets/glue/sst2/1.0.0/dacbe3125aa31d7f70367a07a8a9e72a5a0bfeb5fc42e75c9db75b96da6053ad/cache-b9ba80a55a1ecb41.arrow\n",
      "['refreshing wonderful entertaining', 'refreshing enjoyable wonderful', 'wonderful refreshing satisfying', 'refreshing wonderful warm', 'refreshing wonderful vivid', 'refreshing vivid wonderful', 'enjoyable wonderful refreshing', 'refreshing wonderful streamed', 'wonderful refreshing exquisite', 'refreshing wonderful exposed', '']\n",
      "[0.23317307692307693, 0.2668269230769231, 0.2091346153846154, 0.3485576923076923, 0.3581730769230769, 0.3798076923076923, 0.24278846153846154, 0.4014423076923077, 0.3004807692307692, 0.3894230769230769, 0.9182692307692307]\n"
     ]
    }
   ],
   "source": [
    "# !python eval_triggers.py -t \"1\" -attacker \"distilled\" -attacked \"main\" \n",
    "!python eval_triggers.py -t \"0\" -attacker \"distilled\" -attacked \"main\" "
   ]
  },
  {
   "cell_type": "code",
   "execution_count": 3,
   "metadata": {},
   "outputs": [
    {
     "name": "stdout",
     "output_type": "stream",
     "text": [
      "Reusing dataset glue (/home/sp6646/.cache/huggingface/datasets/glue/sst2/1.0.0/dacbe3125aa31d7f70367a07a8a9e72a5a0bfeb5fc42e75c9db75b96da6053ad)\n",
      "Loading cached processed dataset at /home/sp6646/.cache/huggingface/datasets/glue/sst2/1.0.0/dacbe3125aa31d7f70367a07a8a9e72a5a0bfeb5fc42e75c9db75b96da6053ad/cache-bd4c916471037e9c.arrow\n",
      "Loading cached processed dataset at /home/sp6646/.cache/huggingface/datasets/glue/sst2/1.0.0/dacbe3125aa31d7f70367a07a8a9e72a5a0bfeb5fc42e75c9db75b96da6053ad/cache-b9ba80a55a1ecb41.arrow\n",
      "['refreshing wonderful entertaining', 'refreshing enjoyable wonderful', 'wonderful refreshing satisfying', 'refreshing wonderful warm', 'refreshing wonderful vivid', 'refreshing vivid wonderful', 'enjoyable wonderful refreshing', 'refreshing wonderful streamed', 'wonderful refreshing exquisite', 'refreshing wonderful exposed', '']\n",
      "[0.004807692307692308, 0.004807692307692308, 0.007211538461538462, 0.007211538461538462, 0.007211538461538462, 0.007211538461538462, 0.007211538461538462, 0.007211538461538462, 0.009615384615384616, 0.009615384615384616, 0.8822115384615384]\n"
     ]
    }
   ],
   "source": [
    "# !python eval_triggers.py -t \"1\" -attacker \"distilled\" -attacked \"distilled\" \n",
    "!python eval_triggers.py -t \"0\" -attacker \"distilled\" -attacked \"distilled\" "
   ]
  },
  {
   "cell_type": "code",
   "execution_count": 12,
   "metadata": {
    "scrolled": true
   },
   "outputs": [
    {
     "name": "stdout",
     "output_type": "stream",
     "text": [
      "Reusing dataset glue (/home/sp6646/.cache/huggingface/datasets/glue/sst2/1.0.0/dacbe3125aa31d7f70367a07a8a9e72a5a0bfeb5fc42e75c9db75b96da6053ad)\n",
      "Loading cached processed dataset at /home/sp6646/.cache/huggingface/datasets/glue/sst2/1.0.0/dacbe3125aa31d7f70367a07a8a9e72a5a0bfeb5fc42e75c9db75b96da6053ad/cache-bd4c916471037e9c.arrow\n",
      "Loading cached processed dataset at /home/sp6646/.cache/huggingface/datasets/glue/sst2/1.0.0/dacbe3125aa31d7f70367a07a8a9e72a5a0bfeb5fc42e75c9db75b96da6053ad/cache-c0fd5f98111ab999.arrow\n",
      "['secondly ruined whether', 'loses authenticity whether', '##zziness ruined whether', 'secondly poorly whether', 'fails convincing whether', 'fails structurally whether', 'lacks authenticity whether', 'lacks morale whether', 'secondly shitty whether', '##ulously poorly whether', '']\n",
      "[0.055288461538461536, 0.07211538461538461, 0.07451923076923077, 0.07692307692307693, 0.08413461538461539, 0.0889423076923077, 0.0889423076923077, 0.09134615384615384, 0.09375, 0.0985576923076923, 0.9230769230769231]\n",
      "Reusing dataset glue (/home/sp6646/.cache/huggingface/datasets/glue/sst2/1.0.0/dacbe3125aa31d7f70367a07a8a9e72a5a0bfeb5fc42e75c9db75b96da6053ad)\n",
      "Loading cached processed dataset at /home/sp6646/.cache/huggingface/datasets/glue/sst2/1.0.0/dacbe3125aa31d7f70367a07a8a9e72a5a0bfeb5fc42e75c9db75b96da6053ad/cache-bd4c916471037e9c.arrow\n",
      "Loading cached processed dataset at /home/sp6646/.cache/huggingface/datasets/glue/sst2/1.0.0/dacbe3125aa31d7f70367a07a8a9e72a5a0bfeb5fc42e75c9db75b96da6053ad/cache-b9ba80a55a1ecb41.arrow\n",
      "['smoothly entertaining wherein', 'smoothly entertaining whether', 'enjoyable smoothly whether', 'sparkling entertaining wherein', 'smoothly entertaining where', 'enjoyable hilarious (', 'enjoyable effortlessly whether', 'smoothly entertaining whenever', 'sparkling hilarious accepting', 'smoothly entertaining who', '']\n",
      "[0.09615384615384616, 0.09615384615384616, 0.10576923076923077, 0.11057692307692307, 0.11778846153846154, 0.11778846153846154, 0.11778846153846154, 0.1201923076923077, 0.12259615384615384, 0.12740384615384615, 0.9182692307692307]\n"
     ]
    }
   ],
   "source": [
    "!python eval_triggers.py -t \"1\" -attacker \"main\" -attacked \"main\" \n",
    "!python eval_triggers.py -t \"0\" -attacker \"main\" -attacked \"main\" "
   ]
  },
  {
   "cell_type": "code",
   "execution_count": 11,
   "metadata": {
    "scrolled": true
   },
   "outputs": [
    {
     "name": "stdout",
     "output_type": "stream",
     "text": [
      "Reusing dataset glue (/home/sp6646/.cache/huggingface/datasets/glue/sst2/1.0.0/dacbe3125aa31d7f70367a07a8a9e72a5a0bfeb5fc42e75c9db75b96da6053ad)\n",
      "Loading cached processed dataset at /home/sp6646/.cache/huggingface/datasets/glue/sst2/1.0.0/dacbe3125aa31d7f70367a07a8a9e72a5a0bfeb5fc42e75c9db75b96da6053ad/cache-bd4c916471037e9c.arrow\n",
      "Loading cached processed dataset at /home/sp6646/.cache/huggingface/datasets/glue/sst2/1.0.0/dacbe3125aa31d7f70367a07a8a9e72a5a0bfeb5fc42e75c9db75b96da6053ad/cache-c0fd5f98111ab999.arrow\n",
      "['lacks entertaining productive', 'lacks satisfying filmmaking', 'lacks effectiveness filmmaking', 'lack credibility (', 'lacks entertaining via', 'lacks inspiring credibility', 'lacks entertaining credibility', 'lacks credibility filmmaking', 'lacks credibility (', 'poor credibility (', '']\n",
      "[0.028846153846153848, 0.028846153846153848, 0.03125, 0.03125, 0.03125, 0.03365384615384615, 0.03365384615384615, 0.03365384615384615, 0.036057692307692304, 0.036057692307692304, 0.9134615384615384]\n",
      "Reusing dataset glue (/home/sp6646/.cache/huggingface/datasets/glue/sst2/1.0.0/dacbe3125aa31d7f70367a07a8a9e72a5a0bfeb5fc42e75c9db75b96da6053ad)\n",
      "Loading cached processed dataset at /home/sp6646/.cache/huggingface/datasets/glue/sst2/1.0.0/dacbe3125aa31d7f70367a07a8a9e72a5a0bfeb5fc42e75c9db75b96da6053ad/cache-bd4c916471037e9c.arrow\n",
      "Loading cached processed dataset at /home/sp6646/.cache/huggingface/datasets/glue/sst2/1.0.0/dacbe3125aa31d7f70367a07a8a9e72a5a0bfeb5fc42e75c9db75b96da6053ad/cache-b9ba80a55a1ecb41.arrow\n",
      "['beautifully refreshing (', 'wonderful refreshing enjoyable', 'potent refreshing enjoyable', 'sparkling refreshing (', 'sparkling refreshing whenever', 'vibrant refreshing refreshing', 'wonderful beautifully refreshing', 'wonderful sparkling refreshing', 'wonderful refreshing refreshing', 'sparkling refreshing refreshing', '']\n",
      "[0.04567307692307692, 0.04807692307692308, 0.04807692307692308, 0.04807692307692308, 0.055288461538461536, 0.057692307692307696, 0.06009615384615385, 0.06009615384615385, 0.06009615384615385, 0.06009615384615385, 0.9014423076923077]\n"
     ]
    }
   ],
   "source": [
    "!python eval_triggers.py -t \"1\" -attacker \"distil\" -attacked \"distil\" \n",
    "!python eval_triggers.py -t \"0\" -attacker \"distil\" -attacked \"distil\" "
   ]
  },
  {
   "cell_type": "code",
   "execution_count": 1,
   "metadata": {
    "scrolled": false
   },
   "outputs": [
    {
     "name": "stdout",
     "output_type": "stream",
     "text": [
      "2022-05-15 07:12:43.818083: I tensorflow/stream_executor/platform/default/dso_loader.cc:53] Successfully opened dynamic library libcudart.so.11.0\n",
      "Reusing dataset glue (/home/sp6646/.cache/huggingface/datasets/glue/sst2/1.0.0/dacbe3125aa31d7f70367a07a8a9e72a5a0bfeb5fc42e75c9db75b96da6053ad)\n",
      "Loading cached processed dataset at /home/sp6646/.cache/huggingface/datasets/glue/sst2/1.0.0/dacbe3125aa31d7f70367a07a8a9e72a5a0bfeb5fc42e75c9db75b96da6053ad/cache-bd4c916471037e9c.arrow\n",
      "Loading cached processed dataset at /home/sp6646/.cache/huggingface/datasets/glue/sst2/1.0.0/dacbe3125aa31d7f70367a07a8a9e72a5a0bfeb5fc42e75c9db75b96da6053ad/cache-b9ba80a55a1ecb41.arrow\n",
      "['smoothly entertaining wherein', 'smoothly entertaining whether', 'enjoyable smoothly whether', 'sparkling entertaining wherein', 'smoothly entertaining where', 'enjoyable hilarious (', 'enjoyable effortlessly whether', 'smoothly entertaining whenever', 'sparkling hilarious accepting', 'smoothly entertaining who', '']\n",
      "[0.19471153846153846, 0.20673076923076922, 0.16346153846153846, 0.21634615384615385, 0.2091346153846154, 0.2403846153846154, 0.23557692307692307, 0.21394230769230768, 0.18990384615384615, 0.1778846153846154, 0.8870192307692307]\n"
     ]
    }
   ],
   "source": [
    "# !python eval_triggers.py -t \"1\" -attacker \"main\" -attacked \"pruned\" \n",
    "!python eval_triggers.py -t \"0\" -attacker \"main\" -attacked \"pruned\" "
   ]
  },
  {
   "cell_type": "code",
   "execution_count": 2,
   "metadata": {},
   "outputs": [
    {
     "name": "stdout",
     "output_type": "stream",
     "text": [
      "2022-05-15 07:13:47.066037: I tensorflow/stream_executor/platform/default/dso_loader.cc:53] Successfully opened dynamic library libcudart.so.11.0\n",
      "Reusing dataset glue (/home/sp6646/.cache/huggingface/datasets/glue/sst2/1.0.0/dacbe3125aa31d7f70367a07a8a9e72a5a0bfeb5fc42e75c9db75b96da6053ad)\n",
      "Loading cached processed dataset at /home/sp6646/.cache/huggingface/datasets/glue/sst2/1.0.0/dacbe3125aa31d7f70367a07a8a9e72a5a0bfeb5fc42e75c9db75b96da6053ad/cache-bd4c916471037e9c.arrow\n",
      "Loading cached processed dataset at /home/sp6646/.cache/huggingface/datasets/glue/sst2/1.0.0/dacbe3125aa31d7f70367a07a8a9e72a5a0bfeb5fc42e75c9db75b96da6053ad/cache-b9ba80a55a1ecb41.arrow\n",
      "['refreshing beautifully refreshing', 'refreshing refreshing refreshing', 'captures refreshing refreshing', 'remarkable refreshing refreshing', 'beautifully refreshing refreshing', 'refreshing beautifully beautifully', 'refreshing absorbing beautifully', 'vibrant refreshing beautifully', 'beautifully absorbing beautifully', 'remarkable beautifully beautifully', '']\n",
      "[0.2980769230769231, 0.36778846153846156, 0.31009615384615385, 0.31490384615384615, 0.21875, 0.22596153846153846, 0.3004807692307692, 0.28125, 0.27163461538461536, 0.25240384615384615, 0.9182692307692307]\n"
     ]
    }
   ],
   "source": [
    "# !python eval_triggers.py -t \"1\" -attacker \"pruned\" -attacked \"main\" \n",
    "!python eval_triggers.py -t \"0\" -attacker \"pruned\" -attacked \"main\" "
   ]
  },
  {
   "cell_type": "code",
   "execution_count": 3,
   "metadata": {},
   "outputs": [
    {
     "name": "stdout",
     "output_type": "stream",
     "text": [
      "2022-05-15 07:14:22.715289: I tensorflow/stream_executor/platform/default/dso_loader.cc:53] Successfully opened dynamic library libcudart.so.11.0\n",
      "Reusing dataset glue (/home/sp6646/.cache/huggingface/datasets/glue/sst2/1.0.0/dacbe3125aa31d7f70367a07a8a9e72a5a0bfeb5fc42e75c9db75b96da6053ad)\n",
      "Loading cached processed dataset at /home/sp6646/.cache/huggingface/datasets/glue/sst2/1.0.0/dacbe3125aa31d7f70367a07a8a9e72a5a0bfeb5fc42e75c9db75b96da6053ad/cache-bd4c916471037e9c.arrow\n",
      "Loading cached processed dataset at /home/sp6646/.cache/huggingface/datasets/glue/sst2/1.0.0/dacbe3125aa31d7f70367a07a8a9e72a5a0bfeb5fc42e75c9db75b96da6053ad/cache-b9ba80a55a1ecb41.arrow\n",
      "['refreshing beautifully refreshing', 'refreshing refreshing refreshing', 'captures refreshing refreshing', 'remarkable refreshing refreshing', 'beautifully refreshing refreshing', 'refreshing beautifully beautifully', 'refreshing absorbing beautifully', 'vibrant refreshing beautifully', 'beautifully absorbing beautifully', 'remarkable beautifully beautifully', '']\n",
      "[0.009615384615384616, 0.009615384615384616, 0.009615384615384616, 0.01201923076923077, 0.01201923076923077, 0.016826923076923076, 0.02403846153846154, 0.03125, 0.038461538461538464, 0.040865384615384616, 0.8870192307692307]\n"
     ]
    }
   ],
   "source": [
    "# !python eval_triggers.py -t \"1\" -attacker \"pruned\" -attacked \"pruned\" \n",
    "!python eval_triggers.py -t \"0\" -attacker \"pruned\" -attacked \"pruned\" "
   ]
  },
  {
   "cell_type": "code",
   "execution_count": null,
   "metadata": {},
   "outputs": [],
   "source": []
  }
 ],
 "metadata": {
  "kernelspec": {
   "display_name": "swapenv",
   "language": "python",
   "name": "swap_env"
  },
  "language_info": {
   "codemirror_mode": {
    "name": "ipython",
    "version": 3
   },
   "file_extension": ".py",
   "mimetype": "text/x-python",
   "name": "python",
   "nbconvert_exporter": "python",
   "pygments_lexer": "ipython3",
   "version": "3.8.13"
  }
 },
 "nbformat": 4,
 "nbformat_minor": 4
}
