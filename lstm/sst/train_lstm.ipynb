{
 "cells": [
  {
   "cell_type": "code",
   "execution_count": 11,
   "metadata": {
    "scrolled": true
   },
   "outputs": [
    {
     "name": "stdout",
     "output_type": "stream",
     "text": [
      "Requirement already satisfied: jupyter in /scratch/sp6646/envs_dirs/swap_env/lib/python3.8/site-packages (1.0.0)\n",
      "Requirement already satisfied: ipywidgets in /scratch/sp6646/envs_dirs/swap_env/lib/python3.8/site-packages (7.7.0)\n",
      "Requirement already satisfied: nbconvert in /scratch/sp6646/envs_dirs/swap_env/lib/python3.8/site-packages (from jupyter) (6.5.0)\n",
      "Requirement already satisfied: qtconsole in /scratch/sp6646/envs_dirs/swap_env/lib/python3.8/site-packages (from jupyter) (5.3.0)\n",
      "Requirement already satisfied: jupyter-console in /scratch/sp6646/envs_dirs/swap_env/lib/python3.8/site-packages (from jupyter) (6.4.3)\n",
      "Requirement already satisfied: ipykernel in /scratch/sp6646/envs_dirs/swap_env/lib/python3.8/site-packages (from jupyter) (6.9.1)\n",
      "Requirement already satisfied: notebook in /scratch/sp6646/envs_dirs/swap_env/lib/python3.8/site-packages (from jupyter) (6.4.11)\n",
      "Requirement already satisfied: nbformat>=4.2.0 in /scratch/sp6646/envs_dirs/swap_env/lib/python3.8/site-packages (from ipywidgets) (5.4.0)\n",
      "Requirement already satisfied: widgetsnbextension~=3.6.0 in /scratch/sp6646/envs_dirs/swap_env/lib/python3.8/site-packages (from ipywidgets) (3.6.0)\n",
      "Requirement already satisfied: ipython>=4.0.0 in /scratch/sp6646/envs_dirs/swap_env/lib/python3.8/site-packages (from ipywidgets) (8.3.0)\n",
      "Requirement already satisfied: traitlets>=4.3.1 in /scratch/sp6646/envs_dirs/swap_env/lib/python3.8/site-packages (from ipywidgets) (5.1.1)\n",
      "Requirement already satisfied: ipython-genutils~=0.2.0 in /scratch/sp6646/envs_dirs/swap_env/lib/python3.8/site-packages (from ipywidgets) (0.2.0)\n",
      "Requirement already satisfied: jupyterlab-widgets>=1.0.0 in /scratch/sp6646/envs_dirs/swap_env/lib/python3.8/site-packages (from ipywidgets) (1.1.0)\n",
      "Requirement already satisfied: jupyter-client<8.0 in /scratch/sp6646/envs_dirs/swap_env/lib/python3.8/site-packages (from ipykernel->jupyter) (7.2.2)\n",
      "Requirement already satisfied: debugpy<2.0,>=1.0.0 in /scratch/sp6646/envs_dirs/swap_env/lib/python3.8/site-packages (from ipykernel->jupyter) (1.5.1)\n",
      "Requirement already satisfied: tornado<7.0,>=4.2 in /scratch/sp6646/envs_dirs/swap_env/lib/python3.8/site-packages (from ipykernel->jupyter) (6.1)\n",
      "Requirement already satisfied: nest-asyncio in /scratch/sp6646/envs_dirs/swap_env/lib/python3.8/site-packages (from ipykernel->jupyter) (1.5.5)\n",
      "Requirement already satisfied: matplotlib-inline<0.2.0,>=0.1.0 in /scratch/sp6646/envs_dirs/swap_env/lib/python3.8/site-packages (from ipykernel->jupyter) (0.1.2)\n",
      "Requirement already satisfied: backcall in /scratch/sp6646/envs_dirs/swap_env/lib/python3.8/site-packages (from ipython>=4.0.0->ipywidgets) (0.2.0)\n",
      "Requirement already satisfied: decorator in /scratch/sp6646/envs_dirs/swap_env/lib/python3.8/site-packages (from ipython>=4.0.0->ipywidgets) (5.1.1)\n",
      "Requirement already satisfied: pexpect>4.3 in /scratch/sp6646/envs_dirs/swap_env/lib/python3.8/site-packages (from ipython>=4.0.0->ipywidgets) (4.8.0)\n",
      "Requirement already satisfied: pickleshare in /scratch/sp6646/envs_dirs/swap_env/lib/python3.8/site-packages (from ipython>=4.0.0->ipywidgets) (0.7.5)\n",
      "Requirement already satisfied: pygments>=2.4.0 in /scratch/sp6646/envs_dirs/swap_env/lib/python3.8/site-packages (from ipython>=4.0.0->ipywidgets) (2.11.2)\n",
      "Requirement already satisfied: jedi>=0.16 in /scratch/sp6646/envs_dirs/swap_env/lib/python3.8/site-packages (from ipython>=4.0.0->ipywidgets) (0.18.1)\n",
      "Requirement already satisfied: prompt-toolkit!=3.0.0,!=3.0.1,<3.1.0,>=2.0.0 in /scratch/sp6646/envs_dirs/swap_env/lib/python3.8/site-packages (from ipython>=4.0.0->ipywidgets) (3.0.20)\n",
      "Requirement already satisfied: setuptools>=18.5 in /scratch/sp6646/envs_dirs/swap_env/lib/python3.8/site-packages (from ipython>=4.0.0->ipywidgets) (61.2.0)\n",
      "Requirement already satisfied: stack-data in /scratch/sp6646/envs_dirs/swap_env/lib/python3.8/site-packages (from ipython>=4.0.0->ipywidgets) (0.2.0)\n",
      "Requirement already satisfied: parso<0.9.0,>=0.8.0 in /scratch/sp6646/envs_dirs/swap_env/lib/python3.8/site-packages (from jedi>=0.16->ipython>=4.0.0->ipywidgets) (0.8.3)\n",
      "Requirement already satisfied: python-dateutil>=2.8.2 in /scratch/sp6646/envs_dirs/swap_env/lib/python3.8/site-packages (from jupyter-client<8.0->ipykernel->jupyter) (2.8.2)\n",
      "Requirement already satisfied: jupyter-core>=4.9.2 in /scratch/sp6646/envs_dirs/swap_env/lib/python3.8/site-packages (from jupyter-client<8.0->ipykernel->jupyter) (4.10.0)\n",
      "Requirement already satisfied: pyzmq>=22.3 in /scratch/sp6646/envs_dirs/swap_env/lib/python3.8/site-packages (from jupyter-client<8.0->ipykernel->jupyter) (22.3.0)\n",
      "Requirement already satisfied: entrypoints in /scratch/sp6646/envs_dirs/swap_env/lib/python3.8/site-packages (from jupyter-client<8.0->ipykernel->jupyter) (0.4)\n",
      "Requirement already satisfied: jsonschema>=2.6 in /scratch/sp6646/envs_dirs/swap_env/lib/python3.8/site-packages (from nbformat>=4.2.0->ipywidgets) (4.5.1)\n",
      "Requirement already satisfied: fastjsonschema in /scratch/sp6646/envs_dirs/swap_env/lib/python3.8/site-packages (from nbformat>=4.2.0->ipywidgets) (2.15.3)\n",
      "Requirement already satisfied: attrs>=17.4.0 in /scratch/sp6646/envs_dirs/swap_env/lib/python3.8/site-packages (from jsonschema>=2.6->nbformat>=4.2.0->ipywidgets) (21.4.0)\n",
      "Requirement already satisfied: importlib-resources>=1.4.0 in /scratch/sp6646/envs_dirs/swap_env/lib/python3.8/site-packages (from jsonschema>=2.6->nbformat>=4.2.0->ipywidgets) (5.7.1)\n",
      "Requirement already satisfied: pyrsistent!=0.17.0,!=0.17.1,!=0.17.2,>=0.14.0 in /scratch/sp6646/envs_dirs/swap_env/lib/python3.8/site-packages (from jsonschema>=2.6->nbformat>=4.2.0->ipywidgets) (0.18.1)\n",
      "Requirement already satisfied: zipp>=3.1.0 in /scratch/sp6646/envs_dirs/swap_env/lib/python3.8/site-packages (from importlib-resources>=1.4.0->jsonschema>=2.6->nbformat>=4.2.0->ipywidgets) (3.8.0)\n",
      "Requirement already satisfied: ptyprocess>=0.5 in /scratch/sp6646/envs_dirs/swap_env/lib/python3.8/site-packages (from pexpect>4.3->ipython>=4.0.0->ipywidgets) (0.7.0)\n",
      "Requirement already satisfied: wcwidth in /scratch/sp6646/envs_dirs/swap_env/lib/python3.8/site-packages (from prompt-toolkit!=3.0.0,!=3.0.1,<3.1.0,>=2.0.0->ipython>=4.0.0->ipywidgets) (0.2.5)\n",
      "Requirement already satisfied: six>=1.5 in /scratch/sp6646/envs_dirs/swap_env/lib/python3.8/site-packages (from python-dateutil>=2.8.2->jupyter-client<8.0->ipykernel->jupyter) (1.16.0)\n",
      "Requirement already satisfied: terminado>=0.8.3 in /scratch/sp6646/envs_dirs/swap_env/lib/python3.8/site-packages (from notebook->jupyter) (0.13.3)\n",
      "Requirement already satisfied: jinja2 in /scratch/sp6646/envs_dirs/swap_env/lib/python3.8/site-packages (from notebook->jupyter) (3.1.2)\n",
      "Requirement already satisfied: argon2-cffi in /scratch/sp6646/envs_dirs/swap_env/lib/python3.8/site-packages (from notebook->jupyter) (21.3.0)\n",
      "Requirement already satisfied: Send2Trash>=1.8.0 in /scratch/sp6646/envs_dirs/swap_env/lib/python3.8/site-packages (from notebook->jupyter) (1.8.0)\n",
      "Requirement already satisfied: prometheus-client in /scratch/sp6646/envs_dirs/swap_env/lib/python3.8/site-packages (from notebook->jupyter) (0.14.1)\n",
      "Requirement already satisfied: tinycss2 in /scratch/sp6646/envs_dirs/swap_env/lib/python3.8/site-packages (from nbconvert->jupyter) (1.1.1)\n",
      "Requirement already satisfied: bleach in /scratch/sp6646/envs_dirs/swap_env/lib/python3.8/site-packages (from nbconvert->jupyter) (5.0.0)\n",
      "Requirement already satisfied: beautifulsoup4 in /scratch/sp6646/envs_dirs/swap_env/lib/python3.8/site-packages (from nbconvert->jupyter) (4.11.1)\n",
      "Requirement already satisfied: jupyterlab-pygments in /scratch/sp6646/envs_dirs/swap_env/lib/python3.8/site-packages (from nbconvert->jupyter) (0.2.2)\n",
      "Requirement already satisfied: MarkupSafe>=2.0 in /scratch/sp6646/envs_dirs/swap_env/lib/python3.8/site-packages (from nbconvert->jupyter) (2.1.1)\n",
      "Requirement already satisfied: defusedxml in /scratch/sp6646/envs_dirs/swap_env/lib/python3.8/site-packages (from nbconvert->jupyter) (0.7.1)\n",
      "Requirement already satisfied: nbclient>=0.5.0 in /scratch/sp6646/envs_dirs/swap_env/lib/python3.8/site-packages (from nbconvert->jupyter) (0.6.3)\n",
      "Requirement already satisfied: packaging in /scratch/sp6646/envs_dirs/swap_env/lib/python3.8/site-packages (from nbconvert->jupyter) (21.3)\n",
      "Requirement already satisfied: pandocfilters>=1.4.1 in /scratch/sp6646/envs_dirs/swap_env/lib/python3.8/site-packages (from nbconvert->jupyter) (1.5.0)\n",
      "Requirement already satisfied: mistune<2,>=0.8.1 in /scratch/sp6646/envs_dirs/swap_env/lib/python3.8/site-packages (from nbconvert->jupyter) (0.8.4)\n"
     ]
    },
    {
     "name": "stdout",
     "output_type": "stream",
     "text": [
      "Requirement already satisfied: argon2-cffi-bindings in /scratch/sp6646/envs_dirs/swap_env/lib/python3.8/site-packages (from argon2-cffi->notebook->jupyter) (21.2.0)\n",
      "Requirement already satisfied: cffi>=1.0.1 in /scratch/sp6646/envs_dirs/swap_env/lib/python3.8/site-packages (from argon2-cffi-bindings->argon2-cffi->notebook->jupyter) (1.15.0)\n",
      "Requirement already satisfied: pycparser in /scratch/sp6646/envs_dirs/swap_env/lib/python3.8/site-packages (from cffi>=1.0.1->argon2-cffi-bindings->argon2-cffi->notebook->jupyter) (2.21)\n",
      "Requirement already satisfied: soupsieve>1.2 in /scratch/sp6646/envs_dirs/swap_env/lib/python3.8/site-packages (from beautifulsoup4->nbconvert->jupyter) (2.3.2.post1)\n",
      "Requirement already satisfied: webencodings in /scratch/sp6646/envs_dirs/swap_env/lib/python3.8/site-packages (from bleach->nbconvert->jupyter) (0.5.1)\n",
      "Requirement already satisfied: pyparsing!=3.0.5,>=2.0.2 in /scratch/sp6646/envs_dirs/swap_env/lib/python3.8/site-packages (from packaging->nbconvert->jupyter) (3.0.8)\n",
      "Requirement already satisfied: qtpy>=2.0.1 in /scratch/sp6646/envs_dirs/swap_env/lib/python3.8/site-packages (from qtconsole->jupyter) (2.1.0)\n",
      "Requirement already satisfied: asttokens in /scratch/sp6646/envs_dirs/swap_env/lib/python3.8/site-packages (from stack-data->ipython>=4.0.0->ipywidgets) (2.0.5)\n",
      "Requirement already satisfied: pure-eval in /scratch/sp6646/envs_dirs/swap_env/lib/python3.8/site-packages (from stack-data->ipython>=4.0.0->ipywidgets) (0.2.2)\n",
      "Requirement already satisfied: executing in /scratch/sp6646/envs_dirs/swap_env/lib/python3.8/site-packages (from stack-data->ipython>=4.0.0->ipywidgets) (0.8.3)\n"
     ]
    }
   ],
   "source": [
    "# !pip install jupyter ipywidgets allennlp_models textattack[tensorflow]"
   ]
  },
  {
   "cell_type": "code",
   "execution_count": 1,
   "metadata": {},
   "outputs": [
    {
     "name": "stderr",
     "output_type": "stream",
     "text": [
      "2022-05-12 14:19:03.577130: I tensorflow/stream_executor/platform/default/dso_loader.cc:53] Successfully opened dynamic library libcudart.so.11.0\n"
     ]
    }
   ],
   "source": [
    "import os\n",
    "os.environ[\"CUDA_VISIBLE_DEVICES\"]=\"\"\n",
    "import os.path\n",
    "import torch\n",
    "import torch.optim as optim\n",
    "# from allennlp.data.dataset_readers.stanford_sentiment_tree_bank import \\\n",
    "#     StanfordSentimentTreeBankDatasetReader\n",
    "from reader_new import StanfordSentimentTreeBankDatasetReader_NEW\n",
    "# from allennlp.data.iterators import BucketIterator, BasicIterator\n",
    "from allennlp.data.vocabulary import Vocabulary\n",
    "from allennlp.models import Model\n",
    "from allennlp.modules.seq2vec_encoders import PytorchSeq2VecWrapper\n",
    "from allennlp.modules.text_field_embedders import BasicTextFieldEmbedder\n",
    "from allennlp.modules.token_embedders.embedding import _read_pretrained_embeddings_file\n",
    "from allennlp.modules.token_embedders import Embedding\n",
    "from allennlp.nn.util import get_text_field_mask\n",
    "from allennlp.training.metrics import CategoricalAccuracy\n",
    "from allennlp.training.trainer import Trainer\n",
    "from allennlp.common.util import lazy_groups_of\n",
    "from allennlp.data.token_indexers import SingleIdTokenIndexer\n",
    "import pandas as pd"
   ]
  },
  {
   "cell_type": "code",
   "execution_count": 3,
   "metadata": {},
   "outputs": [],
   "source": [
    "class LstmClassifier(Model):\n",
    "    def __init__(self, word_embeddings, encoder, vocab):\n",
    "        super().__init__(vocab)\n",
    "        self.word_embeddings = word_embeddings\n",
    "        self.encoder = encoder\n",
    "        self.linear = torch.nn.Linear(in_features=encoder.get_output_dim(),\n",
    "                                      out_features=vocab.get_vocab_size('labels'))\n",
    "        self.accuracy = CategoricalAccuracy()\n",
    "        self.loss_function = torch.nn.CrossEntropyLoss()\n",
    "\n",
    "    def forward(self, tokens, label):\n",
    "        mask = get_text_field_mask(tokens)\n",
    "        embeddings = self.word_embeddings(tokens)\n",
    "        encoder_out = self.encoder(embeddings, mask)\n",
    "        logits = self.linear(encoder_out)\n",
    "        output = {\"logits\": logits}\n",
    "        if label is not None:\n",
    "            self.accuracy(logits, label)\n",
    "            output[\"loss\"] = self.loss_function(logits, label)\n",
    "        return output\n",
    "\n",
    "    def get_metrics(self, reset=False):\n",
    "        return {'accuracy': self.accuracy.get_metric(reset)}"
   ]
  },
  {
   "cell_type": "code",
   "execution_count": 4,
   "metadata": {},
   "outputs": [],
   "source": [
    "# load the binary SST dataset.\n",
    "single_id_indexer = SingleIdTokenIndexer(lowercase_tokens=True) # word tokenizer\n",
    "\n",
    "# use_subtrees gives us a bit of extra data by breaking down each example into sub sentences.\n",
    "# reader = StanfordSentimentTreeBankDatasetReader_NEW(granularity=\"2-class\",\n",
    "#                                                 token_indexers={\"tokens\": single_id_indexer},\n",
    "#                                                 use_subtrees=True)\n",
    "# train_data = reader.read('./data/train.txt')\n",
    "#     print(train_data)\n",
    "reader = StanfordSentimentTreeBankDatasetReader_NEW(granularity=\"2-class\",\n",
    "                                                token_indexers={\"tokens\": single_id_indexer})\n",
    "dev_data = reader.read('./data/dev.txt')"
   ]
  },
  {
   "cell_type": "code",
   "execution_count": 5,
   "metadata": {},
   "outputs": [],
   "source": [
    "vocab_path = \"./lstm_main_sst_model/w2v_\" + \"vocab\"\n",
    "vocab = Vocabulary.from_files(vocab_path)"
   ]
  },
  {
   "cell_type": "code",
   "execution_count": 6,
   "metadata": {},
   "outputs": [],
   "source": [
    "# vocab = Vocabulary.from_instances(train_data)\n",
    "# print(vocab)"
   ]
  },
  {
   "cell_type": "code",
   "execution_count": 7,
   "metadata": {
    "scrolled": false
   },
   "outputs": [
    {
     "data": {
      "application/vnd.jupyter.widget-view+json": {
       "model_id": "77275352cc81424a9150e505ab17f813",
       "version_major": 2,
       "version_minor": 0
      },
      "text/plain": [
       "  0%|          | 0/1999995 [00:00<?, ?it/s]"
      ]
     },
     "metadata": {},
     "output_type": "display_data"
    }
   ],
   "source": [
    "embedding_path = \"./data/crawl-300d-2M.vec.zip\"\n",
    "weight = _read_pretrained_embeddings_file(embedding_path,\n",
    "                                          embedding_dim=300,\n",
    "                                          vocab=vocab,\n",
    "                                          namespace=\"tokens\")\n",
    "token_embedding = Embedding(num_embeddings=vocab.get_vocab_size('tokens'),\n",
    "                            embedding_dim=300,\n",
    "                            weight=weight,\n",
    "                            trainable=False)\n",
    "word_embedding_dim = 300\n",
    "word_embeddings = BasicTextFieldEmbedder({\"tokens\": token_embedding})\n",
    "\n",
    "\n",
    "encoder = PytorchSeq2VecWrapper(torch.nn.LSTM(word_embedding_dim,\n",
    "                                              hidden_size=512,\n",
    "                                              num_layers=2,\n",
    "                                              batch_first=True))\n",
    "\n",
    "model = LstmClassifier(word_embeddings, encoder, vocab)\n",
    "model_path = \"./lstm_main_sst_model/w2v_model.th\"\n",
    "    \n",
    "with open(model_path, 'rb') as f:\n",
    "    model.load_state_dict(torch.load(f,map_location='cpu'))"
   ]
  },
  {
   "cell_type": "code",
   "execution_count": 7,
   "metadata": {},
   "outputs": [],
   "source": [
    "# embedding_path = \"./data/crawl-300d-2M.vec.zip\"\n",
    "# weight = _read_pretrained_embeddings_file(embedding_path,\n",
    "#                                           embedding_dim=300,\n",
    "#                                           vocab=vocab,\n",
    "#                                           namespace=\"tokens\")\n",
    "# token_embedding = Embedding(num_embeddings=vocab.get_vocab_size('tokens'),\n",
    "#                             embedding_dim=300,\n",
    "#                             weight=weight,\n",
    "#                             trainable=False)\n",
    "# word_embedding_dim = 300\n",
    "# word_embeddings = BasicTextFieldEmbedder({\"tokens\": token_embedding})\n",
    "\n",
    "\n",
    "# encoder = PytorchSeq2VecWrapper(torch.nn.LSTM(word_embedding_dim,\n",
    "#                                               hidden_size=512,\n",
    "#                                               num_layers=2,\n",
    "#                                               batch_first=True))\n",
    "\n",
    "# # Initialize model, cuda(), and optimizer\n",
    "# model = LstmClassifier(word_embeddings, encoder, vocab)\n",
    "# model.cuda()"
   ]
  },
  {
   "cell_type": "code",
   "execution_count": 9,
   "metadata": {},
   "outputs": [],
   "source": [
    "iterator = BucketIterator(batch_size=32, sorting_keys=[(\"tokens\", \"num_tokens\")])\n",
    "\n",
    "iterator.index_with(vocab)\n",
    "\n",
    "optimizer = optim.Adam(model.parameters())\n",
    "\n",
    "trainer = Trainer(model=model,\n",
    "                  optimizer=optimizer,\n",
    "                  iterator=iterator,\n",
    "                  train_dataset=train_data,\n",
    "                  validation_dataset=dev_data,\n",
    "                  num_epochs=4,\n",
    "                  patience=1,\n",
    "                  cuda_device=0)"
   ]
  },
  {
   "cell_type": "code",
   "execution_count": null,
   "metadata": {},
   "outputs": [],
   "source": [
    "trainer.train()"
   ]
  },
  {
   "cell_type": "code",
   "execution_count": null,
   "metadata": {},
   "outputs": [],
   "source": [
    "# where to save the model\n",
    "model_path = \"lstm_main_sst_model/w2v_model.th\"\n",
    "vocab_path = \"lstm_main_sst_model/w2v_vocab\"\n",
    "\n",
    "with open(model_path, 'wb') as f:\n",
    "    torch.save(model.state_dict(), f)\n",
    "vocab.save_to_files(vocab_path)"
   ]
  },
  {
   "cell_type": "code",
   "execution_count": 10,
   "metadata": {
    "scrolled": true
   },
   "outputs": [
    {
     "name": "stdout",
     "output_type": "stream",
     "text": [
      "LstmClassifier(\n",
      "  (word_embeddings): BasicTextFieldEmbedder(\n",
      "    (token_embedder_tokens): Embedding()\n",
      "  )\n",
      "  (encoder): PytorchSeq2VecWrapper(\n",
      "    (_module): LSTM(300, 512, num_layers=2, batch_first=True)\n",
      "  )\n",
      "  (linear): Linear(in_features=512, out_features=2, bias=True)\n",
      "  (loss_function): CrossEntropyLoss()\n",
      ")\n"
     ]
    }
   ],
   "source": [
    "print(model)"
   ]
  },
  {
   "cell_type": "code",
   "execution_count": 19,
   "metadata": {},
   "outputs": [
    {
     "data": {
      "text/plain": [
       "<All keys matched successfully>"
      ]
     },
     "execution_count": 19,
     "metadata": {},
     "output_type": "execute_result"
    }
   ],
   "source": [
    "state = torch.load('lstm_main_sst_model/w2v_model.th')\n",
    "model.load_state_dict(state)"
   ]
  },
  {
   "cell_type": "code",
   "execution_count": 8,
   "metadata": {
    "scrolled": true
   },
   "outputs": [],
   "source": [
    "import torch.quantization\n",
    "import torch.nn as nn"
   ]
  },
  {
   "cell_type": "code",
   "execution_count": 9,
   "metadata": {},
   "outputs": [],
   "source": [
    "model.cpu()\n",
    "quantized_model = torch.quantization.quantize_dynamic(\n",
    "    model,{nn.Linear,nn.LSTM}, dtype=torch.qint8\n",
    ")"
   ]
  },
  {
   "cell_type": "code",
   "execution_count": 10,
   "metadata": {},
   "outputs": [],
   "source": [
    "def print_size_of_model(model, label=\"\"):\n",
    "    torch.save(model.state_dict(), \"temp.p\")\n",
    "    size=os.path.getsize(\"temp.p\")\n",
    "    print(\"model: \",label,' \\t','Size (MB):', size/1e6)\n",
    "    os.remove('temp.p')\n",
    "    return size"
   ]
  },
  {
   "cell_type": "code",
   "execution_count": 11,
   "metadata": {
    "scrolled": true
   },
   "outputs": [
    {
     "name": "stdout",
     "output_type": "stream",
     "text": [
      "model:  fp32  \t Size (MB): 34.727044\n",
      "model:  int8  \t Size (MB): 23.44499\n",
      "1.48 times smaller\n"
     ]
    }
   ],
   "source": [
    "model_size = print_size_of_model(model,\"fp32\")\n",
    "quantized_model_size = print_size_of_model(quantized_model,\"int8\")\n",
    "\n",
    "print(\"{0:.2f} times smaller\".format(model_size/quantized_model_size))"
   ]
  },
  {
   "cell_type": "code",
   "execution_count": 12,
   "metadata": {
    "scrolled": true
   },
   "outputs": [
    {
     "data": {
      "text/plain": [
       "LstmClassifier(\n",
       "  (word_embeddings): BasicTextFieldEmbedder(\n",
       "    (token_embedder_tokens): Embedding()\n",
       "  )\n",
       "  (encoder): PytorchSeq2VecWrapper(\n",
       "    (_module): DynamicQuantizedLSTM(300, 512, num_layers=2, batch_first=True)\n",
       "  )\n",
       "  (linear): DynamicQuantizedLinear(in_features=512, out_features=2, dtype=torch.qint8, qscheme=torch.per_tensor_affine)\n",
       "  (loss_function): CrossEntropyLoss()\n",
       ")"
      ]
     },
     "execution_count": 12,
     "metadata": {},
     "output_type": "execute_result"
    }
   ],
   "source": [
    "quantized_model"
   ]
  },
  {
   "cell_type": "code",
   "execution_count": null,
   "metadata": {},
   "outputs": [],
   "source": []
  },
  {
   "cell_type": "code",
   "execution_count": 1,
   "metadata": {
    "scrolled": true
   },
   "outputs": [
    {
     "name": "stderr",
     "output_type": "stream",
     "text": [
      "2022-05-15 05:03:43.291502: I tensorflow/stream_executor/platform/default/dso_loader.cc:53] Successfully opened dynamic library libcudart.so.11.0\n"
     ]
    }
   ],
   "source": [
    "import os\n",
    "os.environ[\"CUDA_VISIBLE_DEVICES\"]=\"\"\n",
    "from textattack.datasets import HuggingFaceDataset\n",
    "from textattack.attack_recipes import TextFoolerJin2019\n",
    "from textattack.attacker import Attacker"
   ]
  },
  {
   "cell_type": "code",
   "execution_count": 2,
   "metadata": {},
   "outputs": [],
   "source": [
    "from allennlp.predictors import Predictor\n",
    "import allennlp_models.classification\n",
    "import torch.nn as nn\n",
    "import textattack\n",
    "import torch\n",
    "\n",
    "class AllenNLPModel(textattack.models.wrappers.ModelWrapper):\n",
    "    def __init__(self):\n",
    "        self.predictor = Predictor.from_path(\"https://storage.googleapis.com/allennlp-public-models/sst-2-basic-classifier-glove-2019.06.27.tar.gz\")\n",
    "        self.model = self.predictor._model\n",
    "        self.tokenizer = self.predictor._dataset_reader._tokenizer\n",
    "\n",
    "    def __call__(self, text_input_list):\n",
    "        outputs = []\n",
    "        for text_input in text_input_list:\n",
    "            outputs.append(self.predictor.predict(sentence=text_input))\n",
    "        # For each output, outputs['logits'] contains the logits where\n",
    "        # index 0 corresponds to the positive and index 1 corresponds\n",
    "        # to the negative score. We reverse the outputs (by reverse slicing,\n",
    "        # [::-1]) so that negative comes first and positive comes second.\n",
    "        return [output['logits'][::-1] for output in outputs]\n",
    "\n",
    "class AllenNLPModelCompressed(textattack.models.wrappers.ModelWrapper):\n",
    "    def __init__(self):\n",
    "        self.predictor = Predictor.from_path(\"https://storage.googleapis.com/allennlp-public-models/sst-2-basic-classifier-glove-2019.06.27.tar.gz\")\n",
    "        model = self.predictor._model\n",
    "        model.cpu()\n",
    "        quantized_model = torch.quantization.quantize_dynamic(\n",
    "            model,{nn.Linear,nn.LSTM}, dtype=torch.qint8\n",
    "        )\n",
    "        self.predictor._model = quantized_model\n",
    "        self.model = self.predictor._model\n",
    "        self.tokenizer = self.predictor._dataset_reader._tokenizer\n",
    "\n",
    "    def __call__(self, text_input_list):\n",
    "        outputs = []\n",
    "        for text_input in text_input_list:\n",
    "            outputs.append(self.predictor.predict(sentence=text_input))\n",
    "        # For each output, outputs['logits'] contains the logits where\n",
    "        # index 0 corresponds to the positive and index 1 corresponds\n",
    "        # to the negative score. We reverse the outputs (by reverse slicing,\n",
    "        # [::-1]) so that negative comes first and positive comes second.\n",
    "        return [output['logits'][::-1] for output in outputs]\n",
    "model_wrapper = AllenNLPModel()\n",
    "model_wrapper_compressed = AllenNLPModelCompressed()"
   ]
  },
  {
   "cell_type": "code",
   "execution_count": null,
   "metadata": {
    "scrolled": true
   },
   "outputs": [],
   "source": [
    "dataset = HuggingFaceDataset(\"glue\", \"sst2\", \"validation\")\n",
    "attack = TextFoolerJin2019.build(model_wrapper_compressed)\n",
    "# attack = DeepWordBugGao2018.build(model_wrapper)\n",
    "\n",
    "# attack_args = textattack.AttackArgs(\n",
    "#     num_examples=500,\n",
    "#     random_seed = 42,\n",
    "#     query_budget = 80,\n",
    "#     log_to_csv =\"quantized_textfooler_attacks.csv\"\n",
    "# )\n",
    "# attacker = Attacker(attack, dataset,attack_args)\n",
    "# res_quant = attacker.attack_dataset()"
   ]
  },
  {
   "cell_type": "code",
   "execution_count": 4,
   "metadata": {},
   "outputs": [
    {
     "name": "stderr",
     "output_type": "stream",
     "text": [
      "Reusing dataset glue (/home/sp6646/.cache/huggingface/datasets/glue/sst2/1.0.0/dacbe3125aa31d7f70367a07a8a9e72a5a0bfeb5fc42e75c9db75b96da6053ad)\n"
     ]
    },
    {
     "data": {
      "application/vnd.jupyter.widget-view+json": {
       "model_id": "69c418d19e0a44b5aedd3c8c3a982bd8",
       "version_major": 2,
       "version_minor": 0
      },
      "text/plain": [
       "  0%|          | 0/3 [00:00<?, ?it/s]"
      ]
     },
     "metadata": {},
     "output_type": "display_data"
    },
    {
     "name": "stderr",
     "output_type": "stream",
     "text": [
      "textattack: Loading \u001b[94mdatasets\u001b[0m dataset \u001b[94mglue\u001b[0m, subset \u001b[94msst2\u001b[0m, split \u001b[94mvalidation\u001b[0m.\n",
      "textattack: Unknown if model of class <class 'allennlp.models.basic_classifier.BasicClassifier'> compatible with goal function <class 'textattack.goal_functions.classification.untargeted_classification.UntargetedClassification'>.\n",
      "textattack: Logging to CSV at path main_textfooler_attacks.csv\n"
     ]
    },
    {
     "name": "stdout",
     "output_type": "stream",
     "text": [
      "Attack(\n",
      "  (search_method): GreedyWordSwapWIR(\n",
      "    (wir_method):  delete\n",
      "  )\n",
      "  (goal_function):  UntargetedClassification\n",
      "  (transformation):  WordSwapEmbedding(\n",
      "    (max_candidates):  50\n",
      "    (embedding):  WordEmbedding\n",
      "  )\n",
      "  (constraints): \n",
      "    (0): WordEmbeddingDistance(\n",
      "        (embedding):  WordEmbedding\n",
      "        (min_cos_sim):  0.5\n",
      "        (cased):  False\n",
      "        (include_unknown_words):  True\n",
      "        (compare_against_original):  True\n",
      "      )\n",
      "    (1): PartOfSpeech(\n",
      "        (tagger_type):  nltk\n",
      "        (tagset):  universal\n",
      "        (allow_verb_noun_swap):  True\n",
      "        (compare_against_original):  True\n",
      "      )\n",
      "    (2): UniversalSentenceEncoder(\n",
      "        (metric):  angular\n",
      "        (threshold):  0.840845057\n",
      "        (window_size):  15\n",
      "        (skip_text_shorter_than_window):  True\n",
      "        (compare_against_original):  False\n",
      "      )\n",
      "    (3): RepeatModification\n",
      "    (4): StopwordModification\n",
      "    (5): InputColumnModification(\n",
      "        (matching_column_labels):  ['premise', 'hypothesis']\n",
      "        (columns_to_ignore):  {'premise'}\n",
      "      )\n",
      "  (is_black_box):  True\n",
      ") \n",
      "\n"
     ]
    },
    {
     "name": "stderr",
     "output_type": "stream",
     "text": [
      "  0%|          | 1/500 [00:08<1:08:44,  8.26s/it]/scratch/sp6646/envs_dirs/swap_env/lib/python3.8/site-packages/textattack/loggers/csv_logger.py:41: FutureWarning: The frame.append method is deprecated and will be removed from pandas in a future version. Use pandas.concat instead.\n",
      "  self.df = self.df.append(row, ignore_index=True)\n",
      "[Succeeded / Failed / Skipped / Total] 1 / 0 / 0 / 1:   0%|          | 1/500 [00:08<1:08:57,  8.29s/it]"
     ]
    },
    {
     "name": "stdout",
     "output_type": "stream",
     "text": [
      "--------------------------------------------- Result 1 ---------------------------------------------\n",
      "[[Positive (100%)]] --> [[Negative (85%)]]\n",
      "\n",
      "it 's a [[charming]] and often [[affecting]] journey . \n",
      "\n",
      "it 's a [[pretty]] and often [[afflicts]] journey . \n",
      "\n",
      "\n"
     ]
    },
    {
     "name": "stderr",
     "output_type": "stream",
     "text": [
      "[Succeeded / Failed / Skipped / Total] 1 / 0 / 0 / 1:   0%|          | 2/500 [00:10<43:49,  5.28s/it]  /scratch/sp6646/envs_dirs/swap_env/lib/python3.8/site-packages/textattack/loggers/csv_logger.py:41: FutureWarning: The frame.append method is deprecated and will be removed from pandas in a future version. Use pandas.concat instead.\n",
      "  self.df = self.df.append(row, ignore_index=True)\n",
      "[Succeeded / Failed / Skipped / Total] 2 / 0 / 0 / 2:   0%|          | 2/500 [00:10<43:56,  5.29s/it]"
     ]
    },
    {
     "name": "stdout",
     "output_type": "stream",
     "text": [
      "--------------------------------------------- Result 2 ---------------------------------------------\n",
      "[[Negative (100%)]] --> [[Positive (100%)]]\n",
      "\n",
      "unflinchingly [[bleak]] and [[desperate]] \n",
      "\n",
      "unflinchingly [[baleful]] and [[frenetic]] \n",
      "\n",
      "\n"
     ]
    },
    {
     "name": "stderr",
     "output_type": "stream",
     "text": [
      "[Succeeded / Failed / Skipped / Total] 2 / 0 / 0 / 2:   1%|          | 3/500 [00:20<56:46,  6.85s/it]/scratch/sp6646/envs_dirs/swap_env/lib/python3.8/site-packages/textattack/loggers/csv_logger.py:41: FutureWarning: The frame.append method is deprecated and will be removed from pandas in a future version. Use pandas.concat instead.\n",
      "  self.df = self.df.append(row, ignore_index=True)\n",
      "[Succeeded / Failed / Skipped / Total] 3 / 0 / 0 / 3:   1%|          | 3/500 [00:20<56:52,  6.87s/it]"
     ]
    },
    {
     "name": "stdout",
     "output_type": "stream",
     "text": [
      "--------------------------------------------- Result 3 ---------------------------------------------\n",
      "[[Positive (100%)]] --> [[Negative (70%)]]\n",
      "\n",
      "allows us to hope that nolan is poised to embark a [[major]] career as a commercial yet [[inventive]] filmmaker . \n",
      "\n",
      "allows us to hope that nolan is poised to embark a [[heavy]] career as a commercial yet [[invention]] filmmaker . \n",
      "\n",
      "\n"
     ]
    },
    {
     "name": "stderr",
     "output_type": "stream",
     "text": [
      "[Succeeded / Failed / Skipped / Total] 3 / 0 / 0 / 3:   1%|          | 4/500 [00:23<48:26,  5.86s/it]/scratch/sp6646/envs_dirs/swap_env/lib/python3.8/site-packages/textattack/loggers/csv_logger.py:41: FutureWarning: The frame.append method is deprecated and will be removed from pandas in a future version. Use pandas.concat instead.\n",
      "  self.df = self.df.append(row, ignore_index=True)\n",
      "[Succeeded / Failed / Skipped / Total] 4 / 0 / 0 / 4:   1%|          | 4/500 [00:23<48:29,  5.87s/it]"
     ]
    },
    {
     "name": "stdout",
     "output_type": "stream",
     "text": [
      "--------------------------------------------- Result 4 ---------------------------------------------\n",
      "[[Positive (99%)]] --> [[Negative (56%)]]\n",
      "\n",
      "the acting , costumes , music , cinematography and sound are all [[astounding]] given the production 's austere locales . \n",
      "\n",
      "the acting , costumes , music , cinematography and sound are all [[staggering]] given the production 's austere locales . \n",
      "\n",
      "\n"
     ]
    },
    {
     "name": "stderr",
     "output_type": "stream",
     "text": [
      "[Succeeded / Failed / Skipped / Total] 4 / 0 / 0 / 4:   1%|          | 5/500 [00:25<41:56,  5.08s/it]/scratch/sp6646/envs_dirs/swap_env/lib/python3.8/site-packages/textattack/loggers/csv_logger.py:41: FutureWarning: The frame.append method is deprecated and will be removed from pandas in a future version. Use pandas.concat instead.\n",
      "  self.df = self.df.append(row, ignore_index=True)\n",
      "[Succeeded / Failed / Skipped / Total] 5 / 0 / 0 / 5:   1%|          | 5/500 [00:25<41:59,  5.09s/it]"
     ]
    },
    {
     "name": "stdout",
     "output_type": "stream",
     "text": [
      "--------------------------------------------- Result 5 ---------------------------------------------\n",
      "[[Negative (98%)]] --> [[Positive (73%)]]\n",
      "\n",
      "it 's slow -- very , very [[slow]] . \n",
      "\n",
      "it 's slow -- very , very [[lent]] . \n",
      "\n",
      "\n"
     ]
    },
    {
     "name": "stderr",
     "output_type": "stream",
     "text": [
      "[Succeeded / Failed / Skipped / Total] 5 / 0 / 0 / 5:   1%|          | 6/500 [00:40<54:57,  6.68s/it]/scratch/sp6646/envs_dirs/swap_env/lib/python3.8/site-packages/textattack/loggers/csv_logger.py:41: FutureWarning: The frame.append method is deprecated and will be removed from pandas in a future version. Use pandas.concat instead.\n",
      "  self.df = self.df.append(row, ignore_index=True)\n",
      "[Succeeded / Failed / Skipped / Total] 6 / 0 / 0 / 6:   1%|          | 6/500 [00:40<54:59,  6.68s/it]"
     ]
    },
    {
     "name": "stdout",
     "output_type": "stream",
     "text": [
      "--------------------------------------------- Result 6 ---------------------------------------------\n",
      "[[Positive (100%)]] --> [[Negative (63%)]]\n",
      "\n",
      "although laced with humor and a few fanciful touches , the film is a [[refreshingly]] serious look at young women . \n",
      "\n",
      "although laced with humor and a few fanciful touches , the film is a [[blithely]] serious look at young women . \n",
      "\n",
      "\n"
     ]
    },
    {
     "name": "stderr",
     "output_type": "stream",
     "text": [
      "[Succeeded / Failed / Skipped / Total] 6 / 0 / 0 / 6:   1%|▏         | 7/500 [00:42<50:02,  6.09s/it]/scratch/sp6646/envs_dirs/swap_env/lib/python3.8/site-packages/textattack/loggers/csv_logger.py:41: FutureWarning: The frame.append method is deprecated and will be removed from pandas in a future version. Use pandas.concat instead.\n",
      "  self.df = self.df.append(row, ignore_index=True)\n",
      "[Succeeded / Failed / Skipped / Total] 7 / 0 / 0 / 7:   1%|▏         | 7/500 [00:42<50:04,  6.09s/it]"
     ]
    },
    {
     "name": "stdout",
     "output_type": "stream",
     "text": [
      "--------------------------------------------- Result 7 ---------------------------------------------\n",
      "[[Negative (100%)]] --> [[Positive (100%)]]\n",
      "\n",
      "a sometimes [[tedious]] film . \n",
      "\n",
      "a sometimes [[bulky]] film . \n",
      "\n",
      "\n"
     ]
    },
    {
     "name": "stderr",
     "output_type": "stream",
     "text": [
      "[Succeeded / Failed / Skipped / Total] 7 / 0 / 0 / 7:   2%|▏         | 8/500 [00:50<51:47,  6.32s/it]/scratch/sp6646/envs_dirs/swap_env/lib/python3.8/site-packages/textattack/loggers/csv_logger.py:41: FutureWarning: The frame.append method is deprecated and will be removed from pandas in a future version. Use pandas.concat instead.\n",
      "  self.df = self.df.append(row, ignore_index=True)\n",
      "[Succeeded / Failed / Skipped / Total] 8 / 0 / 0 / 8:   2%|▏         | 8/500 [00:50<51:48,  6.32s/it]"
     ]
    },
    {
     "name": "stdout",
     "output_type": "stream",
     "text": [
      "--------------------------------------------- Result 8 ---------------------------------------------\n",
      "[[Negative (100%)]] --> [[Positive (75%)]]\n",
      "\n",
      "or doing last year 's [[taxes]] with your ex-wife . \n",
      "\n",
      "or doing last year 's [[accusations]] with your ex-wife . \n",
      "\n",
      "\n"
     ]
    },
    {
     "name": "stderr",
     "output_type": "stream",
     "text": [
      "[Succeeded / Failed / Skipped / Total] 8 / 0 / 0 / 8:   2%|▏         | 9/500 [01:05<59:29,  7.27s/it]/scratch/sp6646/envs_dirs/swap_env/lib/python3.8/site-packages/textattack/loggers/csv_logger.py:41: FutureWarning: The frame.append method is deprecated and will be removed from pandas in a future version. Use pandas.concat instead.\n",
      "  self.df = self.df.append(row, ignore_index=True)\n",
      "[Succeeded / Failed / Skipped / Total] 9 / 0 / 0 / 9:   2%|▏         | 9/500 [01:05<59:30,  7.27s/it]"
     ]
    },
    {
     "name": "stdout",
     "output_type": "stream",
     "text": [
      "--------------------------------------------- Result 9 ---------------------------------------------\n",
      "[[Positive (100%)]] --> [[Negative (67%)]]\n",
      "\n",
      "you do n't have to know about [[music]] to appreciate the film 's easygoing [[blend]] of comedy and romance . \n",
      "\n",
      "you do n't have to know about [[chanson]] to appreciate the film 's easygoing [[amalgamated]] of comedy and romance . \n",
      "\n",
      "\n"
     ]
    },
    {
     "name": "stderr",
     "output_type": "stream",
     "text": [
      "[Succeeded / Failed / Skipped / Total] 9 / 0 / 0 / 9:   2%|▏         | 10/500 [01:39<1:21:01,  9.92s/it]/scratch/sp6646/envs_dirs/swap_env/lib/python3.8/site-packages/textattack/loggers/csv_logger.py:41: FutureWarning: The frame.append method is deprecated and will be removed from pandas in a future version. Use pandas.concat instead.\n",
      "  self.df = self.df.append(row, ignore_index=True)\n",
      "[Succeeded / Failed / Skipped / Total] 9 / 1 / 0 / 10:   2%|▏         | 10/500 [01:39<1:21:03,  9.92s/it]"
     ]
    },
    {
     "name": "stdout",
     "output_type": "stream",
     "text": [
      "--------------------------------------------- Result 10 ---------------------------------------------\n",
      "[[Negative (100%)]] --> [[[FAILED]]]\n",
      "\n",
      "in exactly 89 minutes , most of which passed as slowly as if i 'd been sitting naked on an igloo , formula 51 sank from quirky to jerky to utter turkey . \n",
      "\n",
      "\n"
     ]
    },
    {
     "name": "stderr",
     "output_type": "stream",
     "text": [
      "[Succeeded / Failed / Skipped / Total] 9 / 1 / 0 / 10:   2%|▏         | 11/500 [01:45<1:18:02,  9.58s/it]/scratch/sp6646/envs_dirs/swap_env/lib/python3.8/site-packages/textattack/loggers/csv_logger.py:41: FutureWarning: The frame.append method is deprecated and will be removed from pandas in a future version. Use pandas.concat instead.\n",
      "  self.df = self.df.append(row, ignore_index=True)\n",
      "[Succeeded / Failed / Skipped / Total] 9 / 2 / 0 / 11:   2%|▏         | 11/500 [01:45<1:18:04,  9.58s/it]"
     ]
    },
    {
     "name": "stdout",
     "output_type": "stream",
     "text": [
      "--------------------------------------------- Result 11 ---------------------------------------------\n",
      "[[Positive (100%)]] --> [[[FAILED]]]\n",
      "\n",
      "the mesmerizing performances of the leads keep the film grounded and keep the audience riveted . \n",
      "\n",
      "\n"
     ]
    },
    {
     "name": "stderr",
     "output_type": "stream",
     "text": [
      "[Succeeded / Failed / Skipped / Total] 9 / 2 / 0 / 11:   2%|▏         | 12/500 [02:13<1:30:38, 11.15s/it]/scratch/sp6646/envs_dirs/swap_env/lib/python3.8/site-packages/textattack/loggers/csv_logger.py:41: FutureWarning: The frame.append method is deprecated and will be removed from pandas in a future version. Use pandas.concat instead.\n",
      "  self.df = self.df.append(row, ignore_index=True)\n",
      "[Succeeded / Failed / Skipped / Total] 10 / 2 / 0 / 12:   2%|▏         | 12/500 [02:13<1:30:39, 11.15s/it]"
     ]
    },
    {
     "name": "stdout",
     "output_type": "stream",
     "text": [
      "--------------------------------------------- Result 12 ---------------------------------------------\n",
      "[[Negative (100%)]] --> [[Positive (98%)]]\n",
      "\n",
      "it takes a strange kind of [[laziness]] to [[waste]] the talents of robert forster , anne meara , eugene levy , and reginald veljohnson all in the same movie . \n",
      "\n",
      "it takes a strange kind of [[idleness]] to [[scrap]] the talents of robert forster , anne meara , eugene levy , and reginald veljohnson all in the same movie . \n",
      "\n",
      "\n"
     ]
    },
    {
     "name": "stderr",
     "output_type": "stream",
     "text": [
      "[Succeeded / Failed / Skipped / Total] 10 / 2 / 0 / 12:   3%|▎         | 13/500 [02:29<1:33:08, 11.48s/it]/scratch/sp6646/envs_dirs/swap_env/lib/python3.8/site-packages/textattack/loggers/csv_logger.py:41: FutureWarning: The frame.append method is deprecated and will be removed from pandas in a future version. Use pandas.concat instead.\n",
      "  self.df = self.df.append(row, ignore_index=True)\n",
      "[Succeeded / Failed / Skipped / Total] 10 / 3 / 0 / 13:   3%|▎         | 14/500 [02:29<1:26:24, 10.67s/it]/scratch/sp6646/envs_dirs/swap_env/lib/python3.8/site-packages/textattack/loggers/csv_logger.py:41: FutureWarning: The frame.append method is deprecated and will be removed from pandas in a future version. Use pandas.concat instead.\n",
      "  self.df = self.df.append(row, ignore_index=True)\n",
      "[Succeeded / Failed / Skipped / Total] 10 / 3 / 1 / 14:   3%|▎         | 14/500 [02:29<1:26:25, 10.67s/it]"
     ]
    },
    {
     "name": "stdout",
     "output_type": "stream",
     "text": [
      "--------------------------------------------- Result 13 ---------------------------------------------\n",
      "[[Negative (100%)]] --> [[[FAILED]]]\n",
      "\n",
      "... the film suffers from a lack of humor ( something needed to balance out the violence ) ... \n",
      "\n",
      "\n",
      "--------------------------------------------- Result 14 ---------------------------------------------\n",
      "[[Negative (99%)]] --> [[[SKIPPED]]]\n",
      "\n",
      "we root for ( clara and paul ) , even like them , though perhaps it 's an emotion closer to pity . \n",
      "\n",
      "\n"
     ]
    },
    {
     "name": "stderr",
     "output_type": "stream",
     "text": [
      "[Succeeded / Failed / Skipped / Total] 10 / 3 / 1 / 14:   3%|▎         | 15/500 [02:47<1:30:01, 11.14s/it]/scratch/sp6646/envs_dirs/swap_env/lib/python3.8/site-packages/textattack/loggers/csv_logger.py:41: FutureWarning: The frame.append method is deprecated and will be removed from pandas in a future version. Use pandas.concat instead.\n",
      "  self.df = self.df.append(row, ignore_index=True)\n",
      "[Succeeded / Failed / Skipped / Total] 11 / 3 / 1 / 15:   3%|▎         | 15/500 [02:47<1:30:01, 11.14s/it]"
     ]
    },
    {
     "name": "stdout",
     "output_type": "stream",
     "text": [
      "--------------------------------------------- Result 15 ---------------------------------------------\n",
      "[[Negative (80%)]] --> [[Positive (68%)]]\n",
      "\n",
      "even horror fans will most likely not find what they 're seeking with trouble every day ; the movie [[lacks]] both thrills and humor . \n",
      "\n",
      "even horror fans will most likely not find what they 're seeking with trouble every day ; the movie [[dearth]] both thrills and humor . \n",
      "\n",
      "\n"
     ]
    },
    {
     "name": "stderr",
     "output_type": "stream",
     "text": [
      "[Succeeded / Failed / Skipped / Total] 11 / 3 / 1 / 15:   3%|▎         | 16/500 [03:01<1:31:26, 11.34s/it]/scratch/sp6646/envs_dirs/swap_env/lib/python3.8/site-packages/textattack/loggers/csv_logger.py:41: FutureWarning: The frame.append method is deprecated and will be removed from pandas in a future version. Use pandas.concat instead.\n",
      "  self.df = self.df.append(row, ignore_index=True)\n",
      "[Succeeded / Failed / Skipped / Total] 11 / 4 / 1 / 16:   3%|▎         | 16/500 [03:01<1:31:27, 11.34s/it]"
     ]
    },
    {
     "name": "stdout",
     "output_type": "stream",
     "text": [
      "--------------------------------------------- Result 16 ---------------------------------------------\n",
      "[[Positive (100%)]] --> [[[FAILED]]]\n",
      "\n",
      "a gorgeous , high-spirited musical from india that exquisitely blends music , dance , song , and high drama . \n",
      "\n",
      "\n"
     ]
    },
    {
     "name": "stderr",
     "output_type": "stream",
     "text": [
      "[Succeeded / Failed / Skipped / Total] 11 / 4 / 1 / 16:   3%|▎         | 17/500 [03:16<1:33:07, 11.57s/it]/scratch/sp6646/envs_dirs/swap_env/lib/python3.8/site-packages/textattack/loggers/csv_logger.py:41: FutureWarning: The frame.append method is deprecated and will be removed from pandas in a future version. Use pandas.concat instead.\n",
      "  self.df = self.df.append(row, ignore_index=True)\n",
      "[Succeeded / Failed / Skipped / Total] 11 / 5 / 1 / 17:   3%|▎         | 17/500 [03:16<1:33:08, 11.57s/it]"
     ]
    },
    {
     "name": "stdout",
     "output_type": "stream",
     "text": [
      "--------------------------------------------- Result 17 ---------------------------------------------\n",
      "[[Positive (99%)]] --> [[[FAILED]]]\n",
      "\n",
      "the emotions are raw and will strike a nerve with anyone who 's ever had family trauma . \n",
      "\n",
      "\n"
     ]
    },
    {
     "name": "stderr",
     "output_type": "stream",
     "text": [
      "[Succeeded / Failed / Skipped / Total] 11 / 5 / 1 / 17:   4%|▎         | 18/500 [03:45<1:40:42, 12.54s/it]/scratch/sp6646/envs_dirs/swap_env/lib/python3.8/site-packages/textattack/loggers/csv_logger.py:41: FutureWarning: The frame.append method is deprecated and will be removed from pandas in a future version. Use pandas.concat instead.\n",
      "  self.df = self.df.append(row, ignore_index=True)\n",
      "[Succeeded / Failed / Skipped / Total] 12 / 5 / 1 / 18:   4%|▎         | 18/500 [03:45<1:40:43, 12.54s/it]"
     ]
    },
    {
     "name": "stdout",
     "output_type": "stream",
     "text": [
      "--------------------------------------------- Result 18 ---------------------------------------------\n",
      "[[Positive (100%)]] --> [[Negative (60%)]]\n",
      "\n",
      "audrey tatou has a [[knack]] for picking roles that magnify her outrageous [[charm]] , and in this literate french comedy , she 's as morning-glory [[exuberant]] as she was in amélie . \n",
      "\n",
      "audrey tatou has a [[don]] for picking roles that magnify her outrageous [[allure]] , and in this literate french comedy , she 's as morning-glory [[florid]] as she was in amélie . \n",
      "\n",
      "\n"
     ]
    },
    {
     "name": "stderr",
     "output_type": "stream",
     "text": [
      "[Succeeded / Failed / Skipped / Total] 12 / 5 / 1 / 18:   4%|▍         | 19/500 [03:52<1:38:02, 12.23s/it]/scratch/sp6646/envs_dirs/swap_env/lib/python3.8/site-packages/textattack/loggers/csv_logger.py:41: FutureWarning: The frame.append method is deprecated and will be removed from pandas in a future version. Use pandas.concat instead.\n",
      "  self.df = self.df.append(row, ignore_index=True)\n",
      "[Succeeded / Failed / Skipped / Total] 13 / 5 / 1 / 19:   4%|▍         | 19/500 [03:52<1:38:03, 12.23s/it]"
     ]
    },
    {
     "name": "stdout",
     "output_type": "stream",
     "text": [
      "--------------------------------------------- Result 19 ---------------------------------------------\n",
      "[[Negative (100%)]] --> [[Positive (80%)]]\n",
      "\n",
      "... the [[movie]] is just a [[plain]] [[old]] monster . \n",
      "\n",
      "... the [[photography]] is just a [[cimarron]] [[yesteryear]] monster . \n",
      "\n",
      "\n"
     ]
    },
    {
     "name": "stderr",
     "output_type": "stream",
     "text": [
      "[Succeeded / Failed / Skipped / Total] 13 / 5 / 1 / 19:   4%|▍         | 20/500 [03:58<1:35:23, 11.92s/it]/scratch/sp6646/envs_dirs/swap_env/lib/python3.8/site-packages/textattack/loggers/csv_logger.py:41: FutureWarning: The frame.append method is deprecated and will be removed from pandas in a future version. Use pandas.concat instead.\n",
      "  self.df = self.df.append(row, ignore_index=True)\n",
      "[Succeeded / Failed / Skipped / Total] 14 / 5 / 1 / 20:   4%|▍         | 20/500 [03:58<1:35:24, 11.93s/it]"
     ]
    },
    {
     "name": "stdout",
     "output_type": "stream",
     "text": [
      "--------------------------------------------- Result 20 ---------------------------------------------\n",
      "[[Negative (100%)]] --> [[Positive (60%)]]\n",
      "\n",
      "in its best moments , resembles a [[bad]] high school production of grease , without benefit of song . \n",
      "\n",
      "in its best moments , resembles a [[horrid]] high school production of grease , without benefit of song . \n",
      "\n",
      "\n"
     ]
    },
    {
     "name": "stderr",
     "output_type": "stream",
     "text": [
      "[Succeeded / Failed / Skipped / Total] 14 / 5 / 1 / 20:   4%|▍         | 21/500 [03:59<1:30:53, 11.38s/it]/scratch/sp6646/envs_dirs/swap_env/lib/python3.8/site-packages/textattack/loggers/csv_logger.py:41: FutureWarning: The frame.append method is deprecated and will be removed from pandas in a future version. Use pandas.concat instead.\n",
      "  self.df = self.df.append(row, ignore_index=True)\n",
      "[Succeeded / Failed / Skipped / Total] 14 / 5 / 2 / 21:   4%|▍         | 21/500 [03:59<1:30:53, 11.39s/it]"
     ]
    },
    {
     "name": "stdout",
     "output_type": "stream",
     "text": [
      "--------------------------------------------- Result 21 ---------------------------------------------\n",
      "[[Positive (77%)]] --> [[[SKIPPED]]]\n",
      "\n",
      "pumpkin takes an admirable look at the hypocrisy of political correctness , but it does so with such an uneven tone that you never know when humor ends and tragedy begins . \n",
      "\n",
      "\n"
     ]
    },
    {
     "name": "stderr",
     "output_type": "stream",
     "text": [
      "[Succeeded / Failed / Skipped / Total] 14 / 5 / 2 / 21:   4%|▍         | 22/500 [04:01<1:27:34, 10.99s/it]/scratch/sp6646/envs_dirs/swap_env/lib/python3.8/site-packages/textattack/loggers/csv_logger.py:41: FutureWarning: The frame.append method is deprecated and will be removed from pandas in a future version. Use pandas.concat instead.\n",
      "  self.df = self.df.append(row, ignore_index=True)\n",
      "[Succeeded / Failed / Skipped / Total] 15 / 5 / 2 / 22:   4%|▍         | 22/500 [04:01<1:27:35, 10.99s/it]"
     ]
    },
    {
     "name": "stdout",
     "output_type": "stream",
     "text": [
      "--------------------------------------------- Result 22 ---------------------------------------------\n",
      "[[Negative (89%)]] --> [[Positive (97%)]]\n",
      "\n",
      "the iditarod [[lasts]] for days - this just felt like it did . \n",
      "\n",
      "the iditarod [[extends]] for days - this just felt like it did . \n",
      "\n",
      "\n"
     ]
    },
    {
     "name": "stderr",
     "output_type": "stream",
     "text": [
      "[Succeeded / Failed / Skipped / Total] 15 / 5 / 2 / 22:   5%|▍         | 23/500 [04:03<1:24:03, 10.57s/it]/scratch/sp6646/envs_dirs/swap_env/lib/python3.8/site-packages/textattack/loggers/csv_logger.py:41: FutureWarning: The frame.append method is deprecated and will be removed from pandas in a future version. Use pandas.concat instead.\n",
      "  self.df = self.df.append(row, ignore_index=True)\n",
      "[Succeeded / Failed / Skipped / Total] 16 / 5 / 2 / 23:   5%|▍         | 23/500 [04:03<1:24:04, 10.57s/it]"
     ]
    },
    {
     "name": "stdout",
     "output_type": "stream",
     "text": [
      "--------------------------------------------- Result 23 ---------------------------------------------\n",
      "[[Negative (78%)]] --> [[Positive (98%)]]\n",
      "\n",
      "holden caulfield [[did]] it better . \n",
      "\n",
      "holden caulfield [[does]] it better . \n",
      "\n",
      "\n"
     ]
    },
    {
     "name": "stderr",
     "output_type": "stream",
     "text": [
      "[Succeeded / Failed / Skipped / Total] 16 / 5 / 2 / 23:   5%|▍         | 24/500 [04:14<1:23:58, 10.59s/it]/scratch/sp6646/envs_dirs/swap_env/lib/python3.8/site-packages/textattack/loggers/csv_logger.py:41: FutureWarning: The frame.append method is deprecated and will be removed from pandas in a future version. Use pandas.concat instead.\n",
      "  self.df = self.df.append(row, ignore_index=True)\n",
      "[Succeeded / Failed / Skipped / Total] 16 / 6 / 2 / 24:   5%|▍         | 24/500 [04:14<1:23:59, 10.59s/it]"
     ]
    },
    {
     "name": "stdout",
     "output_type": "stream",
     "text": [
      "--------------------------------------------- Result 24 ---------------------------------------------\n",
      "[[Positive (100%)]] --> [[[FAILED]]]\n",
      "\n",
      "a delectable and intriguing thriller filled with surprises , read my lips is an original . \n",
      "\n",
      "\n"
     ]
    },
    {
     "name": "stderr",
     "output_type": "stream",
     "text": [
      "[Succeeded / Failed / Skipped / Total] 16 / 6 / 2 / 24:   5%|▌         | 25/500 [04:21<1:22:48, 10.46s/it]/scratch/sp6646/envs_dirs/swap_env/lib/python3.8/site-packages/textattack/loggers/csv_logger.py:41: FutureWarning: The frame.append method is deprecated and will be removed from pandas in a future version. Use pandas.concat instead.\n",
      "  self.df = self.df.append(row, ignore_index=True)\n",
      "[Succeeded / Failed / Skipped / Total] 17 / 6 / 2 / 25:   5%|▌         | 25/500 [04:21<1:22:49, 10.46s/it]"
     ]
    },
    {
     "name": "stdout",
     "output_type": "stream",
     "text": [
      "--------------------------------------------- Result 25 ---------------------------------------------\n",
      "[[Positive (96%)]] --> [[Negative (78%)]]\n",
      "\n",
      "seldom has a movie so closely matched the [[spirit]] of a man and his work . \n",
      "\n",
      "seldom has a movie so closely matched the [[esprit]] of a man and his work . \n",
      "\n",
      "\n"
     ]
    },
    {
     "name": "stderr",
     "output_type": "stream",
     "text": [
      "[Succeeded / Failed / Skipped / Total] 17 / 6 / 2 / 25:   5%|▌         | 26/500 [04:45<1:26:44, 10.98s/it]/scratch/sp6646/envs_dirs/swap_env/lib/python3.8/site-packages/textattack/loggers/csv_logger.py:41: FutureWarning: The frame.append method is deprecated and will be removed from pandas in a future version. Use pandas.concat instead.\n",
      "  self.df = self.df.append(row, ignore_index=True)\n",
      "[Succeeded / Failed / Skipped / Total] 18 / 6 / 2 / 26:   5%|▌         | 26/500 [04:45<1:26:44, 10.98s/it]"
     ]
    },
    {
     "name": "stdout",
     "output_type": "stream",
     "text": [
      "--------------------------------------------- Result 26 ---------------------------------------------\n",
      "[[Negative (100%)]] --> [[Positive (77%)]]\n",
      "\n",
      "nicks , seemingly [[uncertain]] what 's going to make people laugh , runs the gamut from [[stale]] parody to raunchy sex gags to formula romantic comedy . \n",
      "\n",
      "nicks , seemingly [[unbeknownst]] what 's going to make people laugh , runs the gamut from [[old]] parody to raunchy sex gags to formula romantic comedy . \n",
      "\n",
      "\n"
     ]
    },
    {
     "name": "stderr",
     "output_type": "stream",
     "text": [
      "[Succeeded / Failed / Skipped / Total] 18 / 6 / 2 / 26:   5%|▌         | 27/500 [05:09<1:30:23, 11.47s/it]/scratch/sp6646/envs_dirs/swap_env/lib/python3.8/site-packages/textattack/loggers/csv_logger.py:41: FutureWarning: The frame.append method is deprecated and will be removed from pandas in a future version. Use pandas.concat instead.\n",
      "  self.df = self.df.append(row, ignore_index=True)\n",
      "[Succeeded / Failed / Skipped / Total] 18 / 7 / 2 / 27:   5%|▌         | 27/500 [05:09<1:30:23, 11.47s/it]"
     ]
    },
    {
     "name": "stdout",
     "output_type": "stream",
     "text": [
      "--------------------------------------------- Result 27 ---------------------------------------------\n",
      "[[Negative (100%)]] --> [[[FAILED]]]\n",
      "\n",
      "the action switches between past and present , but the material link is too tenuous to anchor the emotional connections that purport to span a 125-year divide . \n",
      "\n",
      "\n"
     ]
    },
    {
     "name": "stderr",
     "output_type": "stream",
     "text": [
      "[Succeeded / Failed / Skipped / Total] 18 / 7 / 2 / 27:   6%|▌         | 28/500 [05:30<1:32:52, 11.81s/it]/scratch/sp6646/envs_dirs/swap_env/lib/python3.8/site-packages/textattack/loggers/csv_logger.py:41: FutureWarning: The frame.append method is deprecated and will be removed from pandas in a future version. Use pandas.concat instead.\n",
      "  self.df = self.df.append(row, ignore_index=True)\n",
      "[Succeeded / Failed / Skipped / Total] 19 / 7 / 2 / 28:   6%|▌         | 28/500 [05:30<1:32:53, 11.81s/it]"
     ]
    },
    {
     "name": "stdout",
     "output_type": "stream",
     "text": [
      "--------------------------------------------- Result 28 ---------------------------------------------\n",
      "[[Positive (99%)]] --> [[Negative (54%)]]\n",
      "\n",
      "it 's an offbeat treat that pokes [[fun]] at the democratic exercise while also examining its [[significance]] for those who take part . \n",
      "\n",
      "it 's an offbeat treat that pokes [[distracting]] at the democratic exercise while also examining its [[meaning]] for those who take part . \n",
      "\n",
      "\n"
     ]
    },
    {
     "name": "stderr",
     "output_type": "stream",
     "text": [
      "[Succeeded / Failed / Skipped / Total] 19 / 7 / 2 / 28:   6%|▌         | 29/500 [05:42<1:32:39, 11.80s/it]/scratch/sp6646/envs_dirs/swap_env/lib/python3.8/site-packages/textattack/loggers/csv_logger.py:41: FutureWarning: The frame.append method is deprecated and will be removed from pandas in a future version. Use pandas.concat instead.\n",
      "  self.df = self.df.append(row, ignore_index=True)\n",
      "[Succeeded / Failed / Skipped / Total] 20 / 7 / 2 / 29:   6%|▌         | 29/500 [05:42<1:32:39, 11.80s/it]"
     ]
    },
    {
     "name": "stdout",
     "output_type": "stream",
     "text": [
      "--------------------------------------------- Result 29 ---------------------------------------------\n",
      "[[Negative (92%)]] --> [[Positive (68%)]]\n",
      "\n",
      "it 's a cookie-cutter [[movie]] , a cut-and-paste [[job]] . \n",
      "\n",
      "it 's a cookie-cutter [[cine]] , a cut-and-paste [[mission]] . \n",
      "\n",
      "\n"
     ]
    },
    {
     "name": "stderr",
     "output_type": "stream",
     "text": [
      "[Succeeded / Failed / Skipped / Total] 20 / 7 / 2 / 29:   6%|▌         | 30/500 [05:44<1:29:52, 11.47s/it]/scratch/sp6646/envs_dirs/swap_env/lib/python3.8/site-packages/textattack/loggers/csv_logger.py:41: FutureWarning: The frame.append method is deprecated and will be removed from pandas in a future version. Use pandas.concat instead.\n",
      "  self.df = self.df.append(row, ignore_index=True)\n",
      "[Succeeded / Failed / Skipped / Total] 21 / 7 / 2 / 30:   6%|▌         | 30/500 [05:44<1:29:52, 11.47s/it]"
     ]
    },
    {
     "name": "stdout",
     "output_type": "stream",
     "text": [
      "--------------------------------------------- Result 30 ---------------------------------------------\n",
      "[[Negative (95%)]] --> [[Positive (96%)]]\n",
      "\n",
      "i [[had]] to look away - this was god [[awful]] . \n",
      "\n",
      "i [[possesses]] to look away - this was god [[heinous]] . \n",
      "\n",
      "\n"
     ]
    },
    {
     "name": "stderr",
     "output_type": "stream",
     "text": [
      "[Succeeded / Failed / Skipped / Total] 21 / 7 / 2 / 30:   6%|▌         | 31/500 [06:03<1:31:44, 11.74s/it]/scratch/sp6646/envs_dirs/swap_env/lib/python3.8/site-packages/textattack/loggers/csv_logger.py:41: FutureWarning: The frame.append method is deprecated and will be removed from pandas in a future version. Use pandas.concat instead.\n",
      "  self.df = self.df.append(row, ignore_index=True)\n",
      "[Succeeded / Failed / Skipped / Total] 22 / 7 / 2 / 31:   6%|▌         | 31/500 [06:03<1:31:45, 11.74s/it]/scratch/sp6646/envs_dirs/swap_env/lib/python3.8/site-packages/textattack/loggers/csv_logger.py:41: FutureWarning: The frame.append method is deprecated and will be removed from pandas in a future version. Use pandas.concat instead.\n",
      "  self.df = self.df.append(row, ignore_index=True)\n",
      "[Succeeded / Failed / Skipped / Total] 22 / 7 / 3 / 32:   6%|▋         | 32/500 [06:03<1:28:42, 11.37s/it]"
     ]
    },
    {
     "name": "stdout",
     "output_type": "stream",
     "text": [
      "--------------------------------------------- Result 31 ---------------------------------------------\n",
      "[[Positive (100%)]] --> [[Negative (62%)]]\n",
      "\n",
      "thanks to scott 's charismatic roger and eisenberg 's sweet nephew , roger dodger is one of the most [[compelling]] variations on in the company of men . \n",
      "\n",
      "thanks to scott 's charismatic roger and eisenberg 's sweet nephew , roger dodger is one of the most [[unconvincing]] variations on in the company of men . \n",
      "\n",
      "\n",
      "--------------------------------------------- Result 32 ---------------------------------------------\n",
      "[[Positive (82%)]] --> [[[SKIPPED]]]\n",
      "\n",
      "... designed to provide a mix of smiles and tears , `` crossroads '' instead provokes a handful of unintentional howlers and numerous yawns . \n",
      "\n",
      "\n"
     ]
    },
    {
     "name": "stderr",
     "output_type": "stream",
     "text": [
      "[Succeeded / Failed / Skipped / Total] 22 / 7 / 3 / 32:   7%|▋         | 33/500 [06:09<1:27:11, 11.20s/it]/scratch/sp6646/envs_dirs/swap_env/lib/python3.8/site-packages/textattack/loggers/csv_logger.py:41: FutureWarning: The frame.append method is deprecated and will be removed from pandas in a future version. Use pandas.concat instead.\n",
      "  self.df = self.df.append(row, ignore_index=True)\n",
      "[Succeeded / Failed / Skipped / Total] 23 / 7 / 3 / 33:   7%|▋         | 33/500 [06:09<1:27:11, 11.20s/it]"
     ]
    },
    {
     "name": "stdout",
     "output_type": "stream",
     "text": [
      "--------------------------------------------- Result 33 ---------------------------------------------\n",
      "[[Positive (100%)]] --> [[Negative (83%)]]\n",
      "\n",
      "a [[gorgeous]] , [[witty]] , [[seductive]] movie . \n",
      "\n",
      "a [[grandiose]] , [[eclectic]] , [[leggy]] movie . \n",
      "\n",
      "\n"
     ]
    },
    {
     "name": "stderr",
     "output_type": "stream",
     "text": [
      "[Succeeded / Failed / Skipped / Total] 23 / 7 / 3 / 33:   7%|▋         | 34/500 [06:32<1:29:41, 11.55s/it]/scratch/sp6646/envs_dirs/swap_env/lib/python3.8/site-packages/textattack/loggers/csv_logger.py:41: FutureWarning: The frame.append method is deprecated and will be removed from pandas in a future version. Use pandas.concat instead.\n",
      "  self.df = self.df.append(row, ignore_index=True)\n",
      "[Succeeded / Failed / Skipped / Total] 24 / 7 / 3 / 34:   7%|▋         | 34/500 [06:32<1:29:42, 11.55s/it]"
     ]
    },
    {
     "name": "stdout",
     "output_type": "stream",
     "text": [
      "--------------------------------------------- Result 34 ---------------------------------------------\n",
      "[[Negative (57%)]] --> [[Positive (70%)]]\n",
      "\n",
      "if the movie succeeds in instilling a [[wary]] sense of ` there but for the grace of god , ' it is far too self-conscious to draw you deeply into its world . \n",
      "\n",
      "if the movie succeeds in instilling a [[leery]] sense of ` there but for the grace of god , ' it is far too self-conscious to draw you deeply into its world . \n",
      "\n",
      "\n"
     ]
    },
    {
     "name": "stderr",
     "output_type": "stream",
     "text": [
      "[Succeeded / Failed / Skipped / Total] 24 / 7 / 3 / 34:   7%|▋         | 35/500 [06:49<1:30:36, 11.69s/it]/scratch/sp6646/envs_dirs/swap_env/lib/python3.8/site-packages/textattack/loggers/csv_logger.py:41: FutureWarning: The frame.append method is deprecated and will be removed from pandas in a future version. Use pandas.concat instead.\n",
      "  self.df = self.df.append(row, ignore_index=True)\n",
      "[Succeeded / Failed / Skipped / Total] 24 / 8 / 3 / 35:   7%|▋         | 35/500 [06:49<1:30:36, 11.69s/it]"
     ]
    },
    {
     "name": "stdout",
     "output_type": "stream",
     "text": [
      "--------------------------------------------- Result 35 ---------------------------------------------\n",
      "[[Negative (100%)]] --> [[[FAILED]]]\n",
      "\n",
      "it does n't believe in itself , it has no sense of humor ... it 's just plain bored . \n",
      "\n",
      "\n"
     ]
    },
    {
     "name": "stderr",
     "output_type": "stream",
     "text": [
      "[Succeeded / Failed / Skipped / Total] 24 / 8 / 3 / 35:   7%|▋         | 36/500 [07:01<1:30:28, 11.70s/it]/scratch/sp6646/envs_dirs/swap_env/lib/python3.8/site-packages/textattack/loggers/csv_logger.py:41: FutureWarning: The frame.append method is deprecated and will be removed from pandas in a future version. Use pandas.concat instead.\n",
      "  self.df = self.df.append(row, ignore_index=True)\n",
      "[Succeeded / Failed / Skipped / Total] 25 / 8 / 3 / 36:   7%|▋         | 36/500 [07:01<1:30:28, 11.70s/it]"
     ]
    },
    {
     "name": "stdout",
     "output_type": "stream",
     "text": [
      "--------------------------------------------- Result 36 ---------------------------------------------\n",
      "[[Negative (100%)]] --> [[Positive (52%)]]\n",
      "\n",
      "a sequence of [[ridiculous]] [[shoot]] - 'em - up scenes . \n",
      "\n",
      "a sequence of [[nutty]] [[draw]] - 'em - up scenes . \n",
      "\n",
      "\n"
     ]
    },
    {
     "name": "stderr",
     "output_type": "stream",
     "text": [
      "[Succeeded / Failed / Skipped / Total] 25 / 8 / 3 / 36:   7%|▋         | 37/500 [07:17<1:31:20, 11.84s/it]/scratch/sp6646/envs_dirs/swap_env/lib/python3.8/site-packages/textattack/loggers/csv_logger.py:41: FutureWarning: The frame.append method is deprecated and will be removed from pandas in a future version. Use pandas.concat instead.\n",
      "  self.df = self.df.append(row, ignore_index=True)\n",
      "[Succeeded / Failed / Skipped / Total] 26 / 8 / 3 / 37:   7%|▋         | 37/500 [07:18<1:31:21, 11.84s/it]"
     ]
    },
    {
     "name": "stdout",
     "output_type": "stream",
     "text": [
      "--------------------------------------------- Result 37 ---------------------------------------------\n",
      "[[Positive (94%)]] --> [[Negative (70%)]]\n",
      "\n",
      "the weight of the [[piece]] , the unerring [[professionalism]] of the chilly production , and the fascination embedded in the lurid topic prove recommendation enough . \n",
      "\n",
      "the weight of the [[instalment]] , the unerring [[profession]] of the chilly production , and the fascination embedded in the lurid topic prove recommendation enough . \n",
      "\n",
      "\n"
     ]
    },
    {
     "name": "stderr",
     "output_type": "stream",
     "text": [
      "[Succeeded / Failed / Skipped / Total] 26 / 8 / 3 / 37:   8%|▊         | 38/500 [07:18<1:28:51, 11.54s/it]/scratch/sp6646/envs_dirs/swap_env/lib/python3.8/site-packages/textattack/loggers/csv_logger.py:41: FutureWarning: The frame.append method is deprecated and will be removed from pandas in a future version. Use pandas.concat instead.\n",
      "  self.df = self.df.append(row, ignore_index=True)\n",
      "[Succeeded / Failed / Skipped / Total] 26 / 8 / 4 / 38:   8%|▊         | 38/500 [07:18<1:28:51, 11.54s/it]"
     ]
    },
    {
     "name": "stdout",
     "output_type": "stream",
     "text": [
      "--------------------------------------------- Result 38 ---------------------------------------------\n",
      "[[Positive (98%)]] --> [[[SKIPPED]]]\n",
      "\n",
      "( w ) hile long on amiable monkeys and worthy environmentalism , jane goodall 's wild chimpanzees is short on the thrills the oversize medium demands . \n",
      "\n",
      "\n"
     ]
    },
    {
     "name": "stderr",
     "output_type": "stream",
     "text": [
      "[Succeeded / Failed / Skipped / Total] 26 / 8 / 4 / 38:   8%|▊         | 39/500 [07:33<1:29:20, 11.63s/it]/scratch/sp6646/envs_dirs/swap_env/lib/python3.8/site-packages/textattack/loggers/csv_logger.py:41: FutureWarning: The frame.append method is deprecated and will be removed from pandas in a future version. Use pandas.concat instead.\n",
      "  self.df = self.df.append(row, ignore_index=True)\n",
      "[Succeeded / Failed / Skipped / Total] 26 / 9 / 4 / 39:   8%|▊         | 39/500 [07:33<1:29:20, 11.63s/it]"
     ]
    },
    {
     "name": "stdout",
     "output_type": "stream",
     "text": [
      "--------------------------------------------- Result 39 ---------------------------------------------\n",
      "[[Positive (100%)]] --> [[[FAILED]]]\n",
      "\n",
      "as surreal as a dream and as detailed as a photograph , as visually dexterous as it is at times imaginatively overwhelming . \n",
      "\n",
      "\n"
     ]
    },
    {
     "name": "stderr",
     "output_type": "stream",
     "text": [
      "[Succeeded / Failed / Skipped / Total] 26 / 9 / 4 / 39:   8%|▊         | 40/500 [07:46<1:29:21, 11.66s/it]/scratch/sp6646/envs_dirs/swap_env/lib/python3.8/site-packages/textattack/loggers/csv_logger.py:41: FutureWarning: The frame.append method is deprecated and will be removed from pandas in a future version. Use pandas.concat instead.\n",
      "  self.df = self.df.append(row, ignore_index=True)\n",
      "[Succeeded / Failed / Skipped / Total] 27 / 9 / 4 / 40:   8%|▊         | 40/500 [07:46<1:29:22, 11.66s/it]"
     ]
    },
    {
     "name": "stdout",
     "output_type": "stream",
     "text": [
      "--------------------------------------------- Result 40 ---------------------------------------------\n",
      "[[Positive (100%)]] --> [[Negative (99%)]]\n",
      "\n",
      "[[escaping]] the [[studio]] , piccoli is [[warmly]] affecting and so is this adroitly [[minimalist]] movie . \n",
      "\n",
      "[[leaks]] the [[atelier]] , piccoli is [[frankly]] affecting and so is this adroitly [[insignificant]] movie . \n",
      "\n",
      "\n"
     ]
    },
    {
     "name": "stderr",
     "output_type": "stream",
     "text": [
      "[Succeeded / Failed / Skipped / Total] 27 / 9 / 4 / 40:   8%|▊         | 41/500 [08:04<1:30:20, 11.81s/it]/scratch/sp6646/envs_dirs/swap_env/lib/python3.8/site-packages/textattack/loggers/csv_logger.py:41: FutureWarning: The frame.append method is deprecated and will be removed from pandas in a future version. Use pandas.concat instead.\n",
      "  self.df = self.df.append(row, ignore_index=True)\n",
      "[Succeeded / Failed / Skipped / Total] 27 / 10 / 4 / 41:   8%|▊         | 41/500 [08:04<1:30:21, 11.81s/it]"
     ]
    },
    {
     "name": "stdout",
     "output_type": "stream",
     "text": [
      "--------------------------------------------- Result 41 ---------------------------------------------\n",
      "[[Positive (100%)]] --> [[[FAILED]]]\n",
      "\n",
      "there 's ... tremendous energy from the cast , a sense of playfulness and excitement that seems appropriate . \n",
      "\n",
      "\n"
     ]
    },
    {
     "name": "stderr",
     "output_type": "stream",
     "text": [
      "[Succeeded / Failed / Skipped / Total] 27 / 10 / 4 / 41:   8%|▊         | 42/500 [08:21<1:31:10, 11.94s/it]/scratch/sp6646/envs_dirs/swap_env/lib/python3.8/site-packages/textattack/loggers/csv_logger.py:41: FutureWarning: The frame.append method is deprecated and will be removed from pandas in a future version. Use pandas.concat instead.\n",
      "  self.df = self.df.append(row, ignore_index=True)\n",
      "[Succeeded / Failed / Skipped / Total] 27 / 11 / 4 / 42:   8%|▊         | 42/500 [08:21<1:31:10, 11.94s/it]"
     ]
    },
    {
     "name": "stdout",
     "output_type": "stream",
     "text": [
      "--------------------------------------------- Result 42 ---------------------------------------------\n",
      "[[Positive (100%)]] --> [[[FAILED]]]\n",
      "\n",
      "this illuminating documentary transcends our preconceived vision of the holy land and its inhabitants , revealing the human complexities beneath . \n",
      "\n",
      "\n"
     ]
    },
    {
     "name": "stderr",
     "output_type": "stream",
     "text": [
      "[Succeeded / Failed / Skipped / Total] 27 / 11 / 4 / 42:   9%|▊         | 43/500 [08:26<1:29:38, 11.77s/it]/scratch/sp6646/envs_dirs/swap_env/lib/python3.8/site-packages/textattack/loggers/csv_logger.py:41: FutureWarning: The frame.append method is deprecated and will be removed from pandas in a future version. Use pandas.concat instead.\n",
      "  self.df = self.df.append(row, ignore_index=True)\n",
      "[Succeeded / Failed / Skipped / Total] 28 / 11 / 4 / 43:   9%|▊         | 43/500 [08:26<1:29:38, 11.77s/it]"
     ]
    },
    {
     "name": "stdout",
     "output_type": "stream",
     "text": [
      "--------------------------------------------- Result 43 ---------------------------------------------\n",
      "[[Positive (94%)]] --> [[Negative (91%)]]\n",
      "\n",
      "the subtle [[strength]] of `` elling '' is that it never loses touch with the reality of the grim situation . \n",
      "\n",
      "the subtle [[harshness]] of `` elling '' is that it never loses touch with the reality of the grim situation . \n",
      "\n",
      "\n"
     ]
    },
    {
     "name": "stderr",
     "output_type": "stream",
     "text": [
      "[Succeeded / Failed / Skipped / Total] 28 / 11 / 4 / 43:   9%|▉         | 44/500 [08:36<1:29:16, 11.75s/it]/scratch/sp6646/envs_dirs/swap_env/lib/python3.8/site-packages/textattack/loggers/csv_logger.py:41: FutureWarning: The frame.append method is deprecated and will be removed from pandas in a future version. Use pandas.concat instead.\n",
      "  self.df = self.df.append(row, ignore_index=True)\n",
      "[Succeeded / Failed / Skipped / Total] 28 / 12 / 4 / 44:   9%|▉         | 44/500 [08:36<1:29:16, 11.75s/it]"
     ]
    },
    {
     "name": "stdout",
     "output_type": "stream",
     "text": [
      "--------------------------------------------- Result 44 ---------------------------------------------\n",
      "[[Positive (100%)]] --> [[[FAILED]]]\n",
      "\n",
      "holm ... embodies the character with an effortlessly regal charisma . \n",
      "\n",
      "\n"
     ]
    },
    {
     "name": "stderr",
     "output_type": "stream",
     "text": [
      "[Succeeded / Failed / Skipped / Total] 28 / 12 / 4 / 44:   9%|▉         | 45/500 [08:56<1:30:27, 11.93s/it]/scratch/sp6646/envs_dirs/swap_env/lib/python3.8/site-packages/textattack/loggers/csv_logger.py:41: FutureWarning: The frame.append method is deprecated and will be removed from pandas in a future version. Use pandas.concat instead.\n",
      "  self.df = self.df.append(row, ignore_index=True)\n",
      "[Succeeded / Failed / Skipped / Total] 28 / 13 / 4 / 45:   9%|▉         | 45/500 [08:56<1:30:28, 11.93s/it]"
     ]
    },
    {
     "name": "stdout",
     "output_type": "stream",
     "text": [
      "--------------------------------------------- Result 45 ---------------------------------------------\n",
      "[[Negative (100%)]] --> [[[FAILED]]]\n",
      "\n",
      "the title not only describes its main characters , but the lazy people behind the camera as well . \n",
      "\n",
      "\n"
     ]
    },
    {
     "name": "stderr",
     "output_type": "stream",
     "text": [
      "[Succeeded / Failed / Skipped / Total] 28 / 13 / 4 / 45:   9%|▉         | 46/500 [09:07<1:30:00, 11.89s/it]/scratch/sp6646/envs_dirs/swap_env/lib/python3.8/site-packages/textattack/loggers/csv_logger.py:41: FutureWarning: The frame.append method is deprecated and will be removed from pandas in a future version. Use pandas.concat instead.\n",
      "  self.df = self.df.append(row, ignore_index=True)\n",
      "[Succeeded / Failed / Skipped / Total] 29 / 13 / 4 / 46:   9%|▉         | 46/500 [09:07<1:30:00, 11.89s/it]"
     ]
    },
    {
     "name": "stdout",
     "output_type": "stream",
     "text": [
      "--------------------------------------------- Result 46 ---------------------------------------------\n",
      "[[Negative (84%)]] --> [[Positive (96%)]]\n",
      "\n",
      "it offers [[little]] beyond the momentary joys of pretty and weightless intellectual entertainment . \n",
      "\n",
      "it offers [[hsiao]] beyond the momentary joys of pretty and weightless intellectual entertainment . \n",
      "\n",
      "\n"
     ]
    },
    {
     "name": "stderr",
     "output_type": "stream",
     "text": [
      "[Succeeded / Failed / Skipped / Total] 29 / 13 / 4 / 46:   9%|▉         | 47/500 [09:07<1:27:56, 11.65s/it]/scratch/sp6646/envs_dirs/swap_env/lib/python3.8/site-packages/textattack/loggers/csv_logger.py:41: FutureWarning: The frame.append method is deprecated and will be removed from pandas in a future version. Use pandas.concat instead.\n",
      "  self.df = self.df.append(row, ignore_index=True)\n",
      "[Succeeded / Failed / Skipped / Total] 29 / 13 / 5 / 47:   9%|▉         | 47/500 [09:07<1:27:57, 11.65s/it]"
     ]
    },
    {
     "name": "stdout",
     "output_type": "stream",
     "text": [
      "--------------------------------------------- Result 47 ---------------------------------------------\n",
      "[[Positive (87%)]] --> [[[SKIPPED]]]\n",
      "\n",
      "a synthesis of cliches and absurdities that seems positively decadent in its cinematic flash and emptiness . \n",
      "\n",
      "\n"
     ]
    },
    {
     "name": "stderr",
     "output_type": "stream",
     "text": [
      "[Succeeded / Failed / Skipped / Total] 29 / 13 / 5 / 47:  10%|▉         | 48/500 [09:15<1:27:06, 11.56s/it]/scratch/sp6646/envs_dirs/swap_env/lib/python3.8/site-packages/textattack/loggers/csv_logger.py:41: FutureWarning: The frame.append method is deprecated and will be removed from pandas in a future version. Use pandas.concat instead.\n",
      "  self.df = self.df.append(row, ignore_index=True)\n",
      "[Succeeded / Failed / Skipped / Total] 29 / 14 / 5 / 48:  10%|▉         | 48/500 [09:15<1:27:06, 11.56s/it]"
     ]
    },
    {
     "name": "stdout",
     "output_type": "stream",
     "text": [
      "--------------------------------------------- Result 48 ---------------------------------------------\n",
      "[[Positive (100%)]] --> [[[FAILED]]]\n",
      "\n",
      "a subtle and well-crafted ( for the most part ) chiller . \n",
      "\n",
      "\n"
     ]
    },
    {
     "name": "stderr",
     "output_type": "stream",
     "text": [
      "[Succeeded / Failed / Skipped / Total] 29 / 14 / 5 / 48:  10%|▉         | 49/500 [09:23<1:26:26, 11.50s/it]/scratch/sp6646/envs_dirs/swap_env/lib/python3.8/site-packages/textattack/loggers/csv_logger.py:41: FutureWarning: The frame.append method is deprecated and will be removed from pandas in a future version. Use pandas.concat instead.\n",
      "  self.df = self.df.append(row, ignore_index=True)\n",
      "[Succeeded / Failed / Skipped / Total] 30 / 14 / 5 / 49:  10%|▉         | 49/500 [09:23<1:26:26, 11.50s/it]"
     ]
    },
    {
     "name": "stdout",
     "output_type": "stream",
     "text": [
      "--------------------------------------------- Result 49 ---------------------------------------------\n",
      "[[Positive (100%)]] --> [[Negative (88%)]]\n",
      "\n",
      "has a lot of the [[virtues]] of eastwood at his [[best]] . \n",
      "\n",
      "has a lot of the [[merited]] of eastwood at his [[improved]] . \n",
      "\n",
      "\n"
     ]
    },
    {
     "name": "stderr",
     "output_type": "stream",
     "text": [
      "[Succeeded / Failed / Skipped / Total] 30 / 14 / 5 / 49:  10%|█         | 50/500 [09:44<1:27:40, 11.69s/it]/scratch/sp6646/envs_dirs/swap_env/lib/python3.8/site-packages/textattack/loggers/csv_logger.py:41: FutureWarning: The frame.append method is deprecated and will be removed from pandas in a future version. Use pandas.concat instead.\n",
      "  self.df = self.df.append(row, ignore_index=True)\n",
      "[Succeeded / Failed / Skipped / Total] 31 / 14 / 5 / 50:  10%|█         | 50/500 [09:44<1:27:40, 11.69s/it]"
     ]
    },
    {
     "name": "stdout",
     "output_type": "stream",
     "text": [
      "--------------------------------------------- Result 50 ---------------------------------------------\n",
      "[[Negative (100%)]] --> [[Positive (92%)]]\n",
      "\n",
      "it 's [[hampered]] by a lifetime-channel kind of plot and a lead actress who is out of her depth . \n",
      "\n",
      "it 's [[jeopardized]] by a lifetime-channel kind of plot and a lead actress who is out of her depth . \n",
      "\n",
      "\n"
     ]
    },
    {
     "name": "stderr",
     "output_type": "stream",
     "text": [
      "[Succeeded / Failed / Skipped / Total] 31 / 14 / 5 / 50:  10%|█         | 51/500 [10:14<1:30:13, 12.06s/it]/scratch/sp6646/envs_dirs/swap_env/lib/python3.8/site-packages/textattack/loggers/csv_logger.py:41: FutureWarning: The frame.append method is deprecated and will be removed from pandas in a future version. Use pandas.concat instead.\n",
      "  self.df = self.df.append(row, ignore_index=True)\n",
      "[Succeeded / Failed / Skipped / Total] 31 / 15 / 5 / 51:  10%|█         | 51/500 [10:14<1:30:14, 12.06s/it]"
     ]
    },
    {
     "name": "stdout",
     "output_type": "stream",
     "text": [
      "--------------------------------------------- Result 51 ---------------------------------------------\n",
      "[[Negative (100%)]] --> [[[FAILED]]]\n",
      "\n",
      "it feels like an after-school special gussied up with some fancy special effects , and watching its rote plot points connect is about as exciting as gazing at an egg timer for 93 minutes . \n",
      "\n",
      "\n"
     ]
    },
    {
     "name": "stderr",
     "output_type": "stream",
     "text": [
      "[Succeeded / Failed / Skipped / Total] 31 / 15 / 5 / 51:  10%|█         | 52/500 [10:33<1:30:59, 12.19s/it]/scratch/sp6646/envs_dirs/swap_env/lib/python3.8/site-packages/textattack/loggers/csv_logger.py:41: FutureWarning: The frame.append method is deprecated and will be removed from pandas in a future version. Use pandas.concat instead.\n",
      "  self.df = self.df.append(row, ignore_index=True)\n",
      "[Succeeded / Failed / Skipped / Total] 32 / 15 / 5 / 52:  10%|█         | 52/500 [10:33<1:30:59, 12.19s/it]"
     ]
    },
    {
     "name": "stdout",
     "output_type": "stream",
     "text": [
      "--------------------------------------------- Result 52 ---------------------------------------------\n",
      "[[Positive (100%)]] --> [[Negative (55%)]]\n",
      "\n",
      "for the most part , director anne-sophie birot 's first feature is a [[sensitive]] , [[extraordinarily]] well-acted drama . \n",
      "\n",
      "for the most part , director anne-sophie birot 's first feature is a [[fragile]] , [[significantly]] well-acted drama . \n",
      "\n",
      "\n"
     ]
    },
    {
     "name": "stderr",
     "output_type": "stream",
     "text": [
      "[Succeeded / Failed / Skipped / Total] 32 / 15 / 5 / 52:  11%|█         | 53/500 [10:46<1:30:50, 12.19s/it]/scratch/sp6646/envs_dirs/swap_env/lib/python3.8/site-packages/textattack/loggers/csv_logger.py:41: FutureWarning: The frame.append method is deprecated and will be removed from pandas in a future version. Use pandas.concat instead.\n",
      "  self.df = self.df.append(row, ignore_index=True)\n",
      "[Succeeded / Failed / Skipped / Total] 33 / 15 / 5 / 53:  11%|█         | 53/500 [10:46<1:30:51, 12.20s/it]"
     ]
    },
    {
     "name": "stdout",
     "output_type": "stream",
     "text": [
      "--------------------------------------------- Result 53 ---------------------------------------------\n",
      "[[Positive (95%)]] --> [[Negative (99%)]]\n",
      "\n",
      "mr. tsai is a [[very]] original artist in his medium , and what time is it there ? \n",
      "\n",
      "mr. tsai is a [[severely]] original artist in his medium , and what time is it there ? \n",
      "\n",
      "\n"
     ]
    },
    {
     "name": "stderr",
     "output_type": "stream",
     "text": [
      "[Succeeded / Failed / Skipped / Total] 33 / 15 / 5 / 53:  11%|█         | 54/500 [10:53<1:29:53, 12.09s/it]/scratch/sp6646/envs_dirs/swap_env/lib/python3.8/site-packages/textattack/loggers/csv_logger.py:41: FutureWarning: The frame.append method is deprecated and will be removed from pandas in a future version. Use pandas.concat instead.\n",
      "  self.df = self.df.append(row, ignore_index=True)\n",
      "[Succeeded / Failed / Skipped / Total] 34 / 15 / 5 / 54:  11%|█         | 54/500 [10:53<1:29:53, 12.09s/it]"
     ]
    },
    {
     "name": "stdout",
     "output_type": "stream",
     "text": [
      "--------------------------------------------- Result 54 ---------------------------------------------\n",
      "[[Positive (100%)]] --> [[Negative (91%)]]\n",
      "\n",
      "sade is an [[engaging]] look at the controversial eponymous and fiercely atheistic [[hero]] . \n",
      "\n",
      "sade is an [[perpetrating]] look at the controversial eponymous and fiercely atheistic [[smack]] . \n",
      "\n",
      "\n"
     ]
    },
    {
     "name": "stderr",
     "output_type": "stream",
     "text": [
      "[Succeeded / Failed / Skipped / Total] 34 / 15 / 5 / 54:  11%|█         | 55/500 [11:03<1:29:26, 12.06s/it]/scratch/sp6646/envs_dirs/swap_env/lib/python3.8/site-packages/textattack/loggers/csv_logger.py:41: FutureWarning: The frame.append method is deprecated and will be removed from pandas in a future version. Use pandas.concat instead.\n",
      "  self.df = self.df.append(row, ignore_index=True)\n",
      "[Succeeded / Failed / Skipped / Total] 35 / 15 / 5 / 55:  11%|█         | 55/500 [11:03<1:29:26, 12.06s/it]"
     ]
    },
    {
     "name": "stdout",
     "output_type": "stream",
     "text": [
      "--------------------------------------------- Result 55 ---------------------------------------------\n",
      "[[Negative (100%)]] --> [[Positive (69%)]]\n",
      "\n",
      "so [[devoid]] of any kind of intelligible story that it makes films like xxx and collateral damage seem like thoughtful treatises \n",
      "\n",
      "so [[bereft]] of any kind of intelligible story that it makes films like xxx and collateral damage seem like thoughtful treatises \n",
      "\n",
      "\n"
     ]
    },
    {
     "name": "stderr",
     "output_type": "stream",
     "text": [
      "[Succeeded / Failed / Skipped / Total] 35 / 15 / 5 / 55:  11%|█         | 56/500 [11:08<1:28:22, 11.94s/it]/scratch/sp6646/envs_dirs/swap_env/lib/python3.8/site-packages/textattack/loggers/csv_logger.py:41: FutureWarning: The frame.append method is deprecated and will be removed from pandas in a future version. Use pandas.concat instead.\n",
      "  self.df = self.df.append(row, ignore_index=True)\n",
      "[Succeeded / Failed / Skipped / Total] 36 / 15 / 5 / 56:  11%|█         | 56/500 [11:08<1:28:23, 11.94s/it]"
     ]
    },
    {
     "name": "stdout",
     "output_type": "stream",
     "text": [
      "--------------------------------------------- Result 56 ---------------------------------------------\n",
      "[[Positive (100%)]] --> [[Negative (95%)]]\n",
      "\n",
      "a [[tender]] , [[heartfelt]] family [[drama]] . \n",
      "\n",
      "a [[bid]] , [[depths]] family [[melodramatic]] . \n",
      "\n",
      "\n"
     ]
    },
    {
     "name": "stderr",
     "output_type": "stream",
     "text": [
      "[Succeeded / Failed / Skipped / Total] 36 / 15 / 5 / 56:  11%|█▏        | 57/500 [11:22<1:28:25, 11.98s/it]/scratch/sp6646/envs_dirs/swap_env/lib/python3.8/site-packages/textattack/loggers/csv_logger.py:41: FutureWarning: The frame.append method is deprecated and will be removed from pandas in a future version. Use pandas.concat instead.\n",
      "  self.df = self.df.append(row, ignore_index=True)\n",
      "[Succeeded / Failed / Skipped / Total] 37 / 15 / 5 / 57:  11%|█▏        | 57/500 [11:22<1:28:25, 11.98s/it]"
     ]
    },
    {
     "name": "stdout",
     "output_type": "stream",
     "text": [
      "--------------------------------------------- Result 57 ---------------------------------------------\n",
      "[[Negative (99%)]] --> [[Positive (84%)]]\n",
      "\n",
      "... a hollow [[joke]] told by a cinematic gymnast [[having]] too much fun embellishing the misanthropic tale to actually engage it . \n",
      "\n",
      "... a hollow [[funny]] told by a cinematic gymnast [[adopting]] too much fun embellishing the misanthropic tale to actually engage it . \n",
      "\n",
      "\n"
     ]
    },
    {
     "name": "stderr",
     "output_type": "stream",
     "text": [
      "[Succeeded / Failed / Skipped / Total] 37 / 15 / 5 / 57:  12%|█▏        | 58/500 [11:34<1:28:09, 11.97s/it]/scratch/sp6646/envs_dirs/swap_env/lib/python3.8/site-packages/textattack/loggers/csv_logger.py:41: FutureWarning: The frame.append method is deprecated and will be removed from pandas in a future version. Use pandas.concat instead.\n",
      "  self.df = self.df.append(row, ignore_index=True)\n",
      "[Succeeded / Failed / Skipped / Total] 38 / 15 / 5 / 58:  12%|█▏        | 58/500 [11:34<1:28:09, 11.97s/it]"
     ]
    },
    {
     "name": "stdout",
     "output_type": "stream",
     "text": [
      "--------------------------------------------- Result 58 ---------------------------------------------\n",
      "[[Negative (100%)]] --> [[Positive (98%)]]\n",
      "\n",
      "the [[cold]] turkey would 've been a [[far]] [[better]] [[title]] . \n",
      "\n",
      "the [[cool]] turkey would 've been a [[eminently]] [[more]] [[behalf]] . \n",
      "\n",
      "\n"
     ]
    },
    {
     "name": "stderr",
     "output_type": "stream",
     "text": [
      "[Succeeded / Failed / Skipped / Total] 38 / 15 / 5 / 58:  12%|█▏        | 59/500 [11:40<1:27:14, 11.87s/it]/scratch/sp6646/envs_dirs/swap_env/lib/python3.8/site-packages/textattack/loggers/csv_logger.py:41: FutureWarning: The frame.append method is deprecated and will be removed from pandas in a future version. Use pandas.concat instead.\n",
      "  self.df = self.df.append(row, ignore_index=True)\n",
      "[Succeeded / Failed / Skipped / Total] 39 / 15 / 5 / 59:  12%|█▏        | 59/500 [11:40<1:27:15, 11.87s/it]"
     ]
    },
    {
     "name": "stdout",
     "output_type": "stream",
     "text": [
      "--------------------------------------------- Result 59 ---------------------------------------------\n",
      "[[Negative (100%)]] --> [[Positive (84%)]]\n",
      "\n",
      "manages to be both repulsively [[sadistic]] and [[mundane]] . \n",
      "\n",
      "manages to be both repulsively [[ferocious]] and [[rife]] . \n",
      "\n",
      "\n"
     ]
    },
    {
     "name": "stderr",
     "output_type": "stream",
     "text": [
      "[Succeeded / Failed / Skipped / Total] 39 / 15 / 5 / 59:  12%|█▏        | 60/500 [12:06<1:28:45, 12.10s/it]/scratch/sp6646/envs_dirs/swap_env/lib/python3.8/site-packages/textattack/loggers/csv_logger.py:41: FutureWarning: The frame.append method is deprecated and will be removed from pandas in a future version. Use pandas.concat instead.\n",
      "  self.df = self.df.append(row, ignore_index=True)\n",
      "[Succeeded / Failed / Skipped / Total] 39 / 16 / 5 / 60:  12%|█▏        | 60/500 [12:06<1:28:46, 12.10s/it]"
     ]
    },
    {
     "name": "stdout",
     "output_type": "stream",
     "text": [
      "--------------------------------------------- Result 60 ---------------------------------------------\n",
      "[[Negative (100%)]] --> [[[FAILED]]]\n",
      "\n",
      "it 's just disappointingly superficial -- a movie that has all the elements necessary to be a fascinating , involving character study , but never does more than scratch the surface . \n",
      "\n",
      "\n"
     ]
    },
    {
     "name": "stderr",
     "output_type": "stream",
     "text": [
      "[Succeeded / Failed / Skipped / Total] 39 / 16 / 5 / 60:  12%|█▏        | 61/500 [12:22<1:29:04, 12.17s/it]/scratch/sp6646/envs_dirs/swap_env/lib/python3.8/site-packages/textattack/loggers/csv_logger.py:41: FutureWarning: The frame.append method is deprecated and will be removed from pandas in a future version. Use pandas.concat instead.\n",
      "  self.df = self.df.append(row, ignore_index=True)\n",
      "[Succeeded / Failed / Skipped / Total] 40 / 16 / 5 / 61:  12%|█▏        | 61/500 [12:22<1:29:04, 12.17s/it]"
     ]
    },
    {
     "name": "stdout",
     "output_type": "stream",
     "text": [
      "--------------------------------------------- Result 61 ---------------------------------------------\n",
      "[[Positive (100%)]] --> [[Negative (60%)]]\n",
      "\n",
      "this is a story of two misfits who [[do]] n't stand a chance alone , but together they are [[magnificent]] . \n",
      "\n",
      "this is a story of two misfits who [[got]] n't stand a chance alone , but together they are [[grandiose]] . \n",
      "\n",
      "\n"
     ]
    },
    {
     "name": "stderr",
     "output_type": "stream",
     "text": [
      "[Succeeded / Failed / Skipped / Total] 40 / 16 / 5 / 61:  12%|█▏        | 62/500 [12:47<1:30:19, 12.37s/it]/scratch/sp6646/envs_dirs/swap_env/lib/python3.8/site-packages/textattack/loggers/csv_logger.py:41: FutureWarning: The frame.append method is deprecated and will be removed from pandas in a future version. Use pandas.concat instead.\n",
      "  self.df = self.df.append(row, ignore_index=True)\n",
      "[Succeeded / Failed / Skipped / Total] 40 / 17 / 5 / 62:  12%|█▏        | 62/500 [12:47<1:30:19, 12.37s/it]"
     ]
    },
    {
     "name": "stdout",
     "output_type": "stream",
     "text": [
      "--------------------------------------------- Result 62 ---------------------------------------------\n",
      "[[Negative (100%)]] --> [[[FAILED]]]\n",
      "\n",
      "schaeffer has to find some hook on which to hang his persistently useless movies , and it might as well be the resuscitation of the middle-aged character . \n",
      "\n",
      "\n"
     ]
    },
    {
     "name": "stderr",
     "output_type": "stream",
     "text": [
      "[Succeeded / Failed / Skipped / Total] 40 / 17 / 5 / 62:  13%|█▎        | 63/500 [12:55<1:29:41, 12.31s/it]/scratch/sp6646/envs_dirs/swap_env/lib/python3.8/site-packages/textattack/loggers/csv_logger.py:41: FutureWarning: The frame.append method is deprecated and will be removed from pandas in a future version. Use pandas.concat instead.\n",
      "  self.df = self.df.append(row, ignore_index=True)\n",
      "[Succeeded / Failed / Skipped / Total] 41 / 17 / 5 / 63:  13%|█▎        | 63/500 [12:55<1:29:41, 12.31s/it]"
     ]
    },
    {
     "name": "stdout",
     "output_type": "stream",
     "text": [
      "--------------------------------------------- Result 63 ---------------------------------------------\n",
      "[[Positive (83%)]] --> [[Negative (93%)]]\n",
      "\n",
      "the primitive [[force]] of this film seems to bubble up from the vast collective memory of the combatants . \n",
      "\n",
      "the primitive [[fortitude]] of this film seems to bubble up from the vast collective memory of the combatants . \n",
      "\n",
      "\n"
     ]
    },
    {
     "name": "stderr",
     "output_type": "stream",
     "text": [
      "[Succeeded / Failed / Skipped / Total] 41 / 17 / 5 / 63:  13%|█▎        | 64/500 [13:18<1:30:39, 12.48s/it]/scratch/sp6646/envs_dirs/swap_env/lib/python3.8/site-packages/textattack/loggers/csv_logger.py:41: FutureWarning: The frame.append method is deprecated and will be removed from pandas in a future version. Use pandas.concat instead.\n",
      "  self.df = self.df.append(row, ignore_index=True)\n",
      "[Succeeded / Failed / Skipped / Total] 42 / 17 / 5 / 64:  13%|█▎        | 64/500 [13:18<1:30:39, 12.48s/it]/scratch/sp6646/envs_dirs/swap_env/lib/python3.8/site-packages/textattack/loggers/csv_logger.py:41: FutureWarning: The frame.append method is deprecated and will be removed from pandas in a future version. Use pandas.concat instead.\n",
      "  self.df = self.df.append(row, ignore_index=True)\n",
      "[Succeeded / Failed / Skipped / Total] 42 / 17 / 6 / 65:  13%|█▎        | 65/500 [13:18<1:29:03, 12.28s/it]"
     ]
    },
    {
     "name": "stdout",
     "output_type": "stream",
     "text": [
      "--------------------------------------------- Result 64 ---------------------------------------------\n",
      "[[Positive (100%)]] --> [[Negative (81%)]]\n",
      "\n",
      "on this tricky topic , tadpole is [[very]] much a step in the right direction , with its [[blend]] of frankness , civility and compassion . \n",
      "\n",
      "on this tricky topic , tadpole is [[severely]] much a step in the right direction , with its [[amalgamated]] of frankness , civility and compassion . \n",
      "\n",
      "\n",
      "--------------------------------------------- Result 65 ---------------------------------------------\n",
      "[[Positive (84%)]] --> [[[SKIPPED]]]\n",
      "\n",
      "the script kicks in , and mr. hartley 's distended pace and foot-dragging rhythms follow . \n",
      "\n",
      "\n"
     ]
    },
    {
     "name": "stderr",
     "output_type": "stream",
     "text": [
      "[Succeeded / Failed / Skipped / Total] 42 / 17 / 6 / 65:  13%|█▎        | 66/500 [13:32<1:29:03, 12.31s/it]/scratch/sp6646/envs_dirs/swap_env/lib/python3.8/site-packages/textattack/loggers/csv_logger.py:41: FutureWarning: The frame.append method is deprecated and will be removed from pandas in a future version. Use pandas.concat instead.\n",
      "  self.df = self.df.append(row, ignore_index=True)\n",
      "[Succeeded / Failed / Skipped / Total] 43 / 17 / 6 / 66:  13%|█▎        | 66/500 [13:32<1:29:04, 12.31s/it]"
     ]
    },
    {
     "name": "stdout",
     "output_type": "stream",
     "text": [
      "--------------------------------------------- Result 66 ---------------------------------------------\n",
      "[[Negative (96%)]] --> [[Positive (86%)]]\n",
      "\n",
      "you [[wonder]] why enough was n't just a music [[video]] rather than a full-length [[movie]] . \n",
      "\n",
      "you [[amazement]] why enough was n't just a music [[clip]] rather than a full-length [[cine]] . \n",
      "\n",
      "\n"
     ]
    },
    {
     "name": "stderr",
     "output_type": "stream",
     "text": [
      "[Succeeded / Failed / Skipped / Total] 43 / 17 / 6 / 66:  13%|█▎        | 67/500 [13:32<1:27:34, 12.13s/it]/scratch/sp6646/envs_dirs/swap_env/lib/python3.8/site-packages/textattack/loggers/csv_logger.py:41: FutureWarning: The frame.append method is deprecated and will be removed from pandas in a future version. Use pandas.concat instead.\n",
      "  self.df = self.df.append(row, ignore_index=True)\n",
      "[Succeeded / Failed / Skipped / Total] 43 / 17 / 7 / 67:  13%|█▎        | 67/500 [13:33<1:27:34, 12.13s/it]"
     ]
    },
    {
     "name": "stdout",
     "output_type": "stream",
     "text": [
      "--------------------------------------------- Result 67 ---------------------------------------------\n",
      "[[Negative (81%)]] --> [[[SKIPPED]]]\n",
      "\n",
      "if you 're hard up for raunchy college humor , this is your ticket right here . \n",
      "\n",
      "\n"
     ]
    },
    {
     "name": "stderr",
     "output_type": "stream",
     "text": [
      "[Succeeded / Failed / Skipped / Total] 43 / 17 / 7 / 67:  14%|█▎        | 68/500 [13:41<1:26:57, 12.08s/it]/scratch/sp6646/envs_dirs/swap_env/lib/python3.8/site-packages/textattack/loggers/csv_logger.py:41: FutureWarning: The frame.append method is deprecated and will be removed from pandas in a future version. Use pandas.concat instead.\n",
      "  self.df = self.df.append(row, ignore_index=True)\n",
      "[Succeeded / Failed / Skipped / Total] 43 / 18 / 7 / 68:  14%|█▎        | 68/500 [13:41<1:26:57, 12.08s/it]"
     ]
    },
    {
     "name": "stdout",
     "output_type": "stream",
     "text": [
      "--------------------------------------------- Result 68 ---------------------------------------------\n",
      "[[Positive (100%)]] --> [[[FAILED]]]\n",
      "\n",
      "a fast , funny , highly enjoyable movie . \n",
      "\n",
      "\n"
     ]
    },
    {
     "name": "stderr",
     "output_type": "stream",
     "text": [
      "[Succeeded / Failed / Skipped / Total] 43 / 18 / 7 / 68:  14%|█▍        | 69/500 [13:45<1:25:55, 11.96s/it]/scratch/sp6646/envs_dirs/swap_env/lib/python3.8/site-packages/textattack/loggers/csv_logger.py:41: FutureWarning: The frame.append method is deprecated and will be removed from pandas in a future version. Use pandas.concat instead.\n",
      "  self.df = self.df.append(row, ignore_index=True)\n",
      "[Succeeded / Failed / Skipped / Total] 43 / 19 / 7 / 69:  14%|█▍        | 69/500 [13:45<1:25:55, 11.96s/it]"
     ]
    },
    {
     "name": "stdout",
     "output_type": "stream",
     "text": [
      "--------------------------------------------- Result 69 ---------------------------------------------\n",
      "[[Positive (99%)]] --> [[[FAILED]]]\n",
      "\n",
      "good old-fashioned slash-and-hack is back ! \n",
      "\n",
      "\n"
     ]
    },
    {
     "name": "stderr",
     "output_type": "stream",
     "text": [
      "[Succeeded / Failed / Skipped / Total] 43 / 19 / 7 / 69:  14%|█▍        | 70/500 [13:50<1:25:04, 11.87s/it]/scratch/sp6646/envs_dirs/swap_env/lib/python3.8/site-packages/textattack/loggers/csv_logger.py:41: FutureWarning: The frame.append method is deprecated and will be removed from pandas in a future version. Use pandas.concat instead.\n",
      "  self.df = self.df.append(row, ignore_index=True)\n",
      "[Succeeded / Failed / Skipped / Total] 44 / 19 / 7 / 70:  14%|█▍        | 70/500 [13:50<1:25:04, 11.87s/it]"
     ]
    },
    {
     "name": "stdout",
     "output_type": "stream",
     "text": [
      "--------------------------------------------- Result 70 ---------------------------------------------\n",
      "[[Negative (74%)]] --> [[Positive (100%)]]\n",
      "\n",
      "this one is definitely one to [[skip]] , even for horror movie fanatics . \n",
      "\n",
      "this one is definitely one to [[hop]] , even for horror movie fanatics . \n",
      "\n",
      "\n"
     ]
    },
    {
     "name": "stderr",
     "output_type": "stream",
     "text": [
      "[Succeeded / Failed / Skipped / Total] 44 / 19 / 7 / 70:  14%|█▍        | 71/500 [13:51<1:23:44, 11.71s/it]/scratch/sp6646/envs_dirs/swap_env/lib/python3.8/site-packages/textattack/loggers/csv_logger.py:41: FutureWarning: The frame.append method is deprecated and will be removed from pandas in a future version. Use pandas.concat instead.\n",
      "  self.df = self.df.append(row, ignore_index=True)\n",
      "[Succeeded / Failed / Skipped / Total] 44 / 19 / 8 / 71:  14%|█▍        | 71/500 [13:51<1:23:44, 11.71s/it]"
     ]
    },
    {
     "name": "stdout",
     "output_type": "stream",
     "text": [
      "--------------------------------------------- Result 71 ---------------------------------------------\n",
      "[[Positive (86%)]] --> [[[SKIPPED]]]\n",
      "\n",
      "for all its impressive craftsmanship , and despite an overbearing series of third-act crescendos , lily chou-chou never really builds up a head of emotional steam . \n",
      "\n",
      "\n"
     ]
    },
    {
     "name": "stderr",
     "output_type": "stream",
     "text": [
      "[Succeeded / Failed / Skipped / Total] 44 / 19 / 8 / 71:  14%|█▍        | 72/500 [14:15<1:24:47, 11.89s/it]/scratch/sp6646/envs_dirs/swap_env/lib/python3.8/site-packages/textattack/loggers/csv_logger.py:41: FutureWarning: The frame.append method is deprecated and will be removed from pandas in a future version. Use pandas.concat instead.\n",
      "  self.df = self.df.append(row, ignore_index=True)\n",
      "[Succeeded / Failed / Skipped / Total] 44 / 20 / 8 / 72:  14%|█▍        | 72/500 [14:15<1:24:47, 11.89s/it]"
     ]
    },
    {
     "name": "stdout",
     "output_type": "stream",
     "text": [
      "--------------------------------------------- Result 72 ---------------------------------------------\n",
      "[[Positive (100%)]] --> [[[FAILED]]]\n",
      "\n",
      "exquisitely nuanced in mood tics and dialogue , this chamber drama is superbly acted by the deeply appealing veteran bouquet and the chilling but quite human berling . \n",
      "\n",
      "\n"
     ]
    },
    {
     "name": "stderr",
     "output_type": "stream",
     "text": [
      "[Succeeded / Failed / Skipped / Total] 44 / 20 / 8 / 72:  15%|█▍        | 73/500 [14:25<1:24:23, 11.86s/it]/scratch/sp6646/envs_dirs/swap_env/lib/python3.8/site-packages/textattack/loggers/csv_logger.py:41: FutureWarning: The frame.append method is deprecated and will be removed from pandas in a future version. Use pandas.concat instead.\n",
      "  self.df = self.df.append(row, ignore_index=True)\n",
      "[Succeeded / Failed / Skipped / Total] 44 / 21 / 8 / 73:  15%|█▍        | 73/500 [14:25<1:24:23, 11.86s/it]"
     ]
    },
    {
     "name": "stdout",
     "output_type": "stream",
     "text": [
      "--------------------------------------------- Result 73 ---------------------------------------------\n",
      "[[Positive (100%)]] --> [[[FAILED]]]\n",
      "\n",
      "uses high comedy to evoke surprising poignance . \n",
      "\n",
      "\n"
     ]
    },
    {
     "name": "stderr",
     "output_type": "stream",
     "text": [
      "[Succeeded / Failed / Skipped / Total] 44 / 21 / 8 / 73:  15%|█▍        | 74/500 [14:38<1:24:16, 11.87s/it]/scratch/sp6646/envs_dirs/swap_env/lib/python3.8/site-packages/textattack/loggers/csv_logger.py:41: FutureWarning: The frame.append method is deprecated and will be removed from pandas in a future version. Use pandas.concat instead.\n",
      "  self.df = self.df.append(row, ignore_index=True)\n",
      "[Succeeded / Failed / Skipped / Total] 45 / 21 / 8 / 74:  15%|█▍        | 74/500 [14:38<1:24:16, 11.87s/it]"
     ]
    },
    {
     "name": "stdout",
     "output_type": "stream",
     "text": [
      "--------------------------------------------- Result 74 ---------------------------------------------\n",
      "[[Positive (64%)]] --> [[Negative (81%)]]\n",
      "\n",
      "one of creepiest , [[scariest]] movies to come along in a long , long time , easily rivaling blair witch or the others . \n",
      "\n",
      "one of creepiest , [[scarier]] movies to come along in a long , long time , easily rivaling blair witch or the others . \n",
      "\n",
      "\n"
     ]
    },
    {
     "name": "stderr",
     "output_type": "stream",
     "text": [
      "[Succeeded / Failed / Skipped / Total] 45 / 21 / 8 / 74:  15%|█▌        | 75/500 [14:50<1:24:07, 11.88s/it]/scratch/sp6646/envs_dirs/swap_env/lib/python3.8/site-packages/textattack/loggers/csv_logger.py:41: FutureWarning: The frame.append method is deprecated and will be removed from pandas in a future version. Use pandas.concat instead.\n",
      "  self.df = self.df.append(row, ignore_index=True)\n",
      "[Succeeded / Failed / Skipped / Total] 45 / 22 / 8 / 75:  15%|█▌        | 75/500 [14:50<1:24:07, 11.88s/it]"
     ]
    },
    {
     "name": "stdout",
     "output_type": "stream",
     "text": [
      "--------------------------------------------- Result 75 ---------------------------------------------\n",
      "[[Negative (100%)]] --> [[[FAILED]]]\n",
      "\n",
      "a string of rehashed sight gags based in insipid vulgarity . \n",
      "\n",
      "\n"
     ]
    },
    {
     "name": "stderr",
     "output_type": "stream",
     "text": [
      "[Succeeded / Failed / Skipped / Total] 45 / 22 / 8 / 75:  15%|█▌        | 76/500 [14:57<1:23:25, 11.81s/it]/scratch/sp6646/envs_dirs/swap_env/lib/python3.8/site-packages/textattack/loggers/csv_logger.py:41: FutureWarning: The frame.append method is deprecated and will be removed from pandas in a future version. Use pandas.concat instead.\n",
      "  self.df = self.df.append(row, ignore_index=True)\n",
      "[Succeeded / Failed / Skipped / Total] 46 / 22 / 8 / 76:  15%|█▌        | 76/500 [14:57<1:23:25, 11.81s/it]"
     ]
    },
    {
     "name": "stdout",
     "output_type": "stream",
     "text": [
      "--------------------------------------------- Result 76 ---------------------------------------------\n",
      "[[Positive (100%)]] --> [[Negative (80%)]]\n",
      "\n",
      "among the year 's most [[intriguing]] explorations of alientation . \n",
      "\n",
      "among the year 's most [[baffling]] explorations of alientation . \n",
      "\n",
      "\n"
     ]
    },
    {
     "name": "stderr",
     "output_type": "stream",
     "text": [
      "[Succeeded / Failed / Skipped / Total] 46 / 22 / 8 / 76:  15%|█▌        | 77/500 [15:06<1:23:01, 11.78s/it]/scratch/sp6646/envs_dirs/swap_env/lib/python3.8/site-packages/textattack/loggers/csv_logger.py:41: FutureWarning: The frame.append method is deprecated and will be removed from pandas in a future version. Use pandas.concat instead.\n",
      "  self.df = self.df.append(row, ignore_index=True)\n",
      "[Succeeded / Failed / Skipped / Total] 47 / 22 / 8 / 77:  15%|█▌        | 77/500 [15:06<1:23:01, 11.78s/it]"
     ]
    },
    {
     "name": "stdout",
     "output_type": "stream",
     "text": [
      "--------------------------------------------- Result 77 ---------------------------------------------\n",
      "[[Negative (100%)]] --> [[Positive (100%)]]\n",
      "\n",
      "the movie [[fails]] to live up to the sum of its parts . \n",
      "\n",
      "the movie [[chess]] to live up to the sum of its parts . \n",
      "\n",
      "\n"
     ]
    },
    {
     "name": "stderr",
     "output_type": "stream",
     "text": [
      "[Succeeded / Failed / Skipped / Total] 47 / 22 / 8 / 77:  16%|█▌        | 78/500 [15:18<1:22:51, 11.78s/it]/scratch/sp6646/envs_dirs/swap_env/lib/python3.8/site-packages/textattack/loggers/csv_logger.py:41: FutureWarning: The frame.append method is deprecated and will be removed from pandas in a future version. Use pandas.concat instead.\n",
      "  self.df = self.df.append(row, ignore_index=True)\n",
      "[Succeeded / Failed / Skipped / Total] 48 / 22 / 8 / 78:  16%|█▌        | 78/500 [15:19<1:22:52, 11.78s/it]"
     ]
    },
    {
     "name": "stdout",
     "output_type": "stream",
     "text": [
      "--------------------------------------------- Result 78 ---------------------------------------------\n",
      "[[Positive (100%)]] --> [[Negative (77%)]]\n",
      "\n",
      "the son 's room is a [[triumph]] of gentility that earns its [[moments]] of pathos . \n",
      "\n",
      "the son 's room is a [[earn]] of gentility that earns its [[minutes]] of pathos . \n",
      "\n",
      "\n"
     ]
    },
    {
     "name": "stderr",
     "output_type": "stream",
     "text": [
      "[Succeeded / Failed / Skipped / Total] 48 / 22 / 8 / 78:  16%|█▌        | 79/500 [15:49<1:24:18, 12.02s/it]/scratch/sp6646/envs_dirs/swap_env/lib/python3.8/site-packages/textattack/loggers/csv_logger.py:41: FutureWarning: The frame.append method is deprecated and will be removed from pandas in a future version. Use pandas.concat instead.\n",
      "  self.df = self.df.append(row, ignore_index=True)\n",
      "[Succeeded / Failed / Skipped / Total] 48 / 23 / 8 / 79:  16%|█▌        | 79/500 [15:49<1:24:18, 12.02s/it]"
     ]
    },
    {
     "name": "stdout",
     "output_type": "stream",
     "text": [
      "--------------------------------------------- Result 79 ---------------------------------------------\n",
      "[[Positive (99%)]] --> [[[FAILED]]]\n",
      "\n",
      "there is nothing outstanding about this film , but it is good enough and will likely be appreciated most by sailors and folks who know their way around a submarine . \n",
      "\n",
      "\n"
     ]
    },
    {
     "name": "stderr",
     "output_type": "stream",
     "text": [
      "[Succeeded / Failed / Skipped / Total] 48 / 23 / 8 / 79:  16%|█▌        | 80/500 [16:29<1:26:32, 12.36s/it]/scratch/sp6646/envs_dirs/swap_env/lib/python3.8/site-packages/textattack/loggers/csv_logger.py:41: FutureWarning: The frame.append method is deprecated and will be removed from pandas in a future version. Use pandas.concat instead.\n",
      "  self.df = self.df.append(row, ignore_index=True)\n",
      "[Succeeded / Failed / Skipped / Total] 48 / 24 / 8 / 80:  16%|█▌        | 80/500 [16:29<1:26:32, 12.36s/it]"
     ]
    },
    {
     "name": "stdout",
     "output_type": "stream",
     "text": [
      "--------------------------------------------- Result 80 ---------------------------------------------\n",
      "[[Negative (100%)]] --> [[[FAILED]]]\n",
      "\n",
      "this is a train wreck of an action film -- a stupefying attempt by the filmmakers to force-feed james bond into the mindless xxx mold and throw 40 years of cinematic history down the toilet in favor of bright flashes and loud bangs . \n",
      "\n",
      "\n"
     ]
    },
    {
     "name": "stderr",
     "output_type": "stream",
     "text": [
      "[Succeeded / Failed / Skipped / Total] 48 / 24 / 8 / 80:  16%|█▌        | 81/500 [16:40<1:26:15, 12.35s/it]/scratch/sp6646/envs_dirs/swap_env/lib/python3.8/site-packages/textattack/loggers/csv_logger.py:41: FutureWarning: The frame.append method is deprecated and will be removed from pandas in a future version. Use pandas.concat instead.\n",
      "  self.df = self.df.append(row, ignore_index=True)\n",
      "[Succeeded / Failed / Skipped / Total] 49 / 24 / 8 / 81:  16%|█▌        | 81/500 [16:40<1:26:15, 12.35s/it]"
     ]
    },
    {
     "name": "stdout",
     "output_type": "stream",
     "text": [
      "--------------------------------------------- Result 81 ---------------------------------------------\n",
      "[[Positive (85%)]] --> [[Negative (99%)]]\n",
      "\n",
      "the draw ( for `` big bad love '' ) is a [[solid]] performance by arliss howard . \n",
      "\n",
      "the draw ( for `` big bad love '' ) is a [[audio]] performance by arliss howard . \n",
      "\n",
      "\n"
     ]
    },
    {
     "name": "stderr",
     "output_type": "stream",
     "text": [
      "[Succeeded / Failed / Skipped / Total] 49 / 24 / 8 / 81:  16%|█▋        | 82/500 [17:02<1:26:53, 12.47s/it]/scratch/sp6646/envs_dirs/swap_env/lib/python3.8/site-packages/textattack/loggers/csv_logger.py:41: FutureWarning: The frame.append method is deprecated and will be removed from pandas in a future version. Use pandas.concat instead.\n",
      "  self.df = self.df.append(row, ignore_index=True)\n",
      "[Succeeded / Failed / Skipped / Total] 49 / 25 / 8 / 82:  16%|█▋        | 82/500 [17:02<1:26:53, 12.47s/it]"
     ]
    },
    {
     "name": "stdout",
     "output_type": "stream",
     "text": [
      "--------------------------------------------- Result 82 ---------------------------------------------\n",
      "[[Negative (100%)]] --> [[[FAILED]]]\n",
      "\n",
      "green might want to hang onto that ski mask , as robbery may be the only way to pay for his next project . \n",
      "\n",
      "\n"
     ]
    },
    {
     "name": "stderr",
     "output_type": "stream",
     "text": [
      "[Succeeded / Failed / Skipped / Total] 49 / 25 / 8 / 82:  17%|█▋        | 83/500 [17:03<1:25:40, 12.33s/it]/scratch/sp6646/envs_dirs/swap_env/lib/python3.8/site-packages/textattack/loggers/csv_logger.py:41: FutureWarning: The frame.append method is deprecated and will be removed from pandas in a future version. Use pandas.concat instead.\n",
      "  self.df = self.df.append(row, ignore_index=True)\n",
      "[Succeeded / Failed / Skipped / Total] 49 / 25 / 9 / 83:  17%|█▋        | 83/500 [17:03<1:25:40, 12.33s/it]"
     ]
    },
    {
     "name": "stdout",
     "output_type": "stream",
     "text": [
      "--------------------------------------------- Result 83 ---------------------------------------------\n",
      "[[Positive (95%)]] --> [[[SKIPPED]]]\n",
      "\n",
      "it 's one pussy-ass world when even killer-thrillers revolve around group therapy sessions . \n",
      "\n",
      "\n"
     ]
    },
    {
     "name": "stderr",
     "output_type": "stream",
     "text": [
      "[Succeeded / Failed / Skipped / Total] 49 / 25 / 9 / 83:  17%|█▋        | 84/500 [17:13<1:25:17, 12.30s/it]/scratch/sp6646/envs_dirs/swap_env/lib/python3.8/site-packages/textattack/loggers/csv_logger.py:41: FutureWarning: The frame.append method is deprecated and will be removed from pandas in a future version. Use pandas.concat instead.\n",
      "  self.df = self.df.append(row, ignore_index=True)\n",
      "[Succeeded / Failed / Skipped / Total] 50 / 25 / 9 / 84:  17%|█▋        | 84/500 [17:13<1:25:17, 12.30s/it]"
     ]
    },
    {
     "name": "stdout",
     "output_type": "stream",
     "text": [
      "--------------------------------------------- Result 84 ---------------------------------------------\n",
      "[[Positive (55%)]] --> [[Negative (98%)]]\n",
      "\n",
      "though it 's become almost redundant to say so , major [[kudos]] go to leigh for actually casting people who look working-class . \n",
      "\n",
      "though it 's become almost redundant to say so , major [[congratulation]] go to leigh for actually casting people who look working-class . \n",
      "\n",
      "\n"
     ]
    },
    {
     "name": "stderr",
     "output_type": "stream",
     "text": [
      "[Succeeded / Failed / Skipped / Total] 50 / 25 / 9 / 84:  17%|█▋        | 85/500 [17:37<1:26:05, 12.45s/it]/scratch/sp6646/envs_dirs/swap_env/lib/python3.8/site-packages/textattack/loggers/csv_logger.py:41: FutureWarning: The frame.append method is deprecated and will be removed from pandas in a future version. Use pandas.concat instead.\n",
      "  self.df = self.df.append(row, ignore_index=True)\n",
      "[Succeeded / Failed / Skipped / Total] 50 / 26 / 9 / 85:  17%|█▋        | 85/500 [17:37<1:26:05, 12.45s/it]"
     ]
    },
    {
     "name": "stdout",
     "output_type": "stream",
     "text": [
      "--------------------------------------------- Result 85 ---------------------------------------------\n",
      "[[Positive (100%)]] --> [[[FAILED]]]\n",
      "\n",
      "the band 's courage in the face of official repression is inspiring , especially for aging hippies ( this one included ) . \n",
      "\n",
      "\n"
     ]
    },
    {
     "name": "stderr",
     "output_type": "stream",
     "text": [
      "[Succeeded / Failed / Skipped / Total] 50 / 26 / 9 / 85:  17%|█▋        | 86/500 [17:51<1:25:58, 12.46s/it]/scratch/sp6646/envs_dirs/swap_env/lib/python3.8/site-packages/textattack/loggers/csv_logger.py:41: FutureWarning: The frame.append method is deprecated and will be removed from pandas in a future version. Use pandas.concat instead.\n",
      "  self.df = self.df.append(row, ignore_index=True)\n",
      "[Succeeded / Failed / Skipped / Total] 51 / 26 / 9 / 86:  17%|█▋        | 86/500 [17:51<1:25:58, 12.46s/it]"
     ]
    },
    {
     "name": "stdout",
     "output_type": "stream",
     "text": [
      "--------------------------------------------- Result 86 ---------------------------------------------\n",
      "[[Positive (100%)]] --> [[Negative (77%)]]\n",
      "\n",
      "the movie [[achieves]] as [[great]] an impact by keeping these thoughts hidden as ... ( [[quills]] ) did by showing them . \n",
      "\n",
      "the movie [[attain]] as [[gargantuan]] an impact by keeping these thoughts hidden as ... ( [[feathers]] ) did by showing them . \n",
      "\n",
      "\n"
     ]
    },
    {
     "name": "stderr",
     "output_type": "stream",
     "text": [
      "[Succeeded / Failed / Skipped / Total] 51 / 26 / 9 / 86:  17%|█▋        | 87/500 [18:02<1:25:36, 12.44s/it]/scratch/sp6646/envs_dirs/swap_env/lib/python3.8/site-packages/textattack/loggers/csv_logger.py:41: FutureWarning: The frame.append method is deprecated and will be removed from pandas in a future version. Use pandas.concat instead.\n",
      "  self.df = self.df.append(row, ignore_index=True)\n",
      "[Succeeded / Failed / Skipped / Total] 52 / 26 / 9 / 87:  17%|█▋        | 87/500 [18:02<1:25:36, 12.44s/it]"
     ]
    },
    {
     "name": "stdout",
     "output_type": "stream",
     "text": [
      "--------------------------------------------- Result 87 ---------------------------------------------\n",
      "[[Negative (60%)]] --> [[Positive (70%)]]\n",
      "\n",
      "the film flat lines when it [[should]] peak and is more missed opportunity and trifle than dark , decadent truffle . \n",
      "\n",
      "the film flat lines when it [[ought]] peak and is more missed opportunity and trifle than dark , decadent truffle . \n",
      "\n",
      "\n"
     ]
    },
    {
     "name": "stderr",
     "output_type": "stream",
     "text": [
      "[Succeeded / Failed / Skipped / Total] 52 / 26 / 9 / 87:  18%|█▊        | 88/500 [18:19<1:25:49, 12.50s/it]/scratch/sp6646/envs_dirs/swap_env/lib/python3.8/site-packages/textattack/loggers/csv_logger.py:41: FutureWarning: The frame.append method is deprecated and will be removed from pandas in a future version. Use pandas.concat instead.\n",
      "  self.df = self.df.append(row, ignore_index=True)\n",
      "[Succeeded / Failed / Skipped / Total] 52 / 27 / 9 / 88:  18%|█▊        | 88/500 [18:19<1:25:49, 12.50s/it]"
     ]
    },
    {
     "name": "stdout",
     "output_type": "stream",
     "text": [
      "--------------------------------------------- Result 88 ---------------------------------------------\n",
      "[[Positive (99%)]] --> [[[FAILED]]]\n",
      "\n",
      "jaglom ... put ( s ) the audience in the privileged position of eavesdropping on his characters \n",
      "\n",
      "\n"
     ]
    },
    {
     "name": "stderr",
     "output_type": "stream",
     "text": [
      "[Succeeded / Failed / Skipped / Total] 52 / 27 / 9 / 88:  18%|█▊        | 89/500 [18:44<1:26:30, 12.63s/it]/scratch/sp6646/envs_dirs/swap_env/lib/python3.8/site-packages/textattack/loggers/csv_logger.py:41: FutureWarning: The frame.append method is deprecated and will be removed from pandas in a future version. Use pandas.concat instead.\n",
      "  self.df = self.df.append(row, ignore_index=True)\n",
      "[Succeeded / Failed / Skipped / Total] 53 / 27 / 9 / 89:  18%|█▊        | 89/500 [18:44<1:26:31, 12.63s/it]"
     ]
    },
    {
     "name": "stdout",
     "output_type": "stream",
     "text": [
      "--------------------------------------------- Result 89 ---------------------------------------------\n",
      "[[Positive (97%)]] --> [[Negative (56%)]]\n",
      "\n",
      "fresnadillo 's dark and jolting [[images]] have a [[way]] of plying into your subconscious like the nightmare you had a week ago that wo n't go [[away]] . \n",
      "\n",
      "fresnadillo 's dark and jolting [[stills]] have a [[distances]] of plying into your subconscious like the nightmare you had a week ago that wo n't go [[out]] . \n",
      "\n",
      "\n"
     ]
    },
    {
     "name": "stderr",
     "output_type": "stream",
     "text": [
      "[Succeeded / Failed / Skipped / Total] 53 / 27 / 9 / 89:  18%|█▊        | 90/500 [18:53<1:26:05, 12.60s/it]/scratch/sp6646/envs_dirs/swap_env/lib/python3.8/site-packages/textattack/loggers/csv_logger.py:41: FutureWarning: The frame.append method is deprecated and will be removed from pandas in a future version. Use pandas.concat instead.\n",
      "  self.df = self.df.append(row, ignore_index=True)\n",
      "[Succeeded / Failed / Skipped / Total] 54 / 27 / 9 / 90:  18%|█▊        | 90/500 [18:53<1:26:05, 12.60s/it]"
     ]
    },
    {
     "name": "stdout",
     "output_type": "stream",
     "text": [
      "--------------------------------------------- Result 90 ---------------------------------------------\n",
      "[[Positive (85%)]] --> [[Negative (51%)]]\n",
      "\n",
      "we know the plot 's a little crazy , but it held my interest from start to [[finish]] . \n",
      "\n",
      "we know the plot 's a little crazy , but it held my interest from start to [[end]] . \n",
      "\n",
      "\n"
     ]
    },
    {
     "name": "stderr",
     "output_type": "stream",
     "text": [
      "[Succeeded / Failed / Skipped / Total] 54 / 27 / 9 / 90:  18%|█▊        | 91/500 [19:02<1:25:33, 12.55s/it]/scratch/sp6646/envs_dirs/swap_env/lib/python3.8/site-packages/textattack/loggers/csv_logger.py:41: FutureWarning: The frame.append method is deprecated and will be removed from pandas in a future version. Use pandas.concat instead.\n",
      "  self.df = self.df.append(row, ignore_index=True)\n",
      "[Succeeded / Failed / Skipped / Total] 55 / 27 / 9 / 91:  18%|█▊        | 91/500 [19:02<1:25:33, 12.55s/it]"
     ]
    },
    {
     "name": "stdout",
     "output_type": "stream",
     "text": [
      "--------------------------------------------- Result 91 ---------------------------------------------\n",
      "[[Positive (100%)]] --> [[Negative (76%)]]\n",
      "\n",
      "it 's a scattershot affair , but when it hits its mark it 's [[brilliant]] . \n",
      "\n",
      "it 's a scattershot affair , but when it hits its mark it 's [[grandiose]] . \n",
      "\n",
      "\n"
     ]
    },
    {
     "name": "stderr",
     "output_type": "stream",
     "text": [
      "[Succeeded / Failed / Skipped / Total] 55 / 27 / 9 / 91:  18%|█▊        | 92/500 [19:22<1:25:53, 12.63s/it]/scratch/sp6646/envs_dirs/swap_env/lib/python3.8/site-packages/textattack/loggers/csv_logger.py:41: FutureWarning: The frame.append method is deprecated and will be removed from pandas in a future version. Use pandas.concat instead.\n",
      "  self.df = self.df.append(row, ignore_index=True)\n",
      "[Succeeded / Failed / Skipped / Total] 55 / 28 / 9 / 92:  18%|█▊        | 92/500 [19:22<1:25:53, 12.63s/it]/scratch/sp6646/envs_dirs/swap_env/lib/python3.8/site-packages/textattack/loggers/csv_logger.py:41: FutureWarning: The frame.append method is deprecated and will be removed from pandas in a future version. Use pandas.concat instead.\n",
      "  self.df = self.df.append(row, ignore_index=True)\n",
      "[Succeeded / Failed / Skipped / Total] 55 / 28 / 10 / 93:  19%|█▊        | 93/500 [19:22<1:24:45, 12.50s/it]"
     ]
    },
    {
     "name": "stdout",
     "output_type": "stream",
     "text": [
      "--------------------------------------------- Result 92 ---------------------------------------------\n",
      "[[Positive (100%)]] --> [[[FAILED]]]\n",
      "\n",
      "hardly a masterpiece , but it introduces viewers to a good charitable enterprise and some interesting real people . \n",
      "\n",
      "\n",
      "--------------------------------------------- Result 93 ---------------------------------------------\n",
      "[[Positive (75%)]] --> [[[SKIPPED]]]\n",
      "\n",
      "you wo n't like roger , but you will quickly recognize him . \n",
      "\n",
      "\n"
     ]
    },
    {
     "name": "stderr",
     "output_type": "stream",
     "text": [
      "[Succeeded / Failed / Skipped / Total] 55 / 28 / 10 / 93:  19%|█▉        | 94/500 [19:22<1:23:40, 12.37s/it]/scratch/sp6646/envs_dirs/swap_env/lib/python3.8/site-packages/textattack/loggers/csv_logger.py:41: FutureWarning: The frame.append method is deprecated and will be removed from pandas in a future version. Use pandas.concat instead.\n",
      "  self.df = self.df.append(row, ignore_index=True)\n",
      "[Succeeded / Failed / Skipped / Total] 55 / 28 / 11 / 94:  19%|█▉        | 94/500 [19:22<1:23:40, 12.37s/it]"
     ]
    },
    {
     "name": "stdout",
     "output_type": "stream",
     "text": [
      "--------------------------------------------- Result 94 ---------------------------------------------\n",
      "[[Negative (100%)]] --> [[[SKIPPED]]]\n",
      "\n",
      "if steven soderbergh 's ` solaris ' is a failure it is a glorious failure . \n",
      "\n",
      "\n"
     ]
    },
    {
     "name": "stderr",
     "output_type": "stream",
     "text": [
      "[Succeeded / Failed / Skipped / Total] 55 / 28 / 11 / 94:  19%|█▉        | 95/500 [19:40<1:23:51, 12.42s/it]/scratch/sp6646/envs_dirs/swap_env/lib/python3.8/site-packages/textattack/loggers/csv_logger.py:41: FutureWarning: The frame.append method is deprecated and will be removed from pandas in a future version. Use pandas.concat instead.\n",
      "  self.df = self.df.append(row, ignore_index=True)\n",
      "[Succeeded / Failed / Skipped / Total] 55 / 29 / 11 / 95:  19%|█▉        | 95/500 [19:40<1:23:51, 12.42s/it]"
     ]
    },
    {
     "name": "stdout",
     "output_type": "stream",
     "text": [
      "--------------------------------------------- Result 95 ---------------------------------------------\n",
      "[[Positive (97%)]] --> [[[FAILED]]]\n",
      "\n",
      "byler reveals his characters in a way that intrigues and even fascinates us , and he never reduces the situation to simple melodrama . \n",
      "\n",
      "\n"
     ]
    },
    {
     "name": "stderr",
     "output_type": "stream",
     "text": [
      "[Succeeded / Failed / Skipped / Total] 55 / 29 / 11 / 95:  19%|█▉        | 96/500 [19:40<1:22:48, 12.30s/it]/scratch/sp6646/envs_dirs/swap_env/lib/python3.8/site-packages/textattack/loggers/csv_logger.py:41: FutureWarning: The frame.append method is deprecated and will be removed from pandas in a future version. Use pandas.concat instead.\n",
      "  self.df = self.df.append(row, ignore_index=True)\n",
      "[Succeeded / Failed / Skipped / Total] 55 / 29 / 12 / 96:  19%|█▉        | 96/500 [19:40<1:22:48, 12.30s/it]"
     ]
    },
    {
     "name": "stdout",
     "output_type": "stream",
     "text": [
      "--------------------------------------------- Result 96 ---------------------------------------------\n",
      "[[Positive (99%)]] --> [[[SKIPPED]]]\n",
      "\n",
      "this riveting world war ii moral suspense story deals with the shadow side of american culture : racial prejudice in its ugly and diverse forms . \n",
      "\n",
      "\n"
     ]
    },
    {
     "name": "stderr",
     "output_type": "stream",
     "text": [
      "[Succeeded / Failed / Skipped / Total] 55 / 29 / 12 / 96:  19%|█▉        | 97/500 [20:03<1:23:21, 12.41s/it]/scratch/sp6646/envs_dirs/swap_env/lib/python3.8/site-packages/textattack/loggers/csv_logger.py:41: FutureWarning: The frame.append method is deprecated and will be removed from pandas in a future version. Use pandas.concat instead.\n",
      "  self.df = self.df.append(row, ignore_index=True)\n",
      "[Succeeded / Failed / Skipped / Total] 56 / 29 / 12 / 97:  19%|█▉        | 97/500 [20:03<1:23:21, 12.41s/it]"
     ]
    },
    {
     "name": "stdout",
     "output_type": "stream",
     "text": [
      "--------------------------------------------- Result 97 ---------------------------------------------\n",
      "[[Negative (99%)]] --> [[Positive (52%)]]\n",
      "\n",
      "it 's difficult to imagine the process that produced such a script , but here 's guessing that spray cheese and underarm [[noises]] played a crucial role . \n",
      "\n",
      "it 's difficult to imagine the process that produced such a script , but here 's guessing that spray cheese and underarm [[sounds]] played a crucial role . \n",
      "\n",
      "\n"
     ]
    },
    {
     "name": "stderr",
     "output_type": "stream",
     "text": [
      "[Succeeded / Failed / Skipped / Total] 56 / 29 / 12 / 97:  20%|█▉        | 98/500 [20:22<1:23:34, 12.48s/it]/scratch/sp6646/envs_dirs/swap_env/lib/python3.8/site-packages/textattack/loggers/csv_logger.py:41: FutureWarning: The frame.append method is deprecated and will be removed from pandas in a future version. Use pandas.concat instead.\n",
      "  self.df = self.df.append(row, ignore_index=True)\n",
      "[Succeeded / Failed / Skipped / Total] 57 / 29 / 12 / 98:  20%|█▉        | 98/500 [20:22<1:23:35, 12.48s/it]"
     ]
    },
    {
     "name": "stdout",
     "output_type": "stream",
     "text": [
      "--------------------------------------------- Result 98 ---------------------------------------------\n",
      "[[Positive (97%)]] --> [[Negative (97%)]]\n",
      "\n",
      "no sophomore slump for director sam mendes , who segues from oscar [[winner]] to oscar-winning potential with a [[smooth]] sleight of hand . \n",
      "\n",
      "no sophomore slump for director sam mendes , who segues from oscar [[triumphed]] to oscar-winning potential with a [[mild]] sleight of hand . \n",
      "\n",
      "\n"
     ]
    },
    {
     "name": "stderr",
     "output_type": "stream",
     "text": [
      "[Succeeded / Failed / Skipped / Total] 57 / 29 / 12 / 98:  20%|█▉        | 99/500 [20:42<1:23:54, 12.55s/it]/scratch/sp6646/envs_dirs/swap_env/lib/python3.8/site-packages/textattack/loggers/csv_logger.py:41: FutureWarning: The frame.append method is deprecated and will be removed from pandas in a future version. Use pandas.concat instead.\n",
      "  self.df = self.df.append(row, ignore_index=True)\n",
      "[Succeeded / Failed / Skipped / Total] 58 / 29 / 12 / 99:  20%|█▉        | 99/500 [20:42<1:23:54, 12.55s/it]"
     ]
    },
    {
     "name": "stdout",
     "output_type": "stream",
     "text": [
      "--------------------------------------------- Result 99 ---------------------------------------------\n",
      "[[Negative (100%)]] --> [[Positive (96%)]]\n",
      "\n",
      "on the whole , the movie [[lacks]] wit , feeling and believability to compensate for its incessant coarseness and [[banality]] . \n",
      "\n",
      "on the whole , the movie [[absences]] wit , feeling and believability to compensate for its incessant coarseness and [[irreverence]] . \n",
      "\n",
      "\n"
     ]
    },
    {
     "name": "stderr",
     "output_type": "stream",
     "text": [
      "[Succeeded / Failed / Skipped / Total] 58 / 29 / 12 / 99:  20%|██        | 100/500 [20:45<1:23:00, 12.45s/it]/scratch/sp6646/envs_dirs/swap_env/lib/python3.8/site-packages/textattack/loggers/csv_logger.py:41: FutureWarning: The frame.append method is deprecated and will be removed from pandas in a future version. Use pandas.concat instead.\n",
      "  self.df = self.df.append(row, ignore_index=True)\n",
      "[Succeeded / Failed / Skipped / Total] 59 / 29 / 12 / 100:  20%|██        | 100/500 [20:45<1:23:00, 12.45s/it]"
     ]
    },
    {
     "name": "stdout",
     "output_type": "stream",
     "text": [
      "--------------------------------------------- Result 100 ---------------------------------------------\n",
      "[[Negative (98%)]] --> [[Positive (96%)]]\n",
      "\n",
      "why make a documentary about these [[marginal]] historical figures ? \n",
      "\n",
      "why make a documentary about these [[immaterial]] historical figures ? \n",
      "\n",
      "\n"
     ]
    },
    {
     "name": "stderr",
     "output_type": "stream",
     "text": [
      "[Succeeded / Failed / Skipped / Total] 59 / 29 / 12 / 100:  20%|██        | 101/500 [20:56<1:22:44, 12.44s/it]/scratch/sp6646/envs_dirs/swap_env/lib/python3.8/site-packages/textattack/loggers/csv_logger.py:41: FutureWarning: The frame.append method is deprecated and will be removed from pandas in a future version. Use pandas.concat instead.\n",
      "  self.df = self.df.append(row, ignore_index=True)\n",
      "[Succeeded / Failed / Skipped / Total] 60 / 29 / 12 / 101:  20%|██        | 102/500 [20:56<1:21:44, 12.32s/it]/scratch/sp6646/envs_dirs/swap_env/lib/python3.8/site-packages/textattack/loggers/csv_logger.py:41: FutureWarning: The frame.append method is deprecated and will be removed from pandas in a future version. Use pandas.concat instead.\n",
      "  self.df = self.df.append(row, ignore_index=True)\n",
      "[Succeeded / Failed / Skipped / Total] 60 / 29 / 13 / 102:  20%|██        | 102/500 [20:56<1:21:44, 12.32s/it]"
     ]
    },
    {
     "name": "stdout",
     "output_type": "stream",
     "text": [
      "--------------------------------------------- Result 101 ---------------------------------------------\n",
      "[[Positive (99%)]] --> [[Negative (65%)]]\n",
      "\n",
      "neither parker nor donovan is a typical romantic lead , but they bring a [[fresh]] , quirky [[charm]] to the formula . \n",
      "\n",
      "neither parker nor donovan is a typical romantic lead , but they bring a [[mild]] , quirky [[bewitching]] to the formula . \n",
      "\n",
      "\n",
      "--------------------------------------------- Result 102 ---------------------------------------------\n",
      "[[Positive (72%)]] --> [[[SKIPPED]]]\n",
      "\n",
      "his last movie was poetically romantic and full of indelible images , but his latest has nothing going for it . \n",
      "\n",
      "\n"
     ]
    },
    {
     "name": "stderr",
     "output_type": "stream",
     "text": [
      "[Succeeded / Failed / Skipped / Total] 60 / 29 / 13 / 102:  21%|██        | 103/500 [21:08<1:21:29, 12.32s/it]/scratch/sp6646/envs_dirs/swap_env/lib/python3.8/site-packages/textattack/loggers/csv_logger.py:41: FutureWarning: The frame.append method is deprecated and will be removed from pandas in a future version. Use pandas.concat instead.\n",
      "  self.df = self.df.append(row, ignore_index=True)\n",
      "[Succeeded / Failed / Skipped / Total] 61 / 29 / 13 / 103:  21%|██        | 103/500 [21:08<1:21:29, 12.32s/it]"
     ]
    },
    {
     "name": "stdout",
     "output_type": "stream",
     "text": [
      "--------------------------------------------- Result 103 ---------------------------------------------\n",
      "[[Positive (95%)]] --> [[Negative (73%)]]\n",
      "\n",
      "does paint some memorable images ... , but makhmalbaf [[keeps]] her distance from the characters \n",
      "\n",
      "does paint some memorable images ... , but makhmalbaf [[maintenance]] her distance from the characters \n",
      "\n",
      "\n"
     ]
    },
    {
     "name": "stderr",
     "output_type": "stream",
     "text": [
      "[Succeeded / Failed / Skipped / Total] 61 / 29 / 13 / 103:  21%|██        | 104/500 [21:23<1:21:28, 12.34s/it]/scratch/sp6646/envs_dirs/swap_env/lib/python3.8/site-packages/textattack/loggers/csv_logger.py:41: FutureWarning: The frame.append method is deprecated and will be removed from pandas in a future version. Use pandas.concat instead.\n",
      "  self.df = self.df.append(row, ignore_index=True)\n",
      "[Succeeded / Failed / Skipped / Total] 62 / 29 / 13 / 104:  21%|██        | 104/500 [21:23<1:21:28, 12.34s/it]"
     ]
    },
    {
     "name": "stdout",
     "output_type": "stream",
     "text": [
      "--------------------------------------------- Result 104 ---------------------------------------------\n",
      "[[Positive (100%)]] --> [[Negative (97%)]]\n",
      "\n",
      "a [[gripping]] movie , played with performances that are all [[understated]] and [[touching]] . \n",
      "\n",
      "a [[breathless]] movie , played with performances that are all [[overstated]] and [[afflicts]] . \n",
      "\n",
      "\n"
     ]
    },
    {
     "name": "stderr",
     "output_type": "stream",
     "text": [
      "[Succeeded / Failed / Skipped / Total] 62 / 29 / 13 / 104:  21%|██        | 105/500 [22:02<1:22:55, 12.60s/it]/scratch/sp6646/envs_dirs/swap_env/lib/python3.8/site-packages/textattack/loggers/csv_logger.py:41: FutureWarning: The frame.append method is deprecated and will be removed from pandas in a future version. Use pandas.concat instead.\n",
      "  self.df = self.df.append(row, ignore_index=True)\n",
      "[Succeeded / Failed / Skipped / Total] 62 / 30 / 13 / 105:  21%|██        | 105/500 [22:02<1:22:56, 12.60s/it]"
     ]
    },
    {
     "name": "stdout",
     "output_type": "stream",
     "text": [
      "--------------------------------------------- Result 105 ---------------------------------------------\n",
      "[[Positive (94%)]] --> [[[FAILED]]]\n",
      "\n",
      "it 's one of those baseball pictures where the hero is stoic , the wife is patient , the kids are as cute as all get-out and the odds against success are long enough to intimidate , but short enough to make a dream seem possible . \n",
      "\n",
      "\n"
     ]
    },
    {
     "name": "stderr",
     "output_type": "stream",
     "text": [
      "[Succeeded / Failed / Skipped / Total] 62 / 30 / 13 / 105:  21%|██        | 106/500 [22:23<1:23:14, 12.68s/it]/scratch/sp6646/envs_dirs/swap_env/lib/python3.8/site-packages/textattack/loggers/csv_logger.py:41: FutureWarning: The frame.append method is deprecated and will be removed from pandas in a future version. Use pandas.concat instead.\n",
      "  self.df = self.df.append(row, ignore_index=True)\n",
      "[Succeeded / Failed / Skipped / Total] 63 / 30 / 13 / 106:  21%|██        | 106/500 [22:23<1:23:14, 12.68s/it]"
     ]
    },
    {
     "name": "stdout",
     "output_type": "stream",
     "text": [
      "--------------------------------------------- Result 106 ---------------------------------------------\n",
      "[[Negative (97%)]] --> [[Positive (55%)]]\n",
      "\n",
      "combining quick-cut editing and a [[blaring]] heavy metal much of the time , beck seems to be under the illusion that he 's shooting the latest system of a down video . \n",
      "\n",
      "combining quick-cut editing and a [[roaring]] heavy metal much of the time , beck seems to be under the illusion that he 's shooting the latest system of a down video . \n",
      "\n",
      "\n"
     ]
    },
    {
     "name": "stderr",
     "output_type": "stream",
     "text": [
      "[Succeeded / Failed / Skipped / Total] 63 / 30 / 13 / 106:  21%|██▏       | 107/500 [22:27<1:22:30, 12.60s/it]/scratch/sp6646/envs_dirs/swap_env/lib/python3.8/site-packages/textattack/loggers/csv_logger.py:41: FutureWarning: The frame.append method is deprecated and will be removed from pandas in a future version. Use pandas.concat instead.\n",
      "  self.df = self.df.append(row, ignore_index=True)\n",
      "[Succeeded / Failed / Skipped / Total] 64 / 30 / 13 / 107:  21%|██▏       | 107/500 [22:27<1:22:30, 12.60s/it]"
     ]
    },
    {
     "name": "stdout",
     "output_type": "stream",
     "text": [
      "--------------------------------------------- Result 107 ---------------------------------------------\n",
      "[[Positive (99%)]] --> [[Negative (89%)]]\n",
      "\n",
      "the movie 's relatively simple plot and [[uncomplicated]] morality play well with the affable cast . \n",
      "\n",
      "the movie 's relatively simple plot and [[simplistic]] morality play well with the affable cast . \n",
      "\n",
      "\n"
     ]
    },
    {
     "name": "stderr",
     "output_type": "stream",
     "text": [
      "[Succeeded / Failed / Skipped / Total] 64 / 30 / 13 / 107:  22%|██▏       | 108/500 [22:49<1:22:49, 12.68s/it]/scratch/sp6646/envs_dirs/swap_env/lib/python3.8/site-packages/textattack/loggers/csv_logger.py:41: FutureWarning: The frame.append method is deprecated and will be removed from pandas in a future version. Use pandas.concat instead.\n",
      "  self.df = self.df.append(row, ignore_index=True)\n",
      "[Succeeded / Failed / Skipped / Total] 65 / 30 / 13 / 108:  22%|██▏       | 108/500 [22:49<1:22:49, 12.68s/it]"
     ]
    },
    {
     "name": "stdout",
     "output_type": "stream",
     "text": [
      "--------------------------------------------- Result 108 ---------------------------------------------\n",
      "[[Negative (100%)]] --> [[Positive (50%)]]\n",
      "\n",
      "what the director ca n't do is [[make]] either of [[val]] kilmer 's two [[personas]] interesting or [[worth]] [[caring]] about . \n",
      "\n",
      "what the director ca n't do is [[afford]] either of [[picked]] kilmer 's two [[personalities]] interesting or [[precious]] [[sympathies]] about . \n",
      "\n",
      "\n"
     ]
    },
    {
     "name": "stderr",
     "output_type": "stream",
     "text": [
      "[Succeeded / Failed / Skipped / Total] 65 / 30 / 13 / 108:  22%|██▏       | 109/500 [23:07<1:22:58, 12.73s/it]/scratch/sp6646/envs_dirs/swap_env/lib/python3.8/site-packages/textattack/loggers/csv_logger.py:41: FutureWarning: The frame.append method is deprecated and will be removed from pandas in a future version. Use pandas.concat instead.\n",
      "  self.df = self.df.append(row, ignore_index=True)\n",
      "[Succeeded / Failed / Skipped / Total] 65 / 31 / 13 / 109:  22%|██▏       | 109/500 [23:07<1:22:58, 12.73s/it]"
     ]
    },
    {
     "name": "stdout",
     "output_type": "stream",
     "text": [
      "--------------------------------------------- Result 109 ---------------------------------------------\n",
      "[[Negative (98%)]] --> [[[FAILED]]]\n",
      "\n",
      "too often , the viewer is n't reacting to humor so much as they are wincing back in repugnance . \n",
      "\n",
      "\n"
     ]
    },
    {
     "name": "stderr",
     "output_type": "stream",
     "text": [
      "[Succeeded / Failed / Skipped / Total] 65 / 31 / 13 / 109:  22%|██▏       | 110/500 [23:23<1:22:57, 12.76s/it]/scratch/sp6646/envs_dirs/swap_env/lib/python3.8/site-packages/textattack/loggers/csv_logger.py:41: FutureWarning: The frame.append method is deprecated and will be removed from pandas in a future version. Use pandas.concat instead.\n",
      "  self.df = self.df.append(row, ignore_index=True)\n",
      "[Succeeded / Failed / Skipped / Total] 65 / 32 / 13 / 110:  22%|██▏       | 110/500 [23:23<1:22:57, 12.76s/it]"
     ]
    },
    {
     "name": "stdout",
     "output_type": "stream",
     "text": [
      "--------------------------------------------- Result 110 ---------------------------------------------\n",
      "[[Positive (99%)]] --> [[[FAILED]]]\n",
      "\n",
      "it 's great escapist fun that recreates a place and time that will never happen again . \n",
      "\n",
      "\n"
     ]
    },
    {
     "name": "stderr",
     "output_type": "stream",
     "text": [
      "[Succeeded / Failed / Skipped / Total] 65 / 32 / 13 / 110:  22%|██▏       | 111/500 [23:29<1:22:19, 12.70s/it]/scratch/sp6646/envs_dirs/swap_env/lib/python3.8/site-packages/textattack/loggers/csv_logger.py:41: FutureWarning: The frame.append method is deprecated and will be removed from pandas in a future version. Use pandas.concat instead.\n",
      "  self.df = self.df.append(row, ignore_index=True)\n",
      "[Succeeded / Failed / Skipped / Total] 66 / 32 / 13 / 111:  22%|██▏       | 111/500 [23:29<1:22:19, 12.70s/it]"
     ]
    },
    {
     "name": "stdout",
     "output_type": "stream",
     "text": [
      "--------------------------------------------- Result 111 ---------------------------------------------\n",
      "[[Negative (98%)]] --> [[Positive (84%)]]\n",
      "\n",
      "[[scores]] no points for [[originality]] , wit , or intelligence . \n",
      "\n",
      "[[notes]] no points for [[oddity]] , wit , or intelligence . \n",
      "\n",
      "\n"
     ]
    },
    {
     "name": "stderr",
     "output_type": "stream",
     "text": [
      "[Succeeded / Failed / Skipped / Total] 66 / 32 / 13 / 111:  22%|██▏       | 112/500 [23:35<1:21:42, 12.63s/it]/scratch/sp6646/envs_dirs/swap_env/lib/python3.8/site-packages/textattack/loggers/csv_logger.py:41: FutureWarning: The frame.append method is deprecated and will be removed from pandas in a future version. Use pandas.concat instead.\n",
      "  self.df = self.df.append(row, ignore_index=True)\n",
      "[Succeeded / Failed / Skipped / Total] 67 / 32 / 13 / 112:  23%|██▎       | 113/500 [23:35<1:20:46, 12.52s/it]/scratch/sp6646/envs_dirs/swap_env/lib/python3.8/site-packages/textattack/loggers/csv_logger.py:41: FutureWarning: The frame.append method is deprecated and will be removed from pandas in a future version. Use pandas.concat instead.\n",
      "  self.df = self.df.append(row, ignore_index=True)\n",
      "[Succeeded / Failed / Skipped / Total] 67 / 32 / 14 / 113:  23%|██▎       | 113/500 [23:35<1:20:46, 12.52s/it]"
     ]
    },
    {
     "name": "stdout",
     "output_type": "stream",
     "text": [
      "--------------------------------------------- Result 112 ---------------------------------------------\n",
      "[[Negative (95%)]] --> [[Positive (93%)]]\n",
      "\n",
      "there is n't nearly enough fun here , [[despite]] the presence of some appealing ingredients . \n",
      "\n",
      "there is n't nearly enough fun here , [[although]] the presence of some appealing ingredients . \n",
      "\n",
      "\n",
      "--------------------------------------------- Result 113 ---------------------------------------------\n",
      "[[Negative (100%)]] --> [[[SKIPPED]]]\n",
      "\n",
      "hilariously inept and ridiculous . \n",
      "\n",
      "\n"
     ]
    },
    {
     "name": "stderr",
     "output_type": "stream",
     "text": [
      "[Succeeded / Failed / Skipped / Total] 67 / 32 / 14 / 113:  23%|██▎       | 114/500 [23:37<1:19:57, 12.43s/it]/scratch/sp6646/envs_dirs/swap_env/lib/python3.8/site-packages/textattack/loggers/csv_logger.py:41: FutureWarning: The frame.append method is deprecated and will be removed from pandas in a future version. Use pandas.concat instead.\n",
      "  self.df = self.df.append(row, ignore_index=True)\n",
      "[Succeeded / Failed / Skipped / Total] 68 / 32 / 14 / 114:  23%|██▎       | 114/500 [23:37<1:19:58, 12.43s/it]"
     ]
    },
    {
     "name": "stdout",
     "output_type": "stream",
     "text": [
      "--------------------------------------------- Result 114 ---------------------------------------------\n",
      "[[Negative (97%)]] --> [[Positive (99%)]]\n",
      "\n",
      "this movie is [[maddening]] . \n",
      "\n",
      "this movie is [[agonising]] . \n",
      "\n",
      "\n"
     ]
    },
    {
     "name": "stderr",
     "output_type": "stream",
     "text": [
      "[Succeeded / Failed / Skipped / Total] 68 / 32 / 14 / 114:  23%|██▎       | 115/500 [23:52<1:19:56, 12.46s/it]/scratch/sp6646/envs_dirs/swap_env/lib/python3.8/site-packages/textattack/loggers/csv_logger.py:41: FutureWarning: The frame.append method is deprecated and will be removed from pandas in a future version. Use pandas.concat instead.\n",
      "  self.df = self.df.append(row, ignore_index=True)\n",
      "[Succeeded / Failed / Skipped / Total] 69 / 32 / 14 / 115:  23%|██▎       | 115/500 [23:52<1:19:56, 12.46s/it]"
     ]
    },
    {
     "name": "stdout",
     "output_type": "stream",
     "text": [
      "--------------------------------------------- Result 115 ---------------------------------------------\n",
      "[[Positive (96%)]] --> [[Negative (52%)]]\n",
      "\n",
      "it haunts you , you ca n't forget it , you [[admire]] its conception and are [[able]] to resolve some of the confusions you had while watching it . \n",
      "\n",
      "it haunts you , you ca n't forget it , you [[admires]] its conception and are [[capable]] to resolve some of the confusions you had while watching it . \n",
      "\n",
      "\n"
     ]
    },
    {
     "name": "stderr",
     "output_type": "stream",
     "text": [
      "[Succeeded / Failed / Skipped / Total] 69 / 32 / 14 / 115:  23%|██▎       | 116/500 [23:52<1:19:03, 12.35s/it]/scratch/sp6646/envs_dirs/swap_env/lib/python3.8/site-packages/textattack/loggers/csv_logger.py:41: FutureWarning: The frame.append method is deprecated and will be removed from pandas in a future version. Use pandas.concat instead.\n",
      "  self.df = self.df.append(row, ignore_index=True)\n",
      "[Succeeded / Failed / Skipped / Total] 69 / 32 / 15 / 116:  23%|██▎       | 116/500 [23:52<1:19:03, 12.35s/it]"
     ]
    },
    {
     "name": "stdout",
     "output_type": "stream",
     "text": [
      "--------------------------------------------- Result 116 ---------------------------------------------\n",
      "[[Positive (100%)]] --> [[[SKIPPED]]]\n",
      "\n",
      "sam mendes has become valedictorian at the school for soft landings and easy ways out . \n",
      "\n",
      "\n"
     ]
    },
    {
     "name": "stderr",
     "output_type": "stream",
     "text": [
      "[Succeeded / Failed / Skipped / Total] 69 / 32 / 15 / 116:  23%|██▎       | 117/500 [24:06<1:18:56, 12.37s/it]/scratch/sp6646/envs_dirs/swap_env/lib/python3.8/site-packages/textattack/loggers/csv_logger.py:41: FutureWarning: The frame.append method is deprecated and will be removed from pandas in a future version. Use pandas.concat instead.\n",
      "  self.df = self.df.append(row, ignore_index=True)\n",
      "[Succeeded / Failed / Skipped / Total] 70 / 32 / 15 / 117:  23%|██▎       | 117/500 [24:06<1:18:56, 12.37s/it]"
     ]
    },
    {
     "name": "stdout",
     "output_type": "stream",
     "text": [
      "--------------------------------------------- Result 117 ---------------------------------------------\n",
      "[[Positive (100%)]] --> [[Negative (67%)]]\n",
      "\n",
      "one of the [[smartest]] [[takes]] on singles [[culture]] i 've seen in a long time . \n",
      "\n",
      "one of the [[cleverest]] [[having]] on singles [[cultura]] i 've seen in a long time . \n",
      "\n",
      "\n"
     ]
    },
    {
     "name": "stderr",
     "output_type": "stream",
     "text": [
      "[Succeeded / Failed / Skipped / Total] 70 / 32 / 15 / 117:  24%|██▎       | 118/500 [24:07<1:18:04, 12.26s/it]/scratch/sp6646/envs_dirs/swap_env/lib/python3.8/site-packages/textattack/loggers/csv_logger.py:41: FutureWarning: The frame.append method is deprecated and will be removed from pandas in a future version. Use pandas.concat instead.\n",
      "  self.df = self.df.append(row, ignore_index=True)\n",
      "[Succeeded / Failed / Skipped / Total] 70 / 32 / 16 / 118:  24%|██▎       | 118/500 [24:07<1:18:05, 12.26s/it]"
     ]
    },
    {
     "name": "stdout",
     "output_type": "stream",
     "text": [
      "--------------------------------------------- Result 118 ---------------------------------------------\n",
      "[[Negative (56%)]] --> [[[SKIPPED]]]\n",
      "\n",
      "moody , heartbreaking , and filmed in a natural , unforced style that makes its characters seem entirely convincing even when its script is not . \n",
      "\n",
      "\n"
     ]
    },
    {
     "name": "stderr",
     "output_type": "stream",
     "text": [
      "[Succeeded / Failed / Skipped / Total] 70 / 32 / 16 / 118:  24%|██▍       | 119/500 [24:07<1:17:14, 12.16s/it]/scratch/sp6646/envs_dirs/swap_env/lib/python3.8/site-packages/textattack/loggers/csv_logger.py:41: FutureWarning: The frame.append method is deprecated and will be removed from pandas in a future version. Use pandas.concat instead.\n",
      "  self.df = self.df.append(row, ignore_index=True)\n",
      "[Succeeded / Failed / Skipped / Total] 70 / 32 / 17 / 119:  24%|██▍       | 119/500 [24:07<1:17:14, 12.16s/it]"
     ]
    },
    {
     "name": "stdout",
     "output_type": "stream",
     "text": [
      "--------------------------------------------- Result 119 ---------------------------------------------\n",
      "[[Positive (58%)]] --> [[[SKIPPED]]]\n",
      "\n",
      "every nanosecond of the the new guy reminds you that you could be doing something else far more pleasurable . \n",
      "\n",
      "\n"
     ]
    },
    {
     "name": "stderr",
     "output_type": "stream",
     "text": [
      "[Succeeded / Failed / Skipped / Total] 70 / 32 / 17 / 119:  24%|██▍       | 120/500 [24:15<1:16:49, 12.13s/it]/scratch/sp6646/envs_dirs/swap_env/lib/python3.8/site-packages/textattack/loggers/csv_logger.py:41: FutureWarning: The frame.append method is deprecated and will be removed from pandas in a future version. Use pandas.concat instead.\n",
      "  self.df = self.df.append(row, ignore_index=True)\n",
      "[Succeeded / Failed / Skipped / Total] 71 / 32 / 17 / 120:  24%|██▍       | 120/500 [24:15<1:16:49, 12.13s/it]"
     ]
    },
    {
     "name": "stdout",
     "output_type": "stream",
     "text": [
      "--------------------------------------------- Result 120 ---------------------------------------------\n",
      "[[Negative (99%)]] --> [[Positive (90%)]]\n",
      "\n",
      "comes ... [[uncomfortably]] close to coasting in the treads of the bicycle thief . \n",
      "\n",
      "comes ... [[alarmingly]] close to coasting in the treads of the bicycle thief . \n",
      "\n",
      "\n"
     ]
    },
    {
     "name": "stderr",
     "output_type": "stream",
     "text": [
      "[Succeeded / Failed / Skipped / Total] 71 / 32 / 17 / 120:  24%|██▍       | 121/500 [24:39<1:17:13, 12.23s/it]/scratch/sp6646/envs_dirs/swap_env/lib/python3.8/site-packages/textattack/loggers/csv_logger.py:41: FutureWarning: The frame.append method is deprecated and will be removed from pandas in a future version. Use pandas.concat instead.\n",
      "  self.df = self.df.append(row, ignore_index=True)\n",
      "[Succeeded / Failed / Skipped / Total] 71 / 33 / 17 / 121:  24%|██▍       | 121/500 [24:39<1:17:13, 12.23s/it]"
     ]
    },
    {
     "name": "stdout",
     "output_type": "stream",
     "text": [
      "--------------------------------------------- Result 121 ---------------------------------------------\n",
      "[[Positive (100%)]] --> [[[FAILED]]]\n",
      "\n",
      "warm water under a red bridge is a quirky and poignant japanese film that explores the fascinating connections between women , water , nature , and sexuality . \n",
      "\n",
      "\n"
     ]
    },
    {
     "name": "stderr",
     "output_type": "stream",
     "text": [
      "[Succeeded / Failed / Skipped / Total] 71 / 33 / 17 / 121:  24%|██▍       | 122/500 [24:39<1:16:24, 12.13s/it]/scratch/sp6646/envs_dirs/swap_env/lib/python3.8/site-packages/textattack/loggers/csv_logger.py:41: FutureWarning: The frame.append method is deprecated and will be removed from pandas in a future version. Use pandas.concat instead.\n",
      "  self.df = self.df.append(row, ignore_index=True)\n",
      "[Succeeded / Failed / Skipped / Total] 71 / 33 / 18 / 122:  24%|██▍       | 122/500 [24:39<1:16:24, 12.13s/it]"
     ]
    },
    {
     "name": "stdout",
     "output_type": "stream",
     "text": [
      "--------------------------------------------- Result 122 ---------------------------------------------\n",
      "[[Positive (71%)]] --> [[[SKIPPED]]]\n",
      "\n",
      "it seems to me the film is about the art of ripping people off without ever letting them consciously know you have done so \n",
      "\n",
      "\n"
     ]
    },
    {
     "name": "stderr",
     "output_type": "stream",
     "text": [
      "[Succeeded / Failed / Skipped / Total] 71 / 33 / 18 / 122:  25%|██▍       | 123/500 [24:42<1:15:42, 12.05s/it]/scratch/sp6646/envs_dirs/swap_env/lib/python3.8/site-packages/textattack/loggers/csv_logger.py:41: FutureWarning: The frame.append method is deprecated and will be removed from pandas in a future version. Use pandas.concat instead.\n",
      "  self.df = self.df.append(row, ignore_index=True)\n",
      "[Succeeded / Failed / Skipped / Total] 72 / 33 / 18 / 123:  25%|██▍       | 123/500 [24:42<1:15:42, 12.05s/it]/scratch/sp6646/envs_dirs/swap_env/lib/python3.8/site-packages/textattack/loggers/csv_logger.py:41: FutureWarning: The frame.append method is deprecated and will be removed from pandas in a future version. Use pandas.concat instead.\n",
      "  self.df = self.df.append(row, ignore_index=True)\n",
      "[Succeeded / Failed / Skipped / Total] 72 / 33 / 19 / 124:  25%|██▍       | 124/500 [24:42<1:14:54, 11.95s/it]"
     ]
    },
    {
     "name": "stdout",
     "output_type": "stream",
     "text": [
      "--------------------------------------------- Result 123 ---------------------------------------------\n",
      "[[Positive (97%)]] --> [[Negative (57%)]]\n",
      "\n",
      "old-form moviemaking at its [[best]] . \n",
      "\n",
      "old-form moviemaking at its [[preferable]] . \n",
      "\n",
      "\n",
      "--------------------------------------------- Result 124 ---------------------------------------------\n",
      "[[Negative (98%)]] --> [[[SKIPPED]]]\n",
      "\n",
      "turns potentially forgettable formula into something strangely diverting . \n",
      "\n",
      "\n"
     ]
    },
    {
     "name": "stderr",
     "output_type": "stream",
     "text": [
      "[Succeeded / Failed / Skipped / Total] 72 / 33 / 19 / 124:  25%|██▌       | 125/500 [25:09<1:15:28, 12.07s/it]/scratch/sp6646/envs_dirs/swap_env/lib/python3.8/site-packages/textattack/loggers/csv_logger.py:41: FutureWarning: The frame.append method is deprecated and will be removed from pandas in a future version. Use pandas.concat instead.\n",
      "  self.df = self.df.append(row, ignore_index=True)\n",
      "[Succeeded / Failed / Skipped / Total] 73 / 33 / 19 / 125:  25%|██▌       | 125/500 [25:09<1:15:28, 12.07s/it]"
     ]
    },
    {
     "name": "stdout",
     "output_type": "stream",
     "text": [
      "--------------------------------------------- Result 125 ---------------------------------------------\n",
      "[[Positive (83%)]] --> [[Negative (53%)]]\n",
      "\n",
      "( lawrence bounces ) all over the stage , dancing , running , sweating , mopping his [[face]] and generally displaying the wacky talent that brought him fame in the first place . \n",
      "\n",
      "( lawrence bounces ) all over the stage , dancing , running , sweating , mopping his [[facial]] and generally displaying the wacky talent that brought him fame in the first place . \n",
      "\n",
      "\n"
     ]
    },
    {
     "name": "stderr",
     "output_type": "stream",
     "text": [
      "[Succeeded / Failed / Skipped / Total] 73 / 33 / 19 / 125:  25%|██▌       | 126/500 [25:33<1:15:52, 12.17s/it]/scratch/sp6646/envs_dirs/swap_env/lib/python3.8/site-packages/textattack/loggers/csv_logger.py:41: FutureWarning: The frame.append method is deprecated and will be removed from pandas in a future version. Use pandas.concat instead.\n",
      "  self.df = self.df.append(row, ignore_index=True)\n",
      "[Succeeded / Failed / Skipped / Total] 74 / 33 / 19 / 126:  25%|██▌       | 126/500 [25:33<1:15:52, 12.17s/it]"
     ]
    },
    {
     "name": "stdout",
     "output_type": "stream",
     "text": [
      "--------------------------------------------- Result 126 ---------------------------------------------\n",
      "[[Positive (100%)]] --> [[Negative (76%)]]\n",
      "\n",
      "a movie that reminds [[us]] of just how [[exciting]] and [[satisfying]] the fantasy cinema can be when it 's approached with imagination and flair . \n",
      "\n",
      "a movie that reminds [[we]] of just how [[breathless]] and [[adequate]] the fantasy cinema can be when it 's approached with imagination and flair . \n",
      "\n",
      "\n"
     ]
    },
    {
     "name": "stderr",
     "output_type": "stream",
     "text": [
      "[Succeeded / Failed / Skipped / Total] 74 / 33 / 19 / 126:  25%|██▌       | 127/500 [25:47<1:15:44, 12.18s/it]/scratch/sp6646/envs_dirs/swap_env/lib/python3.8/site-packages/textattack/loggers/csv_logger.py:41: FutureWarning: The frame.append method is deprecated and will be removed from pandas in a future version. Use pandas.concat instead.\n",
      "  self.df = self.df.append(row, ignore_index=True)\n",
      "[Succeeded / Failed / Skipped / Total] 75 / 33 / 19 / 127:  25%|██▌       | 127/500 [25:47<1:15:44, 12.18s/it]"
     ]
    },
    {
     "name": "stdout",
     "output_type": "stream",
     "text": [
      "--------------------------------------------- Result 127 ---------------------------------------------\n",
      "[[Negative (99%)]] --> [[Positive (58%)]]\n",
      "\n",
      "confirms the [[nagging]] suspicion that ethan hawke would be even worse behind the camera than he is in front of it . \n",
      "\n",
      "confirms the [[poignant]] suspicion that ethan hawke would be even worse behind the camera than he is in front of it . \n",
      "\n",
      "\n"
     ]
    },
    {
     "name": "stderr",
     "output_type": "stream",
     "text": [
      "[Succeeded / Failed / Skipped / Total] 75 / 33 / 19 / 127:  26%|██▌       | 128/500 [26:16<1:16:22, 12.32s/it]/scratch/sp6646/envs_dirs/swap_env/lib/python3.8/site-packages/textattack/loggers/csv_logger.py:41: FutureWarning: The frame.append method is deprecated and will be removed from pandas in a future version. Use pandas.concat instead.\n",
      "  self.df = self.df.append(row, ignore_index=True)\n",
      "[Succeeded / Failed / Skipped / Total] 75 / 34 / 19 / 128:  26%|██▌       | 128/500 [26:16<1:16:22, 12.32s/it]"
     ]
    },
    {
     "name": "stdout",
     "output_type": "stream",
     "text": [
      "--------------------------------------------- Result 128 ---------------------------------------------\n",
      "[[Negative (100%)]] --> [[[FAILED]]]\n",
      "\n",
      "in the end , we are left with something like two ships passing in the night rather than any insights into gay love , chinese society or the price one pays for being dishonest . \n",
      "\n",
      "\n"
     ]
    },
    {
     "name": "stderr",
     "output_type": "stream",
     "text": [
      "[Succeeded / Failed / Skipped / Total] 75 / 34 / 19 / 128:  26%|██▌       | 129/500 [26:40<1:16:42, 12.40s/it]/scratch/sp6646/envs_dirs/swap_env/lib/python3.8/site-packages/textattack/loggers/csv_logger.py:41: FutureWarning: The frame.append method is deprecated and will be removed from pandas in a future version. Use pandas.concat instead.\n",
      "  self.df = self.df.append(row, ignore_index=True)\n",
      "[Succeeded / Failed / Skipped / Total] 76 / 34 / 19 / 129:  26%|██▌       | 129/500 [26:40<1:16:42, 12.40s/it]"
     ]
    },
    {
     "name": "stdout",
     "output_type": "stream",
     "text": [
      "--------------------------------------------- Result 129 ---------------------------------------------\n",
      "[[Positive (92%)]] --> [[Negative (72%)]]\n",
      "\n",
      "montias ... pumps a lot of [[energy]] into his [[nicely]] nuanced narrative and surrounds himself with a cast of quirky -- but not stereotyped -- street characters . \n",
      "\n",
      "montias ... pumps a lot of [[energies]] into his [[marginally]] nuanced narrative and surrounds himself with a cast of quirky -- but not stereotyped -- street characters . \n",
      "\n",
      "\n"
     ]
    },
    {
     "name": "stderr",
     "output_type": "stream",
     "text": [
      "[Succeeded / Failed / Skipped / Total] 76 / 34 / 19 / 129:  26%|██▌       | 130/500 [27:01<1:16:53, 12.47s/it]/scratch/sp6646/envs_dirs/swap_env/lib/python3.8/site-packages/textattack/loggers/csv_logger.py:41: FutureWarning: The frame.append method is deprecated and will be removed from pandas in a future version. Use pandas.concat instead.\n",
      "  self.df = self.df.append(row, ignore_index=True)\n",
      "[Succeeded / Failed / Skipped / Total] 77 / 34 / 19 / 130:  26%|██▌       | 130/500 [27:01<1:16:53, 12.47s/it]"
     ]
    },
    {
     "name": "stdout",
     "output_type": "stream",
     "text": [
      "--------------------------------------------- Result 130 ---------------------------------------------\n",
      "[[Positive (100%)]] --> [[Negative (59%)]]\n",
      "\n",
      "it provides the grand , [[intelligent]] entertainment of a [[superior]] [[cast]] playing smart people amid a [[compelling]] plot . \n",
      "\n",
      "it provides the grand , [[cleverly]] entertainment of a [[upper]] [[throw]] playing smart people amid a [[convince]] plot . \n",
      "\n",
      "\n"
     ]
    },
    {
     "name": "stderr",
     "output_type": "stream",
     "text": [
      "[Succeeded / Failed / Skipped / Total] 77 / 34 / 19 / 130:  26%|██▌       | 131/500 [27:10<1:16:34, 12.45s/it]/scratch/sp6646/envs_dirs/swap_env/lib/python3.8/site-packages/textattack/loggers/csv_logger.py:41: FutureWarning: The frame.append method is deprecated and will be removed from pandas in a future version. Use pandas.concat instead.\n",
      "  self.df = self.df.append(row, ignore_index=True)\n",
      "[Succeeded / Failed / Skipped / Total] 78 / 34 / 19 / 131:  26%|██▌       | 131/500 [27:10<1:16:34, 12.45s/it]"
     ]
    },
    {
     "name": "stdout",
     "output_type": "stream",
     "text": [
      "--------------------------------------------- Result 131 ---------------------------------------------\n",
      "[[Negative (100%)]] --> [[Positive (77%)]]\n",
      "\n",
      "[[suffers]] from the [[lack]] of a compelling or comprehensible narrative . \n",
      "\n",
      "[[tribulations]] from the [[imperfection]] of a compelling or comprehensible narrative . \n",
      "\n",
      "\n"
     ]
    },
    {
     "name": "stderr",
     "output_type": "stream",
     "text": [
      "[Succeeded / Failed / Skipped / Total] 78 / 34 / 19 / 131:  26%|██▋       | 132/500 [27:25<1:16:27, 12.47s/it]/scratch/sp6646/envs_dirs/swap_env/lib/python3.8/site-packages/textattack/loggers/csv_logger.py:41: FutureWarning: The frame.append method is deprecated and will be removed from pandas in a future version. Use pandas.concat instead.\n",
      "  self.df = self.df.append(row, ignore_index=True)\n",
      "[Succeeded / Failed / Skipped / Total] 79 / 34 / 19 / 132:  26%|██▋       | 132/500 [27:25<1:16:27, 12.47s/it]"
     ]
    },
    {
     "name": "stdout",
     "output_type": "stream",
     "text": [
      "--------------------------------------------- Result 132 ---------------------------------------------\n",
      "[[Negative (96%)]] --> [[Positive (61%)]]\n",
      "\n",
      "in execution , this clever idea is far [[less]] funny than the original , killers from space . \n",
      "\n",
      "in execution , this clever idea is far [[modicum]] funny than the original , killers from space . \n",
      "\n",
      "\n"
     ]
    },
    {
     "name": "stderr",
     "output_type": "stream",
     "text": [
      "[Succeeded / Failed / Skipped / Total] 79 / 34 / 19 / 132:  27%|██▋       | 133/500 [27:38<1:16:15, 12.47s/it]/scratch/sp6646/envs_dirs/swap_env/lib/python3.8/site-packages/textattack/loggers/csv_logger.py:41: FutureWarning: The frame.append method is deprecated and will be removed from pandas in a future version. Use pandas.concat instead.\n",
      "  self.df = self.df.append(row, ignore_index=True)\n",
      "[Succeeded / Failed / Skipped / Total] 79 / 35 / 19 / 133:  27%|██▋       | 134/500 [27:38<1:15:29, 12.38s/it]/scratch/sp6646/envs_dirs/swap_env/lib/python3.8/site-packages/textattack/loggers/csv_logger.py:41: FutureWarning: The frame.append method is deprecated and will be removed from pandas in a future version. Use pandas.concat instead.\n",
      "  self.df = self.df.append(row, ignore_index=True)\n",
      "[Succeeded / Failed / Skipped / Total] 79 / 35 / 20 / 134:  27%|██▋       | 134/500 [27:38<1:15:29, 12.38s/it]"
     ]
    },
    {
     "name": "stdout",
     "output_type": "stream",
     "text": [
      "--------------------------------------------- Result 133 ---------------------------------------------\n",
      "[[Positive (100%)]] --> [[[FAILED]]]\n",
      "\n",
      "scooby dooby doo / and shaggy too / you both look and sound great . \n",
      "\n",
      "\n",
      "--------------------------------------------- Result 134 ---------------------------------------------\n",
      "[[Positive (66%)]] --> [[[SKIPPED]]]\n",
      "\n",
      "the tale of tok ( andy lau ) , a sleek sociopath on the trail of o ( takashi sorimachi ) , the most legendary of asian hitmen , is too scattershot to take hold . \n",
      "\n",
      "\n"
     ]
    },
    {
     "name": "stderr",
     "output_type": "stream",
     "text": [
      "[Succeeded / Failed / Skipped / Total] 79 / 35 / 20 / 134:  27%|██▋       | 135/500 [27:51<1:15:20, 12.38s/it]/scratch/sp6646/envs_dirs/swap_env/lib/python3.8/site-packages/textattack/loggers/csv_logger.py:41: FutureWarning: The frame.append method is deprecated and will be removed from pandas in a future version. Use pandas.concat instead.\n",
      "  self.df = self.df.append(row, ignore_index=True)\n",
      "[Succeeded / Failed / Skipped / Total] 80 / 35 / 20 / 135:  27%|██▋       | 135/500 [27:51<1:15:20, 12.39s/it]/scratch/sp6646/envs_dirs/swap_env/lib/python3.8/site-packages/textattack/loggers/csv_logger.py:41: FutureWarning: The frame.append method is deprecated and will be removed from pandas in a future version. Use pandas.concat instead.\n",
      "  self.df = self.df.append(row, ignore_index=True)\n",
      "[Succeeded / Failed / Skipped / Total] 80 / 35 / 21 / 136:  27%|██▋       | 136/500 [27:52<1:14:35, 12.29s/it]"
     ]
    },
    {
     "name": "stdout",
     "output_type": "stream",
     "text": [
      "--------------------------------------------- Result 135 ---------------------------------------------\n",
      "[[Negative (100%)]] --> [[Positive (52%)]]\n",
      "\n",
      "it all [[drags]] on [[so]] interminably it 's like watching a [[miserable]] relationship unfold in real time . \n",
      "\n",
      "it all [[knocks]] on [[unless]] interminably it 's like watching a [[sorrowful]] relationship unfold in real time . \n",
      "\n",
      "\n",
      "--------------------------------------------- Result 136 ---------------------------------------------\n",
      "[[Positive (88%)]] --> [[[SKIPPED]]]\n",
      "\n",
      "pumpkin means to be an outrageous dark satire on fraternity life , but its ambitions far exceed the abilities of writer adam larson broder and his co-director , tony r. abrams , in their feature debut . \n",
      "\n",
      "\n"
     ]
    },
    {
     "name": "stderr",
     "output_type": "stream",
     "text": [
      "[Succeeded / Failed / Skipped / Total] 80 / 35 / 21 / 136:  27%|██▋       | 137/500 [27:59<1:14:10, 12.26s/it]/scratch/sp6646/envs_dirs/swap_env/lib/python3.8/site-packages/textattack/loggers/csv_logger.py:41: FutureWarning: The frame.append method is deprecated and will be removed from pandas in a future version. Use pandas.concat instead.\n",
      "  self.df = self.df.append(row, ignore_index=True)\n",
      "[Succeeded / Failed / Skipped / Total] 81 / 35 / 21 / 137:  27%|██▋       | 137/500 [27:59<1:14:10, 12.26s/it]"
     ]
    },
    {
     "name": "stdout",
     "output_type": "stream",
     "text": [
      "--------------------------------------------- Result 137 ---------------------------------------------\n",
      "[[Negative (91%)]] --> [[Positive (97%)]]\n",
      "\n",
      "looks and [[feels]] like a project better suited for the small screen . \n",
      "\n",
      "looks and [[senses]] like a project better suited for the small screen . \n",
      "\n",
      "\n"
     ]
    },
    {
     "name": "stderr",
     "output_type": "stream",
     "text": [
      "/scratch/sp6646/envs_dirs/swap_env/lib/python3.8/site-packages/textattack/loggers/csv_logger.py:41: FutureWarning: The frame.append method is deprecated and will be removed from pandas in a future version. Use pandas.concat instead.\n",
      "  self.df = self.df.append(row, ignore_index=True)\n",
      "\r",
      "[Succeeded / Failed / Skipped / Total] 82 / 35 / 21 / 138:  28%|██▊       | 138/500 [28:04<1:13:38, 12.21s/it]"
     ]
    },
    {
     "name": "stdout",
     "output_type": "stream",
     "text": [
      "--------------------------------------------- Result 138 ---------------------------------------------\n",
      "[[Negative (100%)]] --> [[Positive (92%)]]\n",
      "\n",
      "forced , familiar and thoroughly [[condescending]] . \n",
      "\n",
      "forced , familiar and thoroughly [[belittling]] . \n",
      "\n",
      "\n"
     ]
    },
    {
     "name": "stderr",
     "output_type": "stream",
     "text": [
      "[Succeeded / Failed / Skipped / Total] 82 / 35 / 21 / 138:  28%|██▊       | 139/500 [28:12<1:13:14, 12.17s/it]/scratch/sp6646/envs_dirs/swap_env/lib/python3.8/site-packages/textattack/loggers/csv_logger.py:41: FutureWarning: The frame.append method is deprecated and will be removed from pandas in a future version. Use pandas.concat instead.\n",
      "  self.df = self.df.append(row, ignore_index=True)\n",
      "[Succeeded / Failed / Skipped / Total] 82 / 36 / 21 / 139:  28%|██▊       | 139/500 [28:12<1:13:14, 12.17s/it]/scratch/sp6646/envs_dirs/swap_env/lib/python3.8/site-packages/textattack/loggers/csv_logger.py:41: FutureWarning: The frame.append method is deprecated and will be removed from pandas in a future version. Use pandas.concat instead.\n",
      "  self.df = self.df.append(row, ignore_index=True)\n",
      "[Succeeded / Failed / Skipped / Total] 82 / 36 / 22 / 140:  28%|██▊       | 140/500 [28:12<1:12:30, 12.09s/it]"
     ]
    },
    {
     "name": "stdout",
     "output_type": "stream",
     "text": [
      "--------------------------------------------- Result 139 ---------------------------------------------\n",
      "[[Positive (100%)]] --> [[[FAILED]]]\n",
      "\n",
      "that is a compliment to kuras and miller . \n",
      "\n",
      "\n",
      "--------------------------------------------- Result 140 ---------------------------------------------\n",
      "[[Positive (52%)]] --> [[[SKIPPED]]]\n",
      "\n",
      "it 's not the ultimate depression-era gangster movie . \n",
      "\n",
      "\n"
     ]
    },
    {
     "name": "stderr",
     "output_type": "stream",
     "text": [
      "[Succeeded / Failed / Skipped / Total] 82 / 36 / 22 / 140:  28%|██▊       | 141/500 [28:18<1:12:05, 12.05s/it]/scratch/sp6646/envs_dirs/swap_env/lib/python3.8/site-packages/textattack/loggers/csv_logger.py:41: FutureWarning: The frame.append method is deprecated and will be removed from pandas in a future version. Use pandas.concat instead.\n",
      "  self.df = self.df.append(row, ignore_index=True)\n",
      "[Succeeded / Failed / Skipped / Total] 83 / 36 / 22 / 141:  28%|██▊       | 141/500 [28:18<1:12:05, 12.05s/it]"
     ]
    },
    {
     "name": "stdout",
     "output_type": "stream",
     "text": [
      "--------------------------------------------- Result 141 ---------------------------------------------\n",
      "[[Negative (99%)]] --> [[Positive (88%)]]\n",
      "\n",
      "[[sacrifices]] the value of its wealth of archival foot-age with its less-than-objective stance . \n",
      "\n",
      "[[offers]] the value of its wealth of archival foot-age with its less-than-objective stance . \n",
      "\n",
      "\n"
     ]
    },
    {
     "name": "stderr",
     "output_type": "stream",
     "text": [
      "/scratch/sp6646/envs_dirs/swap_env/lib/python3.8/site-packages/textattack/loggers/csv_logger.py:41: FutureWarning: The frame.append method is deprecated and will be removed from pandas in a future version. Use pandas.concat instead.\n",
      "  self.df = self.df.append(row, ignore_index=True)\n",
      "\r",
      "[Succeeded / Failed / Skipped / Total] 83 / 37 / 22 / 142:  28%|██▊       | 142/500 [28:29<1:11:49, 12.04s/it]"
     ]
    },
    {
     "name": "stdout",
     "output_type": "stream",
     "text": [
      "--------------------------------------------- Result 142 ---------------------------------------------\n",
      "[[Negative (100%)]] --> [[[FAILED]]]\n",
      "\n",
      "the character of zigzag is not sufficiently developed to support a film constructed around him . \n",
      "\n",
      "\n"
     ]
    },
    {
     "name": "stderr",
     "output_type": "stream",
     "text": [
      "[Succeeded / Failed / Skipped / Total] 83 / 37 / 22 / 142:  29%|██▊       | 143/500 [28:35<1:11:21, 11.99s/it]/scratch/sp6646/envs_dirs/swap_env/lib/python3.8/site-packages/textattack/loggers/csv_logger.py:41: FutureWarning: The frame.append method is deprecated and will be removed from pandas in a future version. Use pandas.concat instead.\n",
      "  self.df = self.df.append(row, ignore_index=True)\n",
      "[Succeeded / Failed / Skipped / Total] 84 / 37 / 22 / 143:  29%|██▊       | 143/500 [28:35<1:11:21, 11.99s/it]"
     ]
    },
    {
     "name": "stdout",
     "output_type": "stream",
     "text": [
      "--------------------------------------------- Result 143 ---------------------------------------------\n",
      "[[Positive (68%)]] --> [[Negative (85%)]]\n",
      "\n",
      "what better message than ` [[love]] thyself ' could young women of any size receive ? \n",
      "\n",
      "what better message than ` [[adores]] thyself ' could young women of any size receive ? \n",
      "\n",
      "\n"
     ]
    },
    {
     "name": "stderr",
     "output_type": "stream",
     "text": [
      "[Succeeded / Failed / Skipped / Total] 84 / 37 / 22 / 143:  29%|██▉       | 144/500 [28:45<1:11:05, 11.98s/it]/scratch/sp6646/envs_dirs/swap_env/lib/python3.8/site-packages/textattack/loggers/csv_logger.py:41: FutureWarning: The frame.append method is deprecated and will be removed from pandas in a future version. Use pandas.concat instead.\n",
      "  self.df = self.df.append(row, ignore_index=True)\n",
      "[Succeeded / Failed / Skipped / Total] 85 / 37 / 22 / 144:  29%|██▉       | 144/500 [28:45<1:11:06, 11.98s/it]"
     ]
    },
    {
     "name": "stdout",
     "output_type": "stream",
     "text": [
      "--------------------------------------------- Result 144 ---------------------------------------------\n",
      "[[Positive (100%)]] --> [[Negative (80%)]]\n",
      "\n",
      "a [[solid]] film ... but more conscientious than it is [[truly]] stirring . \n",
      "\n",
      "a [[audio]] film ... but more conscientious than it is [[altogether]] stirring . \n",
      "\n",
      "\n"
     ]
    },
    {
     "name": "stderr",
     "output_type": "stream",
     "text": [
      "[Succeeded / Failed / Skipped / Total] 85 / 37 / 22 / 144:  29%|██▉       | 145/500 [29:08<1:11:20, 12.06s/it]/scratch/sp6646/envs_dirs/swap_env/lib/python3.8/site-packages/textattack/loggers/csv_logger.py:41: FutureWarning: The frame.append method is deprecated and will be removed from pandas in a future version. Use pandas.concat instead.\n",
      "  self.df = self.df.append(row, ignore_index=True)\n",
      "[Succeeded / Failed / Skipped / Total] 85 / 38 / 22 / 145:  29%|██▉       | 145/500 [29:08<1:11:20, 12.06s/it]"
     ]
    },
    {
     "name": "stdout",
     "output_type": "stream",
     "text": [
      "--------------------------------------------- Result 145 ---------------------------------------------\n",
      "[[Negative (91%)]] --> [[[FAILED]]]\n",
      "\n",
      "while ( hill ) has learned new tricks , the tricks alone are not enough to salvage this lifeless boxing film . \n",
      "\n",
      "\n"
     ]
    },
    {
     "name": "stderr",
     "output_type": "stream",
     "text": [
      "[Succeeded / Failed / Skipped / Total] 85 / 38 / 22 / 145:  29%|██▉       | 146/500 [29:09<1:10:40, 11.98s/it]/scratch/sp6646/envs_dirs/swap_env/lib/python3.8/site-packages/textattack/loggers/csv_logger.py:41: FutureWarning: The frame.append method is deprecated and will be removed from pandas in a future version. Use pandas.concat instead.\n",
      "  self.df = self.df.append(row, ignore_index=True)\n",
      "[Succeeded / Failed / Skipped / Total] 85 / 38 / 23 / 146:  29%|██▉       | 146/500 [29:09<1:10:40, 11.98s/it]"
     ]
    },
    {
     "name": "stdout",
     "output_type": "stream",
     "text": [
      "--------------------------------------------- Result 146 ---------------------------------------------\n",
      "[[Positive (98%)]] --> [[[SKIPPED]]]\n",
      "\n",
      "the best that can be said about the work here of scottish director ritchie ... is that he obviously does n't have his heart in it . \n",
      "\n",
      "\n"
     ]
    },
    {
     "name": "stderr",
     "output_type": "stream",
     "text": [
      "[Succeeded / Failed / Skipped / Total] 85 / 38 / 23 / 146:  29%|██▉       | 147/500 [29:25<1:10:39, 12.01s/it]/scratch/sp6646/envs_dirs/swap_env/lib/python3.8/site-packages/textattack/loggers/csv_logger.py:41: FutureWarning: The frame.append method is deprecated and will be removed from pandas in a future version. Use pandas.concat instead.\n",
      "  self.df = self.df.append(row, ignore_index=True)\n",
      "[Succeeded / Failed / Skipped / Total] 86 / 38 / 23 / 147:  29%|██▉       | 147/500 [29:25<1:10:39, 12.01s/it]"
     ]
    },
    {
     "name": "stdout",
     "output_type": "stream",
     "text": [
      "--------------------------------------------- Result 147 ---------------------------------------------\n",
      "[[Positive (99%)]] --> [[Negative (67%)]]\n",
      "\n",
      "about a manga-like [[heroine]] who fights back at her [[abusers]] , it 's [[energetic]] and [[satisfying]] if not deep and psychological . \n",
      "\n",
      "about a manga-like [[hero]] who fights back at her [[molesters]] , it 's [[emphatic]] and [[fecund]] if not deep and psychological . \n",
      "\n",
      "\n"
     ]
    },
    {
     "name": "stderr",
     "output_type": "stream",
     "text": [
      "[Succeeded / Failed / Skipped / Total] 86 / 38 / 23 / 147:  30%|██▉       | 148/500 [29:54<1:11:07, 12.12s/it]/scratch/sp6646/envs_dirs/swap_env/lib/python3.8/site-packages/textattack/loggers/csv_logger.py:41: FutureWarning: The frame.append method is deprecated and will be removed from pandas in a future version. Use pandas.concat instead.\n",
      "  self.df = self.df.append(row, ignore_index=True)\n",
      "[Succeeded / Failed / Skipped / Total] 86 / 39 / 23 / 148:  30%|██▉       | 148/500 [29:54<1:11:07, 12.12s/it]"
     ]
    },
    {
     "name": "stdout",
     "output_type": "stream",
     "text": [
      "--------------------------------------------- Result 148 ---------------------------------------------\n",
      "[[Negative (98%)]] --> [[[FAILED]]]\n",
      "\n",
      "the talented and clever robert rodriguez perhaps put a little too much heart into his first film and did n't reserve enough for his second . \n",
      "\n",
      "\n"
     ]
    },
    {
     "name": "stderr",
     "output_type": "stream",
     "text": [
      "[Succeeded / Failed / Skipped / Total] 86 / 39 / 23 / 148:  30%|██▉       | 149/500 [30:07<1:10:58, 12.13s/it]/scratch/sp6646/envs_dirs/swap_env/lib/python3.8/site-packages/textattack/loggers/csv_logger.py:41: FutureWarning: The frame.append method is deprecated and will be removed from pandas in a future version. Use pandas.concat instead.\n",
      "  self.df = self.df.append(row, ignore_index=True)\n",
      "[Succeeded / Failed / Skipped / Total] 86 / 40 / 23 / 149:  30%|██▉       | 149/500 [30:07<1:10:58, 12.13s/it]"
     ]
    },
    {
     "name": "stdout",
     "output_type": "stream",
     "text": [
      "--------------------------------------------- Result 149 ---------------------------------------------\n",
      "[[Negative (97%)]] --> [[[FAILED]]]\n",
      "\n",
      "feels too formulaic and too familiar to produce the transgressive thrills of early underground work . \n",
      "\n",
      "\n"
     ]
    },
    {
     "name": "stderr",
     "output_type": "stream",
     "text": [
      "[Succeeded / Failed / Skipped / Total] 86 / 40 / 23 / 149:  30%|███       | 150/500 [30:35<1:11:22, 12.24s/it]/scratch/sp6646/envs_dirs/swap_env/lib/python3.8/site-packages/textattack/loggers/csv_logger.py:41: FutureWarning: The frame.append method is deprecated and will be removed from pandas in a future version. Use pandas.concat instead.\n",
      "  self.df = self.df.append(row, ignore_index=True)\n",
      "[Succeeded / Failed / Skipped / Total] 87 / 40 / 23 / 150:  30%|███       | 150/500 [30:35<1:11:22, 12.24s/it]"
     ]
    },
    {
     "name": "stdout",
     "output_type": "stream",
     "text": [
      "--------------------------------------------- Result 150 ---------------------------------------------\n",
      "[[Positive (100%)]] --> [[Negative (72%)]]\n",
      "\n",
      "the volatile dynamics of female friendship is the subject of this unhurried , low-key film that is so off-hollywood that it seems [[positively]] french in its [[rhythms]] and resonance . \n",
      "\n",
      "the volatile dynamics of female friendship is the subject of this unhurried , low-key film that is so off-hollywood that it seems [[strenuously]] french in its [[tempos]] and resonance . \n",
      "\n",
      "\n"
     ]
    },
    {
     "name": "stderr",
     "output_type": "stream",
     "text": [
      "[Succeeded / Failed / Skipped / Total] 87 / 40 / 23 / 150:  30%|███       | 151/500 [30:46<1:11:06, 12.23s/it]/scratch/sp6646/envs_dirs/swap_env/lib/python3.8/site-packages/textattack/loggers/csv_logger.py:41: FutureWarning: The frame.append method is deprecated and will be removed from pandas in a future version. Use pandas.concat instead.\n",
      "  self.df = self.df.append(row, ignore_index=True)\n",
      "[Succeeded / Failed / Skipped / Total] 88 / 40 / 23 / 151:  30%|███       | 151/500 [30:46<1:11:06, 12.23s/it]"
     ]
    },
    {
     "name": "stdout",
     "output_type": "stream",
     "text": [
      "--------------------------------------------- Result 151 ---------------------------------------------\n",
      "[[Positive (100%)]] --> [[Negative (100%)]]\n",
      "\n",
      "overall [[very]] [[good]] for what it 's trying to do . \n",
      "\n",
      "overall [[severely]] [[adequate]] for what it 's trying to do . \n",
      "\n",
      "\n"
     ]
    },
    {
     "name": "stderr",
     "output_type": "stream",
     "text": [
      "[Succeeded / Failed / Skipped / Total] 88 / 40 / 23 / 151:  30%|███       | 152/500 [30:55<1:10:48, 12.21s/it]/scratch/sp6646/envs_dirs/swap_env/lib/python3.8/site-packages/textattack/loggers/csv_logger.py:41: FutureWarning: The frame.append method is deprecated and will be removed from pandas in a future version. Use pandas.concat instead.\n",
      "  self.df = self.df.append(row, ignore_index=True)\n",
      "[Succeeded / Failed / Skipped / Total] 88 / 41 / 23 / 152:  30%|███       | 152/500 [30:55<1:10:48, 12.21s/it]"
     ]
    },
    {
     "name": "stdout",
     "output_type": "stream",
     "text": [
      "--------------------------------------------- Result 152 ---------------------------------------------\n",
      "[[Positive (100%)]] --> [[[FAILED]]]\n",
      "\n",
      "a big , gorgeous , sprawling swashbuckler that delivers its diversions in grand , uncomplicated fashion . \n",
      "\n",
      "\n"
     ]
    },
    {
     "name": "stderr",
     "output_type": "stream",
     "text": [
      "[Succeeded / Failed / Skipped / Total] 88 / 41 / 23 / 152:  31%|███       | 153/500 [31:11<1:10:43, 12.23s/it]/scratch/sp6646/envs_dirs/swap_env/lib/python3.8/site-packages/textattack/loggers/csv_logger.py:41: FutureWarning: The frame.append method is deprecated and will be removed from pandas in a future version. Use pandas.concat instead.\n",
      "  self.df = self.df.append(row, ignore_index=True)\n",
      "[Succeeded / Failed / Skipped / Total] 89 / 41 / 23 / 153:  31%|███       | 153/500 [31:11<1:10:43, 12.23s/it]"
     ]
    },
    {
     "name": "stdout",
     "output_type": "stream",
     "text": [
      "--------------------------------------------- Result 153 ---------------------------------------------\n",
      "[[Positive (97%)]] --> [[Negative (88%)]]\n",
      "\n",
      "a difficult , [[absorbing]] film that manages to convey more substance despite its repetitions and inconsistencies than do most films than are far more pointed and clear . \n",
      "\n",
      "a difficult , [[getting]] film that manages to convey more substance despite its repetitions and inconsistencies than do most films than are far more pointed and clear . \n",
      "\n",
      "\n"
     ]
    },
    {
     "name": "stderr",
     "output_type": "stream",
     "text": [
      "[Succeeded / Failed / Skipped / Total] 89 / 41 / 23 / 153:  31%|███       | 154/500 [31:16<1:10:16, 12.19s/it]/scratch/sp6646/envs_dirs/swap_env/lib/python3.8/site-packages/textattack/loggers/csv_logger.py:41: FutureWarning: The frame.append method is deprecated and will be removed from pandas in a future version. Use pandas.concat instead.\n",
      "  self.df = self.df.append(row, ignore_index=True)\n",
      "[Succeeded / Failed / Skipped / Total] 90 / 41 / 23 / 154:  31%|███       | 154/500 [31:16<1:10:16, 12.19s/it]"
     ]
    },
    {
     "name": "stdout",
     "output_type": "stream",
     "text": [
      "--------------------------------------------- Result 154 ---------------------------------------------\n",
      "[[Negative (99%)]] --> [[Positive (73%)]]\n",
      "\n",
      "the heavy-handed film is almost [[laughable]] as a consequence . \n",
      "\n",
      "the heavy-handed film is almost [[nutty]] as a consequence . \n",
      "\n",
      "\n"
     ]
    },
    {
     "name": "stderr",
     "output_type": "stream",
     "text": [
      "[Succeeded / Failed / Skipped / Total] 90 / 41 / 23 / 154:  31%|███       | 155/500 [31:23<1:09:52, 12.15s/it]/scratch/sp6646/envs_dirs/swap_env/lib/python3.8/site-packages/textattack/loggers/csv_logger.py:41: FutureWarning: The frame.append method is deprecated and will be removed from pandas in a future version. Use pandas.concat instead.\n",
      "  self.df = self.df.append(row, ignore_index=True)\n",
      "[Succeeded / Failed / Skipped / Total] 91 / 41 / 23 / 155:  31%|███       | 155/500 [31:23<1:09:52, 12.15s/it]"
     ]
    },
    {
     "name": "stdout",
     "output_type": "stream",
     "text": [
      "--------------------------------------------- Result 155 ---------------------------------------------\n",
      "[[Positive (100%)]] --> [[Negative (69%)]]\n",
      "\n",
      "a [[solid]] examination of the male midlife crisis . \n",
      "\n",
      "a [[audio]] examination of the male midlife crisis . \n",
      "\n",
      "\n"
     ]
    },
    {
     "name": "stderr",
     "output_type": "stream",
     "text": [
      "[Succeeded / Failed / Skipped / Total] 91 / 41 / 23 / 155:  31%|███       | 156/500 [31:39<1:09:49, 12.18s/it]/scratch/sp6646/envs_dirs/swap_env/lib/python3.8/site-packages/textattack/loggers/csv_logger.py:41: FutureWarning: The frame.append method is deprecated and will be removed from pandas in a future version. Use pandas.concat instead.\n",
      "  self.df = self.df.append(row, ignore_index=True)\n",
      "[Succeeded / Failed / Skipped / Total] 92 / 41 / 23 / 156:  31%|███       | 156/500 [31:40<1:09:49, 12.18s/it]"
     ]
    },
    {
     "name": "stdout",
     "output_type": "stream",
     "text": [
      "--------------------------------------------- Result 156 ---------------------------------------------\n",
      "[[Negative (100%)]] --> [[Positive (89%)]]\n",
      "\n",
      "a [[nightmare]] date with a half-formed wit done a great disservice by a lack of critical distance and a sad trust in liberal arts college bumper sticker [[platitudes]] . \n",
      "\n",
      "a [[dream]] date with a half-formed wit done a great disservice by a lack of critical distance and a sad trust in liberal arts college bumper sticker [[trivialities]] . \n",
      "\n",
      "\n"
     ]
    },
    {
     "name": "stderr",
     "output_type": "stream",
     "text": [
      "[Succeeded / Failed / Skipped / Total] 92 / 41 / 23 / 156:  31%|███▏      | 157/500 [31:46<1:09:26, 12.15s/it]/scratch/sp6646/envs_dirs/swap_env/lib/python3.8/site-packages/textattack/loggers/csv_logger.py:41: FutureWarning: The frame.append method is deprecated and will be removed from pandas in a future version. Use pandas.concat instead.\n",
      "  self.df = self.df.append(row, ignore_index=True)\n",
      "[Succeeded / Failed / Skipped / Total] 93 / 41 / 23 / 157:  31%|███▏      | 157/500 [31:47<1:09:26, 12.15s/it]"
     ]
    },
    {
     "name": "stdout",
     "output_type": "stream",
     "text": [
      "--------------------------------------------- Result 157 ---------------------------------------------\n",
      "[[Positive (99%)]] --> [[Negative (85%)]]\n",
      "\n",
      "[[manages]] to transcend the [[sex]] , drugs and show-tunes plot into something far [[richer]] . \n",
      "\n",
      "[[run]] to transcend the [[nudity]] , drugs and show-tunes plot into something far [[enrich]] . \n",
      "\n",
      "\n"
     ]
    },
    {
     "name": "stderr",
     "output_type": "stream",
     "text": [
      "[Succeeded / Failed / Skipped / Total] 93 / 41 / 23 / 157:  32%|███▏      | 158/500 [31:50<1:08:54, 12.09s/it]/scratch/sp6646/envs_dirs/swap_env/lib/python3.8/site-packages/textattack/loggers/csv_logger.py:41: FutureWarning: The frame.append method is deprecated and will be removed from pandas in a future version. Use pandas.concat instead.\n",
      "  self.df = self.df.append(row, ignore_index=True)\n",
      "[Succeeded / Failed / Skipped / Total] 94 / 41 / 23 / 158:  32%|███▏      | 158/500 [31:50<1:08:54, 12.09s/it]"
     ]
    },
    {
     "name": "stdout",
     "output_type": "stream",
     "text": [
      "--------------------------------------------- Result 158 ---------------------------------------------\n",
      "[[Negative (100%)]] --> [[Positive (93%)]]\n",
      "\n",
      "it takes talent to make a [[lifeless]] movie about the most heinous man who ever lived . \n",
      "\n",
      "it takes talent to make a [[forlorn]] movie about the most heinous man who ever lived . \n",
      "\n",
      "\n"
     ]
    },
    {
     "name": "stderr",
     "output_type": "stream",
     "text": [
      "[Succeeded / Failed / Skipped / Total] 94 / 41 / 23 / 158:  32%|███▏      | 159/500 [31:50<1:08:17, 12.02s/it]/scratch/sp6646/envs_dirs/swap_env/lib/python3.8/site-packages/textattack/loggers/csv_logger.py:41: FutureWarning: The frame.append method is deprecated and will be removed from pandas in a future version. Use pandas.concat instead.\n",
      "  self.df = self.df.append(row, ignore_index=True)\n",
      "[Succeeded / Failed / Skipped / Total] 94 / 41 / 24 / 159:  32%|███▏      | 159/500 [31:50<1:08:17, 12.02s/it]"
     ]
    },
    {
     "name": "stdout",
     "output_type": "stream",
     "text": [
      "--------------------------------------------- Result 159 ---------------------------------------------\n",
      "[[Positive (66%)]] --> [[[SKIPPED]]]\n",
      "\n",
      "by getting myself wrapped up in the visuals and eccentricities of many of the characters , i found myself confused when it came time to get to the heart of the movie . \n",
      "\n",
      "\n"
     ]
    },
    {
     "name": "stderr",
     "output_type": "stream",
     "text": [
      "[Succeeded / Failed / Skipped / Total] 94 / 41 / 24 / 159:  32%|███▏      | 160/500 [31:52<1:07:44, 11.95s/it]/scratch/sp6646/envs_dirs/swap_env/lib/python3.8/site-packages/textattack/loggers/csv_logger.py:41: FutureWarning: The frame.append method is deprecated and will be removed from pandas in a future version. Use pandas.concat instead.\n",
      "  self.df = self.df.append(row, ignore_index=True)\n",
      "[Succeeded / Failed / Skipped / Total] 95 / 41 / 24 / 160:  32%|███▏      | 160/500 [31:52<1:07:44, 11.95s/it]"
     ]
    },
    {
     "name": "stdout",
     "output_type": "stream",
     "text": [
      "--------------------------------------------- Result 160 ---------------------------------------------\n",
      "[[Positive (100%)]] --> [[Negative (97%)]]\n",
      "\n",
      "like leon , it 's frustrating and still oddly [[likable]] . \n",
      "\n",
      "like leon , it 's frustrating and still oddly [[unlikable]] . \n",
      "\n",
      "\n"
     ]
    },
    {
     "name": "stderr",
     "output_type": "stream",
     "text": [
      "[Succeeded / Failed / Skipped / Total] 95 / 41 / 24 / 160:  32%|███▏      | 161/500 [32:14<1:07:53, 12.02s/it]/scratch/sp6646/envs_dirs/swap_env/lib/python3.8/site-packages/textattack/loggers/csv_logger.py:41: FutureWarning: The frame.append method is deprecated and will be removed from pandas in a future version. Use pandas.concat instead.\n",
      "  self.df = self.df.append(row, ignore_index=True)\n",
      "[Succeeded / Failed / Skipped / Total] 96 / 41 / 24 / 161:  32%|███▏      | 161/500 [32:14<1:07:53, 12.02s/it]"
     ]
    },
    {
     "name": "stdout",
     "output_type": "stream",
     "text": [
      "--------------------------------------------- Result 161 ---------------------------------------------\n",
      "[[Negative (96%)]] --> [[Positive (78%)]]\n",
      "\n",
      "uncommonly stylish but equally silly ... the picture [[fails]] to generate much suspense , nor does it ask searching enough questions to justify its pretensions . \n",
      "\n",
      "uncommonly stylish but equally silly ... the picture [[omitting]] to generate much suspense , nor does it ask searching enough questions to justify its pretensions . \n",
      "\n",
      "\n"
     ]
    },
    {
     "name": "stderr",
     "output_type": "stream",
     "text": [
      "[Succeeded / Failed / Skipped / Total] 96 / 41 / 24 / 161:  32%|███▏      | 162/500 [32:19<1:07:27, 11.97s/it]/scratch/sp6646/envs_dirs/swap_env/lib/python3.8/site-packages/textattack/loggers/csv_logger.py:41: FutureWarning: The frame.append method is deprecated and will be removed from pandas in a future version. Use pandas.concat instead.\n",
      "  self.df = self.df.append(row, ignore_index=True)\n",
      "[Succeeded / Failed / Skipped / Total] 97 / 41 / 24 / 162:  32%|███▏      | 162/500 [32:19<1:07:27, 11.97s/it]"
     ]
    },
    {
     "name": "stdout",
     "output_type": "stream",
     "text": [
      "--------------------------------------------- Result 162 ---------------------------------------------\n",
      "[[Negative (94%)]] --> [[Positive (97%)]]\n",
      "\n",
      "not [[exactly]] the bees [[knees]] \n",
      "\n",
      "not [[downright]] the bees [[aching]] \n",
      "\n",
      "\n"
     ]
    },
    {
     "name": "stderr",
     "output_type": "stream",
     "text": [
      "[Succeeded / Failed / Skipped / Total] 97 / 41 / 24 / 162:  33%|███▎      | 163/500 [32:45<1:07:43, 12.06s/it]/scratch/sp6646/envs_dirs/swap_env/lib/python3.8/site-packages/textattack/loggers/csv_logger.py:41: FutureWarning: The frame.append method is deprecated and will be removed from pandas in a future version. Use pandas.concat instead.\n",
      "  self.df = self.df.append(row, ignore_index=True)\n",
      "[Succeeded / Failed / Skipped / Total] 97 / 42 / 24 / 163:  33%|███▎      | 163/500 [32:45<1:07:43, 12.06s/it]"
     ]
    },
    {
     "name": "stdout",
     "output_type": "stream",
     "text": [
      "--------------------------------------------- Result 163 ---------------------------------------------\n",
      "[[Negative (93%)]] --> [[[FAILED]]]\n",
      "\n",
      "there seems to be no clear path as to where the story 's going , or how long it 's going to take to get there . \n",
      "\n",
      "\n"
     ]
    },
    {
     "name": "stderr",
     "output_type": "stream",
     "text": [
      "[Succeeded / Failed / Skipped / Total] 97 / 42 / 24 / 163:  33%|███▎      | 164/500 [33:18<1:08:14, 12.19s/it]/scratch/sp6646/envs_dirs/swap_env/lib/python3.8/site-packages/textattack/loggers/csv_logger.py:41: FutureWarning: The frame.append method is deprecated and will be removed from pandas in a future version. Use pandas.concat instead.\n",
      "  self.df = self.df.append(row, ignore_index=True)\n",
      "[Succeeded / Failed / Skipped / Total] 97 / 43 / 24 / 164:  33%|███▎      | 164/500 [33:18<1:08:14, 12.19s/it]"
     ]
    },
    {
     "name": "stdout",
     "output_type": "stream",
     "text": [
      "--------------------------------------------- Result 164 ---------------------------------------------\n",
      "[[Negative (100%)]] --> [[[FAILED]]]\n",
      "\n",
      "slapstick buffoonery can tickle many a preschooler 's fancy , but when it costs a family of four about $ 40 to see a film in theaters , why spend money on a dog like this when you can rent a pedigree instead ? \n",
      "\n",
      "\n"
     ]
    },
    {
     "name": "stderr",
     "output_type": "stream",
     "text": [
      "[Succeeded / Failed / Skipped / Total] 97 / 43 / 24 / 164:  33%|███▎      | 165/500 [33:24<1:07:50, 12.15s/it]/scratch/sp6646/envs_dirs/swap_env/lib/python3.8/site-packages/textattack/loggers/csv_logger.py:41: FutureWarning: The frame.append method is deprecated and will be removed from pandas in a future version. Use pandas.concat instead.\n",
      "  self.df = self.df.append(row, ignore_index=True)\n",
      "[Succeeded / Failed / Skipped / Total] 98 / 43 / 24 / 165:  33%|███▎      | 165/500 [33:24<1:07:50, 12.15s/it]"
     ]
    },
    {
     "name": "stdout",
     "output_type": "stream",
     "text": [
      "--------------------------------------------- Result 165 ---------------------------------------------\n",
      "[[Positive (99%)]] --> [[Negative (100%)]]\n",
      "\n",
      "a [[woman]] 's pic directed with resonance by ilya chaiken . \n",
      "\n",
      "a [[maid]] 's pic directed with resonance by ilya chaiken . \n",
      "\n",
      "\n"
     ]
    },
    {
     "name": "stderr",
     "output_type": "stream",
     "text": [
      "[Succeeded / Failed / Skipped / Total] 98 / 43 / 24 / 165:  33%|███▎      | 166/500 [33:33<1:07:31, 12.13s/it]/scratch/sp6646/envs_dirs/swap_env/lib/python3.8/site-packages/textattack/loggers/csv_logger.py:41: FutureWarning: The frame.append method is deprecated and will be removed from pandas in a future version. Use pandas.concat instead.\n",
      "  self.df = self.df.append(row, ignore_index=True)\n",
      "[Succeeded / Failed / Skipped / Total] 99 / 43 / 24 / 166:  33%|███▎      | 166/500 [33:33<1:07:31, 12.13s/it]"
     ]
    },
    {
     "name": "stdout",
     "output_type": "stream",
     "text": [
      "--------------------------------------------- Result 166 ---------------------------------------------\n",
      "[[Negative (98%)]] --> [[Positive (59%)]]\n",
      "\n",
      "may reawaken discussion of the kennedy [[assassination]] but this fictional film looks made for cable rather than for the big screen . \n",
      "\n",
      "may reawaken discussion of the kennedy [[dying]] but this fictional film looks made for cable rather than for the big screen . \n",
      "\n",
      "\n"
     ]
    },
    {
     "name": "stderr",
     "output_type": "stream",
     "text": [
      "[Succeeded / Failed / Skipped / Total] 99 / 43 / 24 / 166:  33%|███▎      | 167/500 [33:59<1:07:47, 12.21s/it]/scratch/sp6646/envs_dirs/swap_env/lib/python3.8/site-packages/textattack/loggers/csv_logger.py:41: FutureWarning: The frame.append method is deprecated and will be removed from pandas in a future version. Use pandas.concat instead.\n",
      "  self.df = self.df.append(row, ignore_index=True)\n",
      "[Succeeded / Failed / Skipped / Total] 100 / 43 / 24 / 167:  33%|███▎      | 167/500 [33:59<1:07:47, 12.21s/it]"
     ]
    },
    {
     "name": "stdout",
     "output_type": "stream",
     "text": [
      "--------------------------------------------- Result 167 ---------------------------------------------\n",
      "[[Negative (90%)]] --> [[Positive (87%)]]\n",
      "\n",
      "characters still [[need]] to function according to some set of believable and comprehensible impulses , no matter how many drugs they do or how much artistic license avary employs . \n",
      "\n",
      "characters still [[requisite]] to function according to some set of believable and comprehensible impulses , no matter how many drugs they do or how much artistic license avary employs . \n",
      "\n",
      "\n"
     ]
    },
    {
     "name": "stderr",
     "output_type": "stream",
     "text": [
      "[Succeeded / Failed / Skipped / Total] 100 / 43 / 24 / 167:  34%|███▎      | 168/500 [34:10<1:07:31, 12.20s/it]/scratch/sp6646/envs_dirs/swap_env/lib/python3.8/site-packages/textattack/loggers/csv_logger.py:41: FutureWarning: The frame.append method is deprecated and will be removed from pandas in a future version. Use pandas.concat instead.\n",
      "  self.df = self.df.append(row, ignore_index=True)\n",
      "[Succeeded / Failed / Skipped / Total] 101 / 43 / 24 / 168:  34%|███▎      | 168/500 [34:10<1:07:31, 12.20s/it]"
     ]
    },
    {
     "name": "stdout",
     "output_type": "stream",
     "text": [
      "--------------------------------------------- Result 168 ---------------------------------------------\n",
      "[[Negative (98%)]] --> [[Positive (53%)]]\n",
      "\n",
      "the [[end]] [[result]] is a film that 's neither . \n",
      "\n",
      "the [[completes]] [[achievements]] is a film that 's neither . \n",
      "\n",
      "\n"
     ]
    },
    {
     "name": "stderr",
     "output_type": "stream",
     "text": [
      "[Succeeded / Failed / Skipped / Total] 101 / 43 / 24 / 168:  34%|███▍      | 169/500 [34:19<1:07:14, 12.19s/it]/scratch/sp6646/envs_dirs/swap_env/lib/python3.8/site-packages/textattack/loggers/csv_logger.py:41: FutureWarning: The frame.append method is deprecated and will be removed from pandas in a future version. Use pandas.concat instead.\n",
      "  self.df = self.df.append(row, ignore_index=True)\n",
      "[Succeeded / Failed / Skipped / Total] 102 / 43 / 24 / 169:  34%|███▍      | 169/500 [34:19<1:07:14, 12.19s/it]"
     ]
    },
    {
     "name": "stdout",
     "output_type": "stream",
     "text": [
      "--------------------------------------------- Result 169 ---------------------------------------------\n",
      "[[Positive (100%)]] --> [[Negative (88%)]]\n",
      "\n",
      "[[manages]] to be sweet and [[wickedly]] [[satisfying]] at the same time . \n",
      "\n",
      "[[run]] to be sweet and [[cruelly]] [[contented]] at the same time . \n",
      "\n",
      "\n"
     ]
    },
    {
     "name": "stderr",
     "output_type": "stream",
     "text": [
      "[Succeeded / Failed / Skipped / Total] 102 / 43 / 24 / 169:  34%|███▍      | 170/500 [34:30<1:06:58, 12.18s/it]/scratch/sp6646/envs_dirs/swap_env/lib/python3.8/site-packages/textattack/loggers/csv_logger.py:41: FutureWarning: The frame.append method is deprecated and will be removed from pandas in a future version. Use pandas.concat instead.\n",
      "  self.df = self.df.append(row, ignore_index=True)\n",
      "[Succeeded / Failed / Skipped / Total] 103 / 43 / 24 / 170:  34%|███▍      | 170/500 [34:30<1:06:58, 12.18s/it]"
     ]
    },
    {
     "name": "stdout",
     "output_type": "stream",
     "text": [
      "--------------------------------------------- Result 170 ---------------------------------------------\n",
      "[[Positive (100%)]] --> [[Negative (55%)]]\n",
      "\n",
      "leigh 's [[film]] is full of [[memorable]] [[performances]] from top to bottom . \n",
      "\n",
      "leigh 's [[filming]] is full of [[prominent]] [[spectacles]] from top to bottom . \n",
      "\n",
      "\n"
     ]
    },
    {
     "name": "stderr",
     "output_type": "stream",
     "text": [
      "[Succeeded / Failed / Skipped / Total] 103 / 43 / 24 / 170:  34%|███▍      | 171/500 [34:36<1:06:34, 12.14s/it]/scratch/sp6646/envs_dirs/swap_env/lib/python3.8/site-packages/textattack/loggers/csv_logger.py:41: FutureWarning: The frame.append method is deprecated and will be removed from pandas in a future version. Use pandas.concat instead.\n",
      "  self.df = self.df.append(row, ignore_index=True)\n",
      "[Succeeded / Failed / Skipped / Total] 104 / 43 / 24 / 171:  34%|███▍      | 171/500 [34:36<1:06:34, 12.14s/it]/scratch/sp6646/envs_dirs/swap_env/lib/python3.8/site-packages/textattack/loggers/csv_logger.py:41: FutureWarning: The frame.append method is deprecated and will be removed from pandas in a future version. Use pandas.concat instead.\n",
      "  self.df = self.df.append(row, ignore_index=True)\n",
      "[Succeeded / Failed / Skipped / Total] 104 / 43 / 25 / 172:  34%|███▍      | 172/500 [34:36<1:05:59, 12.07s/it]"
     ]
    },
    {
     "name": "stdout",
     "output_type": "stream",
     "text": [
      "--------------------------------------------- Result 171 ---------------------------------------------\n",
      "[[Positive (100%)]] --> [[Negative (55%)]]\n",
      "\n",
      "it 's also , clearly , great [[fun]] . \n",
      "\n",
      "it 's also , clearly , great [[distracting]] . \n",
      "\n",
      "\n",
      "--------------------------------------------- Result 172 ---------------------------------------------\n",
      "[[Positive (99%)]] --> [[[SKIPPED]]]\n",
      "\n",
      "rarely has leukemia looked so shimmering and benign . \n",
      "\n",
      "\n"
     ]
    },
    {
     "name": "stderr",
     "output_type": "stream",
     "text": [
      "[Succeeded / Failed / Skipped / Total] 104 / 43 / 25 / 172:  35%|███▍      | 173/500 [34:36<1:05:25, 12.00s/it]/scratch/sp6646/envs_dirs/swap_env/lib/python3.8/site-packages/textattack/loggers/csv_logger.py:41: FutureWarning: The frame.append method is deprecated and will be removed from pandas in a future version. Use pandas.concat instead.\n",
      "  self.df = self.df.append(row, ignore_index=True)\n",
      "[Succeeded / Failed / Skipped / Total] 104 / 43 / 26 / 173:  35%|███▍      | 173/500 [34:36<1:05:25, 12.00s/it]"
     ]
    },
    {
     "name": "stdout",
     "output_type": "stream",
     "text": [
      "--------------------------------------------- Result 173 ---------------------------------------------\n",
      "[[Negative (97%)]] --> [[[SKIPPED]]]\n",
      "\n",
      "it seems like i have been waiting my whole life for this movie and now i ca n't wait for the sequel . \n",
      "\n",
      "\n"
     ]
    },
    {
     "name": "stderr",
     "output_type": "stream",
     "text": [
      "/scratch/sp6646/envs_dirs/swap_env/lib/python3.8/site-packages/textattack/loggers/csv_logger.py:41: FutureWarning: The frame.append method is deprecated and will be removed from pandas in a future version. Use pandas.concat instead.\n",
      "  self.df = self.df.append(row, ignore_index=True)\n",
      "[Succeeded / Failed / Skipped / Total] 105 / 43 / 26 / 174:  35%|███▌      | 175/500 [34:52<1:04:45, 11.95s/it]/scratch/sp6646/envs_dirs/swap_env/lib/python3.8/site-packages/textattack/loggers/csv_logger.py:41: FutureWarning: The frame.append method is deprecated and will be removed from pandas in a future version. Use pandas.concat instead.\n",
      "  self.df = self.df.append(row, ignore_index=True)\n",
      "[Succeeded / Failed / Skipped / Total] 105 / 43 / 27 / 175:  35%|███▌      | 175/500 [34:52<1:04:45, 11.95s/it]"
     ]
    },
    {
     "name": "stdout",
     "output_type": "stream",
     "text": [
      "--------------------------------------------- Result 174 ---------------------------------------------\n",
      "[[Negative (71%)]] --> [[Positive (85%)]]\n",
      "\n",
      "determined to be fun , and bouncy , with energetic musicals , the humor did n't [[quite]] engage this adult . \n",
      "\n",
      "determined to be fun , and bouncy , with energetic musicals , the humor did n't [[supremely]] engage this adult . \n",
      "\n",
      "\n",
      "--------------------------------------------- Result 175 ---------------------------------------------\n",
      "[[Negative (97%)]] --> [[[SKIPPED]]]\n",
      "\n",
      "if you dig on david mamet 's mind tricks ... rent this movie and enjoy ! \n",
      "\n",
      "\n"
     ]
    },
    {
     "name": "stderr",
     "output_type": "stream",
     "text": [
      "[Succeeded / Failed / Skipped / Total] 105 / 43 / 27 / 175:  35%|███▌      | 176/500 [34:56<1:04:19, 11.91s/it]/scratch/sp6646/envs_dirs/swap_env/lib/python3.8/site-packages/textattack/loggers/csv_logger.py:41: FutureWarning: The frame.append method is deprecated and will be removed from pandas in a future version. Use pandas.concat instead.\n",
      "  self.df = self.df.append(row, ignore_index=True)\n",
      "[Succeeded / Failed / Skipped / Total] 106 / 43 / 27 / 176:  35%|███▌      | 176/500 [34:56<1:04:19, 11.91s/it]"
     ]
    },
    {
     "name": "stdout",
     "output_type": "stream",
     "text": [
      "--------------------------------------------- Result 176 ---------------------------------------------\n",
      "[[Positive (94%)]] --> [[Negative (50%)]]\n",
      "\n",
      "bleakly [[funny]] , its characters all the more touching for refusing to pity or memorialize themselves . \n",
      "\n",
      "bleakly [[humorist]] , its characters all the more touching for refusing to pity or memorialize themselves . \n",
      "\n",
      "\n"
     ]
    },
    {
     "name": "stderr",
     "output_type": "stream",
     "text": [
      "[Succeeded / Failed / Skipped / Total] 106 / 43 / 27 / 176:  35%|███▌      | 177/500 [35:13<1:04:16, 11.94s/it]/scratch/sp6646/envs_dirs/swap_env/lib/python3.8/site-packages/textattack/loggers/csv_logger.py:41: FutureWarning: The frame.append method is deprecated and will be removed from pandas in a future version. Use pandas.concat instead.\n",
      "  self.df = self.df.append(row, ignore_index=True)\n",
      "[Succeeded / Failed / Skipped / Total] 107 / 43 / 27 / 177:  35%|███▌      | 177/500 [35:13<1:04:16, 11.94s/it]"
     ]
    },
    {
     "name": "stdout",
     "output_type": "stream",
     "text": [
      "--------------------------------------------- Result 177 ---------------------------------------------\n",
      "[[Negative (74%)]] --> [[Positive (56%)]]\n",
      "\n",
      "delivers the same old same old , tarted up with latin flava and [[turned]] out by hollywood playas . \n",
      "\n",
      "delivers the same old same old , tarted up with latin flava and [[turns]] out by hollywood playas . \n",
      "\n",
      "\n"
     ]
    },
    {
     "name": "stderr",
     "output_type": "stream",
     "text": [
      "[Succeeded / Failed / Skipped / Total] 107 / 43 / 27 / 177:  36%|███▌      | 178/500 [35:27<1:04:07, 11.95s/it]/scratch/sp6646/envs_dirs/swap_env/lib/python3.8/site-packages/textattack/loggers/csv_logger.py:41: FutureWarning: The frame.append method is deprecated and will be removed from pandas in a future version. Use pandas.concat instead.\n",
      "  self.df = self.df.append(row, ignore_index=True)\n",
      "[Succeeded / Failed / Skipped / Total] 108 / 43 / 27 / 178:  36%|███▌      | 178/500 [35:27<1:04:07, 11.95s/it]"
     ]
    },
    {
     "name": "stdout",
     "output_type": "stream",
     "text": [
      "--------------------------------------------- Result 178 ---------------------------------------------\n",
      "[[Negative (67%)]] --> [[Positive (59%)]]\n",
      "\n",
      "does n't offer much besides glib soullessness , [[raunchy]] language and a series of brutal set pieces ... that raise the bar on stylized screen violence . \n",
      "\n",
      "does n't offer much besides glib soullessness , [[titillating]] language and a series of brutal set pieces ... that raise the bar on stylized screen violence . \n",
      "\n",
      "\n"
     ]
    },
    {
     "name": "stderr",
     "output_type": "stream",
     "text": [
      "[Succeeded / Failed / Skipped / Total] 108 / 43 / 27 / 178:  36%|███▌      | 179/500 [35:45<1:04:08, 11.99s/it]/scratch/sp6646/envs_dirs/swap_env/lib/python3.8/site-packages/textattack/loggers/csv_logger.py:41: FutureWarning: The frame.append method is deprecated and will be removed from pandas in a future version. Use pandas.concat instead.\n",
      "  self.df = self.df.append(row, ignore_index=True)\n",
      "[Succeeded / Failed / Skipped / Total] 109 / 43 / 27 / 179:  36%|███▌      | 179/500 [35:45<1:04:08, 11.99s/it]"
     ]
    },
    {
     "name": "stdout",
     "output_type": "stream",
     "text": [
      "--------------------------------------------- Result 179 ---------------------------------------------\n",
      "[[Negative (98%)]] --> [[Positive (97%)]]\n",
      "\n",
      "it made me [[want]] to [[wrench]] my eyes out of my head and [[toss]] them at the screen . \n",
      "\n",
      "it made me [[desire]] to [[spanner]] my eyes out of my head and [[lays]] them at the screen . \n",
      "\n",
      "\n"
     ]
    },
    {
     "name": "stderr",
     "output_type": "stream",
     "text": [
      "[Succeeded / Failed / Skipped / Total] 109 / 43 / 27 / 179:  36%|███▌      | 180/500 [35:51<1:03:45, 11.95s/it]/scratch/sp6646/envs_dirs/swap_env/lib/python3.8/site-packages/textattack/loggers/csv_logger.py:41: FutureWarning: The frame.append method is deprecated and will be removed from pandas in a future version. Use pandas.concat instead.\n",
      "  self.df = self.df.append(row, ignore_index=True)\n",
      "[Succeeded / Failed / Skipped / Total] 109 / 44 / 27 / 180:  36%|███▌      | 180/500 [35:51<1:03:45, 11.95s/it]"
     ]
    },
    {
     "name": "stdout",
     "output_type": "stream",
     "text": [
      "--------------------------------------------- Result 180 ---------------------------------------------\n",
      "[[Positive (100%)]] --> [[[FAILED]]]\n",
      "\n",
      "the film 's performances are thrilling . \n",
      "\n",
      "\n"
     ]
    },
    {
     "name": "stderr",
     "output_type": "stream",
     "text": [
      "[Succeeded / Failed / Skipped / Total] 109 / 44 / 27 / 180:  36%|███▌      | 181/500 [36:03<1:03:33, 11.95s/it]/scratch/sp6646/envs_dirs/swap_env/lib/python3.8/site-packages/textattack/loggers/csv_logger.py:41: FutureWarning: The frame.append method is deprecated and will be removed from pandas in a future version. Use pandas.concat instead.\n",
      "  self.df = self.df.append(row, ignore_index=True)\n",
      "[Succeeded / Failed / Skipped / Total] 110 / 44 / 27 / 181:  36%|███▌      | 181/500 [36:03<1:03:33, 11.95s/it]"
     ]
    },
    {
     "name": "stdout",
     "output_type": "stream",
     "text": [
      "--------------------------------------------- Result 181 ---------------------------------------------\n",
      "[[Negative (95%)]] --> [[Positive (77%)]]\n",
      "\n",
      "unfortunately , it 's not silly fun unless you enjoy really [[bad]] movies . \n",
      "\n",
      "unfortunately , it 's not silly fun unless you enjoy really [[wicked]] movies . \n",
      "\n",
      "\n"
     ]
    },
    {
     "name": "stderr",
     "output_type": "stream",
     "text": [
      "[Succeeded / Failed / Skipped / Total] 110 / 44 / 27 / 181:  36%|███▋      | 182/500 [36:19<1:03:28, 11.98s/it]/scratch/sp6646/envs_dirs/swap_env/lib/python3.8/site-packages/textattack/loggers/csv_logger.py:41: FutureWarning: The frame.append method is deprecated and will be removed from pandas in a future version. Use pandas.concat instead.\n",
      "  self.df = self.df.append(row, ignore_index=True)\n",
      "[Succeeded / Failed / Skipped / Total] 111 / 44 / 27 / 182:  36%|███▋      | 182/500 [36:19<1:03:28, 11.98s/it]"
     ]
    },
    {
     "name": "stdout",
     "output_type": "stream",
     "text": [
      "--------------------------------------------- Result 182 ---------------------------------------------\n",
      "[[Negative (100%)]] --> [[Positive (69%)]]\n",
      "\n",
      "it 's a [[bad]] thing when a movie has about as much [[substance]] as its end credits blooper reel . \n",
      "\n",
      "it 's a [[wicked]] thing when a movie has about as much [[compounds]] as its end credits blooper reel . \n",
      "\n",
      "\n"
     ]
    },
    {
     "name": "stderr",
     "output_type": "stream",
     "text": [
      "[Succeeded / Failed / Skipped / Total] 111 / 44 / 27 / 182:  37%|███▋      | 183/500 [36:40<1:03:32, 12.03s/it]/scratch/sp6646/envs_dirs/swap_env/lib/python3.8/site-packages/textattack/loggers/csv_logger.py:41: FutureWarning: The frame.append method is deprecated and will be removed from pandas in a future version. Use pandas.concat instead.\n",
      "  self.df = self.df.append(row, ignore_index=True)\n",
      "[Succeeded / Failed / Skipped / Total] 112 / 44 / 27 / 183:  37%|███▋      | 184/500 [36:41<1:03:00, 11.96s/it]"
     ]
    },
    {
     "name": "stdout",
     "output_type": "stream",
     "text": [
      "--------------------------------------------- Result 183 ---------------------------------------------\n",
      "[[Negative (90%)]] --> [[Positive (78%)]]\n",
      "\n",
      "i sympathize with the [[plight]] of these families , but the movie does n't do a very [[good]] job conveying the issue at [[hand]] . \n",
      "\n",
      "i sympathize with the [[adversity]] of these families , but the movie does n't do a very [[satisfying]] job conveying the issue at [[hands]] . \n",
      "\n",
      "\n"
     ]
    },
    {
     "name": "stderr",
     "output_type": "stream",
     "text": [
      "/scratch/sp6646/envs_dirs/swap_env/lib/python3.8/site-packages/textattack/loggers/csv_logger.py:41: FutureWarning: The frame.append method is deprecated and will be removed from pandas in a future version. Use pandas.concat instead.\n",
      "  self.df = self.df.append(row, ignore_index=True)\n",
      "\r",
      "[Succeeded / Failed / Skipped / Total] 112 / 44 / 28 / 184:  37%|███▋      | 184/500 [36:41<1:03:00, 11.96s/it]"
     ]
    },
    {
     "name": "stdout",
     "output_type": "stream",
     "text": [
      "--------------------------------------------- Result 184 ---------------------------------------------\n",
      "[[Positive (99%)]] --> [[[SKIPPED]]]\n",
      "\n",
      "the lower your expectations , the more you 'll enjoy it . \n",
      "\n",
      "\n"
     ]
    },
    {
     "name": "stderr",
     "output_type": "stream",
     "text": [
      "[Succeeded / Failed / Skipped / Total] 112 / 44 / 28 / 184:  37%|███▋      | 185/500 [37:08<1:03:13, 12.04s/it]/scratch/sp6646/envs_dirs/swap_env/lib/python3.8/site-packages/textattack/loggers/csv_logger.py:41: FutureWarning: The frame.append method is deprecated and will be removed from pandas in a future version. Use pandas.concat instead.\n",
      "  self.df = self.df.append(row, ignore_index=True)\n",
      "[Succeeded / Failed / Skipped / Total] 113 / 44 / 28 / 185:  37%|███▋      | 185/500 [37:08<1:03:13, 12.04s/it]"
     ]
    },
    {
     "name": "stdout",
     "output_type": "stream",
     "text": [
      "--------------------------------------------- Result 185 ---------------------------------------------\n",
      "[[Negative (80%)]] --> [[Positive (92%)]]\n",
      "\n",
      "though perry and hurley make inspiring efforts to breathe life into the [[disjointed]] , haphazard script by jay scherick and david ronn , neither the actors nor director reginald hudlin can make it more than fitfully entertaining . \n",
      "\n",
      "though perry and hurley make inspiring efforts to breathe life into the [[incongruous]] , haphazard script by jay scherick and david ronn , neither the actors nor director reginald hudlin can make it more than fitfully entertaining . \n",
      "\n",
      "\n"
     ]
    },
    {
     "name": "stderr",
     "output_type": "stream",
     "text": [
      "[Succeeded / Failed / Skipped / Total] 113 / 44 / 28 / 185:  37%|███▋      | 186/500 [37:14<1:02:51, 12.01s/it]/scratch/sp6646/envs_dirs/swap_env/lib/python3.8/site-packages/textattack/loggers/csv_logger.py:41: FutureWarning: The frame.append method is deprecated and will be removed from pandas in a future version. Use pandas.concat instead.\n",
      "  self.df = self.df.append(row, ignore_index=True)\n",
      "[Succeeded / Failed / Skipped / Total] 114 / 44 / 28 / 186:  37%|███▋      | 186/500 [37:14<1:02:51, 12.01s/it]"
     ]
    },
    {
     "name": "stdout",
     "output_type": "stream",
     "text": [
      "--------------------------------------------- Result 186 ---------------------------------------------\n",
      "[[Positive (89%)]] --> [[Negative (95%)]]\n",
      "\n",
      "a must-see for the david mamet [[enthusiast]] and for anyone who appreciates intelligent , stylish moviemaking . \n",
      "\n",
      "a must-see for the david mamet [[dilettante]] and for anyone who appreciates intelligent , stylish moviemaking . \n",
      "\n",
      "\n"
     ]
    },
    {
     "name": "stderr",
     "output_type": "stream",
     "text": [
      "[Succeeded / Failed / Skipped / Total] 114 / 44 / 28 / 186:  37%|███▋      | 187/500 [37:29<1:02:44, 12.03s/it]/scratch/sp6646/envs_dirs/swap_env/lib/python3.8/site-packages/textattack/loggers/csv_logger.py:41: FutureWarning: The frame.append method is deprecated and will be removed from pandas in a future version. Use pandas.concat instead.\n",
      "  self.df = self.df.append(row, ignore_index=True)\n",
      "[Succeeded / Failed / Skipped / Total] 115 / 44 / 28 / 187:  37%|███▋      | 187/500 [37:29<1:02:44, 12.03s/it]"
     ]
    },
    {
     "name": "stdout",
     "output_type": "stream",
     "text": [
      "--------------------------------------------- Result 187 ---------------------------------------------\n",
      "[[Positive (93%)]] --> [[Negative (95%)]]\n",
      "\n",
      "pacino is [[brilliant]] as the sleep-deprived dormer , his increasing weariness as much existential as it is physical . \n",
      "\n",
      "pacino is [[grandiose]] as the sleep-deprived dormer , his increasing weariness as much existential as it is physical . \n",
      "\n",
      "\n"
     ]
    },
    {
     "name": "stderr",
     "output_type": "stream",
     "text": [
      "[Succeeded / Failed / Skipped / Total] 115 / 44 / 28 / 187:  38%|███▊      | 188/500 [37:38<1:02:27, 12.01s/it]/scratch/sp6646/envs_dirs/swap_env/lib/python3.8/site-packages/textattack/loggers/csv_logger.py:41: FutureWarning: The frame.append method is deprecated and will be removed from pandas in a future version. Use pandas.concat instead.\n",
      "  self.df = self.df.append(row, ignore_index=True)\n",
      "[Succeeded / Failed / Skipped / Total] 115 / 45 / 28 / 188:  38%|███▊      | 188/500 [37:38<1:02:27, 12.01s/it]"
     ]
    },
    {
     "name": "stdout",
     "output_type": "stream",
     "text": [
      "--------------------------------------------- Result 188 ---------------------------------------------\n",
      "[[Positive (98%)]] --> [[[FAILED]]]\n",
      "\n",
      "` de niro ... is a veritable source of sincere passion that this hollywood contrivance orbits around . ' \n",
      "\n",
      "\n"
     ]
    },
    {
     "name": "stderr",
     "output_type": "stream",
     "text": [
      "[Succeeded / Failed / Skipped / Total] 115 / 45 / 28 / 188:  38%|███▊      | 189/500 [37:45<1:02:07, 11.99s/it]/scratch/sp6646/envs_dirs/swap_env/lib/python3.8/site-packages/textattack/loggers/csv_logger.py:41: FutureWarning: The frame.append method is deprecated and will be removed from pandas in a future version. Use pandas.concat instead.\n",
      "  self.df = self.df.append(row, ignore_index=True)\n",
      "[Succeeded / Failed / Skipped / Total] 116 / 45 / 28 / 189:  38%|███▊      | 189/500 [37:45<1:02:07, 11.99s/it]"
     ]
    },
    {
     "name": "stdout",
     "output_type": "stream",
     "text": [
      "--------------------------------------------- Result 189 ---------------------------------------------\n",
      "[[Negative (100%)]] --> [[Positive (59%)]]\n",
      "\n",
      "a [[misogynistic]] piece of filth that attempts to pass itself off as hip , young adult entertainment . \n",
      "\n",
      "a [[chauvinist]] piece of filth that attempts to pass itself off as hip , young adult entertainment . \n",
      "\n",
      "\n"
     ]
    },
    {
     "name": "stderr",
     "output_type": "stream",
     "text": [
      "[Succeeded / Failed / Skipped / Total] 116 / 45 / 28 / 189:  38%|███▊      | 190/500 [38:02<1:02:03, 12.01s/it]/scratch/sp6646/envs_dirs/swap_env/lib/python3.8/site-packages/textattack/loggers/csv_logger.py:41: FutureWarning: The frame.append method is deprecated and will be removed from pandas in a future version. Use pandas.concat instead.\n",
      "  self.df = self.df.append(row, ignore_index=True)\n",
      "[Succeeded / Failed / Skipped / Total] 117 / 45 / 28 / 190:  38%|███▊      | 190/500 [38:02<1:02:03, 12.01s/it]"
     ]
    },
    {
     "name": "stdout",
     "output_type": "stream",
     "text": [
      "--------------------------------------------- Result 190 ---------------------------------------------\n",
      "[[Negative (95%)]] --> [[Positive (59%)]]\n",
      "\n",
      "its story may be a thousand years old , but why [[did]] it have to seem like it took another thousand to tell it to us ? \n",
      "\n",
      "its story may be a thousand years old , but why [[fi]] it have to seem like it took another thousand to tell it to us ? \n",
      "\n",
      "\n"
     ]
    },
    {
     "name": "stderr",
     "output_type": "stream",
     "text": [
      "[Succeeded / Failed / Skipped / Total] 117 / 45 / 28 / 190:  38%|███▊      | 191/500 [38:16<1:01:55, 12.02s/it]/scratch/sp6646/envs_dirs/swap_env/lib/python3.8/site-packages/textattack/loggers/csv_logger.py:41: FutureWarning: The frame.append method is deprecated and will be removed from pandas in a future version. Use pandas.concat instead.\n",
      "  self.df = self.df.append(row, ignore_index=True)\n",
      "[Succeeded / Failed / Skipped / Total] 118 / 45 / 28 / 191:  38%|███▊      | 191/500 [38:16<1:01:55, 12.02s/it]"
     ]
    },
    {
     "name": "stdout",
     "output_type": "stream",
     "text": [
      "--------------------------------------------- Result 191 ---------------------------------------------\n",
      "[[Negative (79%)]] --> [[Positive (75%)]]\n",
      "\n",
      "try as i may , i ca n't think of a [[single]] good reason to see this movie , even though everyone in my group extemporaneously shouted , ` thank you ! ' \n",
      "\n",
      "try as i may , i ca n't think of a [[unique]] good reason to see this movie , even though everyone in my group extemporaneously shouted , ` thank you ! ' \n",
      "\n",
      "\n"
     ]
    },
    {
     "name": "stderr",
     "output_type": "stream",
     "text": [
      "[Succeeded / Failed / Skipped / Total] 118 / 45 / 28 / 191:  38%|███▊      | 192/500 [38:45<1:02:10, 12.11s/it]/scratch/sp6646/envs_dirs/swap_env/lib/python3.8/site-packages/textattack/loggers/csv_logger.py:41: FutureWarning: The frame.append method is deprecated and will be removed from pandas in a future version. Use pandas.concat instead.\n",
      "  self.df = self.df.append(row, ignore_index=True)\n",
      "[Succeeded / Failed / Skipped / Total] 119 / 45 / 28 / 192:  38%|███▊      | 192/500 [38:45<1:02:10, 12.11s/it]"
     ]
    },
    {
     "name": "stdout",
     "output_type": "stream",
     "text": [
      "--------------------------------------------- Result 192 ---------------------------------------------\n",
      "[[Positive (98%)]] --> [[Negative (63%)]]\n",
      "\n",
      "the movie is [[beautiful]] to behold and engages one in a sense of epic struggle -- [[inner]] and outer -- that 's all too rare in hollywood 's hastier productions . \n",
      "\n",
      "the movie is [[grandiose]] to behold and engages one in a sense of epic struggle -- [[house]] and outer -- that 's all too rare in hollywood 's hastier productions . \n",
      "\n",
      "\n"
     ]
    },
    {
     "name": "stderr",
     "output_type": "stream",
     "text": [
      "[Succeeded / Failed / Skipped / Total] 119 / 45 / 28 / 192:  39%|███▊      | 193/500 [39:07<1:02:14, 12.17s/it]/scratch/sp6646/envs_dirs/swap_env/lib/python3.8/site-packages/textattack/loggers/csv_logger.py:41: FutureWarning: The frame.append method is deprecated and will be removed from pandas in a future version. Use pandas.concat instead.\n",
      "  self.df = self.df.append(row, ignore_index=True)\n",
      "[Succeeded / Failed / Skipped / Total] 120 / 45 / 28 / 193:  39%|███▊      | 193/500 [39:07<1:02:14, 12.17s/it]"
     ]
    },
    {
     "name": "stdout",
     "output_type": "stream",
     "text": [
      "--------------------------------------------- Result 193 ---------------------------------------------\n",
      "[[Positive (99%)]] --> [[Negative (60%)]]\n",
      "\n",
      "a [[celebration]] of quirkiness , eccentricity , and certain individuals ' tendency to let it all hang out , and damn the [[consequences]] . \n",
      "\n",
      "a [[rite]] of quirkiness , eccentricity , and certain individuals ' tendency to let it all hang out , and damn the [[raison]] . \n",
      "\n",
      "\n"
     ]
    },
    {
     "name": "stderr",
     "output_type": "stream",
     "text": [
      "[Succeeded / Failed / Skipped / Total] 120 / 45 / 28 / 193:  39%|███▉      | 194/500 [39:28<1:02:16, 12.21s/it]/scratch/sp6646/envs_dirs/swap_env/lib/python3.8/site-packages/textattack/loggers/csv_logger.py:41: FutureWarning: The frame.append method is deprecated and will be removed from pandas in a future version. Use pandas.concat instead.\n",
      "  self.df = self.df.append(row, ignore_index=True)\n",
      "[Succeeded / Failed / Skipped / Total] 120 / 46 / 28 / 194:  39%|███▉      | 194/500 [39:28<1:02:16, 12.21s/it]"
     ]
    },
    {
     "name": "stdout",
     "output_type": "stream",
     "text": [
      "--------------------------------------------- Result 194 ---------------------------------------------\n",
      "[[Positive (99%)]] --> [[[FAILED]]]\n",
      "\n",
      "morton uses her face and her body language to bring us morvern 's soul , even though the character is almost completely deadpan . \n",
      "\n",
      "\n"
     ]
    },
    {
     "name": "stderr",
     "output_type": "stream",
     "text": [
      "[Succeeded / Failed / Skipped / Total] 120 / 46 / 28 / 194:  39%|███▉      | 195/500 [39:50<1:02:19, 12.26s/it]/scratch/sp6646/envs_dirs/swap_env/lib/python3.8/site-packages/textattack/loggers/csv_logger.py:41: FutureWarning: The frame.append method is deprecated and will be removed from pandas in a future version. Use pandas.concat instead.\n",
      "  self.df = self.df.append(row, ignore_index=True)\n",
      "[Succeeded / Failed / Skipped / Total] 120 / 47 / 28 / 195:  39%|███▉      | 196/500 [39:51<1:01:48, 12.20s/it]/scratch/sp6646/envs_dirs/swap_env/lib/python3.8/site-packages/textattack/loggers/csv_logger.py:41: FutureWarning: The frame.append method is deprecated and will be removed from pandas in a future version. Use pandas.concat instead.\n",
      "  self.df = self.df.append(row, ignore_index=True)\n",
      "[Succeeded / Failed / Skipped / Total] 120 / 47 / 29 / 196:  39%|███▉      | 196/500 [39:51<1:01:48, 12.20s/it]"
     ]
    },
    {
     "name": "stdout",
     "output_type": "stream",
     "text": [
      "--------------------------------------------- Result 195 ---------------------------------------------\n",
      "[[Positive (100%)]] --> [[[FAILED]]]\n",
      "\n",
      "instead of a hyperbolic beat-charged urban western , it 's an unpretentious , sociologically pointed slice of life . \n",
      "\n",
      "\n",
      "--------------------------------------------- Result 196 ---------------------------------------------\n",
      "[[Negative (68%)]] --> [[[SKIPPED]]]\n",
      "\n",
      "my thoughts were focused on the characters . \n",
      "\n",
      "\n"
     ]
    },
    {
     "name": "stderr",
     "output_type": "stream",
     "text": [
      "[Succeeded / Failed / Skipped / Total] 120 / 47 / 29 / 196:  39%|███▉      | 197/500 [40:03<1:01:37, 12.20s/it]/scratch/sp6646/envs_dirs/swap_env/lib/python3.8/site-packages/textattack/loggers/csv_logger.py:41: FutureWarning: The frame.append method is deprecated and will be removed from pandas in a future version. Use pandas.concat instead.\n",
      "  self.df = self.df.append(row, ignore_index=True)\n",
      "[Succeeded / Failed / Skipped / Total] 121 / 47 / 29 / 197:  39%|███▉      | 197/500 [40:03<1:01:37, 12.20s/it]"
     ]
    },
    {
     "name": "stdout",
     "output_type": "stream",
     "text": [
      "--------------------------------------------- Result 197 ---------------------------------------------\n",
      "[[Positive (99%)]] --> [[Negative (71%)]]\n",
      "\n",
      "so , too , is this [[comedy]] about mild culture clashing in today 's new delhi . \n",
      "\n",
      "so , too , is this [[ridicule]] about mild culture clashing in today 's new delhi . \n",
      "\n",
      "\n"
     ]
    },
    {
     "name": "stderr",
     "output_type": "stream",
     "text": [
      "[Succeeded / Failed / Skipped / Total] 121 / 47 / 29 / 197:  40%|███▉      | 198/500 [40:12<1:01:19, 12.18s/it]/scratch/sp6646/envs_dirs/swap_env/lib/python3.8/site-packages/textattack/loggers/csv_logger.py:41: FutureWarning: The frame.append method is deprecated and will be removed from pandas in a future version. Use pandas.concat instead.\n",
      "  self.df = self.df.append(row, ignore_index=True)\n",
      "[Succeeded / Failed / Skipped / Total] 122 / 47 / 29 / 198:  40%|███▉      | 198/500 [40:12<1:01:19, 12.18s/it]"
     ]
    },
    {
     "name": "stdout",
     "output_type": "stream",
     "text": [
      "--------------------------------------------- Result 198 ---------------------------------------------\n",
      "[[Negative (88%)]] --> [[Positive (97%)]]\n",
      "\n",
      "for starters , the [[story]] is just too [[slim]] . \n",
      "\n",
      "for starters , the [[romances]] is just too [[stylish]] . \n",
      "\n",
      "\n"
     ]
    },
    {
     "name": "stderr",
     "output_type": "stream",
     "text": [
      "[Succeeded / Failed / Skipped / Total] 122 / 47 / 29 / 198:  40%|███▉      | 199/500 [40:32<1:01:19, 12.22s/it]/scratch/sp6646/envs_dirs/swap_env/lib/python3.8/site-packages/textattack/loggers/csv_logger.py:41: FutureWarning: The frame.append method is deprecated and will be removed from pandas in a future version. Use pandas.concat instead.\n",
      "  self.df = self.df.append(row, ignore_index=True)\n",
      "[Succeeded / Failed / Skipped / Total] 123 / 47 / 29 / 199:  40%|███▉      | 199/500 [40:32<1:01:19, 12.22s/it]"
     ]
    },
    {
     "name": "stdout",
     "output_type": "stream",
     "text": [
      "--------------------------------------------- Result 199 ---------------------------------------------\n",
      "[[Positive (100%)]] --> [[Negative (77%)]]\n",
      "\n",
      "this is a winning ensemble comedy that shows canadians can put gentle laughs and equally [[gentle]] sentiments on the button , just as easily as their counterparts anywhere else in the world . \n",
      "\n",
      "this is a winning ensemble comedy that shows canadians can put gentle laughs and equally [[limp]] sentiments on the button , just as easily as their counterparts anywhere else in the world . \n",
      "\n",
      "\n"
     ]
    },
    {
     "name": "stderr",
     "output_type": "stream",
     "text": [
      "[Succeeded / Failed / Skipped / Total] 123 / 47 / 29 / 199:  40%|████      | 200/500 [41:01<1:01:32, 12.31s/it]/scratch/sp6646/envs_dirs/swap_env/lib/python3.8/site-packages/textattack/loggers/csv_logger.py:41: FutureWarning: The frame.append method is deprecated and will be removed from pandas in a future version. Use pandas.concat instead.\n",
      "  self.df = self.df.append(row, ignore_index=True)\n",
      "[Succeeded / Failed / Skipped / Total] 123 / 48 / 29 / 200:  40%|████      | 200/500 [41:01<1:01:32, 12.31s/it]"
     ]
    },
    {
     "name": "stdout",
     "output_type": "stream",
     "text": [
      "--------------------------------------------- Result 200 ---------------------------------------------\n",
      "[[Negative (97%)]] --> [[[FAILED]]]\n",
      "\n",
      "at the very least , if you do n't know anything about derrida when you walk into the theater , you wo n't know much more when you leave . \n",
      "\n",
      "\n"
     ]
    },
    {
     "name": "stderr",
     "output_type": "stream",
     "text": [
      "[Succeeded / Failed / Skipped / Total] 123 / 48 / 29 / 200:  40%|████      | 201/500 [41:01<1:01:02, 12.25s/it]/scratch/sp6646/envs_dirs/swap_env/lib/python3.8/site-packages/textattack/loggers/csv_logger.py:41: FutureWarning: The frame.append method is deprecated and will be removed from pandas in a future version. Use pandas.concat instead.\n",
      "  self.df = self.df.append(row, ignore_index=True)\n",
      "[Succeeded / Failed / Skipped / Total] 123 / 48 / 30 / 201:  40%|████      | 201/500 [41:01<1:01:02, 12.25s/it]"
     ]
    },
    {
     "name": "stdout",
     "output_type": "stream",
     "text": [
      "--------------------------------------------- Result 201 ---------------------------------------------\n",
      "[[Negative (84%)]] --> [[[SKIPPED]]]\n",
      "\n",
      "the format gets used best ... to capture the dizzying heights achieved by motocross and bmx riders , whose balletic hotdogging occasionally ends in bone-crushing screwups . \n",
      "\n",
      "\n"
     ]
    },
    {
     "name": "stderr",
     "output_type": "stream",
     "text": [
      "[Succeeded / Failed / Skipped / Total] 123 / 48 / 30 / 201:  40%|████      | 202/500 [41:33<1:01:19, 12.35s/it]/scratch/sp6646/envs_dirs/swap_env/lib/python3.8/site-packages/textattack/loggers/csv_logger.py:41: FutureWarning: The frame.append method is deprecated and will be removed from pandas in a future version. Use pandas.concat instead.\n",
      "  self.df = self.df.append(row, ignore_index=True)\n",
      "[Succeeded / Failed / Skipped / Total] 123 / 49 / 30 / 202:  40%|████      | 202/500 [41:33<1:01:19, 12.35s/it]"
     ]
    },
    {
     "name": "stdout",
     "output_type": "stream",
     "text": [
      "--------------------------------------------- Result 202 ---------------------------------------------\n",
      "[[Positive (94%)]] --> [[[FAILED]]]\n",
      "\n",
      "inside the film 's conflict-powered plot there is a decent moral trying to get out , but it 's not that , it 's the tension that keeps you in your seat . \n",
      "\n",
      "\n"
     ]
    },
    {
     "name": "stderr",
     "output_type": "stream",
     "text": [
      "[Succeeded / Failed / Skipped / Total] 123 / 49 / 30 / 202:  41%|████      | 203/500 [41:44<1:01:04, 12.34s/it]/scratch/sp6646/envs_dirs/swap_env/lib/python3.8/site-packages/textattack/loggers/csv_logger.py:41: FutureWarning: The frame.append method is deprecated and will be removed from pandas in a future version. Use pandas.concat instead.\n",
      "  self.df = self.df.append(row, ignore_index=True)\n",
      "[Succeeded / Failed / Skipped / Total] 124 / 49 / 30 / 203:  41%|████      | 203/500 [41:44<1:01:04, 12.34s/it]"
     ]
    },
    {
     "name": "stdout",
     "output_type": "stream",
     "text": [
      "--------------------------------------------- Result 203 ---------------------------------------------\n",
      "[[Negative (94%)]] --> [[Positive (51%)]]\n",
      "\n",
      "there ought to be a [[directing]] [[license]] , so that ed burns can have his revoked . \n",
      "\n",
      "there ought to be a [[leads]] [[leaving]] , so that ed burns can have his revoked . \n",
      "\n",
      "\n"
     ]
    },
    {
     "name": "stderr",
     "output_type": "stream",
     "text": [
      "[Succeeded / Failed / Skipped / Total] 124 / 49 / 30 / 203:  41%|████      | 204/500 [41:45<1:00:35, 12.28s/it]/scratch/sp6646/envs_dirs/swap_env/lib/python3.8/site-packages/textattack/loggers/csv_logger.py:41: FutureWarning: The frame.append method is deprecated and will be removed from pandas in a future version. Use pandas.concat instead.\n",
      "  self.df = self.df.append(row, ignore_index=True)\n",
      "[Succeeded / Failed / Skipped / Total] 125 / 49 / 30 / 204:  41%|████      | 204/500 [41:45<1:00:35, 12.28s/it]"
     ]
    },
    {
     "name": "stdout",
     "output_type": "stream",
     "text": [
      "--------------------------------------------- Result 204 ---------------------------------------------\n",
      "[[Negative (100%)]] --> [[Positive (100%)]]\n",
      "\n",
      "[[bad]] . \n",
      "\n",
      "[[defective]] . \n",
      "\n",
      "\n"
     ]
    },
    {
     "name": "stderr",
     "output_type": "stream",
     "text": [
      "[Succeeded / Failed / Skipped / Total] 125 / 49 / 30 / 204:  41%|████      | 205/500 [41:45<1:00:06, 12.22s/it]/scratch/sp6646/envs_dirs/swap_env/lib/python3.8/site-packages/textattack/loggers/csv_logger.py:41: FutureWarning: The frame.append method is deprecated and will be removed from pandas in a future version. Use pandas.concat instead.\n",
      "  self.df = self.df.append(row, ignore_index=True)\n",
      "[Succeeded / Failed / Skipped / Total] 125 / 49 / 31 / 205:  41%|████      | 206/500 [41:46<59:36, 12.17s/it]  "
     ]
    },
    {
     "name": "stdout",
     "output_type": "stream",
     "text": [
      "--------------------------------------------- Result 205 ---------------------------------------------\n",
      "[[Negative (98%)]] --> [[[SKIPPED]]]\n",
      "\n",
      "that dogged good will of the parents and ` vain ' jia 's defoliation of ego , make the film touching despite some doldrums . \n",
      "\n",
      "\n"
     ]
    },
    {
     "name": "stderr",
     "output_type": "stream",
     "text": [
      "/scratch/sp6646/envs_dirs/swap_env/lib/python3.8/site-packages/textattack/loggers/csv_logger.py:41: FutureWarning: The frame.append method is deprecated and will be removed from pandas in a future version. Use pandas.concat instead.\n",
      "  self.df = self.df.append(row, ignore_index=True)\n",
      "\r",
      "[Succeeded / Failed / Skipped / Total] 125 / 49 / 32 / 206:  41%|████      | 206/500 [41:46<59:36, 12.17s/it]"
     ]
    },
    {
     "name": "stdout",
     "output_type": "stream",
     "text": [
      "--------------------------------------------- Result 206 ---------------------------------------------\n",
      "[[Negative (89%)]] --> [[[SKIPPED]]]\n",
      "\n",
      "falls neatly into the category of good stupid fun . \n",
      "\n",
      "\n"
     ]
    },
    {
     "name": "stderr",
     "output_type": "stream",
     "text": [
      "[Succeeded / Failed / Skipped / Total] 125 / 49 / 32 / 206:  41%|████▏     | 207/500 [41:59<59:26, 12.17s/it]/scratch/sp6646/envs_dirs/swap_env/lib/python3.8/site-packages/textattack/loggers/csv_logger.py:41: FutureWarning: The frame.append method is deprecated and will be removed from pandas in a future version. Use pandas.concat instead.\n",
      "  self.df = self.df.append(row, ignore_index=True)\n",
      "[Succeeded / Failed / Skipped / Total] 125 / 50 / 32 / 207:  41%|████▏     | 207/500 [41:59<59:26, 12.17s/it]"
     ]
    },
    {
     "name": "stdout",
     "output_type": "stream",
     "text": [
      "--------------------------------------------- Result 207 ---------------------------------------------\n",
      "[[Positive (100%)]] --> [[[FAILED]]]\n",
      "\n",
      "an artful , intelligent film that stays within the confines of a well-established genre . \n",
      "\n",
      "\n"
     ]
    },
    {
     "name": "stderr",
     "output_type": "stream",
     "text": [
      "[Succeeded / Failed / Skipped / Total] 125 / 50 / 32 / 207:  42%|████▏     | 208/500 [42:06<59:06, 12.14s/it]/scratch/sp6646/envs_dirs/swap_env/lib/python3.8/site-packages/textattack/loggers/csv_logger.py:41: FutureWarning: The frame.append method is deprecated and will be removed from pandas in a future version. Use pandas.concat instead.\n",
      "  self.df = self.df.append(row, ignore_index=True)\n",
      "[Succeeded / Failed / Skipped / Total] 126 / 50 / 32 / 208:  42%|████▏     | 208/500 [42:06<59:06, 12.15s/it]"
     ]
    },
    {
     "name": "stdout",
     "output_type": "stream",
     "text": [
      "--------------------------------------------- Result 208 ---------------------------------------------\n",
      "[[Positive (100%)]] --> [[Negative (59%)]]\n",
      "\n",
      "[[smart]] , [[provocative]] and blisteringly [[funny]] . \n",
      "\n",
      "[[shrewd]] , [[inflammatory]] and blisteringly [[outlandish]] . \n",
      "\n",
      "\n"
     ]
    },
    {
     "name": "stderr",
     "output_type": "stream",
     "text": [
      "[Succeeded / Failed / Skipped / Total] 126 / 50 / 32 / 208:  42%|████▏     | 209/500 [42:18<58:54, 12.15s/it]/scratch/sp6646/envs_dirs/swap_env/lib/python3.8/site-packages/textattack/loggers/csv_logger.py:41: FutureWarning: The frame.append method is deprecated and will be removed from pandas in a future version. Use pandas.concat instead.\n",
      "  self.df = self.df.append(row, ignore_index=True)\n",
      "[Succeeded / Failed / Skipped / Total] 126 / 51 / 32 / 209:  42%|████▏     | 209/500 [42:18<58:54, 12.15s/it]"
     ]
    },
    {
     "name": "stdout",
     "output_type": "stream",
     "text": [
      "--------------------------------------------- Result 209 ---------------------------------------------\n",
      "[[Negative (100%)]] --> [[[FAILED]]]\n",
      "\n",
      "and the lesson , in the end , is nothing new . \n",
      "\n",
      "\n"
     ]
    },
    {
     "name": "stderr",
     "output_type": "stream",
     "text": [
      "[Succeeded / Failed / Skipped / Total] 126 / 51 / 32 / 209:  42%|████▏     | 210/500 [42:30<58:41, 12.14s/it]/scratch/sp6646/envs_dirs/swap_env/lib/python3.8/site-packages/textattack/loggers/csv_logger.py:41: FutureWarning: The frame.append method is deprecated and will be removed from pandas in a future version. Use pandas.concat instead.\n",
      "  self.df = self.df.append(row, ignore_index=True)\n",
      "[Succeeded / Failed / Skipped / Total] 127 / 51 / 32 / 210:  42%|████▏     | 210/500 [42:30<58:41, 12.14s/it]"
     ]
    },
    {
     "name": "stdout",
     "output_type": "stream",
     "text": [
      "--------------------------------------------- Result 210 ---------------------------------------------\n",
      "[[Negative (99%)]] --> [[Positive (96%)]]\n",
      "\n",
      "this is not the undisputed worst boxing movie ever , but it 's certainly not a champion - the big [[loser]] is the audience . \n",
      "\n",
      "this is not the undisputed worst boxing movie ever , but it 's certainly not a champion - the big [[flunked]] is the audience . \n",
      "\n",
      "\n"
     ]
    },
    {
     "name": "stderr",
     "output_type": "stream",
     "text": [
      "[Succeeded / Failed / Skipped / Total] 127 / 51 / 32 / 210:  42%|████▏     | 211/500 [42:42<58:30, 12.15s/it]/scratch/sp6646/envs_dirs/swap_env/lib/python3.8/site-packages/textattack/loggers/csv_logger.py:41: FutureWarning: The frame.append method is deprecated and will be removed from pandas in a future version. Use pandas.concat instead.\n",
      "  self.df = self.df.append(row, ignore_index=True)\n",
      "[Succeeded / Failed / Skipped / Total] 128 / 51 / 32 / 211:  42%|████▏     | 211/500 [42:42<58:30, 12.15s/it]"
     ]
    },
    {
     "name": "stdout",
     "output_type": "stream",
     "text": [
      "--------------------------------------------- Result 211 ---------------------------------------------\n",
      "[[Positive (51%)]] --> [[Negative (63%)]]\n",
      "\n",
      "not only is undercover brother as funny , if not more so , than both austin powers films , but it 's also one of the [[smarter]] , savvier spoofs to come along in some time . \n",
      "\n",
      "not only is undercover brother as funny , if not more so , than both austin powers films , but it 's also one of the [[cleverer]] , savvier spoofs to come along in some time . \n",
      "\n",
      "\n"
     ]
    },
    {
     "name": "stderr",
     "output_type": "stream",
     "text": [
      "[Succeeded / Failed / Skipped / Total] 128 / 51 / 32 / 211:  42%|████▏     | 212/500 [43:00<58:25, 12.17s/it]/scratch/sp6646/envs_dirs/swap_env/lib/python3.8/site-packages/textattack/loggers/csv_logger.py:41: FutureWarning: The frame.append method is deprecated and will be removed from pandas in a future version. Use pandas.concat instead.\n",
      "  self.df = self.df.append(row, ignore_index=True)\n",
      "[Succeeded / Failed / Skipped / Total] 129 / 51 / 32 / 212:  42%|████▏     | 212/500 [43:00<58:25, 12.17s/it]"
     ]
    },
    {
     "name": "stdout",
     "output_type": "stream",
     "text": [
      "--------------------------------------------- Result 212 ---------------------------------------------\n",
      "[[Negative (95%)]] --> [[Positive (88%)]]\n",
      "\n",
      "to [[say]] this was done better in wilder 's some like it hot is like saying the sun rises in the east . \n",
      "\n",
      "to [[affirming]] this was done better in wilder 's some like it hot is like saying the sun rises in the east . \n",
      "\n",
      "\n"
     ]
    },
    {
     "name": "stderr",
     "output_type": "stream",
     "text": [
      "[Succeeded / Failed / Skipped / Total] 129 / 51 / 32 / 212:  43%|████▎     | 213/500 [43:04<58:02, 12.14s/it]/scratch/sp6646/envs_dirs/swap_env/lib/python3.8/site-packages/textattack/loggers/csv_logger.py:41: FutureWarning: The frame.append method is deprecated and will be removed from pandas in a future version. Use pandas.concat instead.\n",
      "  self.df = self.df.append(row, ignore_index=True)\n",
      "[Succeeded / Failed / Skipped / Total] 130 / 51 / 32 / 213:  43%|████▎     | 213/500 [43:04<58:02, 12.14s/it]"
     ]
    },
    {
     "name": "stdout",
     "output_type": "stream",
     "text": [
      "--------------------------------------------- Result 213 ---------------------------------------------\n",
      "[[Negative (99%)]] --> [[Positive (94%)]]\n",
      "\n",
      "the entire movie is about a boring , sad man being [[boring]] and sad . \n",
      "\n",
      "the entire movie is about a boring , sad man being [[vexing]] and sad . \n",
      "\n",
      "\n"
     ]
    },
    {
     "name": "stderr",
     "output_type": "stream",
     "text": [
      "[Succeeded / Failed / Skipped / Total] 130 / 51 / 32 / 213:  43%|████▎     | 214/500 [43:30<58:08, 12.20s/it]/scratch/sp6646/envs_dirs/swap_env/lib/python3.8/site-packages/textattack/loggers/csv_logger.py:41: FutureWarning: The frame.append method is deprecated and will be removed from pandas in a future version. Use pandas.concat instead.\n",
      "  self.df = self.df.append(row, ignore_index=True)\n",
      "[Succeeded / Failed / Skipped / Total] 131 / 51 / 32 / 214:  43%|████▎     | 214/500 [43:30<58:09, 12.20s/it]"
     ]
    },
    {
     "name": "stdout",
     "output_type": "stream",
     "text": [
      "--------------------------------------------- Result 214 ---------------------------------------------\n",
      "[[Negative (99%)]] --> [[Positive (89%)]]\n",
      "\n",
      "this [[time]] mr. burns is [[trying]] something in the martin scorsese street-realist mode , but his self-regarding sentimentality trips him up again . \n",
      "\n",
      "this [[calendar]] mr. burns is [[attempting]] something in the martin scorsese street-realist mode , but his self-regarding sentimentality trips him up again . \n",
      "\n",
      "\n"
     ]
    },
    {
     "name": "stderr",
     "output_type": "stream",
     "text": [
      "[Succeeded / Failed / Skipped / Total] 131 / 51 / 32 / 214:  43%|████▎     | 215/500 [44:01<58:20, 12.28s/it]/scratch/sp6646/envs_dirs/swap_env/lib/python3.8/site-packages/textattack/loggers/csv_logger.py:41: FutureWarning: The frame.append method is deprecated and will be removed from pandas in a future version. Use pandas.concat instead.\n",
      "  self.df = self.df.append(row, ignore_index=True)\n",
      "[Succeeded / Failed / Skipped / Total] 132 / 51 / 32 / 215:  43%|████▎     | 215/500 [44:01<58:21, 12.28s/it]/scratch/sp6646/envs_dirs/swap_env/lib/python3.8/site-packages/textattack/loggers/csv_logger.py:41: FutureWarning: The frame.append method is deprecated and will be removed from pandas in a future version. Use pandas.concat instead.\n",
      "  self.df = self.df.append(row, ignore_index=True)\n",
      "[Succeeded / Failed / Skipped / Total] 132 / 51 / 33 / 216:  43%|████▎     | 216/500 [44:01<57:52, 12.23s/it]"
     ]
    },
    {
     "name": "stdout",
     "output_type": "stream",
     "text": [
      "--------------------------------------------- Result 215 ---------------------------------------------\n",
      "[[Negative (96%)]] --> [[Positive (56%)]]\n",
      "\n",
      "perceptive in its vision of nascent industrialized world politics as a new art form , but far too clunky , didactic and saddled with scenes that seem [[simply]] an [[ill]] fit for this movie . \n",
      "\n",
      "perceptive in its vision of nascent industrialized world politics as a new art form , but far too clunky , didactic and saddled with scenes that seem [[plainly]] an [[wicked]] fit for this movie . \n",
      "\n",
      "\n",
      "--------------------------------------------- Result 216 ---------------------------------------------\n",
      "[[Negative (90%)]] --> [[[SKIPPED]]]\n",
      "\n",
      "the best revenge may just be living well because this film , unlike other dumas adaptations , is far more likened to a treasure than a lengthy jail sentence . \n",
      "\n",
      "\n"
     ]
    },
    {
     "name": "stderr",
     "output_type": "stream",
     "text": [
      "[Succeeded / Failed / Skipped / Total] 132 / 51 / 33 / 216:  43%|████▎     | 217/500 [44:28<57:59, 12.30s/it]/scratch/sp6646/envs_dirs/swap_env/lib/python3.8/site-packages/textattack/loggers/csv_logger.py:41: FutureWarning: The frame.append method is deprecated and will be removed from pandas in a future version. Use pandas.concat instead.\n",
      "  self.df = self.df.append(row, ignore_index=True)\n",
      "[Succeeded / Failed / Skipped / Total] 132 / 52 / 33 / 217:  43%|████▎     | 217/500 [44:28<57:59, 12.30s/it]"
     ]
    },
    {
     "name": "stdout",
     "output_type": "stream",
     "text": [
      "--------------------------------------------- Result 217 ---------------------------------------------\n",
      "[[Positive (100%)]] --> [[[FAILED]]]\n",
      "\n",
      "the movie understands like few others how the depth and breadth of emotional intimacy give the physical act all of its meaning and most of its pleasure . \n",
      "\n",
      "\n"
     ]
    },
    {
     "name": "stderr",
     "output_type": "stream",
     "text": [
      "[Succeeded / Failed / Skipped / Total] 132 / 52 / 33 / 217:  44%|████▎     | 218/500 [44:42<57:50, 12.31s/it]/scratch/sp6646/envs_dirs/swap_env/lib/python3.8/site-packages/textattack/loggers/csv_logger.py:41: FutureWarning: The frame.append method is deprecated and will be removed from pandas in a future version. Use pandas.concat instead.\n",
      "  self.df = self.df.append(row, ignore_index=True)\n",
      "[Succeeded / Failed / Skipped / Total] 133 / 52 / 33 / 218:  44%|████▎     | 218/500 [44:42<57:50, 12.31s/it]"
     ]
    },
    {
     "name": "stdout",
     "output_type": "stream",
     "text": [
      "--------------------------------------------- Result 218 ---------------------------------------------\n",
      "[[Negative (95%)]] --> [[Positive (55%)]]\n",
      "\n",
      "once ( kim ) begins to [[overplay]] the shock tactics and bait-and-tackle metaphors , you may decide it 's too high a price to pay for a shimmering picture postcard . \n",
      "\n",
      "once ( kim ) begins to [[overact]] the shock tactics and bait-and-tackle metaphors , you may decide it 's too high a price to pay for a shimmering picture postcard . \n",
      "\n",
      "\n"
     ]
    },
    {
     "name": "stderr",
     "output_type": "stream",
     "text": [
      "[Succeeded / Failed / Skipped / Total] 133 / 52 / 33 / 218:  44%|████▍     | 219/500 [44:51<57:34, 12.29s/it]/scratch/sp6646/envs_dirs/swap_env/lib/python3.8/site-packages/textattack/loggers/csv_logger.py:41: FutureWarning: The frame.append method is deprecated and will be removed from pandas in a future version. Use pandas.concat instead.\n",
      "  self.df = self.df.append(row, ignore_index=True)\n",
      "[Succeeded / Failed / Skipped / Total] 134 / 52 / 33 / 219:  44%|████▍     | 219/500 [44:51<57:34, 12.29s/it]"
     ]
    },
    {
     "name": "stdout",
     "output_type": "stream",
     "text": [
      "--------------------------------------------- Result 219 ---------------------------------------------\n",
      "[[Negative (57%)]] --> [[Positive (100%)]]\n",
      "\n",
      "all that 's [[missing]] is the spontaneity , originality and delight . \n",
      "\n",
      "all that 's [[absences]] is the spontaneity , originality and delight . \n",
      "\n",
      "\n"
     ]
    },
    {
     "name": "stderr",
     "output_type": "stream",
     "text": [
      "[Succeeded / Failed / Skipped / Total] 134 / 52 / 33 / 219:  44%|████▍     | 220/500 [45:10<57:29, 12.32s/it]/scratch/sp6646/envs_dirs/swap_env/lib/python3.8/site-packages/textattack/loggers/csv_logger.py:41: FutureWarning: The frame.append method is deprecated and will be removed from pandas in a future version. Use pandas.concat instead.\n",
      "  self.df = self.df.append(row, ignore_index=True)\n",
      "[Succeeded / Failed / Skipped / Total] 135 / 52 / 33 / 220:  44%|████▍     | 220/500 [45:10<57:29, 12.32s/it]"
     ]
    },
    {
     "name": "stdout",
     "output_type": "stream",
     "text": [
      "--------------------------------------------- Result 220 ---------------------------------------------\n",
      "[[Positive (96%)]] --> [[Negative (63%)]]\n",
      "\n",
      "what the film lacks in general focus it makes up for in compassion , as corcuera [[manages]] to find the seeds of hope in the form of collective action . \n",
      "\n",
      "what the film lacks in general focus it makes up for in compassion , as corcuera [[manage]] to find the seeds of hope in the form of collective action . \n",
      "\n",
      "\n"
     ]
    },
    {
     "name": "stderr",
     "output_type": "stream",
     "text": [
      "[Succeeded / Failed / Skipped / Total] 135 / 52 / 33 / 220:  44%|████▍     | 221/500 [45:33<57:30, 12.37s/it]/scratch/sp6646/envs_dirs/swap_env/lib/python3.8/site-packages/textattack/loggers/csv_logger.py:41: FutureWarning: The frame.append method is deprecated and will be removed from pandas in a future version. Use pandas.concat instead.\n",
      "  self.df = self.df.append(row, ignore_index=True)\n",
      "[Succeeded / Failed / Skipped / Total] 135 / 53 / 33 / 221:  44%|████▍     | 221/500 [45:33<57:30, 12.37s/it]"
     ]
    },
    {
     "name": "stdout",
     "output_type": "stream",
     "text": [
      "--------------------------------------------- Result 221 ---------------------------------------------\n",
      "[[Positive (99%)]] --> [[[FAILED]]]\n",
      "\n",
      "the socio-histo-political treatise is told in earnest strides ... ( and ) personal illusion is deconstructed with poignancy . \n",
      "\n",
      "\n"
     ]
    },
    {
     "name": "stderr",
     "output_type": "stream",
     "text": [
      "[Succeeded / Failed / Skipped / Total] 135 / 53 / 33 / 221:  44%|████▍     | 222/500 [45:38<57:09, 12.34s/it]/scratch/sp6646/envs_dirs/swap_env/lib/python3.8/site-packages/textattack/loggers/csv_logger.py:41: FutureWarning: The frame.append method is deprecated and will be removed from pandas in a future version. Use pandas.concat instead.\n",
      "  self.df = self.df.append(row, ignore_index=True)\n",
      "[Succeeded / Failed / Skipped / Total] 136 / 53 / 33 / 222:  44%|████▍     | 222/500 [45:38<57:09, 12.34s/it]"
     ]
    },
    {
     "name": "stdout",
     "output_type": "stream",
     "text": [
      "--------------------------------------------- Result 222 ---------------------------------------------\n",
      "[[Negative (98%)]] --> [[Positive (92%)]]\n",
      "\n",
      "my reaction in a word : [[disappointment]] . \n",
      "\n",
      "my reaction in a word : [[disappoint]] . \n",
      "\n",
      "\n"
     ]
    },
    {
     "name": "stderr",
     "output_type": "stream",
     "text": [
      "[Succeeded / Failed / Skipped / Total] 136 / 53 / 33 / 222:  45%|████▍     | 223/500 [46:02<57:10, 12.39s/it]/scratch/sp6646/envs_dirs/swap_env/lib/python3.8/site-packages/textattack/loggers/csv_logger.py:41: FutureWarning: The frame.append method is deprecated and will be removed from pandas in a future version. Use pandas.concat instead.\n",
      "  self.df = self.df.append(row, ignore_index=True)\n",
      "[Succeeded / Failed / Skipped / Total] 136 / 54 / 33 / 223:  45%|████▍     | 223/500 [46:02<57:10, 12.39s/it]"
     ]
    },
    {
     "name": "stdout",
     "output_type": "stream",
     "text": [
      "--------------------------------------------- Result 223 ---------------------------------------------\n",
      "[[Positive (100%)]] --> [[[FAILED]]]\n",
      "\n",
      "a psychological thriller with a genuinely spooky premise and an above-average cast , actor bill paxton 's directing debut is a creepy slice of gothic rural americana . \n",
      "\n",
      "\n"
     ]
    },
    {
     "name": "stderr",
     "output_type": "stream",
     "text": [
      "[Succeeded / Failed / Skipped / Total] 136 / 54 / 33 / 223:  45%|████▍     | 224/500 [46:14<56:58, 12.39s/it]/scratch/sp6646/envs_dirs/swap_env/lib/python3.8/site-packages/textattack/loggers/csv_logger.py:41: FutureWarning: The frame.append method is deprecated and will be removed from pandas in a future version. Use pandas.concat instead.\n",
      "  self.df = self.df.append(row, ignore_index=True)\n",
      "[Succeeded / Failed / Skipped / Total] 137 / 54 / 33 / 224:  45%|████▍     | 224/500 [46:14<56:58, 12.39s/it]"
     ]
    },
    {
     "name": "stdout",
     "output_type": "stream",
     "text": [
      "--------------------------------------------- Result 224 ---------------------------------------------\n",
      "[[Positive (100%)]] --> [[Negative (74%)]]\n",
      "\n",
      "corny , schmaltzy and predictable , but still [[manages]] to be kind of [[heartwarming]] , nonetheless . \n",
      "\n",
      "corny , schmaltzy and predictable , but still [[governance]] to be kind of [[droll]] , nonetheless . \n",
      "\n",
      "\n"
     ]
    },
    {
     "name": "stderr",
     "output_type": "stream",
     "text": [
      "[Succeeded / Failed / Skipped / Total] 137 / 54 / 33 / 224:  45%|████▌     | 225/500 [46:33<56:54, 12.42s/it]/scratch/sp6646/envs_dirs/swap_env/lib/python3.8/site-packages/textattack/loggers/csv_logger.py:41: FutureWarning: The frame.append method is deprecated and will be removed from pandas in a future version. Use pandas.concat instead.\n",
      "  self.df = self.df.append(row, ignore_index=True)\n",
      "[Succeeded / Failed / Skipped / Total] 138 / 54 / 33 / 225:  45%|████▌     | 225/500 [46:33<56:54, 12.42s/it]"
     ]
    },
    {
     "name": "stdout",
     "output_type": "stream",
     "text": [
      "--------------------------------------------- Result 225 ---------------------------------------------\n",
      "[[Positive (97%)]] --> [[Negative (76%)]]\n",
      "\n",
      "nothing 's at stake , just a twisty double-cross you can smell a mile away -- still , the derivative nine queens is lots of [[fun]] . \n",
      "\n",
      "nothing 's at stake , just a twisty double-cross you can smell a mile away -- still , the derivative nine queens is lots of [[joke]] . \n",
      "\n",
      "\n"
     ]
    },
    {
     "name": "stderr",
     "output_type": "stream",
     "text": [
      "[Succeeded / Failed / Skipped / Total] 138 / 54 / 33 / 225:  45%|████▌     | 226/500 [46:49<56:46, 12.43s/it]/scratch/sp6646/envs_dirs/swap_env/lib/python3.8/site-packages/textattack/loggers/csv_logger.py:41: FutureWarning: The frame.append method is deprecated and will be removed from pandas in a future version. Use pandas.concat instead.\n",
      "  self.df = self.df.append(row, ignore_index=True)\n",
      "[Succeeded / Failed / Skipped / Total] 139 / 54 / 33 / 226:  45%|████▌     | 226/500 [46:49<56:46, 12.43s/it]"
     ]
    },
    {
     "name": "stdout",
     "output_type": "stream",
     "text": [
      "--------------------------------------------- Result 226 ---------------------------------------------\n",
      "[[Positive (53%)]] --> [[Negative (58%)]]\n",
      "\n",
      "far more imaginative and ambitious than the trivial , cash-in [[features]] nickelodeon has made from its other animated tv series . \n",
      "\n",
      "far more imaginative and ambitious than the trivial , cash-in [[characteristics]] nickelodeon has made from its other animated tv series . \n",
      "\n",
      "\n"
     ]
    },
    {
     "name": "stderr",
     "output_type": "stream",
     "text": [
      "[Succeeded / Failed / Skipped / Total] 139 / 54 / 33 / 226:  45%|████▌     | 227/500 [47:00<56:32, 12.43s/it]/scratch/sp6646/envs_dirs/swap_env/lib/python3.8/site-packages/textattack/loggers/csv_logger.py:41: FutureWarning: The frame.append method is deprecated and will be removed from pandas in a future version. Use pandas.concat instead.\n",
      "  self.df = self.df.append(row, ignore_index=True)\n",
      "[Succeeded / Failed / Skipped / Total] 140 / 54 / 33 / 227:  45%|████▌     | 227/500 [47:00<56:32, 12.43s/it]"
     ]
    },
    {
     "name": "stdout",
     "output_type": "stream",
     "text": [
      "--------------------------------------------- Result 227 ---------------------------------------------\n",
      "[[Negative (97%)]] --> [[Positive (81%)]]\n",
      "\n",
      "of [[course]] , by more objective measurements it 's still [[quite]] bad . \n",
      "\n",
      "of [[camino]] , by more objective measurements it 's still [[reasonably]] bad . \n",
      "\n",
      "\n"
     ]
    },
    {
     "name": "stderr",
     "output_type": "stream",
     "text": [
      "[Succeeded / Failed / Skipped / Total] 140 / 54 / 33 / 227:  46%|████▌     | 228/500 [47:10<56:16, 12.41s/it]/scratch/sp6646/envs_dirs/swap_env/lib/python3.8/site-packages/textattack/loggers/csv_logger.py:41: FutureWarning: The frame.append method is deprecated and will be removed from pandas in a future version. Use pandas.concat instead.\n",
      "  self.df = self.df.append(row, ignore_index=True)\n",
      "[Succeeded / Failed / Skipped / Total] 141 / 54 / 33 / 228:  46%|████▌     | 228/500 [47:10<56:16, 12.41s/it]"
     ]
    },
    {
     "name": "stdout",
     "output_type": "stream",
     "text": [
      "--------------------------------------------- Result 228 ---------------------------------------------\n",
      "[[Positive (100%)]] --> [[Negative (65%)]]\n",
      "\n",
      "as the two leads , lathan and diggs are [[charming]] and have chemistry both as friends and [[lovers]] . \n",
      "\n",
      "as the two leads , lathan and diggs are [[belle]] and have chemistry both as friends and [[amateur]] . \n",
      "\n",
      "\n"
     ]
    },
    {
     "name": "stderr",
     "output_type": "stream",
     "text": [
      "[Succeeded / Failed / Skipped / Total] 141 / 54 / 33 / 228:  46%|████▌     | 229/500 [47:17<55:58, 12.39s/it]/scratch/sp6646/envs_dirs/swap_env/lib/python3.8/site-packages/textattack/loggers/csv_logger.py:41: FutureWarning: The frame.append method is deprecated and will be removed from pandas in a future version. Use pandas.concat instead.\n",
      "  self.df = self.df.append(row, ignore_index=True)\n",
      "[Succeeded / Failed / Skipped / Total] 142 / 54 / 33 / 229:  46%|████▌     | 229/500 [47:17<55:58, 12.39s/it]"
     ]
    },
    {
     "name": "stdout",
     "output_type": "stream",
     "text": [
      "--------------------------------------------- Result 229 ---------------------------------------------\n",
      "[[Positive (98%)]] --> [[Negative (73%)]]\n",
      "\n",
      "it provides an [[honest]] look at a community striving to anchor itself in new grounds . \n",
      "\n",
      "it provides an [[frankly]] look at a community striving to anchor itself in new grounds . \n",
      "\n",
      "\n"
     ]
    },
    {
     "name": "stderr",
     "output_type": "stream",
     "text": [
      "[Succeeded / Failed / Skipped / Total] 142 / 54 / 33 / 229:  46%|████▌     | 230/500 [47:21<55:36, 12.36s/it]/scratch/sp6646/envs_dirs/swap_env/lib/python3.8/site-packages/textattack/loggers/csv_logger.py:41: FutureWarning: The frame.append method is deprecated and will be removed from pandas in a future version. Use pandas.concat instead.\n",
      "  self.df = self.df.append(row, ignore_index=True)\n",
      "[Succeeded / Failed / Skipped / Total] 143 / 54 / 33 / 230:  46%|████▌     | 230/500 [47:21<55:36, 12.36s/it]/scratch/sp6646/envs_dirs/swap_env/lib/python3.8/site-packages/textattack/loggers/csv_logger.py:41: FutureWarning: The frame.append method is deprecated and will be removed from pandas in a future version. Use pandas.concat instead.\n",
      "  self.df = self.df.append(row, ignore_index=True)\n",
      "[Succeeded / Failed / Skipped / Total] 143 / 54 / 34 / 231:  46%|████▌     | 231/500 [47:21<55:09, 12.30s/it]"
     ]
    },
    {
     "name": "stdout",
     "output_type": "stream",
     "text": [
      "--------------------------------------------- Result 230 ---------------------------------------------\n",
      "[[Negative (99%)]] --> [[Positive (71%)]]\n",
      "\n",
      "this movie [[seems]] to have been written [[using]] mad-libs . \n",
      "\n",
      "this movie [[emerges]] to have been written [[consumes]] mad-libs . \n",
      "\n",
      "\n",
      "--------------------------------------------- Result 231 ---------------------------------------------\n",
      "[[Negative (76%)]] --> [[[SKIPPED]]]\n",
      "\n",
      "reign of fire looks as if it was made without much thought -- and is best watched that way . \n",
      "\n",
      "\n"
     ]
    },
    {
     "name": "stderr",
     "output_type": "stream",
     "text": [
      "[Succeeded / Failed / Skipped / Total] 143 / 54 / 34 / 231:  46%|████▋     | 232/500 [47:44<55:08, 12.35s/it]/scratch/sp6646/envs_dirs/swap_env/lib/python3.8/site-packages/textattack/loggers/csv_logger.py:41: FutureWarning: The frame.append method is deprecated and will be removed from pandas in a future version. Use pandas.concat instead.\n",
      "  self.df = self.df.append(row, ignore_index=True)\n",
      "[Succeeded / Failed / Skipped / Total] 144 / 54 / 34 / 232:  46%|████▋     | 232/500 [47:44<55:08, 12.35s/it]"
     ]
    },
    {
     "name": "stdout",
     "output_type": "stream",
     "text": [
      "--------------------------------------------- Result 232 ---------------------------------------------\n",
      "[[Positive (100%)]] --> [[Negative (53%)]]\n",
      "\n",
      "martin and barbara are complex characters -- sometimes [[tender]] , sometimes angry -- and the delicate performances by sven wollter and viveka seldahl make their hopes and frustrations [[vivid]] . \n",
      "\n",
      "martin and barbara are complex characters -- sometimes [[bidder]] , sometimes angry -- and the delicate performances by sven wollter and viveka seldahl make their hopes and frustrations [[dynamic]] . \n",
      "\n",
      "\n"
     ]
    },
    {
     "name": "stderr",
     "output_type": "stream",
     "text": [
      "[Succeeded / Failed / Skipped / Total] 144 / 54 / 34 / 232:  47%|████▋     | 233/500 [48:15<55:18, 12.43s/it]/scratch/sp6646/envs_dirs/swap_env/lib/python3.8/site-packages/textattack/loggers/csv_logger.py:41: FutureWarning: The frame.append method is deprecated and will be removed from pandas in a future version. Use pandas.concat instead.\n",
      "  self.df = self.df.append(row, ignore_index=True)\n",
      "[Succeeded / Failed / Skipped / Total] 144 / 55 / 34 / 233:  47%|████▋     | 233/500 [48:15<55:18, 12.43s/it]"
     ]
    },
    {
     "name": "stdout",
     "output_type": "stream",
     "text": [
      "--------------------------------------------- Result 233 ---------------------------------------------\n",
      "[[Negative (100%)]] --> [[[FAILED]]]\n",
      "\n",
      "it 's not that kung pow is n't funny some of the time -- it just is n't any funnier than bad martial arts movies are all by themselves , without all oedekerk 's impish augmentation . \n",
      "\n",
      "\n"
     ]
    },
    {
     "name": "stderr",
     "output_type": "stream",
     "text": [
      "[Succeeded / Failed / Skipped / Total] 144 / 55 / 34 / 233:  47%|████▋     | 234/500 [48:30<55:08, 12.44s/it]/scratch/sp6646/envs_dirs/swap_env/lib/python3.8/site-packages/textattack/loggers/csv_logger.py:41: FutureWarning: The frame.append method is deprecated and will be removed from pandas in a future version. Use pandas.concat instead.\n",
      "  self.df = self.df.append(row, ignore_index=True)\n",
      "[Succeeded / Failed / Skipped / Total] 145 / 55 / 34 / 234:  47%|████▋     | 234/500 [48:30<55:08, 12.44s/it]"
     ]
    },
    {
     "name": "stdout",
     "output_type": "stream",
     "text": [
      "--------------------------------------------- Result 234 ---------------------------------------------\n",
      "[[Negative (86%)]] --> [[Positive (96%)]]\n",
      "\n",
      "i 'd have to say the star and director are the big [[problems]] here . \n",
      "\n",
      "i 'd have to say the star and director are the big [[turmoil]] here . \n",
      "\n",
      "\n"
     ]
    },
    {
     "name": "stderr",
     "output_type": "stream",
     "text": [
      "[Succeeded / Failed / Skipped / Total] 145 / 55 / 34 / 234:  47%|████▋     | 235/500 [48:34<54:46, 12.40s/it]/scratch/sp6646/envs_dirs/swap_env/lib/python3.8/site-packages/textattack/loggers/csv_logger.py:41: FutureWarning: The frame.append method is deprecated and will be removed from pandas in a future version. Use pandas.concat instead.\n",
      "  self.df = self.df.append(row, ignore_index=True)\n",
      "[Succeeded / Failed / Skipped / Total] 146 / 55 / 34 / 235:  47%|████▋     | 235/500 [48:34<54:46, 12.40s/it]"
     ]
    },
    {
     "name": "stdout",
     "output_type": "stream",
     "text": [
      "--------------------------------------------- Result 235 ---------------------------------------------\n",
      "[[Positive (100%)]] --> [[Negative (82%)]]\n",
      "\n",
      "affleck and jackson are [[good]] sparring partners . \n",
      "\n",
      "affleck and jackson are [[okay]] sparring partners . \n",
      "\n",
      "\n"
     ]
    },
    {
     "name": "stderr",
     "output_type": "stream",
     "text": [
      "[Succeeded / Failed / Skipped / Total] 146 / 55 / 34 / 235:  47%|████▋     | 236/500 [48:34<54:20, 12.35s/it]/scratch/sp6646/envs_dirs/swap_env/lib/python3.8/site-packages/textattack/loggers/csv_logger.py:41: FutureWarning: The frame.append method is deprecated and will be removed from pandas in a future version. Use pandas.concat instead.\n",
      "  self.df = self.df.append(row, ignore_index=True)\n",
      "[Succeeded / Failed / Skipped / Total] 146 / 55 / 35 / 236:  47%|████▋     | 236/500 [48:34<54:20, 12.35s/it]"
     ]
    },
    {
     "name": "stdout",
     "output_type": "stream",
     "text": [
      "--------------------------------------------- Result 236 ---------------------------------------------\n",
      "[[Negative (61%)]] --> [[[SKIPPED]]]\n",
      "\n",
      "whether you like rap music or loathe it , you ca n't deny either the tragic loss of two young men in the prime of their talent or the power of this movie . \n",
      "\n",
      "\n"
     ]
    },
    {
     "name": "stderr",
     "output_type": "stream",
     "text": [
      "[Succeeded / Failed / Skipped / Total] 146 / 55 / 35 / 236:  47%|████▋     | 237/500 [48:35<53:54, 12.30s/it]/scratch/sp6646/envs_dirs/swap_env/lib/python3.8/site-packages/textattack/loggers/csv_logger.py:41: FutureWarning: The frame.append method is deprecated and will be removed from pandas in a future version. Use pandas.concat instead.\n",
      "  self.df = self.df.append(row, ignore_index=True)\n",
      "[Succeeded / Failed / Skipped / Total] 146 / 55 / 36 / 237:  47%|████▋     | 237/500 [48:35<53:54, 12.30s/it]"
     ]
    },
    {
     "name": "stdout",
     "output_type": "stream",
     "text": [
      "--------------------------------------------- Result 237 ---------------------------------------------\n",
      "[[Negative (90%)]] --> [[[SKIPPED]]]\n",
      "\n",
      "not since japanese filmmaker akira kurosawa 's ran have the savagery of combat and the specter of death been visualized with such operatic grandeur . \n",
      "\n",
      "\n"
     ]
    },
    {
     "name": "stderr",
     "output_type": "stream",
     "text": [
      "[Succeeded / Failed / Skipped / Total] 146 / 55 / 36 / 237:  48%|████▊     | 238/500 [48:46<53:41, 12.30s/it]/scratch/sp6646/envs_dirs/swap_env/lib/python3.8/site-packages/textattack/loggers/csv_logger.py:41: FutureWarning: The frame.append method is deprecated and will be removed from pandas in a future version. Use pandas.concat instead.\n",
      "  self.df = self.df.append(row, ignore_index=True)\n",
      "[Succeeded / Failed / Skipped / Total] 147 / 55 / 36 / 238:  48%|████▊     | 238/500 [48:46<53:41, 12.30s/it]"
     ]
    },
    {
     "name": "stdout",
     "output_type": "stream",
     "text": [
      "--------------------------------------------- Result 238 ---------------------------------------------\n",
      "[[Negative (99%)]] --> [[Positive (80%)]]\n",
      "\n",
      "a by-the-numbers effort that [[wo]] n't do much to [[enhance]] the franchise . \n",
      "\n",
      "a by-the-numbers effort that [[am]] n't do much to [[grew]] the franchise . \n",
      "\n",
      "\n"
     ]
    },
    {
     "name": "stderr",
     "output_type": "stream",
     "text": [
      "[Succeeded / Failed / Skipped / Total] 147 / 55 / 36 / 238:  48%|████▊     | 239/500 [48:47<53:17, 12.25s/it]/scratch/sp6646/envs_dirs/swap_env/lib/python3.8/site-packages/textattack/loggers/csv_logger.py:41: FutureWarning: The frame.append method is deprecated and will be removed from pandas in a future version. Use pandas.concat instead.\n",
      "  self.df = self.df.append(row, ignore_index=True)\n",
      "[Succeeded / Failed / Skipped / Total] 148 / 55 / 36 / 239:  48%|████▊     | 239/500 [48:47<53:17, 12.25s/it]"
     ]
    },
    {
     "name": "stdout",
     "output_type": "stream",
     "text": [
      "--------------------------------------------- Result 239 ---------------------------------------------\n",
      "[[Negative (76%)]] --> [[Positive (92%)]]\n",
      "\n",
      "an occasionally funny , but overall [[limp]] , fish-out-of-water story . \n",
      "\n",
      "an occasionally funny , but overall [[gentle]] , fish-out-of-water story . \n",
      "\n",
      "\n"
     ]
    },
    {
     "name": "stderr",
     "output_type": "stream",
     "text": [
      "[Succeeded / Failed / Skipped / Total] 148 / 55 / 36 / 239:  48%|████▊     | 240/500 [49:04<53:09, 12.27s/it]/scratch/sp6646/envs_dirs/swap_env/lib/python3.8/site-packages/textattack/loggers/csv_logger.py:41: FutureWarning: The frame.append method is deprecated and will be removed from pandas in a future version. Use pandas.concat instead.\n",
      "  self.df = self.df.append(row, ignore_index=True)\n",
      "[Succeeded / Failed / Skipped / Total] 148 / 56 / 36 / 240:  48%|████▊     | 240/500 [49:04<53:09, 12.27s/it]"
     ]
    },
    {
     "name": "stdout",
     "output_type": "stream",
     "text": [
      "--------------------------------------------- Result 240 ---------------------------------------------\n",
      "[[Positive (100%)]] --> [[[FAILED]]]\n",
      "\n",
      "brilliantly explores the conflict between following one 's heart and following the demands of tradition . \n",
      "\n",
      "\n"
     ]
    },
    {
     "name": "stderr",
     "output_type": "stream",
     "text": [
      "[Succeeded / Failed / Skipped / Total] 148 / 56 / 36 / 240:  48%|████▊     | 241/500 [49:17<52:58, 12.27s/it]/scratch/sp6646/envs_dirs/swap_env/lib/python3.8/site-packages/textattack/loggers/csv_logger.py:41: FutureWarning: The frame.append method is deprecated and will be removed from pandas in a future version. Use pandas.concat instead.\n",
      "  self.df = self.df.append(row, ignore_index=True)\n",
      "[Succeeded / Failed / Skipped / Total] 148 / 57 / 36 / 241:  48%|████▊     | 241/500 [49:17<52:58, 12.27s/it]"
     ]
    },
    {
     "name": "stdout",
     "output_type": "stream",
     "text": [
      "--------------------------------------------- Result 241 ---------------------------------------------\n",
      "[[Positive (100%)]] --> [[[FAILED]]]\n",
      "\n",
      "despite the 2-d animation , the wild thornberrys movie makes for a surprisingly cinematic experience . \n",
      "\n",
      "\n"
     ]
    },
    {
     "name": "stderr",
     "output_type": "stream",
     "text": [
      "[Succeeded / Failed / Skipped / Total] 148 / 57 / 36 / 241:  48%|████▊     | 242/500 [49:30<52:47, 12.28s/it]/scratch/sp6646/envs_dirs/swap_env/lib/python3.8/site-packages/textattack/loggers/csv_logger.py:41: FutureWarning: The frame.append method is deprecated and will be removed from pandas in a future version. Use pandas.concat instead.\n",
      "  self.df = self.df.append(row, ignore_index=True)\n",
      "[Succeeded / Failed / Skipped / Total] 149 / 57 / 36 / 242:  48%|████▊     | 242/500 [49:31<52:47, 12.28s/it]"
     ]
    },
    {
     "name": "stdout",
     "output_type": "stream",
     "text": [
      "--------------------------------------------- Result 242 ---------------------------------------------\n",
      "[[Negative (100%)]] --> [[Positive (98%)]]\n",
      "\n",
      "it [[appears]] that something has been [[lost]] in the translation to the [[screen]] . \n",
      "\n",
      "it [[demonstrates]] that something has been [[confiscated]] in the translation to the [[screens]] . \n",
      "\n",
      "\n"
     ]
    },
    {
     "name": "stderr",
     "output_type": "stream",
     "text": [
      "[Succeeded / Failed / Skipped / Total] 149 / 57 / 36 / 242:  49%|████▊     | 243/500 [49:36<52:28, 12.25s/it]/scratch/sp6646/envs_dirs/swap_env/lib/python3.8/site-packages/textattack/loggers/csv_logger.py:41: FutureWarning: The frame.append method is deprecated and will be removed from pandas in a future version. Use pandas.concat instead.\n",
      "  self.df = self.df.append(row, ignore_index=True)\n",
      "[Succeeded / Failed / Skipped / Total] 150 / 57 / 36 / 243:  49%|████▊     | 243/500 [49:36<52:28, 12.25s/it]"
     ]
    },
    {
     "name": "stdout",
     "output_type": "stream",
     "text": [
      "--------------------------------------------- Result 243 ---------------------------------------------\n",
      "[[Negative (100%)]] --> [[Positive (82%)]]\n",
      "\n",
      "it all feels [[like]] a monty python sketch gone horribly [[wrong]] . \n",
      "\n",
      "it all feels [[adore]] a monty python sketch gone horribly [[defective]] . \n",
      "\n",
      "\n"
     ]
    },
    {
     "name": "stderr",
     "output_type": "stream",
     "text": [
      "[Succeeded / Failed / Skipped / Total] 150 / 57 / 36 / 243:  49%|████▉     | 244/500 [49:49<52:16, 12.25s/it]/scratch/sp6646/envs_dirs/swap_env/lib/python3.8/site-packages/textattack/loggers/csv_logger.py:41: FutureWarning: The frame.append method is deprecated and will be removed from pandas in a future version. Use pandas.concat instead.\n",
      "  self.df = self.df.append(row, ignore_index=True)\n",
      "[Succeeded / Failed / Skipped / Total] 151 / 57 / 36 / 244:  49%|████▉     | 244/500 [49:49<52:16, 12.25s/it]"
     ]
    },
    {
     "name": "stdout",
     "output_type": "stream",
     "text": [
      "--------------------------------------------- Result 244 ---------------------------------------------\n",
      "[[Positive (98%)]] --> [[Negative (98%)]]\n",
      "\n",
      "the film [[tunes]] into a grief that could lead a man across [[centuries]] . \n",
      "\n",
      "the film [[riff]] into a grief that could lead a man across [[aged]] . \n",
      "\n",
      "\n"
     ]
    },
    {
     "name": "stderr",
     "output_type": "stream",
     "text": [
      "[Succeeded / Failed / Skipped / Total] 151 / 57 / 36 / 244:  49%|████▉     | 245/500 [50:19<52:23, 12.33s/it]/scratch/sp6646/envs_dirs/swap_env/lib/python3.8/site-packages/textattack/loggers/csv_logger.py:41: FutureWarning: The frame.append method is deprecated and will be removed from pandas in a future version. Use pandas.concat instead.\n",
      "  self.df = self.df.append(row, ignore_index=True)\n",
      "[Succeeded / Failed / Skipped / Total] 152 / 57 / 36 / 245:  49%|████▉     | 245/500 [50:19<52:23, 12.33s/it]"
     ]
    },
    {
     "name": "stdout",
     "output_type": "stream",
     "text": [
      "--------------------------------------------- Result 245 ---------------------------------------------\n",
      "[[Positive (99%)]] --> [[Negative (79%)]]\n",
      "\n",
      "[[dazzles]] with its fully-written [[characters]] , its [[determined]] stylishness ( which always relates to characters and story ) and johnny dankworth 's best soundtrack in years . \n",
      "\n",
      "[[amazes]] with its fully-written [[specifics]] , its [[forceful]] stylishness ( which always relates to characters and story ) and johnny dankworth 's best soundtrack in years . \n",
      "\n",
      "\n"
     ]
    },
    {
     "name": "stderr",
     "output_type": "stream",
     "text": [
      "[Succeeded / Failed / Skipped / Total] 152 / 57 / 36 / 245:  49%|████▉     | 246/500 [50:40<52:19, 12.36s/it]/scratch/sp6646/envs_dirs/swap_env/lib/python3.8/site-packages/textattack/loggers/csv_logger.py:41: FutureWarning: The frame.append method is deprecated and will be removed from pandas in a future version. Use pandas.concat instead.\n",
      "  self.df = self.df.append(row, ignore_index=True)\n",
      "[Succeeded / Failed / Skipped / Total] 153 / 57 / 36 / 246:  49%|████▉     | 246/500 [50:40<52:19, 12.36s/it]"
     ]
    },
    {
     "name": "stdout",
     "output_type": "stream",
     "text": [
      "--------------------------------------------- Result 246 ---------------------------------------------\n",
      "[[Positive (99%)]] --> [[Negative (92%)]]\n",
      "\n",
      "it 's a [[work]] by an artist so in control of both his medium and his message that he can improvise like a jazzman . \n",
      "\n",
      "it 's a [[labor]] by an artist so in control of both his medium and his message that he can improvise like a jazzman . \n",
      "\n",
      "\n"
     ]
    },
    {
     "name": "stderr",
     "output_type": "stream",
     "text": [
      "[Succeeded / Failed / Skipped / Total] 153 / 57 / 36 / 246:  49%|████▉     | 247/500 [51:10<52:25, 12.43s/it]/scratch/sp6646/envs_dirs/swap_env/lib/python3.8/site-packages/textattack/loggers/csv_logger.py:41: FutureWarning: The frame.append method is deprecated and will be removed from pandas in a future version. Use pandas.concat instead.\n",
      "  self.df = self.df.append(row, ignore_index=True)\n",
      "[Succeeded / Failed / Skipped / Total] 153 / 58 / 36 / 247:  49%|████▉     | 247/500 [51:10<52:25, 12.43s/it]"
     ]
    },
    {
     "name": "stdout",
     "output_type": "stream",
     "text": [
      "--------------------------------------------- Result 247 ---------------------------------------------\n",
      "[[Positive (100%)]] --> [[[FAILED]]]\n",
      "\n",
      "it 's the chemistry between the women and the droll scene-stealing wit and wolfish pessimism of anna chancellor that makes this `` two weddings and a funeral '' fun . \n",
      "\n",
      "\n"
     ]
    },
    {
     "name": "stderr",
     "output_type": "stream",
     "text": [
      "[Succeeded / Failed / Skipped / Total] 153 / 58 / 36 / 247:  50%|████▉     | 248/500 [51:11<52:00, 12.38s/it]/scratch/sp6646/envs_dirs/swap_env/lib/python3.8/site-packages/textattack/loggers/csv_logger.py:41: FutureWarning: The frame.append method is deprecated and will be removed from pandas in a future version. Use pandas.concat instead.\n",
      "  self.df = self.df.append(row, ignore_index=True)\n",
      "[Succeeded / Failed / Skipped / Total] 153 / 58 / 37 / 248:  50%|████▉     | 248/500 [51:11<52:01, 12.38s/it]"
     ]
    },
    {
     "name": "stdout",
     "output_type": "stream",
     "text": [
      "--------------------------------------------- Result 248 ---------------------------------------------\n",
      "[[Positive (96%)]] --> [[[SKIPPED]]]\n",
      "\n",
      "stealing harvard is evidence that the farrelly bros. -- peter and bobby -- and their brand of screen comedy are wheezing to an end , along with green 's half-hearted movie career . \n",
      "\n",
      "\n"
     ]
    },
    {
     "name": "stderr",
     "output_type": "stream",
     "text": [
      "[Succeeded / Failed / Skipped / Total] 153 / 58 / 37 / 248:  50%|████▉     | 249/500 [51:11<51:36, 12.34s/it]/scratch/sp6646/envs_dirs/swap_env/lib/python3.8/site-packages/textattack/loggers/csv_logger.py:41: FutureWarning: The frame.append method is deprecated and will be removed from pandas in a future version. Use pandas.concat instead.\n",
      "  self.df = self.df.append(row, ignore_index=True)\n",
      "[Succeeded / Failed / Skipped / Total] 153 / 58 / 38 / 249:  50%|████▉     | 249/500 [51:11<51:36, 12.34s/it]"
     ]
    },
    {
     "name": "stdout",
     "output_type": "stream",
     "text": [
      "--------------------------------------------- Result 249 ---------------------------------------------\n",
      "[[Negative (96%)]] --> [[[SKIPPED]]]\n",
      "\n",
      "a full world has been presented onscreen , not some series of carefully structured plot points building to a pat resolution . \n",
      "\n",
      "\n"
     ]
    },
    {
     "name": "stderr",
     "output_type": "stream",
     "text": [
      "[Succeeded / Failed / Skipped / Total] 153 / 58 / 38 / 249:  50%|█████     | 250/500 [51:25<51:25, 12.34s/it]/scratch/sp6646/envs_dirs/swap_env/lib/python3.8/site-packages/textattack/loggers/csv_logger.py:41: FutureWarning: The frame.append method is deprecated and will be removed from pandas in a future version. Use pandas.concat instead.\n",
      "  self.df = self.df.append(row, ignore_index=True)\n",
      "[Succeeded / Failed / Skipped / Total] 154 / 58 / 38 / 250:  50%|█████     | 250/500 [51:25<51:25, 12.34s/it]"
     ]
    },
    {
     "name": "stdout",
     "output_type": "stream",
     "text": [
      "--------------------------------------------- Result 250 ---------------------------------------------\n",
      "[[Positive (98%)]] --> [[Negative (69%)]]\n",
      "\n",
      "huston nails both the glad-handing and the choking [[sense]] of hollow [[despair]] . \n",
      "\n",
      "huston nails both the glad-handing and the choking [[logic]] of hollow [[futility]] . \n",
      "\n",
      "\n"
     ]
    },
    {
     "name": "stderr",
     "output_type": "stream",
     "text": [
      "[Succeeded / Failed / Skipped / Total] 154 / 58 / 38 / 250:  50%|█████     | 251/500 [51:35<51:10, 12.33s/it]/scratch/sp6646/envs_dirs/swap_env/lib/python3.8/site-packages/textattack/loggers/csv_logger.py:41: FutureWarning: The frame.append method is deprecated and will be removed from pandas in a future version. Use pandas.concat instead.\n",
      "  self.df = self.df.append(row, ignore_index=True)\n",
      "[Succeeded / Failed / Skipped / Total] 154 / 59 / 38 / 251:  50%|█████     | 251/500 [51:35<51:10, 12.33s/it]"
     ]
    },
    {
     "name": "stdout",
     "output_type": "stream",
     "text": [
      "--------------------------------------------- Result 251 ---------------------------------------------\n",
      "[[Positive (100%)]] --> [[[FAILED]]]\n",
      "\n",
      "one of the more intelligent children 's movies to hit theaters this year . \n",
      "\n",
      "\n"
     ]
    },
    {
     "name": "stderr",
     "output_type": "stream",
     "text": [
      "[Succeeded / Failed / Skipped / Total] 154 / 59 / 38 / 251:  50%|█████     | 252/500 [51:49<50:59, 12.34s/it]/scratch/sp6646/envs_dirs/swap_env/lib/python3.8/site-packages/textattack/loggers/csv_logger.py:41: FutureWarning: The frame.append method is deprecated and will be removed from pandas in a future version. Use pandas.concat instead.\n",
      "  self.df = self.df.append(row, ignore_index=True)\n",
      "[Succeeded / Failed / Skipped / Total] 155 / 59 / 38 / 252:  50%|█████     | 252/500 [51:49<50:59, 12.34s/it]"
     ]
    },
    {
     "name": "stdout",
     "output_type": "stream",
     "text": [
      "--------------------------------------------- Result 252 ---------------------------------------------\n",
      "[[Negative (99%)]] --> [[Positive (56%)]]\n",
      "\n",
      "the film tries too [[hard]] to be funny and [[tries]] too hard to be hip . \n",
      "\n",
      "the film tries too [[fierce]] to be funny and [[yearn]] too hard to be hip . \n",
      "\n",
      "\n"
     ]
    },
    {
     "name": "stderr",
     "output_type": "stream",
     "text": [
      "[Succeeded / Failed / Skipped / Total] 155 / 59 / 38 / 252:  51%|█████     | 253/500 [51:52<50:38, 12.30s/it]/scratch/sp6646/envs_dirs/swap_env/lib/python3.8/site-packages/textattack/loggers/csv_logger.py:41: FutureWarning: The frame.append method is deprecated and will be removed from pandas in a future version. Use pandas.concat instead.\n",
      "  self.df = self.df.append(row, ignore_index=True)\n",
      "[Succeeded / Failed / Skipped / Total] 156 / 59 / 38 / 253:  51%|█████     | 253/500 [51:52<50:38, 12.30s/it]"
     ]
    },
    {
     "name": "stdout",
     "output_type": "stream",
     "text": [
      "--------------------------------------------- Result 253 ---------------------------------------------\n",
      "[[Positive (100%)]] --> [[Negative (84%)]]\n",
      "\n",
      "blanchett 's [[performance]] confirms her [[power]] once again . \n",
      "\n",
      "blanchett 's [[enforcement]] confirms her [[energies]] once again . \n",
      "\n",
      "\n"
     ]
    },
    {
     "name": "stderr",
     "output_type": "stream",
     "text": [
      "[Succeeded / Failed / Skipped / Total] 156 / 59 / 38 / 253:  51%|█████     | 254/500 [52:16<50:37, 12.35s/it]/scratch/sp6646/envs_dirs/swap_env/lib/python3.8/site-packages/textattack/loggers/csv_logger.py:41: FutureWarning: The frame.append method is deprecated and will be removed from pandas in a future version. Use pandas.concat instead.\n",
      "  self.df = self.df.append(row, ignore_index=True)\n",
      "[Succeeded / Failed / Skipped / Total] 156 / 60 / 38 / 254:  51%|█████     | 254/500 [52:16<50:37, 12.35s/it]"
     ]
    },
    {
     "name": "stdout",
     "output_type": "stream",
     "text": [
      "--------------------------------------------- Result 254 ---------------------------------------------\n",
      "[[Negative (96%)]] --> [[[FAILED]]]\n",
      "\n",
      "if you believe any of this , i can make you a real deal on leftover enron stock that will double in value a week from friday . \n",
      "\n",
      "\n"
     ]
    },
    {
     "name": "stderr",
     "output_type": "stream",
     "text": [
      "[Succeeded / Failed / Skipped / Total] 156 / 60 / 38 / 254:  51%|█████     | 255/500 [52:30<50:26, 12.35s/it]/scratch/sp6646/envs_dirs/swap_env/lib/python3.8/site-packages/textattack/loggers/csv_logger.py:41: FutureWarning: The frame.append method is deprecated and will be removed from pandas in a future version. Use pandas.concat instead.\n",
      "  self.df = self.df.append(row, ignore_index=True)\n",
      "[Succeeded / Failed / Skipped / Total] 157 / 60 / 38 / 255:  51%|█████     | 255/500 [52:30<50:26, 12.36s/it]"
     ]
    },
    {
     "name": "stdout",
     "output_type": "stream",
     "text": [
      "--------------------------------------------- Result 255 ---------------------------------------------\n",
      "[[Negative (100%)]] --> [[Positive (75%)]]\n",
      "\n",
      "[[attempts]] by this ensemble film to impart a message are so heavy-handed that they instead pummel the audience . \n",
      "\n",
      "[[strives]] by this ensemble film to impart a message are so heavy-handed that they instead pummel the audience . \n",
      "\n",
      "\n"
     ]
    },
    {
     "name": "stderr",
     "output_type": "stream",
     "text": [
      "[Succeeded / Failed / Skipped / Total] 157 / 60 / 38 / 255:  51%|█████     | 256/500 [52:46<50:18, 12.37s/it]/scratch/sp6646/envs_dirs/swap_env/lib/python3.8/site-packages/textattack/loggers/csv_logger.py:41: FutureWarning: The frame.append method is deprecated and will be removed from pandas in a future version. Use pandas.concat instead.\n",
      "  self.df = self.df.append(row, ignore_index=True)\n",
      "[Succeeded / Failed / Skipped / Total] 157 / 61 / 38 / 256:  51%|█████     | 256/500 [52:47<50:18, 12.37s/it]"
     ]
    },
    {
     "name": "stdout",
     "output_type": "stream",
     "text": [
      "--------------------------------------------- Result 256 ---------------------------------------------\n",
      "[[Negative (99%)]] --> [[[FAILED]]]\n",
      "\n",
      "no one but a convict guilty of some truly heinous crime should have to sit through the master of disguise . \n",
      "\n",
      "\n"
     ]
    },
    {
     "name": "stderr",
     "output_type": "stream",
     "text": [
      "[Succeeded / Failed / Skipped / Total] 157 / 61 / 38 / 256:  51%|█████▏    | 257/500 [52:50<49:57, 12.34s/it]/scratch/sp6646/envs_dirs/swap_env/lib/python3.8/site-packages/textattack/loggers/csv_logger.py:41: FutureWarning: The frame.append method is deprecated and will be removed from pandas in a future version. Use pandas.concat instead.\n",
      "  self.df = self.df.append(row, ignore_index=True)\n",
      "[Succeeded / Failed / Skipped / Total] 158 / 61 / 38 / 257:  51%|█████▏    | 257/500 [52:50<49:57, 12.34s/it]"
     ]
    },
    {
     "name": "stdout",
     "output_type": "stream",
     "text": [
      "--------------------------------------------- Result 257 ---------------------------------------------\n",
      "[[Negative (95%)]] --> [[Positive (55%)]]\n",
      "\n",
      "rarely has so much [[money]] delivered so little entertainment . \n",
      "\n",
      "rarely has so much [[silver]] delivered so little entertainment . \n",
      "\n",
      "\n"
     ]
    },
    {
     "name": "stderr",
     "output_type": "stream",
     "text": [
      "[Succeeded / Failed / Skipped / Total] 158 / 61 / 38 / 257:  52%|█████▏    | 258/500 [53:04<49:46, 12.34s/it]/scratch/sp6646/envs_dirs/swap_env/lib/python3.8/site-packages/textattack/loggers/csv_logger.py:41: FutureWarning: The frame.append method is deprecated and will be removed from pandas in a future version. Use pandas.concat instead.\n",
      "  self.df = self.df.append(row, ignore_index=True)\n",
      "[Succeeded / Failed / Skipped / Total] 159 / 61 / 38 / 258:  52%|█████▏    | 258/500 [53:04<49:46, 12.34s/it]"
     ]
    },
    {
     "name": "stdout",
     "output_type": "stream",
     "text": [
      "--------------------------------------------- Result 258 ---------------------------------------------\n",
      "[[Negative (100%)]] --> [[Positive (60%)]]\n",
      "\n",
      "taylor appears to have [[blown]] his entire budget on soundtrack rights and had nothing left over for [[jokes]] . \n",
      "\n",
      "taylor appears to have [[fused]] his entire budget on soundtrack rights and had nothing left over for [[giggle]] . \n",
      "\n",
      "\n"
     ]
    },
    {
     "name": "stderr",
     "output_type": "stream",
     "text": [
      "[Succeeded / Failed / Skipped / Total] 159 / 61 / 38 / 258:  52%|█████▏    | 259/500 [53:14<49:32, 12.33s/it]/scratch/sp6646/envs_dirs/swap_env/lib/python3.8/site-packages/textattack/loggers/csv_logger.py:41: FutureWarning: The frame.append method is deprecated and will be removed from pandas in a future version. Use pandas.concat instead.\n",
      "  self.df = self.df.append(row, ignore_index=True)\n",
      "[Succeeded / Failed / Skipped / Total] 160 / 61 / 38 / 259:  52%|█████▏    | 259/500 [53:14<49:32, 12.33s/it]"
     ]
    },
    {
     "name": "stdout",
     "output_type": "stream",
     "text": [
      "--------------------------------------------- Result 259 ---------------------------------------------\n",
      "[[Negative (100%)]] --> [[Positive (64%)]]\n",
      "\n",
      "`` the time [[machine]] '' is a [[movie]] that has no [[interest]] in itself . \n",
      "\n",
      "`` the time [[team]] '' is a [[cinematography]] that has no [[beware]] in itself . \n",
      "\n",
      "\n"
     ]
    },
    {
     "name": "stderr",
     "output_type": "stream",
     "text": [
      "[Succeeded / Failed / Skipped / Total] 160 / 61 / 38 / 259:  52%|█████▏    | 260/500 [53:28<49:21, 12.34s/it]/scratch/sp6646/envs_dirs/swap_env/lib/python3.8/site-packages/textattack/loggers/csv_logger.py:41: FutureWarning: The frame.append method is deprecated and will be removed from pandas in a future version. Use pandas.concat instead.\n",
      "  self.df = self.df.append(row, ignore_index=True)\n",
      "[Succeeded / Failed / Skipped / Total] 161 / 61 / 38 / 260:  52%|█████▏    | 260/500 [53:28<49:21, 12.34s/it]"
     ]
    },
    {
     "name": "stdout",
     "output_type": "stream",
     "text": [
      "--------------------------------------------- Result 260 ---------------------------------------------\n",
      "[[Positive (100%)]] --> [[Negative (71%)]]\n",
      "\n",
      "a rarity among recent iranian films : it 's a comedy full of [[gentle]] humor that chides the absurdity of its protagonist 's plight . \n",
      "\n",
      "a rarity among recent iranian films : it 's a comedy full of [[limp]] humor that chides the absurdity of its protagonist 's plight . \n",
      "\n",
      "\n"
     ]
    },
    {
     "name": "stderr",
     "output_type": "stream",
     "text": [
      "[Succeeded / Failed / Skipped / Total] 161 / 61 / 38 / 260:  52%|█████▏    | 261/500 [53:28<48:58, 12.29s/it]/scratch/sp6646/envs_dirs/swap_env/lib/python3.8/site-packages/textattack/loggers/csv_logger.py:41: FutureWarning: The frame.append method is deprecated and will be removed from pandas in a future version. Use pandas.concat instead.\n",
      "  self.df = self.df.append(row, ignore_index=True)\n",
      "[Succeeded / Failed / Skipped / Total] 161 / 61 / 39 / 261:  52%|█████▏    | 261/500 [53:28<48:58, 12.29s/it]"
     ]
    },
    {
     "name": "stdout",
     "output_type": "stream",
     "text": [
      "--------------------------------------------- Result 261 ---------------------------------------------\n",
      "[[Positive (91%)]] --> [[[SKIPPED]]]\n",
      "\n",
      "/ but daphne , you 're too buff / fred thinks he 's tough / and velma - wow , you 've lost weight ! \n",
      "\n",
      "\n"
     ]
    },
    {
     "name": "stderr",
     "output_type": "stream",
     "text": [
      "[Succeeded / Failed / Skipped / Total] 161 / 61 / 39 / 261:  52%|█████▏    | 262/500 [53:44<48:49, 12.31s/it]/scratch/sp6646/envs_dirs/swap_env/lib/python3.8/site-packages/textattack/loggers/csv_logger.py:41: FutureWarning: The frame.append method is deprecated and will be removed from pandas in a future version. Use pandas.concat instead.\n",
      "  self.df = self.df.append(row, ignore_index=True)\n",
      "[Succeeded / Failed / Skipped / Total] 162 / 61 / 39 / 262:  52%|█████▏    | 262/500 [53:44<48:49, 12.31s/it]"
     ]
    },
    {
     "name": "stdout",
     "output_type": "stream",
     "text": [
      "--------------------------------------------- Result 262 ---------------------------------------------\n",
      "[[Positive (99%)]] --> [[Negative (76%)]]\n",
      "\n",
      "the very definition of the ` small ' movie , but it is a [[good]] stepping stone for [[director]] sprecher . \n",
      "\n",
      "the very definition of the ` small ' movie , but it is a [[proper]] stepping stone for [[administrator]] sprecher . \n",
      "\n",
      "\n"
     ]
    },
    {
     "name": "stderr",
     "output_type": "stream",
     "text": [
      "[Succeeded / Failed / Skipped / Total] 162 / 61 / 39 / 262:  53%|█████▎    | 263/500 [54:16<48:54, 12.38s/it]/scratch/sp6646/envs_dirs/swap_env/lib/python3.8/site-packages/textattack/loggers/csv_logger.py:41: FutureWarning: The frame.append method is deprecated and will be removed from pandas in a future version. Use pandas.concat instead.\n",
      "  self.df = self.df.append(row, ignore_index=True)\n",
      "[Succeeded / Failed / Skipped / Total] 163 / 61 / 39 / 263:  53%|█████▎    | 263/500 [54:16<48:54, 12.38s/it]"
     ]
    },
    {
     "name": "stdout",
     "output_type": "stream",
     "text": [
      "--------------------------------------------- Result 263 ---------------------------------------------\n",
      "[[Negative (99%)]] --> [[Positive (52%)]]\n",
      "\n",
      "it 's like every [[bad]] idea that 's ever gone into an after-school special [[compiled]] in one place , minus those daytime programs ' slickness and sophistication ( and who knew they even had any ? ) . \n",
      "\n",
      "it 's like every [[wicked]] idea that 's ever gone into an after-school special [[collating]] in one place , minus those daytime programs ' slickness and sophistication ( and who knew they even had any ? ) . \n",
      "\n",
      "\n"
     ]
    },
    {
     "name": "stderr",
     "output_type": "stream",
     "text": [
      "[Succeeded / Failed / Skipped / Total] 163 / 61 / 39 / 263:  53%|█████▎    | 264/500 [54:21<48:35, 12.36s/it]/scratch/sp6646/envs_dirs/swap_env/lib/python3.8/site-packages/textattack/loggers/csv_logger.py:41: FutureWarning: The frame.append method is deprecated and will be removed from pandas in a future version. Use pandas.concat instead.\n",
      "  self.df = self.df.append(row, ignore_index=True)\n",
      "[Succeeded / Failed / Skipped / Total] 164 / 61 / 39 / 264:  53%|█████▎    | 264/500 [54:21<48:35, 12.36s/it]"
     ]
    },
    {
     "name": "stdout",
     "output_type": "stream",
     "text": [
      "--------------------------------------------- Result 264 ---------------------------------------------\n",
      "[[Positive (70%)]] --> [[Negative (56%)]]\n",
      "\n",
      "chilling , well-acted , and [[finely]] directed : david jacobson 's dahmer . \n",
      "\n",
      "chilling , well-acted , and [[neatly]] directed : david jacobson 's dahmer . \n",
      "\n",
      "\n"
     ]
    },
    {
     "name": "stderr",
     "output_type": "stream",
     "text": [
      "[Succeeded / Failed / Skipped / Total] 164 / 61 / 39 / 264:  53%|█████▎    | 265/500 [54:37<48:26, 12.37s/it]/scratch/sp6646/envs_dirs/swap_env/lib/python3.8/site-packages/textattack/loggers/csv_logger.py:41: FutureWarning: The frame.append method is deprecated and will be removed from pandas in a future version. Use pandas.concat instead.\n",
      "  self.df = self.df.append(row, ignore_index=True)\n",
      "[Succeeded / Failed / Skipped / Total] 165 / 61 / 39 / 265:  53%|█████▎    | 265/500 [54:37<48:26, 12.37s/it]"
     ]
    },
    {
     "name": "stdout",
     "output_type": "stream",
     "text": [
      "--------------------------------------------- Result 265 ---------------------------------------------\n",
      "[[Negative (96%)]] --> [[Positive (53%)]]\n",
      "\n",
      "it ca n't [[decide]] if it [[wants]] to be a mystery/thriller , a romance or a comedy . \n",
      "\n",
      "it ca n't [[choosing]] if it [[yearnings]] to be a mystery/thriller , a romance or a comedy . \n",
      "\n",
      "\n"
     ]
    },
    {
     "name": "stderr",
     "output_type": "stream",
     "text": [
      "[Succeeded / Failed / Skipped / Total] 165 / 61 / 39 / 265:  53%|█████▎    | 266/500 [54:38<48:03, 12.32s/it]/scratch/sp6646/envs_dirs/swap_env/lib/python3.8/site-packages/textattack/loggers/csv_logger.py:41: FutureWarning: The frame.append method is deprecated and will be removed from pandas in a future version. Use pandas.concat instead.\n",
      "  self.df = self.df.append(row, ignore_index=True)\n",
      "[Succeeded / Failed / Skipped / Total] 165 / 61 / 40 / 266:  53%|█████▎    | 266/500 [54:38<48:03, 12.32s/it]"
     ]
    },
    {
     "name": "stdout",
     "output_type": "stream",
     "text": [
      "--------------------------------------------- Result 266 ---------------------------------------------\n",
      "[[Positive (81%)]] --> [[[SKIPPED]]]\n",
      "\n",
      "paid in full is so stale , in fact , that its most vibrant scene is one that uses clips from brian de palma 's scarface . \n",
      "\n",
      "\n"
     ]
    },
    {
     "name": "stderr",
     "output_type": "stream",
     "text": [
      "[Succeeded / Failed / Skipped / Total] 165 / 61 / 40 / 266:  53%|█████▎    | 267/500 [55:00<48:00, 12.36s/it]/scratch/sp6646/envs_dirs/swap_env/lib/python3.8/site-packages/textattack/loggers/csv_logger.py:41: FutureWarning: The frame.append method is deprecated and will be removed from pandas in a future version. Use pandas.concat instead.\n",
      "  self.df = self.df.append(row, ignore_index=True)\n",
      "[Succeeded / Failed / Skipped / Total] 166 / 61 / 40 / 267:  53%|█████▎    | 267/500 [55:00<48:00, 12.36s/it]"
     ]
    },
    {
     "name": "stdout",
     "output_type": "stream",
     "text": [
      "--------------------------------------------- Result 267 ---------------------------------------------\n",
      "[[Positive (62%)]] --> [[Negative (68%)]]\n",
      "\n",
      "a coda in every sense , the pinochet case splits time between a minute-by-minute account of the british court 's extradition [[chess]] game and the regime 's talking-head survivors . \n",
      "\n",
      "a coda in every sense , the pinochet case splits time between a minute-by-minute account of the british court 's extradition [[inability]] game and the regime 's talking-head survivors . \n",
      "\n",
      "\n"
     ]
    },
    {
     "name": "stderr",
     "output_type": "stream",
     "text": [
      "[Succeeded / Failed / Skipped / Total] 166 / 61 / 40 / 267:  54%|█████▎    | 268/500 [55:00<47:37, 12.32s/it]/scratch/sp6646/envs_dirs/swap_env/lib/python3.8/site-packages/textattack/loggers/csv_logger.py:41: FutureWarning: The frame.append method is deprecated and will be removed from pandas in a future version. Use pandas.concat instead.\n",
      "  self.df = self.df.append(row, ignore_index=True)\n",
      "[Succeeded / Failed / Skipped / Total] 166 / 61 / 41 / 268:  54%|█████▎    | 268/500 [55:00<47:37, 12.32s/it]"
     ]
    },
    {
     "name": "stdout",
     "output_type": "stream",
     "text": [
      "--------------------------------------------- Result 268 ---------------------------------------------\n",
      "[[Positive (76%)]] --> [[[SKIPPED]]]\n",
      "\n",
      "it 's played in the most straight-faced fashion , with little humor to lighten things up . \n",
      "\n",
      "\n"
     ]
    },
    {
     "name": "stderr",
     "output_type": "stream",
     "text": [
      "[Succeeded / Failed / Skipped / Total] 166 / 61 / 41 / 268:  54%|█████▍    | 269/500 [55:19<47:30, 12.34s/it]/scratch/sp6646/envs_dirs/swap_env/lib/python3.8/site-packages/textattack/loggers/csv_logger.py:41: FutureWarning: The frame.append method is deprecated and will be removed from pandas in a future version. Use pandas.concat instead.\n",
      "  self.df = self.df.append(row, ignore_index=True)\n",
      "[Succeeded / Failed / Skipped / Total] 166 / 62 / 41 / 269:  54%|█████▍    | 269/500 [55:19<47:30, 12.34s/it]"
     ]
    },
    {
     "name": "stdout",
     "output_type": "stream",
     "text": [
      "--------------------------------------------- Result 269 ---------------------------------------------\n",
      "[[Negative (100%)]] --> [[[FAILED]]]\n",
      "\n",
      "a dumb movie with dumb characters doing dumb things and you have to be really dumb not to see where this is going . \n",
      "\n",
      "\n"
     ]
    },
    {
     "name": "stderr",
     "output_type": "stream",
     "text": [
      "[Succeeded / Failed / Skipped / Total] 166 / 62 / 41 / 269:  54%|█████▍    | 270/500 [55:38<47:23, 12.36s/it]/scratch/sp6646/envs_dirs/swap_env/lib/python3.8/site-packages/textattack/loggers/csv_logger.py:41: FutureWarning: The frame.append method is deprecated and will be removed from pandas in a future version. Use pandas.concat instead.\n",
      "  self.df = self.df.append(row, ignore_index=True)\n",
      "[Succeeded / Failed / Skipped / Total] 167 / 62 / 41 / 270:  54%|█████▍    | 270/500 [55:38<47:23, 12.36s/it]"
     ]
    },
    {
     "name": "stdout",
     "output_type": "stream",
     "text": [
      "--------------------------------------------- Result 270 ---------------------------------------------\n",
      "[[Negative (99%)]] --> [[Positive (66%)]]\n",
      "\n",
      "with [[virtually]] no [[interesting]] elements for an audience to focus on , chelsea [[walls]] is a triple-espresso endurance challenge . \n",
      "\n",
      "with [[broadly]] no [[curious]] elements for an audience to focus on , chelsea [[barricades]] is a triple-espresso endurance challenge . \n",
      "\n",
      "\n"
     ]
    },
    {
     "name": "stderr",
     "output_type": "stream",
     "text": [
      "[Succeeded / Failed / Skipped / Total] 167 / 62 / 41 / 270:  54%|█████▍    | 271/500 [55:48<47:09, 12.36s/it]/scratch/sp6646/envs_dirs/swap_env/lib/python3.8/site-packages/textattack/loggers/csv_logger.py:41: FutureWarning: The frame.append method is deprecated and will be removed from pandas in a future version. Use pandas.concat instead.\n",
      "  self.df = self.df.append(row, ignore_index=True)\n",
      "[Succeeded / Failed / Skipped / Total] 168 / 62 / 41 / 271:  54%|█████▍    | 272/500 [55:48<46:46, 12.31s/it]/scratch/sp6646/envs_dirs/swap_env/lib/python3.8/site-packages/textattack/loggers/csv_logger.py:41: FutureWarning: The frame.append method is deprecated and will be removed from pandas in a future version. Use pandas.concat instead.\n",
      "  self.df = self.df.append(row, ignore_index=True)\n",
      "[Succeeded / Failed / Skipped / Total] 168 / 62 / 42 / 272:  54%|█████▍    | 272/500 [55:48<46:46, 12.31s/it]"
     ]
    },
    {
     "name": "stdout",
     "output_type": "stream",
     "text": [
      "--------------------------------------------- Result 271 ---------------------------------------------\n",
      "[[Positive (100%)]] --> [[Negative (98%)]]\n",
      "\n",
      "dense with characters and contains some [[thrilling]] [[moments]] . \n",
      "\n",
      "dense with characters and contains some [[hallucinatory]] [[minutes]] . \n",
      "\n",
      "\n",
      "--------------------------------------------- Result 272 ---------------------------------------------\n",
      "[[Negative (100%)]] --> [[[SKIPPED]]]\n",
      "\n",
      "as unseemly as its title suggests . \n",
      "\n",
      "\n"
     ]
    },
    {
     "name": "stderr",
     "output_type": "stream",
     "text": [
      "[Succeeded / Failed / Skipped / Total] 168 / 62 / 42 / 272:  55%|█████▍    | 273/500 [55:51<46:27, 12.28s/it]/scratch/sp6646/envs_dirs/swap_env/lib/python3.8/site-packages/textattack/loggers/csv_logger.py:41: FutureWarning: The frame.append method is deprecated and will be removed from pandas in a future version. Use pandas.concat instead.\n",
      "  self.df = self.df.append(row, ignore_index=True)\n",
      "[Succeeded / Failed / Skipped / Total] 169 / 62 / 42 / 273:  55%|█████▍    | 273/500 [55:51<46:27, 12.28s/it]"
     ]
    },
    {
     "name": "stdout",
     "output_type": "stream",
     "text": [
      "--------------------------------------------- Result 273 ---------------------------------------------\n",
      "[[Negative (84%)]] --> [[Positive (52%)]]\n",
      "\n",
      "it 's like watching a [[nightmare]] made flesh . \n",
      "\n",
      "it 's like watching a [[dreams]] made flesh . \n",
      "\n",
      "\n"
     ]
    },
    {
     "name": "stderr",
     "output_type": "stream",
     "text": [
      "[Succeeded / Failed / Skipped / Total] 169 / 62 / 42 / 273:  55%|█████▍    | 274/500 [55:52<46:04, 12.23s/it]/scratch/sp6646/envs_dirs/swap_env/lib/python3.8/site-packages/textattack/loggers/csv_logger.py:41: FutureWarning: The frame.append method is deprecated and will be removed from pandas in a future version. Use pandas.concat instead.\n",
      "  self.df = self.df.append(row, ignore_index=True)\n",
      "[Succeeded / Failed / Skipped / Total] 169 / 62 / 43 / 274:  55%|█████▍    | 274/500 [55:52<46:04, 12.23s/it]"
     ]
    },
    {
     "name": "stdout",
     "output_type": "stream",
     "text": [
      "--------------------------------------------- Result 274 ---------------------------------------------\n",
      "[[Negative (54%)]] --> [[[SKIPPED]]]\n",
      "\n",
      "minority report is exactly what the title indicates , a report . \n",
      "\n",
      "\n"
     ]
    },
    {
     "name": "stderr",
     "output_type": "stream",
     "text": [
      "[Succeeded / Failed / Skipped / Total] 169 / 62 / 43 / 274:  55%|█████▌    | 275/500 [56:26<46:10, 12.31s/it]/scratch/sp6646/envs_dirs/swap_env/lib/python3.8/site-packages/textattack/loggers/csv_logger.py:41: FutureWarning: The frame.append method is deprecated and will be removed from pandas in a future version. Use pandas.concat instead.\n",
      "  self.df = self.df.append(row, ignore_index=True)\n",
      "[Succeeded / Failed / Skipped / Total] 170 / 62 / 43 / 275:  55%|█████▌    | 275/500 [56:26<46:10, 12.31s/it]"
     ]
    },
    {
     "name": "stdout",
     "output_type": "stream",
     "text": [
      "--------------------------------------------- Result 275 ---------------------------------------------\n",
      "[[Negative (98%)]] --> [[Positive (50%)]]\n",
      "\n",
      "it 's hard to like a film about a guy who is [[utterly]] unlikeable , and shiner , starring michael caine as an aging british boxing promoter desperate for a taste of fame and fortune , is certainly that . \n",
      "\n",
      "it 's hard to like a film about a guy who is [[totally]] unlikeable , and shiner , starring michael caine as an aging british boxing promoter desperate for a taste of fame and fortune , is certainly that . \n",
      "\n",
      "\n"
     ]
    },
    {
     "name": "stderr",
     "output_type": "stream",
     "text": [
      "[Succeeded / Failed / Skipped / Total] 170 / 62 / 43 / 275:  55%|█████▌    | 276/500 [56:38<45:58, 12.31s/it]/scratch/sp6646/envs_dirs/swap_env/lib/python3.8/site-packages/textattack/loggers/csv_logger.py:41: FutureWarning: The frame.append method is deprecated and will be removed from pandas in a future version. Use pandas.concat instead.\n",
      "  self.df = self.df.append(row, ignore_index=True)\n",
      "[Succeeded / Failed / Skipped / Total] 170 / 63 / 43 / 276:  55%|█████▌    | 276/500 [56:38<45:58, 12.31s/it]"
     ]
    },
    {
     "name": "stdout",
     "output_type": "stream",
     "text": [
      "--------------------------------------------- Result 276 ---------------------------------------------\n",
      "[[Positive (100%)]] --> [[[FAILED]]]\n",
      "\n",
      "an entertaining , colorful , action-filled crime story with an intimate heart . \n",
      "\n",
      "\n"
     ]
    },
    {
     "name": "stderr",
     "output_type": "stream",
     "text": [
      "[Succeeded / Failed / Skipped / Total] 170 / 63 / 43 / 276:  55%|█████▌    | 277/500 [56:50<45:45, 12.31s/it]/scratch/sp6646/envs_dirs/swap_env/lib/python3.8/site-packages/textattack/loggers/csv_logger.py:41: FutureWarning: The frame.append method is deprecated and will be removed from pandas in a future version. Use pandas.concat instead.\n",
      "  self.df = self.df.append(row, ignore_index=True)\n",
      "[Succeeded / Failed / Skipped / Total] 171 / 63 / 43 / 277:  55%|█████▌    | 277/500 [56:50<45:45, 12.31s/it]"
     ]
    },
    {
     "name": "stdout",
     "output_type": "stream",
     "text": [
      "--------------------------------------------- Result 277 ---------------------------------------------\n",
      "[[Positive (97%)]] --> [[Negative (85%)]]\n",
      "\n",
      "for this reason and this reason only -- the power of its own steadfast , hoity-toity convictions -- chelsea walls [[deserves]] a medal . \n",
      "\n",
      "for this reason and this reason only -- the power of its own steadfast , hoity-toity convictions -- chelsea walls [[merited]] a medal . \n",
      "\n",
      "\n"
     ]
    },
    {
     "name": "stderr",
     "output_type": "stream",
     "text": [
      "[Succeeded / Failed / Skipped / Total] 171 / 63 / 43 / 277:  56%|█████▌    | 278/500 [57:11<45:40, 12.34s/it]/scratch/sp6646/envs_dirs/swap_env/lib/python3.8/site-packages/textattack/loggers/csv_logger.py:41: FutureWarning: The frame.append method is deprecated and will be removed from pandas in a future version. Use pandas.concat instead.\n",
      "  self.df = self.df.append(row, ignore_index=True)\n",
      "[Succeeded / Failed / Skipped / Total] 171 / 64 / 43 / 278:  56%|█████▌    | 278/500 [57:11<45:40, 12.34s/it]"
     ]
    },
    {
     "name": "stdout",
     "output_type": "stream",
     "text": [
      "--------------------------------------------- Result 278 ---------------------------------------------\n",
      "[[Positive (100%)]] --> [[[FAILED]]]\n",
      "\n",
      "it just may inspire a few younger moviegoers to read stevenson 's book , which is a treasure in and of itself . \n",
      "\n",
      "\n"
     ]
    },
    {
     "name": "stderr",
     "output_type": "stream",
     "text": [
      "[Succeeded / Failed / Skipped / Total] 171 / 64 / 43 / 278:  56%|█████▌    | 279/500 [57:30<45:33, 12.37s/it]/scratch/sp6646/envs_dirs/swap_env/lib/python3.8/site-packages/textattack/loggers/csv_logger.py:41: FutureWarning: The frame.append method is deprecated and will be removed from pandas in a future version. Use pandas.concat instead.\n",
      "  self.df = self.df.append(row, ignore_index=True)\n",
      "[Succeeded / Failed / Skipped / Total] 172 / 64 / 43 / 279:  56%|█████▌    | 279/500 [57:30<45:33, 12.37s/it]"
     ]
    },
    {
     "name": "stdout",
     "output_type": "stream",
     "text": [
      "--------------------------------------------- Result 279 ---------------------------------------------\n",
      "[[Negative (100%)]] --> [[Positive (72%)]]\n",
      "\n",
      "[[basically]] a [[static]] series of semi-improvised ( and semi-coherent ) raps between the stars . \n",
      "\n",
      "[[importantly]] a [[unchanged]] series of semi-improvised ( and semi-coherent ) raps between the stars . \n",
      "\n",
      "\n"
     ]
    },
    {
     "name": "stderr",
     "output_type": "stream",
     "text": [
      "[Succeeded / Failed / Skipped / Total] 172 / 64 / 43 / 279:  56%|█████▌    | 280/500 [57:30<45:11, 12.32s/it]/scratch/sp6646/envs_dirs/swap_env/lib/python3.8/site-packages/textattack/loggers/csv_logger.py:41: FutureWarning: The frame.append method is deprecated and will be removed from pandas in a future version. Use pandas.concat instead.\n",
      "  self.df = self.df.append(row, ignore_index=True)\n",
      "[Succeeded / Failed / Skipped / Total] 172 / 64 / 44 / 280:  56%|█████▌    | 280/500 [57:30<45:11, 12.32s/it]"
     ]
    },
    {
     "name": "stdout",
     "output_type": "stream",
     "text": [
      "--------------------------------------------- Result 280 ---------------------------------------------\n",
      "[[Negative (83%)]] --> [[[SKIPPED]]]\n",
      "\n",
      "... with `` the bourne identity '' we return to the more traditional action genre . \n",
      "\n",
      "\n"
     ]
    },
    {
     "name": "stderr",
     "output_type": "stream",
     "text": [
      "[Succeeded / Failed / Skipped / Total] 172 / 64 / 44 / 280:  56%|█████▌    | 281/500 [57:56<45:09, 12.37s/it]/scratch/sp6646/envs_dirs/swap_env/lib/python3.8/site-packages/textattack/loggers/csv_logger.py:41: FutureWarning: The frame.append method is deprecated and will be removed from pandas in a future version. Use pandas.concat instead.\n",
      "  self.df = self.df.append(row, ignore_index=True)\n",
      "[Succeeded / Failed / Skipped / Total] 172 / 65 / 44 / 281:  56%|█████▌    | 281/500 [57:56<45:09, 12.37s/it]"
     ]
    },
    {
     "name": "stdout",
     "output_type": "stream",
     "text": [
      "--------------------------------------------- Result 281 ---------------------------------------------\n",
      "[[Positive (98%)]] --> [[[FAILED]]]\n",
      "\n",
      "it 's so good that its relentless , polished wit can withstand not only inept school productions , but even oliver parker 's movie adaptation . \n",
      "\n",
      "\n"
     ]
    },
    {
     "name": "stderr",
     "output_type": "stream",
     "text": [
      "[Succeeded / Failed / Skipped / Total] 172 / 65 / 44 / 281:  56%|█████▋    | 282/500 [57:59<44:49, 12.34s/it]/scratch/sp6646/envs_dirs/swap_env/lib/python3.8/site-packages/textattack/loggers/csv_logger.py:41: FutureWarning: The frame.append method is deprecated and will be removed from pandas in a future version. Use pandas.concat instead.\n",
      "  self.df = self.df.append(row, ignore_index=True)\n",
      "[Succeeded / Failed / Skipped / Total] 173 / 65 / 44 / 282:  56%|█████▋    | 282/500 [57:59<44:49, 12.34s/it]"
     ]
    },
    {
     "name": "stdout",
     "output_type": "stream",
     "text": [
      "--------------------------------------------- Result 282 ---------------------------------------------\n",
      "[[Negative (93%)]] --> [[Positive (92%)]]\n",
      "\n",
      "[[chokes]] on its own depiction of upper-crust decorum . \n",
      "\n",
      "[[shoves]] on its own depiction of upper-crust decorum . \n",
      "\n",
      "\n"
     ]
    },
    {
     "name": "stderr",
     "output_type": "stream",
     "text": [
      "[Succeeded / Failed / Skipped / Total] 173 / 65 / 44 / 282:  57%|█████▋    | 283/500 [58:16<44:41, 12.36s/it]/scratch/sp6646/envs_dirs/swap_env/lib/python3.8/site-packages/textattack/loggers/csv_logger.py:41: FutureWarning: The frame.append method is deprecated and will be removed from pandas in a future version. Use pandas.concat instead.\n",
      "  self.df = self.df.append(row, ignore_index=True)\n",
      "[Succeeded / Failed / Skipped / Total] 174 / 65 / 44 / 283:  57%|█████▋    | 283/500 [58:16<44:41, 12.36s/it]"
     ]
    },
    {
     "name": "stdout",
     "output_type": "stream",
     "text": [
      "--------------------------------------------- Result 283 ---------------------------------------------\n",
      "[[Positive (75%)]] --> [[Negative (64%)]]\n",
      "\n",
      "while there 's something intrinsically [[funny]] about sir anthony hopkins saying ` get in the car , bitch , ' this jerry bruckheimer production has little else to offer \n",
      "\n",
      "while there 's something intrinsically [[comical]] about sir anthony hopkins saying ` get in the car , bitch , ' this jerry bruckheimer production has little else to offer \n",
      "\n",
      "\n"
     ]
    },
    {
     "name": "stderr",
     "output_type": "stream",
     "text": [
      "[Succeeded / Failed / Skipped / Total] 174 / 65 / 44 / 283:  57%|█████▋    | 284/500 [58:30<44:30, 12.36s/it]/scratch/sp6646/envs_dirs/swap_env/lib/python3.8/site-packages/textattack/loggers/csv_logger.py:41: FutureWarning: The frame.append method is deprecated and will be removed from pandas in a future version. Use pandas.concat instead.\n",
      "  self.df = self.df.append(row, ignore_index=True)\n",
      "[Succeeded / Failed / Skipped / Total] 174 / 66 / 44 / 284:  57%|█████▋    | 284/500 [58:30<44:30, 12.36s/it]"
     ]
    },
    {
     "name": "stdout",
     "output_type": "stream",
     "text": [
      "--------------------------------------------- Result 284 ---------------------------------------------\n",
      "[[Positive (100%)]] --> [[[FAILED]]]\n",
      "\n",
      "a rewarding work of art for only the most patient and challenge-hungry moviegoers . \n",
      "\n",
      "\n"
     ]
    },
    {
     "name": "stderr",
     "output_type": "stream",
     "text": [
      "[Succeeded / Failed / Skipped / Total] 174 / 66 / 44 / 284:  57%|█████▋    | 285/500 [58:37<44:13, 12.34s/it]/scratch/sp6646/envs_dirs/swap_env/lib/python3.8/site-packages/textattack/loggers/csv_logger.py:41: FutureWarning: The frame.append method is deprecated and will be removed from pandas in a future version. Use pandas.concat instead.\n",
      "  self.df = self.df.append(row, ignore_index=True)\n",
      "[Succeeded / Failed / Skipped / Total] 175 / 66 / 44 / 285:  57%|█████▋    | 285/500 [58:37<44:13, 12.34s/it]"
     ]
    },
    {
     "name": "stdout",
     "output_type": "stream",
     "text": [
      "--------------------------------------------- Result 285 ---------------------------------------------\n",
      "[[Negative (77%)]] --> [[Positive (85%)]]\n",
      "\n",
      "[[directed]] in a paint-by-numbers manner . \n",
      "\n",
      "[[styled]] in a paint-by-numbers manner . \n",
      "\n",
      "\n"
     ]
    },
    {
     "name": "stderr",
     "output_type": "stream",
     "text": [
      "[Succeeded / Failed / Skipped / Total] 175 / 66 / 44 / 285:  57%|█████▋    | 286/500 [58:37<43:52, 12.30s/it]/scratch/sp6646/envs_dirs/swap_env/lib/python3.8/site-packages/textattack/loggers/csv_logger.py:41: FutureWarning: The frame.append method is deprecated and will be removed from pandas in a future version. Use pandas.concat instead.\n",
      "  self.df = self.df.append(row, ignore_index=True)\n",
      "[Succeeded / Failed / Skipped / Total] 175 / 66 / 45 / 286:  57%|█████▋    | 286/500 [58:38<43:52, 12.30s/it]"
     ]
    },
    {
     "name": "stdout",
     "output_type": "stream",
     "text": [
      "--------------------------------------------- Result 286 ---------------------------------------------\n",
      "[[Positive (74%)]] --> [[[SKIPPED]]]\n",
      "\n",
      "k-19 exploits our substantial collective fear of nuclear holocaust to generate cheap hollywood tension . \n",
      "\n",
      "\n"
     ]
    },
    {
     "name": "stderr",
     "output_type": "stream",
     "text": [
      "[Succeeded / Failed / Skipped / Total] 175 / 66 / 45 / 286:  57%|█████▋    | 287/500 [58:48<43:39, 12.30s/it]/scratch/sp6646/envs_dirs/swap_env/lib/python3.8/site-packages/textattack/loggers/csv_logger.py:41: FutureWarning: The frame.append method is deprecated and will be removed from pandas in a future version. Use pandas.concat instead.\n",
      "  self.df = self.df.append(row, ignore_index=True)\n",
      "[Succeeded / Failed / Skipped / Total] 176 / 66 / 45 / 287:  57%|█████▋    | 287/500 [58:48<43:39, 12.30s/it]"
     ]
    },
    {
     "name": "stdout",
     "output_type": "stream",
     "text": [
      "--------------------------------------------- Result 287 ---------------------------------------------\n",
      "[[Positive (99%)]] --> [[Negative (84%)]]\n",
      "\n",
      "at its best , queen is campy [[fun]] like the vincent price horror classics of the '60s . \n",
      "\n",
      "at its best , queen is campy [[distracting]] like the vincent price horror classics of the '60s . \n",
      "\n",
      "\n"
     ]
    },
    {
     "name": "stderr",
     "output_type": "stream",
     "text": [
      "[Succeeded / Failed / Skipped / Total] 176 / 66 / 45 / 287:  58%|█████▊    | 288/500 [59:23<43:42, 12.37s/it]/scratch/sp6646/envs_dirs/swap_env/lib/python3.8/site-packages/textattack/loggers/csv_logger.py:41: FutureWarning: The frame.append method is deprecated and will be removed from pandas in a future version. Use pandas.concat instead.\n",
      "  self.df = self.df.append(row, ignore_index=True)\n",
      "[Succeeded / Failed / Skipped / Total] 176 / 67 / 45 / 288:  58%|█████▊    | 288/500 [59:23<43:42, 12.37s/it]"
     ]
    },
    {
     "name": "stdout",
     "output_type": "stream",
     "text": [
      "--------------------------------------------- Result 288 ---------------------------------------------\n",
      "[[Positive (99%)]] --> [[[FAILED]]]\n",
      "\n",
      "it 's a much more emotional journey than what shyamalan has given us in his past two movies , and gibson , stepping in for bruce willis , is the perfect actor to take us on the trip . \n",
      "\n",
      "\n"
     ]
    },
    {
     "name": "stderr",
     "output_type": "stream",
     "text": [
      "[Succeeded / Failed / Skipped / Total] 176 / 67 / 45 / 288:  58%|█████▊    | 289/500 [59:48<43:39, 12.42s/it]/scratch/sp6646/envs_dirs/swap_env/lib/python3.8/site-packages/textattack/loggers/csv_logger.py:41: FutureWarning: The frame.append method is deprecated and will be removed from pandas in a future version. Use pandas.concat instead.\n",
      "  self.df = self.df.append(row, ignore_index=True)\n",
      "[Succeeded / Failed / Skipped / Total] 176 / 68 / 45 / 289:  58%|█████▊    | 289/500 [59:48<43:39, 12.42s/it]"
     ]
    },
    {
     "name": "stdout",
     "output_type": "stream",
     "text": [
      "--------------------------------------------- Result 289 ---------------------------------------------\n",
      "[[Positive (100%)]] --> [[[FAILED]]]\n",
      "\n",
      "the quality of the art combined with the humor and intelligence of the script allow the filmmakers to present the biblical message of forgiveness without it ever becoming preachy or syrupy . \n",
      "\n",
      "\n"
     ]
    },
    {
     "name": "stderr",
     "output_type": "stream",
     "text": [
      "[Succeeded / Failed / Skipped / Total] 176 / 68 / 45 / 289:  58%|█████▊    | 290/500 [59:49<43:18, 12.38s/it]/scratch/sp6646/envs_dirs/swap_env/lib/python3.8/site-packages/textattack/loggers/csv_logger.py:41: FutureWarning: The frame.append method is deprecated and will be removed from pandas in a future version. Use pandas.concat instead.\n",
      "  self.df = self.df.append(row, ignore_index=True)\n",
      "[Succeeded / Failed / Skipped / Total] 177 / 68 / 45 / 290:  58%|█████▊    | 290/500 [59:49<43:18, 12.38s/it]"
     ]
    },
    {
     "name": "stdout",
     "output_type": "stream",
     "text": [
      "--------------------------------------------- Result 290 ---------------------------------------------\n",
      "[[Positive (100%)]] --> [[Negative (100%)]]\n",
      "\n",
      "[[cool]] ? \n",
      "\n",
      "[[cold]] ? \n",
      "\n",
      "\n"
     ]
    },
    {
     "name": "stderr",
     "output_type": "stream",
     "text": [
      "[Succeeded / Failed / Skipped / Total] 177 / 68 / 45 / 290:  58%|█████▊    | 291/500 [1:00:03<43:07, 12.38s/it]/scratch/sp6646/envs_dirs/swap_env/lib/python3.8/site-packages/textattack/loggers/csv_logger.py:41: FutureWarning: The frame.append method is deprecated and will be removed from pandas in a future version. Use pandas.concat instead.\n",
      "  self.df = self.df.append(row, ignore_index=True)\n",
      "[Succeeded / Failed / Skipped / Total] 178 / 68 / 45 / 291:  58%|█████▊    | 291/500 [1:00:03<43:08, 12.38s/it]"
     ]
    },
    {
     "name": "stdout",
     "output_type": "stream",
     "text": [
      "--------------------------------------------- Result 291 ---------------------------------------------\n",
      "[[Positive (100%)]] --> [[Negative (95%)]]\n",
      "\n",
      "[[deliriously]] [[funny]] , fast and loose , accessible to the uninitiated , and full of [[surprises]] \n",
      "\n",
      "[[hideously]] [[odd]] , fast and loose , accessible to the uninitiated , and full of [[stupor]] \n",
      "\n",
      "\n"
     ]
    },
    {
     "name": "stderr",
     "output_type": "stream",
     "text": [
      "[Succeeded / Failed / Skipped / Total] 178 / 68 / 45 / 291:  58%|█████▊    | 292/500 [1:00:22<43:00, 12.41s/it]/scratch/sp6646/envs_dirs/swap_env/lib/python3.8/site-packages/textattack/loggers/csv_logger.py:41: FutureWarning: The frame.append method is deprecated and will be removed from pandas in a future version. Use pandas.concat instead.\n",
      "  self.df = self.df.append(row, ignore_index=True)\n",
      "[Succeeded / Failed / Skipped / Total] 179 / 68 / 45 / 292:  59%|█████▊    | 293/500 [1:00:22<42:39, 12.36s/it]/scratch/sp6646/envs_dirs/swap_env/lib/python3.8/site-packages/textattack/loggers/csv_logger.py:41: FutureWarning: The frame.append method is deprecated and will be removed from pandas in a future version. Use pandas.concat instead.\n",
      "  self.df = self.df.append(row, ignore_index=True)\n",
      "[Succeeded / Failed / Skipped / Total] 179 / 68 / 46 / 293:  59%|█████▊    | 293/500 [1:00:22<42:39, 12.36s/it]"
     ]
    },
    {
     "name": "stdout",
     "output_type": "stream",
     "text": [
      "--------------------------------------------- Result 292 ---------------------------------------------\n",
      "[[Negative (95%)]] --> [[Positive (86%)]]\n",
      "\n",
      "even with a green mohawk and a sheet of fire-red flame tattoos covering his shoulder , however , kilmer seems to be [[posing]] , [[rather]] than [[acting]] . \n",
      "\n",
      "even with a green mohawk and a sheet of fire-red flame tattoos covering his shoulder , however , kilmer seems to be [[parading]] , [[abundantly]] than [[behaved]] . \n",
      "\n",
      "\n",
      "--------------------------------------------- Result 293 ---------------------------------------------\n",
      "[[Positive (98%)]] --> [[[SKIPPED]]]\n",
      "\n",
      "the story and the friendship proceeds in such a way that you 're watching a soap opera rather than a chronicle of the ups and downs that accompany lifelong friendships . \n",
      "\n",
      "\n"
     ]
    },
    {
     "name": "stderr",
     "output_type": "stream",
     "text": [
      "[Succeeded / Failed / Skipped / Total] 179 / 68 / 46 / 293:  59%|█████▉    | 294/500 [1:00:51<42:38, 12.42s/it]/scratch/sp6646/envs_dirs/swap_env/lib/python3.8/site-packages/textattack/loggers/csv_logger.py:41: FutureWarning: The frame.append method is deprecated and will be removed from pandas in a future version. Use pandas.concat instead.\n",
      "  self.df = self.df.append(row, ignore_index=True)\n",
      "[Succeeded / Failed / Skipped / Total] 180 / 68 / 46 / 294:  59%|█████▉    | 294/500 [1:00:51<42:38, 12.42s/it]"
     ]
    },
    {
     "name": "stdout",
     "output_type": "stream",
     "text": [
      "--------------------------------------------- Result 294 ---------------------------------------------\n",
      "[[Positive (96%)]] --> [[Negative (76%)]]\n",
      "\n",
      "at a time when half the so-called real movies are little more than live-action cartoons , it 's [[refreshing]] to see a cartoon that knows what it is , and knows the form 's history . \n",
      "\n",
      "at a time when half the so-called real movies are little more than live-action cartoons , it 's [[freshening]] to see a cartoon that knows what it is , and knows the form 's history . \n",
      "\n",
      "\n"
     ]
    },
    {
     "name": "stderr",
     "output_type": "stream",
     "text": [
      "[Succeeded / Failed / Skipped / Total] 180 / 68 / 46 / 294:  59%|█████▉    | 295/500 [1:01:28<42:43, 12.50s/it]/scratch/sp6646/envs_dirs/swap_env/lib/python3.8/site-packages/textattack/loggers/csv_logger.py:41: FutureWarning: The frame.append method is deprecated and will be removed from pandas in a future version. Use pandas.concat instead.\n",
      "  self.df = self.df.append(row, ignore_index=True)\n",
      "[Succeeded / Failed / Skipped / Total] 180 / 69 / 46 / 295:  59%|█████▉    | 295/500 [1:01:28<42:43, 12.50s/it]"
     ]
    },
    {
     "name": "stdout",
     "output_type": "stream",
     "text": [
      "--------------------------------------------- Result 295 ---------------------------------------------\n",
      "[[Positive (100%)]] --> [[[FAILED]]]\n",
      "\n",
      "the old-world - meets-new mesh is incarnated in the movie 's soundtrack , a joyful effusion of disco bollywood that , by the end of monsoon wedding , sent my spirit soaring out of the theater . \n",
      "\n",
      "\n"
     ]
    },
    {
     "name": "stderr",
     "output_type": "stream",
     "text": [
      "[Succeeded / Failed / Skipped / Total] 180 / 69 / 46 / 295:  59%|█████▉    | 296/500 [1:01:35<42:26, 12.48s/it]/scratch/sp6646/envs_dirs/swap_env/lib/python3.8/site-packages/textattack/loggers/csv_logger.py:41: FutureWarning: The frame.append method is deprecated and will be removed from pandas in a future version. Use pandas.concat instead.\n",
      "  self.df = self.df.append(row, ignore_index=True)\n",
      "[Succeeded / Failed / Skipped / Total] 181 / 69 / 46 / 296:  59%|█████▉    | 296/500 [1:01:35<42:26, 12.48s/it]"
     ]
    },
    {
     "name": "stdout",
     "output_type": "stream",
     "text": [
      "--------------------------------------------- Result 296 ---------------------------------------------\n",
      "[[Positive (99%)]] --> [[Negative (96%)]]\n",
      "\n",
      "jones ... does [[offer]] a brutal form of charisma . \n",
      "\n",
      "jones ... does [[render]] a brutal form of charisma . \n",
      "\n",
      "\n"
     ]
    },
    {
     "name": "stderr",
     "output_type": "stream",
     "text": [
      "[Succeeded / Failed / Skipped / Total] 181 / 69 / 46 / 296:  59%|█████▉    | 297/500 [1:02:00<42:22, 12.53s/it]/scratch/sp6646/envs_dirs/swap_env/lib/python3.8/site-packages/textattack/loggers/csv_logger.py:41: FutureWarning: The frame.append method is deprecated and will be removed from pandas in a future version. Use pandas.concat instead.\n",
      "  self.df = self.df.append(row, ignore_index=True)\n",
      "[Succeeded / Failed / Skipped / Total] 182 / 69 / 46 / 297:  59%|█████▉    | 297/500 [1:02:00<42:22, 12.53s/it]"
     ]
    },
    {
     "name": "stdout",
     "output_type": "stream",
     "text": [
      "--------------------------------------------- Result 297 ---------------------------------------------\n",
      "[[Negative (86%)]] --> [[Positive (55%)]]\n",
      "\n",
      "its well of thorn and vinegar ( and simple humanity ) has long been plundered by similar works featuring the insight and punch this picture so [[conspicuously]] lacks . \n",
      "\n",
      "its well of thorn and vinegar ( and simple humanity ) has long been plundered by similar works featuring the insight and punch this picture so [[strikingly]] lacks . \n",
      "\n",
      "\n"
     ]
    },
    {
     "name": "stderr",
     "output_type": "stream",
     "text": [
      "[Succeeded / Failed / Skipped / Total] 182 / 69 / 46 / 297:  60%|█████▉    | 298/500 [1:02:09<42:07, 12.51s/it]/scratch/sp6646/envs_dirs/swap_env/lib/python3.8/site-packages/textattack/loggers/csv_logger.py:41: FutureWarning: The frame.append method is deprecated and will be removed from pandas in a future version. Use pandas.concat instead.\n",
      "  self.df = self.df.append(row, ignore_index=True)\n",
      "[Succeeded / Failed / Skipped / Total] 182 / 70 / 46 / 298:  60%|█████▉    | 298/500 [1:02:09<42:08, 12.51s/it]"
     ]
    },
    {
     "name": "stdout",
     "output_type": "stream",
     "text": [
      "--------------------------------------------- Result 298 ---------------------------------------------\n",
      "[[Positive (100%)]] --> [[[FAILED]]]\n",
      "\n",
      "travels a fascinating arc from hope and euphoria to reality and disillusionment . \n",
      "\n",
      "\n"
     ]
    },
    {
     "name": "stderr",
     "output_type": "stream",
     "text": [
      "[Succeeded / Failed / Skipped / Total] 182 / 70 / 46 / 298:  60%|█████▉    | 299/500 [1:02:16<41:52, 12.50s/it]/scratch/sp6646/envs_dirs/swap_env/lib/python3.8/site-packages/textattack/loggers/csv_logger.py:41: FutureWarning: The frame.append method is deprecated and will be removed from pandas in a future version. Use pandas.concat instead.\n",
      "  self.df = self.df.append(row, ignore_index=True)\n",
      "[Succeeded / Failed / Skipped / Total] 183 / 70 / 46 / 299:  60%|█████▉    | 299/500 [1:02:16<41:52, 12.50s/it]"
     ]
    },
    {
     "name": "stdout",
     "output_type": "stream",
     "text": [
      "--------------------------------------------- Result 299 ---------------------------------------------\n",
      "[[Negative (99%)]] --> [[Positive (73%)]]\n",
      "\n",
      "serving sara [[does]] n't [[serve]] up a whole lot of laughs . \n",
      "\n",
      "serving sara [[gonna]] n't [[respond]] up a whole lot of laughs . \n",
      "\n",
      "\n"
     ]
    },
    {
     "name": "stderr",
     "output_type": "stream",
     "text": [
      "[Succeeded / Failed / Skipped / Total] 183 / 70 / 46 / 299:  60%|██████    | 300/500 [1:02:28<41:39, 12.50s/it]/scratch/sp6646/envs_dirs/swap_env/lib/python3.8/site-packages/textattack/loggers/csv_logger.py:41: FutureWarning: The frame.append method is deprecated and will be removed from pandas in a future version. Use pandas.concat instead.\n",
      "  self.df = self.df.append(row, ignore_index=True)\n",
      "[Succeeded / Failed / Skipped / Total] 184 / 70 / 46 / 300:  60%|██████    | 300/500 [1:02:28<41:39, 12.50s/it]"
     ]
    },
    {
     "name": "stdout",
     "output_type": "stream",
     "text": [
      "--------------------------------------------- Result 300 ---------------------------------------------\n",
      "[[Positive (100%)]] --> [[Negative (81%)]]\n",
      "\n",
      "the sort of film that makes me [[miss]] hitchcock , but also feel optimistic that there 's hope for popular cinema yet . \n",
      "\n",
      "the sort of film that makes me [[failed]] hitchcock , but also feel optimistic that there 's hope for popular cinema yet . \n",
      "\n",
      "\n"
     ]
    },
    {
     "name": "stderr",
     "output_type": "stream",
     "text": [
      "[Succeeded / Failed / Skipped / Total] 184 / 70 / 46 / 300:  60%|██████    | 301/500 [1:02:34<41:22, 12.48s/it]/scratch/sp6646/envs_dirs/swap_env/lib/python3.8/site-packages/textattack/loggers/csv_logger.py:41: FutureWarning: The frame.append method is deprecated and will be removed from pandas in a future version. Use pandas.concat instead.\n",
      "  self.df = self.df.append(row, ignore_index=True)\n",
      "[Succeeded / Failed / Skipped / Total] 185 / 70 / 46 / 301:  60%|██████    | 301/500 [1:02:35<41:22, 12.48s/it]"
     ]
    },
    {
     "name": "stdout",
     "output_type": "stream",
     "text": [
      "--------------------------------------------- Result 301 ---------------------------------------------\n",
      "[[Positive (99%)]] --> [[Negative (84%)]]\n",
      "\n",
      "[[fun]] , flip and terribly [[hip]] bit of cinematic entertainment . \n",
      "\n",
      "[[distracting]] , flip and terribly [[peep]] bit of cinematic entertainment . \n",
      "\n",
      "\n"
     ]
    },
    {
     "name": "stderr",
     "output_type": "stream",
     "text": [
      "[Succeeded / Failed / Skipped / Total] 185 / 70 / 46 / 301:  60%|██████    | 302/500 [1:02:35<41:02, 12.44s/it]/scratch/sp6646/envs_dirs/swap_env/lib/python3.8/site-packages/textattack/loggers/csv_logger.py:41: FutureWarning: The frame.append method is deprecated and will be removed from pandas in a future version. Use pandas.concat instead.\n",
      "  self.df = self.df.append(row, ignore_index=True)\n",
      "[Succeeded / Failed / Skipped / Total] 185 / 70 / 47 / 302:  60%|██████    | 302/500 [1:02:35<41:02, 12.44s/it]"
     ]
    },
    {
     "name": "stdout",
     "output_type": "stream",
     "text": [
      "--------------------------------------------- Result 302 ---------------------------------------------\n",
      "[[Positive (82%)]] --> [[[SKIPPED]]]\n",
      "\n",
      "the x potion gives the quickly named blossom , bubbles and buttercup supernatural powers that include extraordinary strength and laser-beam eyes , which unfortunately do n't enable them to discern flimsy screenplays . \n",
      "\n",
      "\n"
     ]
    },
    {
     "name": "stderr",
     "output_type": "stream",
     "text": [
      "[Succeeded / Failed / Skipped / Total] 185 / 70 / 47 / 302:  61%|██████    | 303/500 [1:02:42<40:45, 12.42s/it]/scratch/sp6646/envs_dirs/swap_env/lib/python3.8/site-packages/textattack/loggers/csv_logger.py:41: FutureWarning: The frame.append method is deprecated and will be removed from pandas in a future version. Use pandas.concat instead.\n",
      "  self.df = self.df.append(row, ignore_index=True)\n",
      "[Succeeded / Failed / Skipped / Total] 185 / 71 / 47 / 303:  61%|██████    | 303/500 [1:02:42<40:46, 12.42s/it]"
     ]
    },
    {
     "name": "stdout",
     "output_type": "stream",
     "text": [
      "--------------------------------------------- Result 303 ---------------------------------------------\n",
      "[[Positive (100%)]] --> [[[FAILED]]]\n",
      "\n",
      "the wild thornberrys movie is a jolly surprise . \n",
      "\n",
      "\n"
     ]
    },
    {
     "name": "stderr",
     "output_type": "stream",
     "text": [
      "[Succeeded / Failed / Skipped / Total] 185 / 71 / 47 / 303:  61%|██████    | 304/500 [1:02:45<40:27, 12.39s/it]/scratch/sp6646/envs_dirs/swap_env/lib/python3.8/site-packages/textattack/loggers/csv_logger.py:41: FutureWarning: The frame.append method is deprecated and will be removed from pandas in a future version. Use pandas.concat instead.\n",
      "  self.df = self.df.append(row, ignore_index=True)\n",
      "[Succeeded / Failed / Skipped / Total] 186 / 71 / 47 / 304:  61%|██████    | 304/500 [1:02:45<40:27, 12.39s/it]"
     ]
    },
    {
     "name": "stdout",
     "output_type": "stream",
     "text": [
      "--------------------------------------------- Result 304 ---------------------------------------------\n",
      "[[Positive (100%)]] --> [[Negative (57%)]]\n",
      "\n",
      "[[entertains]] by providing [[good]] , lively company . \n",
      "\n",
      "[[confuses]] by providing [[exemplary]] , lively company . \n",
      "\n",
      "\n"
     ]
    },
    {
     "name": "stderr",
     "output_type": "stream",
     "text": [
      "[Succeeded / Failed / Skipped / Total] 186 / 71 / 47 / 304:  61%|██████    | 305/500 [1:03:00<40:17, 12.40s/it]/scratch/sp6646/envs_dirs/swap_env/lib/python3.8/site-packages/textattack/loggers/csv_logger.py:41: FutureWarning: The frame.append method is deprecated and will be removed from pandas in a future version. Use pandas.concat instead.\n",
      "  self.df = self.df.append(row, ignore_index=True)\n",
      "[Succeeded / Failed / Skipped / Total] 187 / 71 / 47 / 305:  61%|██████    | 305/500 [1:03:00<40:17, 12.40s/it]"
     ]
    },
    {
     "name": "stdout",
     "output_type": "stream",
     "text": [
      "--------------------------------------------- Result 305 ---------------------------------------------\n",
      "[[Positive (99%)]] --> [[Negative (59%)]]\n",
      "\n",
      "a densely constructed , highly referential film , and an audacious return to form that can comfortably sit among jean-luc godard 's [[finest]] work . \n",
      "\n",
      "a densely constructed , highly referential film , and an audacious return to form that can comfortably sit among jean-luc godard 's [[hardest]] work . \n",
      "\n",
      "\n"
     ]
    },
    {
     "name": "stderr",
     "output_type": "stream",
     "text": [
      "[Succeeded / Failed / Skipped / Total] 187 / 71 / 47 / 305:  61%|██████    | 306/500 [1:03:05<39:59, 12.37s/it]/scratch/sp6646/envs_dirs/swap_env/lib/python3.8/site-packages/textattack/loggers/csv_logger.py:41: FutureWarning: The frame.append method is deprecated and will be removed from pandas in a future version. Use pandas.concat instead.\n",
      "  self.df = self.df.append(row, ignore_index=True)\n",
      "[Succeeded / Failed / Skipped / Total] 188 / 71 / 47 / 306:  61%|██████    | 306/500 [1:03:05<39:59, 12.37s/it]"
     ]
    },
    {
     "name": "stdout",
     "output_type": "stream",
     "text": [
      "--------------------------------------------- Result 306 ---------------------------------------------\n",
      "[[Negative (95%)]] --> [[Positive (94%)]]\n",
      "\n",
      "what was once original has been co-opted so frequently that it now seems [[pedestrian]] . \n",
      "\n",
      "what was once original has been co-opted so frequently that it now seems [[passerby]] . \n",
      "\n",
      "\n"
     ]
    },
    {
     "name": "stderr",
     "output_type": "stream",
     "text": [
      "[Succeeded / Failed / Skipped / Total] 188 / 71 / 47 / 306:  61%|██████▏   | 307/500 [1:03:10<39:42, 12.35s/it]/scratch/sp6646/envs_dirs/swap_env/lib/python3.8/site-packages/textattack/loggers/csv_logger.py:41: FutureWarning: The frame.append method is deprecated and will be removed from pandas in a future version. Use pandas.concat instead.\n",
      "  self.df = self.df.append(row, ignore_index=True)\n",
      "[Succeeded / Failed / Skipped / Total] 188 / 72 / 47 / 307:  61%|██████▏   | 307/500 [1:03:10<39:42, 12.35s/it]"
     ]
    },
    {
     "name": "stdout",
     "output_type": "stream",
     "text": [
      "--------------------------------------------- Result 307 ---------------------------------------------\n",
      "[[Positive (91%)]] --> [[[FAILED]]]\n",
      "\n",
      "the story and structure are well-honed . \n",
      "\n",
      "\n"
     ]
    },
    {
     "name": "stderr",
     "output_type": "stream",
     "text": [
      "[Succeeded / Failed / Skipped / Total] 188 / 72 / 47 / 307:  62%|██████▏   | 308/500 [1:03:25<39:32, 12.36s/it]/scratch/sp6646/envs_dirs/swap_env/lib/python3.8/site-packages/textattack/loggers/csv_logger.py:41: FutureWarning: The frame.append method is deprecated and will be removed from pandas in a future version. Use pandas.concat instead.\n",
      "  self.df = self.df.append(row, ignore_index=True)\n",
      "[Succeeded / Failed / Skipped / Total] 188 / 73 / 47 / 308:  62%|██████▏   | 308/500 [1:03:25<39:32, 12.36s/it]"
     ]
    },
    {
     "name": "stdout",
     "output_type": "stream",
     "text": [
      "--------------------------------------------- Result 308 ---------------------------------------------\n",
      "[[Positive (100%)]] --> [[[FAILED]]]\n",
      "\n",
      "macdowell , whose wifty southern charm has anchored lighter affairs ... brings an absolutely riveting conviction to her role . \n",
      "\n",
      "\n"
     ]
    },
    {
     "name": "stderr",
     "output_type": "stream",
     "text": [
      "[Succeeded / Failed / Skipped / Total] 188 / 73 / 47 / 308:  62%|██████▏   | 309/500 [1:03:37<39:19, 12.35s/it]/scratch/sp6646/envs_dirs/swap_env/lib/python3.8/site-packages/textattack/loggers/csv_logger.py:41: FutureWarning: The frame.append method is deprecated and will be removed from pandas in a future version. Use pandas.concat instead.\n",
      "  self.df = self.df.append(row, ignore_index=True)\n",
      "[Succeeded / Failed / Skipped / Total] 189 / 73 / 47 / 309:  62%|██████▏   | 309/500 [1:03:37<39:19, 12.35s/it]"
     ]
    },
    {
     "name": "stdout",
     "output_type": "stream",
     "text": [
      "--------------------------------------------- Result 309 ---------------------------------------------\n",
      "[[Positive (96%)]] --> [[Negative (56%)]]\n",
      "\n",
      "an intriguing cinematic omnibus and round-robin that occasionally is more interesting in concept than in [[execution]] . \n",
      "\n",
      "an intriguing cinematic omnibus and round-robin that occasionally is more interesting in concept than in [[executing]] . \n",
      "\n",
      "\n"
     ]
    },
    {
     "name": "stderr",
     "output_type": "stream",
     "text": [
      "[Succeeded / Failed / Skipped / Total] 189 / 73 / 47 / 309:  62%|██████▏   | 310/500 [1:03:50<39:07, 12.35s/it]/scratch/sp6646/envs_dirs/swap_env/lib/python3.8/site-packages/textattack/loggers/csv_logger.py:41: FutureWarning: The frame.append method is deprecated and will be removed from pandas in a future version. Use pandas.concat instead.\n",
      "  self.df = self.df.append(row, ignore_index=True)\n",
      "[Succeeded / Failed / Skipped / Total] 190 / 73 / 47 / 310:  62%|██████▏   | 310/500 [1:03:50<39:07, 12.36s/it]"
     ]
    },
    {
     "name": "stdout",
     "output_type": "stream",
     "text": [
      "--------------------------------------------- Result 310 ---------------------------------------------\n",
      "[[Positive (100%)]] --> [[Negative (61%)]]\n",
      "\n",
      "the second coming of harry [[potter]] is a film [[far]] [[superior]] to its [[predecessor]] . \n",
      "\n",
      "the second coming of harry [[bears]] is a film [[heavily]] [[senior]] to its [[replace]] . \n",
      "\n",
      "\n"
     ]
    },
    {
     "name": "stderr",
     "output_type": "stream",
     "text": [
      "[Succeeded / Failed / Skipped / Total] 190 / 73 / 47 / 310:  62%|██████▏   | 311/500 [1:03:59<38:53, 12.35s/it]/scratch/sp6646/envs_dirs/swap_env/lib/python3.8/site-packages/textattack/loggers/csv_logger.py:41: FutureWarning: The frame.append method is deprecated and will be removed from pandas in a future version. Use pandas.concat instead.\n",
      "  self.df = self.df.append(row, ignore_index=True)\n",
      "[Succeeded / Failed / Skipped / Total] 191 / 73 / 47 / 311:  62%|██████▏   | 311/500 [1:03:59<38:53, 12.35s/it]"
     ]
    },
    {
     "name": "stdout",
     "output_type": "stream",
     "text": [
      "--------------------------------------------- Result 311 ---------------------------------------------\n",
      "[[Positive (78%)]] --> [[Negative (66%)]]\n",
      "\n",
      "if you can stomach the rough content , it 's [[worth]] checking out for the [[performances]] alone . \n",
      "\n",
      "if you can stomach the rough content , it 's [[actionable]] checking out for the [[spectacle]] alone . \n",
      "\n",
      "\n"
     ]
    },
    {
     "name": "stderr",
     "output_type": "stream",
     "text": [
      "[Succeeded / Failed / Skipped / Total] 191 / 73 / 47 / 311:  62%|██████▏   | 312/500 [1:04:04<38:36, 12.32s/it]/scratch/sp6646/envs_dirs/swap_env/lib/python3.8/site-packages/textattack/loggers/csv_logger.py:41: FutureWarning: The frame.append method is deprecated and will be removed from pandas in a future version. Use pandas.concat instead.\n",
      "  self.df = self.df.append(row, ignore_index=True)\n",
      "[Succeeded / Failed / Skipped / Total] 191 / 74 / 47 / 312:  62%|██████▏   | 312/500 [1:04:04<38:36, 12.32s/it]"
     ]
    },
    {
     "name": "stdout",
     "output_type": "stream",
     "text": [
      "--------------------------------------------- Result 312 ---------------------------------------------\n",
      "[[Positive (100%)]] --> [[[FAILED]]]\n",
      "\n",
      "a warm , funny , engaging film . \n",
      "\n",
      "\n"
     ]
    },
    {
     "name": "stderr",
     "output_type": "stream",
     "text": [
      "[Succeeded / Failed / Skipped / Total] 191 / 74 / 47 / 312:  63%|██████▎   | 313/500 [1:04:04<38:16, 12.28s/it]/scratch/sp6646/envs_dirs/swap_env/lib/python3.8/site-packages/textattack/loggers/csv_logger.py:41: FutureWarning: The frame.append method is deprecated and will be removed from pandas in a future version. Use pandas.concat instead.\n",
      "  self.df = self.df.append(row, ignore_index=True)\n",
      "[Succeeded / Failed / Skipped / Total] 191 / 74 / 48 / 313:  63%|██████▎   | 313/500 [1:04:04<38:16, 12.28s/it]"
     ]
    },
    {
     "name": "stdout",
     "output_type": "stream",
     "text": [
      "--------------------------------------------- Result 313 ---------------------------------------------\n",
      "[[Positive (79%)]] --> [[[SKIPPED]]]\n",
      "\n",
      "i 'll bet the video game is a lot more fun than the film . \n",
      "\n",
      "\n"
     ]
    },
    {
     "name": "stderr",
     "output_type": "stream",
     "text": [
      "[Succeeded / Failed / Skipped / Total] 191 / 74 / 48 / 313:  63%|██████▎   | 314/500 [1:04:08<37:59, 12.26s/it]/scratch/sp6646/envs_dirs/swap_env/lib/python3.8/site-packages/textattack/loggers/csv_logger.py:41: FutureWarning: The frame.append method is deprecated and will be removed from pandas in a future version. Use pandas.concat instead.\n",
      "  self.df = self.df.append(row, ignore_index=True)\n",
      "[Succeeded / Failed / Skipped / Total] 192 / 74 / 48 / 314:  63%|██████▎   | 314/500 [1:04:08<37:59, 12.26s/it]"
     ]
    },
    {
     "name": "stdout",
     "output_type": "stream",
     "text": [
      "--------------------------------------------- Result 314 ---------------------------------------------\n",
      "[[Positive (100%)]] --> [[Negative (71%)]]\n",
      "\n",
      "the [[best]] film about baseball to hit theaters since field of dreams . \n",
      "\n",
      "the [[preferable]] film about baseball to hit theaters since field of dreams . \n",
      "\n",
      "\n"
     ]
    },
    {
     "name": "stderr",
     "output_type": "stream",
     "text": [
      "[Succeeded / Failed / Skipped / Total] 192 / 74 / 48 / 314:  63%|██████▎   | 315/500 [1:04:30<37:52, 12.29s/it]/scratch/sp6646/envs_dirs/swap_env/lib/python3.8/site-packages/textattack/loggers/csv_logger.py:41: FutureWarning: The frame.append method is deprecated and will be removed from pandas in a future version. Use pandas.concat instead.\n",
      "  self.df = self.df.append(row, ignore_index=True)\n",
      "[Succeeded / Failed / Skipped / Total] 192 / 75 / 48 / 315:  63%|██████▎   | 315/500 [1:04:30<37:53, 12.29s/it]"
     ]
    },
    {
     "name": "stdout",
     "output_type": "stream",
     "text": [
      "--------------------------------------------- Result 315 ---------------------------------------------\n",
      "[[Positive (100%)]] --> [[[FAILED]]]\n",
      "\n",
      "it is great summer fun to watch arnold and his buddy gerald bounce off a quirky cast of characters . \n",
      "\n",
      "\n"
     ]
    },
    {
     "name": "stderr",
     "output_type": "stream",
     "text": [
      "[Succeeded / Failed / Skipped / Total] 192 / 75 / 48 / 315:  63%|██████▎   | 316/500 [1:04:35<37:36, 12.26s/it]/scratch/sp6646/envs_dirs/swap_env/lib/python3.8/site-packages/textattack/loggers/csv_logger.py:41: FutureWarning: The frame.append method is deprecated and will be removed from pandas in a future version. Use pandas.concat instead.\n",
      "  self.df = self.df.append(row, ignore_index=True)\n",
      "[Succeeded / Failed / Skipped / Total] 193 / 75 / 48 / 316:  63%|██████▎   | 316/500 [1:04:35<37:36, 12.26s/it]"
     ]
    },
    {
     "name": "stdout",
     "output_type": "stream",
     "text": [
      "--------------------------------------------- Result 316 ---------------------------------------------\n",
      "[[Negative (100%)]] --> [[Positive (88%)]]\n",
      "\n",
      "complete [[lack]] of originality , cleverness or even visible effort \n",
      "\n",
      "complete [[rarity]] of originality , cleverness or even visible effort \n",
      "\n",
      "\n"
     ]
    },
    {
     "name": "stderr",
     "output_type": "stream",
     "text": [
      "[Succeeded / Failed / Skipped / Total] 193 / 75 / 48 / 316:  63%|██████▎   | 317/500 [1:04:54<37:27, 12.28s/it]/scratch/sp6646/envs_dirs/swap_env/lib/python3.8/site-packages/textattack/loggers/csv_logger.py:41: FutureWarning: The frame.append method is deprecated and will be removed from pandas in a future version. Use pandas.concat instead.\n",
      "  self.df = self.df.append(row, ignore_index=True)\n",
      "[Succeeded / Failed / Skipped / Total] 193 / 76 / 48 / 317:  63%|██████▎   | 317/500 [1:04:54<37:28, 12.28s/it]"
     ]
    },
    {
     "name": "stdout",
     "output_type": "stream",
     "text": [
      "--------------------------------------------- Result 317 ---------------------------------------------\n",
      "[[Positive (100%)]] --> [[[FAILED]]]\n",
      "\n",
      "awesome creatures , breathtaking scenery , and epic battle scenes add up to another ` spectacular spectacle . ' \n",
      "\n",
      "\n"
     ]
    },
    {
     "name": "stderr",
     "output_type": "stream",
     "text": [
      "[Succeeded / Failed / Skipped / Total] 193 / 76 / 48 / 317:  64%|██████▎   | 318/500 [1:05:24<37:26, 12.34s/it]/scratch/sp6646/envs_dirs/swap_env/lib/python3.8/site-packages/textattack/loggers/csv_logger.py:41: FutureWarning: The frame.append method is deprecated and will be removed from pandas in a future version. Use pandas.concat instead.\n",
      "  self.df = self.df.append(row, ignore_index=True)\n",
      "[Succeeded / Failed / Skipped / Total] 193 / 77 / 48 / 318:  64%|██████▎   | 318/500 [1:05:25<37:26, 12.34s/it]"
     ]
    },
    {
     "name": "stdout",
     "output_type": "stream",
     "text": [
      "--------------------------------------------- Result 318 ---------------------------------------------\n",
      "[[Positive (100%)]] --> [[[FAILED]]]\n",
      "\n",
      "all-in-all , the film is an enjoyable and frankly told tale of a people who live among us , but not necessarily with us . \n",
      "\n",
      "\n"
     ]
    },
    {
     "name": "stderr",
     "output_type": "stream",
     "text": [
      "[Succeeded / Failed / Skipped / Total] 193 / 77 / 48 / 318:  64%|██████▍   | 319/500 [1:05:39<37:15, 12.35s/it]/scratch/sp6646/envs_dirs/swap_env/lib/python3.8/site-packages/textattack/loggers/csv_logger.py:41: FutureWarning: The frame.append method is deprecated and will be removed from pandas in a future version. Use pandas.concat instead.\n",
      "  self.df = self.df.append(row, ignore_index=True)\n",
      "[Succeeded / Failed / Skipped / Total] 194 / 77 / 48 / 319:  64%|██████▍   | 319/500 [1:05:39<37:15, 12.35s/it]"
     ]
    },
    {
     "name": "stdout",
     "output_type": "stream",
     "text": [
      "--------------------------------------------- Result 319 ---------------------------------------------\n",
      "[[Negative (90%)]] --> [[Positive (64%)]]\n",
      "\n",
      "hit and [[miss]] as far as the comedy goes and a big ole ' miss in the way of story . \n",
      "\n",
      "hit and [[fraulein]] as far as the comedy goes and a big ole ' miss in the way of story . \n",
      "\n",
      "\n"
     ]
    },
    {
     "name": "stderr",
     "output_type": "stream",
     "text": [
      "[Succeeded / Failed / Skipped / Total] 194 / 77 / 48 / 319:  64%|██████▍   | 320/500 [1:05:44<36:58, 12.33s/it]/scratch/sp6646/envs_dirs/swap_env/lib/python3.8/site-packages/textattack/loggers/csv_logger.py:41: FutureWarning: The frame.append method is deprecated and will be removed from pandas in a future version. Use pandas.concat instead.\n",
      "  self.df = self.df.append(row, ignore_index=True)\n",
      "[Succeeded / Failed / Skipped / Total] 194 / 78 / 48 / 320:  64%|██████▍   | 320/500 [1:05:44<36:58, 12.33s/it]"
     ]
    },
    {
     "name": "stdout",
     "output_type": "stream",
     "text": [
      "--------------------------------------------- Result 320 ---------------------------------------------\n",
      "[[Negative (100%)]] --> [[[FAILED]]]\n",
      "\n",
      "too much of it feels unfocused and underdeveloped . \n",
      "\n",
      "\n"
     ]
    },
    {
     "name": "stderr",
     "output_type": "stream",
     "text": [
      "[Succeeded / Failed / Skipped / Total] 194 / 78 / 48 / 320:  64%|██████▍   | 321/500 [1:05:52<36:43, 12.31s/it]/scratch/sp6646/envs_dirs/swap_env/lib/python3.8/site-packages/textattack/loggers/csv_logger.py:41: FutureWarning: The frame.append method is deprecated and will be removed from pandas in a future version. Use pandas.concat instead.\n",
      "  self.df = self.df.append(row, ignore_index=True)\n",
      "[Succeeded / Failed / Skipped / Total] 195 / 78 / 48 / 321:  64%|██████▍   | 321/500 [1:05:52<36:43, 12.31s/it]"
     ]
    },
    {
     "name": "stdout",
     "output_type": "stream",
     "text": [
      "--------------------------------------------- Result 321 ---------------------------------------------\n",
      "[[Positive (100%)]] --> [[Negative (99%)]]\n",
      "\n",
      "a deep and [[meaningful]] [[film]] . \n",
      "\n",
      "a deep and [[cannot]] [[cameraman]] . \n",
      "\n",
      "\n"
     ]
    },
    {
     "name": "stderr",
     "output_type": "stream",
     "text": [
      "[Succeeded / Failed / Skipped / Total] 195 / 78 / 48 / 321:  64%|██████▍   | 322/500 [1:05:55<36:26, 12.28s/it]/scratch/sp6646/envs_dirs/swap_env/lib/python3.8/site-packages/textattack/loggers/csv_logger.py:41: FutureWarning: The frame.append method is deprecated and will be removed from pandas in a future version. Use pandas.concat instead.\n",
      "  self.df = self.df.append(row, ignore_index=True)\n",
      "[Succeeded / Failed / Skipped / Total] 196 / 78 / 48 / 322:  64%|██████▍   | 322/500 [1:05:55<36:26, 12.28s/it]/scratch/sp6646/envs_dirs/swap_env/lib/python3.8/site-packages/textattack/loggers/csv_logger.py:41: FutureWarning: The frame.append method is deprecated and will be removed from pandas in a future version. Use pandas.concat instead.\n",
      "  self.df = self.df.append(row, ignore_index=True)\n",
      "[Succeeded / Failed / Skipped / Total] 196 / 78 / 49 / 323:  65%|██████▍   | 323/500 [1:05:55<36:07, 12.25s/it]/scratch/sp6646/envs_dirs/swap_env/lib/python3.8/site-packages/textattack/loggers/csv_logger.py:41: FutureWarning: The frame.append method is deprecated and will be removed from pandas in a future version. Use pandas.concat instead.\n",
      "  self.df = self.df.append(row, ignore_index=True)\n",
      "[Succeeded / Failed / Skipped / Total] 196 / 78 / 50 / 324:  65%|██████▍   | 324/500 [1:05:55<35:48, 12.21s/it]/scratch/sp6646/envs_dirs/swap_env/lib/python3.8/site-packages/textattack/loggers/csv_logger.py:41: FutureWarning: The frame.append method is deprecated and will be removed from pandas in a future version. Use pandas.concat instead.\n",
      "  self.df = self.df.append(row, ignore_index=True)\n",
      "[Succeeded / Failed / Skipped / Total] 196 / 78 / 51 / 325:  65%|██████▌   | 325/500 [1:05:55<35:30, 12.17s/it]"
     ]
    },
    {
     "name": "stdout",
     "output_type": "stream",
     "text": [
      "--------------------------------------------- Result 322 ---------------------------------------------\n",
      "[[Negative (98%)]] --> [[Positive (96%)]]\n",
      "\n",
      "but it could have been [[worse]] . \n",
      "\n",
      "but it could have been [[toughest]] . \n",
      "\n",
      "\n",
      "--------------------------------------------- Result 323 ---------------------------------------------\n",
      "[[Positive (89%)]] --> [[[SKIPPED]]]\n",
      "\n",
      "that 's pure pr hype . \n",
      "\n",
      "\n",
      "--------------------------------------------- Result 324 ---------------------------------------------\n",
      "[[Negative (57%)]] --> [[[SKIPPED]]]\n",
      "\n",
      "a painfully funny ode to bad behavior . \n",
      "\n",
      "\n",
      "--------------------------------------------- Result 325 ---------------------------------------------\n",
      "[[Negative (90%)]] --> [[[SKIPPED]]]\n",
      "\n",
      "you 'll gasp appalled and laugh outraged and possibly , watching the spectacle of a promising young lad treading desperately in a nasty sea , shed an errant tear . \n",
      "\n",
      "\n"
     ]
    },
    {
     "name": "stderr",
     "output_type": "stream",
     "text": [
      "[Succeeded / Failed / Skipped / Total] 196 / 78 / 51 / 325:  65%|██████▌   | 326/500 [1:06:11<35:19, 12.18s/it]/scratch/sp6646/envs_dirs/swap_env/lib/python3.8/site-packages/textattack/loggers/csv_logger.py:41: FutureWarning: The frame.append method is deprecated and will be removed from pandas in a future version. Use pandas.concat instead.\n",
      "  self.df = self.df.append(row, ignore_index=True)\n",
      "[Succeeded / Failed / Skipped / Total] 197 / 78 / 51 / 326:  65%|██████▌   | 326/500 [1:06:11<35:19, 12.18s/it]"
     ]
    },
    {
     "name": "stdout",
     "output_type": "stream",
     "text": [
      "--------------------------------------------- Result 326 ---------------------------------------------\n",
      "[[Positive (90%)]] --> [[Negative (62%)]]\n",
      "\n",
      "liotta put on 30 pounds for the role , and has completely [[transformed]] himself from his smooth , goodfellas image . \n",
      "\n",
      "liotta put on 30 pounds for the role , and has completely [[turned]] himself from his smooth , goodfellas image . \n",
      "\n",
      "\n"
     ]
    },
    {
     "name": "stderr",
     "output_type": "stream",
     "text": [
      "[Succeeded / Failed / Skipped / Total] 197 / 78 / 51 / 326:  65%|██████▌   | 327/500 [1:06:19<35:05, 12.17s/it]/scratch/sp6646/envs_dirs/swap_env/lib/python3.8/site-packages/textattack/loggers/csv_logger.py:41: FutureWarning: The frame.append method is deprecated and will be removed from pandas in a future version. Use pandas.concat instead.\n",
      "  self.df = self.df.append(row, ignore_index=True)\n",
      "[Succeeded / Failed / Skipped / Total] 198 / 78 / 51 / 327:  65%|██████▌   | 327/500 [1:06:19<35:05, 12.17s/it]"
     ]
    },
    {
     "name": "stdout",
     "output_type": "stream",
     "text": [
      "--------------------------------------------- Result 327 ---------------------------------------------\n",
      "[[Positive (100%)]] --> [[Negative (99%)]]\n",
      "\n",
      "a [[beguiling]] splash of pastel colors and prankish comedy from disney . \n",
      "\n",
      "a [[languid]] splash of pastel colors and prankish comedy from disney . \n",
      "\n",
      "\n"
     ]
    },
    {
     "name": "stderr",
     "output_type": "stream",
     "text": [
      "[Succeeded / Failed / Skipped / Total] 198 / 78 / 51 / 327:  66%|██████▌   | 328/500 [1:06:23<34:49, 12.15s/it]/scratch/sp6646/envs_dirs/swap_env/lib/python3.8/site-packages/textattack/loggers/csv_logger.py:41: FutureWarning: The frame.append method is deprecated and will be removed from pandas in a future version. Use pandas.concat instead.\n",
      "  self.df = self.df.append(row, ignore_index=True)\n",
      "[Succeeded / Failed / Skipped / Total] 199 / 78 / 51 / 328:  66%|██████▌   | 328/500 [1:06:23<34:49, 12.15s/it]"
     ]
    },
    {
     "name": "stdout",
     "output_type": "stream",
     "text": [
      "--------------------------------------------- Result 328 ---------------------------------------------\n",
      "[[Positive (100%)]] --> [[Negative (81%)]]\n",
      "\n",
      "it proves quite [[compelling]] as an intense , brooding character study . \n",
      "\n",
      "it proves quite [[unconvincing]] as an intense , brooding character study . \n",
      "\n",
      "\n"
     ]
    },
    {
     "name": "stderr",
     "output_type": "stream",
     "text": [
      "[Succeeded / Failed / Skipped / Total] 199 / 78 / 51 / 328:  66%|██████▌   | 329/500 [1:06:30<34:34, 12.13s/it]/scratch/sp6646/envs_dirs/swap_env/lib/python3.8/site-packages/textattack/loggers/csv_logger.py:41: FutureWarning: The frame.append method is deprecated and will be removed from pandas in a future version. Use pandas.concat instead.\n",
      "  self.df = self.df.append(row, ignore_index=True)\n",
      "[Succeeded / Failed / Skipped / Total] 200 / 78 / 51 / 329:  66%|██████▌   | 329/500 [1:06:30<34:34, 12.13s/it]"
     ]
    },
    {
     "name": "stdout",
     "output_type": "stream",
     "text": [
      "--------------------------------------------- Result 329 ---------------------------------------------\n",
      "[[Negative (95%)]] --> [[Positive (100%)]]\n",
      "\n",
      "an [[unwise]] amalgam of broadcast news and vibes . \n",
      "\n",
      "an [[judicious]] amalgam of broadcast news and vibes . \n",
      "\n",
      "\n"
     ]
    },
    {
     "name": "stderr",
     "output_type": "stream",
     "text": [
      "[Succeeded / Failed / Skipped / Total] 200 / 78 / 51 / 329:  66%|██████▌   | 330/500 [1:06:45<34:23, 12.14s/it]/scratch/sp6646/envs_dirs/swap_env/lib/python3.8/site-packages/textattack/loggers/csv_logger.py:41: FutureWarning: The frame.append method is deprecated and will be removed from pandas in a future version. Use pandas.concat instead.\n",
      "  self.df = self.df.append(row, ignore_index=True)\n",
      "[Succeeded / Failed / Skipped / Total] 201 / 78 / 51 / 330:  66%|██████▌   | 330/500 [1:06:45<34:23, 12.14s/it]"
     ]
    },
    {
     "name": "stdout",
     "output_type": "stream",
     "text": [
      "--------------------------------------------- Result 330 ---------------------------------------------\n",
      "[[Negative (100%)]] --> [[Positive (52%)]]\n",
      "\n",
      "utterly [[lacking]] in charm , wit and invention , roberto benigni 's pinocchio is an astonishingly bad film . \n",
      "\n",
      "utterly [[inadequacy]] in charm , wit and invention , roberto benigni 's pinocchio is an astonishingly bad film . \n",
      "\n",
      "\n"
     ]
    },
    {
     "name": "stderr",
     "output_type": "stream",
     "text": [
      "[Succeeded / Failed / Skipped / Total] 201 / 78 / 51 / 330:  66%|██████▌   | 331/500 [1:06:52<34:08, 12.12s/it]/scratch/sp6646/envs_dirs/swap_env/lib/python3.8/site-packages/textattack/loggers/csv_logger.py:41: FutureWarning: The frame.append method is deprecated and will be removed from pandas in a future version. Use pandas.concat instead.\n",
      "  self.df = self.df.append(row, ignore_index=True)\n",
      "[Succeeded / Failed / Skipped / Total] 202 / 78 / 51 / 331:  66%|██████▌   | 331/500 [1:06:52<34:08, 12.12s/it]"
     ]
    },
    {
     "name": "stdout",
     "output_type": "stream",
     "text": [
      "--------------------------------------------- Result 331 ---------------------------------------------\n",
      "[[Negative (80%)]] --> [[Positive (99%)]]\n",
      "\n",
      "and that leaves a [[hole]] in the center of the salton sea . \n",
      "\n",
      "and that leaves a [[aperture]] in the center of the salton sea . \n",
      "\n",
      "\n"
     ]
    },
    {
     "name": "stderr",
     "output_type": "stream",
     "text": [
      "[Succeeded / Failed / Skipped / Total] 202 / 78 / 51 / 331:  66%|██████▋   | 332/500 [1:07:06<33:57, 12.13s/it]/scratch/sp6646/envs_dirs/swap_env/lib/python3.8/site-packages/textattack/loggers/csv_logger.py:41: FutureWarning: The frame.append method is deprecated and will be removed from pandas in a future version. Use pandas.concat instead.\n",
      "  self.df = self.df.append(row, ignore_index=True)\n",
      "[Succeeded / Failed / Skipped / Total] 202 / 79 / 51 / 332:  66%|██████▋   | 332/500 [1:07:06<33:57, 12.13s/it]"
     ]
    },
    {
     "name": "stdout",
     "output_type": "stream",
     "text": [
      "--------------------------------------------- Result 332 ---------------------------------------------\n",
      "[[Positive (99%)]] --> [[[FAILED]]]\n",
      "\n",
      "the chateau cleverly probes the cross-cultural differences between gauls and yanks . \n",
      "\n",
      "\n"
     ]
    },
    {
     "name": "stderr",
     "output_type": "stream",
     "text": [
      "[Succeeded / Failed / Skipped / Total] 202 / 79 / 51 / 332:  67%|██████▋   | 333/500 [1:07:07<33:39, 12.09s/it]/scratch/sp6646/envs_dirs/swap_env/lib/python3.8/site-packages/textattack/loggers/csv_logger.py:41: FutureWarning: The frame.append method is deprecated and will be removed from pandas in a future version. Use pandas.concat instead.\n",
      "  self.df = self.df.append(row, ignore_index=True)\n",
      "[Succeeded / Failed / Skipped / Total] 202 / 79 / 52 / 333:  67%|██████▋   | 333/500 [1:07:07<33:39, 12.09s/it]"
     ]
    },
    {
     "name": "stdout",
     "output_type": "stream",
     "text": [
      "--------------------------------------------- Result 333 ---------------------------------------------\n",
      "[[Negative (94%)]] --> [[[SKIPPED]]]\n",
      "\n",
      "broomfield turns his distinctive ` blundering ' style into something that could really help clear up the case . \n",
      "\n",
      "\n"
     ]
    },
    {
     "name": "stderr",
     "output_type": "stream",
     "text": [
      "[Succeeded / Failed / Skipped / Total] 202 / 79 / 52 / 333:  67%|██████▋   | 334/500 [1:07:07<33:21, 12.06s/it]/scratch/sp6646/envs_dirs/swap_env/lib/python3.8/site-packages/textattack/loggers/csv_logger.py:41: FutureWarning: The frame.append method is deprecated and will be removed from pandas in a future version. Use pandas.concat instead.\n",
      "  self.df = self.df.append(row, ignore_index=True)\n",
      "[Succeeded / Failed / Skipped / Total] 202 / 79 / 53 / 334:  67%|██████▋   | 334/500 [1:07:07<33:21, 12.06s/it]"
     ]
    },
    {
     "name": "stdout",
     "output_type": "stream",
     "text": [
      "--------------------------------------------- Result 334 ---------------------------------------------\n",
      "[[Negative (74%)]] --> [[[SKIPPED]]]\n",
      "\n",
      "a pleasant enough romance with intellectual underpinnings , the kind of movie that entertains even as it turns maddeningly predictable . \n",
      "\n",
      "\n"
     ]
    },
    {
     "name": "stderr",
     "output_type": "stream",
     "text": [
      "[Succeeded / Failed / Skipped / Total] 202 / 79 / 53 / 334:  67%|██████▋   | 335/500 [1:07:44<33:22, 12.13s/it]/scratch/sp6646/envs_dirs/swap_env/lib/python3.8/site-packages/textattack/loggers/csv_logger.py:41: FutureWarning: The frame.append method is deprecated and will be removed from pandas in a future version. Use pandas.concat instead.\n",
      "  self.df = self.df.append(row, ignore_index=True)\n",
      "[Succeeded / Failed / Skipped / Total] 202 / 80 / 53 / 335:  67%|██████▋   | 335/500 [1:07:44<33:22, 12.13s/it]"
     ]
    },
    {
     "name": "stdout",
     "output_type": "stream",
     "text": [
      "--------------------------------------------- Result 335 ---------------------------------------------\n",
      "[[Positive (100%)]] --> [[[FAILED]]]\n",
      "\n",
      "what really makes it special is that it pulls us into its world , gives us a hero whose suffering and triumphs we can share , surrounds him with interesting characters and sends us out of the theater feeling we 've shared a great adventure . \n",
      "\n",
      "\n"
     ]
    },
    {
     "name": "stderr",
     "output_type": "stream",
     "text": [
      "[Succeeded / Failed / Skipped / Total] 202 / 80 / 53 / 335:  67%|██████▋   | 336/500 [1:08:06<33:14, 12.16s/it]/scratch/sp6646/envs_dirs/swap_env/lib/python3.8/site-packages/textattack/loggers/csv_logger.py:41: FutureWarning: The frame.append method is deprecated and will be removed from pandas in a future version. Use pandas.concat instead.\n",
      "  self.df = self.df.append(row, ignore_index=True)\n",
      "[Succeeded / Failed / Skipped / Total] 202 / 81 / 53 / 336:  67%|██████▋   | 336/500 [1:08:06<33:14, 12.16s/it]"
     ]
    },
    {
     "name": "stdout",
     "output_type": "stream",
     "text": [
      "--------------------------------------------- Result 336 ---------------------------------------------\n",
      "[[Negative (100%)]] --> [[[FAILED]]]\n",
      "\n",
      "with the exception of some fleetingly amusing improvisations by cedric the entertainer as perry 's boss , there is n't a redeeming moment here . \n",
      "\n",
      "\n"
     ]
    },
    {
     "name": "stderr",
     "output_type": "stream",
     "text": [
      "[Succeeded / Failed / Skipped / Total] 202 / 81 / 53 / 336:  67%|██████▋   | 337/500 [1:08:34<33:10, 12.21s/it]/scratch/sp6646/envs_dirs/swap_env/lib/python3.8/site-packages/textattack/loggers/csv_logger.py:41: FutureWarning: The frame.append method is deprecated and will be removed from pandas in a future version. Use pandas.concat instead.\n",
      "  self.df = self.df.append(row, ignore_index=True)\n",
      "[Succeeded / Failed / Skipped / Total] 203 / 81 / 53 / 337:  67%|██████▋   | 337/500 [1:08:34<33:10, 12.21s/it]"
     ]
    },
    {
     "name": "stdout",
     "output_type": "stream",
     "text": [
      "--------------------------------------------- Result 337 ---------------------------------------------\n",
      "[[Positive (100%)]] --> [[Negative (53%)]]\n",
      "\n",
      "having had the good sense to cast actors who are , generally speaking , adored by the movie-going public , khouri then gets [[terrific]] performances from them all . \n",
      "\n",
      "having had the good sense to cast actors who are , generally speaking , adored by the movie-going public , khouri then gets [[grandiose]] performances from them all . \n",
      "\n",
      "\n"
     ]
    },
    {
     "name": "stderr",
     "output_type": "stream",
     "text": [
      "[Succeeded / Failed / Skipped / Total] 203 / 81 / 53 / 337:  68%|██████▊   | 338/500 [1:08:57<33:03, 12.24s/it]/scratch/sp6646/envs_dirs/swap_env/lib/python3.8/site-packages/textattack/loggers/csv_logger.py:41: FutureWarning: The frame.append method is deprecated and will be removed from pandas in a future version. Use pandas.concat instead.\n",
      "  self.df = self.df.append(row, ignore_index=True)\n",
      "[Succeeded / Failed / Skipped / Total] 203 / 82 / 53 / 338:  68%|██████▊   | 338/500 [1:08:57<33:03, 12.24s/it]"
     ]
    },
    {
     "name": "stdout",
     "output_type": "stream",
     "text": [
      "--------------------------------------------- Result 338 ---------------------------------------------\n",
      "[[Negative (100%)]] --> [[[FAILED]]]\n",
      "\n",
      "... a boring parade of talking heads and technical gibberish that will do little to advance the linux cause . \n",
      "\n",
      "\n"
     ]
    },
    {
     "name": "stderr",
     "output_type": "stream",
     "text": [
      "[Succeeded / Failed / Skipped / Total] 203 / 82 / 53 / 338:  68%|██████▊   | 339/500 [1:09:26<32:58, 12.29s/it]/scratch/sp6646/envs_dirs/swap_env/lib/python3.8/site-packages/textattack/loggers/csv_logger.py:41: FutureWarning: The frame.append method is deprecated and will be removed from pandas in a future version. Use pandas.concat instead.\n",
      "  self.df = self.df.append(row, ignore_index=True)\n",
      "[Succeeded / Failed / Skipped / Total] 204 / 82 / 53 / 339:  68%|██████▊   | 339/500 [1:09:26<32:58, 12.29s/it]"
     ]
    },
    {
     "name": "stdout",
     "output_type": "stream",
     "text": [
      "--------------------------------------------- Result 339 ---------------------------------------------\n",
      "[[Negative (73%)]] --> [[Positive (55%)]]\n",
      "\n",
      "it 's of the quality of a lesser harrison ford movie - six days , seven nights , [[maybe]] , or that dreadful sabrina remake . \n",
      "\n",
      "it 's of the quality of a lesser harrison ford movie - six days , seven nights , [[conceivably]] , or that dreadful sabrina remake . \n",
      "\n",
      "\n"
     ]
    },
    {
     "name": "stderr",
     "output_type": "stream",
     "text": [
      "[Succeeded / Failed / Skipped / Total] 204 / 82 / 53 / 339:  68%|██████▊   | 340/500 [1:09:42<32:48, 12.30s/it]/scratch/sp6646/envs_dirs/swap_env/lib/python3.8/site-packages/textattack/loggers/csv_logger.py:41: FutureWarning: The frame.append method is deprecated and will be removed from pandas in a future version. Use pandas.concat instead.\n",
      "  self.df = self.df.append(row, ignore_index=True)\n",
      "[Succeeded / Failed / Skipped / Total] 204 / 83 / 53 / 340:  68%|██████▊   | 340/500 [1:09:42<32:48, 12.30s/it]"
     ]
    },
    {
     "name": "stdout",
     "output_type": "stream",
     "text": [
      "--------------------------------------------- Result 340 ---------------------------------------------\n",
      "[[Positive (100%)]] --> [[[FAILED]]]\n",
      "\n",
      "if you enjoy more thoughtful comedies with interesting conflicted characters ; this one is for you . \n",
      "\n",
      "\n"
     ]
    },
    {
     "name": "stderr",
     "output_type": "stream",
     "text": [
      "[Succeeded / Failed / Skipped / Total] 204 / 83 / 53 / 340:  68%|██████▊   | 341/500 [1:10:08<32:42, 12.34s/it]/scratch/sp6646/envs_dirs/swap_env/lib/python3.8/site-packages/textattack/loggers/csv_logger.py:41: FutureWarning: The frame.append method is deprecated and will be removed from pandas in a future version. Use pandas.concat instead.\n",
      "  self.df = self.df.append(row, ignore_index=True)\n",
      "[Succeeded / Failed / Skipped / Total] 204 / 84 / 53 / 341:  68%|██████▊   | 341/500 [1:10:08<32:42, 12.34s/it]"
     ]
    },
    {
     "name": "stdout",
     "output_type": "stream",
     "text": [
      "--------------------------------------------- Result 341 ---------------------------------------------\n",
      "[[Negative (100%)]] --> [[[FAILED]]]\n",
      "\n",
      "the most hopelessly monotonous film of the year , noteworthy only for the gimmick of being filmed as a single unbroken 87-minute take . \n",
      "\n",
      "\n"
     ]
    },
    {
     "name": "stderr",
     "output_type": "stream",
     "text": [
      "[Succeeded / Failed / Skipped / Total] 204 / 84 / 53 / 341:  68%|██████▊   | 342/500 [1:10:19<32:29, 12.34s/it]/scratch/sp6646/envs_dirs/swap_env/lib/python3.8/site-packages/textattack/loggers/csv_logger.py:41: FutureWarning: The frame.append method is deprecated and will be removed from pandas in a future version. Use pandas.concat instead.\n",
      "  self.df = self.df.append(row, ignore_index=True)\n",
      "[Succeeded / Failed / Skipped / Total] 205 / 84 / 53 / 342:  68%|██████▊   | 342/500 [1:10:19<32:29, 12.34s/it]"
     ]
    },
    {
     "name": "stdout",
     "output_type": "stream",
     "text": [
      "--------------------------------------------- Result 342 ---------------------------------------------\n",
      "[[Positive (97%)]] --> [[Negative (87%)]]\n",
      "\n",
      "it [[deserves]] to be seen by anyone with even a passing interest in the events shaping the [[world]] beyond their own horizons . \n",
      "\n",
      "it [[deserve]] to be seen by anyone with even a passing interest in the events shaping the [[worldwide]] beyond their own horizons . \n",
      "\n",
      "\n"
     ]
    },
    {
     "name": "stderr",
     "output_type": "stream",
     "text": [
      "[Succeeded / Failed / Skipped / Total] 205 / 84 / 53 / 342:  69%|██████▊   | 343/500 [1:10:45<32:23, 12.38s/it]/scratch/sp6646/envs_dirs/swap_env/lib/python3.8/site-packages/textattack/loggers/csv_logger.py:41: FutureWarning: The frame.append method is deprecated and will be removed from pandas in a future version. Use pandas.concat instead.\n",
      "  self.df = self.df.append(row, ignore_index=True)\n",
      "[Succeeded / Failed / Skipped / Total] 205 / 85 / 53 / 343:  69%|██████▊   | 343/500 [1:10:45<32:23, 12.38s/it]"
     ]
    },
    {
     "name": "stdout",
     "output_type": "stream",
     "text": [
      "--------------------------------------------- Result 343 ---------------------------------------------\n",
      "[[Negative (89%)]] --> [[[FAILED]]]\n",
      "\n",
      "in an effort , i suspect , not to offend by appearing either too serious or too lighthearted , it offends by just being wishy-washy . \n",
      "\n",
      "\n"
     ]
    },
    {
     "name": "stderr",
     "output_type": "stream",
     "text": [
      "[Succeeded / Failed / Skipped / Total] 205 / 85 / 53 / 343:  69%|██████▉   | 344/500 [1:10:54<32:09, 12.37s/it]/scratch/sp6646/envs_dirs/swap_env/lib/python3.8/site-packages/textattack/loggers/csv_logger.py:41: FutureWarning: The frame.append method is deprecated and will be removed from pandas in a future version. Use pandas.concat instead.\n",
      "  self.df = self.df.append(row, ignore_index=True)\n",
      "[Succeeded / Failed / Skipped / Total] 205 / 86 / 53 / 344:  69%|██████▉   | 344/500 [1:10:54<32:09, 12.37s/it]"
     ]
    },
    {
     "name": "stdout",
     "output_type": "stream",
     "text": [
      "--------------------------------------------- Result 344 ---------------------------------------------\n",
      "[[Negative (100%)]] --> [[[FAILED]]]\n",
      "\n",
      "no way i can believe this load of junk . \n",
      "\n",
      "\n"
     ]
    },
    {
     "name": "stderr",
     "output_type": "stream",
     "text": [
      "[Succeeded / Failed / Skipped / Total] 205 / 86 / 53 / 344:  69%|██████▉   | 345/500 [1:11:12<31:59, 12.38s/it]/scratch/sp6646/envs_dirs/swap_env/lib/python3.8/site-packages/textattack/loggers/csv_logger.py:41: FutureWarning: The frame.append method is deprecated and will be removed from pandas in a future version. Use pandas.concat instead.\n",
      "  self.df = self.df.append(row, ignore_index=True)\n",
      "[Succeeded / Failed / Skipped / Total] 205 / 87 / 53 / 345:  69%|██████▉   | 345/500 [1:11:12<31:59, 12.38s/it]"
     ]
    },
    {
     "name": "stdout",
     "output_type": "stream",
     "text": [
      "--------------------------------------------- Result 345 ---------------------------------------------\n",
      "[[Positive (100%)]] --> [[[FAILED]]]\n",
      "\n",
      "there is a fabric of complex ideas here , and feelings that profoundly deepen them . \n",
      "\n",
      "\n"
     ]
    },
    {
     "name": "stderr",
     "output_type": "stream",
     "text": [
      "[Succeeded / Failed / Skipped / Total] 205 / 87 / 53 / 345:  69%|██████▉   | 346/500 [1:11:50<31:58, 12.46s/it]/scratch/sp6646/envs_dirs/swap_env/lib/python3.8/site-packages/textattack/loggers/csv_logger.py:41: FutureWarning: The frame.append method is deprecated and will be removed from pandas in a future version. Use pandas.concat instead.\n",
      "  self.df = self.df.append(row, ignore_index=True)\n",
      "[Succeeded / Failed / Skipped / Total] 205 / 88 / 53 / 346:  69%|██████▉   | 346/500 [1:11:50<31:58, 12.46s/it]"
     ]
    },
    {
     "name": "stdout",
     "output_type": "stream",
     "text": [
      "--------------------------------------------- Result 346 ---------------------------------------------\n",
      "[[Positive (99%)]] --> [[[FAILED]]]\n",
      "\n",
      "this tenth feature is a big deal , indeed -- at least the third-best , and maybe even a notch above the previous runner-up , nicholas meyer 's star trek vi : the undiscovered country . \n",
      "\n",
      "\n"
     ]
    },
    {
     "name": "stderr",
     "output_type": "stream",
     "text": [
      "[Succeeded / Failed / Skipped / Total] 205 / 88 / 53 / 346:  69%|██████▉   | 347/500 [1:11:55<31:42, 12.44s/it]/scratch/sp6646/envs_dirs/swap_env/lib/python3.8/site-packages/textattack/loggers/csv_logger.py:41: FutureWarning: The frame.append method is deprecated and will be removed from pandas in a future version. Use pandas.concat instead.\n",
      "  self.df = self.df.append(row, ignore_index=True)\n",
      "[Succeeded / Failed / Skipped / Total] 206 / 88 / 53 / 347:  69%|██████▉   | 347/500 [1:11:55<31:42, 12.44s/it]"
     ]
    },
    {
     "name": "stdout",
     "output_type": "stream",
     "text": [
      "--------------------------------------------- Result 347 ---------------------------------------------\n",
      "[[Negative (69%)]] --> [[Positive (93%)]]\n",
      "\n",
      "not only unfunny , but downright [[repellent]] . \n",
      "\n",
      "not only unfunny , but downright [[shocking]] . \n",
      "\n",
      "\n"
     ]
    },
    {
     "name": "stderr",
     "output_type": "stream",
     "text": [
      "[Succeeded / Failed / Skipped / Total] 206 / 88 / 53 / 347:  70%|██████▉   | 348/500 [1:12:05<31:29, 12.43s/it]/scratch/sp6646/envs_dirs/swap_env/lib/python3.8/site-packages/textattack/loggers/csv_logger.py:41: FutureWarning: The frame.append method is deprecated and will be removed from pandas in a future version. Use pandas.concat instead.\n",
      "  self.df = self.df.append(row, ignore_index=True)\n",
      "[Succeeded / Failed / Skipped / Total] 207 / 88 / 53 / 348:  70%|██████▉   | 348/500 [1:12:05<31:29, 12.43s/it]"
     ]
    },
    {
     "name": "stdout",
     "output_type": "stream",
     "text": [
      "--------------------------------------------- Result 348 ---------------------------------------------\n",
      "[[Negative (99%)]] --> [[Positive (86%)]]\n",
      "\n",
      "works [[hard]] to establish rounded characters , but then [[has]] nothing [[fresh]] or particularly interesting to say about them . \n",
      "\n",
      "works [[intensely]] to establish rounded characters , but then [[enjoy]] nothing [[soft]] or particularly interesting to say about them . \n",
      "\n",
      "\n"
     ]
    },
    {
     "name": "stderr",
     "output_type": "stream",
     "text": [
      "[Succeeded / Failed / Skipped / Total] 207 / 88 / 53 / 348:  70%|██████▉   | 349/500 [1:12:11<31:13, 12.41s/it]/scratch/sp6646/envs_dirs/swap_env/lib/python3.8/site-packages/textattack/loggers/csv_logger.py:41: FutureWarning: The frame.append method is deprecated and will be removed from pandas in a future version. Use pandas.concat instead.\n",
      "  self.df = self.df.append(row, ignore_index=True)\n",
      "[Succeeded / Failed / Skipped / Total] 208 / 88 / 53 / 349:  70%|██████▉   | 349/500 [1:12:11<31:13, 12.41s/it]"
     ]
    },
    {
     "name": "stdout",
     "output_type": "stream",
     "text": [
      "--------------------------------------------- Result 349 ---------------------------------------------\n",
      "[[Negative (100%)]] --> [[Positive (99%)]]\n",
      "\n",
      "just one [[bad]] [[idea]] after another . \n",
      "\n",
      "just one [[adverse]] [[insights]] after another . \n",
      "\n",
      "\n"
     ]
    },
    {
     "name": "stderr",
     "output_type": "stream",
     "text": [
      "[Succeeded / Failed / Skipped / Total] 208 / 88 / 53 / 349:  70%|███████   | 350/500 [1:12:33<31:05, 12.44s/it]/scratch/sp6646/envs_dirs/swap_env/lib/python3.8/site-packages/textattack/loggers/csv_logger.py:41: FutureWarning: The frame.append method is deprecated and will be removed from pandas in a future version. Use pandas.concat instead.\n",
      "  self.df = self.df.append(row, ignore_index=True)\n",
      "[Succeeded / Failed / Skipped / Total] 208 / 89 / 53 / 350:  70%|███████   | 350/500 [1:12:33<31:05, 12.44s/it]"
     ]
    },
    {
     "name": "stdout",
     "output_type": "stream",
     "text": [
      "--------------------------------------------- Result 350 ---------------------------------------------\n",
      "[[Negative (100%)]] --> [[[FAILED]]]\n",
      "\n",
      "... turns so unforgivably trite in its last 10 minutes that anyone without a fortified sweet tooth will likely go into sugar shock . \n",
      "\n",
      "\n"
     ]
    },
    {
     "name": "stderr",
     "output_type": "stream",
     "text": [
      "[Succeeded / Failed / Skipped / Total] 208 / 89 / 53 / 350:  70%|███████   | 351/500 [1:12:56<30:57, 12.47s/it]/scratch/sp6646/envs_dirs/swap_env/lib/python3.8/site-packages/textattack/loggers/csv_logger.py:41: FutureWarning: The frame.append method is deprecated and will be removed from pandas in a future version. Use pandas.concat instead.\n",
      "  self.df = self.df.append(row, ignore_index=True)\n",
      "[Succeeded / Failed / Skipped / Total] 209 / 89 / 53 / 351:  70%|███████   | 351/500 [1:12:56<30:57, 12.47s/it]"
     ]
    },
    {
     "name": "stdout",
     "output_type": "stream",
     "text": [
      "--------------------------------------------- Result 351 ---------------------------------------------\n",
      "[[Negative (99%)]] --> [[Positive (53%)]]\n",
      "\n",
      "his comedy premises are often hackneyed or just [[plain]] [[crude]] , [[calculated]] to provoke shocked laughter , without following up on a deeper level . \n",
      "\n",
      "his comedy premises are often hackneyed or just [[unadulterated]] [[bruto]] , [[computed]] to provoke shocked laughter , without following up on a deeper level . \n",
      "\n",
      "\n"
     ]
    },
    {
     "name": "stderr",
     "output_type": "stream",
     "text": [
      "[Succeeded / Failed / Skipped / Total] 209 / 89 / 53 / 351:  70%|███████   | 352/500 [1:13:17<30:49, 12.49s/it]/scratch/sp6646/envs_dirs/swap_env/lib/python3.8/site-packages/textattack/loggers/csv_logger.py:41: FutureWarning: The frame.append method is deprecated and will be removed from pandas in a future version. Use pandas.concat instead.\n",
      "  self.df = self.df.append(row, ignore_index=True)\n",
      "[Succeeded / Failed / Skipped / Total] 210 / 89 / 53 / 352:  70%|███████   | 352/500 [1:13:17<30:49, 12.49s/it]"
     ]
    },
    {
     "name": "stdout",
     "output_type": "stream",
     "text": [
      "--------------------------------------------- Result 352 ---------------------------------------------\n",
      "[[Positive (100%)]] --> [[Negative (51%)]]\n",
      "\n",
      "( næs ) directed the stage version of elling , and gets [[fine]] performances from his two leads who originated the characters on stage . \n",
      "\n",
      "( næs ) directed the stage version of elling , and gets [[okay]] performances from his two leads who originated the characters on stage . \n",
      "\n",
      "\n"
     ]
    },
    {
     "name": "stderr",
     "output_type": "stream",
     "text": [
      "[Succeeded / Failed / Skipped / Total] 210 / 89 / 53 / 352:  71%|███████   | 353/500 [1:13:33<30:37, 12.50s/it]/scratch/sp6646/envs_dirs/swap_env/lib/python3.8/site-packages/textattack/loggers/csv_logger.py:41: FutureWarning: The frame.append method is deprecated and will be removed from pandas in a future version. Use pandas.concat instead.\n",
      "  self.df = self.df.append(row, ignore_index=True)\n",
      "[Succeeded / Failed / Skipped / Total] 210 / 90 / 53 / 353:  71%|███████   | 353/500 [1:13:33<30:37, 12.50s/it]"
     ]
    },
    {
     "name": "stdout",
     "output_type": "stream",
     "text": [
      "--------------------------------------------- Result 353 ---------------------------------------------\n",
      "[[Positive (100%)]] --> [[[FAILED]]]\n",
      "\n",
      "a swashbuckling tale of love , betrayal , revenge and above all , faith . \n",
      "\n",
      "\n"
     ]
    },
    {
     "name": "stderr",
     "output_type": "stream",
     "text": [
      "[Succeeded / Failed / Skipped / Total] 210 / 90 / 53 / 353:  71%|███████   | 354/500 [1:13:42<30:24, 12.49s/it]/scratch/sp6646/envs_dirs/swap_env/lib/python3.8/site-packages/textattack/loggers/csv_logger.py:41: FutureWarning: The frame.append method is deprecated and will be removed from pandas in a future version. Use pandas.concat instead.\n",
      "  self.df = self.df.append(row, ignore_index=True)\n",
      "[Succeeded / Failed / Skipped / Total] 211 / 90 / 53 / 354:  71%|███████   | 354/500 [1:13:42<30:24, 12.49s/it]"
     ]
    },
    {
     "name": "stdout",
     "output_type": "stream",
     "text": [
      "--------------------------------------------- Result 354 ---------------------------------------------\n",
      "[[Positive (100%)]] --> [[Negative (94%)]]\n",
      "\n",
      "for movie [[lovers]] as well as opera lovers , tosca is a [[real]] treat . \n",
      "\n",
      "for movie [[groupies]] as well as opera lovers , tosca is a [[concrete]] treat . \n",
      "\n",
      "\n"
     ]
    },
    {
     "name": "stderr",
     "output_type": "stream",
     "text": [
      "[Succeeded / Failed / Skipped / Total] 211 / 90 / 53 / 354:  71%|███████   | 355/500 [1:13:47<30:08, 12.47s/it]/scratch/sp6646/envs_dirs/swap_env/lib/python3.8/site-packages/textattack/loggers/csv_logger.py:41: FutureWarning: The frame.append method is deprecated and will be removed from pandas in a future version. Use pandas.concat instead.\n",
      "  self.df = self.df.append(row, ignore_index=True)\n",
      "[Succeeded / Failed / Skipped / Total] 212 / 90 / 53 / 355:  71%|███████   | 355/500 [1:13:47<30:08, 12.47s/it]"
     ]
    },
    {
     "name": "stdout",
     "output_type": "stream",
     "text": [
      "--------------------------------------------- Result 355 ---------------------------------------------\n",
      "[[Positive (100%)]] --> [[Negative (73%)]]\n",
      "\n",
      "the [[film]] is [[quiet]] , threatening and [[unforgettable]] . \n",
      "\n",
      "the [[footage]] is [[appease]] , threatening and [[significant]] . \n",
      "\n",
      "\n"
     ]
    },
    {
     "name": "stderr",
     "output_type": "stream",
     "text": [
      "[Succeeded / Failed / Skipped / Total] 212 / 90 / 53 / 355:  71%|███████   | 356/500 [1:13:57<29:55, 12.47s/it]/scratch/sp6646/envs_dirs/swap_env/lib/python3.8/site-packages/textattack/loggers/csv_logger.py:41: FutureWarning: The frame.append method is deprecated and will be removed from pandas in a future version. Use pandas.concat instead.\n",
      "  self.df = self.df.append(row, ignore_index=True)\n",
      "[Succeeded / Failed / Skipped / Total] 212 / 91 / 53 / 356:  71%|███████   | 356/500 [1:13:57<29:55, 12.47s/it]"
     ]
    },
    {
     "name": "stdout",
     "output_type": "stream",
     "text": [
      "--------------------------------------------- Result 356 ---------------------------------------------\n",
      "[[Negative (98%)]] --> [[[FAILED]]]\n",
      "\n",
      "there is no pleasure in watching a child suffer . \n",
      "\n",
      "\n"
     ]
    },
    {
     "name": "stderr",
     "output_type": "stream",
     "text": [
      "[Succeeded / Failed / Skipped / Total] 212 / 91 / 53 / 356:  71%|███████▏  | 357/500 [1:13:58<29:37, 12.43s/it]/scratch/sp6646/envs_dirs/swap_env/lib/python3.8/site-packages/textattack/loggers/csv_logger.py:41: FutureWarning: The frame.append method is deprecated and will be removed from pandas in a future version. Use pandas.concat instead.\n",
      "  self.df = self.df.append(row, ignore_index=True)\n",
      "[Succeeded / Failed / Skipped / Total] 212 / 91 / 54 / 357:  71%|███████▏  | 357/500 [1:13:58<29:37, 12.43s/it]"
     ]
    },
    {
     "name": "stdout",
     "output_type": "stream",
     "text": [
      "--------------------------------------------- Result 357 ---------------------------------------------\n",
      "[[Positive (85%)]] --> [[[SKIPPED]]]\n",
      "\n",
      "jason x is positively anti-darwinian : nine sequels and 400 years later , the teens are none the wiser and jason still kills on auto-pilot . \n",
      "\n",
      "\n"
     ]
    },
    {
     "name": "stderr",
     "output_type": "stream",
     "text": [
      "[Succeeded / Failed / Skipped / Total] 212 / 91 / 54 / 357:  72%|███████▏  | 358/500 [1:14:07<29:23, 12.42s/it]/scratch/sp6646/envs_dirs/swap_env/lib/python3.8/site-packages/textattack/loggers/csv_logger.py:41: FutureWarning: The frame.append method is deprecated and will be removed from pandas in a future version. Use pandas.concat instead.\n",
      "  self.df = self.df.append(row, ignore_index=True)\n",
      "[Succeeded / Failed / Skipped / Total] 213 / 91 / 54 / 358:  72%|███████▏  | 358/500 [1:14:07<29:23, 12.42s/it]"
     ]
    },
    {
     "name": "stdout",
     "output_type": "stream",
     "text": [
      "--------------------------------------------- Result 358 ---------------------------------------------\n",
      "[[Negative (76%)]] --> [[Positive (67%)]]\n",
      "\n",
      "stealing harvard aspires to comedic grand larceny but [[stands]] convicted of nothing more than petty theft of your time . \n",
      "\n",
      "stealing harvard aspires to comedic grand larceny but [[stand]] convicted of nothing more than petty theft of your time . \n",
      "\n",
      "\n"
     ]
    },
    {
     "name": "stderr",
     "output_type": "stream",
     "text": [
      "[Succeeded / Failed / Skipped / Total] 213 / 91 / 54 / 358:  72%|███████▏  | 359/500 [1:14:07<29:06, 12.39s/it]/scratch/sp6646/envs_dirs/swap_env/lib/python3.8/site-packages/textattack/loggers/csv_logger.py:41: FutureWarning: The frame.append method is deprecated and will be removed from pandas in a future version. Use pandas.concat instead.\n",
      "  self.df = self.df.append(row, ignore_index=True)\n",
      "[Succeeded / Failed / Skipped / Total] 213 / 91 / 55 / 359:  72%|███████▏  | 359/500 [1:14:07<29:06, 12.39s/it]"
     ]
    },
    {
     "name": "stdout",
     "output_type": "stream",
     "text": [
      "--------------------------------------------- Result 359 ---------------------------------------------\n",
      "[[Negative (75%)]] --> [[[SKIPPED]]]\n",
      "\n",
      "( d ) oes n't bother being as cloying or preachy as equivalent evangelical christian movies -- maybe the filmmakers know that the likely audience will already be among the faithful . \n",
      "\n",
      "\n"
     ]
    },
    {
     "name": "stderr",
     "output_type": "stream",
     "text": [
      "[Succeeded / Failed / Skipped / Total] 213 / 91 / 55 / 359:  72%|███████▏  | 360/500 [1:14:22<28:55, 12.40s/it]/scratch/sp6646/envs_dirs/swap_env/lib/python3.8/site-packages/textattack/loggers/csv_logger.py:41: FutureWarning: The frame.append method is deprecated and will be removed from pandas in a future version. Use pandas.concat instead.\n",
      "  self.df = self.df.append(row, ignore_index=True)\n",
      "[Succeeded / Failed / Skipped / Total] 214 / 91 / 55 / 360:  72%|███████▏  | 360/500 [1:14:23<28:55, 12.40s/it]"
     ]
    },
    {
     "name": "stdout",
     "output_type": "stream",
     "text": [
      "--------------------------------------------- Result 360 ---------------------------------------------\n",
      "[[Positive (99%)]] --> [[Negative (59%)]]\n",
      "\n",
      "displaying about equal amounts of naiveté , [[passion]] and talent , beneath clouds establishes sen as a filmmaker of [[considerable]] potential . \n",
      "\n",
      "displaying about equal amounts of naiveté , [[eagerness]] and talent , beneath clouds establishes sen as a filmmaker of [[heavy]] potential . \n",
      "\n",
      "\n"
     ]
    },
    {
     "name": "stderr",
     "output_type": "stream",
     "text": [
      "[Succeeded / Failed / Skipped / Total] 214 / 91 / 55 / 360:  72%|███████▏  | 361/500 [1:14:28<28:40, 12.38s/it]/scratch/sp6646/envs_dirs/swap_env/lib/python3.8/site-packages/textattack/loggers/csv_logger.py:41: FutureWarning: The frame.append method is deprecated and will be removed from pandas in a future version. Use pandas.concat instead.\n",
      "  self.df = self.df.append(row, ignore_index=True)\n",
      "[Succeeded / Failed / Skipped / Total] 215 / 91 / 55 / 361:  72%|███████▏  | 361/500 [1:14:28<28:40, 12.38s/it]"
     ]
    },
    {
     "name": "stdout",
     "output_type": "stream",
     "text": [
      "--------------------------------------------- Result 361 ---------------------------------------------\n",
      "[[Positive (99%)]] --> [[Negative (85%)]]\n",
      "\n",
      "` easily my choice for one of the year 's [[best]] films . ' \n",
      "\n",
      "` easily my choice for one of the year 's [[preferable]] films . ' \n",
      "\n",
      "\n"
     ]
    },
    {
     "name": "stderr",
     "output_type": "stream",
     "text": [
      "[Succeeded / Failed / Skipped / Total] 215 / 91 / 55 / 361:  72%|███████▏  | 362/500 [1:14:42<28:28, 12.38s/it]/scratch/sp6646/envs_dirs/swap_env/lib/python3.8/site-packages/textattack/loggers/csv_logger.py:41: FutureWarning: The frame.append method is deprecated and will be removed from pandas in a future version. Use pandas.concat instead.\n",
      "  self.df = self.df.append(row, ignore_index=True)\n",
      "[Succeeded / Failed / Skipped / Total] 215 / 92 / 55 / 362:  72%|███████▏  | 362/500 [1:14:42<28:28, 12.38s/it]"
     ]
    },
    {
     "name": "stdout",
     "output_type": "stream",
     "text": [
      "--------------------------------------------- Result 362 ---------------------------------------------\n",
      "[[Negative (100%)]] --> [[[FAILED]]]\n",
      "\n",
      "a very long movie , dull in stretches , with entirely too much focus on meal preparation and igloo construction . \n",
      "\n",
      "\n"
     ]
    },
    {
     "name": "stderr",
     "output_type": "stream",
     "text": [
      "[Succeeded / Failed / Skipped / Total] 215 / 92 / 55 / 362:  73%|███████▎  | 363/500 [1:14:56<28:17, 12.39s/it]/scratch/sp6646/envs_dirs/swap_env/lib/python3.8/site-packages/textattack/loggers/csv_logger.py:41: FutureWarning: The frame.append method is deprecated and will be removed from pandas in a future version. Use pandas.concat instead.\n",
      "  self.df = self.df.append(row, ignore_index=True)\n",
      "[Succeeded / Failed / Skipped / Total] 216 / 92 / 55 / 363:  73%|███████▎  | 363/500 [1:14:56<28:17, 12.39s/it]"
     ]
    },
    {
     "name": "stdout",
     "output_type": "stream",
     "text": [
      "--------------------------------------------- Result 363 ---------------------------------------------\n",
      "[[Positive (100%)]] --> [[Negative (93%)]]\n",
      "\n",
      "as a first-time director , paxton has [[tapped]] something in himself as an actor that provides frailty with its dark [[soul]] . \n",
      "\n",
      "as a first-time director , paxton has [[bugged]] something in himself as an actor that provides frailty with its dark [[ame]] . \n",
      "\n",
      "\n"
     ]
    },
    {
     "name": "stderr",
     "output_type": "stream",
     "text": [
      "[Succeeded / Failed / Skipped / Total] 216 / 92 / 55 / 363:  73%|███████▎  | 364/500 [1:15:05<28:03, 12.38s/it]/scratch/sp6646/envs_dirs/swap_env/lib/python3.8/site-packages/textattack/loggers/csv_logger.py:41: FutureWarning: The frame.append method is deprecated and will be removed from pandas in a future version. Use pandas.concat instead.\n",
      "  self.df = self.df.append(row, ignore_index=True)\n",
      "[Succeeded / Failed / Skipped / Total] 217 / 92 / 55 / 364:  73%|███████▎  | 364/500 [1:15:05<28:03, 12.38s/it]"
     ]
    },
    {
     "name": "stdout",
     "output_type": "stream",
     "text": [
      "--------------------------------------------- Result 364 ---------------------------------------------\n",
      "[[Negative (99%)]] --> [[Positive (71%)]]\n",
      "\n",
      "it 's a [[grab]] bag of genres that do n't add up to a whole lot of sense . \n",
      "\n",
      "it 's a [[captures]] bag of genres that do n't add up to a whole lot of sense . \n",
      "\n",
      "\n"
     ]
    },
    {
     "name": "stderr",
     "output_type": "stream",
     "text": [
      "[Succeeded / Failed / Skipped / Total] 217 / 92 / 55 / 364:  73%|███████▎  | 365/500 [1:15:20<27:51, 12.38s/it]/scratch/sp6646/envs_dirs/swap_env/lib/python3.8/site-packages/textattack/loggers/csv_logger.py:41: FutureWarning: The frame.append method is deprecated and will be removed from pandas in a future version. Use pandas.concat instead.\n",
      "  self.df = self.df.append(row, ignore_index=True)\n",
      "[Succeeded / Failed / Skipped / Total] 218 / 92 / 55 / 365:  73%|███████▎  | 365/500 [1:15:20<27:51, 12.38s/it]"
     ]
    },
    {
     "name": "stdout",
     "output_type": "stream",
     "text": [
      "--------------------------------------------- Result 365 ---------------------------------------------\n",
      "[[Negative (99%)]] --> [[Positive (82%)]]\n",
      "\n",
      "[[instead]] of [[hiding]] pinocchio from critics , miramax should have hidden it from everyone . \n",
      "\n",
      "[[nonetheless]] of [[lurks]] pinocchio from critics , miramax should have hidden it from everyone . \n",
      "\n",
      "\n"
     ]
    },
    {
     "name": "stderr",
     "output_type": "stream",
     "text": [
      "[Succeeded / Failed / Skipped / Total] 218 / 92 / 55 / 365:  73%|███████▎  | 366/500 [1:15:27<27:37, 12.37s/it]/scratch/sp6646/envs_dirs/swap_env/lib/python3.8/site-packages/textattack/loggers/csv_logger.py:41: FutureWarning: The frame.append method is deprecated and will be removed from pandas in a future version. Use pandas.concat instead.\n",
      "  self.df = self.df.append(row, ignore_index=True)\n",
      "[Succeeded / Failed / Skipped / Total] 219 / 92 / 55 / 366:  73%|███████▎  | 366/500 [1:15:27<27:37, 12.37s/it]"
     ]
    },
    {
     "name": "stdout",
     "output_type": "stream",
     "text": [
      "--------------------------------------------- Result 366 ---------------------------------------------\n",
      "[[Negative (96%)]] --> [[Positive (77%)]]\n",
      "\n",
      "portentous and pretentious , the [[weight]] of water is appropriately titled , given the heavy-handedness of it drama . \n",
      "\n",
      "portentous and pretentious , the [[weighing]] of water is appropriately titled , given the heavy-handedness of it drama . \n",
      "\n",
      "\n"
     ]
    },
    {
     "name": "stderr",
     "output_type": "stream",
     "text": [
      "[Succeeded / Failed / Skipped / Total] 219 / 92 / 55 / 366:  73%|███████▎  | 367/500 [1:15:41<27:25, 12.37s/it]/scratch/sp6646/envs_dirs/swap_env/lib/python3.8/site-packages/textattack/loggers/csv_logger.py:41: FutureWarning: The frame.append method is deprecated and will be removed from pandas in a future version. Use pandas.concat instead.\n",
      "  self.df = self.df.append(row, ignore_index=True)\n",
      "[Succeeded / Failed / Skipped / Total] 220 / 92 / 55 / 367:  73%|███████▎  | 367/500 [1:15:41<27:25, 12.37s/it]"
     ]
    },
    {
     "name": "stdout",
     "output_type": "stream",
     "text": [
      "--------------------------------------------- Result 367 ---------------------------------------------\n",
      "[[Positive (100%)]] --> [[Negative (72%)]]\n",
      "\n",
      "altogether , this is [[successful]] as a film , while at the same time being a most [[touching]] reconsideration of the familiar [[masterpiece]] . \n",
      "\n",
      "altogether , this is [[thrive]] as a film , while at the same time being a most [[affected]] reconsideration of the familiar [[linchpin]] . \n",
      "\n",
      "\n"
     ]
    },
    {
     "name": "stderr",
     "output_type": "stream",
     "text": [
      "[Succeeded / Failed / Skipped / Total] 220 / 92 / 55 / 367:  74%|███████▎  | 368/500 [1:15:43<27:09, 12.35s/it]/scratch/sp6646/envs_dirs/swap_env/lib/python3.8/site-packages/textattack/loggers/csv_logger.py:41: FutureWarning: The frame.append method is deprecated and will be removed from pandas in a future version. Use pandas.concat instead.\n",
      "  self.df = self.df.append(row, ignore_index=True)\n",
      "[Succeeded / Failed / Skipped / Total] 221 / 92 / 55 / 368:  74%|███████▎  | 368/500 [1:15:43<27:09, 12.35s/it]"
     ]
    },
    {
     "name": "stdout",
     "output_type": "stream",
     "text": [
      "--------------------------------------------- Result 368 ---------------------------------------------\n",
      "[[Positive (99%)]] --> [[Negative (99%)]]\n",
      "\n",
      "there has always been something [[likable]] about the marquis de sade . \n",
      "\n",
      "there has always been something [[unlikable]] about the marquis de sade . \n",
      "\n",
      "\n"
     ]
    },
    {
     "name": "stderr",
     "output_type": "stream",
     "text": [
      "[Succeeded / Failed / Skipped / Total] 221 / 92 / 55 / 368:  74%|███████▍  | 369/500 [1:15:53<26:56, 12.34s/it]/scratch/sp6646/envs_dirs/swap_env/lib/python3.8/site-packages/textattack/loggers/csv_logger.py:41: FutureWarning: The frame.append method is deprecated and will be removed from pandas in a future version. Use pandas.concat instead.\n",
      "  self.df = self.df.append(row, ignore_index=True)\n",
      "[Succeeded / Failed / Skipped / Total] 222 / 92 / 55 / 369:  74%|███████▍  | 369/500 [1:15:53<26:56, 12.34s/it]"
     ]
    },
    {
     "name": "stdout",
     "output_type": "stream",
     "text": [
      "--------------------------------------------- Result 369 ---------------------------------------------\n",
      "[[Negative (100%)]] --> [[Positive (62%)]]\n",
      "\n",
      "the humor is forced and heavy-handed , and occasionally simply [[unpleasant]] . \n",
      "\n",
      "the humor is forced and heavy-handed , and occasionally simply [[naughty]] . \n",
      "\n",
      "\n"
     ]
    },
    {
     "name": "stderr",
     "output_type": "stream",
     "text": [
      "[Succeeded / Failed / Skipped / Total] 222 / 92 / 55 / 369:  74%|███████▍  | 370/500 [1:16:12<26:46, 12.36s/it]/scratch/sp6646/envs_dirs/swap_env/lib/python3.8/site-packages/textattack/loggers/csv_logger.py:41: FutureWarning: The frame.append method is deprecated and will be removed from pandas in a future version. Use pandas.concat instead.\n",
      "  self.df = self.df.append(row, ignore_index=True)\n",
      "[Succeeded / Failed / Skipped / Total] 223 / 92 / 55 / 370:  74%|███████▍  | 370/500 [1:16:12<26:46, 12.36s/it]"
     ]
    },
    {
     "name": "stdout",
     "output_type": "stream",
     "text": [
      "--------------------------------------------- Result 370 ---------------------------------------------\n",
      "[[Positive (100%)]] --> [[Negative (57%)]]\n",
      "\n",
      "without ever becoming didactic , director carlos carrera [[expertly]] [[weaves]] this novelistic story of entangled interrelationships and complex morality . \n",
      "\n",
      "without ever becoming didactic , director carlos carrera [[clumsily]] [[weaved]] this novelistic story of entangled interrelationships and complex morality . \n",
      "\n",
      "\n"
     ]
    },
    {
     "name": "stderr",
     "output_type": "stream",
     "text": [
      "[Succeeded / Failed / Skipped / Total] 223 / 92 / 55 / 370:  74%|███████▍  | 371/500 [1:16:36<26:38, 12.39s/it]/scratch/sp6646/envs_dirs/swap_env/lib/python3.8/site-packages/textattack/loggers/csv_logger.py:41: FutureWarning: The frame.append method is deprecated and will be removed from pandas in a future version. Use pandas.concat instead.\n",
      "  self.df = self.df.append(row, ignore_index=True)\n",
      "[Succeeded / Failed / Skipped / Total] 224 / 92 / 55 / 371:  74%|███████▍  | 371/500 [1:16:36<26:38, 12.39s/it]"
     ]
    },
    {
     "name": "stdout",
     "output_type": "stream",
     "text": [
      "--------------------------------------------- Result 371 ---------------------------------------------\n",
      "[[Negative (96%)]] --> [[Positive (91%)]]\n",
      "\n",
      "partway through watching this [[saccharine]] , easter-egg-colored concoction , you realize that it is made up of three episodes of a [[rejected]] tv show . \n",
      "\n",
      "partway through watching this [[fatuous]] , easter-egg-colored concoction , you realize that it is made up of three episodes of a [[spurn]] tv show . \n",
      "\n",
      "\n"
     ]
    },
    {
     "name": "stderr",
     "output_type": "stream",
     "text": [
      "[Succeeded / Failed / Skipped / Total] 224 / 92 / 55 / 371:  74%|███████▍  | 372/500 [1:17:03<26:30, 12.43s/it]/scratch/sp6646/envs_dirs/swap_env/lib/python3.8/site-packages/textattack/loggers/csv_logger.py:41: FutureWarning: The frame.append method is deprecated and will be removed from pandas in a future version. Use pandas.concat instead.\n",
      "  self.df = self.df.append(row, ignore_index=True)\n",
      "[Succeeded / Failed / Skipped / Total] 225 / 92 / 55 / 372:  74%|███████▍  | 372/500 [1:17:03<26:30, 12.43s/it]"
     ]
    },
    {
     "name": "stdout",
     "output_type": "stream",
     "text": [
      "--------------------------------------------- Result 372 ---------------------------------------------\n",
      "[[Positive (99%)]] --> [[Negative (98%)]]\n",
      "\n",
      "for the most part , it 's a [[work]] of incendiary genius , steering clear of knee-jerk reactions and [[quick]] solutions . \n",
      "\n",
      "for the most part , it 's a [[labor]] of incendiary genius , steering clear of knee-jerk reactions and [[faster]] solutions . \n",
      "\n",
      "\n"
     ]
    },
    {
     "name": "stderr",
     "output_type": "stream",
     "text": [
      "[Succeeded / Failed / Skipped / Total] 225 / 92 / 55 / 372:  75%|███████▍  | 373/500 [1:17:37<26:25, 12.49s/it]/scratch/sp6646/envs_dirs/swap_env/lib/python3.8/site-packages/textattack/loggers/csv_logger.py:41: FutureWarning: The frame.append method is deprecated and will be removed from pandas in a future version. Use pandas.concat instead.\n",
      "  self.df = self.df.append(row, ignore_index=True)\n",
      "[Succeeded / Failed / Skipped / Total] 225 / 93 / 55 / 373:  75%|███████▍  | 373/500 [1:17:37<26:25, 12.49s/it]"
     ]
    },
    {
     "name": "stdout",
     "output_type": "stream",
     "text": [
      "--------------------------------------------- Result 373 ---------------------------------------------\n",
      "[[Positive (96%)]] --> [[[FAILED]]]\n",
      "\n",
      "the special effects and many scenes of weightlessness look as good or better than in the original , while the oscar-winning sound and james horner 's rousing score make good use of the hefty audio system . \n",
      "\n",
      "\n"
     ]
    },
    {
     "name": "stderr",
     "output_type": "stream",
     "text": [
      "[Succeeded / Failed / Skipped / Total] 225 / 93 / 55 / 373:  75%|███████▍  | 374/500 [1:17:49<26:13, 12.48s/it]/scratch/sp6646/envs_dirs/swap_env/lib/python3.8/site-packages/textattack/loggers/csv_logger.py:41: FutureWarning: The frame.append method is deprecated and will be removed from pandas in a future version. Use pandas.concat instead.\n",
      "  self.df = self.df.append(row, ignore_index=True)\n",
      "[Succeeded / Failed / Skipped / Total] 225 / 94 / 55 / 374:  75%|███████▍  | 374/500 [1:17:49<26:13, 12.48s/it]"
     ]
    },
    {
     "name": "stdout",
     "output_type": "stream",
     "text": [
      "--------------------------------------------- Result 374 ---------------------------------------------\n",
      "[[Negative (100%)]] --> [[[FAILED]]]\n",
      "\n",
      "not since freddy got fingered has a major release been so painful to sit through . \n",
      "\n",
      "\n"
     ]
    },
    {
     "name": "stderr",
     "output_type": "stream",
     "text": [
      "[Succeeded / Failed / Skipped / Total] 225 / 94 / 55 / 374:  75%|███████▌  | 375/500 [1:18:09<26:03, 12.50s/it]/scratch/sp6646/envs_dirs/swap_env/lib/python3.8/site-packages/textattack/loggers/csv_logger.py:41: FutureWarning: The frame.append method is deprecated and will be removed from pandas in a future version. Use pandas.concat instead.\n",
      "  self.df = self.df.append(row, ignore_index=True)\n",
      "[Succeeded / Failed / Skipped / Total] 226 / 94 / 55 / 375:  75%|███████▌  | 375/500 [1:18:09<26:03, 12.50s/it]"
     ]
    },
    {
     "name": "stdout",
     "output_type": "stream",
     "text": [
      "--------------------------------------------- Result 375 ---------------------------------------------\n",
      "[[Negative (100%)]] --> [[Positive (52%)]]\n",
      "\n",
      "the movie is what [[happens]] when you blow up small potatoes to 10 [[times]] their natural size , and it ai n't [[pretty]] . \n",
      "\n",
      "the movie is what [[penetrates]] when you blow up small potatoes to 10 [[bouts]] their natural size , and it ai n't [[altogether]] . \n",
      "\n",
      "\n"
     ]
    },
    {
     "name": "stderr",
     "output_type": "stream",
     "text": [
      "[Succeeded / Failed / Skipped / Total] 226 / 94 / 55 / 375:  75%|███████▌  | 376/500 [1:18:09<25:46, 12.47s/it]/scratch/sp6646/envs_dirs/swap_env/lib/python3.8/site-packages/textattack/loggers/csv_logger.py:41: FutureWarning: The frame.append method is deprecated and will be removed from pandas in a future version. Use pandas.concat instead.\n",
      "  self.df = self.df.append(row, ignore_index=True)\n",
      "[Succeeded / Failed / Skipped / Total] 226 / 94 / 56 / 376:  75%|███████▌  | 376/500 [1:18:09<25:46, 12.47s/it]"
     ]
    },
    {
     "name": "stdout",
     "output_type": "stream",
     "text": [
      "--------------------------------------------- Result 376 ---------------------------------------------\n",
      "[[Negative (100%)]] --> [[[SKIPPED]]]\n",
      "\n",
      "we have n't seen such hilarity since say it is n't so ! \n",
      "\n",
      "\n"
     ]
    },
    {
     "name": "stderr",
     "output_type": "stream",
     "text": [
      "[Succeeded / Failed / Skipped / Total] 226 / 94 / 56 / 376:  75%|███████▌  | 377/500 [1:18:23<25:34, 12.48s/it]/scratch/sp6646/envs_dirs/swap_env/lib/python3.8/site-packages/textattack/loggers/csv_logger.py:41: FutureWarning: The frame.append method is deprecated and will be removed from pandas in a future version. Use pandas.concat instead.\n",
      "  self.df = self.df.append(row, ignore_index=True)\n",
      "[Succeeded / Failed / Skipped / Total] 227 / 94 / 56 / 377:  75%|███████▌  | 377/500 [1:18:23<25:34, 12.48s/it]"
     ]
    },
    {
     "name": "stdout",
     "output_type": "stream",
     "text": [
      "--------------------------------------------- Result 377 ---------------------------------------------\n",
      "[[Negative (92%)]] --> [[Positive (62%)]]\n",
      "\n",
      "to call the other side of heaven `` [[appalling]] '' would be to underestimate just how dangerous entertainments like it can be . \n",
      "\n",
      "to call the other side of heaven `` [[harrowing]] '' would be to underestimate just how dangerous entertainments like it can be . \n",
      "\n",
      "\n"
     ]
    },
    {
     "name": "stderr",
     "output_type": "stream",
     "text": [
      "[Succeeded / Failed / Skipped / Total] 227 / 94 / 56 / 377:  76%|███████▌  | 378/500 [1:18:25<25:18, 12.45s/it]/scratch/sp6646/envs_dirs/swap_env/lib/python3.8/site-packages/textattack/loggers/csv_logger.py:41: FutureWarning: The frame.append method is deprecated and will be removed from pandas in a future version. Use pandas.concat instead.\n",
      "  self.df = self.df.append(row, ignore_index=True)\n",
      "[Succeeded / Failed / Skipped / Total] 227 / 95 / 56 / 378:  76%|███████▌  | 378/500 [1:18:25<25:18, 12.45s/it]"
     ]
    },
    {
     "name": "stdout",
     "output_type": "stream",
     "text": [
      "--------------------------------------------- Result 378 ---------------------------------------------\n",
      "[[Negative (92%)]] --> [[[FAILED]]]\n",
      "\n",
      "nothing is sacred in this gut-buster . \n",
      "\n",
      "\n"
     ]
    },
    {
     "name": "stderr",
     "output_type": "stream",
     "text": [
      "[Succeeded / Failed / Skipped / Total] 227 / 95 / 56 / 378:  76%|███████▌  | 379/500 [1:18:56<25:12, 12.50s/it]/scratch/sp6646/envs_dirs/swap_env/lib/python3.8/site-packages/textattack/loggers/csv_logger.py:41: FutureWarning: The frame.append method is deprecated and will be removed from pandas in a future version. Use pandas.concat instead.\n",
      "  self.df = self.df.append(row, ignore_index=True)\n",
      "[Succeeded / Failed / Skipped / Total] 228 / 95 / 56 / 379:  76%|███████▌  | 379/500 [1:18:56<25:12, 12.50s/it]"
     ]
    },
    {
     "name": "stdout",
     "output_type": "stream",
     "text": [
      "--------------------------------------------- Result 379 ---------------------------------------------\n",
      "[[Negative (100%)]] --> [[Positive (89%)]]\n",
      "\n",
      "feels [[haphazard]] , as if the writers [[mistakenly]] thought they could achieve an air of frantic spontaneity by [[simply]] tossing in lots of characters doing silly [[stuff]] and stirring the pot . \n",
      "\n",
      "feels [[disorderly]] , as if the writers [[accidentally]] thought they could achieve an air of frantic spontaneity by [[scarcely]] tossing in lots of characters doing silly [[dope]] and stirring the pot . \n",
      "\n",
      "\n"
     ]
    },
    {
     "name": "stderr",
     "output_type": "stream",
     "text": [
      "[Succeeded / Failed / Skipped / Total] 228 / 95 / 56 / 379:  76%|███████▌  | 380/500 [1:19:04<24:58, 12.49s/it]/scratch/sp6646/envs_dirs/swap_env/lib/python3.8/site-packages/textattack/loggers/csv_logger.py:41: FutureWarning: The frame.append method is deprecated and will be removed from pandas in a future version. Use pandas.concat instead.\n",
      "  self.df = self.df.append(row, ignore_index=True)\n",
      "[Succeeded / Failed / Skipped / Total] 229 / 95 / 56 / 380:  76%|███████▌  | 380/500 [1:19:04<24:58, 12.49s/it]"
     ]
    },
    {
     "name": "stdout",
     "output_type": "stream",
     "text": [
      "--------------------------------------------- Result 380 ---------------------------------------------\n",
      "[[Negative (98%)]] --> [[Positive (68%)]]\n",
      "\n",
      "[[tries]] to add some spice to its quirky sentiments but the taste is all too familiar . \n",
      "\n",
      "[[strives]] to add some spice to its quirky sentiments but the taste is all too familiar . \n",
      "\n",
      "\n"
     ]
    },
    {
     "name": "stderr",
     "output_type": "stream",
     "text": [
      "[Succeeded / Failed / Skipped / Total] 229 / 95 / 56 / 380:  76%|███████▌  | 381/500 [1:19:17<24:45, 12.49s/it]/scratch/sp6646/envs_dirs/swap_env/lib/python3.8/site-packages/textattack/loggers/csv_logger.py:41: FutureWarning: The frame.append method is deprecated and will be removed from pandas in a future version. Use pandas.concat instead.\n",
      "  self.df = self.df.append(row, ignore_index=True)\n",
      "[Succeeded / Failed / Skipped / Total] 230 / 95 / 56 / 381:  76%|███████▌  | 381/500 [1:19:17<24:45, 12.49s/it]"
     ]
    },
    {
     "name": "stdout",
     "output_type": "stream",
     "text": [
      "--------------------------------------------- Result 381 ---------------------------------------------\n",
      "[[Negative (100%)]] --> [[Positive (93%)]]\n",
      "\n",
      "at its [[worst]] , it implodes in a series of very [[bad]] special effects . \n",
      "\n",
      "at its [[finest]] , it implodes in a series of very [[wicked]] special effects . \n",
      "\n",
      "\n"
     ]
    },
    {
     "name": "stderr",
     "output_type": "stream",
     "text": [
      "[Succeeded / Failed / Skipped / Total] 230 / 95 / 56 / 381:  76%|███████▋  | 382/500 [1:19:38<24:36, 12.51s/it]/scratch/sp6646/envs_dirs/swap_env/lib/python3.8/site-packages/textattack/loggers/csv_logger.py:41: FutureWarning: The frame.append method is deprecated and will be removed from pandas in a future version. Use pandas.concat instead.\n",
      "  self.df = self.df.append(row, ignore_index=True)\n",
      "[Succeeded / Failed / Skipped / Total] 231 / 95 / 56 / 382:  76%|███████▋  | 382/500 [1:19:38<24:36, 12.51s/it]"
     ]
    },
    {
     "name": "stdout",
     "output_type": "stream",
     "text": [
      "--------------------------------------------- Result 382 ---------------------------------------------\n",
      "[[Positive (100%)]] --> [[Negative (55%)]]\n",
      "\n",
      "with tightly organized [[efficiency]] , numerous flashbacks and a constant [[edge]] of [[tension]] , miller 's film is one of 2002 's involvingly adult surprises . \n",
      "\n",
      "with tightly organized [[efficacy]] , numerous flashbacks and a constant [[margin]] of [[stress]] , miller 's film is one of 2002 's involvingly adult surprises . \n",
      "\n",
      "\n"
     ]
    },
    {
     "name": "stderr",
     "output_type": "stream",
     "text": [
      "[Succeeded / Failed / Skipped / Total] 231 / 95 / 56 / 382:  77%|███████▋  | 383/500 [1:19:39<24:19, 12.48s/it]/scratch/sp6646/envs_dirs/swap_env/lib/python3.8/site-packages/textattack/loggers/csv_logger.py:41: FutureWarning: The frame.append method is deprecated and will be removed from pandas in a future version. Use pandas.concat instead.\n",
      "  self.df = self.df.append(row, ignore_index=True)\n",
      "[Succeeded / Failed / Skipped / Total] 231 / 95 / 57 / 383:  77%|███████▋  | 383/500 [1:19:39<24:19, 12.48s/it]"
     ]
    },
    {
     "name": "stdout",
     "output_type": "stream",
     "text": [
      "--------------------------------------------- Result 383 ---------------------------------------------\n",
      "[[Positive (100%)]] --> [[[SKIPPED]]]\n",
      "\n",
      "a great ensemble cast ca n't lift this heartfelt enterprise out of the familiar . \n",
      "\n",
      "\n"
     ]
    },
    {
     "name": "stderr",
     "output_type": "stream",
     "text": [
      "[Succeeded / Failed / Skipped / Total] 231 / 95 / 57 / 383:  77%|███████▋  | 384/500 [1:19:49<24:06, 12.47s/it]/scratch/sp6646/envs_dirs/swap_env/lib/python3.8/site-packages/textattack/loggers/csv_logger.py:41: FutureWarning: The frame.append method is deprecated and will be removed from pandas in a future version. Use pandas.concat instead.\n",
      "  self.df = self.df.append(row, ignore_index=True)\n",
      "[Succeeded / Failed / Skipped / Total] 231 / 96 / 57 / 384:  77%|███████▋  | 384/500 [1:19:49<24:06, 12.47s/it]"
     ]
    },
    {
     "name": "stdout",
     "output_type": "stream",
     "text": [
      "--------------------------------------------- Result 384 ---------------------------------------------\n",
      "[[Positive (100%)]] --> [[[FAILED]]]\n",
      "\n",
      "a warm but realistic meditation on friendship , family and affection . \n",
      "\n",
      "\n"
     ]
    },
    {
     "name": "stderr",
     "output_type": "stream",
     "text": [
      "[Succeeded / Failed / Skipped / Total] 231 / 96 / 57 / 384:  77%|███████▋  | 385/500 [1:20:18<23:59, 12.52s/it]/scratch/sp6646/envs_dirs/swap_env/lib/python3.8/site-packages/textattack/loggers/csv_logger.py:41: FutureWarning: The frame.append method is deprecated and will be removed from pandas in a future version. Use pandas.concat instead.\n",
      "  self.df = self.df.append(row, ignore_index=True)\n",
      "[Succeeded / Failed / Skipped / Total] 232 / 96 / 57 / 385:  77%|███████▋  | 385/500 [1:20:18<23:59, 12.52s/it]"
     ]
    },
    {
     "name": "stdout",
     "output_type": "stream",
     "text": [
      "--------------------------------------------- Result 385 ---------------------------------------------\n",
      "[[Negative (88%)]] --> [[Positive (81%)]]\n",
      "\n",
      "at times , the suspense is palpable , but by the end there 's a sense that the crux of the mystery hinges on a [[technicality]] that strains credulity and leaves the viewer haunted by the [[waste]] of potential . \n",
      "\n",
      "at times , the suspense is palpable , but by the end there 's a sense that the crux of the mystery hinges on a [[formality]] that strains credulity and leaves the viewer haunted by the [[wastage]] of potential . \n",
      "\n",
      "\n"
     ]
    },
    {
     "name": "stderr",
     "output_type": "stream",
     "text": [
      "[Succeeded / Failed / Skipped / Total] 232 / 96 / 57 / 385:  77%|███████▋  | 386/500 [1:20:35<23:48, 12.53s/it]/scratch/sp6646/envs_dirs/swap_env/lib/python3.8/site-packages/textattack/loggers/csv_logger.py:41: FutureWarning: The frame.append method is deprecated and will be removed from pandas in a future version. Use pandas.concat instead.\n",
      "  self.df = self.df.append(row, ignore_index=True)\n",
      "[Succeeded / Failed / Skipped / Total] 233 / 96 / 57 / 386:  77%|███████▋  | 386/500 [1:20:35<23:48, 12.53s/it]"
     ]
    },
    {
     "name": "stdout",
     "output_type": "stream",
     "text": [
      "--------------------------------------------- Result 386 ---------------------------------------------\n",
      "[[Negative (84%)]] --> [[Positive (75%)]]\n",
      "\n",
      "while the resident evil games may [[have]] set new standards for thrills , suspense , and gore for video games , the movie really only succeeds in the third of these . \n",
      "\n",
      "while the resident evil games may [[ont]] set new standards for thrills , suspense , and gore for video games , the movie really only succeeds in the third of these . \n",
      "\n",
      "\n"
     ]
    },
    {
     "name": "stderr",
     "output_type": "stream",
     "text": [
      "[Succeeded / Failed / Skipped / Total] 233 / 96 / 57 / 386:  77%|███████▋  | 387/500 [1:20:46<23:35, 12.52s/it]/scratch/sp6646/envs_dirs/swap_env/lib/python3.8/site-packages/textattack/loggers/csv_logger.py:41: FutureWarning: The frame.append method is deprecated and will be removed from pandas in a future version. Use pandas.concat instead.\n",
      "  self.df = self.df.append(row, ignore_index=True)\n",
      "[Succeeded / Failed / Skipped / Total] 233 / 97 / 57 / 387:  77%|███████▋  | 387/500 [1:20:46<23:35, 12.52s/it]"
     ]
    },
    {
     "name": "stdout",
     "output_type": "stream",
     "text": [
      "--------------------------------------------- Result 387 ---------------------------------------------\n",
      "[[Positive (100%)]] --> [[[FAILED]]]\n",
      "\n",
      "it 's a remarkably solid and subtly satirical tour de force . \n",
      "\n",
      "\n"
     ]
    },
    {
     "name": "stderr",
     "output_type": "stream",
     "text": [
      "[Succeeded / Failed / Skipped / Total] 233 / 97 / 57 / 387:  78%|███████▊  | 388/500 [1:21:00<23:22, 12.53s/it]/scratch/sp6646/envs_dirs/swap_env/lib/python3.8/site-packages/textattack/loggers/csv_logger.py:41: FutureWarning: The frame.append method is deprecated and will be removed from pandas in a future version. Use pandas.concat instead.\n",
      "  self.df = self.df.append(row, ignore_index=True)\n",
      "[Succeeded / Failed / Skipped / Total] 234 / 97 / 57 / 388:  78%|███████▊  | 388/500 [1:21:00<23:22, 12.53s/it]"
     ]
    },
    {
     "name": "stdout",
     "output_type": "stream",
     "text": [
      "--------------------------------------------- Result 388 ---------------------------------------------\n",
      "[[Positive (100%)]] --> [[Negative (99%)]]\n",
      "\n",
      "director andrew niccol ... [[demonstrates]] a [[wry]] understanding of the quirks of fame . \n",
      "\n",
      "director andrew niccol ... [[exposition]] a [[cynical]] understanding of the quirks of fame . \n",
      "\n",
      "\n"
     ]
    },
    {
     "name": "stderr",
     "output_type": "stream",
     "text": [
      "[Succeeded / Failed / Skipped / Total] 234 / 97 / 57 / 388:  78%|███████▊  | 389/500 [1:21:05<23:08, 12.51s/it]/scratch/sp6646/envs_dirs/swap_env/lib/python3.8/site-packages/textattack/loggers/csv_logger.py:41: FutureWarning: The frame.append method is deprecated and will be removed from pandas in a future version. Use pandas.concat instead.\n",
      "  self.df = self.df.append(row, ignore_index=True)\n",
      "[Succeeded / Failed / Skipped / Total] 234 / 98 / 57 / 389:  78%|███████▊  | 389/500 [1:21:05<23:08, 12.51s/it]"
     ]
    },
    {
     "name": "stdout",
     "output_type": "stream",
     "text": [
      "--------------------------------------------- Result 389 ---------------------------------------------\n",
      "[[Negative (100%)]] --> [[[FAILED]]]\n",
      "\n",
      "when leguizamo finally plugged an irritating character late in the movie . \n",
      "\n",
      "\n"
     ]
    },
    {
     "name": "stderr",
     "output_type": "stream",
     "text": [
      "[Succeeded / Failed / Skipped / Total] 234 / 98 / 57 / 389:  78%|███████▊  | 390/500 [1:21:20<22:56, 12.51s/it]/scratch/sp6646/envs_dirs/swap_env/lib/python3.8/site-packages/textattack/loggers/csv_logger.py:41: FutureWarning: The frame.append method is deprecated and will be removed from pandas in a future version. Use pandas.concat instead.\n",
      "  self.df = self.df.append(row, ignore_index=True)\n",
      "[Succeeded / Failed / Skipped / Total] 235 / 98 / 57 / 390:  78%|███████▊  | 390/500 [1:21:20<22:56, 12.51s/it]"
     ]
    },
    {
     "name": "stdout",
     "output_type": "stream",
     "text": [
      "--------------------------------------------- Result 390 ---------------------------------------------\n",
      "[[Positive (100%)]] --> [[Negative (66%)]]\n",
      "\n",
      "thekids will probably [[stay]] [[amused]] at the kaleidoscope of big , colorful characters . \n",
      "\n",
      "thekids will probably [[leftovers]] [[outraged]] at the kaleidoscope of big , colorful characters . \n",
      "\n",
      "\n"
     ]
    },
    {
     "name": "stderr",
     "output_type": "stream",
     "text": [
      "[Succeeded / Failed / Skipped / Total] 235 / 98 / 57 / 390:  78%|███████▊  | 391/500 [1:21:32<22:43, 12.51s/it]/scratch/sp6646/envs_dirs/swap_env/lib/python3.8/site-packages/textattack/loggers/csv_logger.py:41: FutureWarning: The frame.append method is deprecated and will be removed from pandas in a future version. Use pandas.concat instead.\n",
      "  self.df = self.df.append(row, ignore_index=True)\n",
      "[Succeeded / Failed / Skipped / Total] 235 / 99 / 57 / 391:  78%|███████▊  | 391/500 [1:21:32<22:43, 12.51s/it]"
     ]
    },
    {
     "name": "stdout",
     "output_type": "stream",
     "text": [
      "--------------------------------------------- Result 391 ---------------------------------------------\n",
      "[[Negative (100%)]] --> [[[FAILED]]]\n",
      "\n",
      "mattei is tiresomely grave and long-winded , as if circularity itself indicated profundity . \n",
      "\n",
      "\n"
     ]
    },
    {
     "name": "stderr",
     "output_type": "stream",
     "text": [
      "[Succeeded / Failed / Skipped / Total] 235 / 99 / 57 / 391:  78%|███████▊  | 392/500 [1:21:56<22:34, 12.54s/it]/scratch/sp6646/envs_dirs/swap_env/lib/python3.8/site-packages/textattack/loggers/csv_logger.py:41: FutureWarning: The frame.append method is deprecated and will be removed from pandas in a future version. Use pandas.concat instead.\n",
      "  self.df = self.df.append(row, ignore_index=True)\n",
      "[Succeeded / Failed / Skipped / Total] 235 / 100 / 57 / 392:  78%|███████▊  | 392/500 [1:21:56<22:34, 12.54s/it]"
     ]
    },
    {
     "name": "stdout",
     "output_type": "stream",
     "text": [
      "--------------------------------------------- Result 392 ---------------------------------------------\n",
      "[[Negative (100%)]] --> [[[FAILED]]]\n",
      "\n",
      "... plays like somebody spliced random moments of a chris rock routine into what is otherwise a cliche-riddled but self-serious spy thriller . \n",
      "\n",
      "\n"
     ]
    },
    {
     "name": "stderr",
     "output_type": "stream",
     "text": [
      "[Succeeded / Failed / Skipped / Total] 235 / 100 / 57 / 392:  79%|███████▊  | 393/500 [1:22:03<22:20, 12.53s/it]/scratch/sp6646/envs_dirs/swap_env/lib/python3.8/site-packages/textattack/loggers/csv_logger.py:41: FutureWarning: The frame.append method is deprecated and will be removed from pandas in a future version. Use pandas.concat instead.\n",
      "  self.df = self.df.append(row, ignore_index=True)\n",
      "[Succeeded / Failed / Skipped / Total] 236 / 100 / 57 / 393:  79%|███████▊  | 393/500 [1:22:03<22:20, 12.53s/it]"
     ]
    },
    {
     "name": "stdout",
     "output_type": "stream",
     "text": [
      "--------------------------------------------- Result 393 ---------------------------------------------\n",
      "[[Negative (100%)]] --> [[Positive (78%)]]\n",
      "\n",
      "an overemphatic , would-be wacky , [[ultimately]] [[tedious]] sex farce . \n",
      "\n",
      "an overemphatic , would-be wacky , [[maybe]] [[pesky]] sex farce . \n",
      "\n",
      "\n"
     ]
    },
    {
     "name": "stderr",
     "output_type": "stream",
     "text": [
      "[Succeeded / Failed / Skipped / Total] 236 / 100 / 57 / 393:  79%|███████▉  | 394/500 [1:22:11<22:06, 12.52s/it]/scratch/sp6646/envs_dirs/swap_env/lib/python3.8/site-packages/textattack/loggers/csv_logger.py:41: FutureWarning: The frame.append method is deprecated and will be removed from pandas in a future version. Use pandas.concat instead.\n",
      "  self.df = self.df.append(row, ignore_index=True)\n",
      "[Succeeded / Failed / Skipped / Total] 237 / 100 / 57 / 394:  79%|███████▉  | 394/500 [1:22:11<22:06, 12.52s/it]"
     ]
    },
    {
     "name": "stdout",
     "output_type": "stream",
     "text": [
      "--------------------------------------------- Result 394 ---------------------------------------------\n",
      "[[Positive (100%)]] --> [[Negative (97%)]]\n",
      "\n",
      "it all [[adds]] up to good [[fun]] . \n",
      "\n",
      "it all [[extras]] up to good [[joke]] . \n",
      "\n",
      "\n"
     ]
    },
    {
     "name": "stderr",
     "output_type": "stream",
     "text": [
      "[Succeeded / Failed / Skipped / Total] 237 / 100 / 57 / 394:  79%|███████▉  | 395/500 [1:22:49<22:01, 12.58s/it]/scratch/sp6646/envs_dirs/swap_env/lib/python3.8/site-packages/textattack/loggers/csv_logger.py:41: FutureWarning: The frame.append method is deprecated and will be removed from pandas in a future version. Use pandas.concat instead.\n",
      "  self.df = self.df.append(row, ignore_index=True)\n",
      "[Succeeded / Failed / Skipped / Total] 237 / 101 / 57 / 395:  79%|███████▉  | 395/500 [1:22:49<22:01, 12.58s/it]/scratch/sp6646/envs_dirs/swap_env/lib/python3.8/site-packages/textattack/loggers/csv_logger.py:41: FutureWarning: The frame.append method is deprecated and will be removed from pandas in a future version. Use pandas.concat instead.\n",
      "  self.df = self.df.append(row, ignore_index=True)\n",
      "[Succeeded / Failed / Skipped / Total] 237 / 101 / 58 / 396:  79%|███████▉  | 396/500 [1:22:49<21:45, 12.55s/it]"
     ]
    },
    {
     "name": "stdout",
     "output_type": "stream",
     "text": [
      "--------------------------------------------- Result 395 ---------------------------------------------\n",
      "[[Positive (99%)]] --> [[[FAILED]]]\n",
      "\n",
      "whether writer-director anne fontaine 's film is a ghost story , an account of a nervous breakdown , a trip down memory lane , all three or none of the above , it is as seductive as it is haunting . \n",
      "\n",
      "\n",
      "--------------------------------------------- Result 396 ---------------------------------------------\n",
      "[[Positive (84%)]] --> [[[SKIPPED]]]\n",
      "\n",
      "another in-your-face wallow in the lower depths made by people who have never sung those blues . \n",
      "\n",
      "\n"
     ]
    },
    {
     "name": "stderr",
     "output_type": "stream",
     "text": [
      "[Succeeded / Failed / Skipped / Total] 237 / 101 / 58 / 396:  79%|███████▉  | 397/500 [1:22:58<21:31, 12.54s/it]/scratch/sp6646/envs_dirs/swap_env/lib/python3.8/site-packages/textattack/loggers/csv_logger.py:41: FutureWarning: The frame.append method is deprecated and will be removed from pandas in a future version. Use pandas.concat instead.\n",
      "  self.df = self.df.append(row, ignore_index=True)\n",
      "[Succeeded / Failed / Skipped / Total] 238 / 101 / 58 / 397:  79%|███████▉  | 397/500 [1:22:58<21:31, 12.54s/it]"
     ]
    },
    {
     "name": "stdout",
     "output_type": "stream",
     "text": [
      "--------------------------------------------- Result 397 ---------------------------------------------\n",
      "[[Positive (100%)]] --> [[Negative (97%)]]\n",
      "\n",
      "a very well-made , [[funny]] and [[entertaining]] picture . \n",
      "\n",
      "a very well-made , [[distracting]] and [[distract]] picture . \n",
      "\n",
      "\n"
     ]
    },
    {
     "name": "stderr",
     "output_type": "stream",
     "text": [
      "[Succeeded / Failed / Skipped / Total] 238 / 101 / 58 / 397:  80%|███████▉  | 398/500 [1:23:23<21:22, 12.57s/it]/scratch/sp6646/envs_dirs/swap_env/lib/python3.8/site-packages/textattack/loggers/csv_logger.py:41: FutureWarning: The frame.append method is deprecated and will be removed from pandas in a future version. Use pandas.concat instead.\n",
      "  self.df = self.df.append(row, ignore_index=True)\n",
      "[Succeeded / Failed / Skipped / Total] 238 / 102 / 58 / 398:  80%|███████▉  | 398/500 [1:23:23<21:22, 12.57s/it]"
     ]
    },
    {
     "name": "stdout",
     "output_type": "stream",
     "text": [
      "--------------------------------------------- Result 398 ---------------------------------------------\n",
      "[[Positive (100%)]] --> [[[FAILED]]]\n",
      "\n",
      "it 's worth seeing just on the basis of the wisdom , and at times , the startling optimism , of the children . \n",
      "\n",
      "\n"
     ]
    },
    {
     "name": "stderr",
     "output_type": "stream",
     "text": [
      "[Succeeded / Failed / Skipped / Total] 238 / 102 / 58 / 398:  80%|███████▉  | 399/500 [1:23:29<21:08, 12.55s/it]/scratch/sp6646/envs_dirs/swap_env/lib/python3.8/site-packages/textattack/loggers/csv_logger.py:41: FutureWarning: The frame.append method is deprecated and will be removed from pandas in a future version. Use pandas.concat instead.\n",
      "  self.df = self.df.append(row, ignore_index=True)\n",
      "[Succeeded / Failed / Skipped / Total] 239 / 102 / 58 / 399:  80%|███████▉  | 399/500 [1:23:29<21:08, 12.55s/it]"
     ]
    },
    {
     "name": "stdout",
     "output_type": "stream",
     "text": [
      "--------------------------------------------- Result 399 ---------------------------------------------\n",
      "[[Positive (86%)]] --> [[Negative (96%)]]\n",
      "\n",
      "despite its title , punch-drunk [[love]] is never heavy-handed . \n",
      "\n",
      "despite its title , punch-drunk [[adores]] is never heavy-handed . \n",
      "\n",
      "\n"
     ]
    },
    {
     "name": "stderr",
     "output_type": "stream",
     "text": [
      "[Succeeded / Failed / Skipped / Total] 239 / 102 / 58 / 399:  80%|████████  | 400/500 [1:23:38<20:54, 12.55s/it]/scratch/sp6646/envs_dirs/swap_env/lib/python3.8/site-packages/textattack/loggers/csv_logger.py:41: FutureWarning: The frame.append method is deprecated and will be removed from pandas in a future version. Use pandas.concat instead.\n",
      "  self.df = self.df.append(row, ignore_index=True)\n",
      "[Succeeded / Failed / Skipped / Total] 240 / 102 / 58 / 400:  80%|████████  | 400/500 [1:23:38<20:54, 12.55s/it]"
     ]
    },
    {
     "name": "stdout",
     "output_type": "stream",
     "text": [
      "--------------------------------------------- Result 400 ---------------------------------------------\n",
      "[[Negative (97%)]] --> [[Positive (52%)]]\n",
      "\n",
      "if director michael dowse only [[superficially]] understands his characters , he does n't hold them in contempt . \n",
      "\n",
      "if director michael dowse only [[sweetly]] understands his characters , he does n't hold them in contempt . \n",
      "\n",
      "\n"
     ]
    },
    {
     "name": "stderr",
     "output_type": "stream",
     "text": [
      "[Succeeded / Failed / Skipped / Total] 240 / 102 / 58 / 400:  80%|████████  | 401/500 [1:23:50<20:41, 12.54s/it]/scratch/sp6646/envs_dirs/swap_env/lib/python3.8/site-packages/textattack/loggers/csv_logger.py:41: FutureWarning: The frame.append method is deprecated and will be removed from pandas in a future version. Use pandas.concat instead.\n",
      "  self.df = self.df.append(row, ignore_index=True)\n",
      "[Succeeded / Failed / Skipped / Total] 241 / 102 / 58 / 401:  80%|████████  | 401/500 [1:23:50<20:41, 12.54s/it]"
     ]
    },
    {
     "name": "stdout",
     "output_type": "stream",
     "text": [
      "--------------------------------------------- Result 401 ---------------------------------------------\n",
      "[[Positive (99%)]] --> [[Negative (54%)]]\n",
      "\n",
      "it 's [[refreshing]] to see a girl-power movie that does n't [[feel]] it has to prove anything . \n",
      "\n",
      "it 's [[gratifying]] to see a girl-power movie that does n't [[sense]] it has to prove anything . \n",
      "\n",
      "\n"
     ]
    },
    {
     "name": "stderr",
     "output_type": "stream",
     "text": [
      "[Succeeded / Failed / Skipped / Total] 241 / 102 / 58 / 401:  80%|████████  | 402/500 [1:24:05<20:30, 12.55s/it]/scratch/sp6646/envs_dirs/swap_env/lib/python3.8/site-packages/textattack/loggers/csv_logger.py:41: FutureWarning: The frame.append method is deprecated and will be removed from pandas in a future version. Use pandas.concat instead.\n",
      "  self.df = self.df.append(row, ignore_index=True)\n",
      "[Succeeded / Failed / Skipped / Total] 242 / 102 / 58 / 402:  80%|████████  | 402/500 [1:24:05<20:30, 12.55s/it]"
     ]
    },
    {
     "name": "stdout",
     "output_type": "stream",
     "text": [
      "--------------------------------------------- Result 402 ---------------------------------------------\n",
      "[[Positive (81%)]] --> [[Negative (83%)]]\n",
      "\n",
      "the film may appear naked in its narrative form ... but it goes [[deeper]] than that , to fundamental choices that include the complexity of the catholic doctrine \n",
      "\n",
      "the film may appear naked in its narrative form ... but it goes [[longer]] than that , to fundamental choices that include the complexity of the catholic doctrine \n",
      "\n",
      "\n"
     ]
    },
    {
     "name": "stderr",
     "output_type": "stream",
     "text": [
      "[Succeeded / Failed / Skipped / Total] 242 / 102 / 58 / 402:  81%|████████  | 403/500 [1:24:20<20:18, 12.56s/it]/scratch/sp6646/envs_dirs/swap_env/lib/python3.8/site-packages/textattack/loggers/csv_logger.py:41: FutureWarning: The frame.append method is deprecated and will be removed from pandas in a future version. Use pandas.concat instead.\n",
      "  self.df = self.df.append(row, ignore_index=True)\n",
      "[Succeeded / Failed / Skipped / Total] 243 / 102 / 58 / 403:  81%|████████  | 403/500 [1:24:20<20:18, 12.56s/it]"
     ]
    },
    {
     "name": "stdout",
     "output_type": "stream",
     "text": [
      "--------------------------------------------- Result 403 ---------------------------------------------\n",
      "[[Negative (84%)]] --> [[Positive (63%)]]\n",
      "\n",
      "however it may please those who love movies that [[blare]] with pop songs , young science fiction fans will stomp away in disgust . \n",
      "\n",
      "however it may please those who love movies that [[reverberating]] with pop songs , young science fiction fans will stomp away in disgust . \n",
      "\n",
      "\n"
     ]
    },
    {
     "name": "stderr",
     "output_type": "stream",
     "text": [
      "[Succeeded / Failed / Skipped / Total] 243 / 102 / 58 / 403:  81%|████████  | 404/500 [1:24:27<20:04, 12.54s/it]/scratch/sp6646/envs_dirs/swap_env/lib/python3.8/site-packages/textattack/loggers/csv_logger.py:41: FutureWarning: The frame.append method is deprecated and will be removed from pandas in a future version. Use pandas.concat instead.\n",
      "  self.df = self.df.append(row, ignore_index=True)\n",
      "[Succeeded / Failed / Skipped / Total] 244 / 102 / 58 / 404:  81%|████████  | 404/500 [1:24:27<20:04, 12.54s/it]"
     ]
    },
    {
     "name": "stdout",
     "output_type": "stream",
     "text": [
      "--------------------------------------------- Result 404 ---------------------------------------------\n",
      "[[Negative (100%)]] --> [[Positive (100%)]]\n",
      "\n",
      "as [[vulgar]] as it is [[banal]] . \n",
      "\n",
      "as [[sassy]] as it is [[everyday]] . \n",
      "\n",
      "\n"
     ]
    },
    {
     "name": "stderr",
     "output_type": "stream",
     "text": [
      "[Succeeded / Failed / Skipped / Total] 244 / 102 / 58 / 404:  81%|████████  | 405/500 [1:24:36<19:50, 12.53s/it]/scratch/sp6646/envs_dirs/swap_env/lib/python3.8/site-packages/textattack/loggers/csv_logger.py:41: FutureWarning: The frame.append method is deprecated and will be removed from pandas in a future version. Use pandas.concat instead.\n",
      "  self.df = self.df.append(row, ignore_index=True)\n",
      "[Succeeded / Failed / Skipped / Total] 245 / 102 / 58 / 405:  81%|████████  | 405/500 [1:24:36<19:50, 12.53s/it]/scratch/sp6646/envs_dirs/swap_env/lib/python3.8/site-packages/textattack/loggers/csv_logger.py:41: FutureWarning: The frame.append method is deprecated and will be removed from pandas in a future version. Use pandas.concat instead.\n",
      "  self.df = self.df.append(row, ignore_index=True)\n",
      "[Succeeded / Failed / Skipped / Total] 245 / 102 / 59 / 406:  81%|████████  | 406/500 [1:24:36<19:35, 12.50s/it]"
     ]
    },
    {
     "name": "stdout",
     "output_type": "stream",
     "text": [
      "--------------------------------------------- Result 405 ---------------------------------------------\n",
      "[[Positive (94%)]] --> [[Negative (59%)]]\n",
      "\n",
      "zhang ... has done an [[amazing]] job of getting realistic performances from his mainly nonprofessional cast . \n",
      "\n",
      "zhang ... has done an [[tremendous]] job of getting realistic performances from his mainly nonprofessional cast . \n",
      "\n",
      "\n",
      "--------------------------------------------- Result 406 ---------------------------------------------\n",
      "[[Positive (100%)]] --> [[[SKIPPED]]]\n",
      "\n",
      "outer-space buffs might love this film , but others will find its pleasures intermittent . \n",
      "\n",
      "\n"
     ]
    },
    {
     "name": "stderr",
     "output_type": "stream",
     "text": [
      "[Succeeded / Failed / Skipped / Total] 245 / 102 / 59 / 406:  81%|████████▏ | 407/500 [1:25:03<19:26, 12.54s/it]/scratch/sp6646/envs_dirs/swap_env/lib/python3.8/site-packages/textattack/loggers/csv_logger.py:41: FutureWarning: The frame.append method is deprecated and will be removed from pandas in a future version. Use pandas.concat instead.\n",
      "  self.df = self.df.append(row, ignore_index=True)\n",
      "[Succeeded / Failed / Skipped / Total] 246 / 102 / 59 / 407:  81%|████████▏ | 407/500 [1:25:03<19:26, 12.54s/it]"
     ]
    },
    {
     "name": "stdout",
     "output_type": "stream",
     "text": [
      "--------------------------------------------- Result 407 ---------------------------------------------\n",
      "[[Positive (98%)]] --> [[Negative (57%)]]\n",
      "\n",
      "maud and roland 's search for an unknowable past makes for a haunting literary detective story , but labute pulls off a neater trick in possession : he [[makes]] language [[sexy]] . \n",
      "\n",
      "maud and roland 's search for an unknowable past makes for a haunting literary detective story , but labute pulls off a neater trick in possession : he [[becoming]] language [[hotter]] . \n",
      "\n",
      "\n"
     ]
    },
    {
     "name": "stderr",
     "output_type": "stream",
     "text": [
      "[Succeeded / Failed / Skipped / Total] 246 / 102 / 59 / 407:  82%|████████▏ | 408/500 [1:25:04<19:10, 12.51s/it]/scratch/sp6646/envs_dirs/swap_env/lib/python3.8/site-packages/textattack/loggers/csv_logger.py:41: FutureWarning: The frame.append method is deprecated and will be removed from pandas in a future version. Use pandas.concat instead.\n",
      "  self.df = self.df.append(row, ignore_index=True)\n",
      "[Succeeded / Failed / Skipped / Total] 246 / 103 / 59 / 408:  82%|████████▏ | 408/500 [1:25:04<19:10, 12.51s/it]"
     ]
    },
    {
     "name": "stdout",
     "output_type": "stream",
     "text": [
      "--------------------------------------------- Result 408 ---------------------------------------------\n",
      "[[Negative (100%)]] --> [[[FAILED]]]\n",
      "\n",
      "more whiny downer than corruscating commentary . \n",
      "\n",
      "\n"
     ]
    },
    {
     "name": "stderr",
     "output_type": "stream",
     "text": [
      "[Succeeded / Failed / Skipped / Total] 246 / 103 / 59 / 408:  82%|████████▏ | 409/500 [1:25:31<19:01, 12.55s/it]/scratch/sp6646/envs_dirs/swap_env/lib/python3.8/site-packages/textattack/loggers/csv_logger.py:41: FutureWarning: The frame.append method is deprecated and will be removed from pandas in a future version. Use pandas.concat instead.\n",
      "  self.df = self.df.append(row, ignore_index=True)\n",
      "[Succeeded / Failed / Skipped / Total] 247 / 103 / 59 / 409:  82%|████████▏ | 409/500 [1:25:31<19:01, 12.55s/it]"
     ]
    },
    {
     "name": "stdout",
     "output_type": "stream",
     "text": [
      "--------------------------------------------- Result 409 ---------------------------------------------\n",
      "[[Negative (98%)]] --> [[Positive (63%)]]\n",
      "\n",
      "there are simply too [[many]] ideas floating around -- part farce , part sliding doors , part pop video -- and yet [[failing]] to exploit them . \n",
      "\n",
      "there are simply too [[assorted]] ideas floating around -- part farce , part sliding doors , part pop video -- and yet [[frailty]] to exploit them . \n",
      "\n",
      "\n"
     ]
    },
    {
     "name": "stderr",
     "output_type": "stream",
     "text": [
      "[Succeeded / Failed / Skipped / Total] 247 / 103 / 59 / 409:  82%|████████▏ | 410/500 [1:25:57<18:52, 12.58s/it]/scratch/sp6646/envs_dirs/swap_env/lib/python3.8/site-packages/textattack/loggers/csv_logger.py:41: FutureWarning: The frame.append method is deprecated and will be removed from pandas in a future version. Use pandas.concat instead.\n",
      "  self.df = self.df.append(row, ignore_index=True)\n",
      "[Succeeded / Failed / Skipped / Total] 247 / 104 / 59 / 410:  82%|████████▏ | 410/500 [1:25:57<18:52, 12.58s/it]"
     ]
    },
    {
     "name": "stdout",
     "output_type": "stream",
     "text": [
      "--------------------------------------------- Result 410 ---------------------------------------------\n",
      "[[Negative (100%)]] --> [[[FAILED]]]\n",
      "\n",
      "it 's another stale , kill-by-numbers flick , complete with blade-thin characters and terrible , pun-laden dialogue . \n",
      "\n",
      "\n"
     ]
    },
    {
     "name": "stderr",
     "output_type": "stream",
     "text": [
      "[Succeeded / Failed / Skipped / Total] 247 / 104 / 59 / 410:  82%|████████▏ | 411/500 [1:26:11<18:39, 12.58s/it]/scratch/sp6646/envs_dirs/swap_env/lib/python3.8/site-packages/textattack/loggers/csv_logger.py:41: FutureWarning: The frame.append method is deprecated and will be removed from pandas in a future version. Use pandas.concat instead.\n",
      "  self.df = self.df.append(row, ignore_index=True)\n",
      "[Succeeded / Failed / Skipped / Total] 248 / 104 / 59 / 411:  82%|████████▏ | 411/500 [1:26:11<18:39, 12.58s/it]"
     ]
    },
    {
     "name": "stdout",
     "output_type": "stream",
     "text": [
      "--------------------------------------------- Result 411 ---------------------------------------------\n",
      "[[Positive (95%)]] --> [[Negative (63%)]]\n",
      "\n",
      "what [[distinguishes]] time of favor from countless other thrillers is its underlying concern with the consequences of words and with the complicated [[emotions]] fueling terrorist acts . \n",
      "\n",
      "what [[distinguishing]] time of favor from countless other thrillers is its underlying concern with the consequences of words and with the complicated [[sentiment]] fueling terrorist acts . \n",
      "\n",
      "\n"
     ]
    },
    {
     "name": "stderr",
     "output_type": "stream",
     "text": [
      "[Succeeded / Failed / Skipped / Total] 248 / 104 / 59 / 411:  82%|████████▏ | 412/500 [1:26:11<18:24, 12.55s/it]/scratch/sp6646/envs_dirs/swap_env/lib/python3.8/site-packages/textattack/loggers/csv_logger.py:41: FutureWarning: The frame.append method is deprecated and will be removed from pandas in a future version. Use pandas.concat instead.\n",
      "  self.df = self.df.append(row, ignore_index=True)\n",
      "[Succeeded / Failed / Skipped / Total] 248 / 104 / 60 / 412:  82%|████████▏ | 412/500 [1:26:11<18:24, 12.55s/it]"
     ]
    },
    {
     "name": "stdout",
     "output_type": "stream",
     "text": [
      "--------------------------------------------- Result 412 ---------------------------------------------\n",
      "[[Positive (66%)]] --> [[[SKIPPED]]]\n",
      "\n",
      "i do n't mind having my heartstrings pulled , but do n't treat me like a fool . \n",
      "\n",
      "\n"
     ]
    },
    {
     "name": "stderr",
     "output_type": "stream",
     "text": [
      "[Succeeded / Failed / Skipped / Total] 248 / 104 / 60 / 412:  83%|████████▎ | 413/500 [1:26:22<18:11, 12.55s/it]/scratch/sp6646/envs_dirs/swap_env/lib/python3.8/site-packages/textattack/loggers/csv_logger.py:41: FutureWarning: The frame.append method is deprecated and will be removed from pandas in a future version. Use pandas.concat instead.\n",
      "  self.df = self.df.append(row, ignore_index=True)\n",
      "[Succeeded / Failed / Skipped / Total] 249 / 104 / 60 / 413:  83%|████████▎ | 413/500 [1:26:22<18:11, 12.55s/it]"
     ]
    },
    {
     "name": "stdout",
     "output_type": "stream",
     "text": [
      "--------------------------------------------- Result 413 ---------------------------------------------\n",
      "[[Negative (100%)]] --> [[Positive (83%)]]\n",
      "\n",
      "the movie 's accumulated force still [[feels]] like an [[ugly]] knot tightening in your [[stomach]] . \n",
      "\n",
      "the movie 's accumulated force still [[deems]] like an [[dastardly]] knot tightening in your [[ache]] . \n",
      "\n",
      "\n"
     ]
    },
    {
     "name": "stderr",
     "output_type": "stream",
     "text": [
      "[Succeeded / Failed / Skipped / Total] 249 / 104 / 60 / 413:  83%|████████▎ | 414/500 [1:26:30<17:58, 12.54s/it]/scratch/sp6646/envs_dirs/swap_env/lib/python3.8/site-packages/textattack/loggers/csv_logger.py:41: FutureWarning: The frame.append method is deprecated and will be removed from pandas in a future version. Use pandas.concat instead.\n",
      "  self.df = self.df.append(row, ignore_index=True)\n",
      "[Succeeded / Failed / Skipped / Total] 250 / 104 / 60 / 414:  83%|████████▎ | 414/500 [1:26:30<17:58, 12.54s/it]"
     ]
    },
    {
     "name": "stdout",
     "output_type": "stream",
     "text": [
      "--------------------------------------------- Result 414 ---------------------------------------------\n",
      "[[Negative (97%)]] --> [[Positive (90%)]]\n",
      "\n",
      "at least one scene is so [[disgusting]] that viewers may be hard pressed to retain their lunch . \n",
      "\n",
      "at least one scene is so [[filthy]] that viewers may be hard pressed to retain their lunch . \n",
      "\n",
      "\n"
     ]
    },
    {
     "name": "stderr",
     "output_type": "stream",
     "text": [
      "[Succeeded / Failed / Skipped / Total] 250 / 104 / 60 / 414:  83%|████████▎ | 415/500 [1:26:48<17:46, 12.55s/it]/scratch/sp6646/envs_dirs/swap_env/lib/python3.8/site-packages/textattack/loggers/csv_logger.py:41: FutureWarning: The frame.append method is deprecated and will be removed from pandas in a future version. Use pandas.concat instead.\n",
      "  self.df = self.df.append(row, ignore_index=True)\n",
      "[Succeeded / Failed / Skipped / Total] 251 / 104 / 60 / 415:  83%|████████▎ | 415/500 [1:26:48<17:46, 12.55s/it]"
     ]
    },
    {
     "name": "stdout",
     "output_type": "stream",
     "text": [
      "--------------------------------------------- Result 415 ---------------------------------------------\n",
      "[[Positive (93%)]] --> [[Negative (71%)]]\n",
      "\n",
      "it has [[charm]] to spare , and unlike many romantic comedies , it does not alienate either gender in the audience . \n",
      "\n",
      "it has [[tempting]] to spare , and unlike many romantic comedies , it does not alienate either gender in the audience . \n",
      "\n",
      "\n"
     ]
    },
    {
     "name": "stderr",
     "output_type": "stream",
     "text": [
      "[Succeeded / Failed / Skipped / Total] 251 / 104 / 60 / 415:  83%|████████▎ | 416/500 [1:27:11<17:36, 12.58s/it]/scratch/sp6646/envs_dirs/swap_env/lib/python3.8/site-packages/textattack/loggers/csv_logger.py:41: FutureWarning: The frame.append method is deprecated and will be removed from pandas in a future version. Use pandas.concat instead.\n",
      "  self.df = self.df.append(row, ignore_index=True)\n",
      "[Succeeded / Failed / Skipped / Total] 251 / 105 / 60 / 416:  83%|████████▎ | 416/500 [1:27:11<17:36, 12.58s/it]"
     ]
    },
    {
     "name": "stdout",
     "output_type": "stream",
     "text": [
      "--------------------------------------------- Result 416 ---------------------------------------------\n",
      "[[Positive (99%)]] --> [[[FAILED]]]\n",
      "\n",
      "an operatic , sprawling picture that 's entertainingly acted , magnificently shot and gripping enough to sustain most of its 170-minute length . \n",
      "\n",
      "\n"
     ]
    },
    {
     "name": "stderr",
     "output_type": "stream",
     "text": [
      "[Succeeded / Failed / Skipped / Total] 251 / 105 / 60 / 416:  83%|████████▎ | 417/500 [1:27:15<17:22, 12.56s/it]/scratch/sp6646/envs_dirs/swap_env/lib/python3.8/site-packages/textattack/loggers/csv_logger.py:41: FutureWarning: The frame.append method is deprecated and will be removed from pandas in a future version. Use pandas.concat instead.\n",
      "  self.df = self.df.append(row, ignore_index=True)\n",
      "[Succeeded / Failed / Skipped / Total] 252 / 105 / 60 / 417:  83%|████████▎ | 417/500 [1:27:15<17:22, 12.56s/it]"
     ]
    },
    {
     "name": "stdout",
     "output_type": "stream",
     "text": [
      "--------------------------------------------- Result 417 ---------------------------------------------\n",
      "[[Positive (99%)]] --> [[Negative (99%)]]\n",
      "\n",
      "a [[giggle]] a minute . \n",
      "\n",
      "a [[travesty]] a minute . \n",
      "\n",
      "\n"
     ]
    },
    {
     "name": "stderr",
     "output_type": "stream",
     "text": [
      "[Succeeded / Failed / Skipped / Total] 252 / 105 / 60 / 417:  84%|████████▎ | 418/500 [1:27:35<17:10, 12.57s/it]/scratch/sp6646/envs_dirs/swap_env/lib/python3.8/site-packages/textattack/loggers/csv_logger.py:41: FutureWarning: The frame.append method is deprecated and will be removed from pandas in a future version. Use pandas.concat instead.\n",
      "  self.df = self.df.append(row, ignore_index=True)\n",
      "[Succeeded / Failed / Skipped / Total] 252 / 106 / 60 / 418:  84%|████████▎ | 418/500 [1:27:35<17:10, 12.57s/it]"
     ]
    },
    {
     "name": "stdout",
     "output_type": "stream",
     "text": [
      "--------------------------------------------- Result 418 ---------------------------------------------\n",
      "[[Positive (100%)]] --> [[[FAILED]]]\n",
      "\n",
      "uses sharp humor and insight into human nature to examine class conflict , adolescent yearning , the roots of friendship and sexual identity . \n",
      "\n",
      "\n"
     ]
    },
    {
     "name": "stderr",
     "output_type": "stream",
     "text": [
      "[Succeeded / Failed / Skipped / Total] 252 / 106 / 60 / 418:  84%|████████▍ | 419/500 [1:28:00<17:00, 12.60s/it]/scratch/sp6646/envs_dirs/swap_env/lib/python3.8/site-packages/textattack/loggers/csv_logger.py:41: FutureWarning: The frame.append method is deprecated and will be removed from pandas in a future version. Use pandas.concat instead.\n",
      "  self.df = self.df.append(row, ignore_index=True)\n",
      "[Succeeded / Failed / Skipped / Total] 253 / 106 / 60 / 419:  84%|████████▍ | 419/500 [1:28:00<17:00, 12.60s/it]"
     ]
    },
    {
     "name": "stdout",
     "output_type": "stream",
     "text": [
      "--------------------------------------------- Result 419 ---------------------------------------------\n",
      "[[Positive (80%)]] --> [[Negative (77%)]]\n",
      "\n",
      "the continued [[good]] chemistry between carmen and juni is what keeps this slightly disappointing sequel going , with enough amusing banter -- blessedly curse-free -- to keep both kids and parents entertained . \n",
      "\n",
      "the continued [[okay]] chemistry between carmen and juni is what keeps this slightly disappointing sequel going , with enough amusing banter -- blessedly curse-free -- to keep both kids and parents entertained . \n",
      "\n",
      "\n"
     ]
    },
    {
     "name": "stderr",
     "output_type": "stream",
     "text": [
      "[Succeeded / Failed / Skipped / Total] 253 / 106 / 60 / 419:  84%|████████▍ | 420/500 [1:28:04<16:46, 12.58s/it]/scratch/sp6646/envs_dirs/swap_env/lib/python3.8/site-packages/textattack/loggers/csv_logger.py:41: FutureWarning: The frame.append method is deprecated and will be removed from pandas in a future version. Use pandas.concat instead.\n",
      "  self.df = self.df.append(row, ignore_index=True)\n",
      "[Succeeded / Failed / Skipped / Total] 253 / 107 / 60 / 420:  84%|████████▍ | 420/500 [1:28:05<16:46, 12.58s/it]"
     ]
    },
    {
     "name": "stdout",
     "output_type": "stream",
     "text": [
      "--------------------------------------------- Result 420 ---------------------------------------------\n",
      "[[Negative (100%)]] --> [[[FAILED]]]\n",
      "\n",
      "i 'm just too bored to care . \n",
      "\n",
      "\n"
     ]
    },
    {
     "name": "stderr",
     "output_type": "stream",
     "text": [
      "[Succeeded / Failed / Skipped / Total] 253 / 107 / 60 / 420:  84%|████████▍ | 421/500 [1:28:19<16:34, 12.59s/it]/scratch/sp6646/envs_dirs/swap_env/lib/python3.8/site-packages/textattack/loggers/csv_logger.py:41: FutureWarning: The frame.append method is deprecated and will be removed from pandas in a future version. Use pandas.concat instead.\n",
      "  self.df = self.df.append(row, ignore_index=True)\n",
      "[Succeeded / Failed / Skipped / Total] 254 / 107 / 60 / 421:  84%|████████▍ | 421/500 [1:28:19<16:34, 12.59s/it]/scratch/sp6646/envs_dirs/swap_env/lib/python3.8/site-packages/textattack/loggers/csv_logger.py:41: FutureWarning: The frame.append method is deprecated and will be removed from pandas in a future version. Use pandas.concat instead.\n",
      "  self.df = self.df.append(row, ignore_index=True)\n",
      "[Succeeded / Failed / Skipped / Total] 254 / 107 / 61 / 422:  84%|████████▍ | 422/500 [1:28:19<16:19, 12.56s/it]"
     ]
    },
    {
     "name": "stdout",
     "output_type": "stream",
     "text": [
      "--------------------------------------------- Result 421 ---------------------------------------------\n",
      "[[Negative (95%)]] --> [[Positive (98%)]]\n",
      "\n",
      "one of the more [[irritating]] cartoons you will see this , or any , year . \n",
      "\n",
      "one of the more [[agonising]] cartoons you will see this , or any , year . \n",
      "\n",
      "\n",
      "--------------------------------------------- Result 422 ---------------------------------------------\n",
      "[[Negative (63%)]] --> [[[SKIPPED]]]\n",
      "\n",
      "it 's one heck of a character study -- not of hearst or davies but of the unique relationship between them . \n",
      "\n",
      "\n"
     ]
    },
    {
     "name": "stderr",
     "output_type": "stream",
     "text": [
      "[Succeeded / Failed / Skipped / Total] 254 / 107 / 61 / 422:  85%|████████▍ | 423/500 [1:28:20<16:04, 12.53s/it]/scratch/sp6646/envs_dirs/swap_env/lib/python3.8/site-packages/textattack/loggers/csv_logger.py:41: FutureWarning: The frame.append method is deprecated and will be removed from pandas in a future version. Use pandas.concat instead.\n",
      "  self.df = self.df.append(row, ignore_index=True)\n",
      "[Succeeded / Failed / Skipped / Total] 254 / 107 / 62 / 423:  85%|████████▍ | 423/500 [1:28:20<16:04, 12.53s/it]"
     ]
    },
    {
     "name": "stdout",
     "output_type": "stream",
     "text": [
      "--------------------------------------------- Result 423 ---------------------------------------------\n",
      "[[Negative (91%)]] --> [[[SKIPPED]]]\n",
      "\n",
      "it moves quickly , adroitly , and without fuss ; it does n't give you time to reflect on the inanity -- and the cold war datedness -- of its premise . \n",
      "\n",
      "\n"
     ]
    },
    {
     "name": "stderr",
     "output_type": "stream",
     "text": [
      "/scratch/sp6646/envs_dirs/swap_env/lib/python3.8/site-packages/textattack/loggers/csv_logger.py:41: FutureWarning: The frame.append method is deprecated and will be removed from pandas in a future version. Use pandas.concat instead.\n",
      "  self.df = self.df.append(row, ignore_index=True)\n",
      "\r",
      "[Succeeded / Failed / Skipped / Total] 255 / 107 / 62 / 424:  85%|████████▍ | 424/500 [1:28:31<15:52, 12.53s/it]"
     ]
    },
    {
     "name": "stdout",
     "output_type": "stream",
     "text": [
      "--------------------------------------------- Result 424 ---------------------------------------------\n",
      "[[Negative (100%)]] --> [[Positive (100%)]]\n",
      "\n",
      "i am [[sorry]] that i was [[unable]] to get the full [[brunt]] of the [[comedy]] . \n",
      "\n",
      "i am [[apologies]] that i was [[able]] to get the full [[clout]] of the [[hilarity]] . \n",
      "\n",
      "\n"
     ]
    },
    {
     "name": "stderr",
     "output_type": "stream",
     "text": [
      "[Succeeded / Failed / Skipped / Total] 255 / 107 / 62 / 424:  85%|████████▌ | 425/500 [1:28:37<15:38, 12.51s/it]/scratch/sp6646/envs_dirs/swap_env/lib/python3.8/site-packages/textattack/loggers/csv_logger.py:41: FutureWarning: The frame.append method is deprecated and will be removed from pandas in a future version. Use pandas.concat instead.\n",
      "  self.df = self.df.append(row, ignore_index=True)\n",
      "[Succeeded / Failed / Skipped / Total] 256 / 107 / 62 / 425:  85%|████████▌ | 425/500 [1:28:37<15:38, 12.51s/it]"
     ]
    },
    {
     "name": "stdout",
     "output_type": "stream",
     "text": [
      "--------------------------------------------- Result 425 ---------------------------------------------\n",
      "[[Positive (100%)]] --> [[Negative (60%)]]\n",
      "\n",
      "a [[good]] [[piece]] of [[work]] more often than not . \n",
      "\n",
      "a [[adequate]] [[fragment]] of [[acted]] more often than not . \n",
      "\n",
      "\n"
     ]
    },
    {
     "name": "stderr",
     "output_type": "stream",
     "text": [
      "[Succeeded / Failed / Skipped / Total] 256 / 107 / 62 / 425:  85%|████████▌ | 426/500 [1:28:48<15:25, 12.51s/it]/scratch/sp6646/envs_dirs/swap_env/lib/python3.8/site-packages/textattack/loggers/csv_logger.py:41: FutureWarning: The frame.append method is deprecated and will be removed from pandas in a future version. Use pandas.concat instead.\n",
      "  self.df = self.df.append(row, ignore_index=True)\n",
      "[Succeeded / Failed / Skipped / Total] 257 / 107 / 62 / 426:  85%|████████▌ | 426/500 [1:28:48<15:25, 12.51s/it]"
     ]
    },
    {
     "name": "stdout",
     "output_type": "stream",
     "text": [
      "--------------------------------------------- Result 426 ---------------------------------------------\n",
      "[[Positive (98%)]] --> [[Negative (67%)]]\n",
      "\n",
      "while the ideas about techno-saturation are far from novel , they 're presented with a [[wry]] dark humor . \n",
      "\n",
      "while the ideas about techno-saturation are far from novel , they 're presented with a [[sneering]] dark humor . \n",
      "\n",
      "\n"
     ]
    },
    {
     "name": "stderr",
     "output_type": "stream",
     "text": [
      "[Succeeded / Failed / Skipped / Total] 257 / 107 / 62 / 426:  85%|████████▌ | 427/500 [1:29:05<15:13, 12.52s/it]/scratch/sp6646/envs_dirs/swap_env/lib/python3.8/site-packages/textattack/loggers/csv_logger.py:41: FutureWarning: The frame.append method is deprecated and will be removed from pandas in a future version. Use pandas.concat instead.\n",
      "  self.df = self.df.append(row, ignore_index=True)\n",
      "[Succeeded / Failed / Skipped / Total] 258 / 107 / 62 / 427:  85%|████████▌ | 427/500 [1:29:05<15:13, 12.52s/it]"
     ]
    },
    {
     "name": "stdout",
     "output_type": "stream",
     "text": [
      "--------------------------------------------- Result 427 ---------------------------------------------\n",
      "[[Positive (89%)]] --> [[Negative (82%)]]\n",
      "\n",
      "charles ' entertaining film chronicles seinfeld 's return to stand-up comedy after the wrap of his legendary sitcom , alongside wannabe [[comic]] adams ' attempts to get his shot at the big time . \n",
      "\n",
      "charles ' entertaining film chronicles seinfeld 's return to stand-up comedy after the wrap of his legendary sitcom , alongside wannabe [[unfunny]] adams ' attempts to get his shot at the big time . \n",
      "\n",
      "\n"
     ]
    },
    {
     "name": "stderr",
     "output_type": "stream",
     "text": [
      "[Succeeded / Failed / Skipped / Total] 258 / 107 / 62 / 427:  86%|████████▌ | 428/500 [1:29:34<15:04, 12.56s/it]/scratch/sp6646/envs_dirs/swap_env/lib/python3.8/site-packages/textattack/loggers/csv_logger.py:41: FutureWarning: The frame.append method is deprecated and will be removed from pandas in a future version. Use pandas.concat instead.\n",
      "  self.df = self.df.append(row, ignore_index=True)\n",
      "[Succeeded / Failed / Skipped / Total] 258 / 108 / 62 / 428:  86%|████████▌ | 428/500 [1:29:34<15:04, 12.56s/it]"
     ]
    },
    {
     "name": "stdout",
     "output_type": "stream",
     "text": [
      "--------------------------------------------- Result 428 ---------------------------------------------\n",
      "[[Positive (100%)]] --> [[[FAILED]]]\n",
      "\n",
      "an exhilarating futuristic thriller-noir , minority report twists the best of technology around a gripping story , delivering a riveting , pulse intensifying escapist adventure of the first order \n",
      "\n",
      "\n"
     ]
    },
    {
     "name": "stderr",
     "output_type": "stream",
     "text": [
      "[Succeeded / Failed / Skipped / Total] 258 / 108 / 62 / 428:  86%|████████▌ | 429/500 [1:29:41<14:50, 12.54s/it]/scratch/sp6646/envs_dirs/swap_env/lib/python3.8/site-packages/textattack/loggers/csv_logger.py:41: FutureWarning: The frame.append method is deprecated and will be removed from pandas in a future version. Use pandas.concat instead.\n",
      "  self.df = self.df.append(row, ignore_index=True)\n",
      "[Succeeded / Failed / Skipped / Total] 258 / 109 / 62 / 429:  86%|████████▌ | 429/500 [1:29:41<14:50, 12.54s/it]"
     ]
    },
    {
     "name": "stdout",
     "output_type": "stream",
     "text": [
      "--------------------------------------------- Result 429 ---------------------------------------------\n",
      "[[Positive (100%)]] --> [[[FAILED]]]\n",
      "\n",
      "beautifully observed , miraculously unsentimental comedy-drama . \n",
      "\n",
      "\n"
     ]
    },
    {
     "name": "stderr",
     "output_type": "stream",
     "text": [
      "[Succeeded / Failed / Skipped / Total] 258 / 109 / 62 / 429:  86%|████████▌ | 430/500 [1:29:59<14:39, 12.56s/it]/scratch/sp6646/envs_dirs/swap_env/lib/python3.8/site-packages/textattack/loggers/csv_logger.py:41: FutureWarning: The frame.append method is deprecated and will be removed from pandas in a future version. Use pandas.concat instead.\n",
      "  self.df = self.df.append(row, ignore_index=True)\n",
      "[Succeeded / Failed / Skipped / Total] 258 / 110 / 62 / 430:  86%|████████▌ | 430/500 [1:29:59<14:39, 12.56s/it]"
     ]
    },
    {
     "name": "stdout",
     "output_type": "stream",
     "text": [
      "--------------------------------------------- Result 430 ---------------------------------------------\n",
      "[[Negative (100%)]] --> [[[FAILED]]]\n",
      "\n",
      "the film 's hackneyed message is not helped by the thin characterizations , nonexistent plot and pretentious visual style . \n",
      "\n",
      "\n"
     ]
    },
    {
     "name": "stderr",
     "output_type": "stream",
     "text": [
      "[Succeeded / Failed / Skipped / Total] 258 / 110 / 62 / 430:  86%|████████▌ | 431/500 [1:30:19<14:27, 12.57s/it]/scratch/sp6646/envs_dirs/swap_env/lib/python3.8/site-packages/textattack/loggers/csv_logger.py:41: FutureWarning: The frame.append method is deprecated and will be removed from pandas in a future version. Use pandas.concat instead.\n",
      "  self.df = self.df.append(row, ignore_index=True)\n",
      "[Succeeded / Failed / Skipped / Total] 258 / 111 / 62 / 431:  86%|████████▌ | 431/500 [1:30:19<14:27, 12.57s/it]"
     ]
    },
    {
     "name": "stdout",
     "output_type": "stream",
     "text": [
      "--------------------------------------------- Result 431 ---------------------------------------------\n",
      "[[Positive (100%)]] --> [[[FAILED]]]\n",
      "\n",
      "a breezy romantic comedy that has the punch of a good sitcom , while offering exceptionally well-detailed characters . \n",
      "\n",
      "\n"
     ]
    },
    {
     "name": "stderr",
     "output_type": "stream",
     "text": [
      "[Succeeded / Failed / Skipped / Total] 258 / 111 / 62 / 431:  86%|████████▋ | 432/500 [1:30:25<14:14, 12.56s/it]/scratch/sp6646/envs_dirs/swap_env/lib/python3.8/site-packages/textattack/loggers/csv_logger.py:41: FutureWarning: The frame.append method is deprecated and will be removed from pandas in a future version. Use pandas.concat instead.\n",
      "  self.df = self.df.append(row, ignore_index=True)\n",
      "[Succeeded / Failed / Skipped / Total] 259 / 111 / 62 / 432:  86%|████████▋ | 432/500 [1:30:25<14:14, 12.56s/it]"
     ]
    },
    {
     "name": "stdout",
     "output_type": "stream",
     "text": [
      "--------------------------------------------- Result 432 ---------------------------------------------\n",
      "[[Negative (96%)]] --> [[Positive (99%)]]\n",
      "\n",
      "[[should]] [[have]] been someone else - \n",
      "\n",
      "[[awaited]] [[enjoy]] been someone else - \n",
      "\n",
      "\n"
     ]
    },
    {
     "name": "stderr",
     "output_type": "stream",
     "text": [
      "[Succeeded / Failed / Skipped / Total] 259 / 111 / 62 / 432:  87%|████████▋ | 433/500 [1:30:30<14:00, 12.54s/it]/scratch/sp6646/envs_dirs/swap_env/lib/python3.8/site-packages/textattack/loggers/csv_logger.py:41: FutureWarning: The frame.append method is deprecated and will be removed from pandas in a future version. Use pandas.concat instead.\n",
      "  self.df = self.df.append(row, ignore_index=True)\n",
      "[Succeeded / Failed / Skipped / Total] 260 / 111 / 62 / 433:  87%|████████▋ | 433/500 [1:30:30<14:00, 12.54s/it]"
     ]
    },
    {
     "name": "stdout",
     "output_type": "stream",
     "text": [
      "--------------------------------------------- Result 433 ---------------------------------------------\n",
      "[[Negative (100%)]] --> [[Positive (97%)]]\n",
      "\n",
      "coughs and [[sputters]] on its own postmodern conceit . \n",
      "\n",
      "coughs and [[crackles]] on its own postmodern conceit . \n",
      "\n",
      "\n"
     ]
    },
    {
     "name": "stderr",
     "output_type": "stream",
     "text": [
      "[Succeeded / Failed / Skipped / Total] 260 / 111 / 62 / 433:  87%|████████▋ | 434/500 [1:30:31<13:45, 12.51s/it]/scratch/sp6646/envs_dirs/swap_env/lib/python3.8/site-packages/textattack/loggers/csv_logger.py:41: FutureWarning: The frame.append method is deprecated and will be removed from pandas in a future version. Use pandas.concat instead.\n",
      "  self.df = self.df.append(row, ignore_index=True)\n",
      "[Succeeded / Failed / Skipped / Total] 260 / 111 / 63 / 434:  87%|████████▋ | 434/500 [1:30:31<13:45, 12.51s/it]"
     ]
    },
    {
     "name": "stdout",
     "output_type": "stream",
     "text": [
      "--------------------------------------------- Result 434 ---------------------------------------------\n",
      "[[Negative (65%)]] --> [[[SKIPPED]]]\n",
      "\n",
      "the lion king was a roaring success when it was released eight years ago , but on imax it seems better , not just bigger . \n",
      "\n",
      "\n"
     ]
    },
    {
     "name": "stderr",
     "output_type": "stream",
     "text": [
      "[Succeeded / Failed / Skipped / Total] 260 / 111 / 63 / 434:  87%|████████▋ | 435/500 [1:30:34<13:31, 12.49s/it]/scratch/sp6646/envs_dirs/swap_env/lib/python3.8/site-packages/textattack/loggers/csv_logger.py:41: FutureWarning: The frame.append method is deprecated and will be removed from pandas in a future version. Use pandas.concat instead.\n",
      "  self.df = self.df.append(row, ignore_index=True)\n",
      "[Succeeded / Failed / Skipped / Total] 261 / 111 / 63 / 435:  87%|████████▋ | 435/500 [1:30:34<13:32, 12.49s/it]"
     ]
    },
    {
     "name": "stdout",
     "output_type": "stream",
     "text": [
      "--------------------------------------------- Result 435 ---------------------------------------------\n",
      "[[Negative (100%)]] --> [[Positive (100%)]]\n",
      "\n",
      "almost [[gags]] on its own [[gore]] . \n",
      "\n",
      "almost [[giggle]] on its own [[mountains]] . \n",
      "\n",
      "\n"
     ]
    },
    {
     "name": "stderr",
     "output_type": "stream",
     "text": [
      "[Succeeded / Failed / Skipped / Total] 261 / 111 / 63 / 435:  87%|████████▋ | 436/500 [1:30:36<13:18, 12.47s/it]/scratch/sp6646/envs_dirs/swap_env/lib/python3.8/site-packages/textattack/loggers/csv_logger.py:41: FutureWarning: The frame.append method is deprecated and will be removed from pandas in a future version. Use pandas.concat instead.\n",
      "  self.df = self.df.append(row, ignore_index=True)\n",
      "[Succeeded / Failed / Skipped / Total] 262 / 111 / 63 / 436:  87%|████████▋ | 436/500 [1:30:36<13:18, 12.47s/it]"
     ]
    },
    {
     "name": "stdout",
     "output_type": "stream",
     "text": [
      "--------------------------------------------- Result 436 ---------------------------------------------\n",
      "[[Positive (90%)]] --> [[Negative (96%)]]\n",
      "\n",
      "a [[marvel]] like none you 've seen . \n",
      "\n",
      "a [[gemstone]] like none you 've seen . \n",
      "\n",
      "\n"
     ]
    },
    {
     "name": "stderr",
     "output_type": "stream",
     "text": [
      "[Succeeded / Failed / Skipped / Total] 262 / 111 / 63 / 436:  87%|████████▋ | 437/500 [1:30:43<13:04, 12.46s/it]/scratch/sp6646/envs_dirs/swap_env/lib/python3.8/site-packages/textattack/loggers/csv_logger.py:41: FutureWarning: The frame.append method is deprecated and will be removed from pandas in a future version. Use pandas.concat instead.\n",
      "  self.df = self.df.append(row, ignore_index=True)\n",
      "[Succeeded / Failed / Skipped / Total] 263 / 111 / 63 / 437:  87%|████████▋ | 437/500 [1:30:43<13:04, 12.46s/it]"
     ]
    },
    {
     "name": "stdout",
     "output_type": "stream",
     "text": [
      "--------------------------------------------- Result 437 ---------------------------------------------\n",
      "[[Negative (100%)]] --> [[Positive (96%)]]\n",
      "\n",
      "[[trite]] , [[banal]] , cliched , mostly [[inoffensive]] . \n",
      "\n",
      "[[petty]] , [[everyday]] , cliched , mostly [[gentle]] . \n",
      "\n",
      "\n"
     ]
    },
    {
     "name": "stderr",
     "output_type": "stream",
     "text": [
      "[Succeeded / Failed / Skipped / Total] 263 / 111 / 63 / 437:  88%|████████▊ | 438/500 [1:31:10<12:54, 12.49s/it]/scratch/sp6646/envs_dirs/swap_env/lib/python3.8/site-packages/textattack/loggers/csv_logger.py:41: FutureWarning: The frame.append method is deprecated and will be removed from pandas in a future version. Use pandas.concat instead.\n",
      "  self.df = self.df.append(row, ignore_index=True)\n",
      "[Succeeded / Failed / Skipped / Total] 263 / 112 / 63 / 438:  88%|████████▊ | 438/500 [1:31:10<12:54, 12.49s/it]"
     ]
    },
    {
     "name": "stdout",
     "output_type": "stream",
     "text": [
      "--------------------------------------------- Result 438 ---------------------------------------------\n",
      "[[Positive (100%)]] --> [[[FAILED]]]\n",
      "\n",
      "immersing us in the endlessly inventive , fiercely competitive world of hip-hop djs , the project is sensational and revelatory , even if scratching makes you itch . \n",
      "\n",
      "\n"
     ]
    },
    {
     "name": "stderr",
     "output_type": "stream",
     "text": [
      "[Succeeded / Failed / Skipped / Total] 263 / 112 / 63 / 438:  88%|████████▊ | 439/500 [1:31:45<12:45, 12.54s/it]/scratch/sp6646/envs_dirs/swap_env/lib/python3.8/site-packages/textattack/loggers/csv_logger.py:41: FutureWarning: The frame.append method is deprecated and will be removed from pandas in a future version. Use pandas.concat instead.\n",
      "  self.df = self.df.append(row, ignore_index=True)\n",
      "[Succeeded / Failed / Skipped / Total] 263 / 113 / 63 / 439:  88%|████████▊ | 439/500 [1:31:45<12:45, 12.54s/it]"
     ]
    },
    {
     "name": "stdout",
     "output_type": "stream",
     "text": [
      "--------------------------------------------- Result 439 ---------------------------------------------\n",
      "[[Positive (96%)]] --> [[[FAILED]]]\n",
      "\n",
      "the movie has an infectious exuberance that will engage anyone with a passing interest in the skate/surf culture , the l.a. beach scene and the imaginative ( and sometimes illegal ) ways kids can make a playground out of the refuse of adults . \n",
      "\n",
      "\n"
     ]
    },
    {
     "name": "stderr",
     "output_type": "stream",
     "text": [
      "[Succeeded / Failed / Skipped / Total] 263 / 113 / 63 / 439:  88%|████████▊ | 440/500 [1:31:55<12:32, 12.54s/it]/scratch/sp6646/envs_dirs/swap_env/lib/python3.8/site-packages/textattack/loggers/csv_logger.py:41: FutureWarning: The frame.append method is deprecated and will be removed from pandas in a future version. Use pandas.concat instead.\n",
      "  self.df = self.df.append(row, ignore_index=True)\n",
      "[Succeeded / Failed / Skipped / Total] 263 / 114 / 63 / 440:  88%|████████▊ | 440/500 [1:31:55<12:32, 12.54s/it]"
     ]
    },
    {
     "name": "stdout",
     "output_type": "stream",
     "text": [
      "--------------------------------------------- Result 440 ---------------------------------------------\n",
      "[[Positive (100%)]] --> [[[FAILED]]]\n",
      "\n",
      "yakusho and shimizu ... create engaging characterizations in imamura 's lively and enjoyable cultural mix . \n",
      "\n",
      "\n"
     ]
    },
    {
     "name": "stderr",
     "output_type": "stream",
     "text": [
      "[Succeeded / Failed / Skipped / Total] 263 / 114 / 63 / 440:  88%|████████▊ | 441/500 [1:32:30<12:22, 12.59s/it]/scratch/sp6646/envs_dirs/swap_env/lib/python3.8/site-packages/textattack/loggers/csv_logger.py:41: FutureWarning: The frame.append method is deprecated and will be removed from pandas in a future version. Use pandas.concat instead.\n",
      "  self.df = self.df.append(row, ignore_index=True)\n",
      "[Succeeded / Failed / Skipped / Total] 264 / 114 / 63 / 441:  88%|████████▊ | 441/500 [1:32:30<12:22, 12.59s/it]"
     ]
    },
    {
     "name": "stdout",
     "output_type": "stream",
     "text": [
      "--------------------------------------------- Result 441 ---------------------------------------------\n",
      "[[Positive (74%)]] --> [[Negative (52%)]]\n",
      "\n",
      "this is wild surreal stuff , but [[brilliant]] and the camera just kind of sits there and [[lets]] you look at this and its like you 're going from one room to the next and none of them have any relation to the other . \n",
      "\n",
      "this is wild surreal stuff , but [[briiliant]] and the camera just kind of sits there and [[allows]] you look at this and its like you 're going from one room to the next and none of them have any relation to the other . \n",
      "\n",
      "\n"
     ]
    },
    {
     "name": "stderr",
     "output_type": "stream",
     "text": [
      "[Succeeded / Failed / Skipped / Total] 264 / 114 / 63 / 441:  88%|████████▊ | 442/500 [1:32:56<12:11, 12.62s/it]/scratch/sp6646/envs_dirs/swap_env/lib/python3.8/site-packages/textattack/loggers/csv_logger.py:41: FutureWarning: The frame.append method is deprecated and will be removed from pandas in a future version. Use pandas.concat instead.\n",
      "  self.df = self.df.append(row, ignore_index=True)\n",
      "[Succeeded / Failed / Skipped / Total] 265 / 114 / 63 / 442:  88%|████████▊ | 442/500 [1:32:56<12:11, 12.62s/it]"
     ]
    },
    {
     "name": "stdout",
     "output_type": "stream",
     "text": [
      "--------------------------------------------- Result 442 ---------------------------------------------\n",
      "[[Negative (96%)]] --> [[Positive (61%)]]\n",
      "\n",
      "there is very little dread or apprehension , and though i like the [[creepy]] ideas , they are not [[executed]] with anything more than perfunctory [[skill]] . \n",
      "\n",
      "there is very little dread or apprehension , and though i like the [[terrifying]] ideas , they are not [[imposed]] with anything more than perfunctory [[ability]] . \n",
      "\n",
      "\n"
     ]
    },
    {
     "name": "stderr",
     "output_type": "stream",
     "text": [
      "[Succeeded / Failed / Skipped / Total] 265 / 114 / 63 / 442:  89%|████████▊ | 443/500 [1:33:13<11:59, 12.63s/it]/scratch/sp6646/envs_dirs/swap_env/lib/python3.8/site-packages/textattack/loggers/csv_logger.py:41: FutureWarning: The frame.append method is deprecated and will be removed from pandas in a future version. Use pandas.concat instead.\n",
      "  self.df = self.df.append(row, ignore_index=True)\n",
      "[Succeeded / Failed / Skipped / Total] 266 / 114 / 63 / 443:  89%|████████▊ | 443/500 [1:33:13<11:59, 12.63s/it]"
     ]
    },
    {
     "name": "stdout",
     "output_type": "stream",
     "text": [
      "--------------------------------------------- Result 443 ---------------------------------------------\n",
      "[[Negative (84%)]] --> [[Positive (84%)]]\n",
      "\n",
      "the notion that bombing buildings is the funniest thing in the world goes entirely unexamined in this startlingly [[unfunny]] comedy . \n",
      "\n",
      "the notion that bombing buildings is the funniest thing in the world goes entirely unexamined in this startlingly [[funnier]] comedy . \n",
      "\n",
      "\n"
     ]
    },
    {
     "name": "stderr",
     "output_type": "stream",
     "text": [
      "[Succeeded / Failed / Skipped / Total] 266 / 114 / 63 / 443:  89%|████████▉ | 444/500 [1:33:31<11:47, 12.64s/it]/scratch/sp6646/envs_dirs/swap_env/lib/python3.8/site-packages/textattack/loggers/csv_logger.py:41: FutureWarning: The frame.append method is deprecated and will be removed from pandas in a future version. Use pandas.concat instead.\n",
      "  self.df = self.df.append(row, ignore_index=True)\n",
      "[Succeeded / Failed / Skipped / Total] 266 / 115 / 63 / 444:  89%|████████▉ | 444/500 [1:33:31<11:47, 12.64s/it]"
     ]
    },
    {
     "name": "stdout",
     "output_type": "stream",
     "text": [
      "--------------------------------------------- Result 444 ---------------------------------------------\n",
      "[[Positive (100%)]] --> [[[FAILED]]]\n",
      "\n",
      "good car chases , great fight scenes , and a distinctive blend of european , american and asian influences . \n",
      "\n",
      "\n"
     ]
    },
    {
     "name": "stderr",
     "output_type": "stream",
     "text": [
      "[Succeeded / Failed / Skipped / Total] 266 / 115 / 63 / 444:  89%|████████▉ | 445/500 [1:34:02<11:37, 12.68s/it]/scratch/sp6646/envs_dirs/swap_env/lib/python3.8/site-packages/textattack/loggers/csv_logger.py:41: FutureWarning: The frame.append method is deprecated and will be removed from pandas in a future version. Use pandas.concat instead.\n",
      "  self.df = self.df.append(row, ignore_index=True)\n",
      "[Succeeded / Failed / Skipped / Total] 267 / 115 / 63 / 445:  89%|████████▉ | 445/500 [1:34:02<11:37, 12.68s/it]"
     ]
    },
    {
     "name": "stdout",
     "output_type": "stream",
     "text": [
      "--------------------------------------------- Result 445 ---------------------------------------------\n",
      "[[Negative (100%)]] --> [[Positive (76%)]]\n",
      "\n",
      "the last 20 minutes are [[somewhat]] redeeming , but most of the movie is the same teenage american road-trip drek we 've seen before - only this time you have to read the [[fart]] [[jokes]] \n",
      "\n",
      "the last 20 minutes are [[loosely]] redeeming , but most of the movie is the same teenage american road-trip drek we 've seen before - only this time you have to read the [[farting]] [[giggles]] \n",
      "\n",
      "\n"
     ]
    },
    {
     "name": "stderr",
     "output_type": "stream",
     "text": [
      "[Succeeded / Failed / Skipped / Total] 267 / 115 / 63 / 445:  89%|████████▉ | 446/500 [1:34:06<11:23, 12.66s/it]/scratch/sp6646/envs_dirs/swap_env/lib/python3.8/site-packages/textattack/loggers/csv_logger.py:41: FutureWarning: The frame.append method is deprecated and will be removed from pandas in a future version. Use pandas.concat instead.\n",
      "  self.df = self.df.append(row, ignore_index=True)\n",
      "[Succeeded / Failed / Skipped / Total] 268 / 115 / 63 / 446:  89%|████████▉ | 446/500 [1:34:06<11:23, 12.66s/it]"
     ]
    },
    {
     "name": "stdout",
     "output_type": "stream",
     "text": [
      "--------------------------------------------- Result 446 ---------------------------------------------\n",
      "[[Positive (94%)]] --> [[Negative (97%)]]\n",
      "\n",
      "even in its most tedious scenes , russian ark is [[mesmerizing]] . \n",
      "\n",
      "even in its most tedious scenes , russian ark is [[staggering]] . \n",
      "\n",
      "\n"
     ]
    },
    {
     "name": "stderr",
     "output_type": "stream",
     "text": [
      "[Succeeded / Failed / Skipped / Total] 268 / 115 / 63 / 446:  89%|████████▉ | 447/500 [1:34:16<11:10, 12.66s/it]/scratch/sp6646/envs_dirs/swap_env/lib/python3.8/site-packages/textattack/loggers/csv_logger.py:41: FutureWarning: The frame.append method is deprecated and will be removed from pandas in a future version. Use pandas.concat instead.\n",
      "  self.df = self.df.append(row, ignore_index=True)\n",
      "[Succeeded / Failed / Skipped / Total] 269 / 115 / 63 / 447:  89%|████████▉ | 447/500 [1:34:16<11:10, 12.66s/it]"
     ]
    },
    {
     "name": "stdout",
     "output_type": "stream",
     "text": [
      "--------------------------------------------- Result 447 ---------------------------------------------\n",
      "[[Negative (84%)]] --> [[Positive (79%)]]\n",
      "\n",
      "with its [[dogged]] hollywood naturalism and the inexorable passage of its characters toward sainthood , windtalkers is nothing but a sticky-sweet soap . \n",
      "\n",
      "with its [[persevering]] hollywood naturalism and the inexorable passage of its characters toward sainthood , windtalkers is nothing but a sticky-sweet soap . \n",
      "\n",
      "\n"
     ]
    },
    {
     "name": "stderr",
     "output_type": "stream",
     "text": [
      "[Succeeded / Failed / Skipped / Total] 269 / 115 / 63 / 447:  90%|████████▉ | 448/500 [1:34:17<10:56, 12.63s/it]/scratch/sp6646/envs_dirs/swap_env/lib/python3.8/site-packages/textattack/loggers/csv_logger.py:41: FutureWarning: The frame.append method is deprecated and will be removed from pandas in a future version. Use pandas.concat instead.\n",
      "  self.df = self.df.append(row, ignore_index=True)\n",
      "[Succeeded / Failed / Skipped / Total] 269 / 115 / 64 / 448:  90%|████████▉ | 448/500 [1:34:17<10:56, 12.63s/it]/scratch/sp6646/envs_dirs/swap_env/lib/python3.8/site-packages/textattack/loggers/csv_logger.py:41: FutureWarning: The frame.append method is deprecated and will be removed from pandas in a future version. Use pandas.concat instead.\n",
      "  self.df = self.df.append(row, ignore_index=True)\n",
      "[Succeeded / Failed / Skipped / Total] 269 / 115 / 65 / 449:  90%|████████▉ | 449/500 [1:34:17<10:42, 12.60s/it]/scratch/sp6646/envs_dirs/swap_env/lib/python3.8/site-packages/textattack/loggers/csv_logger.py:41: FutureWarning: The frame.append method is deprecated and will be removed from pandas in a future version. Use pandas.concat instead.\n",
      "  self.df = self.df.append(row, ignore_index=True)\n",
      "[Succeeded / Failed / Skipped / Total] 269 / 115 / 66 / 450:  90%|█████████ | 450/500 [1:34:17<10:28, 12.57s/it]"
     ]
    },
    {
     "name": "stdout",
     "output_type": "stream",
     "text": [
      "--------------------------------------------- Result 448 ---------------------------------------------\n",
      "[[Negative (58%)]] --> [[[SKIPPED]]]\n",
      "\n",
      "generally , clockstoppers will fulfill your wildest fantasies about being a different kind of time traveler , while happily killing 94 minutes . \n",
      "\n",
      "\n",
      "--------------------------------------------- Result 449 ---------------------------------------------\n",
      "[[Negative (98%)]] --> [[[SKIPPED]]]\n",
      "\n",
      "something akin to a japanese alice through the looking glass , except that it seems to take itself far more seriously . \n",
      "\n",
      "\n",
      "--------------------------------------------- Result 450 ---------------------------------------------\n",
      "[[Positive (99%)]] --> [[[SKIPPED]]]\n",
      "\n",
      "oh come on . \n",
      "\n",
      "\n"
     ]
    },
    {
     "name": "stderr",
     "output_type": "stream",
     "text": [
      "[Succeeded / Failed / Skipped / Total] 269 / 115 / 66 / 450:  90%|█████████ | 451/500 [1:34:46<10:17, 12.61s/it]/scratch/sp6646/envs_dirs/swap_env/lib/python3.8/site-packages/textattack/loggers/csv_logger.py:41: FutureWarning: The frame.append method is deprecated and will be removed from pandas in a future version. Use pandas.concat instead.\n",
      "  self.df = self.df.append(row, ignore_index=True)\n",
      "[Succeeded / Failed / Skipped / Total] 269 / 116 / 66 / 451:  90%|█████████ | 451/500 [1:34:46<10:17, 12.61s/it]"
     ]
    },
    {
     "name": "stdout",
     "output_type": "stream",
     "text": [
      "--------------------------------------------- Result 451 ---------------------------------------------\n",
      "[[Positive (100%)]] --> [[[FAILED]]]\n",
      "\n",
      "a moody , multi-dimensional love story and sci-fi mystery , solaris is a thought-provoking , haunting film that allows the seeds of the imagination to germinate . \n",
      "\n",
      "\n"
     ]
    },
    {
     "name": "stderr",
     "output_type": "stream",
     "text": [
      "[Succeeded / Failed / Skipped / Total] 269 / 116 / 66 / 451:  90%|█████████ | 452/500 [1:35:22<10:07, 12.66s/it]/scratch/sp6646/envs_dirs/swap_env/lib/python3.8/site-packages/textattack/loggers/csv_logger.py:41: FutureWarning: The frame.append method is deprecated and will be removed from pandas in a future version. Use pandas.concat instead.\n",
      "  self.df = self.df.append(row, ignore_index=True)\n",
      "[Succeeded / Failed / Skipped / Total] 269 / 117 / 66 / 452:  90%|█████████ | 452/500 [1:35:22<10:07, 12.66s/it]"
     ]
    },
    {
     "name": "stdout",
     "output_type": "stream",
     "text": [
      "--------------------------------------------- Result 452 ---------------------------------------------\n",
      "[[Positive (98%)]] --> [[[FAILED]]]\n",
      "\n",
      "not only are the special effects and narrative flow much improved , and daniel radcliffe more emotionally assertive this time around as harry , but the film conjures the magic of author j.k. rowling 's books . \n",
      "\n",
      "\n"
     ]
    },
    {
     "name": "stderr",
     "output_type": "stream",
     "text": [
      "[Succeeded / Failed / Skipped / Total] 269 / 117 / 66 / 452:  91%|█████████ | 453/500 [1:35:48<09:56, 12.69s/it]/scratch/sp6646/envs_dirs/swap_env/lib/python3.8/site-packages/textattack/loggers/csv_logger.py:41: FutureWarning: The frame.append method is deprecated and will be removed from pandas in a future version. Use pandas.concat instead.\n",
      "  self.df = self.df.append(row, ignore_index=True)\n",
      "[Succeeded / Failed / Skipped / Total] 269 / 118 / 66 / 453:  91%|█████████ | 453/500 [1:35:48<09:56, 12.69s/it]"
     ]
    },
    {
     "name": "stdout",
     "output_type": "stream",
     "text": [
      "--------------------------------------------- Result 453 ---------------------------------------------\n",
      "[[Negative (98%)]] --> [[[FAILED]]]\n",
      "\n",
      "it 's clear the filmmakers were n't sure where they wanted their story to go , and even more clear that they lack the skills to get us to this undetermined destination . \n",
      "\n",
      "\n"
     ]
    },
    {
     "name": "stderr",
     "output_type": "stream",
     "text": [
      "[Succeeded / Failed / Skipped / Total] 269 / 118 / 66 / 453:  91%|█████████ | 454/500 [1:36:22<09:45, 12.74s/it]/scratch/sp6646/envs_dirs/swap_env/lib/python3.8/site-packages/textattack/loggers/csv_logger.py:41: FutureWarning: The frame.append method is deprecated and will be removed from pandas in a future version. Use pandas.concat instead.\n",
      "  self.df = self.df.append(row, ignore_index=True)\n",
      "[Succeeded / Failed / Skipped / Total] 269 / 119 / 66 / 454:  91%|█████████ | 454/500 [1:36:22<09:45, 12.74s/it]"
     ]
    },
    {
     "name": "stdout",
     "output_type": "stream",
     "text": [
      "--------------------------------------------- Result 454 ---------------------------------------------\n",
      "[[Positive (100%)]] --> [[[FAILED]]]\n",
      "\n",
      "( t ) his beguiling belgian fable , very much its own droll and delicate little film , has some touching things to say about what is important in life and why . \n",
      "\n",
      "\n"
     ]
    },
    {
     "name": "stderr",
     "output_type": "stream",
     "text": [
      "[Succeeded / Failed / Skipped / Total] 269 / 119 / 66 / 454:  91%|█████████ | 455/500 [1:36:30<09:32, 12.73s/it]/scratch/sp6646/envs_dirs/swap_env/lib/python3.8/site-packages/textattack/loggers/csv_logger.py:41: FutureWarning: The frame.append method is deprecated and will be removed from pandas in a future version. Use pandas.concat instead.\n",
      "  self.df = self.df.append(row, ignore_index=True)\n",
      "[Succeeded / Failed / Skipped / Total] 270 / 119 / 66 / 455:  91%|█████████ | 455/500 [1:36:30<09:32, 12.73s/it]"
     ]
    },
    {
     "name": "stdout",
     "output_type": "stream",
     "text": [
      "--------------------------------------------- Result 455 ---------------------------------------------\n",
      "[[Negative (80%)]] --> [[Positive (81%)]]\n",
      "\n",
      "even on those rare occasions when the narrator stops yammering , miller 's hand often feels [[unsure]] . \n",
      "\n",
      "even on those rare occasions when the narrator stops yammering , miller 's hand often feels [[iffy]] . \n",
      "\n",
      "\n"
     ]
    },
    {
     "name": "stderr",
     "output_type": "stream",
     "text": [
      "[Succeeded / Failed / Skipped / Total] 270 / 119 / 66 / 455:  91%|█████████ | 456/500 [1:36:57<09:21, 12.76s/it]/scratch/sp6646/envs_dirs/swap_env/lib/python3.8/site-packages/textattack/loggers/csv_logger.py:41: FutureWarning: The frame.append method is deprecated and will be removed from pandas in a future version. Use pandas.concat instead.\n",
      "  self.df = self.df.append(row, ignore_index=True)\n",
      "[Succeeded / Failed / Skipped / Total] 271 / 119 / 66 / 456:  91%|█████████ | 456/500 [1:36:57<09:21, 12.76s/it]"
     ]
    },
    {
     "name": "stdout",
     "output_type": "stream",
     "text": [
      "--------------------------------------------- Result 456 ---------------------------------------------\n",
      "[[Positive (100%)]] --> [[Negative (51%)]]\n",
      "\n",
      "( chaiken 's ) talent lies in an [[evocative]] , accurate observation of a distinctive milieu and in the lively , convincing dialogue she [[creates]] for her characters . \n",
      "\n",
      "( chaiken 's ) talent lies in an [[autobiographical]] , accurate observation of a distinctive milieu and in the lively , convincing dialogue she [[begets]] for her characters . \n",
      "\n",
      "\n"
     ]
    },
    {
     "name": "stderr",
     "output_type": "stream",
     "text": [
      "[Succeeded / Failed / Skipped / Total] 271 / 119 / 66 / 456:  91%|█████████▏| 457/500 [1:37:12<09:08, 12.76s/it]/scratch/sp6646/envs_dirs/swap_env/lib/python3.8/site-packages/textattack/loggers/csv_logger.py:41: FutureWarning: The frame.append method is deprecated and will be removed from pandas in a future version. Use pandas.concat instead.\n",
      "  self.df = self.df.append(row, ignore_index=True)\n",
      "[Succeeded / Failed / Skipped / Total] 272 / 119 / 66 / 457:  91%|█████████▏| 457/500 [1:37:12<09:08, 12.76s/it]"
     ]
    },
    {
     "name": "stdout",
     "output_type": "stream",
     "text": [
      "--------------------------------------------- Result 457 ---------------------------------------------\n",
      "[[Negative (92%)]] --> [[Positive (64%)]]\n",
      "\n",
      "sticky sweet sentimentality , [[clumsy]] plotting and a rosily myopic view of life in the wwii-era mississippi delta undermine this adaptation . \n",
      "\n",
      "sticky sweet sentimentality , [[fraught]] plotting and a rosily myopic view of life in the wwii-era mississippi delta undermine this adaptation . \n",
      "\n",
      "\n"
     ]
    },
    {
     "name": "stderr",
     "output_type": "stream",
     "text": [
      "[Succeeded / Failed / Skipped / Total] 272 / 119 / 66 / 457:  92%|█████████▏| 458/500 [1:37:25<08:56, 12.76s/it]/scratch/sp6646/envs_dirs/swap_env/lib/python3.8/site-packages/textattack/loggers/csv_logger.py:41: FutureWarning: The frame.append method is deprecated and will be removed from pandas in a future version. Use pandas.concat instead.\n",
      "  self.df = self.df.append(row, ignore_index=True)\n",
      "[Succeeded / Failed / Skipped / Total] 273 / 119 / 66 / 458:  92%|█████████▏| 458/500 [1:37:25<08:56, 12.76s/it]"
     ]
    },
    {
     "name": "stdout",
     "output_type": "stream",
     "text": [
      "--------------------------------------------- Result 458 ---------------------------------------------\n",
      "[[Positive (100%)]] --> [[Negative (87%)]]\n",
      "\n",
      "it [[inspires]] a continuing and [[deeply]] [[satisfying]] awareness of the best movies as monumental ` picture shows . ' \n",
      "\n",
      "it [[induce]] a continuing and [[considerably]] [[positives]] awareness of the best movies as monumental ` picture shows . ' \n",
      "\n",
      "\n"
     ]
    },
    {
     "name": "stderr",
     "output_type": "stream",
     "text": [
      "[Succeeded / Failed / Skipped / Total] 273 / 119 / 66 / 458:  92%|█████████▏| 459/500 [1:37:55<08:44, 12.80s/it]/scratch/sp6646/envs_dirs/swap_env/lib/python3.8/site-packages/textattack/loggers/csv_logger.py:41: FutureWarning: The frame.append method is deprecated and will be removed from pandas in a future version. Use pandas.concat instead.\n",
      "  self.df = self.df.append(row, ignore_index=True)\n",
      "[Succeeded / Failed / Skipped / Total] 273 / 120 / 66 / 459:  92%|█████████▏| 459/500 [1:37:55<08:44, 12.80s/it]"
     ]
    },
    {
     "name": "stdout",
     "output_type": "stream",
     "text": [
      "--------------------------------------------- Result 459 ---------------------------------------------\n",
      "[[Positive (100%)]] --> [[[FAILED]]]\n",
      "\n",
      "featuring a dangerously seductive performance from the great daniel auteuil , `` sade '' covers the same period as kaufmann 's `` quills '' with more unsettlingly realistic results . \n",
      "\n",
      "\n"
     ]
    },
    {
     "name": "stderr",
     "output_type": "stream",
     "text": [
      "[Succeeded / Failed / Skipped / Total] 273 / 120 / 66 / 459:  92%|█████████▏| 460/500 [1:38:30<08:33, 12.85s/it]/scratch/sp6646/envs_dirs/swap_env/lib/python3.8/site-packages/textattack/loggers/csv_logger.py:41: FutureWarning: The frame.append method is deprecated and will be removed from pandas in a future version. Use pandas.concat instead.\n",
      "  self.df = self.df.append(row, ignore_index=True)\n",
      "[Succeeded / Failed / Skipped / Total] 273 / 121 / 66 / 460:  92%|█████████▏| 460/500 [1:38:30<08:33, 12.85s/it]"
     ]
    },
    {
     "name": "stdout",
     "output_type": "stream",
     "text": [
      "--------------------------------------------- Result 460 ---------------------------------------------\n",
      "[[Positive (100%)]] --> [[[FAILED]]]\n",
      "\n",
      "gives you the steady pulse of life in a beautiful city viewed through the eyes of a character who , in spite of tragic loss and increasing decrepitude , knows in his bones that he is one of the luckiest men alive . \n",
      "\n",
      "\n"
     ]
    },
    {
     "name": "stderr",
     "output_type": "stream",
     "text": [
      "[Succeeded / Failed / Skipped / Total] 273 / 121 / 66 / 460:  92%|█████████▏| 461/500 [1:38:54<08:22, 12.87s/it]/scratch/sp6646/envs_dirs/swap_env/lib/python3.8/site-packages/textattack/loggers/csv_logger.py:41: FutureWarning: The frame.append method is deprecated and will be removed from pandas in a future version. Use pandas.concat instead.\n",
      "  self.df = self.df.append(row, ignore_index=True)\n",
      "[Succeeded / Failed / Skipped / Total] 274 / 121 / 66 / 461:  92%|█████████▏| 461/500 [1:38:54<08:22, 12.87s/it]"
     ]
    },
    {
     "name": "stdout",
     "output_type": "stream",
     "text": [
      "--------------------------------------------- Result 461 ---------------------------------------------\n",
      "[[Positive (56%)]] --> [[Negative (66%)]]\n",
      "\n",
      "if you are an actor who can relate to the search for inner peace by dramatically depicting the lives of others onstage , then esther 's story is a [[compelling]] quest for truth . \n",
      "\n",
      "if you are an actor who can relate to the search for inner peace by dramatically depicting the lives of others onstage , then esther 's story is a [[definite]] quest for truth . \n",
      "\n",
      "\n"
     ]
    },
    {
     "name": "stderr",
     "output_type": "stream",
     "text": [
      "[Succeeded / Failed / Skipped / Total] 274 / 121 / 66 / 461:  92%|█████████▏| 462/500 [1:39:13<08:09, 12.89s/it]/scratch/sp6646/envs_dirs/swap_env/lib/python3.8/site-packages/textattack/loggers/csv_logger.py:41: FutureWarning: The frame.append method is deprecated and will be removed from pandas in a future version. Use pandas.concat instead.\n",
      "  self.df = self.df.append(row, ignore_index=True)\n",
      "[Succeeded / Failed / Skipped / Total] 275 / 121 / 66 / 462:  92%|█████████▏| 462/500 [1:39:13<08:09, 12.89s/it]"
     ]
    },
    {
     "name": "stdout",
     "output_type": "stream",
     "text": [
      "--------------------------------------------- Result 462 ---------------------------------------------\n",
      "[[Negative (100%)]] --> [[Positive (54%)]]\n",
      "\n",
      "it 's too [[bad]] that the helping hand he uses to stir his ingredients is also a [[heavy]] one . \n",
      "\n",
      "it 's too [[evil]] that the helping hand he uses to stir his ingredients is also a [[tremendous]] one . \n",
      "\n",
      "\n"
     ]
    },
    {
     "name": "stderr",
     "output_type": "stream",
     "text": [
      "[Succeeded / Failed / Skipped / Total] 275 / 121 / 66 / 462:  93%|█████████▎| 463/500 [1:39:15<07:55, 12.86s/it]/scratch/sp6646/envs_dirs/swap_env/lib/python3.8/site-packages/textattack/loggers/csv_logger.py:41: FutureWarning: The frame.append method is deprecated and will be removed from pandas in a future version. Use pandas.concat instead.\n",
      "  self.df = self.df.append(row, ignore_index=True)\n",
      "[Succeeded / Failed / Skipped / Total] 276 / 121 / 66 / 463:  93%|█████████▎| 463/500 [1:39:15<07:55, 12.86s/it]"
     ]
    },
    {
     "name": "stdout",
     "output_type": "stream",
     "text": [
      "--------------------------------------------- Result 463 ---------------------------------------------\n",
      "[[Negative (100%)]] --> [[Positive (99%)]]\n",
      "\n",
      "yes , [[dull]] . \n",
      "\n",
      "yes , [[beard]] . \n",
      "\n",
      "\n"
     ]
    },
    {
     "name": "stderr",
     "output_type": "stream",
     "text": [
      "[Succeeded / Failed / Skipped / Total] 276 / 121 / 66 / 463:  93%|█████████▎| 464/500 [1:39:40<07:44, 12.89s/it]/scratch/sp6646/envs_dirs/swap_env/lib/python3.8/site-packages/textattack/loggers/csv_logger.py:41: FutureWarning: The frame.append method is deprecated and will be removed from pandas in a future version. Use pandas.concat instead.\n",
      "  self.df = self.df.append(row, ignore_index=True)\n",
      "[Succeeded / Failed / Skipped / Total] 276 / 122 / 66 / 464:  93%|█████████▎| 464/500 [1:39:40<07:44, 12.89s/it]"
     ]
    },
    {
     "name": "stdout",
     "output_type": "stream",
     "text": [
      "--------------------------------------------- Result 464 ---------------------------------------------\n",
      "[[Negative (98%)]] --> [[[FAILED]]]\n",
      "\n",
      "some of their jokes work , but most fail miserably and in the end , pumpkin is far more offensive than it is funny . \n",
      "\n",
      "\n"
     ]
    },
    {
     "name": "stderr",
     "output_type": "stream",
     "text": [
      "[Succeeded / Failed / Skipped / Total] 276 / 122 / 66 / 464:  93%|█████████▎| 465/500 [1:39:41<07:30, 12.86s/it]/scratch/sp6646/envs_dirs/swap_env/lib/python3.8/site-packages/textattack/loggers/csv_logger.py:41: FutureWarning: The frame.append method is deprecated and will be removed from pandas in a future version. Use pandas.concat instead.\n",
      "  self.df = self.df.append(row, ignore_index=True)\n",
      "[Succeeded / Failed / Skipped / Total] 276 / 122 / 67 / 465:  93%|█████████▎| 465/500 [1:39:41<07:30, 12.86s/it]"
     ]
    },
    {
     "name": "stdout",
     "output_type": "stream",
     "text": [
      "--------------------------------------------- Result 465 ---------------------------------------------\n",
      "[[Negative (94%)]] --> [[[SKIPPED]]]\n",
      "\n",
      "intriguing documentary which is emotionally diluted by focusing on the story 's least interesting subject . \n",
      "\n",
      "\n"
     ]
    },
    {
     "name": "stderr",
     "output_type": "stream",
     "text": [
      "[Succeeded / Failed / Skipped / Total] 276 / 122 / 67 / 465:  93%|█████████▎| 466/500 [1:40:07<07:18, 12.89s/it]/scratch/sp6646/envs_dirs/swap_env/lib/python3.8/site-packages/textattack/loggers/csv_logger.py:41: FutureWarning: The frame.append method is deprecated and will be removed from pandas in a future version. Use pandas.concat instead.\n",
      "  self.df = self.df.append(row, ignore_index=True)\n",
      "[Succeeded / Failed / Skipped / Total] 276 / 123 / 67 / 466:  93%|█████████▎| 466/500 [1:40:07<07:18, 12.89s/it]"
     ]
    },
    {
     "name": "stdout",
     "output_type": "stream",
     "text": [
      "--------------------------------------------- Result 466 ---------------------------------------------\n",
      "[[Negative (99%)]] --> [[[FAILED]]]\n",
      "\n",
      "shaky close-ups of turkey-on-rolls , stubbly chins , liver spots , red noses and the filmmakers new bobbed do draw easy chuckles but lead nowhere . \n",
      "\n",
      "\n"
     ]
    },
    {
     "name": "stderr",
     "output_type": "stream",
     "text": [
      "[Succeeded / Failed / Skipped / Total] 276 / 123 / 67 / 466:  93%|█████████▎| 467/500 [1:40:26<07:05, 12.90s/it]/scratch/sp6646/envs_dirs/swap_env/lib/python3.8/site-packages/textattack/loggers/csv_logger.py:41: FutureWarning: The frame.append method is deprecated and will be removed from pandas in a future version. Use pandas.concat instead.\n",
      "  self.df = self.df.append(row, ignore_index=True)\n",
      "[Succeeded / Failed / Skipped / Total] 277 / 123 / 67 / 467:  93%|█████████▎| 467/500 [1:40:26<07:05, 12.90s/it]"
     ]
    },
    {
     "name": "stdout",
     "output_type": "stream",
     "text": [
      "--------------------------------------------- Result 467 ---------------------------------------------\n",
      "[[Positive (88%)]] --> [[Negative (63%)]]\n",
      "\n",
      "the [[inspirational]] screenplay by mike [[rich]] covers a [[lot]] of ground , perhaps too much , but ties things together , neatly , by the end . \n",
      "\n",
      "the [[inspired]] screenplay by mike [[plentiful]] covers a [[number]] of ground , perhaps too much , but ties things together , neatly , by the end . \n",
      "\n",
      "\n"
     ]
    },
    {
     "name": "stderr",
     "output_type": "stream",
     "text": [
      "[Succeeded / Failed / Skipped / Total] 277 / 123 / 67 / 467:  94%|█████████▎| 468/500 [1:40:54<06:53, 12.94s/it]/scratch/sp6646/envs_dirs/swap_env/lib/python3.8/site-packages/textattack/loggers/csv_logger.py:41: FutureWarning: The frame.append method is deprecated and will be removed from pandas in a future version. Use pandas.concat instead.\n",
      "  self.df = self.df.append(row, ignore_index=True)\n",
      "[Succeeded / Failed / Skipped / Total] 278 / 123 / 67 / 468:  94%|█████████▎| 468/500 [1:40:54<06:53, 12.94s/it]"
     ]
    },
    {
     "name": "stdout",
     "output_type": "stream",
     "text": [
      "--------------------------------------------- Result 468 ---------------------------------------------\n",
      "[[Positive (53%)]] --> [[Negative (56%)]]\n",
      "\n",
      "ramsay , as in ratcatcher , remains a filmmaker with an acid viewpoint and a real gift for teasing chilly poetry out of [[lives]] and settings that might otherwise seem drab and sordid . \n",
      "\n",
      "ramsay , as in ratcatcher , remains a filmmaker with an acid viewpoint and a real gift for teasing chilly poetry out of [[vie]] and settings that might otherwise seem drab and sordid . \n",
      "\n",
      "\n"
     ]
    },
    {
     "name": "stderr",
     "output_type": "stream",
     "text": [
      "[Succeeded / Failed / Skipped / Total] 278 / 123 / 67 / 468:  94%|█████████▍| 469/500 [1:41:03<06:40, 12.93s/it]/scratch/sp6646/envs_dirs/swap_env/lib/python3.8/site-packages/textattack/loggers/csv_logger.py:41: FutureWarning: The frame.append method is deprecated and will be removed from pandas in a future version. Use pandas.concat instead.\n",
      "  self.df = self.df.append(row, ignore_index=True)\n",
      "[Succeeded / Failed / Skipped / Total] 279 / 123 / 67 / 469:  94%|█████████▍| 469/500 [1:41:03<06:40, 12.93s/it]"
     ]
    },
    {
     "name": "stdout",
     "output_type": "stream",
     "text": [
      "--------------------------------------------- Result 469 ---------------------------------------------\n",
      "[[Positive (98%)]] --> [[Negative (90%)]]\n",
      "\n",
      "the characters are [[interesting]] and often very [[creatively]] constructed from figure to backstory . \n",
      "\n",
      "the characters are [[outlandish]] and often very [[improvise]] constructed from figure to backstory . \n",
      "\n",
      "\n"
     ]
    },
    {
     "name": "stderr",
     "output_type": "stream",
     "text": [
      "[Succeeded / Failed / Skipped / Total] 279 / 123 / 67 / 469:  94%|█████████▍| 470/500 [1:41:16<06:27, 12.93s/it]/scratch/sp6646/envs_dirs/swap_env/lib/python3.8/site-packages/textattack/loggers/csv_logger.py:41: FutureWarning: The frame.append method is deprecated and will be removed from pandas in a future version. Use pandas.concat instead.\n",
      "  self.df = self.df.append(row, ignore_index=True)\n",
      "[Succeeded / Failed / Skipped / Total] 279 / 124 / 67 / 470:  94%|█████████▍| 470/500 [1:41:16<06:27, 12.93s/it]"
     ]
    },
    {
     "name": "stdout",
     "output_type": "stream",
     "text": [
      "--------------------------------------------- Result 470 ---------------------------------------------\n",
      "[[Negative (100%)]] --> [[[FAILED]]]\n",
      "\n",
      "so unremittingly awful that labeling it a dog probably constitutes cruelty to canines . \n",
      "\n",
      "\n"
     ]
    },
    {
     "name": "stderr",
     "output_type": "stream",
     "text": [
      "[Succeeded / Failed / Skipped / Total] 279 / 124 / 67 / 470:  94%|█████████▍| 471/500 [1:41:25<06:14, 12.92s/it]/scratch/sp6646/envs_dirs/swap_env/lib/python3.8/site-packages/textattack/loggers/csv_logger.py:41: FutureWarning: The frame.append method is deprecated and will be removed from pandas in a future version. Use pandas.concat instead.\n",
      "  self.df = self.df.append(row, ignore_index=True)\n",
      "[Succeeded / Failed / Skipped / Total] 279 / 125 / 67 / 471:  94%|█████████▍| 471/500 [1:41:25<06:14, 12.92s/it]"
     ]
    },
    {
     "name": "stdout",
     "output_type": "stream",
     "text": [
      "--------------------------------------------- Result 471 ---------------------------------------------\n",
      "[[Positive (100%)]] --> [[[FAILED]]]\n",
      "\n",
      "reggio 's continual visual barrage is absorbing as well as thought-provoking . \n",
      "\n",
      "\n"
     ]
    },
    {
     "name": "stderr",
     "output_type": "stream",
     "text": [
      "[Succeeded / Failed / Skipped / Total] 279 / 125 / 67 / 471:  94%|█████████▍| 472/500 [1:41:34<06:01, 12.91s/it]/scratch/sp6646/envs_dirs/swap_env/lib/python3.8/site-packages/textattack/loggers/csv_logger.py:41: FutureWarning: The frame.append method is deprecated and will be removed from pandas in a future version. Use pandas.concat instead.\n",
      "  self.df = self.df.append(row, ignore_index=True)\n",
      "[Succeeded / Failed / Skipped / Total] 280 / 125 / 67 / 472:  94%|█████████▍| 472/500 [1:41:34<06:01, 12.91s/it]"
     ]
    },
    {
     "name": "stdout",
     "output_type": "stream",
     "text": [
      "--------------------------------------------- Result 472 ---------------------------------------------\n",
      "[[Negative (100%)]] --> [[Positive (93%)]]\n",
      "\n",
      "adults will wish the movie were less simplistic , obvious , [[clumsily]] [[plotted]] and shallowly characterized . \n",
      "\n",
      "adults will wish the movie were less simplistic , obvious , [[delicately]] [[intrigue]] and shallowly characterized . \n",
      "\n",
      "\n"
     ]
    },
    {
     "name": "stderr",
     "output_type": "stream",
     "text": [
      "[Succeeded / Failed / Skipped / Total] 280 / 125 / 67 / 472:  95%|█████████▍| 473/500 [1:41:50<05:48, 12.92s/it]/scratch/sp6646/envs_dirs/swap_env/lib/python3.8/site-packages/textattack/loggers/csv_logger.py:41: FutureWarning: The frame.append method is deprecated and will be removed from pandas in a future version. Use pandas.concat instead.\n",
      "  self.df = self.df.append(row, ignore_index=True)\n",
      "[Succeeded / Failed / Skipped / Total] 281 / 125 / 67 / 473:  95%|█████████▍| 473/500 [1:41:50<05:48, 12.92s/it]"
     ]
    },
    {
     "name": "stdout",
     "output_type": "stream",
     "text": [
      "--------------------------------------------- Result 473 ---------------------------------------------\n",
      "[[Positive (92%)]] --> [[Negative (97%)]]\n",
      "\n",
      "you [[will]] emerge with a clearer view of how the gears of justice grind on and the death report comes to share airtime alongside the farm report . \n",
      "\n",
      "you [[want]] emerge with a clearer view of how the gears of justice grind on and the death report comes to share airtime alongside the farm report . \n",
      "\n",
      "\n"
     ]
    },
    {
     "name": "stderr",
     "output_type": "stream",
     "text": [
      "[Succeeded / Failed / Skipped / Total] 281 / 125 / 67 / 473:  95%|█████████▍| 474/500 [1:42:16<05:36, 12.95s/it]/scratch/sp6646/envs_dirs/swap_env/lib/python3.8/site-packages/textattack/loggers/csv_logger.py:41: FutureWarning: The frame.append method is deprecated and will be removed from pandas in a future version. Use pandas.concat instead.\n",
      "  self.df = self.df.append(row, ignore_index=True)\n",
      "[Succeeded / Failed / Skipped / Total] 281 / 126 / 67 / 474:  95%|█████████▍| 474/500 [1:42:16<05:36, 12.95s/it]"
     ]
    },
    {
     "name": "stdout",
     "output_type": "stream",
     "text": [
      "--------------------------------------------- Result 474 ---------------------------------------------\n",
      "[[Positive (100%)]] --> [[[FAILED]]]\n",
      "\n",
      "thanks to haynes ' absolute control of the film 's mood , and buoyed by three terrific performances , far from heaven actually pulls off this stylistic juggling act . \n",
      "\n",
      "\n"
     ]
    },
    {
     "name": "stderr",
     "output_type": "stream",
     "text": [
      "[Succeeded / Failed / Skipped / Total] 281 / 126 / 67 / 474:  95%|█████████▌| 475/500 [1:42:17<05:23, 12.92s/it]/scratch/sp6646/envs_dirs/swap_env/lib/python3.8/site-packages/textattack/loggers/csv_logger.py:41: FutureWarning: The frame.append method is deprecated and will be removed from pandas in a future version. Use pandas.concat instead.\n",
      "  self.df = self.df.append(row, ignore_index=True)\n",
      "[Succeeded / Failed / Skipped / Total] 282 / 126 / 67 / 475:  95%|█████████▌| 475/500 [1:42:18<05:23, 12.92s/it]"
     ]
    },
    {
     "name": "stdout",
     "output_type": "stream",
     "text": [
      "--------------------------------------------- Result 475 ---------------------------------------------\n",
      "[[Negative (100%)]] --> [[Positive (67%)]]\n",
      "\n",
      "the problem with this film is that it [[lacks]] focus . \n",
      "\n",
      "the problem with this film is that it [[rarity]] focus . \n",
      "\n",
      "\n"
     ]
    },
    {
     "name": "stderr",
     "output_type": "stream",
     "text": [
      "[Succeeded / Failed / Skipped / Total] 282 / 126 / 67 / 475:  95%|█████████▌| 476/500 [1:42:47<05:10, 12.96s/it]/scratch/sp6646/envs_dirs/swap_env/lib/python3.8/site-packages/textattack/loggers/csv_logger.py:41: FutureWarning: The frame.append method is deprecated and will be removed from pandas in a future version. Use pandas.concat instead.\n",
      "  self.df = self.df.append(row, ignore_index=True)\n",
      "[Succeeded / Failed / Skipped / Total] 282 / 127 / 67 / 476:  95%|█████████▌| 476/500 [1:42:47<05:10, 12.96s/it]"
     ]
    },
    {
     "name": "stdout",
     "output_type": "stream",
     "text": [
      "--------------------------------------------- Result 476 ---------------------------------------------\n",
      "[[Positive (100%)]] --> [[[FAILED]]]\n",
      "\n",
      "belongs to daniel day-lewis as much as it belongs to martin scorsese ; it 's a memorable performance in a big , brassy , disturbing , unusual and highly successful film . \n",
      "\n",
      "\n"
     ]
    },
    {
     "name": "stderr",
     "output_type": "stream",
     "text": [
      "[Succeeded / Failed / Skipped / Total] 282 / 127 / 67 / 476:  95%|█████████▌| 477/500 [1:42:58<04:57, 12.95s/it]/scratch/sp6646/envs_dirs/swap_env/lib/python3.8/site-packages/textattack/loggers/csv_logger.py:41: FutureWarning: The frame.append method is deprecated and will be removed from pandas in a future version. Use pandas.concat instead.\n",
      "  self.df = self.df.append(row, ignore_index=True)\n",
      "[Succeeded / Failed / Skipped / Total] 283 / 127 / 67 / 477:  95%|█████████▌| 477/500 [1:42:58<04:57, 12.95s/it]"
     ]
    },
    {
     "name": "stdout",
     "output_type": "stream",
     "text": [
      "--------------------------------------------- Result 477 ---------------------------------------------\n",
      "[[Negative (100%)]] --> [[Positive (61%)]]\n",
      "\n",
      "involves two mysteries -- one it gives away and the other featuring such [[badly]] drawn characters that its outcome hardly matters . \n",
      "\n",
      "involves two mysteries -- one it gives away and the other featuring such [[grievously]] drawn characters that its outcome hardly matters . \n",
      "\n",
      "\n"
     ]
    },
    {
     "name": "stderr",
     "output_type": "stream",
     "text": [
      "[Succeeded / Failed / Skipped / Total] 283 / 127 / 67 / 477:  96%|█████████▌| 478/500 [1:43:18<04:45, 12.97s/it]/scratch/sp6646/envs_dirs/swap_env/lib/python3.8/site-packages/textattack/loggers/csv_logger.py:41: FutureWarning: The frame.append method is deprecated and will be removed from pandas in a future version. Use pandas.concat instead.\n",
      "  self.df = self.df.append(row, ignore_index=True)\n",
      "[Succeeded / Failed / Skipped / Total] 284 / 127 / 67 / 478:  96%|█████████▌| 478/500 [1:43:18<04:45, 12.97s/it]"
     ]
    },
    {
     "name": "stdout",
     "output_type": "stream",
     "text": [
      "--------------------------------------------- Result 478 ---------------------------------------------\n",
      "[[Negative (92%)]] --> [[Positive (97%)]]\n",
      "\n",
      "a tv style murder mystery with a few big screen moments ( including one that seems to be made for a different film [[altogether]] ) . \n",
      "\n",
      "a tv style murder mystery with a few big screen moments ( including one that seems to be made for a different film [[utterly]] ) . \n",
      "\n",
      "\n"
     ]
    },
    {
     "name": "stderr",
     "output_type": "stream",
     "text": [
      "[Succeeded / Failed / Skipped / Total] 284 / 127 / 67 / 478:  96%|█████████▌| 479/500 [1:43:18<04:31, 12.94s/it]/scratch/sp6646/envs_dirs/swap_env/lib/python3.8/site-packages/textattack/loggers/csv_logger.py:41: FutureWarning: The frame.append method is deprecated and will be removed from pandas in a future version. Use pandas.concat instead.\n",
      "  self.df = self.df.append(row, ignore_index=True)\n",
      "[Succeeded / Failed / Skipped / Total] 284 / 127 / 68 / 479:  96%|█████████▌| 479/500 [1:43:18<04:31, 12.94s/it]"
     ]
    },
    {
     "name": "stdout",
     "output_type": "stream",
     "text": [
      "--------------------------------------------- Result 479 ---------------------------------------------\n",
      "[[Positive (87%)]] --> [[[SKIPPED]]]\n",
      "\n",
      "a by-the-numbers patient/doctor pic that covers all the usual ground \n",
      "\n",
      "\n"
     ]
    },
    {
     "name": "stderr",
     "output_type": "stream",
     "text": [
      "[Succeeded / Failed / Skipped / Total] 284 / 127 / 68 / 479:  96%|█████████▌| 480/500 [1:43:30<04:18, 12.94s/it]/scratch/sp6646/envs_dirs/swap_env/lib/python3.8/site-packages/textattack/loggers/csv_logger.py:41: FutureWarning: The frame.append method is deprecated and will be removed from pandas in a future version. Use pandas.concat instead.\n",
      "  self.df = self.df.append(row, ignore_index=True)\n",
      "[Succeeded / Failed / Skipped / Total] 285 / 127 / 68 / 480:  96%|█████████▌| 480/500 [1:43:30<04:18, 12.94s/it]"
     ]
    },
    {
     "name": "stdout",
     "output_type": "stream",
     "text": [
      "--------------------------------------------- Result 480 ---------------------------------------------\n",
      "[[Positive (100%)]] --> [[Negative (61%)]]\n",
      "\n",
      "it 's a [[stunning]] [[lyrical]] work of considerable force and truth . \n",
      "\n",
      "it 's a [[breathless]] [[melodramatic]] work of considerable force and truth . \n",
      "\n",
      "\n"
     ]
    },
    {
     "name": "stderr",
     "output_type": "stream",
     "text": [
      "[Succeeded / Failed / Skipped / Total] 285 / 127 / 68 / 480:  96%|█████████▌| 481/500 [1:43:43<04:05, 12.94s/it]/scratch/sp6646/envs_dirs/swap_env/lib/python3.8/site-packages/textattack/loggers/csv_logger.py:41: FutureWarning: The frame.append method is deprecated and will be removed from pandas in a future version. Use pandas.concat instead.\n",
      "  self.df = self.df.append(row, ignore_index=True)\n",
      "[Succeeded / Failed / Skipped / Total] 286 / 127 / 68 / 481:  96%|█████████▌| 481/500 [1:43:43<04:05, 12.94s/it]"
     ]
    },
    {
     "name": "stdout",
     "output_type": "stream",
     "text": [
      "--------------------------------------------- Result 481 ---------------------------------------------\n",
      "[[Positive (94%)]] --> [[Negative (60%)]]\n",
      "\n",
      "while undisputed is n't exactly a high , it is a [[gripping]] , tidy little movie that takes mr. hill higher than he 's been in a while . \n",
      "\n",
      "while undisputed is n't exactly a high , it is a [[mesmerising]] , tidy little movie that takes mr. hill higher than he 's been in a while . \n",
      "\n",
      "\n"
     ]
    },
    {
     "name": "stderr",
     "output_type": "stream",
     "text": [
      "[Succeeded / Failed / Skipped / Total] 286 / 127 / 68 / 481:  96%|█████████▋| 482/500 [1:43:44<03:52, 12.91s/it]/scratch/sp6646/envs_dirs/swap_env/lib/python3.8/site-packages/textattack/loggers/csv_logger.py:41: FutureWarning: The frame.append method is deprecated and will be removed from pandas in a future version. Use pandas.concat instead.\n",
      "  self.df = self.df.append(row, ignore_index=True)\n",
      "[Succeeded / Failed / Skipped / Total] 287 / 127 / 68 / 482:  96%|█████████▋| 482/500 [1:43:44<03:52, 12.91s/it]"
     ]
    },
    {
     "name": "stdout",
     "output_type": "stream",
     "text": [
      "--------------------------------------------- Result 482 ---------------------------------------------\n",
      "[[Positive (94%)]] --> [[Negative (89%)]]\n",
      "\n",
      "[[funny]] but perilously slight . \n",
      "\n",
      "[[strange]] but perilously slight . \n",
      "\n",
      "\n"
     ]
    },
    {
     "name": "stderr",
     "output_type": "stream",
     "text": [
      "[Succeeded / Failed / Skipped / Total] 287 / 127 / 68 / 482:  97%|█████████▋| 483/500 [1:44:13<03:40, 12.95s/it]/scratch/sp6646/envs_dirs/swap_env/lib/python3.8/site-packages/textattack/loggers/csv_logger.py:41: FutureWarning: The frame.append method is deprecated and will be removed from pandas in a future version. Use pandas.concat instead.\n",
      "  self.df = self.df.append(row, ignore_index=True)\n",
      "[Succeeded / Failed / Skipped / Total] 287 / 128 / 68 / 483:  97%|█████████▋| 483/500 [1:44:13<03:40, 12.95s/it]"
     ]
    },
    {
     "name": "stdout",
     "output_type": "stream",
     "text": [
      "--------------------------------------------- Result 483 ---------------------------------------------\n",
      "[[Positive (100%)]] --> [[[FAILED]]]\n",
      "\n",
      "cq 's reflection of artists and the love of cinema-and-self suggests nothing less than a new voice that deserves to be considered as a possible successor to the best european directors . \n",
      "\n",
      "\n"
     ]
    },
    {
     "name": "stderr",
     "output_type": "stream",
     "text": [
      "[Succeeded / Failed / Skipped / Total] 287 / 128 / 68 / 483:  97%|█████████▋| 484/500 [1:44:13<03:26, 12.92s/it]/scratch/sp6646/envs_dirs/swap_env/lib/python3.8/site-packages/textattack/loggers/csv_logger.py:41: FutureWarning: The frame.append method is deprecated and will be removed from pandas in a future version. Use pandas.concat instead.\n",
      "  self.df = self.df.append(row, ignore_index=True)\n",
      "[Succeeded / Failed / Skipped / Total] 287 / 128 / 69 / 484:  97%|█████████▋| 484/500 [1:44:13<03:26, 12.92s/it]"
     ]
    },
    {
     "name": "stdout",
     "output_type": "stream",
     "text": [
      "--------------------------------------------- Result 484 ---------------------------------------------\n",
      "[[Negative (91%)]] --> [[[SKIPPED]]]\n",
      "\n",
      "even if you do n't think ( kissinger 's ) any more guilty of criminal activity than most contemporary statesmen , he 'd sure make a courtroom trial great fun to watch . \n",
      "\n",
      "\n"
     ]
    },
    {
     "name": "stderr",
     "output_type": "stream",
     "text": [
      "[Succeeded / Failed / Skipped / Total] 287 / 128 / 69 / 484:  97%|█████████▋| 485/500 [1:44:23<03:13, 12.92s/it]/scratch/sp6646/envs_dirs/swap_env/lib/python3.8/site-packages/textattack/loggers/csv_logger.py:41: FutureWarning: The frame.append method is deprecated and will be removed from pandas in a future version. Use pandas.concat instead.\n",
      "  self.df = self.df.append(row, ignore_index=True)\n",
      "[Succeeded / Failed / Skipped / Total] 288 / 128 / 69 / 485:  97%|█████████▋| 485/500 [1:44:23<03:13, 12.92s/it]"
     ]
    },
    {
     "name": "stdout",
     "output_type": "stream",
     "text": [
      "--------------------------------------------- Result 485 ---------------------------------------------\n",
      "[[Positive (57%)]] --> [[Negative (63%)]]\n",
      "\n",
      "[[dazzling]] in its complexity , disturbing for its extraordinary themes , the piano teacher is a film that defies categorisation . \n",
      "\n",
      "[[resplendent]] in its complexity , disturbing for its extraordinary themes , the piano teacher is a film that defies categorisation . \n",
      "\n",
      "\n"
     ]
    },
    {
     "name": "stderr",
     "output_type": "stream",
     "text": [
      "[Succeeded / Failed / Skipped / Total] 288 / 128 / 69 / 485:  97%|█████████▋| 486/500 [1:44:41<03:00, 12.92s/it]/scratch/sp6646/envs_dirs/swap_env/lib/python3.8/site-packages/textattack/loggers/csv_logger.py:41: FutureWarning: The frame.append method is deprecated and will be removed from pandas in a future version. Use pandas.concat instead.\n",
      "  self.df = self.df.append(row, ignore_index=True)\n",
      "[Succeeded / Failed / Skipped / Total] 289 / 128 / 69 / 486:  97%|█████████▋| 486/500 [1:44:41<03:00, 12.93s/it]"
     ]
    },
    {
     "name": "stdout",
     "output_type": "stream",
     "text": [
      "--------------------------------------------- Result 486 ---------------------------------------------\n",
      "[[Positive (100%)]] --> [[Negative (69%)]]\n",
      "\n",
      "a literate presentation that [[wonderfully]] [[weaves]] a murderous event in 1873 with murderous rage in 2002 . \n",
      "\n",
      "a literate presentation that [[terribly]] [[binds]] a murderous event in 1873 with murderous rage in 2002 . \n",
      "\n",
      "\n"
     ]
    },
    {
     "name": "stderr",
     "output_type": "stream",
     "text": [
      "[Succeeded / Failed / Skipped / Total] 289 / 128 / 69 / 486:  97%|█████████▋| 487/500 [1:45:02<02:48, 12.94s/it]/scratch/sp6646/envs_dirs/swap_env/lib/python3.8/site-packages/textattack/loggers/csv_logger.py:41: FutureWarning: The frame.append method is deprecated and will be removed from pandas in a future version. Use pandas.concat instead.\n",
      "  self.df = self.df.append(row, ignore_index=True)\n",
      "[Succeeded / Failed / Skipped / Total] 289 / 129 / 69 / 487:  97%|█████████▋| 487/500 [1:45:02<02:48, 12.94s/it]"
     ]
    },
    {
     "name": "stdout",
     "output_type": "stream",
     "text": [
      "--------------------------------------------- Result 487 ---------------------------------------------\n",
      "[[Negative (99%)]] --> [[[FAILED]]]\n",
      "\n",
      "the script is n't very good ; not even someone as gifted as hoffman ( the actor ) can make it work . \n",
      "\n",
      "\n"
     ]
    },
    {
     "name": "stderr",
     "output_type": "stream",
     "text": [
      "[Succeeded / Failed / Skipped / Total] 289 / 129 / 69 / 487:  98%|█████████▊| 488/500 [1:45:15<02:35, 12.94s/it]/scratch/sp6646/envs_dirs/swap_env/lib/python3.8/site-packages/textattack/loggers/csv_logger.py:41: FutureWarning: The frame.append method is deprecated and will be removed from pandas in a future version. Use pandas.concat instead.\n",
      "  self.df = self.df.append(row, ignore_index=True)\n",
      "[Succeeded / Failed / Skipped / Total] 290 / 129 / 69 / 488:  98%|█████████▊| 488/500 [1:45:15<02:35, 12.94s/it]"
     ]
    },
    {
     "name": "stdout",
     "output_type": "stream",
     "text": [
      "--------------------------------------------- Result 488 ---------------------------------------------\n",
      "[[Negative (99%)]] --> [[Positive (100%)]]\n",
      "\n",
      "( e ) ventually , every idea in this film is [[flushed]] down the [[latrine]] of heroism . \n",
      "\n",
      "( e ) ventually , every idea in this film is [[croix]] down the [[shower]] of heroism . \n",
      "\n",
      "\n"
     ]
    },
    {
     "name": "stderr",
     "output_type": "stream",
     "text": [
      "[Succeeded / Failed / Skipped / Total] 290 / 129 / 69 / 488:  98%|█████████▊| 489/500 [1:45:46<02:22, 12.98s/it]/scratch/sp6646/envs_dirs/swap_env/lib/python3.8/site-packages/textattack/loggers/csv_logger.py:41: FutureWarning: The frame.append method is deprecated and will be removed from pandas in a future version. Use pandas.concat instead.\n",
      "  self.df = self.df.append(row, ignore_index=True)\n",
      "[Succeeded / Failed / Skipped / Total] 290 / 130 / 69 / 489:  98%|█████████▊| 489/500 [1:45:46<02:22, 12.98s/it]"
     ]
    },
    {
     "name": "stdout",
     "output_type": "stream",
     "text": [
      "--------------------------------------------- Result 489 ---------------------------------------------\n",
      "[[Positive (100%)]] --> [[[FAILED]]]\n",
      "\n",
      "a cartoon that 's truly cinematic in scope , and a story that 's compelling and heartfelt -- even if the heart belongs to a big , four-legged herbivore . \n",
      "\n",
      "\n"
     ]
    },
    {
     "name": "stderr",
     "output_type": "stream",
     "text": [
      "[Succeeded / Failed / Skipped / Total] 290 / 130 / 69 / 489:  98%|█████████▊| 490/500 [1:45:52<02:09, 12.96s/it]/scratch/sp6646/envs_dirs/swap_env/lib/python3.8/site-packages/textattack/loggers/csv_logger.py:41: FutureWarning: The frame.append method is deprecated and will be removed from pandas in a future version. Use pandas.concat instead.\n",
      "  self.df = self.df.append(row, ignore_index=True)\n",
      "[Succeeded / Failed / Skipped / Total] 291 / 130 / 69 / 490:  98%|█████████▊| 490/500 [1:45:52<02:09, 12.96s/it]"
     ]
    },
    {
     "name": "stdout",
     "output_type": "stream",
     "text": [
      "--------------------------------------------- Result 490 ---------------------------------------------\n",
      "[[Negative (93%)]] --> [[Positive (92%)]]\n",
      "\n",
      "it 's dumb , but more importantly , it 's just not [[scary]] . \n",
      "\n",
      "it 's dumb , but more importantly , it 's just not [[dreaded]] . \n",
      "\n",
      "\n"
     ]
    },
    {
     "name": "stderr",
     "output_type": "stream",
     "text": [
      "[Succeeded / Failed / Skipped / Total] 291 / 130 / 69 / 490:  98%|█████████▊| 491/500 [1:45:54<01:56, 12.94s/it]/scratch/sp6646/envs_dirs/swap_env/lib/python3.8/site-packages/textattack/loggers/csv_logger.py:41: FutureWarning: The frame.append method is deprecated and will be removed from pandas in a future version. Use pandas.concat instead.\n",
      "  self.df = self.df.append(row, ignore_index=True)\n",
      "[Succeeded / Failed / Skipped / Total] 292 / 130 / 69 / 491:  98%|█████████▊| 491/500 [1:45:54<01:56, 12.94s/it]/scratch/sp6646/envs_dirs/swap_env/lib/python3.8/site-packages/textattack/loggers/csv_logger.py:41: FutureWarning: The frame.append method is deprecated and will be removed from pandas in a future version. Use pandas.concat instead.\n",
      "  self.df = self.df.append(row, ignore_index=True)\n",
      "[Succeeded / Failed / Skipped / Total] 292 / 130 / 70 / 492:  98%|█████████▊| 492/500 [1:45:54<01:43, 12.92s/it]"
     ]
    },
    {
     "name": "stdout",
     "output_type": "stream",
     "text": [
      "--------------------------------------------- Result 491 ---------------------------------------------\n",
      "[[Negative (100%)]] --> [[Positive (99%)]]\n",
      "\n",
      "detox is ultimately a [[pointless]] endeavor . \n",
      "\n",
      "detox is ultimately a [[inefficient]] endeavor . \n",
      "\n",
      "\n",
      "--------------------------------------------- Result 492 ---------------------------------------------\n",
      "[[Positive (61%)]] --> [[[SKIPPED]]]\n",
      "\n",
      "as a rumor of angels reveals itself to be a sudsy tub of supernatural hokum , not even ms. redgrave 's noblest efforts can redeem it from hopeless sentimentality . \n",
      "\n",
      "\n"
     ]
    },
    {
     "name": "stderr",
     "output_type": "stream",
     "text": [
      "[Succeeded / Failed / Skipped / Total] 292 / 130 / 70 / 492:  99%|█████████▊| 493/500 [1:46:01<01:30, 12.90s/it]/scratch/sp6646/envs_dirs/swap_env/lib/python3.8/site-packages/textattack/loggers/csv_logger.py:41: FutureWarning: The frame.append method is deprecated and will be removed from pandas in a future version. Use pandas.concat instead.\n",
      "  self.df = self.df.append(row, ignore_index=True)\n",
      "[Succeeded / Failed / Skipped / Total] 292 / 131 / 70 / 493:  99%|█████████▊| 493/500 [1:46:01<01:30, 12.90s/it]"
     ]
    },
    {
     "name": "stdout",
     "output_type": "stream",
     "text": [
      "--------------------------------------------- Result 493 ---------------------------------------------\n",
      "[[Positive (100%)]] --> [[[FAILED]]]\n",
      "\n",
      "an exquisitely crafted and acted tale . \n",
      "\n",
      "\n"
     ]
    },
    {
     "name": "stderr",
     "output_type": "stream",
     "text": [
      "/scratch/sp6646/envs_dirs/swap_env/lib/python3.8/site-packages/textattack/loggers/csv_logger.py:41: FutureWarning: The frame.append method is deprecated and will be removed from pandas in a future version. Use pandas.concat instead.\n",
      "  self.df = self.df.append(row, ignore_index=True)\n",
      "\r",
      "[Succeeded / Failed / Skipped / Total] 293 / 131 / 70 / 494:  99%|█████████▉| 494/500 [1:46:05<01:17, 12.89s/it]"
     ]
    },
    {
     "name": "stdout",
     "output_type": "stream",
     "text": [
      "--------------------------------------------- Result 494 ---------------------------------------------\n",
      "[[Negative (100%)]] --> [[Positive (100%)]]\n",
      "\n",
      "this is so [[bad]] . \n",
      "\n",
      "this is so [[wicked]] . \n",
      "\n",
      "\n"
     ]
    },
    {
     "name": "stderr",
     "output_type": "stream",
     "text": [
      "[Succeeded / Failed / Skipped / Total] 293 / 131 / 70 / 494:  99%|█████████▉| 495/500 [1:46:05<01:04, 12.86s/it]/scratch/sp6646/envs_dirs/swap_env/lib/python3.8/site-packages/textattack/loggers/csv_logger.py:41: FutureWarning: The frame.append method is deprecated and will be removed from pandas in a future version. Use pandas.concat instead.\n",
      "  self.df = self.df.append(row, ignore_index=True)\n",
      "[Succeeded / Failed / Skipped / Total] 293 / 131 / 71 / 495:  99%|█████████▉| 495/500 [1:46:05<01:04, 12.86s/it]"
     ]
    },
    {
     "name": "stdout",
     "output_type": "stream",
     "text": [
      "--------------------------------------------- Result 495 ---------------------------------------------\n",
      "[[Positive (90%)]] --> [[[SKIPPED]]]\n",
      "\n",
      "it showcases carvey 's talent for voices , but not nearly enough and not without taxing every drop of one 's patience to get to the good stuff . \n",
      "\n",
      "\n"
     ]
    },
    {
     "name": "stderr",
     "output_type": "stream",
     "text": [
      "/scratch/sp6646/envs_dirs/swap_env/lib/python3.8/site-packages/textattack/loggers/csv_logger.py:41: FutureWarning: The frame.append method is deprecated and will be removed from pandas in a future version. Use pandas.concat instead.\n",
      "  self.df = self.df.append(row, ignore_index=True)\n",
      "\r",
      "[Succeeded / Failed / Skipped / Total] 294 / 131 / 71 / 496:  99%|█████████▉| 496/500 [1:46:08<00:51, 12.84s/it]"
     ]
    },
    {
     "name": "stdout",
     "output_type": "stream",
     "text": [
      "--------------------------------------------- Result 496 ---------------------------------------------\n",
      "[[Positive (57%)]] --> [[Negative (58%)]]\n",
      "\n",
      "light [[years]] / several warp speeds / levels and levels of dilithium crystals better than the pitiful insurrection . \n",
      "\n",
      "light [[year]] / several warp speeds / levels and levels of dilithium crystals better than the pitiful insurrection . \n",
      "\n",
      "\n"
     ]
    },
    {
     "name": "stderr",
     "output_type": "stream",
     "text": [
      "[Succeeded / Failed / Skipped / Total] 294 / 131 / 71 / 496:  99%|█████████▉| 497/500 [1:46:09<00:38, 12.81s/it]/scratch/sp6646/envs_dirs/swap_env/lib/python3.8/site-packages/textattack/loggers/csv_logger.py:41: FutureWarning: The frame.append method is deprecated and will be removed from pandas in a future version. Use pandas.concat instead.\n",
      "  self.df = self.df.append(row, ignore_index=True)\n",
      "[Succeeded / Failed / Skipped / Total] 294 / 131 / 72 / 497:  99%|█████████▉| 497/500 [1:46:09<00:38, 12.82s/it]"
     ]
    },
    {
     "name": "stdout",
     "output_type": "stream",
     "text": [
      "--------------------------------------------- Result 497 ---------------------------------------------\n",
      "[[Negative (92%)]] --> [[[SKIPPED]]]\n",
      "\n",
      "it 's about following your dreams , no matter what your parents think . \n",
      "\n",
      "\n"
     ]
    },
    {
     "name": "stderr",
     "output_type": "stream",
     "text": [
      "/scratch/sp6646/envs_dirs/swap_env/lib/python3.8/site-packages/textattack/loggers/csv_logger.py:41: FutureWarning: The frame.append method is deprecated and will be removed from pandas in a future version. Use pandas.concat instead.\n",
      "  self.df = self.df.append(row, ignore_index=True)\n",
      "\r",
      "[Succeeded / Failed / Skipped / Total] 295 / 131 / 72 / 498: 100%|█████████▉| 498/500 [1:46:20<00:25, 12.81s/it]"
     ]
    },
    {
     "name": "stdout",
     "output_type": "stream",
     "text": [
      "--------------------------------------------- Result 498 ---------------------------------------------\n",
      "[[Negative (94%)]] --> [[Positive (53%)]]\n",
      "\n",
      "the overall [[effect]] is [[less]] like a children 's movie than a recruitment film for future hollywood sellouts . \n",
      "\n",
      "the overall [[affecting]] is [[minder]] like a children 's movie than a recruitment film for future hollywood sellouts . \n",
      "\n",
      "\n"
     ]
    },
    {
     "name": "stderr",
     "output_type": "stream",
     "text": [
      "[Succeeded / Failed / Skipped / Total] 295 / 131 / 72 / 498: 100%|█████████▉| 499/500 [1:46:29<00:12, 12.80s/it]/scratch/sp6646/envs_dirs/swap_env/lib/python3.8/site-packages/textattack/loggers/csv_logger.py:41: FutureWarning: The frame.append method is deprecated and will be removed from pandas in a future version. Use pandas.concat instead.\n",
      "  self.df = self.df.append(row, ignore_index=True)\n",
      "[Succeeded / Failed / Skipped / Total] 296 / 131 / 72 / 499: 100%|█████████▉| 499/500 [1:46:29<00:12, 12.80s/it]"
     ]
    },
    {
     "name": "stdout",
     "output_type": "stream",
     "text": [
      "--------------------------------------------- Result 499 ---------------------------------------------\n",
      "[[Positive (100%)]] --> [[Negative (95%)]]\n",
      "\n",
      "[[anchored]] by friel and williams 's [[exceptional]] performances , the film 's power lies in its complexity . \n",
      "\n",
      "[[pinned]] by friel and williams 's [[unpaid]] performances , the film 's power lies in its complexity . \n",
      "\n",
      "\n"
     ]
    },
    {
     "name": "stderr",
     "output_type": "stream",
     "text": [
      "[Succeeded / Failed / Skipped / Total] 296 / 131 / 72 / 499: 100%|██████████| 500/500 [1:46:53<00:00, 12.83s/it]/scratch/sp6646/envs_dirs/swap_env/lib/python3.8/site-packages/textattack/loggers/csv_logger.py:41: FutureWarning: The frame.append method is deprecated and will be removed from pandas in a future version. Use pandas.concat instead.\n",
      "  self.df = self.df.append(row, ignore_index=True)\n",
      "[Succeeded / Failed / Skipped / Total] 297 / 131 / 72 / 500: 100%|██████████| 500/500 [1:46:53<00:00, 12.83s/it]"
     ]
    },
    {
     "name": "stdout",
     "output_type": "stream",
     "text": [
      "--------------------------------------------- Result 500 ---------------------------------------------\n",
      "[[Positive (100%)]] --> [[Negative (91%)]]\n",
      "\n",
      "unlike the [[speedy]] wham-bam effect of most hollywood offerings , character development -- and more importantly , character empathy -- is at the [[heart]] of italian for beginners . \n",
      "\n",
      "unlike the [[hurry]] wham-bam effect of most hollywood offerings , character development -- and more importantly , character empathy -- is at the [[cardiology]] of italian for beginners . \n",
      "\n",
      "\n",
      "\n",
      "+-------------------------------+--------+\n",
      "| Attack Results                |        |\n",
      "+-------------------------------+--------+\n",
      "| Number of successful attacks: | 297    |\n",
      "| Number of failed attacks:     | 131    |\n",
      "| Number of skipped attacks:    | 72     |\n",
      "| Original accuracy:            | 85.6%  |\n",
      "| Accuracy under attack:        | 26.2%  |\n",
      "| Attack success rate:          | 69.39% |\n",
      "| Average perturbed word %:     | 13.64% |\n",
      "| Average num. words per input: | 17.5   |\n",
      "| Avg num queries:              | 65.26  |\n",
      "+-------------------------------+--------+\n"
     ]
    },
    {
     "name": "stderr",
     "output_type": "stream",
     "text": [
      "\n"
     ]
    }
   ],
   "source": [
    "dataset = HuggingFaceDataset(\"glue\", \"sst2\", \"validation\")\n",
    "attack = TextFoolerJin2019.build(model_wrapper)\n",
    "# attack = DeepWordBugGao2018.build(model_wrapper)\n",
    "\n",
    "attack_args = textattack.AttackArgs(\n",
    "    num_examples=500,\n",
    "    random_seed = 42,\n",
    "    query_budget = 80,\n",
    "    log_to_csv =\"main_textfooler_attacks.csv\"\n",
    ")\n",
    "attacker = Attacker(attack, dataset,attack_args)\n",
    "res_main = attacker.attack_dataset()"
   ]
  },
  {
   "cell_type": "code",
   "execution_count": 33,
   "metadata": {},
   "outputs": [
    {
     "data": {
      "text/plain": [
       "[<textattack.attack_results.failed_attack_result.FailedAttackResult at 0x14de0cdbedf0>,\n",
       " <textattack.attack_results.successful_attack_result.SuccessfulAttackResult at 0x14de29d85a90>,\n",
       " <textattack.attack_results.failed_attack_result.FailedAttackResult at 0x14de29d857c0>,\n",
       " <textattack.attack_results.failed_attack_result.FailedAttackResult at 0x14de29d85fa0>,\n",
       " <textattack.attack_results.successful_attack_result.SuccessfulAttackResult at 0x14de2aad3ca0>,\n",
       " <textattack.attack_results.failed_attack_result.FailedAttackResult at 0x14de2a87e580>,\n",
       " <textattack.attack_results.successful_attack_result.SuccessfulAttackResult at 0x14de29d85ee0>,\n",
       " <textattack.attack_results.successful_attack_result.SuccessfulAttackResult at 0x14de2a87e670>,\n",
       " <textattack.attack_results.successful_attack_result.SuccessfulAttackResult at 0x14de2a2ba6a0>,\n",
       " <textattack.attack_results.successful_attack_result.SuccessfulAttackResult at 0x14de2a2ba340>]"
      ]
     },
     "execution_count": 33,
     "metadata": {},
     "output_type": "execute_result"
    }
   ],
   "source": [
    "res"
   ]
  },
  {
   "cell_type": "code",
   "execution_count": 34,
   "metadata": {},
   "outputs": [
    {
     "data": {
      "text/plain": [
       "('unflinchingly bleak and desperate ', 'unflinchingly Vleak and Mdesperate ')"
      ]
     },
     "execution_count": 34,
     "metadata": {},
     "output_type": "execute_result"
    }
   ],
   "source": [
    "res[1].original_text() , res[1].perturbed_text()"
   ]
  },
  {
   "cell_type": "code",
   "execution_count": 40,
   "metadata": {
    "scrolled": true
   },
   "outputs": [
    {
     "data": {
      "text/plain": [
       "<textattack.attack_results.successful_attack_result.SuccessfulAttackResult at 0x14de2ac99d60>"
      ]
     },
     "execution_count": 40,
     "metadata": {},
     "output_type": "execute_result"
    }
   ],
   "source": [
    "attack.attack(\"unflinchingly Vleak and Mdesperate \", 1)"
   ]
  },
  {
   "cell_type": "code",
   "execution_count": null,
   "metadata": {},
   "outputs": [],
   "source": []
  },
  {
   "cell_type": "code",
   "execution_count": 3,
   "metadata": {},
   "outputs": [
    {
     "name": "stderr",
     "output_type": "stream",
     "text": [
      "Reusing dataset glue (/home/sp6646/.cache/huggingface/datasets/glue/sst2/1.0.0/dacbe3125aa31d7f70367a07a8a9e72a5a0bfeb5fc42e75c9db75b96da6053ad)\n"
     ]
    },
    {
     "data": {
      "application/vnd.jupyter.widget-view+json": {
       "model_id": "124701e8ca87451bb321397c77f80ace",
       "version_major": 2,
       "version_minor": 0
      },
      "text/plain": [
       "  0%|          | 0/3 [00:00<?, ?it/s]"
      ]
     },
     "metadata": {},
     "output_type": "display_data"
    },
    {
     "name": "stderr",
     "output_type": "stream",
     "text": [
      "textattack: Loading \u001b[94mdatasets\u001b[0m dataset \u001b[94mglue\u001b[0m, subset \u001b[94msst2\u001b[0m, split \u001b[94mvalidation\u001b[0m.\n",
      "textattack: Unknown if model of class <class 'allennlp.models.basic_classifier.BasicClassifier'> compatible with goal function <class 'textattack.goal_functions.classification.untargeted_classification.UntargetedClassification'>.\n",
      "textattack: Unknown if model of class <class 'allennlp.models.basic_classifier.BasicClassifier'> compatible with goal function <class 'textattack.goal_functions.classification.untargeted_classification.UntargetedClassification'>.\n"
     ]
    }
   ],
   "source": [
    "dataset = HuggingFaceDataset(\"glue\", \"sst2\", \"validation\")\n",
    "attack = TextFoolerJin2019.build(model_wrapper)\n",
    "attack_comp = TextFoolerJin2019.build(model_wrapper_compressed)"
   ]
  },
  {
   "cell_type": "code",
   "execution_count": 4,
   "metadata": {},
   "outputs": [],
   "source": [
    "import pandas as pd\n",
    "main_df = pd.read_csv('main_textfooler_attacks.csv')\n",
    "quant_df = pd.read_csv('quantized_textfooler_attacks.csv')"
   ]
  },
  {
   "cell_type": "code",
   "execution_count": null,
   "metadata": {},
   "outputs": [],
   "source": [
    "quant_df"
   ]
  },
  {
   "cell_type": "code",
   "execution_count": 7,
   "metadata": {},
   "outputs": [],
   "source": [
    "main_atts = [x for x in main_df['perturbed_text'].tolist()[:100]]\n",
    "quant_atts = [x for x in quant_df['perturbed_text'].tolist()[:100]]\n",
    "labs = [x for x in main_df['ground_truth_output'].tolist()[:100]]"
   ]
  },
  {
   "cell_type": "code",
   "execution_count": 8,
   "metadata": {
    "scrolled": false
   },
   "outputs": [
    {
     "name": "stderr",
     "output_type": "stream",
     "text": [
      "2022-05-15 05:05:18.809565: I tensorflow/stream_executor/platform/default/dso_loader.cc:53] Successfully opened dynamic library libcuda.so.1\n",
      "2022-05-15 05:05:18.847061: E tensorflow/stream_executor/cuda/cuda_driver.cc:328] failed call to cuInit: CUDA_ERROR_NO_DEVICE: no CUDA-capable device is detected\n",
      "2022-05-15 05:05:18.847103: I tensorflow/stream_executor/cuda/cuda_diagnostics.cc:169] retrieving CUDA diagnostic information for host: gv015.hpc.nyu.edu\n",
      "2022-05-15 05:05:18.847112: I tensorflow/stream_executor/cuda/cuda_diagnostics.cc:176] hostname: gv015.hpc.nyu.edu\n",
      "2022-05-15 05:05:18.847302: I tensorflow/stream_executor/cuda/cuda_diagnostics.cc:200] libcuda reported version is: Invalid argument: expected %d.%d, %d.%d.%d, or %d.%d.%d.%d form for driver version; got \"1\"\n",
      "2022-05-15 05:05:18.847333: I tensorflow/stream_executor/cuda/cuda_diagnostics.cc:204] kernel reported version is: 470.57.2\n",
      "2022-05-15 05:05:18.847749: I tensorflow/core/platform/cpu_feature_guard.cc:142] This TensorFlow binary is optimized with oneAPI Deep Neural Network Library (oneDNN) to use the following CPU instructions in performance-critical operations:  AVX2 AVX512F FMA\n",
      "To enable them in other operations, rebuild TensorFlow with the appropriate compiler flags.\n",
      "2022-05-15 05:05:20.712957: I tensorflow/compiler/mlir/mlir_graph_optimization_pass.cc:176] None of the MLIR Optimization Passes are enabled (registered 2)\n",
      "2022-05-15 05:05:20.982487: I tensorflow/core/platform/profile_utils/cpu_utils.cc:114] CPU Frequency: 2400000000 Hz\n"
     ]
    }
   ],
   "source": [
    "res = []\n",
    "for i,x in enumerate(main_atts):\n",
    "    res.append(attack_comp.attack(x, int(labs[i])))"
   ]
  },
  {
   "cell_type": "code",
   "execution_count": 9,
   "metadata": {},
   "outputs": [],
   "source": [
    "res_q = []\n",
    "for i,x in enumerate(quant_atts):\n",
    "    res_q.append(attack.attack(x, int(labs[i])))"
   ]
  },
  {
   "cell_type": "code",
   "execution_count": null,
   "metadata": {},
   "outputs": [],
   "source": []
  },
  {
   "cell_type": "code",
   "execution_count": null,
   "metadata": {},
   "outputs": [],
   "source": []
  },
  {
   "cell_type": "code",
   "execution_count": null,
   "metadata": {},
   "outputs": [],
   "source": []
  },
  {
   "cell_type": "code",
   "execution_count": null,
   "metadata": {},
   "outputs": [],
   "source": []
  }
 ],
 "metadata": {
  "kernelspec": {
   "display_name": "swapenv",
   "language": "python",
   "name": "swap_env"
  },
  "language_info": {
   "codemirror_mode": {
    "name": "ipython",
    "version": 3
   },
   "file_extension": ".py",
   "mimetype": "text/x-python",
   "name": "python",
   "nbconvert_exporter": "python",
   "pygments_lexer": "ipython3",
   "version": "3.8.13"
  }
 },
 "nbformat": 4,
 "nbformat_minor": 4
}
