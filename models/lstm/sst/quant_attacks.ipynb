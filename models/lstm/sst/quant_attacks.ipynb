{
 "cells": [
  {
   "cell_type": "code",
   "execution_count": null,
   "metadata": {},
   "outputs": [],
   "source": [
    "import os\n",
    "# os.environ[\"CUDA_VISIBLE_DEVICES\"]=\"\"\n",
    "from textattack.datasets import HuggingFaceDataset\n",
    "from textattack.attack_recipes import TextFoolerJin2019\n",
    "from textattack.attacker import Attacker"
   ]
  },
  {
   "cell_type": "code",
   "execution_count": null,
   "metadata": {},
   "outputs": [],
   "source": [
    "from allennlp.predictors import Predictor\n",
    "import allennlp_models.classification\n",
    "import torch.nn as nn\n",
    "import textattack\n",
    "import torch\n",
    "\n",
    "class AllenNLPModel(textattack.models.wrappers.ModelWrapper):\n",
    "    def __init__(self):\n",
    "        self.predictor = Predictor.from_path(\"https://storage.googleapis.com/allennlp-public-models/sst-2-basic-classifier-glove-2019.06.27.tar.gz\")\n",
    "        self.model = self.predictor._model\n",
    "        self.tokenizer = self.predictor._dataset_reader._tokenizer\n",
    "\n",
    "    def __call__(self, text_input_list):\n",
    "        outputs = []\n",
    "        for text_input in text_input_list:\n",
    "            outputs.append(self.predictor.predict(sentence=text_input))\n",
    "        # For each output, outputs['logits'] contains the logits where\n",
    "        # index 0 corresponds to the positive and index 1 corresponds\n",
    "        # to the negative score. We reverse the outputs (by reverse slicing,\n",
    "        # [::-1]) so that negative comes first and positive comes second.\n",
    "        return [output['logits'][::-1] for output in outputs]\n",
    "\n",
    "class AllenNLPModelCompressed(textattack.models.wrappers.ModelWrapper):\n",
    "    def __init__(self):\n",
    "        self.predictor = Predictor.from_path(\"https://storage.googleapis.com/allennlp-public-models/sst-2-basic-classifier-glove-2019.06.27.tar.gz\")\n",
    "        model = self.predictor._model\n",
    "        model.cpu()\n",
    "        quantized_model = torch.quantization.quantize_dynamic(\n",
    "            model,{nn.Linear,nn.LSTM}, dtype=torch.qint8\n",
    "        )\n",
    "        self.predictor._model = quantized_model\n",
    "        self.model = self.predictor._model\n",
    "        self.tokenizer = self.predictor._dataset_reader._tokenizer\n",
    "\n",
    "    def __call__(self, text_input_list):\n",
    "        outputs = []\n",
    "        for text_input in text_input_list:\n",
    "            outputs.append(self.predictor.predict(sentence=text_input))\n",
    "        # For each output, outputs['logits'] contains the logits where\n",
    "        # index 0 corresponds to the positive and index 1 corresponds\n",
    "        # to the negative score. We reverse the outputs (by reverse slicing,\n",
    "        # [::-1]) so that negative comes first and positive comes second.\n",
    "        return [output['logits'][::-1] for output in outputs]\n",
    "model_wrapper = AllenNLPModel()\n",
    "model_wrapper_compressed = AllenNLPModelCompressed()"
   ]
  },
  {
   "cell_type": "code",
   "execution_count": null,
   "metadata": {},
   "outputs": [],
   "source": [
    "dataset = HuggingFaceDataset(\"glue\", \"sst2\", \"validation\")\n",
    "attack = TextFoolerJin2019.build(model_wrapper_compressed)\n",
    "\n",
    "attack_args = textattack.AttackArgs(\n",
    "    num_examples=500,\n",
    "    random_seed = 42,\n",
    "    query_budget = 80,\n",
    "    csv_coloring_style ='plain',\n",
    "    log_to_csv =\"quantized_textfooler_attacks.csv\"\n",
    ")\n",
    "attacker = Attacker(attack, dataset,attack_args)\n",
    "res_quant = attacker.attack_dataset()"
   ]
  },
  {
   "cell_type": "code",
   "execution_count": null,
   "metadata": {},
   "outputs": [],
   "source": [
    "dataset = HuggingFaceDataset(\"glue\", \"sst2\", \"validation\")\n",
    "attack = TextFoolerJin2019.build(model_wrapper)\n",
    "\n",
    "attack_args = textattack.AttackArgs(\n",
    "    num_examples=500,\n",
    "    random_seed = 42,\n",
    "    query_budget = 80,\n",
    "    csv_coloring_style ='plain',\n",
    "    log_to_csv =\"main_textfooler_attacks.csv\"\n",
    ")\n",
    "attacker = Attacker(attack, dataset,attack_args)\n",
    "res_main = attacker.attack_dataset()"
   ]
  },
  {
   "cell_type": "code",
   "execution_count": null,
   "metadata": {},
   "outputs": [],
   "source": []
  },
  {
   "cell_type": "code",
   "execution_count": null,
   "metadata": {},
   "outputs": [],
   "source": [
    "dataset = HuggingFaceDataset(\"glue\", \"sst2\", \"validation\")\n",
    "attack = TextFoolerJin2019.build(model_wrapper)\n",
    "attack_comp = TextFoolerJin2019.build(model_wrapper_compressed)"
   ]
  },
  {
   "cell_type": "code",
   "execution_count": null,
   "metadata": {},
   "outputs": [],
   "source": [
    "import pandas as pd\n",
    "from sklearn.metrics import accuracy_score\n",
    "main_df = pd.read_csv('main_textfooler_attacks.csv')\n",
    "quant_df = pd.read_csv('quantized_textfooler_attacks.csv')"
   ]
  },
  {
   "cell_type": "code",
   "execution_count": null,
   "metadata": {},
   "outputs": [],
   "source": []
  },
  {
   "cell_type": "code",
   "execution_count": null,
   "metadata": {},
   "outputs": [],
   "source": [
    "accuracy_score(quant_df['original_output'], quant_df['ground_truth_output'] ),accuracy_score(quant_df['perturbed_output'], quant_df['ground_truth_output'] ), "
   ]
  },
  {
   "cell_type": "code",
   "execution_count": null,
   "metadata": {},
   "outputs": [],
   "source": [
    "accuracy_score(main_df['original_output'], main_df['ground_truth_output'] ),accuracy_score(main_df['perturbed_output'], main_df['ground_truth_output'] ), "
   ]
  },
  {
   "cell_type": "code",
   "execution_count": null,
   "metadata": {},
   "outputs": [],
   "source": [
    "main_atts = [x for x in main_df['perturbed_text'].tolist()[:100]]\n",
    "quant_atts = [x for x in quant_df['perturbed_text'].tolist()[:100]]\n",
    "labs = [x for x in main_df['ground_truth_output'].tolist()[:100]]"
   ]
  },
  {
   "cell_type": "code",
   "execution_count": null,
   "metadata": {},
   "outputs": [],
   "source": [
    "res = []\n",
    "for i,x in enumerate(main_atts):\n",
    "    res.append(attack_comp.attack(x, int(labs[i])))"
   ]
  },
  {
   "cell_type": "code",
   "execution_count": null,
   "metadata": {},
   "outputs": [],
   "source": [
    "c = 0\n",
    "for x in range(len(res)):\n",
    "    if 'FAILED' in res[x].goal_function_result_str() or 'SKIPPED' in res[x].goal_function_result_str():\n",
    "        c+=1\n",
    "print(100 - c)"
   ]
  },
  {
   "cell_type": "code",
   "execution_count": null,
   "metadata": {},
   "outputs": [],
   "source": [
    "res_q = []\n",
    "for i,x in enumerate(quant_atts):\n",
    "    res_q.append(attack.attack(x, int(labs[i])))"
   ]
  },
  {
   "cell_type": "code",
   "execution_count": null,
   "metadata": {},
   "outputs": [],
   "source": [
    "c = 0\n",
    "for x in range(len(res_q)):\n",
    "    if 'FAILED' in res_q[x].goal_function_result_str() or 'SKIPPED' in res_q[x].goal_function_result_str():\n",
    "        c+=1\n",
    "print(100 - c)"
   ]
  },
  {
   "cell_type": "code",
   "execution_count": null,
   "metadata": {},
   "outputs": [],
   "source": []
  }
 ],
 "metadata": {
  "kernelspec": {
   "display_name": "swapenv",
   "language": "python",
   "name": "swap_env"
  },
  "language_info": {
   "codemirror_mode": {
    "name": "ipython",
    "version": 3
   },
   "file_extension": ".py",
   "mimetype": "text/x-python",
   "name": "python",
   "nbconvert_exporter": "python",
   "pygments_lexer": "ipython3",
   "version": "3.8.13"
  }
 },
 "nbformat": 4,
 "nbformat_minor": 4
}
